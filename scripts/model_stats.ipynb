{
 "cells": [
  {
   "cell_type": "code",
   "execution_count": 15,
   "metadata": {},
   "outputs": [
    {
     "name": "stdout",
     "output_type": "stream",
     "text": [
      "state training gflops per epoch: 0.0295628096e6\n",
      "state training gflops: 2.95628096e6\n",
      "state training gflops per epoch: 0.0221721072e6\n",
      "state training gflops: 2.2172107199999997e6\n",
      "\n",
      "vision training gflops per epoch: 0.0954860352e6\n",
      "vision training gflops: 9.54860352e6\n",
      "vision training gflops per epoch: 0.0716145264e6\n",
      "vision training gflops: 7.161452639999999e6\n"
     ]
    }
   ],
   "source": [
    "import math\n",
    "'''\n",
    "\n",
    "model GFLOPs · batch size · training steps · 4 for\n",
    "training compute where, different from DiT, we have constant 4 because for each iteration we have 2 forward pass and 1\n",
    "backward pass, which is estimated as twice the forward compute.\n",
    "'''\n",
    "\n",
    "\n",
    "datapoints = 24208\n",
    "\n",
    "epochs = 100\n",
    "\n",
    "### IMM State\n",
    "state_gmacs = 0.3053\n",
    "print(f'state training gflops per epoch: {state_gmacs * datapoints * 4 / 1e6}e6')\n",
    "print(f'state training gflops: {state_gmacs * datapoints * epochs * 4 / 1e6}e6')\n",
    "\n",
    "# stock state\n",
    "print(f'state training gflops per epoch: {state_gmacs * datapoints * 3 / 1e6}e6')\n",
    "print(f'state training gflops: {state_gmacs * datapoints * epochs * 3 / 1e6}e6')\n",
    "print()\n",
    "### IMM Vision\n",
    "vision_gmacs = 0.9861\n",
    "print(f'vision training gflops per epoch: {vision_gmacs * datapoints * 4 / 1e6}e6')\n",
    "print(f'vision training gflops: {vision_gmacs * datapoints * epochs * 4 / 1e6}e6')\n",
    "\n",
    "# stock vision\n",
    "print(f'vision training gflops per epoch: {vision_gmacs * datapoints * 3 / 1e6}e6')\n",
    "print(f'vision training gflops: {vision_gmacs * datapoints * epochs * 3 / 1e6}e6')\n"
   ]
  },
  {
   "cell_type": "code",
   "execution_count": null,
   "metadata": {},
   "outputs": [],
   "source": []
  }
 ],
 "metadata": {
  "kernelspec": {
   "display_name": ".venv",
   "language": "python",
   "name": "python3"
  },
  "language_info": {
   "codemirror_mode": {
    "name": "ipython",
    "version": 3
   },
   "file_extension": ".py",
   "mimetype": "text/x-python",
   "name": "python",
   "nbconvert_exporter": "python",
   "pygments_lexer": "ipython3",
   "version": "3.10.12"
  }
 },
 "nbformat": 4,
 "nbformat_minor": 2
}
