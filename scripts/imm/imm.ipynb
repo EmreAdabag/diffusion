{
  "cells": [
    {
      "cell_type": "code",
      "execution_count": 1,
      "metadata": {
        "colab": {
          "base_uri": "https://localhost:8080/"
        },
        "id": "2QwO2gAgiJS2",
        "outputId": "acec0463-c03f-4359-9680-6ebbc99e4267"
      },
      "outputs": [
        {
          "name": "stdout",
          "output_type": "stream",
          "text": [
            "Python 3.10.12\n",
            "Collecting torch\n",
            "  Downloading torch-2.6.0-cp310-cp310-manylinux1_x86_64.whl (766.7 MB)\n",
            "\u001b[2K     \u001b[90m━━━━━━━━━━━━━━━━━━━━━━━━━━━━━━━━━━━━━━\u001b[0m \u001b[32m766.7/766.7 MB\u001b[0m \u001b[31m10.7 MB/s\u001b[0m eta \u001b[36m0:00:00\u001b[0m00:01\u001b[0m00:01\u001b[0m\n",
            "\u001b[?25hCollecting torchvision\n",
            "  Downloading torchvision-0.21.0-cp310-cp310-manylinux1_x86_64.whl (7.2 MB)\n",
            "\u001b[2K     \u001b[90m━━━━━━━━━━━━━━━━━━━━━━━━━━━━━━━━━━━━━━━━\u001b[0m \u001b[32m7.2/7.2 MB\u001b[0m \u001b[31m65.1 MB/s\u001b[0m eta \u001b[36m0:00:00\u001b[0m00:01\u001b[0m00:01\u001b[0m\n",
            "\u001b[?25hCollecting diffusers\n",
            "  Downloading diffusers-0.33.1-py3-none-any.whl (3.6 MB)\n",
            "\u001b[2K     \u001b[90m━━━━━━━━━━━━━━━━━━━━━━━━━━━━━━━━━━━━━━━━\u001b[0m \u001b[32m3.6/3.6 MB\u001b[0m \u001b[31m90.9 MB/s\u001b[0m eta \u001b[36m0:00:00\u001b[0m:00:01\u001b[0m\n",
            "\u001b[?25hCollecting scikit-image\n",
            "  Downloading scikit_image-0.25.2-cp310-cp310-manylinux_2_17_x86_64.manylinux2014_x86_64.whl (14.8 MB)\n",
            "\u001b[2K     \u001b[90m━━━━━━━━━━━━━━━━━━━━━━━━━━━━━━━━━━━━━━━━\u001b[0m \u001b[32m14.8/14.8 MB\u001b[0m \u001b[31m84.5 MB/s\u001b[0m eta \u001b[36m0:00:00\u001b[0m00:01\u001b[0m00:01\u001b[0m\n",
            "\u001b[?25hCollecting scikit-video\n",
            "  Downloading scikit_video-1.1.11-py2.py3-none-any.whl (2.3 MB)\n",
            "\u001b[2K     \u001b[90m━━━━━━━━━━━━━━━━━━━━━━━━━━━━━━━━━━━━━━━━\u001b[0m \u001b[32m2.3/2.3 MB\u001b[0m \u001b[31m77.8 MB/s\u001b[0m eta \u001b[36m0:00:00\u001b[0m\n",
            "\u001b[?25hCollecting zarr\n",
            "  Downloading zarr-2.18.3-py3-none-any.whl (210 kB)\n",
            "\u001b[2K     \u001b[90m━━━━━━━━━━━━━━━━━━━━━━━━━━━━━━━━━━━━━━\u001b[0m \u001b[32m210.7/210.7 KB\u001b[0m \u001b[31m31.7 MB/s\u001b[0m eta \u001b[36m0:00:00\u001b[0m\n",
            "\u001b[?25hCollecting numcodecs\n",
            "  Downloading numcodecs-0.13.1-cp310-cp310-manylinux_2_17_x86_64.manylinux2014_x86_64.whl (8.6 MB)\n",
            "\u001b[2K     \u001b[90m━━━━━━━━━━━━━━━━━━━━━━━━━━━━━━━━━━━━━━━━\u001b[0m \u001b[32m8.6/8.6 MB\u001b[0m \u001b[31m89.7 MB/s\u001b[0m eta \u001b[36m0:00:00\u001b[0mta \u001b[36m0:00:01\u001b[0m\n",
            "\u001b[?25hCollecting pygame\n",
            "  Downloading pygame-2.6.1-cp310-cp310-manylinux_2_17_x86_64.manylinux2014_x86_64.whl (14.0 MB)\n",
            "\u001b[2K     \u001b[90m━━━━━━━━━━━━━━━━━━━━━━━━━━━━━━━━━━━━━━━━\u001b[0m \u001b[32m14.0/14.0 MB\u001b[0m \u001b[31m83.3 MB/s\u001b[0m eta \u001b[36m0:00:00\u001b[0m00:01\u001b[0m00:01\u001b[0m\n",
            "\u001b[?25hCollecting pymunk\n",
            "  Downloading pymunk-6.11.1-cp310-cp310-manylinux_2_17_x86_64.manylinux2014_x86_64.whl (1.1 MB)\n",
            "\u001b[2K     \u001b[90m━━━━━━━━━━━━━━━━━━━━━━━━━━━━━━━━━━━━━━━━\u001b[0m \u001b[32m1.1/1.1 MB\u001b[0m \u001b[31m44.3 MB/s\u001b[0m eta \u001b[36m0:00:00\u001b[0m\n",
            "\u001b[?25hCollecting gym\n",
            "  Downloading gym-0.26.2.tar.gz (721 kB)\n",
            "\u001b[2K     \u001b[90m━━━━━━━━━━━━━━━━━━━━━━━━━━━━━━━━━━━━━━\u001b[0m \u001b[32m721.7/721.7 KB\u001b[0m \u001b[31m68.4 MB/s\u001b[0m eta \u001b[36m0:00:00\u001b[0m\n",
            "\u001b[?25h  Installing build dependencies ... \u001b[?25ldone\n",
            "\u001b[?25h  Getting requirements to build wheel ... \u001b[?25ldone\n",
            "\u001b[?25h  Preparing metadata (pyproject.toml) ... \u001b[?25ldone\n",
            "\u001b[?25hCollecting shapely\n",
            "  Downloading shapely-2.1.0-cp310-cp310-manylinux_2_17_x86_64.manylinux2014_x86_64.whl (3.0 MB)\n",
            "\u001b[2K     \u001b[90m━━━━━━━━━━━━━━━━━━━━━━━━━━━━━━━━━━━━━━━━\u001b[0m \u001b[32m3.0/3.0 MB\u001b[0m \u001b[31m73.6 MB/s\u001b[0m eta \u001b[36m0:00:00\u001b[0m:00:01\u001b[0m\n",
            "\u001b[?25hCollecting opencv-python\n",
            "  Downloading opencv_python-4.11.0.86-cp37-abi3-manylinux_2_17_x86_64.manylinux2014_x86_64.whl (63.0 MB)\n",
            "\u001b[2K     \u001b[90m━━━━━━━━━━━━━━━━━━━━━━━━━━━━━━━━━━━━━━━━\u001b[0m \u001b[32m63.0/63.0 MB\u001b[0m \u001b[31m57.8 MB/s\u001b[0m eta \u001b[36m0:00:00\u001b[0m00:01\u001b[0m00:01\u001b[0m\n",
            "\u001b[?25hCollecting fsspec\n",
            "  Downloading fsspec-2025.3.2-py3-none-any.whl (194 kB)\n",
            "\u001b[2K     \u001b[90m━━━━━━━━━━━━━━━━━━━━━━━━━━━━━━━━━━━━━━\u001b[0m \u001b[32m194.4/194.4 KB\u001b[0m \u001b[31m29.1 MB/s\u001b[0m eta \u001b[36m0:00:00\u001b[0m\n",
            "\u001b[?25hCollecting nvidia-cufft-cu12==11.2.1.3\n",
            "  Downloading nvidia_cufft_cu12-11.2.1.3-py3-none-manylinux2014_x86_64.whl (211.5 MB)\n",
            "\u001b[2K     \u001b[90m━━━━━━━━━━━━━━━━━━━━━━━━━━━━━━━━━━━━━━\u001b[0m \u001b[32m211.5/211.5 MB\u001b[0m \u001b[31m29.8 MB/s\u001b[0m eta \u001b[36m0:00:00\u001b[0m00:01\u001b[0m00:01\u001b[0m\n",
            "\u001b[?25hCollecting filelock\n",
            "  Downloading filelock-3.18.0-py3-none-any.whl (16 kB)\n",
            "Requirement already satisfied: typing-extensions>=4.10.0 in /home/ea/imm/venv/lib/python3.10/site-packages (from torch) (4.13.2)\n",
            "Collecting nvidia-cudnn-cu12==9.1.0.70\n",
            "  Downloading nvidia_cudnn_cu12-9.1.0.70-py3-none-manylinux2014_x86_64.whl (664.8 MB)\n",
            "\u001b[2K     \u001b[90m━━━━━━━━━━━━━━━━━━━━━━━━━━━━━━━━━━━━━━\u001b[0m \u001b[32m664.8/664.8 MB\u001b[0m \u001b[31m11.8 MB/s\u001b[0m eta \u001b[36m0:00:00\u001b[0m00:01\u001b[0m00:01\u001b[0m\n",
            "\u001b[?25hCollecting nvidia-cusolver-cu12==11.6.1.9\n",
            "  Downloading nvidia_cusolver_cu12-11.6.1.9-py3-none-manylinux2014_x86_64.whl (127.9 MB)\n",
            "\u001b[2K     \u001b[90m━━━━━━━━━━━━━━━━━━━━━━━━━━━━━━━━━━━━━━\u001b[0m \u001b[32m127.9/127.9 MB\u001b[0m \u001b[31m40.5 MB/s\u001b[0m eta \u001b[36m0:00:00\u001b[0m00:01\u001b[0m00:01\u001b[0m\n",
            "\u001b[?25hCollecting jinja2\n",
            "  Downloading jinja2-3.1.6-py3-none-any.whl (134 kB)\n",
            "\u001b[2K     \u001b[90m━━━━━━━━━━━━━━━━━━━━━━━━━━━━━━━━━━━━━━\u001b[0m \u001b[32m134.9/134.9 KB\u001b[0m \u001b[31m20.9 MB/s\u001b[0m eta \u001b[36m0:00:00\u001b[0m\n",
            "\u001b[?25hCollecting nvidia-cuda-nvrtc-cu12==12.4.127\n",
            "  Downloading nvidia_cuda_nvrtc_cu12-12.4.127-py3-none-manylinux2014_x86_64.whl (24.6 MB)\n",
            "\u001b[2K     \u001b[90m━━━━━━━━━━━━━━━━━━━━━━━━━━━━━━━━━━━━━━━━\u001b[0m \u001b[32m24.6/24.6 MB\u001b[0m \u001b[31m81.3 MB/s\u001b[0m eta \u001b[36m0:00:00\u001b[0m00:01\u001b[0m00:01\u001b[0m\n",
            "\u001b[?25hCollecting nvidia-cuda-cupti-cu12==12.4.127\n",
            "  Downloading nvidia_cuda_cupti_cu12-12.4.127-py3-none-manylinux2014_x86_64.whl (13.8 MB)\n",
            "\u001b[2K     \u001b[90m━━━━━━━━━━━━━━━━━━━━━━━━━━━━━━━━━━━━━━━━\u001b[0m \u001b[32m13.8/13.8 MB\u001b[0m \u001b[31m64.4 MB/s\u001b[0m eta \u001b[36m0:00:00\u001b[0m00:01\u001b[0m00:01\u001b[0m\n",
            "\u001b[?25hCollecting sympy==1.13.1\n",
            "  Downloading sympy-1.13.1-py3-none-any.whl (6.2 MB)\n",
            "\u001b[2K     \u001b[90m━━━━━━━━━━━━━━━━━━━━━━━━━━━━━━━━━━━━━━━━\u001b[0m \u001b[32m6.2/6.2 MB\u001b[0m \u001b[31m98.3 MB/s\u001b[0m eta \u001b[36m0:00:00\u001b[0mta \u001b[36m0:00:01\u001b[0m\n",
            "\u001b[?25hCollecting nvidia-cublas-cu12==12.4.5.8\n",
            "  Downloading nvidia_cublas_cu12-12.4.5.8-py3-none-manylinux2014_x86_64.whl (363.4 MB)\n",
            "\u001b[2K     \u001b[90m━━━━━━━━━━━━━━━━━━━━━━━━━━━━━━━━━━━━━━\u001b[0m \u001b[32m363.4/363.4 MB\u001b[0m \u001b[31m19.0 MB/s\u001b[0m eta \u001b[36m0:00:00\u001b[0m00:01\u001b[0m00:01\u001b[0m\n",
            "\u001b[?25hCollecting nvidia-cusparselt-cu12==0.6.2\n",
            "  Downloading nvidia_cusparselt_cu12-0.6.2-py3-none-manylinux2014_x86_64.whl (150.1 MB)\n",
            "\u001b[2K     \u001b[90m━━━━━━━━━━━━━━━━━━━━━━━━━━━━━━━━━━━━━━\u001b[0m \u001b[32m150.1/150.1 MB\u001b[0m \u001b[31m36.4 MB/s\u001b[0m eta \u001b[36m0:00:00\u001b[0m00:01\u001b[0m00:01\u001b[0m\n",
            "\u001b[?25hCollecting nvidia-nvjitlink-cu12==12.4.127\n",
            "  Downloading nvidia_nvjitlink_cu12-12.4.127-py3-none-manylinux2014_x86_64.whl (21.1 MB)\n",
            "\u001b[2K     \u001b[90m━━━━━━━━━━━━━━━━━━━━━━━━━━━━━━━━━━━━━━━━\u001b[0m \u001b[32m21.1/21.1 MB\u001b[0m \u001b[31m83.6 MB/s\u001b[0m eta \u001b[36m0:00:00\u001b[0m00:01\u001b[0m00:01\u001b[0m\n",
            "\u001b[?25hCollecting nvidia-cuda-runtime-cu12==12.4.127\n",
            "  Downloading nvidia_cuda_runtime_cu12-12.4.127-py3-none-manylinux2014_x86_64.whl (883 kB)\n",
            "\u001b[2K     \u001b[90m━━━━━━━━━━━━━━━━━━━━━━━━━━━━━━━━━━━━━━\u001b[0m \u001b[32m883.7/883.7 KB\u001b[0m \u001b[31m75.2 MB/s\u001b[0m eta \u001b[36m0:00:00\u001b[0m\n",
            "\u001b[?25hCollecting nvidia-cusparse-cu12==12.3.1.170\n",
            "  Downloading nvidia_cusparse_cu12-12.3.1.170-py3-none-manylinux2014_x86_64.whl (207.5 MB)\n",
            "\u001b[2K     \u001b[90m━━━━━━━━━━━━━━━━━━━━━━━━━━━━━━━━━━━━━━\u001b[0m \u001b[32m207.5/207.5 MB\u001b[0m \u001b[31m30.1 MB/s\u001b[0m eta \u001b[36m0:00:00\u001b[0m00:01\u001b[0m00:01\u001b[0m\n",
            "\u001b[?25hCollecting nvidia-curand-cu12==10.3.5.147\n",
            "  Downloading nvidia_curand_cu12-10.3.5.147-py3-none-manylinux2014_x86_64.whl (56.3 MB)\n",
            "\u001b[2K     \u001b[90m━━━━━━━━━━━━━━━━━━━━━━━━━━━━━━━━━━━━━━━━\u001b[0m \u001b[32m56.3/56.3 MB\u001b[0m \u001b[31m60.4 MB/s\u001b[0m eta \u001b[36m0:00:00\u001b[0m00:01\u001b[0m00:01\u001b[0m\n",
            "\u001b[?25hCollecting triton==3.2.0\n",
            "  Downloading triton-3.2.0-cp310-cp310-manylinux_2_17_x86_64.manylinux2014_x86_64.whl (253.1 MB)\n",
            "\u001b[2K     \u001b[90m━━━━━━━━━━━━━━━━━━━━━━━━━━━━━━━━━━━━━━\u001b[0m \u001b[32m253.1/253.1 MB\u001b[0m \u001b[31m24.8 MB/s\u001b[0m eta \u001b[36m0:00:00\u001b[0m00:01\u001b[0m00:01\u001b[0m\n",
            "\u001b[?25hCollecting nvidia-nvtx-cu12==12.4.127\n",
            "  Downloading nvidia_nvtx_cu12-12.4.127-py3-none-manylinux2014_x86_64.whl (99 kB)\n",
            "\u001b[2K     \u001b[90m━━━━━━━━━━━━━━━━━━━━━━━━━━━━━━━━━━━━━━━━\u001b[0m \u001b[32m99.1/99.1 KB\u001b[0m \u001b[31m14.3 MB/s\u001b[0m eta \u001b[36m0:00:00\u001b[0m\n",
            "\u001b[?25hCollecting nvidia-nccl-cu12==2.21.5\n",
            "  Downloading nvidia_nccl_cu12-2.21.5-py3-none-manylinux2014_x86_64.whl (188.7 MB)\n",
            "\u001b[2K     \u001b[90m━━━━━━━━━━━━━━━━━━━━━━━━━━━━━━━━━━━━━━\u001b[0m \u001b[32m188.7/188.7 MB\u001b[0m \u001b[31m31.7 MB/s\u001b[0m eta \u001b[36m0:00:00\u001b[0m00:01\u001b[0m00:01\u001b[0m\n",
            "\u001b[?25hCollecting networkx\n",
            "  Downloading networkx-3.4.2-py3-none-any.whl (1.7 MB)\n",
            "\u001b[2K     \u001b[90m━━━━━━━━━━━━━━━━━━━━━━━━━━━━━━━━━━━━━━━━\u001b[0m \u001b[32m1.7/1.7 MB\u001b[0m \u001b[31m86.5 MB/s\u001b[0m eta \u001b[36m0:00:00\u001b[0m\n",
            "\u001b[?25hCollecting mpmath<1.4,>=1.1.0\n",
            "  Downloading mpmath-1.3.0-py3-none-any.whl (536 kB)\n",
            "\u001b[2K     \u001b[90m━━━━━━━━━━━━━━━━━━━━━━━━━━━━━━━━━━━━━━\u001b[0m \u001b[32m536.2/536.2 KB\u001b[0m \u001b[31m53.2 MB/s\u001b[0m eta \u001b[36m0:00:00\u001b[0m\n",
            "\u001b[?25hCollecting pillow!=8.3.*,>=5.3.0\n",
            "  Downloading pillow-11.2.1-cp310-cp310-manylinux_2_28_x86_64.whl (4.6 MB)\n",
            "\u001b[2K     \u001b[90m━━━━━━━━━━━━━━━━━━━━━━━━━━━━━━━━━━━━━━━━\u001b[0m \u001b[32m4.6/4.6 MB\u001b[0m \u001b[31m81.5 MB/s\u001b[0m eta \u001b[36m0:00:00\u001b[0mta \u001b[36m0:00:01\u001b[0m\n",
            "\u001b[?25hCollecting numpy\n",
            "  Downloading numpy-2.2.4-cp310-cp310-manylinux_2_17_x86_64.manylinux2014_x86_64.whl (16.4 MB)\n",
            "\u001b[2K     \u001b[90m━━━━━━━━━━━━━━━━━━━━━━━━━━━━━━━━━━━━━━━━\u001b[0m \u001b[32m16.4/16.4 MB\u001b[0m \u001b[31m89.2 MB/s\u001b[0m eta \u001b[36m0:00:00\u001b[0m00:01\u001b[0m00:01\u001b[0m\n",
            "\u001b[?25hCollecting importlib-metadata\n",
            "  Downloading importlib_metadata-8.6.1-py3-none-any.whl (26 kB)\n",
            "Collecting safetensors>=0.3.1\n",
            "  Downloading safetensors-0.5.3-cp38-abi3-manylinux_2_17_x86_64.manylinux2014_x86_64.whl (471 kB)\n",
            "\u001b[2K     \u001b[90m━━━━━━━━━━━━━━━━━━━━━━━━━━━━━━━━━━━━━━\u001b[0m \u001b[32m471.6/471.6 KB\u001b[0m \u001b[31m28.8 MB/s\u001b[0m eta \u001b[36m0:00:00\u001b[0m\n",
            "\u001b[?25hCollecting regex!=2019.12.17\n",
            "  Downloading regex-2024.11.6-cp310-cp310-manylinux_2_17_x86_64.manylinux2014_x86_64.whl (781 kB)\n",
            "\u001b[2K     \u001b[90m━━━━━━━━━━━━━━━━━━━━━━━━━━━━━━━━━━━━━━\u001b[0m \u001b[32m781.7/781.7 KB\u001b[0m \u001b[31m37.4 MB/s\u001b[0m eta \u001b[36m0:00:00\u001b[0m\n",
            "\u001b[?25hCollecting huggingface-hub>=0.27.0\n",
            "  Downloading huggingface_hub-0.30.2-py3-none-any.whl (481 kB)\n",
            "\u001b[2K     \u001b[90m━━━━━━━━━━━━━━━━━━━━━━━━━━━━━━━━━━━━━━\u001b[0m \u001b[32m481.4/481.4 KB\u001b[0m \u001b[31m59.2 MB/s\u001b[0m eta \u001b[36m0:00:00\u001b[0m\n",
            "\u001b[?25hCollecting requests\n",
            "  Downloading requests-2.32.3-py3-none-any.whl (64 kB)\n",
            "\u001b[2K     \u001b[90m━━━━━━━━━━━━━━━━━━━━━━━━━━━━━━━━━━━━━━━━\u001b[0m \u001b[32m64.9/64.9 KB\u001b[0m \u001b[31m10.1 MB/s\u001b[0m eta \u001b[36m0:00:00\u001b[0m\n",
            "\u001b[?25hCollecting imageio!=2.35.0,>=2.33\n",
            "  Downloading imageio-2.37.0-py3-none-any.whl (315 kB)\n",
            "\u001b[2K     \u001b[90m━━━━━━━━━━━━━━━━━━━━━━━━━━━━━━━━━━━━━━\u001b[0m \u001b[32m315.8/315.8 KB\u001b[0m \u001b[31m46.7 MB/s\u001b[0m eta \u001b[36m0:00:00\u001b[0m\n",
            "\u001b[?25hRequirement already satisfied: packaging>=21 in /home/ea/imm/venv/lib/python3.10/site-packages (from scikit-image) (24.2)\n",
            "Collecting tifffile>=2022.8.12\n",
            "  Downloading tifffile-2025.3.30-py3-none-any.whl (226 kB)\n",
            "\u001b[2K     \u001b[90m━━━━━━━━━━━━━━━━━━━━━━━━━━━━━━━━━━━━━━\u001b[0m \u001b[32m226.8/226.8 KB\u001b[0m \u001b[31m33.5 MB/s\u001b[0m eta \u001b[36m0:00:00\u001b[0m\n",
            "\u001b[?25hCollecting lazy-loader>=0.4\n",
            "  Downloading lazy_loader-0.4-py3-none-any.whl (12 kB)\n",
            "Collecting scipy>=1.11.4\n",
            "  Downloading scipy-1.15.2-cp310-cp310-manylinux_2_17_x86_64.manylinux2014_x86_64.whl (37.6 MB)\n",
            "\u001b[2K     \u001b[90m━━━━━━━━━━━━━━━━━━━━━━━━━━━━━━━━━━━━━━━━\u001b[0m \u001b[32m37.6/37.6 MB\u001b[0m \u001b[31m69.8 MB/s\u001b[0m eta \u001b[36m0:00:00\u001b[0m00:01\u001b[0m00:01\u001b[0m\n",
            "\u001b[?25hCollecting fasteners\n",
            "  Downloading fasteners-0.19-py3-none-any.whl (18 kB)\n",
            "Collecting asciitree\n",
            "  Downloading asciitree-0.3.3.tar.gz (4.0 kB)\n",
            "  Preparing metadata (setup.py) ... \u001b[?25ldone\n",
            "\u001b[?25hCollecting cffi>=1.17.1\n",
            "  Downloading cffi-1.17.1-cp310-cp310-manylinux_2_17_x86_64.manylinux2014_x86_64.whl (446 kB)\n",
            "\u001b[2K     \u001b[90m━━━━━━━━━━━━━━━━━━━━━━━━━━━━━━━━━━━━━━\u001b[0m \u001b[32m446.2/446.2 KB\u001b[0m \u001b[31m27.2 MB/s\u001b[0m eta \u001b[36m0:00:00\u001b[0m\n",
            "\u001b[?25hCollecting gym_notices>=0.0.4\n",
            "  Downloading gym_notices-0.0.8-py3-none-any.whl (3.0 kB)\n",
            "Collecting cloudpickle>=1.2.0\n",
            "  Downloading cloudpickle-3.1.1-py3-none-any.whl (20 kB)\n",
            "Collecting pycparser\n",
            "  Downloading pycparser-2.22-py3-none-any.whl (117 kB)\n",
            "\u001b[2K     \u001b[90m━━━━━━━━━━━━━━━━━━━━━━━━━━━━━━━━━━━━━━\u001b[0m \u001b[32m117.6/117.6 KB\u001b[0m \u001b[31m21.2 MB/s\u001b[0m eta \u001b[36m0:00:00\u001b[0m\n",
            "\u001b[?25hCollecting pyyaml>=5.1\n",
            "  Downloading PyYAML-6.0.2-cp310-cp310-manylinux_2_17_x86_64.manylinux2014_x86_64.whl (751 kB)\n",
            "\u001b[2K     \u001b[90m━━━━━━━━━━━━━━━━━━━━━━━━━━━━━━━━━━━━━━\u001b[0m \u001b[32m751.2/751.2 KB\u001b[0m \u001b[31m69.0 MB/s\u001b[0m eta \u001b[36m0:00:00\u001b[0m\n",
            "\u001b[?25hCollecting tqdm>=4.42.1\n",
            "  Downloading tqdm-4.67.1-py3-none-any.whl (78 kB)\n",
            "\u001b[2K     \u001b[90m━━━━━━━━━━━━━━━━━━━━━━━━━━━━━━━━━━━━━━━━\u001b[0m \u001b[32m78.5/78.5 KB\u001b[0m \u001b[31m13.3 MB/s\u001b[0m eta \u001b[36m0:00:00\u001b[0m\n",
            "\u001b[?25hCollecting zipp>=3.20\n",
            "  Downloading zipp-3.21.0-py3-none-any.whl (9.6 kB)\n",
            "Collecting MarkupSafe>=2.0\n",
            "  Downloading MarkupSafe-3.0.2-cp310-cp310-manylinux_2_17_x86_64.manylinux2014_x86_64.whl (20 kB)\n",
            "Collecting charset-normalizer<4,>=2\n",
            "  Downloading charset_normalizer-3.4.1-cp310-cp310-manylinux_2_17_x86_64.manylinux2014_x86_64.whl (146 kB)\n",
            "\u001b[2K     \u001b[90m━━━━━━━━━━━━━━━━━━━━━━━━━━━━━━━━━━━━━━\u001b[0m \u001b[32m146.1/146.1 KB\u001b[0m \u001b[31m21.2 MB/s\u001b[0m eta \u001b[36m0:00:00\u001b[0m\n",
            "\u001b[?25hCollecting idna<4,>=2.5\n",
            "  Downloading idna-3.10-py3-none-any.whl (70 kB)\n",
            "\u001b[2K     \u001b[90m━━━━━━━━━━━━━━━━━━━━━━━━━━━━━━━━━━━━━━━━\u001b[0m \u001b[32m70.4/70.4 KB\u001b[0m \u001b[31m10.4 MB/s\u001b[0m eta \u001b[36m0:00:00\u001b[0m\n",
            "\u001b[?25hCollecting urllib3<3,>=1.21.1\n",
            "  Downloading urllib3-2.4.0-py3-none-any.whl (128 kB)\n",
            "\u001b[2K     \u001b[90m━━━━━━━━━━━━━━━━━━━━━━━━━━━━━━━━━━━━━━\u001b[0m \u001b[32m128.7/128.7 KB\u001b[0m \u001b[31m20.3 MB/s\u001b[0m eta \u001b[36m0:00:00\u001b[0m\n",
            "\u001b[?25hCollecting certifi>=2017.4.17\n",
            "  Downloading certifi-2025.1.31-py3-none-any.whl (166 kB)\n",
            "\u001b[2K     \u001b[90m━━━━━━━━━━━━━━━━━━━━━━━━━━━━━━━━━━━━━━\u001b[0m \u001b[32m166.4/166.4 KB\u001b[0m \u001b[31m25.7 MB/s\u001b[0m eta \u001b[36m0:00:00\u001b[0m\n",
            "\u001b[?25hUsing legacy 'setup.py install' for asciitree, since package 'wheel' is not installed.\n",
            "Building wheels for collected packages: gym\n",
            "  Building wheel for gym (pyproject.toml) ... \u001b[?25ldone\n",
            "\u001b[?25h  Created wheel for gym: filename=gym-0.26.2-py3-none-any.whl size=827729 sha256=a2053bcbc9923c62d0632feaeae21364ea4fdf46d78588586b403958597c9e1e\n",
            "  Stored in directory: /home/ea/.cache/pip/wheels/b9/22/6d/3e7b32d98451b4cd9d12417052affbeeeea012955d437da1da\n",
            "Successfully built gym\n",
            "Installing collected packages: triton, nvidia-cusparselt-cu12, mpmath, gym_notices, asciitree, zipp, urllib3, tqdm, sympy, safetensors, regex, pyyaml, pygame, pycparser, pillow, nvidia-nvtx-cu12, nvidia-nvjitlink-cu12, nvidia-nccl-cu12, nvidia-curand-cu12, nvidia-cufft-cu12, nvidia-cuda-runtime-cu12, nvidia-cuda-nvrtc-cu12, nvidia-cuda-cupti-cu12, nvidia-cublas-cu12, numpy, networkx, MarkupSafe, lazy-loader, idna, fsspec, filelock, fasteners, cloudpickle, charset-normalizer, certifi, tifffile, shapely, scipy, requests, opencv-python, nvidia-cusparse-cu12, nvidia-cudnn-cu12, numcodecs, jinja2, importlib-metadata, imageio, gym, cffi, zarr, scikit-video, scikit-image, pymunk, nvidia-cusolver-cu12, huggingface-hub, torch, diffusers, torchvision\n",
            "  Running setup.py install for asciitree ... \u001b[?25ldone\n",
            "\u001b[?25hSuccessfully installed MarkupSafe-3.0.2 asciitree-0.3.3 certifi-2025.1.31 cffi-1.17.1 charset-normalizer-3.4.1 cloudpickle-3.1.1 diffusers-0.33.1 fasteners-0.19 filelock-3.18.0 fsspec-2025.3.2 gym-0.26.2 gym_notices-0.0.8 huggingface-hub-0.30.2 idna-3.10 imageio-2.37.0 importlib-metadata-8.6.1 jinja2-3.1.6 lazy-loader-0.4 mpmath-1.3.0 networkx-3.4.2 numcodecs-0.13.1 numpy-2.2.4 nvidia-cublas-cu12-12.4.5.8 nvidia-cuda-cupti-cu12-12.4.127 nvidia-cuda-nvrtc-cu12-12.4.127 nvidia-cuda-runtime-cu12-12.4.127 nvidia-cudnn-cu12-9.1.0.70 nvidia-cufft-cu12-11.2.1.3 nvidia-curand-cu12-10.3.5.147 nvidia-cusolver-cu12-11.6.1.9 nvidia-cusparse-cu12-12.3.1.170 nvidia-cusparselt-cu12-0.6.2 nvidia-nccl-cu12-2.21.5 nvidia-nvjitlink-cu12-12.4.127 nvidia-nvtx-cu12-12.4.127 opencv-python-4.11.0.86 pillow-11.2.1 pycparser-2.22 pygame-2.6.1 pymunk-6.11.1 pyyaml-6.0.2 regex-2024.11.6 requests-2.32.3 safetensors-0.5.3 scikit-image-0.25.2 scikit-video-1.1.11 scipy-1.15.2 shapely-2.1.0 sympy-1.13.1 tifffile-2025.3.30 torch-2.6.0 torchvision-0.21.0 tqdm-4.67.1 triton-3.2.0 urllib3-2.4.0 zarr-2.18.3 zipp-3.21.0\n"
          ]
        }
      ],
      "source": [
        "#@markdown ### **Installing pip packages**\n",
        "#@markdown - Diffusion Model: [PyTorch](https://pytorch.org) & [HuggingFace diffusers](https://huggingface.co/docs/diffusers/index)\n",
        "#@markdown - Dataset Loading: [Zarr](https://zarr.readthedocs.io/en/stable/) & numcodecs\n",
        "#@markdown - Push-T Env: gym, pygame, pymunk & shapely\n",
        "!python --version\n",
        "!pip3 install torch torchvision diffusers \\\n",
        "scikit-image scikit-video zarr numcodecs \\\n",
        "pygame pymunk gym shapely opencv-python"
      ]
    },
    {
      "cell_type": "code",
      "execution_count": 1,
      "metadata": {
        "colab": {
          "base_uri": "https://localhost:8080/",
          "height": 87,
          "referenced_widgets": [
            "49d5ffd9eb81491f95df70e66c0c94e4",
            "9a3d8fbcc3e548e1a56d25c10b321e6a",
            "6cf470f12c174e94b0b058cfba9b5fb2",
            "9b6de90b3dbc4877966b2d5233189866",
            "4b3aeac3e8e74b8f8dab0dc9ad0b7c94",
            "ac6375a33ca84241b50638edb6321112",
            "583a530a9c0442f2b762b281caa4836d",
            "c7d2c3f8b3714a0d911a132c74589ce1",
            "03bbeb04a4c44206b1671e69864e69c7",
            "b2331069d969430b87c47e6f11fb2a9e",
            "c8c282ba14c14da28ba421abc7119cf9"
          ]
        },
        "id": "VrX4VTl5pYNq",
        "outputId": "1a01b12b-0e61-4f38-bb81-f72591e267da"
      },
      "outputs": [
        {
          "name": "stderr",
          "output_type": "stream",
          "text": [
            "/home/ea/imm/venv/lib/python3.10/site-packages/tqdm/auto.py:21: TqdmWarning: IProgress not found. Please update jupyter and ipywidgets. See https://ipywidgets.readthedocs.io/en/stable/user_install.html\n",
            "  from .autonotebook import tqdm as notebook_tqdm\n"
          ]
        }
      ],
      "source": [
        "#@markdown ### **Imports**\n",
        "# diffusion policy import\n",
        "from typing import Tuple, Sequence, Dict, Union, Optional\n",
        "import numpy as np\n",
        "import math\n",
        "import torch\n",
        "import torch.nn as nn\n",
        "import collections\n",
        "import zarr\n",
        "from diffusers.schedulers.scheduling_ddpm import DDPMScheduler\n",
        "from diffusers.training_utils import EMAModel\n",
        "from diffusers.optimization import get_scheduler\n",
        "from tqdm.auto import tqdm\n",
        "\n",
        "# env import\n",
        "import gym\n",
        "from gym import spaces\n",
        "import pygame\n",
        "import pymunk\n",
        "import pymunk.pygame_util\n",
        "from pymunk.space_debug_draw_options import SpaceDebugColor\n",
        "from pymunk.vec2d import Vec2d\n",
        "import shapely.geometry as sg\n",
        "import cv2\n",
        "import skimage.transform as st\n",
        "from skvideo.io import vwrite\n",
        "from IPython.display import Video\n",
        "import gdown\n",
        "import os"
      ]
    },
    {
      "cell_type": "code",
      "execution_count": 2,
      "metadata": {
        "cellView": "form",
        "id": "L5E-nR6ornyg"
      },
      "outputs": [],
      "source": [
        "#@markdown ### **Environment**\n",
        "#@markdown Defines a PyMunk-based Push-T environment `PushTEnv`.\n",
        "#@markdown\n",
        "#@markdown **Goal**: push the gray T-block into the green area.\n",
        "#@markdown\n",
        "#@markdown Adapted from [Implicit Behavior Cloning](https://implicitbc.github.io/)\n",
        "\n",
        "\n",
        "positive_y_is_up: bool = False\n",
        "\"\"\"Make increasing values of y point upwards.\n",
        "\n",
        "When True::\n",
        "\n",
        "    y\n",
        "    ^\n",
        "    |      . (3, 3)\n",
        "    |\n",
        "    |   . (2, 2)\n",
        "    |\n",
        "    +------ > x\n",
        "\n",
        "When False::\n",
        "\n",
        "    +------ > x\n",
        "    |\n",
        "    |   . (2, 2)\n",
        "    |\n",
        "    |      . (3, 3)\n",
        "    v\n",
        "    y\n",
        "\n",
        "\"\"\"\n",
        "\n",
        "def to_pygame(p: Tuple[float, float], surface: pygame.Surface) -> Tuple[int, int]:\n",
        "    \"\"\"Convenience method to convert pymunk coordinates to pygame surface\n",
        "    local coordinates.\n",
        "\n",
        "    Note that in case positive_y_is_up is False, this function wont actually do\n",
        "    anything except converting the point to integers.\n",
        "    \"\"\"\n",
        "    if positive_y_is_up:\n",
        "        return round(p[0]), surface.get_height() - round(p[1])\n",
        "    else:\n",
        "        return round(p[0]), round(p[1])\n",
        "\n",
        "\n",
        "def light_color(color: SpaceDebugColor):\n",
        "    color = np.minimum(1.2 * np.float32([color.r, color.g, color.b, color.a]), np.float32([255]))\n",
        "    color = SpaceDebugColor(r=color[0], g=color[1], b=color[2], a=color[3])\n",
        "    return color\n",
        "\n",
        "class DrawOptions(pymunk.SpaceDebugDrawOptions):\n",
        "    def __init__(self, surface: pygame.Surface) -> None:\n",
        "        \"\"\"Draw a pymunk.Space on a pygame.Surface object.\n",
        "\n",
        "        Typical usage::\n",
        "\n",
        "        >>> import pymunk\n",
        "        >>> surface = pygame.Surface((10,10))\n",
        "        >>> space = pymunk.Space()\n",
        "        >>> options = pymunk.pygame_util.DrawOptions(surface)\n",
        "        >>> space.debug_draw(options)\n",
        "\n",
        "        You can control the color of a shape by setting shape.color to the color\n",
        "        you want it drawn in::\n",
        "\n",
        "        >>> c = pymunk.Circle(None, 10)\n",
        "        >>> c.color = pygame.Color(\"pink\")\n",
        "\n",
        "        See pygame_util.demo.py for a full example\n",
        "\n",
        "        Since pygame uses a coordiante system where y points down (in contrast\n",
        "        to many other cases), you either have to make the physics simulation\n",
        "        with Pymunk also behave in that way, or flip everything when you draw.\n",
        "\n",
        "        The easiest is probably to just make the simulation behave the same\n",
        "        way as Pygame does. In that way all coordinates used are in the same\n",
        "        orientation and easy to reason about::\n",
        "\n",
        "        >>> space = pymunk.Space()\n",
        "        >>> space.gravity = (0, -1000)\n",
        "        >>> body = pymunk.Body()\n",
        "        >>> body.position = (0, 0) # will be positioned in the top left corner\n",
        "        >>> space.debug_draw(options)\n",
        "\n",
        "        To flip the drawing its possible to set the module property\n",
        "        :py:data:`positive_y_is_up` to True. Then the pygame drawing will flip\n",
        "        the simulation upside down before drawing::\n",
        "\n",
        "        >>> positive_y_is_up = True\n",
        "        >>> body = pymunk.Body()\n",
        "        >>> body.position = (0, 0)\n",
        "        >>> # Body will be position in bottom left corner\n",
        "\n",
        "        :Parameters:\n",
        "                surface : pygame.Surface\n",
        "                    Surface that the objects will be drawn on\n",
        "        \"\"\"\n",
        "        self.surface = surface\n",
        "        super(DrawOptions, self).__init__()\n",
        "\n",
        "    def draw_circle(\n",
        "        self,\n",
        "        pos: Vec2d,\n",
        "        angle: float,\n",
        "        radius: float,\n",
        "        outline_color: SpaceDebugColor,\n",
        "        fill_color: SpaceDebugColor,\n",
        "    ) -> None:\n",
        "        p = to_pygame(pos, self.surface)\n",
        "\n",
        "        pygame.draw.circle(self.surface, fill_color.as_int(), p, round(radius), 0)\n",
        "        pygame.draw.circle(self.surface, light_color(fill_color).as_int(), p, round(radius-4), 0)\n",
        "\n",
        "        circle_edge = pos + Vec2d(radius, 0).rotated(angle)\n",
        "        p2 = to_pygame(circle_edge, self.surface)\n",
        "        line_r = 2 if radius > 20 else 1\n",
        "        # pygame.draw.lines(self.surface, outline_color.as_int(), False, [p, p2], line_r)\n",
        "\n",
        "    def draw_segment(self, a: Vec2d, b: Vec2d, color: SpaceDebugColor) -> None:\n",
        "        p1 = to_pygame(a, self.surface)\n",
        "        p2 = to_pygame(b, self.surface)\n",
        "\n",
        "        pygame.draw.aalines(self.surface, color.as_int(), False, [p1, p2])\n",
        "\n",
        "    def draw_fat_segment(\n",
        "        self,\n",
        "        a: Tuple[float, float],\n",
        "        b: Tuple[float, float],\n",
        "        radius: float,\n",
        "        outline_color: SpaceDebugColor,\n",
        "        fill_color: SpaceDebugColor,\n",
        "    ) -> None:\n",
        "        p1 = to_pygame(a, self.surface)\n",
        "        p2 = to_pygame(b, self.surface)\n",
        "\n",
        "        r = round(max(1, radius * 2))\n",
        "        pygame.draw.lines(self.surface, fill_color.as_int(), False, [p1, p2], r)\n",
        "        if r > 2:\n",
        "            orthog = [abs(p2[1] - p1[1]), abs(p2[0] - p1[0])]\n",
        "            if orthog[0] == 0 and orthog[1] == 0:\n",
        "                return\n",
        "            scale = radius / (orthog[0] * orthog[0] + orthog[1] * orthog[1]) ** 0.5\n",
        "            orthog[0] = round(orthog[0] * scale)\n",
        "            orthog[1] = round(orthog[1] * scale)\n",
        "            points = [\n",
        "                (p1[0] - orthog[0], p1[1] - orthog[1]),\n",
        "                (p1[0] + orthog[0], p1[1] + orthog[1]),\n",
        "                (p2[0] + orthog[0], p2[1] + orthog[1]),\n",
        "                (p2[0] - orthog[0], p2[1] - orthog[1]),\n",
        "            ]\n",
        "            pygame.draw.polygon(self.surface, fill_color.as_int(), points)\n",
        "            pygame.draw.circle(\n",
        "                self.surface,\n",
        "                fill_color.as_int(),\n",
        "                (round(p1[0]), round(p1[1])),\n",
        "                round(radius),\n",
        "            )\n",
        "            pygame.draw.circle(\n",
        "                self.surface,\n",
        "                fill_color.as_int(),\n",
        "                (round(p2[0]), round(p2[1])),\n",
        "                round(radius),\n",
        "            )\n",
        "\n",
        "    def draw_polygon(\n",
        "        self,\n",
        "        verts: Sequence[Tuple[float, float]],\n",
        "        radius: float,\n",
        "        outline_color: SpaceDebugColor,\n",
        "        fill_color: SpaceDebugColor,\n",
        "    ) -> None:\n",
        "        ps = [to_pygame(v, self.surface) for v in verts]\n",
        "        ps += [ps[0]]\n",
        "\n",
        "        radius = 2\n",
        "        pygame.draw.polygon(self.surface, light_color(fill_color).as_int(), ps)\n",
        "\n",
        "        if radius > 0:\n",
        "            for i in range(len(verts)):\n",
        "                a = verts[i]\n",
        "                b = verts[(i + 1) % len(verts)]\n",
        "                self.draw_fat_segment(a, b, radius, fill_color, fill_color)\n",
        "\n",
        "    def draw_dot(\n",
        "        self, size: float, pos: Tuple[float, float], color: SpaceDebugColor\n",
        "    ) -> None:\n",
        "        p = to_pygame(pos, self.surface)\n",
        "        pygame.draw.circle(self.surface, color.as_int(), p, round(size), 0)\n",
        "\n",
        "\n",
        "def pymunk_to_shapely(body, shapes):\n",
        "    geoms = list()\n",
        "    for shape in shapes:\n",
        "        if isinstance(shape, pymunk.shapes.Poly):\n",
        "            verts = [body.local_to_world(v) for v in shape.get_vertices()]\n",
        "            verts += [verts[0]]\n",
        "            geoms.append(sg.Polygon(verts))\n",
        "        else:\n",
        "            raise RuntimeError(f'Unsupported shape type {type(shape)}')\n",
        "    geom = sg.MultiPolygon(geoms)\n",
        "    return geom\n",
        "\n",
        "# env\n",
        "class PushTEnv(gym.Env):\n",
        "    metadata = {\"render.modes\": [\"human\", \"rgb_array\"], \"video.frames_per_second\": 10}\n",
        "    reward_range = (0., 1.)\n",
        "\n",
        "    def __init__(self,\n",
        "            legacy=False,\n",
        "            block_cog=None, damping=None,\n",
        "            render_action=True,\n",
        "            render_size=96,\n",
        "            reset_to_state=None\n",
        "        ):\n",
        "        self._seed = None\n",
        "        self.seed()\n",
        "        self.window_size = ws = 512  # The size of the PyGame window\n",
        "        self.render_size = render_size\n",
        "        self.sim_hz = 100\n",
        "        # Local controller params.\n",
        "        self.k_p, self.k_v = 100, 20    # PD control.z\n",
        "        self.control_hz = self.metadata['video.frames_per_second']\n",
        "        # legcay set_state for data compatiblity\n",
        "        self.legacy = legacy\n",
        "\n",
        "        # agent_pos, block_pos, block_angle\n",
        "        self.observation_space = spaces.Box(\n",
        "            low=np.array([0,0,0,0,0], dtype=np.float64),\n",
        "            high=np.array([ws,ws,ws,ws,np.pi*2], dtype=np.float64),\n",
        "            shape=(5,),\n",
        "            dtype=np.float64\n",
        "        )\n",
        "\n",
        "        # positional goal for agent\n",
        "        self.action_space = spaces.Box(\n",
        "            low=np.array([0,0], dtype=np.float64),\n",
        "            high=np.array([ws,ws], dtype=np.float64),\n",
        "            shape=(2,),\n",
        "            dtype=np.float64\n",
        "        )\n",
        "\n",
        "        self.block_cog = block_cog\n",
        "        self.damping = damping\n",
        "        self.render_action = render_action\n",
        "\n",
        "        \"\"\"\n",
        "        If human-rendering is used, `self.window` will be a reference\n",
        "        to the window that we draw to. `self.clock` will be a clock that is used\n",
        "        to ensure that the environment is rendered at the correct framerate in\n",
        "        human-mode. They will remain `None` until human-mode is used for the\n",
        "        first time.\n",
        "        \"\"\"\n",
        "        self.window = None\n",
        "        self.clock = None\n",
        "        self.screen = None\n",
        "\n",
        "        self.space = None\n",
        "        self.teleop = None\n",
        "        self.render_buffer = None\n",
        "        self.latest_action = None\n",
        "        self.reset_to_state = reset_to_state\n",
        "\n",
        "    def reset(self):\n",
        "        seed = self._seed\n",
        "        self._setup()\n",
        "        if self.block_cog is not None:\n",
        "            self.block.center_of_gravity = self.block_cog\n",
        "        if self.damping is not None:\n",
        "            self.space.damping = self.damping\n",
        "\n",
        "        # use legacy RandomState for compatiblity\n",
        "        state = self.reset_to_state\n",
        "        if state is None:\n",
        "            rs = np.random.RandomState(seed=seed)\n",
        "            state = np.array([\n",
        "                rs.randint(50, 450), rs.randint(50, 450),\n",
        "                rs.randint(100, 400), rs.randint(100, 400),\n",
        "                rs.randn() * 2 * np.pi - np.pi\n",
        "                ])\n",
        "        self._set_state(state)\n",
        "\n",
        "        obs = self._get_obs()\n",
        "        info = self._get_info()\n",
        "        return obs, info\n",
        "\n",
        "    def step(self, action):\n",
        "        dt = 1.0 / self.sim_hz\n",
        "        self.n_contact_points = 0\n",
        "        n_steps = self.sim_hz // self.control_hz\n",
        "        if action is not None:\n",
        "            self.latest_action = action\n",
        "            for i in range(n_steps):\n",
        "                # Step PD control.\n",
        "                # self.agent.velocity = self.k_p * (act - self.agent.position)    # P control works too.\n",
        "                acceleration = self.k_p * (action - self.agent.position) + self.k_v * (Vec2d(0, 0) - self.agent.velocity)\n",
        "                self.agent.velocity += acceleration * dt\n",
        "\n",
        "                # Step physics.\n",
        "                self.space.step(dt)\n",
        "\n",
        "        # compute reward\n",
        "        goal_body = self._get_goal_pose_body(self.goal_pose)\n",
        "        goal_geom = pymunk_to_shapely(goal_body, self.block.shapes)\n",
        "        block_geom = pymunk_to_shapely(self.block, self.block.shapes)\n",
        "\n",
        "        intersection_area = goal_geom.intersection(block_geom).area\n",
        "        goal_area = goal_geom.area\n",
        "        coverage = intersection_area / goal_area\n",
        "        reward = np.clip(coverage / self.success_threshold, 0, 1)\n",
        "        done = coverage > self.success_threshold\n",
        "        terminated = done\n",
        "        truncated = done\n",
        "\n",
        "        observation = self._get_obs()\n",
        "        info = self._get_info()\n",
        "\n",
        "        return observation, reward, terminated, truncated, info\n",
        "\n",
        "    def render(self, mode):\n",
        "        return self._render_frame(mode)\n",
        "\n",
        "    def teleop_agent(self):\n",
        "        TeleopAgent = collections.namedtuple('TeleopAgent', ['act'])\n",
        "        def act(obs):\n",
        "            act = None\n",
        "            mouse_position = pymunk.pygame_util.from_pygame(Vec2d(*pygame.mouse.get_pos()), self.screen)\n",
        "            if self.teleop or (mouse_position - self.agent.position).length < 30:\n",
        "                self.teleop = True\n",
        "                act = mouse_position\n",
        "            return act\n",
        "        return TeleopAgent(act)\n",
        "\n",
        "    def _get_obs(self):\n",
        "        obs = np.array(\n",
        "            tuple(self.agent.position) \\\n",
        "            + tuple(self.block.position) \\\n",
        "            + (self.block.angle % (2 * np.pi),))\n",
        "        return obs\n",
        "\n",
        "    def _get_goal_pose_body(self, pose):\n",
        "        mass = 1\n",
        "        inertia = pymunk.moment_for_box(mass, (50, 100))\n",
        "        body = pymunk.Body(mass, inertia)\n",
        "        # preserving the legacy assignment order for compatibility\n",
        "        # the order here dosn't matter somehow, maybe because CoM is aligned with body origin\n",
        "        body.position = pose[:2].tolist()\n",
        "        body.angle = pose[2]\n",
        "        return body\n",
        "\n",
        "    def _get_info(self):\n",
        "        n_steps = self.sim_hz // self.control_hz\n",
        "        n_contact_points_per_step = int(np.ceil(self.n_contact_points / n_steps))\n",
        "        info = {\n",
        "            'pos_agent': np.array(self.agent.position),\n",
        "            'vel_agent': np.array(self.agent.velocity),\n",
        "            'block_pose': np.array(list(self.block.position) + [self.block.angle]),\n",
        "            'goal_pose': self.goal_pose,\n",
        "            'n_contacts': n_contact_points_per_step}\n",
        "        return info\n",
        "\n",
        "    def _render_frame(self, mode):\n",
        "\n",
        "        if self.window is None and mode == \"human\":\n",
        "            pygame.init()\n",
        "            pygame.display.init()\n",
        "            self.window = pygame.display.set_mode((self.window_size, self.window_size))\n",
        "        if self.clock is None and mode == \"human\":\n",
        "            self.clock = pygame.time.Clock()\n",
        "\n",
        "        canvas = pygame.Surface((self.window_size, self.window_size))\n",
        "        canvas.fill((255, 255, 255))\n",
        "        self.screen = canvas\n",
        "\n",
        "        draw_options = DrawOptions(canvas)\n",
        "\n",
        "        # Draw goal pose.\n",
        "        goal_body = self._get_goal_pose_body(self.goal_pose)\n",
        "        for shape in self.block.shapes:\n",
        "            goal_points = [pymunk.pygame_util.to_pygame(goal_body.local_to_world(v), draw_options.surface) for v in shape.get_vertices()]\n",
        "            goal_points += [goal_points[0]]\n",
        "            pygame.draw.polygon(canvas, self.goal_color, goal_points)\n",
        "\n",
        "        # Draw agent and block.\n",
        "        self.space.debug_draw(draw_options)\n",
        "\n",
        "        if mode == \"human\":\n",
        "            # The following line copies our drawings from `canvas` to the visible window\n",
        "            self.window.blit(canvas, canvas.get_rect())\n",
        "            pygame.event.pump()\n",
        "            pygame.display.update()\n",
        "\n",
        "            # the clock is aleady ticked during in step for \"human\"\n",
        "\n",
        "\n",
        "        img = np.transpose(\n",
        "                np.array(pygame.surfarray.pixels3d(canvas)), axes=(1, 0, 2)\n",
        "            )\n",
        "        img = cv2.resize(img, (self.render_size, self.render_size))\n",
        "        if self.render_action:\n",
        "            if self.render_action and (self.latest_action is not None):\n",
        "                action = np.array(self.latest_action)\n",
        "                coord = (action / 512 * 96).astype(np.int32)\n",
        "                marker_size = int(8/96*self.render_size)\n",
        "                thickness = int(1/96*self.render_size)\n",
        "                cv2.drawMarker(img, coord,\n",
        "                    color=(255,0,0), markerType=cv2.MARKER_CROSS,\n",
        "                    markerSize=marker_size, thickness=thickness)\n",
        "        return img\n",
        "\n",
        "\n",
        "    def close(self):\n",
        "        if self.window is not None:\n",
        "            pygame.display.quit()\n",
        "            pygame.quit()\n",
        "\n",
        "    def seed(self, seed=None):\n",
        "        if seed is None:\n",
        "            seed = np.random.randint(0,25536)\n",
        "        self._seed = seed\n",
        "        self.np_random = np.random.default_rng(seed)\n",
        "\n",
        "    def _handle_collision(self, arbiter, space, data):\n",
        "        self.n_contact_points += len(arbiter.contact_point_set.points)\n",
        "\n",
        "    def _set_state(self, state):\n",
        "        if isinstance(state, np.ndarray):\n",
        "            state = state.tolist()\n",
        "        pos_agent = state[:2]\n",
        "        pos_block = state[2:4]\n",
        "        rot_block = state[4]\n",
        "        self.agent.position = pos_agent\n",
        "        # setting angle rotates with respect to center of mass\n",
        "        # therefore will modify the geometric position\n",
        "        # if not the same as CoM\n",
        "        # therefore should be modified first.\n",
        "        if self.legacy:\n",
        "            # for compatiblity with legacy data\n",
        "            self.block.position = pos_block\n",
        "            self.block.angle = rot_block\n",
        "        else:\n",
        "            self.block.angle = rot_block\n",
        "            self.block.position = pos_block\n",
        "\n",
        "        # Run physics to take effect\n",
        "        self.space.step(1.0 / self.sim_hz)\n",
        "\n",
        "    def _set_state_local(self, state_local):\n",
        "        agent_pos_local = state_local[:2]\n",
        "        block_pose_local = state_local[2:]\n",
        "        tf_img_obj = st.AffineTransform(\n",
        "            translation=self.goal_pose[:2],\n",
        "            rotation=self.goal_pose[2])\n",
        "        tf_obj_new = st.AffineTransform(\n",
        "            translation=block_pose_local[:2],\n",
        "            rotation=block_pose_local[2]\n",
        "        )\n",
        "        tf_img_new = st.AffineTransform(\n",
        "            matrix=tf_img_obj.params @ tf_obj_new.params\n",
        "        )\n",
        "        agent_pos_new = tf_img_new(agent_pos_local)\n",
        "        new_state = np.array(\n",
        "            list(agent_pos_new[0]) + list(tf_img_new.translation) \\\n",
        "                + [tf_img_new.rotation])\n",
        "        self._set_state(new_state)\n",
        "        return new_state\n",
        "\n",
        "    def _setup(self):\n",
        "        self.space = pymunk.Space()\n",
        "        self.space.gravity = 0, 0\n",
        "        self.space.damping = 0\n",
        "        self.teleop = False\n",
        "        self.render_buffer = list()\n",
        "\n",
        "        # Add walls.\n",
        "        walls = [\n",
        "            self._add_segment((5, 506), (5, 5), 2),\n",
        "            self._add_segment((5, 5), (506, 5), 2),\n",
        "            self._add_segment((506, 5), (506, 506), 2),\n",
        "            self._add_segment((5, 506), (506, 506), 2)\n",
        "        ]\n",
        "        self.space.add(*walls)\n",
        "\n",
        "        # Add agent, block, and goal zone.\n",
        "        self.agent = self.add_circle((256, 400), 15)\n",
        "        self.block = self.add_tee((256, 300), 0)\n",
        "        self.goal_color = pygame.Color('LightGreen')\n",
        "        self.goal_pose = np.array([256,256,np.pi/4])  # x, y, theta (in radians)\n",
        "\n",
        "        # Add collision handeling\n",
        "        self.collision_handeler = self.space.add_collision_handler(0, 0)\n",
        "        self.collision_handeler.post_solve = self._handle_collision\n",
        "        self.n_contact_points = 0\n",
        "\n",
        "        self.max_score = 50 * 100\n",
        "        self.success_threshold = 0.95    # 95% coverage.\n",
        "\n",
        "    def _add_segment(self, a, b, radius):\n",
        "        shape = pymunk.Segment(self.space.static_body, a, b, radius)\n",
        "        shape.color = pygame.Color('LightGray')    # https://htmlcolorcodes.com/color-names\n",
        "        return shape\n",
        "\n",
        "    def add_circle(self, position, radius):\n",
        "        body = pymunk.Body(body_type=pymunk.Body.KINEMATIC)\n",
        "        body.position = position\n",
        "        body.friction = 1\n",
        "        shape = pymunk.Circle(body, radius)\n",
        "        shape.color = pygame.Color('RoyalBlue')\n",
        "        self.space.add(body, shape)\n",
        "        return body\n",
        "\n",
        "    def add_box(self, position, height, width):\n",
        "        mass = 1\n",
        "        inertia = pymunk.moment_for_box(mass, (height, width))\n",
        "        body = pymunk.Body(mass, inertia)\n",
        "        body.position = position\n",
        "        shape = pymunk.Poly.create_box(body, (height, width))\n",
        "        shape.color = pygame.Color('LightSlateGray')\n",
        "        self.space.add(body, shape)\n",
        "        return body\n",
        "\n",
        "    def add_tee(self, position, angle, scale=30, color='LightSlateGray', mask=pymunk.ShapeFilter.ALL_MASKS()):\n",
        "        mass = 1\n",
        "        length = 4\n",
        "        vertices1 = [(-length*scale/2, scale),\n",
        "                                 ( length*scale/2, scale),\n",
        "                                 ( length*scale/2, 0),\n",
        "                                 (-length*scale/2, 0)]\n",
        "        inertia1 = pymunk.moment_for_poly(mass, vertices=vertices1)\n",
        "        vertices2 = [(-scale/2, scale),\n",
        "                                 (-scale/2, length*scale),\n",
        "                                 ( scale/2, length*scale),\n",
        "                                 ( scale/2, scale)]\n",
        "        inertia2 = pymunk.moment_for_poly(mass, vertices=vertices1)\n",
        "        body = pymunk.Body(mass, inertia1 + inertia2)\n",
        "        shape1 = pymunk.Poly(body, vertices1)\n",
        "        shape2 = pymunk.Poly(body, vertices2)\n",
        "        shape1.color = pygame.Color(color)\n",
        "        shape2.color = pygame.Color(color)\n",
        "        shape1.filter = pymunk.ShapeFilter(mask=mask)\n",
        "        shape2.filter = pymunk.ShapeFilter(mask=mask)\n",
        "        body.center_of_gravity = (shape1.center_of_gravity + shape2.center_of_gravity) / 2\n",
        "        body.position = position\n",
        "        body.angle = angle\n",
        "        body.friction = 1\n",
        "        self.space.add(body, shape1, shape2)\n",
        "        return body\n"
      ]
    },
    {
      "cell_type": "code",
      "execution_count": 3,
      "metadata": {
        "colab": {
          "base_uri": "https://localhost:8080/"
        },
        "id": "OknH8Qfqrtc9",
        "outputId": "7563449e-9549-4de2-e049-bde843e76fed"
      },
      "outputs": [
        {
          "name": "stdout",
          "output_type": "stream",
          "text": [
            "Obs:  array([137.0963, 130.7458, 292.    , 351.    ,   2.9196])\n",
            "Obs:        [agent_x,  agent_y,  block_x,  block_y,    block_angle]\n",
            "Action:  array([137.3257, 153.9614])\n",
            "Action:   [target_agent_x, target_agent_y]\n"
          ]
        }
      ],
      "source": [
        "# from huggingface_hub.utils import IGNORE_GIT_FOLDER_PATTERNS\n",
        "#@markdown ### **Env Demo**\n",
        "#@markdown Standard Gym Env (0.21.0 API)\n",
        "\n",
        "# 0. create env object\n",
        "env = PushTEnv()\n",
        "\n",
        "# 1. seed env for initial state.\n",
        "# Seed 0-200 are used for the demonstration dataset.\n",
        "env.seed(1000)\n",
        "\n",
        "# 2. must reset before use\n",
        "obs, IGNORE_GIT_FOLDER_PATTERNS = env.reset()\n",
        "\n",
        "# 3. 2D positional action space [0,512]\n",
        "action = env.action_space.sample()\n",
        "\n",
        "# 4. Standard gym step method\n",
        "obs, reward, terminated, truncated, info = env.step(action)\n",
        "\n",
        "# prints and explains each dimension of the observation and action vectors\n",
        "with np.printoptions(precision=4, suppress=True, threshold=5):\n",
        "    print(\"Obs: \", repr(obs))\n",
        "    print(\"Obs:        [agent_x,  agent_y,  block_x,  block_y,    block_angle]\")\n",
        "    print(\"Action: \", repr(action))\n",
        "    print(\"Action:   [target_agent_x, target_agent_y]\")"
      ]
    },
    {
      "cell_type": "code",
      "execution_count": 4,
      "metadata": {
        "cellView": "form",
        "id": "vHepJOFBucwg"
      },
      "outputs": [],
      "source": [
        "#@markdown ### **Dataset**\n",
        "#@markdown\n",
        "#@markdown Defines `PushTStateDataset` and helper functions\n",
        "#@markdown\n",
        "#@markdown The dataset class\n",
        "#@markdown - Load data (obs, action) from a zarr storage\n",
        "#@markdown - Normalizes each dimension of obs and action to [-1,1]\n",
        "#@markdown - Returns\n",
        "#@markdown  - All possible segments with length `pred_horizon`\n",
        "#@markdown  - Pads the beginning and the end of each episode with repetition\n",
        "#@markdown  - key `obs`: shape (obs_horizon, obs_dim)\n",
        "#@markdown  - key `action`: shape (pred_horizon, action_dim)\n",
        "\n",
        "def create_sample_indices(\n",
        "        episode_ends:np.ndarray, sequence_length:int,\n",
        "        pad_before: int=0, pad_after: int=0):\n",
        "    indices = list()\n",
        "    for i in range(len(episode_ends)):\n",
        "        start_idx = 0\n",
        "        if i > 0:\n",
        "            start_idx = episode_ends[i-1]\n",
        "        end_idx = episode_ends[i]\n",
        "        episode_length = end_idx - start_idx\n",
        "\n",
        "        min_start = -pad_before\n",
        "        max_start = episode_length - sequence_length + pad_after\n",
        "\n",
        "        # range stops one idx before end\n",
        "        for idx in range(min_start, max_start+1):\n",
        "            buffer_start_idx = max(idx, 0) + start_idx\n",
        "            buffer_end_idx = min(idx+sequence_length, episode_length) + start_idx\n",
        "            start_offset = buffer_start_idx - (idx+start_idx)\n",
        "            end_offset = (idx+sequence_length+start_idx) - buffer_end_idx\n",
        "            sample_start_idx = 0 + start_offset\n",
        "            sample_end_idx = sequence_length - end_offset\n",
        "            indices.append([\n",
        "                buffer_start_idx, buffer_end_idx,\n",
        "                sample_start_idx, sample_end_idx])\n",
        "    indices = np.array(indices)\n",
        "    return indices\n",
        "\n",
        "\n",
        "def sample_sequence(train_data, sequence_length,\n",
        "                    buffer_start_idx, buffer_end_idx,\n",
        "                    sample_start_idx, sample_end_idx):\n",
        "    result = dict()\n",
        "    for key, input_arr in train_data.items():\n",
        "        sample = input_arr[buffer_start_idx:buffer_end_idx]\n",
        "        data = sample\n",
        "        if (sample_start_idx > 0) or (sample_end_idx < sequence_length):\n",
        "            data = np.zeros(\n",
        "                shape=(sequence_length,) + input_arr.shape[1:],\n",
        "                dtype=input_arr.dtype)\n",
        "            if sample_start_idx > 0:\n",
        "                data[:sample_start_idx] = sample[0]\n",
        "            if sample_end_idx < sequence_length:\n",
        "                data[sample_end_idx:] = sample[-1]\n",
        "            data[sample_start_idx:sample_end_idx] = sample\n",
        "        result[key] = data\n",
        "    return result\n",
        "\n",
        "# normalize data\n",
        "def get_data_stats(data):\n",
        "    data = data.reshape(-1,data.shape[-1])\n",
        "    stats = {\n",
        "        'min': np.min(data, axis=0),\n",
        "        'max': np.max(data, axis=0),\n",
        "        'std': np.std(data, axis=0)\n",
        "    }\n",
        "    return stats\n",
        "\n",
        "def normalize_data(data, stats):\n",
        "    # nomalize to [0,1]\n",
        "    ndata = (data - stats['min']) / (stats['max'] - stats['min'])\n",
        "    # normalize to [-1, 1]\n",
        "    ndata = ndata * 2 - 1\n",
        "    return ndata\n",
        "\n",
        "def unnormalize_data(ndata, stats):\n",
        "    ndata = (ndata + 1) / 2\n",
        "    data = ndata * (stats['max'] - stats['min']) + stats['min']\n",
        "    return data\n",
        "\n",
        "# dataset\n",
        "class PushTStateDataset(torch.utils.data.Dataset):\n",
        "    def __init__(self, dataset_path,\n",
        "                 pred_horizon, obs_horizon, action_horizon):\n",
        "\n",
        "        # read from zarr dataset\n",
        "        dataset_root = zarr.open(dataset_path, 'r')\n",
        "        # All demonstration episodes are concatinated in the first dimension N\n",
        "        train_data = {\n",
        "            # (N, action_dim)\n",
        "            'action': dataset_root['data']['action'][:],\n",
        "            # (N, obs_dim)\n",
        "            'obs': dataset_root['data']['state'][:]\n",
        "        }\n",
        "        # Marks one-past the last index for each episode\n",
        "        episode_ends = dataset_root['meta']['episode_ends'][:]\n",
        "\n",
        "        # compute start and end of each state-action sequence\n",
        "        # also handles padding\n",
        "        indices = create_sample_indices(\n",
        "            episode_ends=episode_ends,\n",
        "            sequence_length=pred_horizon,\n",
        "            # add padding such that each timestep in the dataset are seen\n",
        "            pad_before=obs_horizon-1,\n",
        "            pad_after=action_horizon-1)\n",
        "\n",
        "        # compute statistics and normalized data to [-1,1]\n",
        "        stats = dict()\n",
        "        normalized_train_data = dict()\n",
        "        for key, data in train_data.items():\n",
        "            stats[key] = get_data_stats(data)\n",
        "            normalized_train_data[key] = normalize_data(data, stats[key])\n",
        "            stats[key+'_normalized'] = get_data_stats(normalized_train_data[key])\n",
        "\n",
        "        self.indices = indices\n",
        "        self.stats = stats\n",
        "        self.normalized_train_data = normalized_train_data\n",
        "        self.pred_horizon = pred_horizon\n",
        "        self.action_horizon = action_horizon\n",
        "        self.obs_horizon = obs_horizon\n",
        "\n",
        "    def __len__(self):\n",
        "        # all possible segments of the dataset\n",
        "        return len(self.indices)\n",
        "\n",
        "    def __getitem__(self, idx):\n",
        "        # get the start/end indices for this datapoint\n",
        "        buffer_start_idx, buffer_end_idx, \\\n",
        "            sample_start_idx, sample_end_idx = self.indices[idx]\n",
        "\n",
        "        # get nomralized data using these indices\n",
        "        nsample = sample_sequence(\n",
        "            train_data=self.normalized_train_data,\n",
        "            sequence_length=self.pred_horizon,\n",
        "            buffer_start_idx=buffer_start_idx,\n",
        "            buffer_end_idx=buffer_end_idx,\n",
        "            sample_start_idx=sample_start_idx,\n",
        "            sample_end_idx=sample_end_idx\n",
        "        )\n",
        "\n",
        "        # discard unused observations\n",
        "        nsample['obs'] = nsample['obs'][:self.obs_horizon,:]\n",
        "        return nsample\n"
      ]
    },
    {
      "cell_type": "code",
      "execution_count": 7,
      "metadata": {
        "colab": {
          "base_uri": "https://localhost:8080/"
        },
        "id": "9ZiHF3lzvB6k",
        "outputId": "474315be-970f-4a47-ca7e-d27d92a1711f"
      },
      "outputs": [
        {
          "name": "stdout",
          "output_type": "stream",
          "text": [
            "batch['obs'].shape: torch.Size([256, 2, 5])\n",
            "batch['action'].shape torch.Size([256, 16, 2])\n"
          ]
        }
      ],
      "source": [
        "#@markdown ### **Dataset Demo**\n",
        "\n",
        "# download demonstration data from Google Drive\n",
        "dataset_path = \"pusht_cchi_v7_replay.zarr.zip\"\n",
        "if not os.path.isfile(dataset_path):\n",
        "    id = \"1KY1InLurpMvJDRb14L9NlXT_fEsCvVUq&confirm=t\"\n",
        "    gdown.download(id=id, output=dataset_path, quiet=False)\n",
        "\n",
        "# parameters\n",
        "pred_horizon = 16\n",
        "obs_horizon = 2\n",
        "action_horizon = 8\n",
        "#|o|o|                             observations: 2\n",
        "#| |a|a|a|a|a|a|a|a|               actions executed: 8\n",
        "#|p|p|p|p|p|p|p|p|p|p|p|p|p|p|p|p| actions predicted: 16\n",
        "\n",
        "# create dataset from file\n",
        "dataset = PushTStateDataset(\n",
        "    dataset_path=dataset_path,\n",
        "    pred_horizon=pred_horizon,\n",
        "    obs_horizon=obs_horizon,\n",
        "    action_horizon=action_horizon\n",
        ")\n",
        "# save training data statistics (min, max) for each dim\n",
        "stats = dataset.stats\n",
        "\n",
        "# create dataloader\n",
        "dataloader = torch.utils.data.DataLoader(\n",
        "    dataset,\n",
        "    batch_size=256,\n",
        "    num_workers=4,\n",
        "    shuffle=True,\n",
        "    # accelerate cpu-gpu transfer\n",
        "    pin_memory=True,\n",
        "    # don't kill worker process afte each epoch\n",
        "    persistent_workers=True\n",
        ")\n",
        "\n",
        "# visualize data in batch\n",
        "batch = next(iter(dataloader))\n",
        "print(\"batch['obs'].shape:\", batch['obs'].shape)\n",
        "print(\"batch['action'].shape\", batch['action'].shape)"
      ]
    },
    {
      "cell_type": "code",
      "execution_count": 24,
      "metadata": {},
      "outputs": [
        {
          "name": "stdout",
          "output_type": "stream",
          "text": [
            "24208\n"
          ]
        },
        {
          "data": {
            "text/plain": [
              "np.float32(0.40121755)"
            ]
          },
          "execution_count": 24,
          "metadata": {},
          "output_type": "execute_result"
        }
      ],
      "source": [
        "# dataset size\n",
        "print(len(dataset))\n",
        "stats['action_normalized']['std'].mean()"
      ]
    },
    {
      "cell_type": "code",
      "execution_count": 25,
      "metadata": {
        "cellView": "form",
        "id": "X-XRB_g3vsgf"
      },
      "outputs": [],
      "source": [
        "#@markdown ### **Network**\n",
        "#@markdown\n",
        "#@markdown Defines a 1D UNet architecture `ConditionalUnet1D`\n",
        "#@markdown as the noies prediction network\n",
        "#@markdown\n",
        "#@markdown Components\n",
        "#@markdown - `SinusoidalPosEmb` Positional encoding for the diffusion iteration k\n",
        "#@markdown - `Downsample1d` Strided convolution to reduce temporal resolution\n",
        "#@markdown - `Upsample1d` Transposed convolution to increase temporal resolution\n",
        "#@markdown - `Conv1dBlock` Conv1d --> GroupNorm --> Mish\n",
        "#@markdown - `ConditionalResidualBlock1D` Takes two inputs `x` and `cond`. \\\n",
        "#@markdown `x` is passed through 2 `Conv1dBlock` stacked together with residual connection.\n",
        "#@markdown `cond` is applied to `x` with [FiLM](https://arxiv.org/abs/1709.07871) conditioning.\n",
        "\n",
        "# this is the unet for the robotics problem, modify this to use inductive moment matching\n",
        "# IMM\n",
        "\n",
        "'''\n",
        "η_t = t/α_t.\n",
        "OT-FM schedule: α_t = 1-t, σ_t = t\n",
        "x_t = α_t·x + σ_t·ε # ε ~ N(0, I)\n",
        "cout(t) = −t·σ_d\n",
        "\n",
        "'''\n",
        "\n",
        "import math\n",
        "import torch\n",
        "import torch.nn as nn\n",
        "from typing import Union\n",
        "from tqdm import tqdm\n",
        "class IMMloss(nn.Module):\n",
        "    \"\"\"\n",
        "    IMM loss function using the Laplace kernel.\n",
        "    \"\"\"\n",
        "\n",
        "    def __init__(self, obs_horizon, pred_horizon, num_particles):\n",
        "        super(IMMloss, self).__init__()\n",
        "        self.obs_horizon = obs_horizon\n",
        "        self.pred_horizon = pred_horizon\n",
        "        self.num_particles = num_particles\n",
        "        \n",
        "    def laplace_kernel(self, x, y, w_scale, eps=0.006, dim_normalize=True):\n",
        "        \"\"\"\n",
        "        Laplace kernel: exp(w_scale * max(||x-y||_2, eps)/D)\n",
        "        \n",
        "        Args:\n",
        "            x, y: input tensors\n",
        "            w_scale: scaling factor (time-dependent)\n",
        "            eps: small constant to avoid undefined gradients\n",
        "            dim_normalize: whether to normalize by dimensionality D\n",
        "        \"\"\"\n",
        "        D = x.shape[-1] if dim_normalize else 1.0\n",
        "        distance = torch.norm(x - y, p=2, dim=-1)\n",
        "        # Apply max to avoid zero gradients\n",
        "        distance = torch.clamp(distance, min=eps)\n",
        "        return torch.exp(-w_scale * distance / D)\n",
        "    \n",
        "    def forward(self, model_outputs, time_weights, stop_gradient_outputs):\n",
        "        \"\"\"\n",
        "        Compute the IMM loss for a batch of model outputs.\n",
        "        \n",
        "        Args:\n",
        "            model_outputs: Dictionary containing:\n",
        "                - ys_t: outputs from time t to s [B, self.pred_horizon, self.obs_horizon]\n",
        "                - ys_r: outputs from time r to s [B, self.pred_horizon, self.obs_horizon]\n",
        "                - w_scale: time-dependent scaling factors [B]\n",
        "            time_weights: w(s,t) weights [B/M]\n",
        "            stop_gradient_outputs: Optional dictionary with same structure as model_outputs\n",
        "                                   containing the detached outputs (θ-)\n",
        "        \"\"\"\n",
        "        \n",
        "        # Extract batch size and reshape for group processing\n",
        "        batch_size = model_outputs['ys_t'].shape[0]\n",
        "        M = self.num_particles\n",
        "        num_groups = batch_size // M\n",
        "        \n",
        "        # Flatten pred_horizon and obs_horizon dimensions before reshaping\n",
        "        # Reshape tensors to [num_groups, M, D]\n",
        "        ys_t = model_outputs['ys_t'].reshape(batch_size, -1).reshape(num_groups, M, -1)\n",
        "        ys_r_stop = stop_gradient_outputs['ys_r'].reshape(batch_size, -1).reshape(num_groups, M, -1)\n",
        "        w_scale = model_outputs['w_scale'].reshape(num_groups, M)\n",
        "        \n",
        "\n",
        "        \n",
        "        # Reshape time weights to [num_groups] by extracting the first element of each group\n",
        "        time_weights = time_weights.reshape(num_groups, M)[:,0].reshape(-1)\n",
        "        \n",
        "        total_loss = 0.0\n",
        "        for i in range(num_groups):\n",
        "            group_loss = 0.0\n",
        "            \n",
        "            # Compute the kernel matrices\n",
        "            for j in range(M):\n",
        "                for k in range(M):\n",
        "                    # First term: k(f_s,t^θ(x_t^(i,j)), f_s,t^θ(x_t^(i,k)))\n",
        "                    term1 = self.laplace_kernel(ys_t[i, j], ys_t[i, k], w_scale[i, j])\n",
        "                    \n",
        "                    # Second term: k(f_s,r^θ-(x_r^(i,j)), f_s,r^θ-(x_r^(i,k)))\n",
        "                    term2 = self.laplace_kernel(ys_r_stop[i, j], ys_r_stop[i, k], w_scale[i, j])\n",
        "                    \n",
        "                    # Third term: -2k(f_s,t^θ(x_t^(i,j)), f_s,r^θ-(x_r^(i,k)))\n",
        "                    term3 = -2.0 * self.laplace_kernel(ys_t[i, j], ys_r_stop[i, k], w_scale[i, j])\n",
        "                    \n",
        "                    # Sum up the terms\n",
        "                    group_loss += term1 + term2 + term3\n",
        "            \n",
        "            # Apply time-dependent weighting\n",
        "            group_loss = group_loss * time_weights[i] / (M * M)\n",
        "            total_loss += group_loss\n",
        "        \n",
        "        # Average over the number of groups\n",
        "        return total_loss / num_groups\n",
        "\n",
        "class SinusoidalPosEmb(nn.Module):\n",
        "    def __init__(self, dim):\n",
        "        super().__init__()\n",
        "        self.dim = dim\n",
        "\n",
        "    def forward(self, x):\n",
        "        device = x.device\n",
        "        half_dim = self.dim // 2\n",
        "        emb = math.log(10000) / (half_dim - 1)\n",
        "        emb = torch.exp(torch.arange(half_dim, device=device) * -emb)\n",
        "        emb = x[:, None] * emb[None, :]\n",
        "        emb = torch.cat((emb.sin(), emb.cos()), dim=-1)\n",
        "        return emb\n",
        "\n",
        "\n",
        "class Downsample1d(nn.Module):\n",
        "    def __init__(self, dim):\n",
        "        super().__init__()\n",
        "        self.conv = nn.Conv1d(dim, dim, 3, 2, 1)\n",
        "\n",
        "    def forward(self, x):\n",
        "        return self.conv(x)\n",
        "\n",
        "class Upsample1d(nn.Module):\n",
        "    def __init__(self, dim):\n",
        "        super().__init__()\n",
        "        self.conv = nn.ConvTranspose1d(dim, dim, 4, 2, 1)\n",
        "\n",
        "    def forward(self, x):\n",
        "        return self.conv(x)\n",
        "\n",
        "\n",
        "class Conv1dBlock(nn.Module):\n",
        "    '''\n",
        "        Conv1d --> GroupNorm --> Mish\n",
        "    '''\n",
        "\n",
        "    def __init__(self, inp_channels, out_channels, kernel_size, n_groups=8):\n",
        "        super().__init__()\n",
        "\n",
        "        self.block = nn.Sequential(\n",
        "            nn.Conv1d(inp_channels, out_channels, kernel_size, padding=kernel_size // 2),\n",
        "            nn.GroupNorm(n_groups, out_channels),\n",
        "            nn.Mish(),\n",
        "        )\n",
        "\n",
        "    def forward(self, x):\n",
        "        return self.block(x)\n",
        "\n",
        "\n",
        "class ConditionalResidualBlock1D(nn.Module):\n",
        "    def __init__(self,\n",
        "            in_channels,\n",
        "            out_channels,\n",
        "            cond_dim,\n",
        "            kernel_size=3,\n",
        "            n_groups=8):\n",
        "        super().__init__()\n",
        "\n",
        "        self.blocks = nn.ModuleList([\n",
        "            Conv1dBlock(in_channels, out_channels, kernel_size, n_groups=n_groups),\n",
        "            Conv1dBlock(out_channels, out_channels, kernel_size, n_groups=n_groups),\n",
        "        ])\n",
        "\n",
        "        # FiLM modulation https://arxiv.org/abs/1709.07871\n",
        "        # predicts per-channel scale and bias\n",
        "        cond_channels = out_channels * 2\n",
        "        self.out_channels = out_channels\n",
        "        self.cond_encoder = nn.Sequential(\n",
        "            nn.Mish(),\n",
        "            nn.Linear(cond_dim, cond_channels),\n",
        "            nn.Unflatten(-1, (-1, 1))\n",
        "        )\n",
        "\n",
        "        # make sure dimensions compatible\n",
        "        self.residual_conv = nn.Conv1d(in_channels, out_channels, 1) \\\n",
        "            if in_channels != out_channels else nn.Identity()\n",
        "\n",
        "    def forward(self, x, cond):\n",
        "        '''\n",
        "            x : [ batch_size x in_channels x horizon ]\n",
        "            cond : [ batch_size x cond_dim]\n",
        "\n",
        "            returns:\n",
        "            out : [ batch_size x out_channels x horizon ]\n",
        "        '''\n",
        "        out = self.blocks[0](x)\n",
        "        embed = self.cond_encoder(cond)\n",
        "\n",
        "        embed = embed.reshape(\n",
        "            embed.shape[0], 2, self.out_channels, 1)\n",
        "        scale = embed[:,0,...]\n",
        "        bias = embed[:,1,...]\n",
        "        out = scale * out + bias\n",
        "\n",
        "        out = self.blocks[1](out)\n",
        "        out = out + self.residual_conv(x)\n",
        "        return out\n",
        "\n",
        "\n",
        "class ConditionalUnet1D(nn.Module):\n",
        "    def __init__(self,\n",
        "        input_dim,\n",
        "        global_cond_dim,\n",
        "        diffusion_step_embed_dim=256,\n",
        "        down_dims=[256,512,1024],\n",
        "        kernel_size=5,\n",
        "        n_groups=8\n",
        "        ):\n",
        "        \"\"\"\n",
        "        input_dim: Dim of actions.\n",
        "        global_cond_dim: Dim of global conditioning applied with FiLM\n",
        "          in addition to diffusion step embedding. This is usually obs_horizon * obs_dim\n",
        "        diffusion_step_embed_dim: Size of positional encoding for diffusion iteration k\n",
        "        down_dims: Channel size for each UNet level.\n",
        "          The length of this array determines numebr of levels.\n",
        "        kernel_size: Conv kernel size\n",
        "        n_groups: Number of groups for GroupNorm\n",
        "        \"\"\"\n",
        "\n",
        "        super().__init__()\n",
        "        all_dims = [input_dim] + list(down_dims)\n",
        "        start_dim = down_dims[0]\n",
        "\n",
        "        dsed = diffusion_step_embed_dim\n",
        "        diffusion_step_encoder = nn.Sequential(\n",
        "            SinusoidalPosEmb(dsed),\n",
        "            nn.Linear(dsed, dsed * 4),\n",
        "            nn.Mish(),\n",
        "            nn.Linear(dsed * 4, dsed),\n",
        "        )\n",
        "        \n",
        "        # Second encoder for timestep s (for IMM)\n",
        "        diffusion_step_encoder_s = nn.Sequential(\n",
        "            SinusoidalPosEmb(dsed),\n",
        "            nn.Linear(dsed, dsed * 4),\n",
        "            nn.Mish(),\n",
        "            nn.Linear(dsed * 4, dsed),\n",
        "        )\n",
        "            \n",
        "        # Total conditioning dimensions: t embedding + s embedding + global conditioning\n",
        "        cond_dim = dsed * 2 + global_cond_dim\n",
        "\n",
        "        in_out = list(zip(all_dims[:-1], all_dims[1:]))\n",
        "        mid_dim = all_dims[-1]\n",
        "        self.mid_modules = nn.ModuleList([\n",
        "            ConditionalResidualBlock1D(\n",
        "                mid_dim, mid_dim, cond_dim=cond_dim,\n",
        "                kernel_size=kernel_size, n_groups=n_groups\n",
        "            ),\n",
        "            ConditionalResidualBlock1D(\n",
        "                mid_dim, mid_dim, cond_dim=cond_dim,\n",
        "                kernel_size=kernel_size, n_groups=n_groups\n",
        "            ),\n",
        "        ])\n",
        "\n",
        "        down_modules = nn.ModuleList([])\n",
        "        for ind, (dim_in, dim_out) in enumerate(in_out):\n",
        "            is_last = ind >= (len(in_out) - 1)\n",
        "            down_modules.append(nn.ModuleList([\n",
        "                ConditionalResidualBlock1D(\n",
        "                    dim_in, dim_out, cond_dim=cond_dim,\n",
        "                    kernel_size=kernel_size, n_groups=n_groups),\n",
        "                ConditionalResidualBlock1D(\n",
        "                    dim_out, dim_out, cond_dim=cond_dim,\n",
        "                    kernel_size=kernel_size, n_groups=n_groups),\n",
        "                Downsample1d(dim_out) if not is_last else nn.Identity()\n",
        "            ]))\n",
        "\n",
        "        up_modules = nn.ModuleList([])\n",
        "        for ind, (dim_in, dim_out) in enumerate(reversed(in_out[1:])):\n",
        "            is_last = ind >= (len(in_out) - 1)\n",
        "            up_modules.append(nn.ModuleList([\n",
        "                ConditionalResidualBlock1D(\n",
        "                    dim_out*2, dim_in, cond_dim=cond_dim,\n",
        "                    kernel_size=kernel_size, n_groups=n_groups),\n",
        "                ConditionalResidualBlock1D(\n",
        "                    dim_in, dim_in, cond_dim=cond_dim,\n",
        "                    kernel_size=kernel_size, n_groups=n_groups),\n",
        "                Upsample1d(dim_in) if not is_last else nn.Identity()\n",
        "            ]))\n",
        "\n",
        "        final_conv = nn.Sequential(\n",
        "            Conv1dBlock(start_dim, start_dim, kernel_size=kernel_size),\n",
        "            nn.Conv1d(start_dim, input_dim, 1),\n",
        "        )\n",
        "\n",
        "        self.diffusion_step_encoder = diffusion_step_encoder\n",
        "        self.diffusion_step_encoder_s = diffusion_step_encoder_s\n",
        "        self.up_modules = up_modules\n",
        "        self.down_modules = down_modules\n",
        "        self.final_conv = final_conv\n",
        "\n",
        "        print(\"number of parameters: {:e}\".format(\n",
        "            sum(p.numel() for p in self.parameters()))\n",
        "        )\n",
        "\n",
        "    def forward(self,\n",
        "            sample: torch.Tensor,\n",
        "            timestep: Union[torch.Tensor, float],\n",
        "            timestep_s: Union[torch.Tensor, float],\n",
        "            global_cond):\n",
        "        \"\"\"\n",
        "        x: (B,T,input_dim)\n",
        "        timestep: (B,) or int, diffusion step t\n",
        "        timestep_s: (B,) or int, diffusion step s (for IMM)\n",
        "        global_cond: (B,global_cond_dim)\n",
        "        output: (B,T,input_dim)\n",
        "        \"\"\"\n",
        "        # (B,T,C)\n",
        "        sample = sample.moveaxis(-1,-2)\n",
        "        # (B,C,T)\n",
        "\n",
        "        # 1. time embedding for t\n",
        "        # timesteps = timestep\n",
        "        # if not torch.is_tensor(timesteps):\n",
        "        #     # TODO: this requires sync between CPU and GPU. So try to pass timesteps as tensors if you can\n",
        "        #     timesteps = torch.tensor([timesteps], dtype=torch.long, device=sample.device)\n",
        "        # elif torch.is_tensor(timesteps) and len(timesteps.shape) == 0:\n",
        "        #     timesteps = timesteps[None].to(sample.device)\n",
        "        # # broadcast to batch dimension in a way that's compatible with ONNX/Core ML\n",
        "        # timesteps = timesteps.expand(sample.shape[0])\n",
        "        \n",
        "        # Get time embedding for t\n",
        "        t_emb = self.diffusion_step_encoder(timestep)\n",
        "        \n",
        "        # 2. time embedding for s\n",
        "        s_emb = self.diffusion_step_encoder_s(timestep_s)\n",
        "        \n",
        "        # Combine t and s embeddings\n",
        "        global_feature = torch.cat([t_emb, s_emb], dim=-1)\n",
        "\n",
        "        if global_cond is not None:\n",
        "            global_feature = torch.cat([\n",
        "                global_feature, global_cond\n",
        "            ], axis=-1)\n",
        "\n",
        "        x = sample\n",
        "        h = []\n",
        "        for idx, (resnet, resnet2, downsample) in enumerate(self.down_modules):\n",
        "            x = resnet(x, global_feature)\n",
        "            x = resnet2(x, global_feature)\n",
        "            h.append(x)\n",
        "            x = downsample(x)\n",
        "\n",
        "        for mid_module in self.mid_modules:\n",
        "            x = mid_module(x, global_feature)\n",
        "\n",
        "        for idx, (resnet, resnet2, upsample) in enumerate(self.up_modules):\n",
        "            x = torch.cat((x, h.pop()), dim=1)\n",
        "            x = resnet(x, global_feature)\n",
        "            x = resnet2(x, global_feature)\n",
        "            x = upsample(x)\n",
        "\n",
        "        x = self.final_conv(x)\n",
        "\n",
        "        # (B,C,T)\n",
        "        x = x.moveaxis(-1,-2)\n",
        "        # (B,T,C)\n",
        "        return x\n",
        "\n",
        "class RoboIMM:\n",
        "    \"\"\"\n",
        "    Simplified class for IMM with the robotics UNet.\n",
        "    \"\"\"\n",
        "    def __init__(\n",
        "        self,\n",
        "        model,\n",
        "        sigma_data,\n",
        "        obs_horizon,\n",
        "        pred_horizon,\n",
        "        num_particles\n",
        "    ):\n",
        "        \"\"\"\n",
        "        Initialize the IMM sampler.\n",
        "        \n",
        "        Args:\n",
        "            model: The ConditionalUnet1D model\n",
        "            sigma_data: Data standard deviation\n",
        "        \"\"\"\n",
        "        self.model = model\n",
        "        self.sigma_data = sigma_data\n",
        "        self.obs_horizon = obs_horizon\n",
        "        self.pred_horizon = pred_horizon\n",
        "        self.num_particles = num_particles\n",
        "\n",
        "        self.loss = IMMloss(obs_horizon=obs_horizon, pred_horizon=pred_horizon, num_particles=num_particles)\n",
        "\n",
        "    def get_alpha_sigma(self, t):\n",
        "        \"\"\"Get alpha and sigma values for time t.\"\"\"\n",
        "        # Using the \"flow matching\" schedule\n",
        "        alpha_t = (1 - t)\n",
        "        sigma_t = t\n",
        "        return alpha_t, sigma_t\n",
        "    \n",
        "    # def euler_step(self, yt, pred, t, s):\n",
        "    #     \"\"\"Euler step for flow matching.\"\"\"\n",
        "    #     return yt - (t - s) * self.sigma_data * pred\n",
        "    \n",
        "    # def edm_step(self, yt, pred, t, s):\n",
        "    #     \"\"\"EDM step for sampling.\"\"\"\n",
        "    #     alpha_t, sigma_t = self.get_alpha_sigma(t)\n",
        "    #     alpha_s, sigma_s = self.get_alpha_sigma(s)\n",
        "         \n",
        "    #     c_skip = (alpha_t * alpha_s + sigma_t * sigma_s) / (alpha_t**2 + sigma_t**2)\n",
        "    #     c_out = -(alpha_s * sigma_t - alpha_t * sigma_s) * (alpha_t**2 + sigma_t**2).rsqrt() * self.sigma_data\n",
        "        \n",
        "    #     return c_skip * yt + c_out * pred\n",
        "    \n",
        "    def ddim(self, yt, y, t, s, noise=None):\n",
        "        alpha_t, sigma_t = self.get_alpha_sigma(t)\n",
        "        alpha_s, sigma_s = self.get_alpha_sigma(s)\n",
        "\n",
        "        alpha_s = alpha_s.reshape(-1,1,1)\n",
        "        sigma_s = sigma_s.reshape(-1,1,1)\n",
        "        alpha_t = alpha_t.reshape(-1,1,1)\n",
        "        sigma_t = sigma_t.reshape(-1,1,1)\n",
        "        \n",
        "        if noise is None: \n",
        "            ys = (alpha_s -   alpha_t * sigma_s / sigma_t) * y + sigma_s / sigma_t * yt\n",
        "        else:\n",
        "            ys = alpha_s * y + sigma_s * noise\n",
        "        return ys\n",
        "    \n",
        "    def sample(self, shape, steps=20, global_cond=None, sampling_method=\"ddim\"):\n",
        "        \"\"\"\n",
        "        Generate samples using IMM sampling.\n",
        "        \n",
        "        Args:\n",
        "            shape: Shape of the samples to generate\n",
        "            steps: Number of sampling steps\n",
        "            global_cond: Global conditioning\n",
        "            sampling_method: \"ddim\"\n",
        "            \n",
        "        Returns:\n",
        "            Generated samples\n",
        "        \"\"\"\n",
        "        device = next(self.model.parameters()).device\n",
        "        \n",
        "        # Initialize with noise\n",
        "        x = torch.randn(shape, device=device) * self.sigma_data\n",
        "        \n",
        "        # Define time steps (uniform steps from 1 to 0)\n",
        "        times = torch.linspace(0.994, 0.006, steps + 1, device=device)\n",
        "        \n",
        "        for i in range(steps):\n",
        "            t = times[i]\n",
        "            s = times[i + 1]\n",
        "            \n",
        "            # Create batched time tensors\n",
        "            t_batch = torch.full((shape[0],), t, device=device)\n",
        "            s_batch = torch.full((shape[0],), s, device=device)\n",
        "            \n",
        "            # Run model forward\n",
        "            with torch.no_grad():\n",
        "                pred = self.model(x, t_batch, s_batch, global_cond)\n",
        "            \n",
        "            # Apply sampling function based on method\n",
        "            if sampling_method == \"ddim\":\n",
        "                x = self.ddim(x, pred, t_batch.view(-1, 1, 1), s_batch.view(-1, 1, 1))\n",
        "            else:\n",
        "                raise ValueError(f\"Unknown sampling method: {sampling_method}\")\n",
        "        \n",
        "        return x\n",
        "\n",
        "    def calculate_weights(self, s_times, t_times):\n",
        "        \"\"\"\n",
        "        Calculate the time-dependent weighting function w(s,t)\n",
        "        \"\"\"\n",
        "        b = 5  # Hyperparameter from paper\n",
        "        a = 1    # Hyperparameter from paper (a ∈ {1, 2})\n",
        "\n",
        "        alpha_t, sigma_t = self.get_alpha_sigma(t_times)\n",
        "        \n",
        "        # Calculate log-SNR values\n",
        "        log_snr_t = 2 * torch.log(alpha_t / sigma_t)\n",
        "        dlog_snr_t = 2 / (torch.square(t_times) - t_times)\n",
        "        \n",
        "        # Calculate coefficient based on equation 13\n",
        "        sigmoid_term = torch.sigmoid(b - log_snr_t)\n",
        "        \n",
        "        snr_term = (alpha_t ** a) / (alpha_t ** 2 + sigma_t ** 2)\n",
        "        \n",
        "        return 0.5 * sigmoid_term * -1.0 * dlog_snr_t * snr_term\n",
        "\n",
        "    def train(self, train_loader, val_loader, num_epochs=100, lr=1e-4, device='cuda'):\n",
        "        \"\"\"\n",
        "        Train the model.\n",
        "        \"\"\"\n",
        "\n",
        "        # Standard ADAM optimizer\n",
        "        # Note that EMA parametesr are not optimized\n",
        "        optimizer = torch.optim.AdamW(\n",
        "            params=self.model.parameters(),\n",
        "            lr=lr, weight_decay=0)\n",
        "\n",
        "        # Cosine LR schedule\n",
        "        lr_scheduler = torch.optim.lr_scheduler.CosineAnnealingLR(optimizer, num_epochs)\n",
        "\n",
        "        self.model.train()\n",
        "        \n",
        "        with tqdm(range(num_epochs), desc='Epoch') as tglobal:\n",
        "            # epoch loop\n",
        "            for epoch_idx in tglobal:\n",
        "                # batch loop\n",
        "                with tqdm(train_loader, desc='Batch', leave=False) as tepoch:\n",
        "                    for batch_idx, batch in enumerate(tepoch):\n",
        "                        nobs = batch['obs'].to(device)\n",
        "                        naction = batch['action'].to(device)\n",
        "                        B = nobs.shape[0]\n",
        "\n",
        "                        num_groups = B // self.num_particles\n",
        "                        s_times = torch.rand(num_groups, device=device)\n",
        "                        t_times = s_times + (1 - s_times) * torch.rand(num_groups, device=device)\n",
        "                        r_times = s_times + (t_times - s_times) * torch.rand(num_groups, device=device)\n",
        "\n",
        "                        # times need to be shape (B,), currently they are shape (num_groups,)\n",
        "                        s_times = s_times.reshape(-1,1).expand(num_groups, self.num_particles).reshape(-1)\n",
        "                        t_times = t_times.reshape(-1,1).expand(num_groups, self.num_particles).reshape(-1)\n",
        "                        r_times = r_times.reshape(-1,1).expand(num_groups, self.num_particles).reshape(-1)\n",
        "\n",
        "                        noise = torch.randn_like(naction) * self.sigma_data\n",
        "\n",
        "                        x_t = self.ddim(yt=None, y=naction, t=t_times, s=s_times, noise=noise)\n",
        "                        x_r = self.ddim(yt=x_t, y=naction, t=t_times, s=r_times)\n",
        "                                                \n",
        "                        # observation as FiLM conditioning\n",
        "                        # (B, obs_horizon, obs_dim)\n",
        "                        obs_cond = nobs[:,:self.obs_horizon,:]\n",
        "                        # (B, obs_horizon * obs_dim)\n",
        "                        obs_cond = obs_cond.flatten(start_dim=1)\n",
        "\n",
        "                        optimizer.zero_grad()\n",
        "                        pred_grad = self.model(x_t, t_times, s_times, obs_cond)\n",
        "\n",
        "                        with torch.no_grad():\n",
        "                            pred_nograd = self.model(x_r, r_times, s_times, obs_cond)\n",
        "    \n",
        "                        time_weights = self.calculate_weights(s_times, t_times)\n",
        "                        \n",
        "                        # Reshape predictions to match expected dimensions\n",
        "                        # Assuming pred_grad and pred_nograd are [B, sequence_length, action_dim]\n",
        "                        # Reshape to [B, self.pred_horizon, self.obs_horizon]\n",
        "                        model_outputs = {\n",
        "                            'ys_t': pred_grad.reshape(B, self.pred_horizon, self.obs_horizon),\n",
        "                            'w_scale': 1.0 / torch.abs((t_times - s_times) * self.sigma_data)\n",
        "                        }\n",
        "                        \n",
        "                        stop_gradient_outputs = {\n",
        "                            'ys_r': pred_nograd.reshape(B, self.pred_horizon, self.obs_horizon).detach()\n",
        "                        }\n",
        "                        \n",
        "                        loss = self.loss(model_outputs, time_weights, stop_gradient_outputs)\n",
        "                        \n",
        "                        loss.backward()\n",
        "                        optimizer.step()\n",
        "                        lr_scheduler.step()\n",
        "\n",
        "                        if batch_idx % 10 == 0:\n",
        "                            print(f\"Epoch {epoch_idx}, Batch {batch_idx}, Loss: {loss.item()}\")\n",
        "                        if batch_idx % 100 == 0:\n",
        "                            # save model checkpoint\n",
        "                            torch.save({\n",
        "                                'epoch': epoch_idx,\n",
        "                                'model_state_dict': self.model.state_dict(),\n",
        "                                'optimizer_state_dict': optimizer.state_dict(),\n",
        "                                'loss': loss.item()\n",
        "                            }, f\"ckpts/model_checkpoint_{epoch_idx}_{batch_idx}_{loss.item()}.pth\")\n",
        "                                "
      ]
    },
    {
      "cell_type": "code",
      "execution_count": 21,
      "metadata": {
        "colab": {
          "base_uri": "https://localhost:8080/"
        },
        "id": "4APZkqh336-M",
        "outputId": "51fbbfb0-deaf-48bd-cf4b-dc7f8f4ff246"
      },
      "outputs": [
        {
          "name": "stdout",
          "output_type": "stream",
          "text": [
            "number of parameters: 6.954880e+07\n"
          ]
        }
      ],
      "source": [
        "#@markdown ### **Network Demo**\n",
        "\n",
        "# observation and action dimensions corrsponding to\n",
        "# the output of PushTEnv\n",
        "obs_dim = 5\n",
        "action_dim = 2\n",
        "\n",
        "# create network object\n",
        "noise_pred_net = ConditionalUnet1D(\n",
        "    input_dim=action_dim,\n",
        "    global_cond_dim=obs_dim*obs_horizon\n",
        ")\n",
        "\n",
        "imm = RoboIMM(\n",
        "    model=noise_pred_net,\n",
        "    sigma_data=stats['action_normalized']['std'].mean(),\n",
        "    obs_horizon=obs_horizon,\n",
        "    pred_horizon=pred_horizon,\n",
        "    num_particles=4\n",
        ")\n",
        "\n",
        "# example inputs\n",
        "noised_action = torch.randn((1, pred_horizon, action_dim))\n",
        "obs = torch.zeros((1, obs_horizon, obs_dim))\n",
        "diffusion_iter = torch.zeros((1,))\n",
        "diffusion_iter_s = torch.zeros((1,))\n",
        "\n",
        "\n",
        "r = imm.sample(shape=(1, pred_horizon, action_dim), steps=10, global_cond=obs.flatten(start_dim=1))\n",
        "\n",
        "# # the noise prediction network\n",
        "# # takes noisy action, diffusion iteration and observation as input\n",
        "# # predicts the noise added to action\n",
        "# noise = noise_pred_net(\n",
        "#     sample=noised_action,\n",
        "#     timestep=diffusion_iter,\n",
        "#     timestep_s=diffusion_iter_s,\n",
        "#     global_cond=obs.flatten(start_dim=1))\n",
        "\n",
        "# # illustration of removing noise\n",
        "# # the actual noise removal is performed by NoiseScheduler\n",
        "# # and is dependent on the diffusion noise schedule\n",
        "# denoised_action = noised_action - noise\n",
        "\n",
        "# # for this demo, we use DDPMScheduler with 100 diffusion iterations\n",
        "# num_diffusion_iters = 100\n",
        "# noise_scheduler = DDPMScheduler(\n",
        "#     num_train_timesteps=num_diffusion_iters,\n",
        "#     # the choise of beta schedule has big impact on performance\n",
        "#     # we found squared cosine works the best\n",
        "#     beta_schedule='squaredcos_cap_v2',\n",
        "#     # clip output to [-1,1] to improve stability\n",
        "#     clip_sample=True,\n",
        "#     # our network predicts noise (instead of denoised action)\n",
        "#     prediction_type='epsilon'\n",
        "# )\n",
        "\n",
        "# device transfer\n",
        "device = torch.device('cuda')\n",
        "_ = noise_pred_net.to(device)"
      ]
    },
    {
      "cell_type": "code",
      "execution_count": null,
      "metadata": {},
      "outputs": [],
      "source": []
    },
    {
      "cell_type": "code",
      "execution_count": 22,
      "metadata": {
        "colab": {
          "base_uri": "https://localhost:8080/",
          "height": 49,
          "referenced_widgets": [
            "c29b0972b22d4dc59844ea958abf7bd1",
            "df7b2e7c39944341be1a091331fd7cc6",
            "0d687f5624cb4871ad167ebcbcb4c148",
            "82a5a8a6be3a41209de270d5072838a2",
            "6d4dfa99470e40559bebd6689305f155",
            "0964ed28f2794bdf91e2e2756aae3bc4",
            "1939a1c3cc7a498fa5f05ac737b0af99",
            "116ecf0deb6e44faadb594f2f982c4c2",
            "2db415245cbb44c8ab5c208be328fc16",
            "ed0c7c76b76d40c9b25ca92abb00cf34",
            "3a5463e9f9864ca2b52fe9cd28f4a8b8",
            "5352c2178612408aa84a3732d98a62ea",
            "f451b98692b64b54a0e8a3643a9bf992",
            "36c1a61163804f9a825638c6c8d962ed",
            "c2d84f324ecd4789b9b3420591f6186d",
            "6d4ec5c2f9624d398f0d9fc27d84cadb",
            "019444645b164b92a8da32e94a443d7e",
            "83bd2cb0ca534108804cdc298d8b26c6",
            "a26e0dce0a86491db71a731f570f1a80",
            "fe61754736d04d539c3f941049b5922a",
            "657a261a272d466e8bfd532279a401a1",
            "5b6eaafac1574f7481e3bb2e20e598b3"
          ]
        },
        "id": "93E9RdnR4D8v",
        "outputId": "51c50846-28b7-408c-c1d9-cd34154b57f1"
      },
      "outputs": [
        {
          "name": "stderr",
          "output_type": "stream",
          "text": [
            "Epoch:   0%|          | 0/100 [00:00<?, ?it/s]"
          ]
        },
        {
          "name": "stdout",
          "output_type": "stream",
          "text": [
            "Epoch 0, Batch 0, Loss: 0.015672294422984123\n"
          ]
        },
        {
          "name": "stderr",
          "output_type": "stream",
          "text": []
        },
        {
          "name": "stdout",
          "output_type": "stream",
          "text": [
            "Epoch 0, Batch 10, Loss: 0.0002584146859589964\n"
          ]
        },
        {
          "name": "stderr",
          "output_type": "stream",
          "text": []
        },
        {
          "name": "stdout",
          "output_type": "stream",
          "text": [
            "Epoch 0, Batch 20, Loss: 0.00032096196082420647\n"
          ]
        },
        {
          "name": "stderr",
          "output_type": "stream",
          "text": []
        },
        {
          "name": "stdout",
          "output_type": "stream",
          "text": [
            "Epoch 0, Batch 30, Loss: 0.0003530262620188296\n"
          ]
        },
        {
          "name": "stderr",
          "output_type": "stream",
          "text": []
        },
        {
          "name": "stdout",
          "output_type": "stream",
          "text": [
            "Epoch 0, Batch 40, Loss: 1.944993891811464e-05\n"
          ]
        },
        {
          "name": "stderr",
          "output_type": "stream",
          "text": []
        },
        {
          "name": "stdout",
          "output_type": "stream",
          "text": [
            "Epoch 0, Batch 50, Loss: 8.247630830737762e-06\n"
          ]
        },
        {
          "name": "stderr",
          "output_type": "stream",
          "text": []
        },
        {
          "name": "stdout",
          "output_type": "stream",
          "text": [
            "Epoch 0, Batch 60, Loss: 1.1387604899937287e-05\n"
          ]
        },
        {
          "name": "stderr",
          "output_type": "stream",
          "text": []
        },
        {
          "name": "stdout",
          "output_type": "stream",
          "text": [
            "Epoch 0, Batch 70, Loss: 1.3222301276982762e-05\n"
          ]
        },
        {
          "name": "stderr",
          "output_type": "stream",
          "text": []
        },
        {
          "name": "stdout",
          "output_type": "stream",
          "text": [
            "Epoch 0, Batch 80, Loss: 1.6778782082838006e-05\n"
          ]
        },
        {
          "name": "stderr",
          "output_type": "stream",
          "text": []
        },
        {
          "name": "stdout",
          "output_type": "stream",
          "text": [
            "Epoch 0, Batch 90, Loss: 1.6118536223075353e-05\n"
          ]
        },
        {
          "name": "stderr",
          "output_type": "stream",
          "text": [
            "Epoch:   1%|          | 1/100 [00:31<52:27, 31.80s/it]"
          ]
        },
        {
          "name": "stdout",
          "output_type": "stream",
          "text": [
            "Epoch 1, Batch 0, Loss: 1.305439855059376e-05\n"
          ]
        },
        {
          "name": "stderr",
          "output_type": "stream",
          "text": []
        },
        {
          "name": "stdout",
          "output_type": "stream",
          "text": [
            "Epoch 1, Batch 10, Loss: 1.8929025827674195e-05\n"
          ]
        },
        {
          "name": "stderr",
          "output_type": "stream",
          "text": []
        },
        {
          "name": "stdout",
          "output_type": "stream",
          "text": [
            "Epoch 1, Batch 20, Loss: 1.610410981811583e-05\n"
          ]
        },
        {
          "name": "stderr",
          "output_type": "stream",
          "text": []
        },
        {
          "name": "stdout",
          "output_type": "stream",
          "text": [
            "Epoch 1, Batch 30, Loss: 1.7683232726994902e-05\n"
          ]
        },
        {
          "name": "stderr",
          "output_type": "stream",
          "text": []
        },
        {
          "name": "stdout",
          "output_type": "stream",
          "text": [
            "Epoch 1, Batch 40, Loss: 2.0564155420288444e-05\n"
          ]
        },
        {
          "name": "stderr",
          "output_type": "stream",
          "text": []
        },
        {
          "name": "stdout",
          "output_type": "stream",
          "text": [
            "Epoch 1, Batch 50, Loss: 2.378621320531238e-05\n"
          ]
        },
        {
          "name": "stderr",
          "output_type": "stream",
          "text": []
        },
        {
          "name": "stdout",
          "output_type": "stream",
          "text": [
            "Epoch 1, Batch 60, Loss: 5.278332173475064e-05\n"
          ]
        },
        {
          "name": "stderr",
          "output_type": "stream",
          "text": []
        },
        {
          "name": "stdout",
          "output_type": "stream",
          "text": [
            "Epoch 1, Batch 70, Loss: 0.0001771646784618497\n"
          ]
        },
        {
          "name": "stderr",
          "output_type": "stream",
          "text": []
        },
        {
          "name": "stdout",
          "output_type": "stream",
          "text": [
            "Epoch 1, Batch 80, Loss: 0.00115089095197618\n"
          ]
        },
        {
          "name": "stderr",
          "output_type": "stream",
          "text": []
        },
        {
          "name": "stdout",
          "output_type": "stream",
          "text": [
            "Epoch 1, Batch 90, Loss: 0.05917278304696083\n"
          ]
        },
        {
          "name": "stderr",
          "output_type": "stream",
          "text": [
            "Epoch:   2%|▏         | 2/100 [01:03<51:49, 31.73s/it]"
          ]
        },
        {
          "name": "stdout",
          "output_type": "stream",
          "text": [
            "Epoch 2, Batch 0, Loss: 0.11555440723896027\n"
          ]
        },
        {
          "name": "stderr",
          "output_type": "stream",
          "text": []
        },
        {
          "name": "stdout",
          "output_type": "stream",
          "text": [
            "Epoch 2, Batch 10, Loss: 0.11423725634813309\n"
          ]
        },
        {
          "name": "stderr",
          "output_type": "stream",
          "text": []
        },
        {
          "name": "stdout",
          "output_type": "stream",
          "text": [
            "Epoch 2, Batch 20, Loss: 0.049466364085674286\n"
          ]
        },
        {
          "name": "stderr",
          "output_type": "stream",
          "text": []
        },
        {
          "name": "stdout",
          "output_type": "stream",
          "text": [
            "Epoch 2, Batch 30, Loss: 0.09434743225574493\n"
          ]
        },
        {
          "name": "stderr",
          "output_type": "stream",
          "text": []
        },
        {
          "name": "stdout",
          "output_type": "stream",
          "text": [
            "Epoch 2, Batch 40, Loss: 0.04129397124052048\n"
          ]
        },
        {
          "name": "stderr",
          "output_type": "stream",
          "text": []
        },
        {
          "name": "stdout",
          "output_type": "stream",
          "text": [
            "Epoch 2, Batch 50, Loss: 0.01443843450397253\n"
          ]
        },
        {
          "name": "stderr",
          "output_type": "stream",
          "text": []
        },
        {
          "name": "stdout",
          "output_type": "stream",
          "text": [
            "Epoch 2, Batch 60, Loss: 0.02595186047255993\n"
          ]
        },
        {
          "name": "stderr",
          "output_type": "stream",
          "text": []
        },
        {
          "name": "stdout",
          "output_type": "stream",
          "text": [
            "Epoch 2, Batch 70, Loss: 0.053040433675050735\n"
          ]
        },
        {
          "name": "stderr",
          "output_type": "stream",
          "text": []
        },
        {
          "name": "stdout",
          "output_type": "stream",
          "text": [
            "Epoch 2, Batch 80, Loss: 0.15042200684547424\n"
          ]
        },
        {
          "name": "stderr",
          "output_type": "stream",
          "text": []
        },
        {
          "name": "stdout",
          "output_type": "stream",
          "text": [
            "Epoch 2, Batch 90, Loss: 0.11046651005744934\n"
          ]
        },
        {
          "name": "stderr",
          "output_type": "stream",
          "text": [
            "Epoch:   3%|▎         | 3/100 [01:35<51:18, 31.74s/it]"
          ]
        },
        {
          "name": "stdout",
          "output_type": "stream",
          "text": [
            "Epoch 3, Batch 0, Loss: 0.13947370648384094\n"
          ]
        },
        {
          "name": "stderr",
          "output_type": "stream",
          "text": []
        },
        {
          "name": "stdout",
          "output_type": "stream",
          "text": [
            "Epoch 3, Batch 10, Loss: 0.10718759894371033\n"
          ]
        },
        {
          "name": "stderr",
          "output_type": "stream",
          "text": []
        },
        {
          "name": "stdout",
          "output_type": "stream",
          "text": [
            "Epoch 3, Batch 20, Loss: 0.12327928841114044\n"
          ]
        },
        {
          "name": "stderr",
          "output_type": "stream",
          "text": []
        },
        {
          "name": "stdout",
          "output_type": "stream",
          "text": [
            "Epoch 3, Batch 30, Loss: 0.11040857434272766\n"
          ]
        },
        {
          "name": "stderr",
          "output_type": "stream",
          "text": []
        },
        {
          "name": "stdout",
          "output_type": "stream",
          "text": [
            "Epoch 3, Batch 40, Loss: 0.12958687543869019\n"
          ]
        },
        {
          "name": "stderr",
          "output_type": "stream",
          "text": []
        },
        {
          "name": "stdout",
          "output_type": "stream",
          "text": [
            "Epoch 3, Batch 50, Loss: 0.09032652527093887\n"
          ]
        },
        {
          "name": "stderr",
          "output_type": "stream",
          "text": []
        },
        {
          "name": "stdout",
          "output_type": "stream",
          "text": [
            "Epoch 3, Batch 60, Loss: 0.06047194078564644\n"
          ]
        },
        {
          "name": "stderr",
          "output_type": "stream",
          "text": []
        },
        {
          "name": "stdout",
          "output_type": "stream",
          "text": [
            "Epoch 3, Batch 70, Loss: 0.026710595935583115\n"
          ]
        },
        {
          "name": "stderr",
          "output_type": "stream",
          "text": []
        },
        {
          "name": "stdout",
          "output_type": "stream",
          "text": [
            "Epoch 3, Batch 80, Loss: 0.07637452334165573\n"
          ]
        },
        {
          "name": "stderr",
          "output_type": "stream",
          "text": []
        },
        {
          "name": "stdout",
          "output_type": "stream",
          "text": [
            "Epoch 3, Batch 90, Loss: 0.05412893369793892\n"
          ]
        },
        {
          "name": "stderr",
          "output_type": "stream",
          "text": [
            "Epoch:   4%|▍         | 4/100 [02:06<50:43, 31.70s/it]"
          ]
        },
        {
          "name": "stdout",
          "output_type": "stream",
          "text": [
            "Epoch 4, Batch 0, Loss: 0.0684567242860794\n"
          ]
        },
        {
          "name": "stderr",
          "output_type": "stream",
          "text": []
        },
        {
          "name": "stdout",
          "output_type": "stream",
          "text": [
            "Epoch 4, Batch 10, Loss: 0.0908544734120369\n"
          ]
        },
        {
          "name": "stderr",
          "output_type": "stream",
          "text": []
        },
        {
          "name": "stdout",
          "output_type": "stream",
          "text": [
            "Epoch 4, Batch 20, Loss: 0.06310322135686874\n"
          ]
        },
        {
          "name": "stderr",
          "output_type": "stream",
          "text": []
        },
        {
          "name": "stdout",
          "output_type": "stream",
          "text": [
            "Epoch 4, Batch 30, Loss: 0.04795510694384575\n"
          ]
        },
        {
          "name": "stderr",
          "output_type": "stream",
          "text": []
        },
        {
          "name": "stdout",
          "output_type": "stream",
          "text": [
            "Epoch 4, Batch 40, Loss: 0.07244791090488434\n"
          ]
        },
        {
          "name": "stderr",
          "output_type": "stream",
          "text": []
        },
        {
          "name": "stdout",
          "output_type": "stream",
          "text": [
            "Epoch 4, Batch 50, Loss: 0.047366220504045486\n"
          ]
        },
        {
          "name": "stderr",
          "output_type": "stream",
          "text": []
        },
        {
          "name": "stdout",
          "output_type": "stream",
          "text": [
            "Epoch 4, Batch 60, Loss: 0.06089244782924652\n"
          ]
        },
        {
          "name": "stderr",
          "output_type": "stream",
          "text": []
        },
        {
          "name": "stdout",
          "output_type": "stream",
          "text": [
            "Epoch 4, Batch 70, Loss: 0.05493906885385513\n"
          ]
        },
        {
          "name": "stderr",
          "output_type": "stream",
          "text": []
        },
        {
          "name": "stdout",
          "output_type": "stream",
          "text": [
            "Epoch 4, Batch 80, Loss: 0.04088616743683815\n"
          ]
        },
        {
          "name": "stderr",
          "output_type": "stream",
          "text": []
        },
        {
          "name": "stdout",
          "output_type": "stream",
          "text": [
            "Epoch 4, Batch 90, Loss: 0.05075584352016449\n"
          ]
        },
        {
          "name": "stderr",
          "output_type": "stream",
          "text": [
            "Epoch:   5%|▌         | 5/100 [02:38<50:10, 31.69s/it]"
          ]
        },
        {
          "name": "stdout",
          "output_type": "stream",
          "text": [
            "Epoch 5, Batch 0, Loss: 0.046727586537599564\n"
          ]
        },
        {
          "name": "stderr",
          "output_type": "stream",
          "text": []
        },
        {
          "name": "stdout",
          "output_type": "stream",
          "text": [
            "Epoch 5, Batch 10, Loss: 0.04521546512842178\n"
          ]
        },
        {
          "name": "stderr",
          "output_type": "stream",
          "text": []
        },
        {
          "name": "stdout",
          "output_type": "stream",
          "text": [
            "Epoch 5, Batch 20, Loss: 0.03047412633895874\n"
          ]
        },
        {
          "name": "stderr",
          "output_type": "stream",
          "text": []
        },
        {
          "name": "stdout",
          "output_type": "stream",
          "text": [
            "Epoch 5, Batch 30, Loss: 0.06514973193407059\n"
          ]
        },
        {
          "name": "stderr",
          "output_type": "stream",
          "text": []
        },
        {
          "name": "stdout",
          "output_type": "stream",
          "text": [
            "Epoch 5, Batch 40, Loss: 0.034814946353435516\n"
          ]
        },
        {
          "name": "stderr",
          "output_type": "stream",
          "text": []
        },
        {
          "name": "stdout",
          "output_type": "stream",
          "text": [
            "Epoch 5, Batch 50, Loss: 0.03143209591507912\n"
          ]
        },
        {
          "name": "stderr",
          "output_type": "stream",
          "text": []
        },
        {
          "name": "stdout",
          "output_type": "stream",
          "text": [
            "Epoch 5, Batch 60, Loss: 0.0423675999045372\n"
          ]
        },
        {
          "name": "stderr",
          "output_type": "stream",
          "text": []
        },
        {
          "name": "stdout",
          "output_type": "stream",
          "text": [
            "Epoch 5, Batch 70, Loss: 0.041005268692970276\n"
          ]
        },
        {
          "name": "stderr",
          "output_type": "stream",
          "text": []
        },
        {
          "name": "stdout",
          "output_type": "stream",
          "text": [
            "Epoch 5, Batch 80, Loss: 0.02780047059059143\n"
          ]
        },
        {
          "name": "stderr",
          "output_type": "stream",
          "text": []
        },
        {
          "name": "stdout",
          "output_type": "stream",
          "text": [
            "Epoch 5, Batch 90, Loss: 0.03847089409828186\n"
          ]
        },
        {
          "name": "stderr",
          "output_type": "stream",
          "text": [
            "Epoch:   6%|▌         | 6/100 [03:10<49:38, 31.68s/it]"
          ]
        },
        {
          "name": "stdout",
          "output_type": "stream",
          "text": [
            "Epoch 6, Batch 0, Loss: 0.042468488216400146\n"
          ]
        },
        {
          "name": "stderr",
          "output_type": "stream",
          "text": []
        },
        {
          "name": "stdout",
          "output_type": "stream",
          "text": [
            "Epoch 6, Batch 10, Loss: 0.03582752123475075\n"
          ]
        },
        {
          "name": "stderr",
          "output_type": "stream",
          "text": []
        },
        {
          "name": "stdout",
          "output_type": "stream",
          "text": [
            "Epoch 6, Batch 20, Loss: 0.04197497293353081\n"
          ]
        },
        {
          "name": "stderr",
          "output_type": "stream",
          "text": []
        },
        {
          "name": "stdout",
          "output_type": "stream",
          "text": [
            "Epoch 6, Batch 30, Loss: 0.04372038692235947\n"
          ]
        },
        {
          "name": "stderr",
          "output_type": "stream",
          "text": []
        },
        {
          "name": "stdout",
          "output_type": "stream",
          "text": [
            "Epoch 6, Batch 40, Loss: 0.030264176428318024\n"
          ]
        },
        {
          "name": "stderr",
          "output_type": "stream",
          "text": []
        },
        {
          "name": "stdout",
          "output_type": "stream",
          "text": [
            "Epoch 6, Batch 50, Loss: 0.03972426801919937\n"
          ]
        },
        {
          "name": "stderr",
          "output_type": "stream",
          "text": []
        },
        {
          "name": "stdout",
          "output_type": "stream",
          "text": [
            "Epoch 6, Batch 60, Loss: 0.03318924084305763\n"
          ]
        },
        {
          "name": "stderr",
          "output_type": "stream",
          "text": []
        },
        {
          "name": "stdout",
          "output_type": "stream",
          "text": [
            "Epoch 6, Batch 70, Loss: 0.04083377122879028\n"
          ]
        },
        {
          "name": "stderr",
          "output_type": "stream",
          "text": []
        },
        {
          "name": "stdout",
          "output_type": "stream",
          "text": [
            "Epoch 6, Batch 80, Loss: 0.031066540628671646\n"
          ]
        },
        {
          "name": "stderr",
          "output_type": "stream",
          "text": []
        },
        {
          "name": "stdout",
          "output_type": "stream",
          "text": [
            "Epoch 6, Batch 90, Loss: 0.03563742712140083\n"
          ]
        },
        {
          "name": "stderr",
          "output_type": "stream",
          "text": [
            "Epoch:   7%|▋         | 7/100 [03:41<49:04, 31.66s/it]"
          ]
        },
        {
          "name": "stdout",
          "output_type": "stream",
          "text": [
            "Epoch 7, Batch 0, Loss: 0.0512005016207695\n"
          ]
        },
        {
          "name": "stderr",
          "output_type": "stream",
          "text": []
        },
        {
          "name": "stdout",
          "output_type": "stream",
          "text": [
            "Epoch 7, Batch 10, Loss: 0.0513012632727623\n"
          ]
        },
        {
          "name": "stderr",
          "output_type": "stream",
          "text": []
        },
        {
          "name": "stdout",
          "output_type": "stream",
          "text": [
            "Epoch 7, Batch 20, Loss: 0.020101284608244896\n"
          ]
        },
        {
          "name": "stderr",
          "output_type": "stream",
          "text": []
        },
        {
          "name": "stdout",
          "output_type": "stream",
          "text": [
            "Epoch 7, Batch 30, Loss: 0.025754904374480247\n"
          ]
        },
        {
          "name": "stderr",
          "output_type": "stream",
          "text": []
        },
        {
          "name": "stdout",
          "output_type": "stream",
          "text": [
            "Epoch 7, Batch 40, Loss: 0.03729740157723427\n"
          ]
        },
        {
          "name": "stderr",
          "output_type": "stream",
          "text": []
        },
        {
          "name": "stdout",
          "output_type": "stream",
          "text": [
            "Epoch 7, Batch 50, Loss: 0.05579278618097305\n"
          ]
        },
        {
          "name": "stderr",
          "output_type": "stream",
          "text": []
        },
        {
          "name": "stdout",
          "output_type": "stream",
          "text": [
            "Epoch 7, Batch 60, Loss: 0.03533906862139702\n"
          ]
        },
        {
          "name": "stderr",
          "output_type": "stream",
          "text": []
        },
        {
          "name": "stdout",
          "output_type": "stream",
          "text": [
            "Epoch 7, Batch 70, Loss: 0.030943501740694046\n"
          ]
        },
        {
          "name": "stderr",
          "output_type": "stream",
          "text": []
        },
        {
          "name": "stdout",
          "output_type": "stream",
          "text": [
            "Epoch 7, Batch 80, Loss: 0.023837991058826447\n"
          ]
        },
        {
          "name": "stderr",
          "output_type": "stream",
          "text": []
        },
        {
          "name": "stdout",
          "output_type": "stream",
          "text": [
            "Epoch 7, Batch 90, Loss: 0.031722165644168854\n"
          ]
        },
        {
          "name": "stderr",
          "output_type": "stream",
          "text": [
            "Epoch:   8%|▊         | 8/100 [04:13<48:29, 31.63s/it]"
          ]
        },
        {
          "name": "stdout",
          "output_type": "stream",
          "text": [
            "Epoch 8, Batch 0, Loss: 0.059900663793087006\n"
          ]
        },
        {
          "name": "stderr",
          "output_type": "stream",
          "text": []
        },
        {
          "name": "stdout",
          "output_type": "stream",
          "text": [
            "Epoch 8, Batch 10, Loss: 0.0232327189296484\n"
          ]
        },
        {
          "name": "stderr",
          "output_type": "stream",
          "text": []
        },
        {
          "name": "stdout",
          "output_type": "stream",
          "text": [
            "Epoch 8, Batch 20, Loss: 0.03069567121565342\n"
          ]
        },
        {
          "name": "stderr",
          "output_type": "stream",
          "text": []
        },
        {
          "name": "stdout",
          "output_type": "stream",
          "text": [
            "Epoch 8, Batch 30, Loss: 0.057828035205602646\n"
          ]
        },
        {
          "name": "stderr",
          "output_type": "stream",
          "text": []
        },
        {
          "name": "stdout",
          "output_type": "stream",
          "text": [
            "Epoch 8, Batch 40, Loss: 0.06407923251390457\n"
          ]
        },
        {
          "name": "stderr",
          "output_type": "stream",
          "text": []
        },
        {
          "name": "stdout",
          "output_type": "stream",
          "text": [
            "Epoch 8, Batch 50, Loss: 0.09599960595369339\n"
          ]
        },
        {
          "name": "stderr",
          "output_type": "stream",
          "text": []
        },
        {
          "name": "stdout",
          "output_type": "stream",
          "text": [
            "Epoch 8, Batch 60, Loss: 0.09416241943836212\n"
          ]
        },
        {
          "name": "stderr",
          "output_type": "stream",
          "text": []
        },
        {
          "name": "stdout",
          "output_type": "stream",
          "text": [
            "Epoch 8, Batch 70, Loss: 0.09208940714597702\n"
          ]
        },
        {
          "name": "stderr",
          "output_type": "stream",
          "text": []
        },
        {
          "name": "stdout",
          "output_type": "stream",
          "text": [
            "Epoch 8, Batch 80, Loss: 0.08803592622280121\n"
          ]
        },
        {
          "name": "stderr",
          "output_type": "stream",
          "text": []
        },
        {
          "name": "stdout",
          "output_type": "stream",
          "text": [
            "Epoch 8, Batch 90, Loss: 0.0771113783121109\n"
          ]
        },
        {
          "name": "stderr",
          "output_type": "stream",
          "text": [
            "Epoch:   9%|▉         | 9/100 [04:44<47:57, 31.62s/it]"
          ]
        },
        {
          "name": "stdout",
          "output_type": "stream",
          "text": [
            "Epoch 9, Batch 0, Loss: 0.07505542784929276\n"
          ]
        },
        {
          "name": "stderr",
          "output_type": "stream",
          "text": []
        },
        {
          "name": "stdout",
          "output_type": "stream",
          "text": [
            "Epoch 9, Batch 10, Loss: 0.044002119451761246\n"
          ]
        },
        {
          "name": "stderr",
          "output_type": "stream",
          "text": []
        },
        {
          "name": "stdout",
          "output_type": "stream",
          "text": [
            "Epoch 9, Batch 20, Loss: 0.06826872378587723\n"
          ]
        },
        {
          "name": "stderr",
          "output_type": "stream",
          "text": []
        },
        {
          "name": "stdout",
          "output_type": "stream",
          "text": [
            "Epoch 9, Batch 30, Loss: 0.08140452951192856\n"
          ]
        },
        {
          "name": "stderr",
          "output_type": "stream",
          "text": []
        },
        {
          "name": "stdout",
          "output_type": "stream",
          "text": [
            "Epoch 9, Batch 40, Loss: 0.05101313441991806\n"
          ]
        },
        {
          "name": "stderr",
          "output_type": "stream",
          "text": []
        },
        {
          "name": "stdout",
          "output_type": "stream",
          "text": [
            "Epoch 9, Batch 50, Loss: 0.06702733039855957\n"
          ]
        },
        {
          "name": "stderr",
          "output_type": "stream",
          "text": []
        },
        {
          "name": "stdout",
          "output_type": "stream",
          "text": [
            "Epoch 9, Batch 60, Loss: 0.0853688195347786\n"
          ]
        },
        {
          "name": "stderr",
          "output_type": "stream",
          "text": []
        },
        {
          "name": "stdout",
          "output_type": "stream",
          "text": [
            "Epoch 9, Batch 70, Loss: 0.05276021361351013\n"
          ]
        },
        {
          "name": "stderr",
          "output_type": "stream",
          "text": []
        },
        {
          "name": "stdout",
          "output_type": "stream",
          "text": [
            "Epoch 9, Batch 80, Loss: 0.05414295196533203\n"
          ]
        },
        {
          "name": "stderr",
          "output_type": "stream",
          "text": []
        },
        {
          "name": "stdout",
          "output_type": "stream",
          "text": [
            "Epoch 9, Batch 90, Loss: 0.04993187263607979\n"
          ]
        },
        {
          "name": "stderr",
          "output_type": "stream",
          "text": [
            "Epoch:  10%|█         | 10/100 [05:16<47:28, 31.65s/it]"
          ]
        },
        {
          "name": "stdout",
          "output_type": "stream",
          "text": [
            "Epoch 10, Batch 0, Loss: 0.057552505284547806\n"
          ]
        },
        {
          "name": "stderr",
          "output_type": "stream",
          "text": []
        },
        {
          "name": "stdout",
          "output_type": "stream",
          "text": [
            "Epoch 10, Batch 10, Loss: 0.08810373395681381\n"
          ]
        },
        {
          "name": "stderr",
          "output_type": "stream",
          "text": []
        },
        {
          "name": "stdout",
          "output_type": "stream",
          "text": [
            "Epoch 10, Batch 20, Loss: 0.1442781239748001\n"
          ]
        },
        {
          "name": "stderr",
          "output_type": "stream",
          "text": []
        },
        {
          "name": "stdout",
          "output_type": "stream",
          "text": [
            "Epoch 10, Batch 30, Loss: 0.0425603985786438\n"
          ]
        },
        {
          "name": "stderr",
          "output_type": "stream",
          "text": []
        },
        {
          "name": "stdout",
          "output_type": "stream",
          "text": [
            "Epoch 10, Batch 40, Loss: 0.05190437659621239\n"
          ]
        },
        {
          "name": "stderr",
          "output_type": "stream",
          "text": []
        },
        {
          "name": "stdout",
          "output_type": "stream",
          "text": [
            "Epoch 10, Batch 50, Loss: 0.08308536559343338\n"
          ]
        },
        {
          "name": "stderr",
          "output_type": "stream",
          "text": []
        },
        {
          "name": "stdout",
          "output_type": "stream",
          "text": [
            "Epoch 10, Batch 60, Loss: 0.09771545976400375\n"
          ]
        },
        {
          "name": "stderr",
          "output_type": "stream",
          "text": []
        },
        {
          "name": "stdout",
          "output_type": "stream",
          "text": [
            "Epoch 10, Batch 70, Loss: 0.07673957943916321\n"
          ]
        },
        {
          "name": "stderr",
          "output_type": "stream",
          "text": []
        },
        {
          "name": "stdout",
          "output_type": "stream",
          "text": [
            "Epoch 10, Batch 80, Loss: 0.09290224313735962\n"
          ]
        },
        {
          "name": "stderr",
          "output_type": "stream",
          "text": []
        },
        {
          "name": "stdout",
          "output_type": "stream",
          "text": [
            "Epoch 10, Batch 90, Loss: 0.051111962646245956\n"
          ]
        },
        {
          "name": "stderr",
          "output_type": "stream",
          "text": [
            "Epoch:  11%|█         | 11/100 [05:48<46:54, 31.62s/it]"
          ]
        },
        {
          "name": "stdout",
          "output_type": "stream",
          "text": [
            "Epoch 11, Batch 0, Loss: 0.05839889124035835\n"
          ]
        },
        {
          "name": "stderr",
          "output_type": "stream",
          "text": []
        },
        {
          "name": "stdout",
          "output_type": "stream",
          "text": [
            "Epoch 11, Batch 10, Loss: 0.05998969450592995\n"
          ]
        },
        {
          "name": "stderr",
          "output_type": "stream",
          "text": []
        },
        {
          "name": "stdout",
          "output_type": "stream",
          "text": [
            "Epoch 11, Batch 20, Loss: 0.08204451203346252\n"
          ]
        },
        {
          "name": "stderr",
          "output_type": "stream",
          "text": []
        },
        {
          "name": "stdout",
          "output_type": "stream",
          "text": [
            "Epoch 11, Batch 30, Loss: 0.13396276533603668\n"
          ]
        },
        {
          "name": "stderr",
          "output_type": "stream",
          "text": []
        },
        {
          "name": "stdout",
          "output_type": "stream",
          "text": [
            "Epoch 11, Batch 40, Loss: 0.11563524603843689\n"
          ]
        },
        {
          "name": "stderr",
          "output_type": "stream",
          "text": []
        },
        {
          "name": "stdout",
          "output_type": "stream",
          "text": [
            "Epoch 11, Batch 50, Loss: 0.10997078567743301\n"
          ]
        },
        {
          "name": "stderr",
          "output_type": "stream",
          "text": []
        },
        {
          "name": "stdout",
          "output_type": "stream",
          "text": [
            "Epoch 11, Batch 60, Loss: 0.12653648853302002\n"
          ]
        },
        {
          "name": "stderr",
          "output_type": "stream",
          "text": []
        },
        {
          "name": "stdout",
          "output_type": "stream",
          "text": [
            "Epoch 11, Batch 70, Loss: 0.09544277936220169\n"
          ]
        },
        {
          "name": "stderr",
          "output_type": "stream",
          "text": []
        },
        {
          "name": "stdout",
          "output_type": "stream",
          "text": [
            "Epoch 11, Batch 80, Loss: 0.10743221640586853\n"
          ]
        },
        {
          "name": "stderr",
          "output_type": "stream",
          "text": []
        },
        {
          "name": "stdout",
          "output_type": "stream",
          "text": [
            "Epoch 11, Batch 90, Loss: 0.09001465141773224\n"
          ]
        },
        {
          "name": "stderr",
          "output_type": "stream",
          "text": [
            "Epoch:  12%|█▏        | 12/100 [06:20<46:29, 31.70s/it]"
          ]
        },
        {
          "name": "stdout",
          "output_type": "stream",
          "text": [
            "Epoch 12, Batch 0, Loss: 0.07381722331047058\n"
          ]
        },
        {
          "name": "stderr",
          "output_type": "stream",
          "text": []
        },
        {
          "name": "stdout",
          "output_type": "stream",
          "text": [
            "Epoch 12, Batch 10, Loss: 0.06841756403446198\n"
          ]
        },
        {
          "name": "stderr",
          "output_type": "stream",
          "text": []
        },
        {
          "name": "stdout",
          "output_type": "stream",
          "text": [
            "Epoch 12, Batch 20, Loss: 0.09680405259132385\n"
          ]
        },
        {
          "name": "stderr",
          "output_type": "stream",
          "text": []
        },
        {
          "name": "stdout",
          "output_type": "stream",
          "text": [
            "Epoch 12, Batch 30, Loss: 0.08131814002990723\n"
          ]
        },
        {
          "name": "stderr",
          "output_type": "stream",
          "text": []
        },
        {
          "name": "stdout",
          "output_type": "stream",
          "text": [
            "Epoch 12, Batch 40, Loss: 0.05859913304448128\n"
          ]
        },
        {
          "name": "stderr",
          "output_type": "stream",
          "text": []
        },
        {
          "name": "stdout",
          "output_type": "stream",
          "text": [
            "Epoch 12, Batch 50, Loss: 0.09726405888795853\n"
          ]
        },
        {
          "name": "stderr",
          "output_type": "stream",
          "text": []
        },
        {
          "name": "stdout",
          "output_type": "stream",
          "text": [
            "Epoch 12, Batch 60, Loss: 0.10120426118373871\n"
          ]
        },
        {
          "name": "stderr",
          "output_type": "stream",
          "text": []
        },
        {
          "name": "stdout",
          "output_type": "stream",
          "text": [
            "Epoch 12, Batch 70, Loss: 0.10658863931894302\n"
          ]
        },
        {
          "name": "stderr",
          "output_type": "stream",
          "text": []
        },
        {
          "name": "stdout",
          "output_type": "stream",
          "text": [
            "Epoch 12, Batch 80, Loss: 0.07400576770305634\n"
          ]
        },
        {
          "name": "stderr",
          "output_type": "stream",
          "text": []
        },
        {
          "name": "stdout",
          "output_type": "stream",
          "text": [
            "Epoch 12, Batch 90, Loss: 0.059269774705171585\n"
          ]
        },
        {
          "name": "stderr",
          "output_type": "stream",
          "text": [
            "Epoch:  13%|█▎        | 13/100 [06:51<45:57, 31.70s/it]"
          ]
        },
        {
          "name": "stdout",
          "output_type": "stream",
          "text": [
            "Epoch 13, Batch 0, Loss: 0.05250972509384155\n"
          ]
        },
        {
          "name": "stderr",
          "output_type": "stream",
          "text": []
        },
        {
          "name": "stdout",
          "output_type": "stream",
          "text": [
            "Epoch 13, Batch 10, Loss: 0.05958615988492966\n"
          ]
        },
        {
          "name": "stderr",
          "output_type": "stream",
          "text": []
        },
        {
          "name": "stdout",
          "output_type": "stream",
          "text": [
            "Epoch 13, Batch 20, Loss: 0.05001519247889519\n"
          ]
        },
        {
          "name": "stderr",
          "output_type": "stream",
          "text": []
        },
        {
          "name": "stdout",
          "output_type": "stream",
          "text": [
            "Epoch 13, Batch 30, Loss: 0.06755123287439346\n"
          ]
        },
        {
          "name": "stderr",
          "output_type": "stream",
          "text": []
        },
        {
          "name": "stdout",
          "output_type": "stream",
          "text": [
            "Epoch 13, Batch 40, Loss: 0.08189750462770462\n"
          ]
        },
        {
          "name": "stderr",
          "output_type": "stream",
          "text": []
        },
        {
          "name": "stdout",
          "output_type": "stream",
          "text": [
            "Epoch 13, Batch 50, Loss: 0.06094406545162201\n"
          ]
        },
        {
          "name": "stderr",
          "output_type": "stream",
          "text": []
        },
        {
          "name": "stdout",
          "output_type": "stream",
          "text": [
            "Epoch 13, Batch 60, Loss: 0.0742131844162941\n"
          ]
        },
        {
          "name": "stderr",
          "output_type": "stream",
          "text": []
        },
        {
          "name": "stdout",
          "output_type": "stream",
          "text": [
            "Epoch 13, Batch 70, Loss: 0.07772607356309891\n"
          ]
        },
        {
          "name": "stderr",
          "output_type": "stream",
          "text": []
        },
        {
          "name": "stdout",
          "output_type": "stream",
          "text": [
            "Epoch 13, Batch 80, Loss: 0.07397135347127914\n"
          ]
        },
        {
          "name": "stderr",
          "output_type": "stream",
          "text": []
        },
        {
          "name": "stdout",
          "output_type": "stream",
          "text": [
            "Epoch 13, Batch 90, Loss: 0.05438385531306267\n"
          ]
        },
        {
          "name": "stderr",
          "output_type": "stream",
          "text": [
            "Epoch:  14%|█▍        | 14/100 [07:23<45:24, 31.68s/it]"
          ]
        },
        {
          "name": "stdout",
          "output_type": "stream",
          "text": [
            "Epoch 14, Batch 0, Loss: 0.08582684397697449\n"
          ]
        },
        {
          "name": "stderr",
          "output_type": "stream",
          "text": []
        },
        {
          "name": "stdout",
          "output_type": "stream",
          "text": [
            "Epoch 14, Batch 10, Loss: 0.07049419730901718\n"
          ]
        },
        {
          "name": "stderr",
          "output_type": "stream",
          "text": []
        },
        {
          "name": "stdout",
          "output_type": "stream",
          "text": [
            "Epoch 14, Batch 20, Loss: 0.033660292625427246\n"
          ]
        },
        {
          "name": "stderr",
          "output_type": "stream",
          "text": []
        },
        {
          "name": "stdout",
          "output_type": "stream",
          "text": [
            "Epoch 14, Batch 30, Loss: 0.07998335361480713\n"
          ]
        },
        {
          "name": "stderr",
          "output_type": "stream",
          "text": []
        },
        {
          "name": "stdout",
          "output_type": "stream",
          "text": [
            "Epoch 14, Batch 40, Loss: 0.06476937234401703\n"
          ]
        },
        {
          "name": "stderr",
          "output_type": "stream",
          "text": []
        },
        {
          "name": "stdout",
          "output_type": "stream",
          "text": [
            "Epoch 14, Batch 50, Loss: 0.05261191353201866\n"
          ]
        },
        {
          "name": "stderr",
          "output_type": "stream",
          "text": []
        },
        {
          "name": "stdout",
          "output_type": "stream",
          "text": [
            "Epoch 14, Batch 60, Loss: 0.04843280836939812\n"
          ]
        },
        {
          "name": "stderr",
          "output_type": "stream",
          "text": []
        },
        {
          "name": "stdout",
          "output_type": "stream",
          "text": [
            "Epoch 14, Batch 70, Loss: 0.030875492841005325\n"
          ]
        },
        {
          "name": "stderr",
          "output_type": "stream",
          "text": []
        },
        {
          "name": "stdout",
          "output_type": "stream",
          "text": [
            "Epoch 14, Batch 80, Loss: 0.08273051679134369\n"
          ]
        },
        {
          "name": "stderr",
          "output_type": "stream",
          "text": []
        },
        {
          "name": "stdout",
          "output_type": "stream",
          "text": [
            "Epoch 14, Batch 90, Loss: 0.05671673268079758\n"
          ]
        },
        {
          "name": "stderr",
          "output_type": "stream",
          "text": [
            "Epoch:  15%|█▌        | 15/100 [07:55<44:50, 31.66s/it]"
          ]
        },
        {
          "name": "stdout",
          "output_type": "stream",
          "text": [
            "Epoch 15, Batch 0, Loss: 0.05552753061056137\n"
          ]
        },
        {
          "name": "stderr",
          "output_type": "stream",
          "text": []
        },
        {
          "name": "stdout",
          "output_type": "stream",
          "text": [
            "Epoch 15, Batch 10, Loss: 0.05643558129668236\n"
          ]
        },
        {
          "name": "stderr",
          "output_type": "stream",
          "text": []
        },
        {
          "name": "stdout",
          "output_type": "stream",
          "text": [
            "Epoch 15, Batch 20, Loss: 0.05604921653866768\n"
          ]
        },
        {
          "name": "stderr",
          "output_type": "stream",
          "text": []
        },
        {
          "name": "stdout",
          "output_type": "stream",
          "text": [
            "Epoch 15, Batch 30, Loss: 0.06775238364934921\n"
          ]
        },
        {
          "name": "stderr",
          "output_type": "stream",
          "text": []
        },
        {
          "name": "stdout",
          "output_type": "stream",
          "text": [
            "Epoch 15, Batch 40, Loss: 0.06818769872188568\n"
          ]
        },
        {
          "name": "stderr",
          "output_type": "stream",
          "text": []
        },
        {
          "name": "stdout",
          "output_type": "stream",
          "text": [
            "Epoch 15, Batch 50, Loss: 0.05619483068585396\n"
          ]
        },
        {
          "name": "stderr",
          "output_type": "stream",
          "text": []
        },
        {
          "name": "stdout",
          "output_type": "stream",
          "text": [
            "Epoch 15, Batch 60, Loss: 0.03473120555281639\n"
          ]
        },
        {
          "name": "stderr",
          "output_type": "stream",
          "text": []
        },
        {
          "name": "stdout",
          "output_type": "stream",
          "text": [
            "Epoch 15, Batch 70, Loss: 0.08440142124891281\n"
          ]
        },
        {
          "name": "stderr",
          "output_type": "stream",
          "text": []
        },
        {
          "name": "stdout",
          "output_type": "stream",
          "text": [
            "Epoch 15, Batch 80, Loss: 0.0652615949511528\n"
          ]
        },
        {
          "name": "stderr",
          "output_type": "stream",
          "text": []
        },
        {
          "name": "stdout",
          "output_type": "stream",
          "text": [
            "Epoch 15, Batch 90, Loss: 0.0697924867272377\n"
          ]
        },
        {
          "name": "stderr",
          "output_type": "stream",
          "text": [
            "Epoch:  16%|█▌        | 16/100 [08:26<44:17, 31.64s/it]"
          ]
        },
        {
          "name": "stdout",
          "output_type": "stream",
          "text": [
            "Epoch 16, Batch 0, Loss: 0.0700179785490036\n"
          ]
        },
        {
          "name": "stderr",
          "output_type": "stream",
          "text": []
        },
        {
          "name": "stdout",
          "output_type": "stream",
          "text": [
            "Epoch 16, Batch 10, Loss: 0.038625724613666534\n"
          ]
        },
        {
          "name": "stderr",
          "output_type": "stream",
          "text": []
        },
        {
          "name": "stdout",
          "output_type": "stream",
          "text": [
            "Epoch 16, Batch 20, Loss: 0.06328245252370834\n"
          ]
        },
        {
          "name": "stderr",
          "output_type": "stream",
          "text": []
        },
        {
          "name": "stdout",
          "output_type": "stream",
          "text": [
            "Epoch 16, Batch 30, Loss: 0.07490521669387817\n"
          ]
        },
        {
          "name": "stderr",
          "output_type": "stream",
          "text": []
        },
        {
          "name": "stdout",
          "output_type": "stream",
          "text": [
            "Epoch 16, Batch 40, Loss: 0.08990135043859482\n"
          ]
        },
        {
          "name": "stderr",
          "output_type": "stream",
          "text": []
        },
        {
          "name": "stdout",
          "output_type": "stream",
          "text": [
            "Epoch 16, Batch 50, Loss: 0.049406278878450394\n"
          ]
        },
        {
          "name": "stderr",
          "output_type": "stream",
          "text": []
        },
        {
          "name": "stdout",
          "output_type": "stream",
          "text": [
            "Epoch 16, Batch 60, Loss: 0.07374142110347748\n"
          ]
        },
        {
          "name": "stderr",
          "output_type": "stream",
          "text": []
        },
        {
          "name": "stdout",
          "output_type": "stream",
          "text": [
            "Epoch 16, Batch 70, Loss: 0.06056509166955948\n"
          ]
        },
        {
          "name": "stderr",
          "output_type": "stream",
          "text": []
        },
        {
          "name": "stdout",
          "output_type": "stream",
          "text": [
            "Epoch 16, Batch 80, Loss: 0.10356418043375015\n"
          ]
        },
        {
          "name": "stderr",
          "output_type": "stream",
          "text": []
        },
        {
          "name": "stdout",
          "output_type": "stream",
          "text": [
            "Epoch 16, Batch 90, Loss: 0.09422662109136581\n"
          ]
        },
        {
          "name": "stderr",
          "output_type": "stream",
          "text": [
            "Epoch:  17%|█▋        | 17/100 [08:58<43:45, 31.64s/it]"
          ]
        },
        {
          "name": "stdout",
          "output_type": "stream",
          "text": [
            "Epoch 17, Batch 0, Loss: 0.08470176160335541\n"
          ]
        },
        {
          "name": "stderr",
          "output_type": "stream",
          "text": []
        },
        {
          "name": "stdout",
          "output_type": "stream",
          "text": [
            "Epoch 17, Batch 10, Loss: 0.09507080912590027\n"
          ]
        },
        {
          "name": "stderr",
          "output_type": "stream",
          "text": []
        },
        {
          "name": "stdout",
          "output_type": "stream",
          "text": [
            "Epoch 17, Batch 20, Loss: 0.05877156928181648\n"
          ]
        },
        {
          "name": "stderr",
          "output_type": "stream",
          "text": []
        },
        {
          "name": "stdout",
          "output_type": "stream",
          "text": [
            "Epoch 17, Batch 30, Loss: 0.04557032138109207\n"
          ]
        },
        {
          "name": "stderr",
          "output_type": "stream",
          "text": []
        },
        {
          "name": "stdout",
          "output_type": "stream",
          "text": [
            "Epoch 17, Batch 40, Loss: 0.05534149333834648\n"
          ]
        },
        {
          "name": "stderr",
          "output_type": "stream",
          "text": []
        },
        {
          "name": "stdout",
          "output_type": "stream",
          "text": [
            "Epoch 17, Batch 50, Loss: 0.052199412137269974\n"
          ]
        },
        {
          "name": "stderr",
          "output_type": "stream",
          "text": []
        },
        {
          "name": "stdout",
          "output_type": "stream",
          "text": [
            "Epoch 17, Batch 60, Loss: 0.06790190190076828\n"
          ]
        },
        {
          "name": "stderr",
          "output_type": "stream",
          "text": []
        },
        {
          "name": "stdout",
          "output_type": "stream",
          "text": [
            "Epoch 17, Batch 70, Loss: 0.08549430221319199\n"
          ]
        },
        {
          "name": "stderr",
          "output_type": "stream",
          "text": []
        },
        {
          "name": "stdout",
          "output_type": "stream",
          "text": [
            "Epoch 17, Batch 80, Loss: 0.04727267846465111\n"
          ]
        },
        {
          "name": "stderr",
          "output_type": "stream",
          "text": []
        },
        {
          "name": "stdout",
          "output_type": "stream",
          "text": [
            "Epoch 17, Batch 90, Loss: 0.051959700882434845\n"
          ]
        },
        {
          "name": "stderr",
          "output_type": "stream",
          "text": [
            "Epoch:  18%|█▊        | 18/100 [09:31<43:42, 31.98s/it]"
          ]
        },
        {
          "name": "stdout",
          "output_type": "stream",
          "text": [
            "Epoch 18, Batch 0, Loss: 0.05381127819418907\n"
          ]
        },
        {
          "name": "stderr",
          "output_type": "stream",
          "text": []
        },
        {
          "name": "stdout",
          "output_type": "stream",
          "text": [
            "Epoch 18, Batch 10, Loss: 0.046824827790260315\n"
          ]
        },
        {
          "name": "stderr",
          "output_type": "stream",
          "text": []
        },
        {
          "name": "stdout",
          "output_type": "stream",
          "text": [
            "Epoch 18, Batch 20, Loss: 0.0869290679693222\n"
          ]
        },
        {
          "name": "stderr",
          "output_type": "stream",
          "text": []
        },
        {
          "name": "stdout",
          "output_type": "stream",
          "text": [
            "Epoch 18, Batch 30, Loss: 0.0564202219247818\n"
          ]
        },
        {
          "name": "stderr",
          "output_type": "stream",
          "text": []
        },
        {
          "name": "stdout",
          "output_type": "stream",
          "text": [
            "Epoch 18, Batch 40, Loss: 0.056556668132543564\n"
          ]
        },
        {
          "name": "stderr",
          "output_type": "stream",
          "text": []
        },
        {
          "name": "stdout",
          "output_type": "stream",
          "text": [
            "Epoch 18, Batch 50, Loss: 0.04220356047153473\n"
          ]
        },
        {
          "name": "stderr",
          "output_type": "stream",
          "text": []
        },
        {
          "name": "stdout",
          "output_type": "stream",
          "text": [
            "Epoch 18, Batch 60, Loss: 0.06543425470590591\n"
          ]
        },
        {
          "name": "stderr",
          "output_type": "stream",
          "text": []
        },
        {
          "name": "stdout",
          "output_type": "stream",
          "text": [
            "Epoch 18, Batch 70, Loss: 0.03420913591980934\n"
          ]
        },
        {
          "name": "stderr",
          "output_type": "stream",
          "text": []
        },
        {
          "name": "stdout",
          "output_type": "stream",
          "text": [
            "Epoch 18, Batch 80, Loss: 0.03090311773121357\n"
          ]
        },
        {
          "name": "stderr",
          "output_type": "stream",
          "text": []
        },
        {
          "name": "stdout",
          "output_type": "stream",
          "text": [
            "Epoch 18, Batch 90, Loss: 0.04667620360851288\n"
          ]
        },
        {
          "name": "stderr",
          "output_type": "stream",
          "text": [
            "Epoch:  19%|█▉        | 19/100 [10:02<43:01, 31.87s/it]"
          ]
        },
        {
          "name": "stdout",
          "output_type": "stream",
          "text": [
            "Epoch 19, Batch 0, Loss: 0.030694300308823586\n"
          ]
        },
        {
          "name": "stderr",
          "output_type": "stream",
          "text": []
        },
        {
          "name": "stdout",
          "output_type": "stream",
          "text": [
            "Epoch 19, Batch 10, Loss: 0.02704625204205513\n"
          ]
        },
        {
          "name": "stderr",
          "output_type": "stream",
          "text": []
        },
        {
          "name": "stdout",
          "output_type": "stream",
          "text": [
            "Epoch 19, Batch 20, Loss: 0.033093422651290894\n"
          ]
        },
        {
          "name": "stderr",
          "output_type": "stream",
          "text": []
        },
        {
          "name": "stdout",
          "output_type": "stream",
          "text": [
            "Epoch 19, Batch 30, Loss: 0.06169194355607033\n"
          ]
        },
        {
          "name": "stderr",
          "output_type": "stream",
          "text": []
        },
        {
          "name": "stdout",
          "output_type": "stream",
          "text": [
            "Epoch 19, Batch 40, Loss: 0.05664736405014992\n"
          ]
        },
        {
          "name": "stderr",
          "output_type": "stream",
          "text": []
        },
        {
          "name": "stdout",
          "output_type": "stream",
          "text": [
            "Epoch 19, Batch 50, Loss: 0.046082064509391785\n"
          ]
        },
        {
          "name": "stderr",
          "output_type": "stream",
          "text": []
        },
        {
          "name": "stdout",
          "output_type": "stream",
          "text": [
            "Epoch 19, Batch 60, Loss: 0.07014502584934235\n"
          ]
        },
        {
          "name": "stderr",
          "output_type": "stream",
          "text": []
        },
        {
          "name": "stdout",
          "output_type": "stream",
          "text": [
            "Epoch 19, Batch 70, Loss: 0.05182274430990219\n"
          ]
        },
        {
          "name": "stderr",
          "output_type": "stream",
          "text": []
        },
        {
          "name": "stdout",
          "output_type": "stream",
          "text": [
            "Epoch 19, Batch 80, Loss: 0.053889818489551544\n"
          ]
        },
        {
          "name": "stderr",
          "output_type": "stream",
          "text": []
        },
        {
          "name": "stdout",
          "output_type": "stream",
          "text": [
            "Epoch 19, Batch 90, Loss: 0.04912113770842552\n"
          ]
        },
        {
          "name": "stderr",
          "output_type": "stream",
          "text": [
            "Epoch:  20%|██        | 20/100 [10:34<42:23, 31.80s/it]"
          ]
        },
        {
          "name": "stdout",
          "output_type": "stream",
          "text": [
            "Epoch 20, Batch 0, Loss: 0.04921679198741913\n"
          ]
        },
        {
          "name": "stderr",
          "output_type": "stream",
          "text": []
        },
        {
          "name": "stdout",
          "output_type": "stream",
          "text": [
            "Epoch 20, Batch 10, Loss: 0.0434122160077095\n"
          ]
        },
        {
          "name": "stderr",
          "output_type": "stream",
          "text": []
        },
        {
          "name": "stdout",
          "output_type": "stream",
          "text": [
            "Epoch 20, Batch 20, Loss: 0.047627128660678864\n"
          ]
        },
        {
          "name": "stderr",
          "output_type": "stream",
          "text": []
        },
        {
          "name": "stdout",
          "output_type": "stream",
          "text": [
            "Epoch 20, Batch 30, Loss: 0.041741810739040375\n"
          ]
        },
        {
          "name": "stderr",
          "output_type": "stream",
          "text": []
        },
        {
          "name": "stdout",
          "output_type": "stream",
          "text": [
            "Epoch 20, Batch 40, Loss: 0.04429085925221443\n"
          ]
        },
        {
          "name": "stderr",
          "output_type": "stream",
          "text": []
        },
        {
          "name": "stdout",
          "output_type": "stream",
          "text": [
            "Epoch 20, Batch 50, Loss: 0.03562973812222481\n"
          ]
        },
        {
          "name": "stderr",
          "output_type": "stream",
          "text": []
        },
        {
          "name": "stdout",
          "output_type": "stream",
          "text": [
            "Epoch 20, Batch 60, Loss: 0.03683829680085182\n"
          ]
        },
        {
          "name": "stderr",
          "output_type": "stream",
          "text": []
        },
        {
          "name": "stdout",
          "output_type": "stream",
          "text": [
            "Epoch 20, Batch 70, Loss: 0.029024425894021988\n"
          ]
        },
        {
          "name": "stderr",
          "output_type": "stream",
          "text": []
        },
        {
          "name": "stdout",
          "output_type": "stream",
          "text": [
            "Epoch 20, Batch 80, Loss: 0.05152585357427597\n"
          ]
        },
        {
          "name": "stderr",
          "output_type": "stream",
          "text": []
        },
        {
          "name": "stdout",
          "output_type": "stream",
          "text": [
            "Epoch 20, Batch 90, Loss: 0.05960836261510849\n"
          ]
        },
        {
          "name": "stderr",
          "output_type": "stream",
          "text": [
            "Epoch:  21%|██        | 21/100 [11:05<41:47, 31.75s/it]"
          ]
        },
        {
          "name": "stdout",
          "output_type": "stream",
          "text": [
            "Epoch 21, Batch 0, Loss: 0.08501456677913666\n"
          ]
        },
        {
          "name": "stderr",
          "output_type": "stream",
          "text": []
        },
        {
          "name": "stdout",
          "output_type": "stream",
          "text": [
            "Epoch 21, Batch 10, Loss: 0.09815256297588348\n"
          ]
        },
        {
          "name": "stderr",
          "output_type": "stream",
          "text": []
        },
        {
          "name": "stdout",
          "output_type": "stream",
          "text": [
            "Epoch 21, Batch 20, Loss: 0.08371341228485107\n"
          ]
        },
        {
          "name": "stderr",
          "output_type": "stream",
          "text": []
        },
        {
          "name": "stdout",
          "output_type": "stream",
          "text": [
            "Epoch 21, Batch 30, Loss: 0.06353035569190979\n"
          ]
        },
        {
          "name": "stderr",
          "output_type": "stream",
          "text": []
        },
        {
          "name": "stdout",
          "output_type": "stream",
          "text": [
            "Epoch 21, Batch 40, Loss: 0.06570456922054291\n"
          ]
        },
        {
          "name": "stderr",
          "output_type": "stream",
          "text": []
        },
        {
          "name": "stdout",
          "output_type": "stream",
          "text": [
            "Epoch 21, Batch 50, Loss: 0.06277373433113098\n"
          ]
        },
        {
          "name": "stderr",
          "output_type": "stream",
          "text": []
        },
        {
          "name": "stdout",
          "output_type": "stream",
          "text": [
            "Epoch 21, Batch 60, Loss: 0.03904159739613533\n"
          ]
        },
        {
          "name": "stderr",
          "output_type": "stream",
          "text": []
        },
        {
          "name": "stdout",
          "output_type": "stream",
          "text": [
            "Epoch 21, Batch 70, Loss: 0.07852499932050705\n"
          ]
        },
        {
          "name": "stderr",
          "output_type": "stream",
          "text": []
        },
        {
          "name": "stdout",
          "output_type": "stream",
          "text": [
            "Epoch 21, Batch 80, Loss: 0.04359494894742966\n"
          ]
        },
        {
          "name": "stderr",
          "output_type": "stream",
          "text": []
        },
        {
          "name": "stdout",
          "output_type": "stream",
          "text": [
            "Epoch 21, Batch 90, Loss: 0.04410240799188614\n"
          ]
        },
        {
          "name": "stderr",
          "output_type": "stream",
          "text": [
            "Epoch:  22%|██▏       | 22/100 [11:37<41:10, 31.67s/it]"
          ]
        },
        {
          "name": "stdout",
          "output_type": "stream",
          "text": [
            "Epoch 22, Batch 0, Loss: 0.056425340473651886\n"
          ]
        },
        {
          "name": "stderr",
          "output_type": "stream",
          "text": []
        },
        {
          "name": "stdout",
          "output_type": "stream",
          "text": [
            "Epoch 22, Batch 10, Loss: 0.05835435166954994\n"
          ]
        },
        {
          "name": "stderr",
          "output_type": "stream",
          "text": []
        },
        {
          "name": "stdout",
          "output_type": "stream",
          "text": [
            "Epoch 22, Batch 20, Loss: 0.043081216514110565\n"
          ]
        },
        {
          "name": "stderr",
          "output_type": "stream",
          "text": []
        },
        {
          "name": "stdout",
          "output_type": "stream",
          "text": [
            "Epoch 22, Batch 30, Loss: 0.06911081820726395\n"
          ]
        },
        {
          "name": "stderr",
          "output_type": "stream",
          "text": []
        },
        {
          "name": "stdout",
          "output_type": "stream",
          "text": [
            "Epoch 22, Batch 40, Loss: 0.047907132655382156\n"
          ]
        },
        {
          "name": "stderr",
          "output_type": "stream",
          "text": []
        },
        {
          "name": "stdout",
          "output_type": "stream",
          "text": [
            "Epoch 22, Batch 50, Loss: 0.034339290112257004\n"
          ]
        },
        {
          "name": "stderr",
          "output_type": "stream",
          "text": []
        },
        {
          "name": "stdout",
          "output_type": "stream",
          "text": [
            "Epoch 22, Batch 60, Loss: 0.04245131462812424\n"
          ]
        },
        {
          "name": "stderr",
          "output_type": "stream",
          "text": []
        },
        {
          "name": "stdout",
          "output_type": "stream",
          "text": [
            "Epoch 22, Batch 70, Loss: 0.03533429279923439\n"
          ]
        },
        {
          "name": "stderr",
          "output_type": "stream",
          "text": []
        },
        {
          "name": "stdout",
          "output_type": "stream",
          "text": [
            "Epoch 22, Batch 80, Loss: 0.05981236696243286\n"
          ]
        },
        {
          "name": "stderr",
          "output_type": "stream",
          "text": []
        },
        {
          "name": "stdout",
          "output_type": "stream",
          "text": [
            "Epoch 22, Batch 90, Loss: 0.0320173017680645\n"
          ]
        },
        {
          "name": "stderr",
          "output_type": "stream",
          "text": [
            "Epoch:  23%|██▎       | 23/100 [12:09<40:36, 31.64s/it]"
          ]
        },
        {
          "name": "stdout",
          "output_type": "stream",
          "text": [
            "Epoch 23, Batch 0, Loss: 0.038070034235715866\n"
          ]
        },
        {
          "name": "stderr",
          "output_type": "stream",
          "text": []
        },
        {
          "name": "stdout",
          "output_type": "stream",
          "text": [
            "Epoch 23, Batch 10, Loss: 0.03465184569358826\n"
          ]
        },
        {
          "name": "stderr",
          "output_type": "stream",
          "text": []
        },
        {
          "name": "stdout",
          "output_type": "stream",
          "text": [
            "Epoch 23, Batch 20, Loss: 0.03532801568508148\n"
          ]
        },
        {
          "name": "stderr",
          "output_type": "stream",
          "text": []
        },
        {
          "name": "stdout",
          "output_type": "stream",
          "text": [
            "Epoch 23, Batch 30, Loss: 0.030759567394852638\n"
          ]
        },
        {
          "name": "stderr",
          "output_type": "stream",
          "text": []
        },
        {
          "name": "stdout",
          "output_type": "stream",
          "text": [
            "Epoch 23, Batch 40, Loss: 0.028479890897870064\n"
          ]
        },
        {
          "name": "stderr",
          "output_type": "stream",
          "text": []
        },
        {
          "name": "stdout",
          "output_type": "stream",
          "text": [
            "Epoch 23, Batch 50, Loss: 0.06064712628722191\n"
          ]
        },
        {
          "name": "stderr",
          "output_type": "stream",
          "text": []
        },
        {
          "name": "stdout",
          "output_type": "stream",
          "text": [
            "Epoch 23, Batch 60, Loss: 0.0312652550637722\n"
          ]
        },
        {
          "name": "stderr",
          "output_type": "stream",
          "text": []
        },
        {
          "name": "stdout",
          "output_type": "stream",
          "text": [
            "Epoch 23, Batch 70, Loss: 0.025924228131771088\n"
          ]
        },
        {
          "name": "stderr",
          "output_type": "stream",
          "text": []
        },
        {
          "name": "stdout",
          "output_type": "stream",
          "text": [
            "Epoch 23, Batch 80, Loss: 0.032710347324609756\n"
          ]
        },
        {
          "name": "stderr",
          "output_type": "stream",
          "text": []
        },
        {
          "name": "stdout",
          "output_type": "stream",
          "text": [
            "Epoch 23, Batch 90, Loss: 0.03079472854733467\n"
          ]
        },
        {
          "name": "stderr",
          "output_type": "stream",
          "text": [
            "Epoch:  24%|██▍       | 24/100 [12:40<40:05, 31.65s/it]"
          ]
        },
        {
          "name": "stdout",
          "output_type": "stream",
          "text": [
            "Epoch 24, Batch 0, Loss: 0.033249616622924805\n"
          ]
        },
        {
          "name": "stderr",
          "output_type": "stream",
          "text": []
        },
        {
          "name": "stdout",
          "output_type": "stream",
          "text": [
            "Epoch 24, Batch 10, Loss: 0.03652862459421158\n"
          ]
        },
        {
          "name": "stderr",
          "output_type": "stream",
          "text": []
        },
        {
          "name": "stdout",
          "output_type": "stream",
          "text": [
            "Epoch 24, Batch 20, Loss: 0.02498527243733406\n"
          ]
        },
        {
          "name": "stderr",
          "output_type": "stream",
          "text": []
        },
        {
          "name": "stdout",
          "output_type": "stream",
          "text": [
            "Epoch 24, Batch 30, Loss: 0.03538942337036133\n"
          ]
        },
        {
          "name": "stderr",
          "output_type": "stream",
          "text": []
        },
        {
          "name": "stdout",
          "output_type": "stream",
          "text": [
            "Epoch 24, Batch 40, Loss: 0.03671669214963913\n"
          ]
        },
        {
          "name": "stderr",
          "output_type": "stream",
          "text": []
        },
        {
          "name": "stdout",
          "output_type": "stream",
          "text": [
            "Epoch 24, Batch 50, Loss: 0.038212090730667114\n"
          ]
        },
        {
          "name": "stderr",
          "output_type": "stream",
          "text": []
        },
        {
          "name": "stdout",
          "output_type": "stream",
          "text": [
            "Epoch 24, Batch 60, Loss: 0.04708727449178696\n"
          ]
        },
        {
          "name": "stderr",
          "output_type": "stream",
          "text": []
        },
        {
          "name": "stdout",
          "output_type": "stream",
          "text": [
            "Epoch 24, Batch 70, Loss: 0.04072742909193039\n"
          ]
        },
        {
          "name": "stderr",
          "output_type": "stream",
          "text": []
        },
        {
          "name": "stdout",
          "output_type": "stream",
          "text": [
            "Epoch 24, Batch 80, Loss: 0.04705805331468582\n"
          ]
        },
        {
          "name": "stderr",
          "output_type": "stream",
          "text": []
        },
        {
          "name": "stdout",
          "output_type": "stream",
          "text": [
            "Epoch 24, Batch 90, Loss: 0.03207019343972206\n"
          ]
        },
        {
          "name": "stderr",
          "output_type": "stream",
          "text": [
            "Epoch:  25%|██▌       | 25/100 [13:12<39:30, 31.61s/it]"
          ]
        },
        {
          "name": "stdout",
          "output_type": "stream",
          "text": [
            "Epoch 25, Batch 0, Loss: 0.021063992753624916\n"
          ]
        },
        {
          "name": "stderr",
          "output_type": "stream",
          "text": []
        },
        {
          "name": "stdout",
          "output_type": "stream",
          "text": [
            "Epoch 25, Batch 10, Loss: 0.0592384859919548\n"
          ]
        },
        {
          "name": "stderr",
          "output_type": "stream",
          "text": []
        },
        {
          "name": "stdout",
          "output_type": "stream",
          "text": [
            "Epoch 25, Batch 20, Loss: 0.03741519898176193\n"
          ]
        },
        {
          "name": "stderr",
          "output_type": "stream",
          "text": []
        },
        {
          "name": "stdout",
          "output_type": "stream",
          "text": [
            "Epoch 25, Batch 30, Loss: 0.04819036275148392\n"
          ]
        },
        {
          "name": "stderr",
          "output_type": "stream",
          "text": []
        },
        {
          "name": "stdout",
          "output_type": "stream",
          "text": [
            "Epoch 25, Batch 40, Loss: 0.05416630953550339\n"
          ]
        },
        {
          "name": "stderr",
          "output_type": "stream",
          "text": []
        },
        {
          "name": "stdout",
          "output_type": "stream",
          "text": [
            "Epoch 25, Batch 50, Loss: 0.07205633074045181\n"
          ]
        },
        {
          "name": "stderr",
          "output_type": "stream",
          "text": []
        },
        {
          "name": "stdout",
          "output_type": "stream",
          "text": [
            "Epoch 25, Batch 60, Loss: 0.06565690785646439\n"
          ]
        },
        {
          "name": "stderr",
          "output_type": "stream",
          "text": []
        },
        {
          "name": "stdout",
          "output_type": "stream",
          "text": [
            "Epoch 25, Batch 70, Loss: 0.04073157161474228\n"
          ]
        },
        {
          "name": "stderr",
          "output_type": "stream",
          "text": []
        },
        {
          "name": "stdout",
          "output_type": "stream",
          "text": [
            "Epoch 25, Batch 80, Loss: 0.043830111622810364\n"
          ]
        },
        {
          "name": "stderr",
          "output_type": "stream",
          "text": []
        },
        {
          "name": "stdout",
          "output_type": "stream",
          "text": [
            "Epoch 25, Batch 90, Loss: 0.062471870332956314\n"
          ]
        },
        {
          "name": "stderr",
          "output_type": "stream",
          "text": [
            "Epoch:  26%|██▌       | 26/100 [13:43<38:58, 31.60s/it]"
          ]
        },
        {
          "name": "stdout",
          "output_type": "stream",
          "text": [
            "Epoch 26, Batch 0, Loss: 0.05372568964958191\n"
          ]
        },
        {
          "name": "stderr",
          "output_type": "stream",
          "text": []
        },
        {
          "name": "stdout",
          "output_type": "stream",
          "text": [
            "Epoch 26, Batch 10, Loss: 0.03336005657911301\n"
          ]
        },
        {
          "name": "stderr",
          "output_type": "stream",
          "text": []
        },
        {
          "name": "stdout",
          "output_type": "stream",
          "text": [
            "Epoch 26, Batch 20, Loss: 0.025378525257110596\n"
          ]
        },
        {
          "name": "stderr",
          "output_type": "stream",
          "text": []
        },
        {
          "name": "stdout",
          "output_type": "stream",
          "text": [
            "Epoch 26, Batch 30, Loss: 0.03765444830060005\n"
          ]
        },
        {
          "name": "stderr",
          "output_type": "stream",
          "text": []
        },
        {
          "name": "stdout",
          "output_type": "stream",
          "text": [
            "Epoch 26, Batch 40, Loss: 0.03631909564137459\n"
          ]
        },
        {
          "name": "stderr",
          "output_type": "stream",
          "text": []
        },
        {
          "name": "stdout",
          "output_type": "stream",
          "text": [
            "Epoch 26, Batch 50, Loss: 0.05646519735455513\n"
          ]
        },
        {
          "name": "stderr",
          "output_type": "stream",
          "text": []
        },
        {
          "name": "stdout",
          "output_type": "stream",
          "text": [
            "Epoch 26, Batch 60, Loss: 0.04138592630624771\n"
          ]
        },
        {
          "name": "stderr",
          "output_type": "stream",
          "text": []
        },
        {
          "name": "stdout",
          "output_type": "stream",
          "text": [
            "Epoch 26, Batch 70, Loss: 0.05152040347456932\n"
          ]
        },
        {
          "name": "stderr",
          "output_type": "stream",
          "text": []
        },
        {
          "name": "stdout",
          "output_type": "stream",
          "text": [
            "Epoch 26, Batch 80, Loss: 0.026290010660886765\n"
          ]
        },
        {
          "name": "stderr",
          "output_type": "stream",
          "text": []
        },
        {
          "name": "stdout",
          "output_type": "stream",
          "text": [
            "Epoch 26, Batch 90, Loss: 0.048964858055114746\n"
          ]
        },
        {
          "name": "stderr",
          "output_type": "stream",
          "text": [
            "Epoch:  27%|██▋       | 27/100 [14:15<38:29, 31.63s/it]"
          ]
        },
        {
          "name": "stdout",
          "output_type": "stream",
          "text": [
            "Epoch 27, Batch 0, Loss: 0.020163901150226593\n"
          ]
        },
        {
          "name": "stderr",
          "output_type": "stream",
          "text": []
        },
        {
          "name": "stdout",
          "output_type": "stream",
          "text": [
            "Epoch 27, Batch 10, Loss: 0.02291061356663704\n"
          ]
        },
        {
          "name": "stderr",
          "output_type": "stream",
          "text": []
        },
        {
          "name": "stdout",
          "output_type": "stream",
          "text": [
            "Epoch 27, Batch 20, Loss: 0.03432069718837738\n"
          ]
        },
        {
          "name": "stderr",
          "output_type": "stream",
          "text": []
        },
        {
          "name": "stdout",
          "output_type": "stream",
          "text": [
            "Epoch 27, Batch 30, Loss: 0.08974862098693848\n"
          ]
        },
        {
          "name": "stderr",
          "output_type": "stream",
          "text": []
        },
        {
          "name": "stdout",
          "output_type": "stream",
          "text": [
            "Epoch 27, Batch 40, Loss: 0.0873563289642334\n"
          ]
        },
        {
          "name": "stderr",
          "output_type": "stream",
          "text": []
        },
        {
          "name": "stdout",
          "output_type": "stream",
          "text": [
            "Epoch 27, Batch 50, Loss: 0.07626917958259583\n"
          ]
        },
        {
          "name": "stderr",
          "output_type": "stream",
          "text": []
        },
        {
          "name": "stdout",
          "output_type": "stream",
          "text": [
            "Epoch 27, Batch 60, Loss: 0.050022758543491364\n"
          ]
        },
        {
          "name": "stderr",
          "output_type": "stream",
          "text": []
        },
        {
          "name": "stdout",
          "output_type": "stream",
          "text": [
            "Epoch 27, Batch 70, Loss: 0.05668250471353531\n"
          ]
        },
        {
          "name": "stderr",
          "output_type": "stream",
          "text": []
        },
        {
          "name": "stdout",
          "output_type": "stream",
          "text": [
            "Epoch 27, Batch 80, Loss: 0.06365892291069031\n"
          ]
        },
        {
          "name": "stderr",
          "output_type": "stream",
          "text": []
        },
        {
          "name": "stdout",
          "output_type": "stream",
          "text": [
            "Epoch 27, Batch 90, Loss: 0.0551142655313015\n"
          ]
        },
        {
          "name": "stderr",
          "output_type": "stream",
          "text": [
            "Epoch:  28%|██▊       | 28/100 [14:47<37:55, 31.61s/it]"
          ]
        },
        {
          "name": "stdout",
          "output_type": "stream",
          "text": [
            "Epoch 28, Batch 0, Loss: 0.049944255501031876\n"
          ]
        },
        {
          "name": "stderr",
          "output_type": "stream",
          "text": []
        },
        {
          "name": "stdout",
          "output_type": "stream",
          "text": [
            "Epoch 28, Batch 10, Loss: 0.045868657529354095\n"
          ]
        },
        {
          "name": "stderr",
          "output_type": "stream",
          "text": []
        },
        {
          "name": "stdout",
          "output_type": "stream",
          "text": [
            "Epoch 28, Batch 20, Loss: 0.03960757330060005\n"
          ]
        },
        {
          "name": "stderr",
          "output_type": "stream",
          "text": []
        },
        {
          "name": "stdout",
          "output_type": "stream",
          "text": [
            "Epoch 28, Batch 30, Loss: 0.04731199890375137\n"
          ]
        },
        {
          "name": "stderr",
          "output_type": "stream",
          "text": []
        },
        {
          "name": "stdout",
          "output_type": "stream",
          "text": [
            "Epoch 28, Batch 40, Loss: 0.06682855635881424\n"
          ]
        },
        {
          "name": "stderr",
          "output_type": "stream",
          "text": []
        },
        {
          "name": "stdout",
          "output_type": "stream",
          "text": [
            "Epoch 28, Batch 50, Loss: 0.043169498443603516\n"
          ]
        },
        {
          "name": "stderr",
          "output_type": "stream",
          "text": []
        },
        {
          "name": "stdout",
          "output_type": "stream",
          "text": [
            "Epoch 28, Batch 60, Loss: 0.05568912252783775\n"
          ]
        },
        {
          "name": "stderr",
          "output_type": "stream",
          "text": []
        },
        {
          "name": "stdout",
          "output_type": "stream",
          "text": [
            "Epoch 28, Batch 70, Loss: 0.03921816870570183\n"
          ]
        },
        {
          "name": "stderr",
          "output_type": "stream",
          "text": []
        },
        {
          "name": "stdout",
          "output_type": "stream",
          "text": [
            "Epoch 28, Batch 80, Loss: 0.06088819354772568\n"
          ]
        },
        {
          "name": "stderr",
          "output_type": "stream",
          "text": []
        },
        {
          "name": "stdout",
          "output_type": "stream",
          "text": [
            "Epoch 28, Batch 90, Loss: 0.06986235082149506\n"
          ]
        },
        {
          "name": "stderr",
          "output_type": "stream",
          "text": [
            "Epoch:  29%|██▉       | 29/100 [15:20<37:55, 32.05s/it]"
          ]
        },
        {
          "name": "stdout",
          "output_type": "stream",
          "text": [
            "Epoch 29, Batch 0, Loss: 0.089528888463974\n"
          ]
        },
        {
          "name": "stderr",
          "output_type": "stream",
          "text": []
        },
        {
          "name": "stdout",
          "output_type": "stream",
          "text": [
            "Epoch 29, Batch 10, Loss: 0.04865358769893646\n"
          ]
        },
        {
          "name": "stderr",
          "output_type": "stream",
          "text": []
        },
        {
          "name": "stdout",
          "output_type": "stream",
          "text": [
            "Epoch 29, Batch 20, Loss: 0.13097937405109406\n"
          ]
        },
        {
          "name": "stderr",
          "output_type": "stream",
          "text": []
        },
        {
          "name": "stdout",
          "output_type": "stream",
          "text": [
            "Epoch 29, Batch 30, Loss: 0.03316792845726013\n"
          ]
        },
        {
          "name": "stderr",
          "output_type": "stream",
          "text": []
        },
        {
          "name": "stdout",
          "output_type": "stream",
          "text": [
            "Epoch 29, Batch 40, Loss: 0.047171451151371\n"
          ]
        },
        {
          "name": "stderr",
          "output_type": "stream",
          "text": []
        },
        {
          "name": "stdout",
          "output_type": "stream",
          "text": [
            "Epoch 29, Batch 50, Loss: 0.03468158841133118\n"
          ]
        },
        {
          "name": "stderr",
          "output_type": "stream",
          "text": []
        },
        {
          "name": "stdout",
          "output_type": "stream",
          "text": [
            "Epoch 29, Batch 60, Loss: 0.030467456206679344\n"
          ]
        },
        {
          "name": "stderr",
          "output_type": "stream",
          "text": []
        },
        {
          "name": "stdout",
          "output_type": "stream",
          "text": [
            "Epoch 29, Batch 70, Loss: 0.028373513370752335\n"
          ]
        },
        {
          "name": "stderr",
          "output_type": "stream",
          "text": []
        },
        {
          "name": "stdout",
          "output_type": "stream",
          "text": [
            "Epoch 29, Batch 80, Loss: 0.039735496044158936\n"
          ]
        },
        {
          "name": "stderr",
          "output_type": "stream",
          "text": []
        },
        {
          "name": "stdout",
          "output_type": "stream",
          "text": [
            "Epoch 29, Batch 90, Loss: 0.04294941574335098\n"
          ]
        },
        {
          "name": "stderr",
          "output_type": "stream",
          "text": [
            "Epoch:  30%|███       | 30/100 [15:51<37:17, 31.96s/it]"
          ]
        },
        {
          "name": "stdout",
          "output_type": "stream",
          "text": [
            "Epoch 30, Batch 0, Loss: 0.07558531314134598\n"
          ]
        },
        {
          "name": "stderr",
          "output_type": "stream",
          "text": []
        },
        {
          "name": "stdout",
          "output_type": "stream",
          "text": [
            "Epoch 30, Batch 10, Loss: 0.08176468312740326\n"
          ]
        },
        {
          "name": "stderr",
          "output_type": "stream",
          "text": []
        },
        {
          "name": "stdout",
          "output_type": "stream",
          "text": [
            "Epoch 30, Batch 20, Loss: 0.04136767238378525\n"
          ]
        },
        {
          "name": "stderr",
          "output_type": "stream",
          "text": []
        },
        {
          "name": "stdout",
          "output_type": "stream",
          "text": [
            "Epoch 30, Batch 30, Loss: 0.04914656654000282\n"
          ]
        },
        {
          "name": "stderr",
          "output_type": "stream",
          "text": []
        },
        {
          "name": "stdout",
          "output_type": "stream",
          "text": [
            "Epoch 30, Batch 40, Loss: 0.044868893921375275\n"
          ]
        },
        {
          "name": "stderr",
          "output_type": "stream",
          "text": []
        },
        {
          "name": "stdout",
          "output_type": "stream",
          "text": [
            "Epoch 30, Batch 50, Loss: 0.061796121299266815\n"
          ]
        },
        {
          "name": "stderr",
          "output_type": "stream",
          "text": []
        },
        {
          "name": "stdout",
          "output_type": "stream",
          "text": [
            "Epoch 30, Batch 60, Loss: 0.0445658378303051\n"
          ]
        },
        {
          "name": "stderr",
          "output_type": "stream",
          "text": []
        },
        {
          "name": "stdout",
          "output_type": "stream",
          "text": [
            "Epoch 30, Batch 70, Loss: 0.04331878200173378\n"
          ]
        },
        {
          "name": "stderr",
          "output_type": "stream",
          "text": []
        },
        {
          "name": "stdout",
          "output_type": "stream",
          "text": [
            "Epoch 30, Batch 80, Loss: 0.04805447906255722\n"
          ]
        },
        {
          "name": "stderr",
          "output_type": "stream",
          "text": []
        },
        {
          "name": "stdout",
          "output_type": "stream",
          "text": [
            "Epoch 30, Batch 90, Loss: 0.032382793724536896\n"
          ]
        },
        {
          "name": "stderr",
          "output_type": "stream",
          "text": [
            "Epoch:  31%|███       | 31/100 [16:23<36:39, 31.88s/it]"
          ]
        },
        {
          "name": "stdout",
          "output_type": "stream",
          "text": [
            "Epoch 31, Batch 0, Loss: 0.04827161133289337\n"
          ]
        },
        {
          "name": "stderr",
          "output_type": "stream",
          "text": []
        },
        {
          "name": "stdout",
          "output_type": "stream",
          "text": [
            "Epoch 31, Batch 10, Loss: 0.03852679952979088\n"
          ]
        },
        {
          "name": "stderr",
          "output_type": "stream",
          "text": []
        },
        {
          "name": "stdout",
          "output_type": "stream",
          "text": [
            "Epoch 31, Batch 20, Loss: 0.04225360229611397\n"
          ]
        },
        {
          "name": "stderr",
          "output_type": "stream",
          "text": []
        },
        {
          "name": "stdout",
          "output_type": "stream",
          "text": [
            "Epoch 31, Batch 30, Loss: 0.028655774891376495\n"
          ]
        },
        {
          "name": "stderr",
          "output_type": "stream",
          "text": []
        },
        {
          "name": "stdout",
          "output_type": "stream",
          "text": [
            "Epoch 31, Batch 40, Loss: 0.04785682633519173\n"
          ]
        },
        {
          "name": "stderr",
          "output_type": "stream",
          "text": []
        },
        {
          "name": "stdout",
          "output_type": "stream",
          "text": [
            "Epoch 31, Batch 50, Loss: 0.035656776279211044\n"
          ]
        },
        {
          "name": "stderr",
          "output_type": "stream",
          "text": []
        },
        {
          "name": "stdout",
          "output_type": "stream",
          "text": [
            "Epoch 31, Batch 60, Loss: 0.0180327408015728\n"
          ]
        },
        {
          "name": "stderr",
          "output_type": "stream",
          "text": []
        },
        {
          "name": "stdout",
          "output_type": "stream",
          "text": [
            "Epoch 31, Batch 70, Loss: 0.02393188513815403\n"
          ]
        },
        {
          "name": "stderr",
          "output_type": "stream",
          "text": []
        },
        {
          "name": "stdout",
          "output_type": "stream",
          "text": [
            "Epoch 31, Batch 80, Loss: 0.0404076874256134\n"
          ]
        },
        {
          "name": "stderr",
          "output_type": "stream",
          "text": []
        },
        {
          "name": "stdout",
          "output_type": "stream",
          "text": [
            "Epoch 31, Batch 90, Loss: 0.08554762601852417\n"
          ]
        },
        {
          "name": "stderr",
          "output_type": "stream",
          "text": [
            "Epoch:  32%|███▏      | 32/100 [16:55<36:06, 31.87s/it]"
          ]
        },
        {
          "name": "stdout",
          "output_type": "stream",
          "text": [
            "Epoch 32, Batch 0, Loss: 0.058687180280685425\n"
          ]
        },
        {
          "name": "stderr",
          "output_type": "stream",
          "text": []
        },
        {
          "name": "stdout",
          "output_type": "stream",
          "text": [
            "Epoch 32, Batch 10, Loss: 0.0815172865986824\n"
          ]
        },
        {
          "name": "stderr",
          "output_type": "stream",
          "text": []
        },
        {
          "name": "stdout",
          "output_type": "stream",
          "text": [
            "Epoch 32, Batch 20, Loss: 0.03398514539003372\n"
          ]
        },
        {
          "name": "stderr",
          "output_type": "stream",
          "text": []
        },
        {
          "name": "stdout",
          "output_type": "stream",
          "text": [
            "Epoch 32, Batch 30, Loss: 0.04052111878991127\n"
          ]
        },
        {
          "name": "stderr",
          "output_type": "stream",
          "text": []
        },
        {
          "name": "stdout",
          "output_type": "stream",
          "text": [
            "Epoch 32, Batch 40, Loss: 0.030858825892210007\n"
          ]
        },
        {
          "name": "stderr",
          "output_type": "stream",
          "text": []
        },
        {
          "name": "stdout",
          "output_type": "stream",
          "text": [
            "Epoch 32, Batch 50, Loss: 0.0319548137485981\n"
          ]
        },
        {
          "name": "stderr",
          "output_type": "stream",
          "text": []
        },
        {
          "name": "stdout",
          "output_type": "stream",
          "text": [
            "Epoch 32, Batch 60, Loss: 0.047791771590709686\n"
          ]
        },
        {
          "name": "stderr",
          "output_type": "stream",
          "text": []
        },
        {
          "name": "stdout",
          "output_type": "stream",
          "text": [
            "Epoch 32, Batch 70, Loss: 0.043496355414390564\n"
          ]
        },
        {
          "name": "stderr",
          "output_type": "stream",
          "text": []
        },
        {
          "name": "stdout",
          "output_type": "stream",
          "text": [
            "Epoch 32, Batch 80, Loss: 0.025467202067375183\n"
          ]
        },
        {
          "name": "stderr",
          "output_type": "stream",
          "text": []
        },
        {
          "name": "stdout",
          "output_type": "stream",
          "text": [
            "Epoch 32, Batch 90, Loss: 0.051706403493881226\n"
          ]
        },
        {
          "name": "stderr",
          "output_type": "stream",
          "text": [
            "Epoch:  33%|███▎      | 33/100 [17:27<35:30, 31.79s/it]"
          ]
        },
        {
          "name": "stdout",
          "output_type": "stream",
          "text": [
            "Epoch 33, Batch 0, Loss: 0.05398767068982124\n"
          ]
        },
        {
          "name": "stderr",
          "output_type": "stream",
          "text": []
        },
        {
          "name": "stdout",
          "output_type": "stream",
          "text": [
            "Epoch 33, Batch 10, Loss: 0.03485621139407158\n"
          ]
        },
        {
          "name": "stderr",
          "output_type": "stream",
          "text": []
        },
        {
          "name": "stdout",
          "output_type": "stream",
          "text": [
            "Epoch 33, Batch 20, Loss: 0.03781149163842201\n"
          ]
        },
        {
          "name": "stderr",
          "output_type": "stream",
          "text": []
        },
        {
          "name": "stdout",
          "output_type": "stream",
          "text": [
            "Epoch 33, Batch 30, Loss: 0.03206922858953476\n"
          ]
        },
        {
          "name": "stderr",
          "output_type": "stream",
          "text": []
        },
        {
          "name": "stdout",
          "output_type": "stream",
          "text": [
            "Epoch 33, Batch 40, Loss: 0.03356743976473808\n"
          ]
        },
        {
          "name": "stderr",
          "output_type": "stream",
          "text": []
        },
        {
          "name": "stdout",
          "output_type": "stream",
          "text": [
            "Epoch 33, Batch 50, Loss: 0.027132995426654816\n"
          ]
        },
        {
          "name": "stderr",
          "output_type": "stream",
          "text": []
        },
        {
          "name": "stdout",
          "output_type": "stream",
          "text": [
            "Epoch 33, Batch 60, Loss: 0.03883069381117821\n"
          ]
        },
        {
          "name": "stderr",
          "output_type": "stream",
          "text": []
        },
        {
          "name": "stdout",
          "output_type": "stream",
          "text": [
            "Epoch 33, Batch 70, Loss: 0.029946306720376015\n"
          ]
        },
        {
          "name": "stderr",
          "output_type": "stream",
          "text": []
        },
        {
          "name": "stdout",
          "output_type": "stream",
          "text": [
            "Epoch 33, Batch 80, Loss: 0.026174599304795265\n"
          ]
        },
        {
          "name": "stderr",
          "output_type": "stream",
          "text": []
        },
        {
          "name": "stdout",
          "output_type": "stream",
          "text": [
            "Epoch 33, Batch 90, Loss: 0.06603265553712845\n"
          ]
        },
        {
          "name": "stderr",
          "output_type": "stream",
          "text": [
            "Epoch:  34%|███▍      | 34/100 [17:58<34:55, 31.75s/it]"
          ]
        },
        {
          "name": "stdout",
          "output_type": "stream",
          "text": [
            "Epoch 34, Batch 0, Loss: 0.045337893068790436\n"
          ]
        },
        {
          "name": "stderr",
          "output_type": "stream",
          "text": []
        },
        {
          "name": "stdout",
          "output_type": "stream",
          "text": [
            "Epoch 34, Batch 10, Loss: 0.02726653590798378\n"
          ]
        },
        {
          "name": "stderr",
          "output_type": "stream",
          "text": []
        },
        {
          "name": "stdout",
          "output_type": "stream",
          "text": [
            "Epoch 34, Batch 20, Loss: 0.027235746383666992\n"
          ]
        },
        {
          "name": "stderr",
          "output_type": "stream",
          "text": []
        },
        {
          "name": "stdout",
          "output_type": "stream",
          "text": [
            "Epoch 34, Batch 30, Loss: 0.021574227139353752\n"
          ]
        },
        {
          "name": "stderr",
          "output_type": "stream",
          "text": []
        },
        {
          "name": "stdout",
          "output_type": "stream",
          "text": [
            "Epoch 34, Batch 40, Loss: 0.045146360993385315\n"
          ]
        },
        {
          "name": "stderr",
          "output_type": "stream",
          "text": []
        },
        {
          "name": "stdout",
          "output_type": "stream",
          "text": [
            "Epoch 34, Batch 50, Loss: 0.03270601108670235\n"
          ]
        },
        {
          "name": "stderr",
          "output_type": "stream",
          "text": []
        },
        {
          "name": "stdout",
          "output_type": "stream",
          "text": [
            "Epoch 34, Batch 60, Loss: 0.027256641536951065\n"
          ]
        },
        {
          "name": "stderr",
          "output_type": "stream",
          "text": []
        },
        {
          "name": "stdout",
          "output_type": "stream",
          "text": [
            "Epoch 34, Batch 70, Loss: 0.0298237893730402\n"
          ]
        },
        {
          "name": "stderr",
          "output_type": "stream",
          "text": []
        },
        {
          "name": "stdout",
          "output_type": "stream",
          "text": [
            "Epoch 34, Batch 80, Loss: 0.03203393891453743\n"
          ]
        },
        {
          "name": "stderr",
          "output_type": "stream",
          "text": []
        },
        {
          "name": "stdout",
          "output_type": "stream",
          "text": [
            "Epoch 34, Batch 90, Loss: 0.027838626876473427\n"
          ]
        },
        {
          "name": "stderr",
          "output_type": "stream",
          "text": [
            "Epoch:  35%|███▌      | 35/100 [18:30<34:26, 31.79s/it]"
          ]
        },
        {
          "name": "stdout",
          "output_type": "stream",
          "text": [
            "Epoch 35, Batch 0, Loss: 0.027684293687343597\n"
          ]
        },
        {
          "name": "stderr",
          "output_type": "stream",
          "text": []
        },
        {
          "name": "stdout",
          "output_type": "stream",
          "text": [
            "Epoch 35, Batch 10, Loss: 0.028410617262125015\n"
          ]
        },
        {
          "name": "stderr",
          "output_type": "stream",
          "text": []
        },
        {
          "name": "stdout",
          "output_type": "stream",
          "text": [
            "Epoch 35, Batch 20, Loss: 0.04910638928413391\n"
          ]
        },
        {
          "name": "stderr",
          "output_type": "stream",
          "text": []
        },
        {
          "name": "stdout",
          "output_type": "stream",
          "text": [
            "Epoch 35, Batch 30, Loss: 0.02835247665643692\n"
          ]
        },
        {
          "name": "stderr",
          "output_type": "stream",
          "text": []
        },
        {
          "name": "stdout",
          "output_type": "stream",
          "text": [
            "Epoch 35, Batch 40, Loss: 0.023059193044900894\n"
          ]
        },
        {
          "name": "stderr",
          "output_type": "stream",
          "text": []
        },
        {
          "name": "stdout",
          "output_type": "stream",
          "text": [
            "Epoch 35, Batch 50, Loss: 0.04623445123434067\n"
          ]
        },
        {
          "name": "stderr",
          "output_type": "stream",
          "text": []
        },
        {
          "name": "stdout",
          "output_type": "stream",
          "text": [
            "Epoch 35, Batch 60, Loss: 0.029169630259275436\n"
          ]
        },
        {
          "name": "stderr",
          "output_type": "stream",
          "text": []
        },
        {
          "name": "stdout",
          "output_type": "stream",
          "text": [
            "Epoch 35, Batch 70, Loss: 0.05296581611037254\n"
          ]
        },
        {
          "name": "stderr",
          "output_type": "stream",
          "text": []
        },
        {
          "name": "stdout",
          "output_type": "stream",
          "text": [
            "Epoch 35, Batch 80, Loss: 0.032851945608854294\n"
          ]
        },
        {
          "name": "stderr",
          "output_type": "stream",
          "text": []
        },
        {
          "name": "stdout",
          "output_type": "stream",
          "text": [
            "Epoch 35, Batch 90, Loss: 0.02652275189757347\n"
          ]
        },
        {
          "name": "stderr",
          "output_type": "stream",
          "text": [
            "Epoch:  36%|███▌      | 36/100 [19:02<33:55, 31.80s/it]"
          ]
        },
        {
          "name": "stdout",
          "output_type": "stream",
          "text": [
            "Epoch 36, Batch 0, Loss: 0.022844621911644936\n"
          ]
        },
        {
          "name": "stderr",
          "output_type": "stream",
          "text": []
        },
        {
          "name": "stdout",
          "output_type": "stream",
          "text": [
            "Epoch 36, Batch 10, Loss: 0.035322654992341995\n"
          ]
        },
        {
          "name": "stderr",
          "output_type": "stream",
          "text": []
        },
        {
          "name": "stdout",
          "output_type": "stream",
          "text": [
            "Epoch 36, Batch 20, Loss: 0.019052637740969658\n"
          ]
        },
        {
          "name": "stderr",
          "output_type": "stream",
          "text": []
        },
        {
          "name": "stdout",
          "output_type": "stream",
          "text": [
            "Epoch 36, Batch 30, Loss: 0.0454099215567112\n"
          ]
        },
        {
          "name": "stderr",
          "output_type": "stream",
          "text": []
        },
        {
          "name": "stdout",
          "output_type": "stream",
          "text": [
            "Epoch 36, Batch 40, Loss: 0.041013821959495544\n"
          ]
        },
        {
          "name": "stderr",
          "output_type": "stream",
          "text": []
        },
        {
          "name": "stdout",
          "output_type": "stream",
          "text": [
            "Epoch 36, Batch 50, Loss: 0.03861114755272865\n"
          ]
        },
        {
          "name": "stderr",
          "output_type": "stream",
          "text": []
        },
        {
          "name": "stdout",
          "output_type": "stream",
          "text": [
            "Epoch 36, Batch 60, Loss: 0.019723905250430107\n"
          ]
        },
        {
          "name": "stderr",
          "output_type": "stream",
          "text": []
        },
        {
          "name": "stdout",
          "output_type": "stream",
          "text": [
            "Epoch 36, Batch 70, Loss: 0.036212339997291565\n"
          ]
        },
        {
          "name": "stderr",
          "output_type": "stream",
          "text": []
        },
        {
          "name": "stdout",
          "output_type": "stream",
          "text": [
            "Epoch 36, Batch 80, Loss: 0.03720578923821449\n"
          ]
        },
        {
          "name": "stderr",
          "output_type": "stream",
          "text": []
        },
        {
          "name": "stdout",
          "output_type": "stream",
          "text": [
            "Epoch 36, Batch 90, Loss: 0.03468235954642296\n"
          ]
        },
        {
          "name": "stderr",
          "output_type": "stream",
          "text": [
            "Epoch:  37%|███▋      | 37/100 [19:34<33:26, 31.85s/it]"
          ]
        },
        {
          "name": "stdout",
          "output_type": "stream",
          "text": [
            "Epoch 37, Batch 0, Loss: 0.03637182340025902\n"
          ]
        },
        {
          "name": "stderr",
          "output_type": "stream",
          "text": []
        },
        {
          "name": "stdout",
          "output_type": "stream",
          "text": [
            "Epoch 37, Batch 10, Loss: 0.03853893280029297\n"
          ]
        },
        {
          "name": "stderr",
          "output_type": "stream",
          "text": []
        },
        {
          "name": "stdout",
          "output_type": "stream",
          "text": [
            "Epoch 37, Batch 20, Loss: 0.03860520198941231\n"
          ]
        },
        {
          "name": "stderr",
          "output_type": "stream",
          "text": []
        },
        {
          "name": "stdout",
          "output_type": "stream",
          "text": [
            "Epoch 37, Batch 30, Loss: 0.023121559992432594\n"
          ]
        },
        {
          "name": "stderr",
          "output_type": "stream",
          "text": []
        },
        {
          "name": "stdout",
          "output_type": "stream",
          "text": [
            "Epoch 37, Batch 40, Loss: 0.01681201159954071\n"
          ]
        },
        {
          "name": "stderr",
          "output_type": "stream",
          "text": []
        },
        {
          "name": "stdout",
          "output_type": "stream",
          "text": [
            "Epoch 37, Batch 50, Loss: 0.02605554275214672\n"
          ]
        },
        {
          "name": "stderr",
          "output_type": "stream",
          "text": []
        },
        {
          "name": "stdout",
          "output_type": "stream",
          "text": [
            "Epoch 37, Batch 60, Loss: 0.04227181896567345\n"
          ]
        },
        {
          "name": "stderr",
          "output_type": "stream",
          "text": []
        },
        {
          "name": "stdout",
          "output_type": "stream",
          "text": [
            "Epoch 37, Batch 70, Loss: 0.0631844699382782\n"
          ]
        },
        {
          "name": "stderr",
          "output_type": "stream",
          "text": []
        },
        {
          "name": "stdout",
          "output_type": "stream",
          "text": [
            "Epoch 37, Batch 80, Loss: 0.04879361763596535\n"
          ]
        },
        {
          "name": "stderr",
          "output_type": "stream",
          "text": []
        },
        {
          "name": "stdout",
          "output_type": "stream",
          "text": [
            "Epoch 37, Batch 90, Loss: 0.038135234266519547\n"
          ]
        },
        {
          "name": "stderr",
          "output_type": "stream",
          "text": [
            "Epoch:  38%|███▊      | 38/100 [20:06<32:54, 31.84s/it]"
          ]
        },
        {
          "name": "stdout",
          "output_type": "stream",
          "text": [
            "Epoch 38, Batch 0, Loss: 0.05872931331396103\n"
          ]
        },
        {
          "name": "stderr",
          "output_type": "stream",
          "text": []
        },
        {
          "name": "stdout",
          "output_type": "stream",
          "text": [
            "Epoch 38, Batch 10, Loss: 0.031226633116602898\n"
          ]
        },
        {
          "name": "stderr",
          "output_type": "stream",
          "text": []
        },
        {
          "name": "stdout",
          "output_type": "stream",
          "text": [
            "Epoch 38, Batch 20, Loss: 0.05522364377975464\n"
          ]
        },
        {
          "name": "stderr",
          "output_type": "stream",
          "text": []
        },
        {
          "name": "stdout",
          "output_type": "stream",
          "text": [
            "Epoch 38, Batch 30, Loss: 0.04931415989995003\n"
          ]
        },
        {
          "name": "stderr",
          "output_type": "stream",
          "text": []
        },
        {
          "name": "stdout",
          "output_type": "stream",
          "text": [
            "Epoch 38, Batch 40, Loss: 0.06129459664225578\n"
          ]
        },
        {
          "name": "stderr",
          "output_type": "stream",
          "text": []
        },
        {
          "name": "stdout",
          "output_type": "stream",
          "text": [
            "Epoch 38, Batch 50, Loss: 0.06403027474880219\n"
          ]
        },
        {
          "name": "stderr",
          "output_type": "stream",
          "text": []
        },
        {
          "name": "stdout",
          "output_type": "stream",
          "text": [
            "Epoch 38, Batch 60, Loss: 0.05538936331868172\n"
          ]
        },
        {
          "name": "stderr",
          "output_type": "stream",
          "text": []
        },
        {
          "name": "stdout",
          "output_type": "stream",
          "text": [
            "Epoch 38, Batch 70, Loss: 0.04292511194944382\n"
          ]
        },
        {
          "name": "stderr",
          "output_type": "stream",
          "text": []
        },
        {
          "name": "stdout",
          "output_type": "stream",
          "text": [
            "Epoch 38, Batch 80, Loss: 0.055188585072755814\n"
          ]
        },
        {
          "name": "stderr",
          "output_type": "stream",
          "text": []
        },
        {
          "name": "stdout",
          "output_type": "stream",
          "text": [
            "Epoch 38, Batch 90, Loss: 0.07257276028394699\n"
          ]
        },
        {
          "name": "stderr",
          "output_type": "stream",
          "text": [
            "Epoch:  39%|███▉      | 39/100 [20:38<32:25, 31.90s/it]"
          ]
        },
        {
          "name": "stdout",
          "output_type": "stream",
          "text": [
            "Epoch 39, Batch 0, Loss: 0.07386764883995056\n"
          ]
        },
        {
          "name": "stderr",
          "output_type": "stream",
          "text": []
        },
        {
          "name": "stdout",
          "output_type": "stream",
          "text": [
            "Epoch 39, Batch 10, Loss: 0.05812130868434906\n"
          ]
        },
        {
          "name": "stderr",
          "output_type": "stream",
          "text": []
        },
        {
          "name": "stdout",
          "output_type": "stream",
          "text": [
            "Epoch 39, Batch 20, Loss: 0.051219966262578964\n"
          ]
        },
        {
          "name": "stderr",
          "output_type": "stream",
          "text": []
        },
        {
          "name": "stdout",
          "output_type": "stream",
          "text": [
            "Epoch 39, Batch 30, Loss: 0.06431757658720016\n"
          ]
        },
        {
          "name": "stderr",
          "output_type": "stream",
          "text": []
        },
        {
          "name": "stdout",
          "output_type": "stream",
          "text": [
            "Epoch 39, Batch 40, Loss: 0.05708467960357666\n"
          ]
        },
        {
          "name": "stderr",
          "output_type": "stream",
          "text": []
        },
        {
          "name": "stdout",
          "output_type": "stream",
          "text": [
            "Epoch 39, Batch 50, Loss: 0.05299711599946022\n"
          ]
        },
        {
          "name": "stderr",
          "output_type": "stream",
          "text": []
        },
        {
          "name": "stdout",
          "output_type": "stream",
          "text": [
            "Epoch 39, Batch 60, Loss: 0.043503034859895706\n"
          ]
        },
        {
          "name": "stderr",
          "output_type": "stream",
          "text": []
        },
        {
          "name": "stdout",
          "output_type": "stream",
          "text": [
            "Epoch 39, Batch 70, Loss: 0.033651307225227356\n"
          ]
        },
        {
          "name": "stderr",
          "output_type": "stream",
          "text": []
        },
        {
          "name": "stdout",
          "output_type": "stream",
          "text": [
            "Epoch 39, Batch 80, Loss: 0.048702139407396317\n"
          ]
        },
        {
          "name": "stderr",
          "output_type": "stream",
          "text": []
        },
        {
          "name": "stdout",
          "output_type": "stream",
          "text": [
            "Epoch 39, Batch 90, Loss: 0.030902232974767685\n"
          ]
        },
        {
          "name": "stderr",
          "output_type": "stream",
          "text": [
            "Epoch:  40%|████      | 40/100 [21:10<31:57, 31.96s/it]"
          ]
        },
        {
          "name": "stdout",
          "output_type": "stream",
          "text": [
            "Epoch 40, Batch 0, Loss: 0.0448773019015789\n"
          ]
        },
        {
          "name": "stderr",
          "output_type": "stream",
          "text": []
        },
        {
          "name": "stdout",
          "output_type": "stream",
          "text": [
            "Epoch 40, Batch 10, Loss: 0.055939096957445145\n"
          ]
        },
        {
          "name": "stderr",
          "output_type": "stream",
          "text": []
        },
        {
          "name": "stdout",
          "output_type": "stream",
          "text": [
            "Epoch 40, Batch 20, Loss: 0.03501896560192108\n"
          ]
        },
        {
          "name": "stderr",
          "output_type": "stream",
          "text": []
        },
        {
          "name": "stdout",
          "output_type": "stream",
          "text": [
            "Epoch 40, Batch 30, Loss: 0.03753204271197319\n"
          ]
        },
        {
          "name": "stderr",
          "output_type": "stream",
          "text": []
        },
        {
          "name": "stdout",
          "output_type": "stream",
          "text": [
            "Epoch 40, Batch 40, Loss: 0.036198049783706665\n"
          ]
        },
        {
          "name": "stderr",
          "output_type": "stream",
          "text": []
        },
        {
          "name": "stdout",
          "output_type": "stream",
          "text": [
            "Epoch 40, Batch 50, Loss: 0.04733648523688316\n"
          ]
        },
        {
          "name": "stderr",
          "output_type": "stream",
          "text": []
        },
        {
          "name": "stdout",
          "output_type": "stream",
          "text": [
            "Epoch 40, Batch 60, Loss: 0.021604904904961586\n"
          ]
        },
        {
          "name": "stderr",
          "output_type": "stream",
          "text": []
        },
        {
          "name": "stdout",
          "output_type": "stream",
          "text": [
            "Epoch 40, Batch 70, Loss: 0.019354727119207382\n"
          ]
        },
        {
          "name": "stderr",
          "output_type": "stream",
          "text": []
        },
        {
          "name": "stdout",
          "output_type": "stream",
          "text": [
            "Epoch 40, Batch 80, Loss: 0.028854666277766228\n"
          ]
        },
        {
          "name": "stderr",
          "output_type": "stream",
          "text": []
        },
        {
          "name": "stdout",
          "output_type": "stream",
          "text": [
            "Epoch 40, Batch 90, Loss: 0.03251180797815323\n"
          ]
        },
        {
          "name": "stderr",
          "output_type": "stream",
          "text": [
            "Epoch:  41%|████      | 41/100 [21:42<31:25, 31.95s/it]"
          ]
        },
        {
          "name": "stdout",
          "output_type": "stream",
          "text": [
            "Epoch 41, Batch 0, Loss: 0.036146897822618484\n"
          ]
        },
        {
          "name": "stderr",
          "output_type": "stream",
          "text": []
        },
        {
          "name": "stdout",
          "output_type": "stream",
          "text": [
            "Epoch 41, Batch 10, Loss: 0.0385451503098011\n"
          ]
        },
        {
          "name": "stderr",
          "output_type": "stream",
          "text": []
        },
        {
          "name": "stdout",
          "output_type": "stream",
          "text": [
            "Epoch 41, Batch 20, Loss: 0.045885153114795685\n"
          ]
        },
        {
          "name": "stderr",
          "output_type": "stream",
          "text": []
        },
        {
          "name": "stdout",
          "output_type": "stream",
          "text": [
            "Epoch 41, Batch 30, Loss: 0.03926130756735802\n"
          ]
        },
        {
          "name": "stderr",
          "output_type": "stream",
          "text": []
        },
        {
          "name": "stdout",
          "output_type": "stream",
          "text": [
            "Epoch 41, Batch 40, Loss: 0.039078518748283386\n"
          ]
        },
        {
          "name": "stderr",
          "output_type": "stream",
          "text": []
        },
        {
          "name": "stdout",
          "output_type": "stream",
          "text": [
            "Epoch 41, Batch 50, Loss: 0.018699288368225098\n"
          ]
        },
        {
          "name": "stderr",
          "output_type": "stream",
          "text": []
        },
        {
          "name": "stdout",
          "output_type": "stream",
          "text": [
            "Epoch 41, Batch 60, Loss: 0.020272938534617424\n"
          ]
        },
        {
          "name": "stderr",
          "output_type": "stream",
          "text": []
        },
        {
          "name": "stdout",
          "output_type": "stream",
          "text": [
            "Epoch 41, Batch 70, Loss: 0.0296490415930748\n"
          ]
        },
        {
          "name": "stderr",
          "output_type": "stream",
          "text": []
        },
        {
          "name": "stdout",
          "output_type": "stream",
          "text": [
            "Epoch 41, Batch 80, Loss: 0.0328153520822525\n"
          ]
        },
        {
          "name": "stderr",
          "output_type": "stream",
          "text": []
        },
        {
          "name": "stdout",
          "output_type": "stream",
          "text": [
            "Epoch 41, Batch 90, Loss: 0.03684351220726967\n"
          ]
        },
        {
          "name": "stderr",
          "output_type": "stream",
          "text": [
            "Epoch:  42%|████▏     | 42/100 [22:14<30:53, 31.95s/it]"
          ]
        },
        {
          "name": "stdout",
          "output_type": "stream",
          "text": [
            "Epoch 42, Batch 0, Loss: 0.03198004886507988\n"
          ]
        },
        {
          "name": "stderr",
          "output_type": "stream",
          "text": []
        },
        {
          "name": "stdout",
          "output_type": "stream",
          "text": [
            "Epoch 42, Batch 10, Loss: 0.05827144905924797\n"
          ]
        },
        {
          "name": "stderr",
          "output_type": "stream",
          "text": []
        },
        {
          "name": "stdout",
          "output_type": "stream",
          "text": [
            "Epoch 42, Batch 20, Loss: 0.05094094201922417\n"
          ]
        },
        {
          "name": "stderr",
          "output_type": "stream",
          "text": []
        },
        {
          "name": "stdout",
          "output_type": "stream",
          "text": [
            "Epoch 42, Batch 30, Loss: 0.051560238003730774\n"
          ]
        },
        {
          "name": "stderr",
          "output_type": "stream",
          "text": []
        },
        {
          "name": "stdout",
          "output_type": "stream",
          "text": [
            "Epoch 42, Batch 40, Loss: 0.03661981225013733\n"
          ]
        },
        {
          "name": "stderr",
          "output_type": "stream",
          "text": []
        },
        {
          "name": "stdout",
          "output_type": "stream",
          "text": [
            "Epoch 42, Batch 50, Loss: 0.07256348431110382\n"
          ]
        },
        {
          "name": "stderr",
          "output_type": "stream",
          "text": []
        },
        {
          "name": "stdout",
          "output_type": "stream",
          "text": [
            "Epoch 42, Batch 60, Loss: 0.053420037031173706\n"
          ]
        },
        {
          "name": "stderr",
          "output_type": "stream",
          "text": []
        },
        {
          "name": "stdout",
          "output_type": "stream",
          "text": [
            "Epoch 42, Batch 70, Loss: 0.02736598812043667\n"
          ]
        },
        {
          "name": "stderr",
          "output_type": "stream",
          "text": []
        },
        {
          "name": "stdout",
          "output_type": "stream",
          "text": [
            "Epoch 42, Batch 80, Loss: 0.03037046268582344\n"
          ]
        },
        {
          "name": "stderr",
          "output_type": "stream",
          "text": []
        },
        {
          "name": "stdout",
          "output_type": "stream",
          "text": [
            "Epoch 42, Batch 90, Loss: 0.04001978412270546\n"
          ]
        },
        {
          "name": "stderr",
          "output_type": "stream",
          "text": [
            "Epoch:  43%|████▎     | 43/100 [22:46<30:20, 31.94s/it]"
          ]
        },
        {
          "name": "stdout",
          "output_type": "stream",
          "text": [
            "Epoch 43, Batch 0, Loss: 0.022396283224225044\n"
          ]
        },
        {
          "name": "stderr",
          "output_type": "stream",
          "text": []
        },
        {
          "name": "stdout",
          "output_type": "stream",
          "text": [
            "Epoch 43, Batch 10, Loss: 0.03136849030852318\n"
          ]
        },
        {
          "name": "stderr",
          "output_type": "stream",
          "text": []
        },
        {
          "name": "stdout",
          "output_type": "stream",
          "text": [
            "Epoch 43, Batch 20, Loss: 0.03178466111421585\n"
          ]
        },
        {
          "name": "stderr",
          "output_type": "stream",
          "text": []
        },
        {
          "name": "stdout",
          "output_type": "stream",
          "text": [
            "Epoch 43, Batch 30, Loss: 0.02725083753466606\n"
          ]
        },
        {
          "name": "stderr",
          "output_type": "stream",
          "text": []
        },
        {
          "name": "stdout",
          "output_type": "stream",
          "text": [
            "Epoch 43, Batch 40, Loss: 0.02710346132516861\n"
          ]
        },
        {
          "name": "stderr",
          "output_type": "stream",
          "text": []
        },
        {
          "name": "stdout",
          "output_type": "stream",
          "text": [
            "Epoch 43, Batch 50, Loss: 0.03967530280351639\n"
          ]
        },
        {
          "name": "stderr",
          "output_type": "stream",
          "text": []
        },
        {
          "name": "stdout",
          "output_type": "stream",
          "text": [
            "Epoch 43, Batch 60, Loss: 0.02376527152955532\n"
          ]
        },
        {
          "name": "stderr",
          "output_type": "stream",
          "text": []
        },
        {
          "name": "stdout",
          "output_type": "stream",
          "text": [
            "Epoch 43, Batch 70, Loss: 0.01897444948554039\n"
          ]
        },
        {
          "name": "stderr",
          "output_type": "stream",
          "text": []
        },
        {
          "name": "stdout",
          "output_type": "stream",
          "text": [
            "Epoch 43, Batch 80, Loss: 0.06059064343571663\n"
          ]
        },
        {
          "name": "stderr",
          "output_type": "stream",
          "text": []
        },
        {
          "name": "stdout",
          "output_type": "stream",
          "text": [
            "Epoch 43, Batch 90, Loss: 0.04211999475955963\n"
          ]
        },
        {
          "name": "stderr",
          "output_type": "stream",
          "text": [
            "Epoch:  44%|████▍     | 44/100 [23:17<29:43, 31.84s/it]"
          ]
        },
        {
          "name": "stdout",
          "output_type": "stream",
          "text": [
            "Epoch 44, Batch 0, Loss: 0.051598913967609406\n"
          ]
        },
        {
          "name": "stderr",
          "output_type": "stream",
          "text": []
        },
        {
          "name": "stdout",
          "output_type": "stream",
          "text": [
            "Epoch 44, Batch 10, Loss: 0.043157171458005905\n"
          ]
        },
        {
          "name": "stderr",
          "output_type": "stream",
          "text": []
        },
        {
          "name": "stdout",
          "output_type": "stream",
          "text": [
            "Epoch 44, Batch 20, Loss: 0.06541644781827927\n"
          ]
        },
        {
          "name": "stderr",
          "output_type": "stream",
          "text": []
        },
        {
          "name": "stdout",
          "output_type": "stream",
          "text": [
            "Epoch 44, Batch 30, Loss: 0.06598937511444092\n"
          ]
        },
        {
          "name": "stderr",
          "output_type": "stream",
          "text": []
        },
        {
          "name": "stdout",
          "output_type": "stream",
          "text": [
            "Epoch 44, Batch 40, Loss: 0.05845070257782936\n"
          ]
        },
        {
          "name": "stderr",
          "output_type": "stream",
          "text": []
        },
        {
          "name": "stdout",
          "output_type": "stream",
          "text": [
            "Epoch 44, Batch 50, Loss: 0.0530817024409771\n"
          ]
        },
        {
          "name": "stderr",
          "output_type": "stream",
          "text": []
        },
        {
          "name": "stdout",
          "output_type": "stream",
          "text": [
            "Epoch 44, Batch 60, Loss: 0.038725998252630234\n"
          ]
        },
        {
          "name": "stderr",
          "output_type": "stream",
          "text": []
        },
        {
          "name": "stdout",
          "output_type": "stream",
          "text": [
            "Epoch 44, Batch 70, Loss: 0.032821863889694214\n"
          ]
        },
        {
          "name": "stderr",
          "output_type": "stream",
          "text": []
        },
        {
          "name": "stdout",
          "output_type": "stream",
          "text": [
            "Epoch 44, Batch 80, Loss: 0.04924089461565018\n"
          ]
        },
        {
          "name": "stderr",
          "output_type": "stream",
          "text": []
        },
        {
          "name": "stdout",
          "output_type": "stream",
          "text": [
            "Epoch 44, Batch 90, Loss: 0.03800319880247116\n"
          ]
        },
        {
          "name": "stderr",
          "output_type": "stream",
          "text": [
            "Epoch:  45%|████▌     | 45/100 [23:49<29:09, 31.81s/it]"
          ]
        },
        {
          "name": "stdout",
          "output_type": "stream",
          "text": [
            "Epoch 45, Batch 0, Loss: 0.0508289597928524\n"
          ]
        },
        {
          "name": "stderr",
          "output_type": "stream",
          "text": []
        },
        {
          "name": "stdout",
          "output_type": "stream",
          "text": [
            "Epoch 45, Batch 10, Loss: 0.026646260172128677\n"
          ]
        },
        {
          "name": "stderr",
          "output_type": "stream",
          "text": []
        },
        {
          "name": "stdout",
          "output_type": "stream",
          "text": [
            "Epoch 45, Batch 20, Loss: 0.022455591708421707\n"
          ]
        },
        {
          "name": "stderr",
          "output_type": "stream",
          "text": []
        },
        {
          "name": "stdout",
          "output_type": "stream",
          "text": [
            "Epoch 45, Batch 30, Loss: 0.02828943356871605\n"
          ]
        },
        {
          "name": "stderr",
          "output_type": "stream",
          "text": []
        },
        {
          "name": "stdout",
          "output_type": "stream",
          "text": [
            "Epoch 45, Batch 40, Loss: 0.043264806270599365\n"
          ]
        },
        {
          "name": "stderr",
          "output_type": "stream",
          "text": []
        },
        {
          "name": "stdout",
          "output_type": "stream",
          "text": [
            "Epoch 45, Batch 50, Loss: 0.03566209599375725\n"
          ]
        },
        {
          "name": "stderr",
          "output_type": "stream",
          "text": []
        },
        {
          "name": "stdout",
          "output_type": "stream",
          "text": [
            "Epoch 45, Batch 60, Loss: 0.02665109559893608\n"
          ]
        },
        {
          "name": "stderr",
          "output_type": "stream",
          "text": []
        },
        {
          "name": "stdout",
          "output_type": "stream",
          "text": [
            "Epoch 45, Batch 70, Loss: 0.03122846595942974\n"
          ]
        },
        {
          "name": "stderr",
          "output_type": "stream",
          "text": []
        },
        {
          "name": "stdout",
          "output_type": "stream",
          "text": [
            "Epoch 45, Batch 80, Loss: 0.06281714141368866\n"
          ]
        },
        {
          "name": "stderr",
          "output_type": "stream",
          "text": []
        },
        {
          "name": "stdout",
          "output_type": "stream",
          "text": [
            "Epoch 45, Batch 90, Loss: 0.033040180802345276\n"
          ]
        },
        {
          "name": "stderr",
          "output_type": "stream",
          "text": [
            "Epoch:  46%|████▌     | 46/100 [24:21<28:36, 31.78s/it]"
          ]
        },
        {
          "name": "stdout",
          "output_type": "stream",
          "text": [
            "Epoch 46, Batch 0, Loss: 0.02869221568107605\n"
          ]
        },
        {
          "name": "stderr",
          "output_type": "stream",
          "text": []
        },
        {
          "name": "stdout",
          "output_type": "stream",
          "text": [
            "Epoch 46, Batch 10, Loss: 0.03702940419316292\n"
          ]
        },
        {
          "name": "stderr",
          "output_type": "stream",
          "text": []
        },
        {
          "name": "stdout",
          "output_type": "stream",
          "text": [
            "Epoch 46, Batch 20, Loss: 0.05038704723119736\n"
          ]
        },
        {
          "name": "stderr",
          "output_type": "stream",
          "text": []
        },
        {
          "name": "stdout",
          "output_type": "stream",
          "text": [
            "Epoch 46, Batch 30, Loss: 0.040483418852090836\n"
          ]
        },
        {
          "name": "stderr",
          "output_type": "stream",
          "text": []
        },
        {
          "name": "stdout",
          "output_type": "stream",
          "text": [
            "Epoch 46, Batch 40, Loss: 0.02131926827132702\n"
          ]
        },
        {
          "name": "stderr",
          "output_type": "stream",
          "text": []
        },
        {
          "name": "stdout",
          "output_type": "stream",
          "text": [
            "Epoch 46, Batch 50, Loss: 0.04445919021964073\n"
          ]
        },
        {
          "name": "stderr",
          "output_type": "stream",
          "text": []
        },
        {
          "name": "stdout",
          "output_type": "stream",
          "text": [
            "Epoch 46, Batch 60, Loss: 0.040538471192121506\n"
          ]
        },
        {
          "name": "stderr",
          "output_type": "stream",
          "text": []
        },
        {
          "name": "stdout",
          "output_type": "stream",
          "text": [
            "Epoch 46, Batch 70, Loss: 0.036049775779247284\n"
          ]
        },
        {
          "name": "stderr",
          "output_type": "stream",
          "text": []
        },
        {
          "name": "stdout",
          "output_type": "stream",
          "text": [
            "Epoch 46, Batch 80, Loss: 0.04200649634003639\n"
          ]
        },
        {
          "name": "stderr",
          "output_type": "stream",
          "text": []
        },
        {
          "name": "stdout",
          "output_type": "stream",
          "text": [
            "Epoch 46, Batch 90, Loss: 0.03620850294828415\n"
          ]
        },
        {
          "name": "stderr",
          "output_type": "stream",
          "text": [
            "Epoch:  47%|████▋     | 47/100 [24:52<28:04, 31.79s/it]"
          ]
        },
        {
          "name": "stdout",
          "output_type": "stream",
          "text": [
            "Epoch 47, Batch 0, Loss: 0.030415980145335197\n"
          ]
        },
        {
          "name": "stderr",
          "output_type": "stream",
          "text": []
        },
        {
          "name": "stdout",
          "output_type": "stream",
          "text": [
            "Epoch 47, Batch 10, Loss: 0.0334952175617218\n"
          ]
        },
        {
          "name": "stderr",
          "output_type": "stream",
          "text": []
        },
        {
          "name": "stdout",
          "output_type": "stream",
          "text": [
            "Epoch 47, Batch 20, Loss: 0.03393774479627609\n"
          ]
        },
        {
          "name": "stderr",
          "output_type": "stream",
          "text": []
        },
        {
          "name": "stdout",
          "output_type": "stream",
          "text": [
            "Epoch 47, Batch 30, Loss: 0.03598718345165253\n"
          ]
        },
        {
          "name": "stderr",
          "output_type": "stream",
          "text": []
        },
        {
          "name": "stdout",
          "output_type": "stream",
          "text": [
            "Epoch 47, Batch 40, Loss: 0.038031794130802155\n"
          ]
        },
        {
          "name": "stderr",
          "output_type": "stream",
          "text": []
        },
        {
          "name": "stdout",
          "output_type": "stream",
          "text": [
            "Epoch 47, Batch 50, Loss: 0.046542905271053314\n"
          ]
        },
        {
          "name": "stderr",
          "output_type": "stream",
          "text": []
        },
        {
          "name": "stdout",
          "output_type": "stream",
          "text": [
            "Epoch 47, Batch 60, Loss: 0.03176078945398331\n"
          ]
        },
        {
          "name": "stderr",
          "output_type": "stream",
          "text": []
        },
        {
          "name": "stdout",
          "output_type": "stream",
          "text": [
            "Epoch 47, Batch 70, Loss: 0.035128623247146606\n"
          ]
        },
        {
          "name": "stderr",
          "output_type": "stream",
          "text": []
        },
        {
          "name": "stdout",
          "output_type": "stream",
          "text": [
            "Epoch 47, Batch 80, Loss: 0.0293742623180151\n"
          ]
        },
        {
          "name": "stderr",
          "output_type": "stream",
          "text": []
        },
        {
          "name": "stdout",
          "output_type": "stream",
          "text": [
            "Epoch 47, Batch 90, Loss: 0.05334609001874924\n"
          ]
        },
        {
          "name": "stderr",
          "output_type": "stream",
          "text": [
            "Epoch:  48%|████▊     | 48/100 [25:24<27:32, 31.78s/it]"
          ]
        },
        {
          "name": "stdout",
          "output_type": "stream",
          "text": [
            "Epoch 48, Batch 0, Loss: 0.03904075548052788\n"
          ]
        },
        {
          "name": "stderr",
          "output_type": "stream",
          "text": []
        },
        {
          "name": "stdout",
          "output_type": "stream",
          "text": [
            "Epoch 48, Batch 10, Loss: 0.037796154618263245\n"
          ]
        },
        {
          "name": "stderr",
          "output_type": "stream",
          "text": []
        },
        {
          "name": "stdout",
          "output_type": "stream",
          "text": [
            "Epoch 48, Batch 20, Loss: 0.03090851567685604\n"
          ]
        },
        {
          "name": "stderr",
          "output_type": "stream",
          "text": []
        },
        {
          "name": "stdout",
          "output_type": "stream",
          "text": [
            "Epoch 48, Batch 30, Loss: 0.026473455131053925\n"
          ]
        },
        {
          "name": "stderr",
          "output_type": "stream",
          "text": []
        },
        {
          "name": "stdout",
          "output_type": "stream",
          "text": [
            "Epoch 48, Batch 40, Loss: 0.037214286625385284\n"
          ]
        },
        {
          "name": "stderr",
          "output_type": "stream",
          "text": []
        },
        {
          "name": "stdout",
          "output_type": "stream",
          "text": [
            "Epoch 48, Batch 50, Loss: 0.043199844658374786\n"
          ]
        },
        {
          "name": "stderr",
          "output_type": "stream",
          "text": []
        },
        {
          "name": "stdout",
          "output_type": "stream",
          "text": [
            "Epoch 48, Batch 60, Loss: 0.03549010679125786\n"
          ]
        },
        {
          "name": "stderr",
          "output_type": "stream",
          "text": []
        },
        {
          "name": "stdout",
          "output_type": "stream",
          "text": [
            "Epoch 48, Batch 70, Loss: 0.05648975446820259\n"
          ]
        },
        {
          "name": "stderr",
          "output_type": "stream",
          "text": []
        },
        {
          "name": "stdout",
          "output_type": "stream",
          "text": [
            "Epoch 48, Batch 80, Loss: 0.04071149602532387\n"
          ]
        },
        {
          "name": "stderr",
          "output_type": "stream",
          "text": []
        },
        {
          "name": "stdout",
          "output_type": "stream",
          "text": [
            "Epoch 48, Batch 90, Loss: 0.032766956835985184\n"
          ]
        },
        {
          "name": "stderr",
          "output_type": "stream",
          "text": [
            "Epoch:  49%|████▉     | 49/100 [25:56<26:58, 31.74s/it]"
          ]
        },
        {
          "name": "stdout",
          "output_type": "stream",
          "text": [
            "Epoch 49, Batch 0, Loss: 0.04901941865682602\n"
          ]
        },
        {
          "name": "stderr",
          "output_type": "stream",
          "text": []
        },
        {
          "name": "stdout",
          "output_type": "stream",
          "text": [
            "Epoch 49, Batch 10, Loss: 0.03834553435444832\n"
          ]
        },
        {
          "name": "stderr",
          "output_type": "stream",
          "text": []
        },
        {
          "name": "stdout",
          "output_type": "stream",
          "text": [
            "Epoch 49, Batch 20, Loss: 0.03892950341105461\n"
          ]
        },
        {
          "name": "stderr",
          "output_type": "stream",
          "text": []
        },
        {
          "name": "stdout",
          "output_type": "stream",
          "text": [
            "Epoch 49, Batch 30, Loss: 0.03740430623292923\n"
          ]
        },
        {
          "name": "stderr",
          "output_type": "stream",
          "text": []
        },
        {
          "name": "stdout",
          "output_type": "stream",
          "text": [
            "Epoch 49, Batch 40, Loss: 0.03656252846121788\n"
          ]
        },
        {
          "name": "stderr",
          "output_type": "stream",
          "text": []
        },
        {
          "name": "stdout",
          "output_type": "stream",
          "text": [
            "Epoch 49, Batch 50, Loss: 0.03739872947335243\n"
          ]
        },
        {
          "name": "stderr",
          "output_type": "stream",
          "text": []
        },
        {
          "name": "stdout",
          "output_type": "stream",
          "text": [
            "Epoch 49, Batch 60, Loss: 0.03333720564842224\n"
          ]
        },
        {
          "name": "stderr",
          "output_type": "stream",
          "text": []
        },
        {
          "name": "stdout",
          "output_type": "stream",
          "text": [
            "Epoch 49, Batch 70, Loss: 0.05200624093413353\n"
          ]
        },
        {
          "name": "stderr",
          "output_type": "stream",
          "text": []
        },
        {
          "name": "stdout",
          "output_type": "stream",
          "text": [
            "Epoch 49, Batch 80, Loss: 0.02276599407196045\n"
          ]
        },
        {
          "name": "stderr",
          "output_type": "stream",
          "text": []
        },
        {
          "name": "stdout",
          "output_type": "stream",
          "text": [
            "Epoch 49, Batch 90, Loss: 0.04360572248697281\n"
          ]
        },
        {
          "name": "stderr",
          "output_type": "stream",
          "text": [
            "Epoch:  50%|█████     | 50/100 [26:27<26:25, 31.71s/it]"
          ]
        },
        {
          "name": "stdout",
          "output_type": "stream",
          "text": [
            "Epoch 50, Batch 0, Loss: 0.04012254625558853\n"
          ]
        },
        {
          "name": "stderr",
          "output_type": "stream",
          "text": []
        },
        {
          "name": "stdout",
          "output_type": "stream",
          "text": [
            "Epoch 50, Batch 10, Loss: 0.033020853996276855\n"
          ]
        },
        {
          "name": "stderr",
          "output_type": "stream",
          "text": []
        },
        {
          "name": "stdout",
          "output_type": "stream",
          "text": [
            "Epoch 50, Batch 20, Loss: 0.029576368629932404\n"
          ]
        },
        {
          "name": "stderr",
          "output_type": "stream",
          "text": []
        },
        {
          "name": "stdout",
          "output_type": "stream",
          "text": [
            "Epoch 50, Batch 30, Loss: 0.019999071955680847\n"
          ]
        },
        {
          "name": "stderr",
          "output_type": "stream",
          "text": []
        },
        {
          "name": "stdout",
          "output_type": "stream",
          "text": [
            "Epoch 50, Batch 40, Loss: 0.010731209069490433\n"
          ]
        },
        {
          "name": "stderr",
          "output_type": "stream",
          "text": []
        },
        {
          "name": "stdout",
          "output_type": "stream",
          "text": [
            "Epoch 50, Batch 50, Loss: 0.031711723655462265\n"
          ]
        },
        {
          "name": "stderr",
          "output_type": "stream",
          "text": []
        },
        {
          "name": "stdout",
          "output_type": "stream",
          "text": [
            "Epoch 50, Batch 60, Loss: 0.047296129167079926\n"
          ]
        },
        {
          "name": "stderr",
          "output_type": "stream",
          "text": []
        },
        {
          "name": "stdout",
          "output_type": "stream",
          "text": [
            "Epoch 50, Batch 70, Loss: 0.021782787516713142\n"
          ]
        },
        {
          "name": "stderr",
          "output_type": "stream",
          "text": []
        },
        {
          "name": "stdout",
          "output_type": "stream",
          "text": [
            "Epoch 50, Batch 80, Loss: 0.039419401437044144\n"
          ]
        },
        {
          "name": "stderr",
          "output_type": "stream",
          "text": []
        },
        {
          "name": "stdout",
          "output_type": "stream",
          "text": [
            "Epoch 50, Batch 90, Loss: 0.022944310680031776\n"
          ]
        },
        {
          "name": "stderr",
          "output_type": "stream",
          "text": [
            "Epoch:  51%|█████     | 51/100 [26:59<25:55, 31.74s/it]"
          ]
        },
        {
          "name": "stdout",
          "output_type": "stream",
          "text": [
            "Epoch 51, Batch 0, Loss: 0.014009171165525913\n"
          ]
        },
        {
          "name": "stderr",
          "output_type": "stream",
          "text": []
        },
        {
          "name": "stdout",
          "output_type": "stream",
          "text": [
            "Epoch 51, Batch 10, Loss: 0.04062747210264206\n"
          ]
        },
        {
          "name": "stderr",
          "output_type": "stream",
          "text": []
        },
        {
          "name": "stdout",
          "output_type": "stream",
          "text": [
            "Epoch 51, Batch 20, Loss: 0.029482532292604446\n"
          ]
        },
        {
          "name": "stderr",
          "output_type": "stream",
          "text": []
        },
        {
          "name": "stdout",
          "output_type": "stream",
          "text": [
            "Epoch 51, Batch 30, Loss: 0.03666293993592262\n"
          ]
        },
        {
          "name": "stderr",
          "output_type": "stream",
          "text": []
        },
        {
          "name": "stdout",
          "output_type": "stream",
          "text": [
            "Epoch 51, Batch 40, Loss: 0.027956033125519753\n"
          ]
        },
        {
          "name": "stderr",
          "output_type": "stream",
          "text": []
        },
        {
          "name": "stdout",
          "output_type": "stream",
          "text": [
            "Epoch 51, Batch 50, Loss: 0.04770239070057869\n"
          ]
        },
        {
          "name": "stderr",
          "output_type": "stream",
          "text": []
        },
        {
          "name": "stdout",
          "output_type": "stream",
          "text": [
            "Epoch 51, Batch 60, Loss: 0.035890378057956696\n"
          ]
        },
        {
          "name": "stderr",
          "output_type": "stream",
          "text": []
        },
        {
          "name": "stdout",
          "output_type": "stream",
          "text": [
            "Epoch 51, Batch 70, Loss: 0.03357192128896713\n"
          ]
        },
        {
          "name": "stderr",
          "output_type": "stream",
          "text": []
        },
        {
          "name": "stdout",
          "output_type": "stream",
          "text": [
            "Epoch 51, Batch 80, Loss: 0.03494755178689957\n"
          ]
        },
        {
          "name": "stderr",
          "output_type": "stream",
          "text": []
        },
        {
          "name": "stdout",
          "output_type": "stream",
          "text": [
            "Epoch 51, Batch 90, Loss: 0.04919365048408508\n"
          ]
        },
        {
          "name": "stderr",
          "output_type": "stream",
          "text": [
            "Epoch:  52%|█████▏    | 52/100 [27:31<25:22, 31.72s/it]"
          ]
        },
        {
          "name": "stdout",
          "output_type": "stream",
          "text": [
            "Epoch 52, Batch 0, Loss: 0.04313397407531738\n"
          ]
        },
        {
          "name": "stderr",
          "output_type": "stream",
          "text": []
        },
        {
          "name": "stdout",
          "output_type": "stream",
          "text": [
            "Epoch 52, Batch 10, Loss: 0.043367695063352585\n"
          ]
        },
        {
          "name": "stderr",
          "output_type": "stream",
          "text": []
        },
        {
          "name": "stdout",
          "output_type": "stream",
          "text": [
            "Epoch 52, Batch 20, Loss: 0.023089148104190826\n"
          ]
        },
        {
          "name": "stderr",
          "output_type": "stream",
          "text": []
        },
        {
          "name": "stdout",
          "output_type": "stream",
          "text": [
            "Epoch 52, Batch 30, Loss: 0.024899670854210854\n"
          ]
        },
        {
          "name": "stderr",
          "output_type": "stream",
          "text": []
        },
        {
          "name": "stdout",
          "output_type": "stream",
          "text": [
            "Epoch 52, Batch 40, Loss: 0.03796384856104851\n"
          ]
        },
        {
          "name": "stderr",
          "output_type": "stream",
          "text": []
        },
        {
          "name": "stdout",
          "output_type": "stream",
          "text": [
            "Epoch 52, Batch 50, Loss: 0.022096658125519753\n"
          ]
        },
        {
          "name": "stderr",
          "output_type": "stream",
          "text": []
        },
        {
          "name": "stdout",
          "output_type": "stream",
          "text": [
            "Epoch 52, Batch 60, Loss: 0.017786594107747078\n"
          ]
        },
        {
          "name": "stderr",
          "output_type": "stream",
          "text": []
        },
        {
          "name": "stdout",
          "output_type": "stream",
          "text": [
            "Epoch 52, Batch 70, Loss: 0.020270362496376038\n"
          ]
        },
        {
          "name": "stderr",
          "output_type": "stream",
          "text": []
        },
        {
          "name": "stdout",
          "output_type": "stream",
          "text": [
            "Epoch 52, Batch 80, Loss: 0.026149485260248184\n"
          ]
        },
        {
          "name": "stderr",
          "output_type": "stream",
          "text": []
        },
        {
          "name": "stdout",
          "output_type": "stream",
          "text": [
            "Epoch 52, Batch 90, Loss: 0.020791878923773766\n"
          ]
        },
        {
          "name": "stderr",
          "output_type": "stream",
          "text": [
            "Epoch:  53%|█████▎    | 53/100 [28:03<24:51, 31.74s/it]"
          ]
        },
        {
          "name": "stdout",
          "output_type": "stream",
          "text": [
            "Epoch 53, Batch 0, Loss: 0.031041881069540977\n"
          ]
        },
        {
          "name": "stderr",
          "output_type": "stream",
          "text": []
        },
        {
          "name": "stdout",
          "output_type": "stream",
          "text": [
            "Epoch 53, Batch 10, Loss: 0.062397126108407974\n"
          ]
        },
        {
          "name": "stderr",
          "output_type": "stream",
          "text": []
        },
        {
          "name": "stdout",
          "output_type": "stream",
          "text": [
            "Epoch 53, Batch 20, Loss: 0.04072309657931328\n"
          ]
        },
        {
          "name": "stderr",
          "output_type": "stream",
          "text": []
        },
        {
          "name": "stdout",
          "output_type": "stream",
          "text": [
            "Epoch 53, Batch 30, Loss: 0.034287769347429276\n"
          ]
        },
        {
          "name": "stderr",
          "output_type": "stream",
          "text": []
        },
        {
          "name": "stdout",
          "output_type": "stream",
          "text": [
            "Epoch 53, Batch 40, Loss: 0.04429177567362785\n"
          ]
        },
        {
          "name": "stderr",
          "output_type": "stream",
          "text": []
        },
        {
          "name": "stdout",
          "output_type": "stream",
          "text": [
            "Epoch 53, Batch 50, Loss: 0.029352473095059395\n"
          ]
        },
        {
          "name": "stderr",
          "output_type": "stream",
          "text": []
        },
        {
          "name": "stdout",
          "output_type": "stream",
          "text": [
            "Epoch 53, Batch 60, Loss: 0.028224626556038857\n"
          ]
        },
        {
          "name": "stderr",
          "output_type": "stream",
          "text": []
        },
        {
          "name": "stdout",
          "output_type": "stream",
          "text": [
            "Epoch 53, Batch 70, Loss: 0.02794588729739189\n"
          ]
        },
        {
          "name": "stderr",
          "output_type": "stream",
          "text": []
        },
        {
          "name": "stdout",
          "output_type": "stream",
          "text": [
            "Epoch 53, Batch 80, Loss: 0.027945099398493767\n"
          ]
        },
        {
          "name": "stderr",
          "output_type": "stream",
          "text": []
        },
        {
          "name": "stdout",
          "output_type": "stream",
          "text": [
            "Epoch 53, Batch 90, Loss: 0.019563229754567146\n"
          ]
        },
        {
          "name": "stderr",
          "output_type": "stream",
          "text": [
            "Epoch:  54%|█████▍    | 54/100 [28:35<24:20, 31.74s/it]"
          ]
        },
        {
          "name": "stdout",
          "output_type": "stream",
          "text": [
            "Epoch 54, Batch 0, Loss: 0.02316942997276783\n"
          ]
        },
        {
          "name": "stderr",
          "output_type": "stream",
          "text": []
        },
        {
          "name": "stdout",
          "output_type": "stream",
          "text": [
            "Epoch 54, Batch 10, Loss: 0.034254785627126694\n"
          ]
        },
        {
          "name": "stderr",
          "output_type": "stream",
          "text": []
        },
        {
          "name": "stdout",
          "output_type": "stream",
          "text": [
            "Epoch 54, Batch 20, Loss: 0.03255289047956467\n"
          ]
        },
        {
          "name": "stderr",
          "output_type": "stream",
          "text": []
        },
        {
          "name": "stdout",
          "output_type": "stream",
          "text": [
            "Epoch 54, Batch 30, Loss: 0.04197417572140694\n"
          ]
        },
        {
          "name": "stderr",
          "output_type": "stream",
          "text": []
        },
        {
          "name": "stdout",
          "output_type": "stream",
          "text": [
            "Epoch 54, Batch 40, Loss: 0.041178807616233826\n"
          ]
        },
        {
          "name": "stderr",
          "output_type": "stream",
          "text": []
        },
        {
          "name": "stdout",
          "output_type": "stream",
          "text": [
            "Epoch 54, Batch 50, Loss: 0.02622876688838005\n"
          ]
        },
        {
          "name": "stderr",
          "output_type": "stream",
          "text": []
        },
        {
          "name": "stdout",
          "output_type": "stream",
          "text": [
            "Epoch 54, Batch 60, Loss: 0.0431692898273468\n"
          ]
        },
        {
          "name": "stderr",
          "output_type": "stream",
          "text": []
        },
        {
          "name": "stdout",
          "output_type": "stream",
          "text": [
            "Epoch 54, Batch 70, Loss: 0.030642399564385414\n"
          ]
        },
        {
          "name": "stderr",
          "output_type": "stream",
          "text": []
        },
        {
          "name": "stdout",
          "output_type": "stream",
          "text": [
            "Epoch 54, Batch 80, Loss: 0.02568206936120987\n"
          ]
        },
        {
          "name": "stderr",
          "output_type": "stream",
          "text": []
        },
        {
          "name": "stdout",
          "output_type": "stream",
          "text": [
            "Epoch 54, Batch 90, Loss: 0.03257337585091591\n"
          ]
        },
        {
          "name": "stderr",
          "output_type": "stream",
          "text": [
            "Epoch:  55%|█████▌    | 55/100 [29:06<23:48, 31.74s/it]"
          ]
        },
        {
          "name": "stdout",
          "output_type": "stream",
          "text": [
            "Epoch 55, Batch 0, Loss: 0.018118280917406082\n"
          ]
        },
        {
          "name": "stderr",
          "output_type": "stream",
          "text": []
        },
        {
          "name": "stdout",
          "output_type": "stream",
          "text": [
            "Epoch 55, Batch 10, Loss: 0.019270144402980804\n"
          ]
        },
        {
          "name": "stderr",
          "output_type": "stream",
          "text": []
        },
        {
          "name": "stdout",
          "output_type": "stream",
          "text": [
            "Epoch 55, Batch 20, Loss: 0.03713497519493103\n"
          ]
        },
        {
          "name": "stderr",
          "output_type": "stream",
          "text": []
        },
        {
          "name": "stdout",
          "output_type": "stream",
          "text": [
            "Epoch 55, Batch 30, Loss: 0.02864423580467701\n"
          ]
        },
        {
          "name": "stderr",
          "output_type": "stream",
          "text": []
        },
        {
          "name": "stdout",
          "output_type": "stream",
          "text": [
            "Epoch 55, Batch 40, Loss: 0.03721364587545395\n"
          ]
        },
        {
          "name": "stderr",
          "output_type": "stream",
          "text": []
        },
        {
          "name": "stdout",
          "output_type": "stream",
          "text": [
            "Epoch 55, Batch 50, Loss: 0.02097330614924431\n"
          ]
        },
        {
          "name": "stderr",
          "output_type": "stream",
          "text": []
        },
        {
          "name": "stdout",
          "output_type": "stream",
          "text": [
            "Epoch 55, Batch 60, Loss: 0.03514274209737778\n"
          ]
        },
        {
          "name": "stderr",
          "output_type": "stream",
          "text": []
        },
        {
          "name": "stdout",
          "output_type": "stream",
          "text": [
            "Epoch 55, Batch 70, Loss: 0.036320582032203674\n"
          ]
        },
        {
          "name": "stderr",
          "output_type": "stream",
          "text": []
        },
        {
          "name": "stdout",
          "output_type": "stream",
          "text": [
            "Epoch 55, Batch 80, Loss: 0.026257218793034554\n"
          ]
        },
        {
          "name": "stderr",
          "output_type": "stream",
          "text": []
        },
        {
          "name": "stdout",
          "output_type": "stream",
          "text": [
            "Epoch 55, Batch 90, Loss: 0.03280285373330116\n"
          ]
        },
        {
          "name": "stderr",
          "output_type": "stream",
          "text": [
            "Epoch:  56%|█████▌    | 56/100 [29:38<23:15, 31.71s/it]"
          ]
        },
        {
          "name": "stdout",
          "output_type": "stream",
          "text": [
            "Epoch 56, Batch 0, Loss: 0.02551681362092495\n"
          ]
        },
        {
          "name": "stderr",
          "output_type": "stream",
          "text": []
        },
        {
          "name": "stdout",
          "output_type": "stream",
          "text": [
            "Epoch 56, Batch 10, Loss: 0.04943891242146492\n"
          ]
        },
        {
          "name": "stderr",
          "output_type": "stream",
          "text": []
        },
        {
          "name": "stdout",
          "output_type": "stream",
          "text": [
            "Epoch 56, Batch 20, Loss: 0.03491489216685295\n"
          ]
        },
        {
          "name": "stderr",
          "output_type": "stream",
          "text": []
        },
        {
          "name": "stdout",
          "output_type": "stream",
          "text": [
            "Epoch 56, Batch 30, Loss: 0.020574569702148438\n"
          ]
        },
        {
          "name": "stderr",
          "output_type": "stream",
          "text": []
        },
        {
          "name": "stdout",
          "output_type": "stream",
          "text": [
            "Epoch 56, Batch 40, Loss: 0.014209755696356297\n"
          ]
        },
        {
          "name": "stderr",
          "output_type": "stream",
          "text": []
        },
        {
          "name": "stdout",
          "output_type": "stream",
          "text": [
            "Epoch 56, Batch 50, Loss: 0.02767040766775608\n"
          ]
        },
        {
          "name": "stderr",
          "output_type": "stream",
          "text": []
        },
        {
          "name": "stdout",
          "output_type": "stream",
          "text": [
            "Epoch 56, Batch 60, Loss: 0.04063166677951813\n"
          ]
        },
        {
          "name": "stderr",
          "output_type": "stream",
          "text": []
        },
        {
          "name": "stdout",
          "output_type": "stream",
          "text": [
            "Epoch 56, Batch 70, Loss: 0.023203624412417412\n"
          ]
        },
        {
          "name": "stderr",
          "output_type": "stream",
          "text": []
        },
        {
          "name": "stdout",
          "output_type": "stream",
          "text": [
            "Epoch 56, Batch 80, Loss: 0.033428795635700226\n"
          ]
        },
        {
          "name": "stderr",
          "output_type": "stream",
          "text": []
        },
        {
          "name": "stdout",
          "output_type": "stream",
          "text": [
            "Epoch 56, Batch 90, Loss: 0.021487146615982056\n"
          ]
        },
        {
          "name": "stderr",
          "output_type": "stream",
          "text": [
            "Epoch:  57%|█████▋    | 57/100 [30:10<22:47, 31.79s/it]"
          ]
        },
        {
          "name": "stdout",
          "output_type": "stream",
          "text": [
            "Epoch 57, Batch 0, Loss: 0.027930665761232376\n"
          ]
        },
        {
          "name": "stderr",
          "output_type": "stream",
          "text": []
        },
        {
          "name": "stdout",
          "output_type": "stream",
          "text": [
            "Epoch 57, Batch 10, Loss: 0.03503219410777092\n"
          ]
        },
        {
          "name": "stderr",
          "output_type": "stream",
          "text": []
        },
        {
          "name": "stdout",
          "output_type": "stream",
          "text": [
            "Epoch 57, Batch 20, Loss: 0.026699058711528778\n"
          ]
        },
        {
          "name": "stderr",
          "output_type": "stream",
          "text": []
        },
        {
          "name": "stdout",
          "output_type": "stream",
          "text": [
            "Epoch 57, Batch 30, Loss: 0.0378364659845829\n"
          ]
        },
        {
          "name": "stderr",
          "output_type": "stream",
          "text": []
        },
        {
          "name": "stdout",
          "output_type": "stream",
          "text": [
            "Epoch 57, Batch 40, Loss: 0.03678975626826286\n"
          ]
        },
        {
          "name": "stderr",
          "output_type": "stream",
          "text": []
        },
        {
          "name": "stdout",
          "output_type": "stream",
          "text": [
            "Epoch 57, Batch 50, Loss: 0.034091077744960785\n"
          ]
        },
        {
          "name": "stderr",
          "output_type": "stream",
          "text": []
        },
        {
          "name": "stdout",
          "output_type": "stream",
          "text": [
            "Epoch 57, Batch 60, Loss: 0.031342215836048126\n"
          ]
        },
        {
          "name": "stderr",
          "output_type": "stream",
          "text": []
        },
        {
          "name": "stdout",
          "output_type": "stream",
          "text": [
            "Epoch 57, Batch 70, Loss: 0.022445157170295715\n"
          ]
        },
        {
          "name": "stderr",
          "output_type": "stream",
          "text": []
        },
        {
          "name": "stdout",
          "output_type": "stream",
          "text": [
            "Epoch 57, Batch 80, Loss: 0.017638282850384712\n"
          ]
        },
        {
          "name": "stderr",
          "output_type": "stream",
          "text": []
        },
        {
          "name": "stdout",
          "output_type": "stream",
          "text": [
            "Epoch 57, Batch 90, Loss: 0.022038890048861504\n"
          ]
        },
        {
          "name": "stderr",
          "output_type": "stream",
          "text": [
            "Epoch:  58%|█████▊    | 58/100 [30:42<22:13, 31.75s/it]"
          ]
        },
        {
          "name": "stdout",
          "output_type": "stream",
          "text": [
            "Epoch 58, Batch 0, Loss: 0.04022441804409027\n"
          ]
        },
        {
          "name": "stderr",
          "output_type": "stream",
          "text": []
        },
        {
          "name": "stdout",
          "output_type": "stream",
          "text": [
            "Epoch 58, Batch 10, Loss: 0.02053273655474186\n"
          ]
        },
        {
          "name": "stderr",
          "output_type": "stream",
          "text": []
        },
        {
          "name": "stdout",
          "output_type": "stream",
          "text": [
            "Epoch 58, Batch 20, Loss: 0.016694311052560806\n"
          ]
        },
        {
          "name": "stderr",
          "output_type": "stream",
          "text": []
        },
        {
          "name": "stdout",
          "output_type": "stream",
          "text": [
            "Epoch 58, Batch 30, Loss: 0.015047136694192886\n"
          ]
        },
        {
          "name": "stderr",
          "output_type": "stream",
          "text": []
        },
        {
          "name": "stdout",
          "output_type": "stream",
          "text": [
            "Epoch 58, Batch 40, Loss: 0.019577056169509888\n"
          ]
        },
        {
          "name": "stderr",
          "output_type": "stream",
          "text": []
        },
        {
          "name": "stdout",
          "output_type": "stream",
          "text": [
            "Epoch 58, Batch 50, Loss: 0.051992468535900116\n"
          ]
        },
        {
          "name": "stderr",
          "output_type": "stream",
          "text": []
        },
        {
          "name": "stdout",
          "output_type": "stream",
          "text": [
            "Epoch 58, Batch 60, Loss: 0.025764402002096176\n"
          ]
        },
        {
          "name": "stderr",
          "output_type": "stream",
          "text": []
        },
        {
          "name": "stdout",
          "output_type": "stream",
          "text": [
            "Epoch 58, Batch 70, Loss: 0.030162163078784943\n"
          ]
        },
        {
          "name": "stderr",
          "output_type": "stream",
          "text": []
        },
        {
          "name": "stdout",
          "output_type": "stream",
          "text": [
            "Epoch 58, Batch 80, Loss: 0.024228306487202644\n"
          ]
        },
        {
          "name": "stderr",
          "output_type": "stream",
          "text": []
        },
        {
          "name": "stdout",
          "output_type": "stream",
          "text": [
            "Epoch 58, Batch 90, Loss: 0.027932999655604362\n"
          ]
        },
        {
          "name": "stderr",
          "output_type": "stream",
          "text": [
            "Epoch:  59%|█████▉    | 59/100 [31:13<21:40, 31.73s/it]"
          ]
        },
        {
          "name": "stdout",
          "output_type": "stream",
          "text": [
            "Epoch 59, Batch 0, Loss: 0.028637737035751343\n"
          ]
        },
        {
          "name": "stderr",
          "output_type": "stream",
          "text": []
        },
        {
          "name": "stdout",
          "output_type": "stream",
          "text": [
            "Epoch 59, Batch 10, Loss: 0.03589056432247162\n"
          ]
        },
        {
          "name": "stderr",
          "output_type": "stream",
          "text": []
        },
        {
          "name": "stdout",
          "output_type": "stream",
          "text": [
            "Epoch 59, Batch 20, Loss: 0.014321699738502502\n"
          ]
        },
        {
          "name": "stderr",
          "output_type": "stream",
          "text": []
        },
        {
          "name": "stdout",
          "output_type": "stream",
          "text": [
            "Epoch 59, Batch 30, Loss: 0.026979461312294006\n"
          ]
        },
        {
          "name": "stderr",
          "output_type": "stream",
          "text": []
        },
        {
          "name": "stdout",
          "output_type": "stream",
          "text": [
            "Epoch 59, Batch 40, Loss: 0.03378481790423393\n"
          ]
        },
        {
          "name": "stderr",
          "output_type": "stream",
          "text": []
        },
        {
          "name": "stdout",
          "output_type": "stream",
          "text": [
            "Epoch 59, Batch 50, Loss: 0.031452812254428864\n"
          ]
        },
        {
          "name": "stderr",
          "output_type": "stream",
          "text": []
        },
        {
          "name": "stdout",
          "output_type": "stream",
          "text": [
            "Epoch 59, Batch 60, Loss: 0.03514912351965904\n"
          ]
        },
        {
          "name": "stderr",
          "output_type": "stream",
          "text": []
        },
        {
          "name": "stdout",
          "output_type": "stream",
          "text": [
            "Epoch 59, Batch 70, Loss: 0.021287450566887856\n"
          ]
        },
        {
          "name": "stderr",
          "output_type": "stream",
          "text": []
        },
        {
          "name": "stdout",
          "output_type": "stream",
          "text": [
            "Epoch 59, Batch 80, Loss: 0.046266067773103714\n"
          ]
        },
        {
          "name": "stderr",
          "output_type": "stream",
          "text": []
        },
        {
          "name": "stdout",
          "output_type": "stream",
          "text": [
            "Epoch 59, Batch 90, Loss: 0.04731845110654831\n"
          ]
        },
        {
          "name": "stderr",
          "output_type": "stream",
          "text": [
            "Epoch:  60%|██████    | 60/100 [31:45<21:06, 31.65s/it]"
          ]
        },
        {
          "name": "stdout",
          "output_type": "stream",
          "text": [
            "Epoch 60, Batch 0, Loss: 0.03197160363197327\n"
          ]
        },
        {
          "name": "stderr",
          "output_type": "stream",
          "text": []
        },
        {
          "name": "stdout",
          "output_type": "stream",
          "text": [
            "Epoch 60, Batch 10, Loss: 0.041549794375896454\n"
          ]
        },
        {
          "name": "stderr",
          "output_type": "stream",
          "text": []
        },
        {
          "name": "stdout",
          "output_type": "stream",
          "text": [
            "Epoch 60, Batch 20, Loss: 0.041447438299655914\n"
          ]
        },
        {
          "name": "stderr",
          "output_type": "stream",
          "text": []
        },
        {
          "name": "stdout",
          "output_type": "stream",
          "text": [
            "Epoch 60, Batch 30, Loss: 0.043044015765190125\n"
          ]
        },
        {
          "name": "stderr",
          "output_type": "stream",
          "text": []
        },
        {
          "name": "stdout",
          "output_type": "stream",
          "text": [
            "Epoch 60, Batch 40, Loss: 0.051960814744234085\n"
          ]
        },
        {
          "name": "stderr",
          "output_type": "stream",
          "text": []
        },
        {
          "name": "stdout",
          "output_type": "stream",
          "text": [
            "Epoch 60, Batch 50, Loss: 0.03125961869955063\n"
          ]
        },
        {
          "name": "stderr",
          "output_type": "stream",
          "text": []
        },
        {
          "name": "stdout",
          "output_type": "stream",
          "text": [
            "Epoch 60, Batch 60, Loss: 0.030454250052571297\n"
          ]
        },
        {
          "name": "stderr",
          "output_type": "stream",
          "text": []
        },
        {
          "name": "stdout",
          "output_type": "stream",
          "text": [
            "Epoch 60, Batch 70, Loss: 0.045959848910570145\n"
          ]
        },
        {
          "name": "stderr",
          "output_type": "stream",
          "text": []
        },
        {
          "name": "stdout",
          "output_type": "stream",
          "text": [
            "Epoch 60, Batch 80, Loss: 0.046630166471004486\n"
          ]
        },
        {
          "name": "stderr",
          "output_type": "stream",
          "text": []
        },
        {
          "name": "stdout",
          "output_type": "stream",
          "text": [
            "Epoch 60, Batch 90, Loss: 0.06194256246089935\n"
          ]
        },
        {
          "name": "stderr",
          "output_type": "stream",
          "text": [
            "Epoch:  61%|██████    | 61/100 [32:16<20:33, 31.63s/it]"
          ]
        },
        {
          "name": "stdout",
          "output_type": "stream",
          "text": [
            "Epoch 61, Batch 0, Loss: 0.10338909924030304\n"
          ]
        },
        {
          "name": "stderr",
          "output_type": "stream",
          "text": []
        },
        {
          "name": "stdout",
          "output_type": "stream",
          "text": [
            "Epoch 61, Batch 10, Loss: 0.0782690942287445\n"
          ]
        },
        {
          "name": "stderr",
          "output_type": "stream",
          "text": []
        },
        {
          "name": "stdout",
          "output_type": "stream",
          "text": [
            "Epoch 61, Batch 20, Loss: 0.09788849204778671\n"
          ]
        },
        {
          "name": "stderr",
          "output_type": "stream",
          "text": []
        },
        {
          "name": "stdout",
          "output_type": "stream",
          "text": [
            "Epoch 61, Batch 30, Loss: 0.0462954118847847\n"
          ]
        },
        {
          "name": "stderr",
          "output_type": "stream",
          "text": []
        },
        {
          "name": "stdout",
          "output_type": "stream",
          "text": [
            "Epoch 61, Batch 40, Loss: 0.07253822684288025\n"
          ]
        },
        {
          "name": "stderr",
          "output_type": "stream",
          "text": []
        },
        {
          "name": "stdout",
          "output_type": "stream",
          "text": [
            "Epoch 61, Batch 50, Loss: 0.0754106342792511\n"
          ]
        },
        {
          "name": "stderr",
          "output_type": "stream",
          "text": []
        },
        {
          "name": "stdout",
          "output_type": "stream",
          "text": [
            "Epoch 61, Batch 60, Loss: 0.05618438497185707\n"
          ]
        },
        {
          "name": "stderr",
          "output_type": "stream",
          "text": []
        },
        {
          "name": "stdout",
          "output_type": "stream",
          "text": [
            "Epoch 61, Batch 70, Loss: 0.060542602092027664\n"
          ]
        },
        {
          "name": "stderr",
          "output_type": "stream",
          "text": []
        },
        {
          "name": "stdout",
          "output_type": "stream",
          "text": [
            "Epoch 61, Batch 80, Loss: 0.0752580538392067\n"
          ]
        },
        {
          "name": "stderr",
          "output_type": "stream",
          "text": []
        },
        {
          "name": "stdout",
          "output_type": "stream",
          "text": [
            "Epoch 61, Batch 90, Loss: 0.054635100066661835\n"
          ]
        },
        {
          "name": "stderr",
          "output_type": "stream",
          "text": [
            "Epoch:  62%|██████▏   | 62/100 [32:48<20:02, 31.64s/it]"
          ]
        },
        {
          "name": "stdout",
          "output_type": "stream",
          "text": [
            "Epoch 62, Batch 0, Loss: 0.07605376094579697\n"
          ]
        },
        {
          "name": "stderr",
          "output_type": "stream",
          "text": []
        },
        {
          "name": "stdout",
          "output_type": "stream",
          "text": [
            "Epoch 62, Batch 10, Loss: 0.0671108067035675\n"
          ]
        },
        {
          "name": "stderr",
          "output_type": "stream",
          "text": []
        },
        {
          "name": "stdout",
          "output_type": "stream",
          "text": [
            "Epoch 62, Batch 20, Loss: 0.06595602631568909\n"
          ]
        },
        {
          "name": "stderr",
          "output_type": "stream",
          "text": []
        },
        {
          "name": "stdout",
          "output_type": "stream",
          "text": [
            "Epoch 62, Batch 30, Loss: 0.08168062567710876\n"
          ]
        },
        {
          "name": "stderr",
          "output_type": "stream",
          "text": []
        },
        {
          "name": "stdout",
          "output_type": "stream",
          "text": [
            "Epoch 62, Batch 40, Loss: 0.05591997504234314\n"
          ]
        },
        {
          "name": "stderr",
          "output_type": "stream",
          "text": []
        },
        {
          "name": "stdout",
          "output_type": "stream",
          "text": [
            "Epoch 62, Batch 50, Loss: 0.07800890505313873\n"
          ]
        },
        {
          "name": "stderr",
          "output_type": "stream",
          "text": []
        },
        {
          "name": "stdout",
          "output_type": "stream",
          "text": [
            "Epoch 62, Batch 60, Loss: 0.074987031519413\n"
          ]
        },
        {
          "name": "stderr",
          "output_type": "stream",
          "text": []
        },
        {
          "name": "stdout",
          "output_type": "stream",
          "text": [
            "Epoch 62, Batch 70, Loss: 0.08481011539697647\n"
          ]
        },
        {
          "name": "stderr",
          "output_type": "stream",
          "text": []
        },
        {
          "name": "stdout",
          "output_type": "stream",
          "text": [
            "Epoch 62, Batch 80, Loss: 0.06790643185377121\n"
          ]
        },
        {
          "name": "stderr",
          "output_type": "stream",
          "text": []
        },
        {
          "name": "stdout",
          "output_type": "stream",
          "text": [
            "Epoch 62, Batch 90, Loss: 0.05564321577548981\n"
          ]
        },
        {
          "name": "stderr",
          "output_type": "stream",
          "text": [
            "Epoch:  63%|██████▎   | 63/100 [33:19<19:29, 31.60s/it]"
          ]
        },
        {
          "name": "stdout",
          "output_type": "stream",
          "text": [
            "Epoch 63, Batch 0, Loss: 0.06113773211836815\n"
          ]
        },
        {
          "name": "stderr",
          "output_type": "stream",
          "text": []
        },
        {
          "name": "stdout",
          "output_type": "stream",
          "text": [
            "Epoch 63, Batch 10, Loss: 0.05445011332631111\n"
          ]
        },
        {
          "name": "stderr",
          "output_type": "stream",
          "text": []
        },
        {
          "name": "stdout",
          "output_type": "stream",
          "text": [
            "Epoch 63, Batch 20, Loss: 0.07007608562707901\n"
          ]
        },
        {
          "name": "stderr",
          "output_type": "stream",
          "text": []
        },
        {
          "name": "stdout",
          "output_type": "stream",
          "text": [
            "Epoch 63, Batch 30, Loss: 0.06520332396030426\n"
          ]
        },
        {
          "name": "stderr",
          "output_type": "stream",
          "text": []
        },
        {
          "name": "stdout",
          "output_type": "stream",
          "text": [
            "Epoch 63, Batch 40, Loss: 0.10684303939342499\n"
          ]
        },
        {
          "name": "stderr",
          "output_type": "stream",
          "text": []
        },
        {
          "name": "stdout",
          "output_type": "stream",
          "text": [
            "Epoch 63, Batch 50, Loss: 0.0539180263876915\n"
          ]
        },
        {
          "name": "stderr",
          "output_type": "stream",
          "text": []
        },
        {
          "name": "stdout",
          "output_type": "stream",
          "text": [
            "Epoch 63, Batch 60, Loss: 0.06028998643159866\n"
          ]
        },
        {
          "name": "stderr",
          "output_type": "stream",
          "text": []
        },
        {
          "name": "stdout",
          "output_type": "stream",
          "text": [
            "Epoch 63, Batch 70, Loss: 0.055061206221580505\n"
          ]
        },
        {
          "name": "stderr",
          "output_type": "stream",
          "text": []
        },
        {
          "name": "stdout",
          "output_type": "stream",
          "text": [
            "Epoch 63, Batch 80, Loss: 0.06570129841566086\n"
          ]
        },
        {
          "name": "stderr",
          "output_type": "stream",
          "text": []
        },
        {
          "name": "stdout",
          "output_type": "stream",
          "text": [
            "Epoch 63, Batch 90, Loss: 0.061037544161081314\n"
          ]
        },
        {
          "name": "stderr",
          "output_type": "stream",
          "text": [
            "Epoch:  64%|██████▍   | 64/100 [33:51<18:57, 31.59s/it]"
          ]
        },
        {
          "name": "stdout",
          "output_type": "stream",
          "text": [
            "Epoch 64, Batch 0, Loss: 0.07470227777957916\n"
          ]
        },
        {
          "name": "stderr",
          "output_type": "stream",
          "text": []
        },
        {
          "name": "stdout",
          "output_type": "stream",
          "text": [
            "Epoch 64, Batch 10, Loss: 0.04895596578717232\n"
          ]
        },
        {
          "name": "stderr",
          "output_type": "stream",
          "text": []
        },
        {
          "name": "stdout",
          "output_type": "stream",
          "text": [
            "Epoch 64, Batch 20, Loss: 0.07744082063436508\n"
          ]
        },
        {
          "name": "stderr",
          "output_type": "stream",
          "text": []
        },
        {
          "name": "stdout",
          "output_type": "stream",
          "text": [
            "Epoch 64, Batch 30, Loss: 0.08162041008472443\n"
          ]
        },
        {
          "name": "stderr",
          "output_type": "stream",
          "text": []
        },
        {
          "name": "stdout",
          "output_type": "stream",
          "text": [
            "Epoch 64, Batch 40, Loss: 0.03955091908574104\n"
          ]
        },
        {
          "name": "stderr",
          "output_type": "stream",
          "text": []
        },
        {
          "name": "stdout",
          "output_type": "stream",
          "text": [
            "Epoch 64, Batch 50, Loss: 0.03920969367027283\n"
          ]
        },
        {
          "name": "stderr",
          "output_type": "stream",
          "text": []
        },
        {
          "name": "stdout",
          "output_type": "stream",
          "text": [
            "Epoch 64, Batch 60, Loss: 0.07329770177602768\n"
          ]
        },
        {
          "name": "stderr",
          "output_type": "stream",
          "text": []
        },
        {
          "name": "stdout",
          "output_type": "stream",
          "text": [
            "Epoch 64, Batch 70, Loss: 0.08501055836677551\n"
          ]
        },
        {
          "name": "stderr",
          "output_type": "stream",
          "text": []
        },
        {
          "name": "stdout",
          "output_type": "stream",
          "text": [
            "Epoch 64, Batch 80, Loss: 0.06425658613443375\n"
          ]
        },
        {
          "name": "stderr",
          "output_type": "stream",
          "text": []
        },
        {
          "name": "stdout",
          "output_type": "stream",
          "text": [
            "Epoch 64, Batch 90, Loss: 0.060678016394376755\n"
          ]
        },
        {
          "name": "stderr",
          "output_type": "stream",
          "text": [
            "Epoch:  65%|██████▌   | 65/100 [34:23<18:26, 31.60s/it]"
          ]
        },
        {
          "name": "stdout",
          "output_type": "stream",
          "text": [
            "Epoch 65, Batch 0, Loss: 0.060058582574129105\n"
          ]
        },
        {
          "name": "stderr",
          "output_type": "stream",
          "text": []
        },
        {
          "name": "stdout",
          "output_type": "stream",
          "text": [
            "Epoch 65, Batch 10, Loss: 0.041912443935871124\n"
          ]
        },
        {
          "name": "stderr",
          "output_type": "stream",
          "text": []
        },
        {
          "name": "stdout",
          "output_type": "stream",
          "text": [
            "Epoch 65, Batch 20, Loss: 0.08344577252864838\n"
          ]
        },
        {
          "name": "stderr",
          "output_type": "stream",
          "text": []
        },
        {
          "name": "stdout",
          "output_type": "stream",
          "text": [
            "Epoch 65, Batch 30, Loss: 0.059047017246484756\n"
          ]
        },
        {
          "name": "stderr",
          "output_type": "stream",
          "text": []
        },
        {
          "name": "stdout",
          "output_type": "stream",
          "text": [
            "Epoch 65, Batch 40, Loss: 0.015036888420581818\n"
          ]
        },
        {
          "name": "stderr",
          "output_type": "stream",
          "text": []
        },
        {
          "name": "stdout",
          "output_type": "stream",
          "text": [
            "Epoch 65, Batch 50, Loss: 0.013424184173345566\n"
          ]
        },
        {
          "name": "stderr",
          "output_type": "stream",
          "text": []
        },
        {
          "name": "stdout",
          "output_type": "stream",
          "text": [
            "Epoch 65, Batch 60, Loss: 0.01776011846959591\n"
          ]
        },
        {
          "name": "stderr",
          "output_type": "stream",
          "text": []
        },
        {
          "name": "stdout",
          "output_type": "stream",
          "text": [
            "Epoch 65, Batch 70, Loss: 0.016725318506360054\n"
          ]
        },
        {
          "name": "stderr",
          "output_type": "stream",
          "text": []
        },
        {
          "name": "stdout",
          "output_type": "stream",
          "text": [
            "Epoch 65, Batch 80, Loss: 0.025776587426662445\n"
          ]
        },
        {
          "name": "stderr",
          "output_type": "stream",
          "text": []
        },
        {
          "name": "stdout",
          "output_type": "stream",
          "text": [
            "Epoch 65, Batch 90, Loss: 0.019604751840233803\n"
          ]
        },
        {
          "name": "stderr",
          "output_type": "stream",
          "text": [
            "Epoch:  66%|██████▌   | 66/100 [34:54<17:54, 31.60s/it]"
          ]
        },
        {
          "name": "stdout",
          "output_type": "stream",
          "text": [
            "Epoch 66, Batch 0, Loss: 0.022882742807269096\n"
          ]
        },
        {
          "name": "stderr",
          "output_type": "stream",
          "text": []
        },
        {
          "name": "stdout",
          "output_type": "stream",
          "text": [
            "Epoch 66, Batch 10, Loss: 0.02621527947485447\n"
          ]
        },
        {
          "name": "stderr",
          "output_type": "stream",
          "text": []
        },
        {
          "name": "stdout",
          "output_type": "stream",
          "text": [
            "Epoch 66, Batch 20, Loss: 0.029387440532445908\n"
          ]
        },
        {
          "name": "stderr",
          "output_type": "stream",
          "text": []
        },
        {
          "name": "stdout",
          "output_type": "stream",
          "text": [
            "Epoch 66, Batch 30, Loss: 0.024519508704543114\n"
          ]
        },
        {
          "name": "stderr",
          "output_type": "stream",
          "text": []
        },
        {
          "name": "stdout",
          "output_type": "stream",
          "text": [
            "Epoch 66, Batch 40, Loss: 0.023042907938361168\n"
          ]
        },
        {
          "name": "stderr",
          "output_type": "stream",
          "text": []
        },
        {
          "name": "stdout",
          "output_type": "stream",
          "text": [
            "Epoch 66, Batch 50, Loss: 0.021360013633966446\n"
          ]
        },
        {
          "name": "stderr",
          "output_type": "stream",
          "text": []
        },
        {
          "name": "stdout",
          "output_type": "stream",
          "text": [
            "Epoch 66, Batch 60, Loss: 0.020419592037796974\n"
          ]
        },
        {
          "name": "stderr",
          "output_type": "stream",
          "text": []
        },
        {
          "name": "stdout",
          "output_type": "stream",
          "text": [
            "Epoch 66, Batch 70, Loss: 0.028725994750857353\n"
          ]
        },
        {
          "name": "stderr",
          "output_type": "stream",
          "text": []
        },
        {
          "name": "stdout",
          "output_type": "stream",
          "text": [
            "Epoch 66, Batch 80, Loss: 0.026742208749055862\n"
          ]
        },
        {
          "name": "stderr",
          "output_type": "stream",
          "text": []
        },
        {
          "name": "stdout",
          "output_type": "stream",
          "text": [
            "Epoch 66, Batch 90, Loss: 0.02774941921234131\n"
          ]
        },
        {
          "name": "stderr",
          "output_type": "stream",
          "text": [
            "Epoch:  67%|██████▋   | 67/100 [35:26<17:23, 31.61s/it]"
          ]
        },
        {
          "name": "stdout",
          "output_type": "stream",
          "text": [
            "Epoch 67, Batch 0, Loss: 0.02213282696902752\n"
          ]
        },
        {
          "name": "stderr",
          "output_type": "stream",
          "text": []
        },
        {
          "name": "stdout",
          "output_type": "stream",
          "text": [
            "Epoch 67, Batch 10, Loss: 0.04088105633854866\n"
          ]
        },
        {
          "name": "stderr",
          "output_type": "stream",
          "text": []
        },
        {
          "name": "stdout",
          "output_type": "stream",
          "text": [
            "Epoch 67, Batch 20, Loss: 0.04540512338280678\n"
          ]
        },
        {
          "name": "stderr",
          "output_type": "stream",
          "text": []
        },
        {
          "name": "stdout",
          "output_type": "stream",
          "text": [
            "Epoch 67, Batch 30, Loss: 0.05836428329348564\n"
          ]
        },
        {
          "name": "stderr",
          "output_type": "stream",
          "text": []
        },
        {
          "name": "stdout",
          "output_type": "stream",
          "text": [
            "Epoch 67, Batch 40, Loss: 0.05416211113333702\n"
          ]
        },
        {
          "name": "stderr",
          "output_type": "stream",
          "text": []
        },
        {
          "name": "stdout",
          "output_type": "stream",
          "text": [
            "Epoch 67, Batch 50, Loss: 0.056858714669942856\n"
          ]
        },
        {
          "name": "stderr",
          "output_type": "stream",
          "text": []
        },
        {
          "name": "stdout",
          "output_type": "stream",
          "text": [
            "Epoch 67, Batch 60, Loss: 0.031190527603030205\n"
          ]
        },
        {
          "name": "stderr",
          "output_type": "stream",
          "text": []
        },
        {
          "name": "stdout",
          "output_type": "stream",
          "text": [
            "Epoch 67, Batch 70, Loss: 0.05337414890527725\n"
          ]
        },
        {
          "name": "stderr",
          "output_type": "stream",
          "text": []
        },
        {
          "name": "stdout",
          "output_type": "stream",
          "text": [
            "Epoch 67, Batch 80, Loss: 0.1669027954339981\n"
          ]
        },
        {
          "name": "stderr",
          "output_type": "stream",
          "text": []
        },
        {
          "name": "stdout",
          "output_type": "stream",
          "text": [
            "Epoch 67, Batch 90, Loss: 0.1022319495677948\n"
          ]
        },
        {
          "name": "stderr",
          "output_type": "stream",
          "text": [
            "Epoch:  68%|██████▊   | 68/100 [35:57<16:51, 31.61s/it]"
          ]
        },
        {
          "name": "stdout",
          "output_type": "stream",
          "text": [
            "Epoch 68, Batch 0, Loss: 0.13145752251148224\n"
          ]
        },
        {
          "name": "stderr",
          "output_type": "stream",
          "text": []
        },
        {
          "name": "stdout",
          "output_type": "stream",
          "text": [
            "Epoch 68, Batch 10, Loss: 0.0981396958231926\n"
          ]
        },
        {
          "name": "stderr",
          "output_type": "stream",
          "text": []
        },
        {
          "name": "stdout",
          "output_type": "stream",
          "text": [
            "Epoch 68, Batch 20, Loss: 0.07079947739839554\n"
          ]
        },
        {
          "name": "stderr",
          "output_type": "stream",
          "text": []
        },
        {
          "name": "stdout",
          "output_type": "stream",
          "text": [
            "Epoch 68, Batch 30, Loss: 0.08688502758741379\n"
          ]
        },
        {
          "name": "stderr",
          "output_type": "stream",
          "text": []
        },
        {
          "name": "stdout",
          "output_type": "stream",
          "text": [
            "Epoch 68, Batch 40, Loss: 0.07613057643175125\n"
          ]
        },
        {
          "name": "stderr",
          "output_type": "stream",
          "text": []
        },
        {
          "name": "stdout",
          "output_type": "stream",
          "text": [
            "Epoch 68, Batch 50, Loss: 0.07108421623706818\n"
          ]
        },
        {
          "name": "stderr",
          "output_type": "stream",
          "text": []
        },
        {
          "name": "stdout",
          "output_type": "stream",
          "text": [
            "Epoch 68, Batch 60, Loss: 0.07023828476667404\n"
          ]
        },
        {
          "name": "stderr",
          "output_type": "stream",
          "text": []
        },
        {
          "name": "stdout",
          "output_type": "stream",
          "text": [
            "Epoch 68, Batch 70, Loss: 0.08937575668096542\n"
          ]
        },
        {
          "name": "stderr",
          "output_type": "stream",
          "text": []
        },
        {
          "name": "stdout",
          "output_type": "stream",
          "text": [
            "Epoch 68, Batch 80, Loss: 0.1243695393204689\n"
          ]
        },
        {
          "name": "stderr",
          "output_type": "stream",
          "text": []
        },
        {
          "name": "stdout",
          "output_type": "stream",
          "text": [
            "Epoch 68, Batch 90, Loss: 0.09542956948280334\n"
          ]
        },
        {
          "name": "stderr",
          "output_type": "stream",
          "text": [
            "Epoch:  69%|██████▉   | 69/100 [36:29<16:20, 31.61s/it]"
          ]
        },
        {
          "name": "stdout",
          "output_type": "stream",
          "text": [
            "Epoch 69, Batch 0, Loss: 0.12714259326457977\n"
          ]
        },
        {
          "name": "stderr",
          "output_type": "stream",
          "text": []
        },
        {
          "name": "stdout",
          "output_type": "stream",
          "text": [
            "Epoch 69, Batch 10, Loss: 0.10181627422571182\n"
          ]
        },
        {
          "name": "stderr",
          "output_type": "stream",
          "text": []
        },
        {
          "name": "stdout",
          "output_type": "stream",
          "text": [
            "Epoch 69, Batch 20, Loss: 0.07023933529853821\n"
          ]
        },
        {
          "name": "stderr",
          "output_type": "stream",
          "text": []
        },
        {
          "name": "stdout",
          "output_type": "stream",
          "text": [
            "Epoch 69, Batch 30, Loss: 0.06094785034656525\n"
          ]
        },
        {
          "name": "stderr",
          "output_type": "stream",
          "text": []
        },
        {
          "name": "stdout",
          "output_type": "stream",
          "text": [
            "Epoch 69, Batch 40, Loss: 0.08405537903308868\n"
          ]
        },
        {
          "name": "stderr",
          "output_type": "stream",
          "text": []
        },
        {
          "name": "stdout",
          "output_type": "stream",
          "text": [
            "Epoch 69, Batch 50, Loss: 0.05483858287334442\n"
          ]
        },
        {
          "name": "stderr",
          "output_type": "stream",
          "text": []
        },
        {
          "name": "stdout",
          "output_type": "stream",
          "text": [
            "Epoch 69, Batch 60, Loss: 0.056824781000614166\n"
          ]
        },
        {
          "name": "stderr",
          "output_type": "stream",
          "text": []
        },
        {
          "name": "stdout",
          "output_type": "stream",
          "text": [
            "Epoch 69, Batch 70, Loss: 0.05277523025870323\n"
          ]
        },
        {
          "name": "stderr",
          "output_type": "stream",
          "text": []
        },
        {
          "name": "stdout",
          "output_type": "stream",
          "text": [
            "Epoch 69, Batch 80, Loss: 0.04520978778600693\n"
          ]
        },
        {
          "name": "stderr",
          "output_type": "stream",
          "text": []
        },
        {
          "name": "stdout",
          "output_type": "stream",
          "text": [
            "Epoch 69, Batch 90, Loss: 0.05262806639075279\n"
          ]
        },
        {
          "name": "stderr",
          "output_type": "stream",
          "text": [
            "Epoch:  70%|███████   | 70/100 [37:01<15:49, 31.64s/it]"
          ]
        },
        {
          "name": "stdout",
          "output_type": "stream",
          "text": [
            "Epoch 70, Batch 0, Loss: 0.04180648550391197\n"
          ]
        },
        {
          "name": "stderr",
          "output_type": "stream",
          "text": []
        },
        {
          "name": "stdout",
          "output_type": "stream",
          "text": [
            "Epoch 70, Batch 10, Loss: 0.06240787357091904\n"
          ]
        },
        {
          "name": "stderr",
          "output_type": "stream",
          "text": []
        },
        {
          "name": "stdout",
          "output_type": "stream",
          "text": [
            "Epoch 70, Batch 20, Loss: 0.061217788606882095\n"
          ]
        },
        {
          "name": "stderr",
          "output_type": "stream",
          "text": []
        },
        {
          "name": "stdout",
          "output_type": "stream",
          "text": [
            "Epoch 70, Batch 30, Loss: 0.06146778538823128\n"
          ]
        },
        {
          "name": "stderr",
          "output_type": "stream",
          "text": []
        },
        {
          "name": "stdout",
          "output_type": "stream",
          "text": [
            "Epoch 70, Batch 40, Loss: 0.07378510385751724\n"
          ]
        },
        {
          "name": "stderr",
          "output_type": "stream",
          "text": []
        },
        {
          "name": "stdout",
          "output_type": "stream",
          "text": [
            "Epoch 70, Batch 50, Loss: 0.03735673055052757\n"
          ]
        },
        {
          "name": "stderr",
          "output_type": "stream",
          "text": []
        },
        {
          "name": "stdout",
          "output_type": "stream",
          "text": [
            "Epoch 70, Batch 60, Loss: 0.06274641305208206\n"
          ]
        },
        {
          "name": "stderr",
          "output_type": "stream",
          "text": []
        },
        {
          "name": "stdout",
          "output_type": "stream",
          "text": [
            "Epoch 70, Batch 70, Loss: 0.04430637136101723\n"
          ]
        },
        {
          "name": "stderr",
          "output_type": "stream",
          "text": []
        },
        {
          "name": "stdout",
          "output_type": "stream",
          "text": [
            "Epoch 70, Batch 80, Loss: 0.03548701852560043\n"
          ]
        },
        {
          "name": "stderr",
          "output_type": "stream",
          "text": []
        },
        {
          "name": "stdout",
          "output_type": "stream",
          "text": [
            "Epoch 70, Batch 90, Loss: 0.033840540796518326\n"
          ]
        },
        {
          "name": "stderr",
          "output_type": "stream",
          "text": [
            "Epoch:  71%|███████   | 71/100 [37:33<15:20, 31.74s/it]"
          ]
        },
        {
          "name": "stdout",
          "output_type": "stream",
          "text": [
            "Epoch 71, Batch 0, Loss: 0.045878488570451736\n"
          ]
        },
        {
          "name": "stderr",
          "output_type": "stream",
          "text": []
        },
        {
          "name": "stdout",
          "output_type": "stream",
          "text": [
            "Epoch 71, Batch 10, Loss: 0.0539209209382534\n"
          ]
        },
        {
          "name": "stderr",
          "output_type": "stream",
          "text": []
        },
        {
          "name": "stdout",
          "output_type": "stream",
          "text": [
            "Epoch 71, Batch 20, Loss: 0.03777129575610161\n"
          ]
        },
        {
          "name": "stderr",
          "output_type": "stream",
          "text": []
        },
        {
          "name": "stdout",
          "output_type": "stream",
          "text": [
            "Epoch 71, Batch 30, Loss: 0.04979231581091881\n"
          ]
        },
        {
          "name": "stderr",
          "output_type": "stream",
          "text": []
        },
        {
          "name": "stdout",
          "output_type": "stream",
          "text": [
            "Epoch 71, Batch 40, Loss: 0.045769479125738144\n"
          ]
        },
        {
          "name": "stderr",
          "output_type": "stream",
          "text": []
        },
        {
          "name": "stdout",
          "output_type": "stream",
          "text": [
            "Epoch 71, Batch 50, Loss: 0.04436715319752693\n"
          ]
        },
        {
          "name": "stderr",
          "output_type": "stream",
          "text": []
        },
        {
          "name": "stdout",
          "output_type": "stream",
          "text": [
            "Epoch 71, Batch 60, Loss: 0.042228639125823975\n"
          ]
        },
        {
          "name": "stderr",
          "output_type": "stream",
          "text": []
        },
        {
          "name": "stdout",
          "output_type": "stream",
          "text": [
            "Epoch 71, Batch 70, Loss: 0.04028601944446564\n"
          ]
        },
        {
          "name": "stderr",
          "output_type": "stream",
          "text": []
        },
        {
          "name": "stdout",
          "output_type": "stream",
          "text": [
            "Epoch 71, Batch 80, Loss: 0.03463079035282135\n"
          ]
        },
        {
          "name": "stderr",
          "output_type": "stream",
          "text": []
        },
        {
          "name": "stdout",
          "output_type": "stream",
          "text": [
            "Epoch 71, Batch 90, Loss: 0.05827432870864868\n"
          ]
        },
        {
          "name": "stderr",
          "output_type": "stream",
          "text": [
            "Epoch:  72%|███████▏  | 72/100 [38:06<14:58, 32.09s/it]"
          ]
        },
        {
          "name": "stdout",
          "output_type": "stream",
          "text": [
            "Epoch 72, Batch 0, Loss: 0.05190199613571167\n"
          ]
        },
        {
          "name": "stderr",
          "output_type": "stream",
          "text": []
        },
        {
          "name": "stdout",
          "output_type": "stream",
          "text": [
            "Epoch 72, Batch 10, Loss: 0.04207702726125717\n"
          ]
        },
        {
          "name": "stderr",
          "output_type": "stream",
          "text": []
        },
        {
          "name": "stdout",
          "output_type": "stream",
          "text": [
            "Epoch 72, Batch 20, Loss: 0.027425574138760567\n"
          ]
        },
        {
          "name": "stderr",
          "output_type": "stream",
          "text": []
        },
        {
          "name": "stdout",
          "output_type": "stream",
          "text": [
            "Epoch 72, Batch 30, Loss: 0.0536818653345108\n"
          ]
        },
        {
          "name": "stderr",
          "output_type": "stream",
          "text": []
        },
        {
          "name": "stdout",
          "output_type": "stream",
          "text": [
            "Epoch 72, Batch 40, Loss: 0.04195065423846245\n"
          ]
        },
        {
          "name": "stderr",
          "output_type": "stream",
          "text": []
        },
        {
          "name": "stdout",
          "output_type": "stream",
          "text": [
            "Epoch 72, Batch 50, Loss: 0.04960860311985016\n"
          ]
        },
        {
          "name": "stderr",
          "output_type": "stream",
          "text": []
        },
        {
          "name": "stdout",
          "output_type": "stream",
          "text": [
            "Epoch 72, Batch 60, Loss: 0.04964669421315193\n"
          ]
        },
        {
          "name": "stderr",
          "output_type": "stream",
          "text": []
        },
        {
          "name": "stdout",
          "output_type": "stream",
          "text": [
            "Epoch 72, Batch 70, Loss: 0.05596870556473732\n"
          ]
        },
        {
          "name": "stderr",
          "output_type": "stream",
          "text": []
        },
        {
          "name": "stdout",
          "output_type": "stream",
          "text": [
            "Epoch 72, Batch 80, Loss: 0.04220049828290939\n"
          ]
        },
        {
          "name": "stderr",
          "output_type": "stream",
          "text": []
        },
        {
          "name": "stdout",
          "output_type": "stream",
          "text": [
            "Epoch 72, Batch 90, Loss: 0.056744594126939774\n"
          ]
        },
        {
          "name": "stderr",
          "output_type": "stream",
          "text": [
            "Epoch:  73%|███████▎  | 73/100 [38:38<14:30, 32.26s/it]"
          ]
        },
        {
          "name": "stdout",
          "output_type": "stream",
          "text": [
            "Epoch 73, Batch 0, Loss: 0.02934359386563301\n"
          ]
        },
        {
          "name": "stderr",
          "output_type": "stream",
          "text": []
        },
        {
          "name": "stdout",
          "output_type": "stream",
          "text": [
            "Epoch 73, Batch 10, Loss: 0.02825499325990677\n"
          ]
        },
        {
          "name": "stderr",
          "output_type": "stream",
          "text": []
        },
        {
          "name": "stdout",
          "output_type": "stream",
          "text": [
            "Epoch 73, Batch 20, Loss: 0.04976918548345566\n"
          ]
        },
        {
          "name": "stderr",
          "output_type": "stream",
          "text": []
        },
        {
          "name": "stdout",
          "output_type": "stream",
          "text": [
            "Epoch 73, Batch 30, Loss: 0.03371090069413185\n"
          ]
        },
        {
          "name": "stderr",
          "output_type": "stream",
          "text": []
        },
        {
          "name": "stdout",
          "output_type": "stream",
          "text": [
            "Epoch 73, Batch 40, Loss: 0.03967956081032753\n"
          ]
        },
        {
          "name": "stderr",
          "output_type": "stream",
          "text": []
        },
        {
          "name": "stdout",
          "output_type": "stream",
          "text": [
            "Epoch 73, Batch 50, Loss: 0.04428694769740105\n"
          ]
        },
        {
          "name": "stderr",
          "output_type": "stream",
          "text": []
        },
        {
          "name": "stdout",
          "output_type": "stream",
          "text": [
            "Epoch 73, Batch 60, Loss: 0.05357813090085983\n"
          ]
        },
        {
          "name": "stderr",
          "output_type": "stream",
          "text": []
        },
        {
          "name": "stdout",
          "output_type": "stream",
          "text": [
            "Epoch 73, Batch 70, Loss: 0.05858563259243965\n"
          ]
        },
        {
          "name": "stderr",
          "output_type": "stream",
          "text": []
        },
        {
          "name": "stdout",
          "output_type": "stream",
          "text": [
            "Epoch 73, Batch 80, Loss: 0.06976937502622604\n"
          ]
        },
        {
          "name": "stderr",
          "output_type": "stream",
          "text": []
        },
        {
          "name": "stdout",
          "output_type": "stream",
          "text": [
            "Epoch 73, Batch 90, Loss: 0.04296066612005234\n"
          ]
        },
        {
          "name": "stderr",
          "output_type": "stream",
          "text": [
            "Epoch:  74%|███████▍  | 74/100 [39:10<13:56, 32.16s/it]"
          ]
        },
        {
          "name": "stdout",
          "output_type": "stream",
          "text": [
            "Epoch 74, Batch 0, Loss: 0.026234041899442673\n"
          ]
        },
        {
          "name": "stderr",
          "output_type": "stream",
          "text": []
        },
        {
          "name": "stdout",
          "output_type": "stream",
          "text": [
            "Epoch 74, Batch 10, Loss: 0.059968721121549606\n"
          ]
        },
        {
          "name": "stderr",
          "output_type": "stream",
          "text": []
        },
        {
          "name": "stdout",
          "output_type": "stream",
          "text": [
            "Epoch 74, Batch 20, Loss: 0.03707817196846008\n"
          ]
        },
        {
          "name": "stderr",
          "output_type": "stream",
          "text": []
        },
        {
          "name": "stdout",
          "output_type": "stream",
          "text": [
            "Epoch 74, Batch 30, Loss: 0.034071847796440125\n"
          ]
        },
        {
          "name": "stderr",
          "output_type": "stream",
          "text": []
        },
        {
          "name": "stdout",
          "output_type": "stream",
          "text": [
            "Epoch 74, Batch 40, Loss: 0.025797205045819283\n"
          ]
        },
        {
          "name": "stderr",
          "output_type": "stream",
          "text": []
        },
        {
          "name": "stdout",
          "output_type": "stream",
          "text": [
            "Epoch 74, Batch 50, Loss: 0.029710955917835236\n"
          ]
        },
        {
          "name": "stderr",
          "output_type": "stream",
          "text": []
        },
        {
          "name": "stdout",
          "output_type": "stream",
          "text": [
            "Epoch 74, Batch 60, Loss: 0.03460289165377617\n"
          ]
        },
        {
          "name": "stderr",
          "output_type": "stream",
          "text": []
        },
        {
          "name": "stdout",
          "output_type": "stream",
          "text": [
            "Epoch 74, Batch 70, Loss: 0.05163121968507767\n"
          ]
        },
        {
          "name": "stderr",
          "output_type": "stream",
          "text": []
        },
        {
          "name": "stdout",
          "output_type": "stream",
          "text": [
            "Epoch 74, Batch 80, Loss: 0.02569308876991272\n"
          ]
        },
        {
          "name": "stderr",
          "output_type": "stream",
          "text": []
        },
        {
          "name": "stdout",
          "output_type": "stream",
          "text": [
            "Epoch 74, Batch 90, Loss: 0.036835115402936935\n"
          ]
        },
        {
          "name": "stderr",
          "output_type": "stream",
          "text": [
            "Epoch:  75%|███████▌  | 75/100 [39:42<13:21, 32.06s/it]"
          ]
        },
        {
          "name": "stdout",
          "output_type": "stream",
          "text": [
            "Epoch 75, Batch 0, Loss: 0.06834671646356583\n"
          ]
        },
        {
          "name": "stderr",
          "output_type": "stream",
          "text": []
        },
        {
          "name": "stdout",
          "output_type": "stream",
          "text": [
            "Epoch 75, Batch 10, Loss: 0.03111879713833332\n"
          ]
        },
        {
          "name": "stderr",
          "output_type": "stream",
          "text": []
        },
        {
          "name": "stdout",
          "output_type": "stream",
          "text": [
            "Epoch 75, Batch 20, Loss: 0.02680608257651329\n"
          ]
        },
        {
          "name": "stderr",
          "output_type": "stream",
          "text": []
        },
        {
          "name": "stdout",
          "output_type": "stream",
          "text": [
            "Epoch 75, Batch 30, Loss: 0.03707042708992958\n"
          ]
        },
        {
          "name": "stderr",
          "output_type": "stream",
          "text": []
        },
        {
          "name": "stdout",
          "output_type": "stream",
          "text": [
            "Epoch 75, Batch 40, Loss: 0.03445301577448845\n"
          ]
        },
        {
          "name": "stderr",
          "output_type": "stream",
          "text": []
        },
        {
          "name": "stdout",
          "output_type": "stream",
          "text": [
            "Epoch 75, Batch 50, Loss: 0.026676150038838387\n"
          ]
        },
        {
          "name": "stderr",
          "output_type": "stream",
          "text": []
        },
        {
          "name": "stdout",
          "output_type": "stream",
          "text": [
            "Epoch 75, Batch 60, Loss: 0.027807122096419334\n"
          ]
        },
        {
          "name": "stderr",
          "output_type": "stream",
          "text": []
        },
        {
          "name": "stdout",
          "output_type": "stream",
          "text": [
            "Epoch 75, Batch 70, Loss: 0.046652667224407196\n"
          ]
        },
        {
          "name": "stderr",
          "output_type": "stream",
          "text": []
        },
        {
          "name": "stdout",
          "output_type": "stream",
          "text": [
            "Epoch 75, Batch 80, Loss: 0.025796085596084595\n"
          ]
        },
        {
          "name": "stderr",
          "output_type": "stream",
          "text": []
        },
        {
          "name": "stdout",
          "output_type": "stream",
          "text": [
            "Epoch 75, Batch 90, Loss: 0.028193701058626175\n"
          ]
        },
        {
          "name": "stderr",
          "output_type": "stream",
          "text": [
            "Epoch:  76%|███████▌  | 76/100 [40:14<12:48, 32.01s/it]"
          ]
        },
        {
          "name": "stdout",
          "output_type": "stream",
          "text": [
            "Epoch 76, Batch 0, Loss: 0.03167036920785904\n"
          ]
        },
        {
          "name": "stderr",
          "output_type": "stream",
          "text": []
        },
        {
          "name": "stdout",
          "output_type": "stream",
          "text": [
            "Epoch 76, Batch 10, Loss: 0.03497723862528801\n"
          ]
        },
        {
          "name": "stderr",
          "output_type": "stream",
          "text": []
        },
        {
          "name": "stdout",
          "output_type": "stream",
          "text": [
            "Epoch 76, Batch 20, Loss: 0.02759263850748539\n"
          ]
        },
        {
          "name": "stderr",
          "output_type": "stream",
          "text": []
        },
        {
          "name": "stdout",
          "output_type": "stream",
          "text": [
            "Epoch 76, Batch 30, Loss: 0.021143002435564995\n"
          ]
        },
        {
          "name": "stderr",
          "output_type": "stream",
          "text": []
        },
        {
          "name": "stdout",
          "output_type": "stream",
          "text": [
            "Epoch 76, Batch 40, Loss: 0.02378050796687603\n"
          ]
        },
        {
          "name": "stderr",
          "output_type": "stream",
          "text": []
        },
        {
          "name": "stdout",
          "output_type": "stream",
          "text": [
            "Epoch 76, Batch 50, Loss: 0.045461710542440414\n"
          ]
        },
        {
          "name": "stderr",
          "output_type": "stream",
          "text": []
        },
        {
          "name": "stdout",
          "output_type": "stream",
          "text": [
            "Epoch 76, Batch 60, Loss: 0.02375439926981926\n"
          ]
        },
        {
          "name": "stderr",
          "output_type": "stream",
          "text": []
        },
        {
          "name": "stdout",
          "output_type": "stream",
          "text": [
            "Epoch 76, Batch 70, Loss: 0.018694499507546425\n"
          ]
        },
        {
          "name": "stderr",
          "output_type": "stream",
          "text": []
        },
        {
          "name": "stdout",
          "output_type": "stream",
          "text": [
            "Epoch 76, Batch 80, Loss: 0.016588961705565453\n"
          ]
        },
        {
          "name": "stderr",
          "output_type": "stream",
          "text": []
        },
        {
          "name": "stdout",
          "output_type": "stream",
          "text": [
            "Epoch 76, Batch 90, Loss: 0.05227358266711235\n"
          ]
        },
        {
          "name": "stderr",
          "output_type": "stream",
          "text": [
            "Epoch:  77%|███████▋  | 77/100 [40:46<12:15, 31.97s/it]"
          ]
        },
        {
          "name": "stdout",
          "output_type": "stream",
          "text": [
            "Epoch 77, Batch 0, Loss: 0.030619969591498375\n"
          ]
        },
        {
          "name": "stderr",
          "output_type": "stream",
          "text": []
        },
        {
          "name": "stdout",
          "output_type": "stream",
          "text": [
            "Epoch 77, Batch 10, Loss: 0.02563767321407795\n"
          ]
        },
        {
          "name": "stderr",
          "output_type": "stream",
          "text": []
        },
        {
          "name": "stdout",
          "output_type": "stream",
          "text": [
            "Epoch 77, Batch 20, Loss: 0.024050328880548477\n"
          ]
        },
        {
          "name": "stderr",
          "output_type": "stream",
          "text": []
        },
        {
          "name": "stdout",
          "output_type": "stream",
          "text": [
            "Epoch 77, Batch 30, Loss: 0.022509058937430382\n"
          ]
        },
        {
          "name": "stderr",
          "output_type": "stream",
          "text": []
        },
        {
          "name": "stdout",
          "output_type": "stream",
          "text": [
            "Epoch 77, Batch 40, Loss: 0.019872939214110374\n"
          ]
        },
        {
          "name": "stderr",
          "output_type": "stream",
          "text": []
        },
        {
          "name": "stdout",
          "output_type": "stream",
          "text": [
            "Epoch 77, Batch 50, Loss: 0.016834858804941177\n"
          ]
        },
        {
          "name": "stderr",
          "output_type": "stream",
          "text": []
        },
        {
          "name": "stdout",
          "output_type": "stream",
          "text": [
            "Epoch 77, Batch 60, Loss: 0.022951750084757805\n"
          ]
        },
        {
          "name": "stderr",
          "output_type": "stream",
          "text": []
        },
        {
          "name": "stdout",
          "output_type": "stream",
          "text": [
            "Epoch 77, Batch 70, Loss: 0.02727321721613407\n"
          ]
        },
        {
          "name": "stderr",
          "output_type": "stream",
          "text": []
        },
        {
          "name": "stdout",
          "output_type": "stream",
          "text": [
            "Epoch 77, Batch 80, Loss: 0.0187221672385931\n"
          ]
        },
        {
          "name": "stderr",
          "output_type": "stream",
          "text": []
        },
        {
          "name": "stdout",
          "output_type": "stream",
          "text": [
            "Epoch 77, Batch 90, Loss: 0.0263135377317667\n"
          ]
        },
        {
          "name": "stderr",
          "output_type": "stream",
          "text": [
            "Epoch:  78%|███████▊  | 78/100 [41:18<11:42, 31.91s/it]"
          ]
        },
        {
          "name": "stdout",
          "output_type": "stream",
          "text": [
            "Epoch 78, Batch 0, Loss: 0.021881889551877975\n"
          ]
        },
        {
          "name": "stderr",
          "output_type": "stream",
          "text": []
        },
        {
          "name": "stdout",
          "output_type": "stream",
          "text": [
            "Epoch 78, Batch 10, Loss: 0.022798743098974228\n"
          ]
        },
        {
          "name": "stderr",
          "output_type": "stream",
          "text": []
        },
        {
          "name": "stdout",
          "output_type": "stream",
          "text": [
            "Epoch 78, Batch 20, Loss: 0.014911274425685406\n"
          ]
        },
        {
          "name": "stderr",
          "output_type": "stream",
          "text": []
        },
        {
          "name": "stdout",
          "output_type": "stream",
          "text": [
            "Epoch 78, Batch 30, Loss: 0.026761207729578018\n"
          ]
        },
        {
          "name": "stderr",
          "output_type": "stream",
          "text": []
        },
        {
          "name": "stdout",
          "output_type": "stream",
          "text": [
            "Epoch 78, Batch 40, Loss: 0.02369818277657032\n"
          ]
        },
        {
          "name": "stderr",
          "output_type": "stream",
          "text": []
        },
        {
          "name": "stdout",
          "output_type": "stream",
          "text": [
            "Epoch 78, Batch 50, Loss: 0.022769393399357796\n"
          ]
        },
        {
          "name": "stderr",
          "output_type": "stream",
          "text": []
        },
        {
          "name": "stdout",
          "output_type": "stream",
          "text": [
            "Epoch 78, Batch 60, Loss: 0.016371358186006546\n"
          ]
        },
        {
          "name": "stderr",
          "output_type": "stream",
          "text": []
        },
        {
          "name": "stdout",
          "output_type": "stream",
          "text": [
            "Epoch 78, Batch 70, Loss: 0.026031596586108208\n"
          ]
        },
        {
          "name": "stderr",
          "output_type": "stream",
          "text": []
        },
        {
          "name": "stdout",
          "output_type": "stream",
          "text": [
            "Epoch 78, Batch 80, Loss: 0.02113904058933258\n"
          ]
        },
        {
          "name": "stderr",
          "output_type": "stream",
          "text": []
        },
        {
          "name": "stdout",
          "output_type": "stream",
          "text": [
            "Epoch 78, Batch 90, Loss: 0.024079157039523125\n"
          ]
        },
        {
          "name": "stderr",
          "output_type": "stream",
          "text": [
            "Epoch:  79%|███████▉  | 79/100 [41:50<11:12, 32.04s/it]"
          ]
        },
        {
          "name": "stdout",
          "output_type": "stream",
          "text": [
            "Epoch 79, Batch 0, Loss: 0.03897907957434654\n"
          ]
        },
        {
          "name": "stderr",
          "output_type": "stream",
          "text": []
        },
        {
          "name": "stdout",
          "output_type": "stream",
          "text": [
            "Epoch 79, Batch 10, Loss: 0.03562823310494423\n"
          ]
        },
        {
          "name": "stderr",
          "output_type": "stream",
          "text": []
        },
        {
          "name": "stdout",
          "output_type": "stream",
          "text": [
            "Epoch 79, Batch 20, Loss: 0.019990015774965286\n"
          ]
        },
        {
          "name": "stderr",
          "output_type": "stream",
          "text": []
        },
        {
          "name": "stdout",
          "output_type": "stream",
          "text": [
            "Epoch 79, Batch 30, Loss: 0.020788175985217094\n"
          ]
        },
        {
          "name": "stderr",
          "output_type": "stream",
          "text": []
        },
        {
          "name": "stdout",
          "output_type": "stream",
          "text": [
            "Epoch 79, Batch 40, Loss: 0.02716199681162834\n"
          ]
        },
        {
          "name": "stderr",
          "output_type": "stream",
          "text": []
        },
        {
          "name": "stdout",
          "output_type": "stream",
          "text": [
            "Epoch 79, Batch 50, Loss: 0.018106356263160706\n"
          ]
        },
        {
          "name": "stderr",
          "output_type": "stream",
          "text": []
        },
        {
          "name": "stdout",
          "output_type": "stream",
          "text": [
            "Epoch 79, Batch 60, Loss: 0.024881822988390923\n"
          ]
        },
        {
          "name": "stderr",
          "output_type": "stream",
          "text": []
        },
        {
          "name": "stdout",
          "output_type": "stream",
          "text": [
            "Epoch 79, Batch 70, Loss: 0.021642174571752548\n"
          ]
        },
        {
          "name": "stderr",
          "output_type": "stream",
          "text": []
        },
        {
          "name": "stdout",
          "output_type": "stream",
          "text": [
            "Epoch 79, Batch 80, Loss: 0.012338396161794662\n"
          ]
        },
        {
          "name": "stderr",
          "output_type": "stream",
          "text": []
        },
        {
          "name": "stdout",
          "output_type": "stream",
          "text": [
            "Epoch 79, Batch 90, Loss: 0.025310944765806198\n"
          ]
        },
        {
          "name": "stderr",
          "output_type": "stream",
          "text": [
            "Epoch:  80%|████████  | 80/100 [42:23<10:48, 32.43s/it]"
          ]
        },
        {
          "name": "stdout",
          "output_type": "stream",
          "text": [
            "Epoch 80, Batch 0, Loss: 0.01839287020266056\n"
          ]
        },
        {
          "name": "stderr",
          "output_type": "stream",
          "text": []
        },
        {
          "name": "stdout",
          "output_type": "stream",
          "text": [
            "Epoch 80, Batch 10, Loss: 0.019102424383163452\n"
          ]
        },
        {
          "name": "stderr",
          "output_type": "stream",
          "text": []
        },
        {
          "name": "stdout",
          "output_type": "stream",
          "text": [
            "Epoch 80, Batch 20, Loss: 0.023471763357520103\n"
          ]
        },
        {
          "name": "stderr",
          "output_type": "stream",
          "text": []
        },
        {
          "name": "stdout",
          "output_type": "stream",
          "text": [
            "Epoch 80, Batch 30, Loss: 0.019310643896460533\n"
          ]
        },
        {
          "name": "stderr",
          "output_type": "stream",
          "text": []
        },
        {
          "name": "stdout",
          "output_type": "stream",
          "text": [
            "Epoch 80, Batch 40, Loss: 0.010065915994346142\n"
          ]
        },
        {
          "name": "stderr",
          "output_type": "stream",
          "text": []
        },
        {
          "name": "stdout",
          "output_type": "stream",
          "text": [
            "Epoch 80, Batch 50, Loss: 0.01423213817179203\n"
          ]
        },
        {
          "name": "stderr",
          "output_type": "stream",
          "text": []
        },
        {
          "name": "stdout",
          "output_type": "stream",
          "text": [
            "Epoch 80, Batch 60, Loss: 0.017968980595469475\n"
          ]
        },
        {
          "name": "stderr",
          "output_type": "stream",
          "text": []
        },
        {
          "name": "stdout",
          "output_type": "stream",
          "text": [
            "Epoch 80, Batch 70, Loss: 0.015859108418226242\n"
          ]
        },
        {
          "name": "stderr",
          "output_type": "stream",
          "text": []
        },
        {
          "name": "stdout",
          "output_type": "stream",
          "text": [
            "Epoch 80, Batch 80, Loss: 0.013296937569975853\n"
          ]
        },
        {
          "name": "stderr",
          "output_type": "stream",
          "text": []
        },
        {
          "name": "stdout",
          "output_type": "stream",
          "text": [
            "Epoch 80, Batch 90, Loss: 0.014103841036558151\n"
          ]
        },
        {
          "name": "stderr",
          "output_type": "stream",
          "text": [
            "Epoch:  81%|████████  | 81/100 [42:55<10:14, 32.35s/it]"
          ]
        },
        {
          "name": "stdout",
          "output_type": "stream",
          "text": [
            "Epoch 81, Batch 0, Loss: 0.01403124164789915\n"
          ]
        },
        {
          "name": "stderr",
          "output_type": "stream",
          "text": []
        },
        {
          "name": "stdout",
          "output_type": "stream",
          "text": [
            "Epoch 81, Batch 10, Loss: 0.017752064391970634\n"
          ]
        },
        {
          "name": "stderr",
          "output_type": "stream",
          "text": []
        },
        {
          "name": "stdout",
          "output_type": "stream",
          "text": [
            "Epoch 81, Batch 20, Loss: 0.024078965187072754\n"
          ]
        },
        {
          "name": "stderr",
          "output_type": "stream",
          "text": []
        },
        {
          "name": "stdout",
          "output_type": "stream",
          "text": [
            "Epoch 81, Batch 30, Loss: 0.013234622776508331\n"
          ]
        },
        {
          "name": "stderr",
          "output_type": "stream",
          "text": []
        },
        {
          "name": "stdout",
          "output_type": "stream",
          "text": [
            "Epoch 81, Batch 40, Loss: 0.028748592361807823\n"
          ]
        },
        {
          "name": "stderr",
          "output_type": "stream",
          "text": []
        },
        {
          "name": "stdout",
          "output_type": "stream",
          "text": [
            "Epoch 81, Batch 50, Loss: 0.026421701535582542\n"
          ]
        },
        {
          "name": "stderr",
          "output_type": "stream",
          "text": []
        },
        {
          "name": "stdout",
          "output_type": "stream",
          "text": [
            "Epoch 81, Batch 60, Loss: 0.020773502066731453\n"
          ]
        },
        {
          "name": "stderr",
          "output_type": "stream",
          "text": []
        },
        {
          "name": "stdout",
          "output_type": "stream",
          "text": [
            "Epoch 81, Batch 70, Loss: 0.029291348531842232\n"
          ]
        },
        {
          "name": "stderr",
          "output_type": "stream",
          "text": []
        },
        {
          "name": "stdout",
          "output_type": "stream",
          "text": [
            "Epoch 81, Batch 80, Loss: 0.01115849893540144\n"
          ]
        },
        {
          "name": "stderr",
          "output_type": "stream",
          "text": []
        },
        {
          "name": "stdout",
          "output_type": "stream",
          "text": [
            "Epoch 81, Batch 90, Loss: 0.020769212394952774\n"
          ]
        },
        {
          "name": "stderr",
          "output_type": "stream",
          "text": [
            "Epoch:  82%|████████▏ | 82/100 [43:27<09:39, 32.21s/it]"
          ]
        },
        {
          "name": "stdout",
          "output_type": "stream",
          "text": [
            "Epoch 82, Batch 0, Loss: 0.013409932143986225\n"
          ]
        },
        {
          "name": "stderr",
          "output_type": "stream",
          "text": []
        },
        {
          "name": "stdout",
          "output_type": "stream",
          "text": [
            "Epoch 82, Batch 10, Loss: 0.020462770015001297\n"
          ]
        },
        {
          "name": "stderr",
          "output_type": "stream",
          "text": []
        },
        {
          "name": "stdout",
          "output_type": "stream",
          "text": [
            "Epoch 82, Batch 20, Loss: 0.019926857203245163\n"
          ]
        },
        {
          "name": "stderr",
          "output_type": "stream",
          "text": []
        },
        {
          "name": "stdout",
          "output_type": "stream",
          "text": [
            "Epoch 82, Batch 30, Loss: 0.0166784655302763\n"
          ]
        },
        {
          "name": "stderr",
          "output_type": "stream",
          "text": []
        },
        {
          "name": "stdout",
          "output_type": "stream",
          "text": [
            "Epoch 82, Batch 40, Loss: 0.013751549646258354\n"
          ]
        },
        {
          "name": "stderr",
          "output_type": "stream",
          "text": []
        },
        {
          "name": "stdout",
          "output_type": "stream",
          "text": [
            "Epoch 82, Batch 50, Loss: 0.0074525498785078526\n"
          ]
        },
        {
          "name": "stderr",
          "output_type": "stream",
          "text": []
        },
        {
          "name": "stdout",
          "output_type": "stream",
          "text": [
            "Epoch 82, Batch 60, Loss: 0.014707074500620365\n"
          ]
        },
        {
          "name": "stderr",
          "output_type": "stream",
          "text": []
        },
        {
          "name": "stdout",
          "output_type": "stream",
          "text": [
            "Epoch 82, Batch 70, Loss: 0.008785207755863667\n"
          ]
        },
        {
          "name": "stderr",
          "output_type": "stream",
          "text": []
        },
        {
          "name": "stdout",
          "output_type": "stream",
          "text": [
            "Epoch 82, Batch 80, Loss: 0.011897829361259937\n"
          ]
        },
        {
          "name": "stderr",
          "output_type": "stream",
          "text": []
        },
        {
          "name": "stdout",
          "output_type": "stream",
          "text": [
            "Epoch 82, Batch 90, Loss: 0.015929941087961197\n"
          ]
        },
        {
          "name": "stderr",
          "output_type": "stream",
          "text": [
            "Epoch:  83%|████████▎ | 83/100 [43:59<09:04, 32.02s/it]"
          ]
        },
        {
          "name": "stdout",
          "output_type": "stream",
          "text": [
            "Epoch 83, Batch 0, Loss: 0.013242963701486588\n"
          ]
        },
        {
          "name": "stderr",
          "output_type": "stream",
          "text": []
        },
        {
          "name": "stdout",
          "output_type": "stream",
          "text": [
            "Epoch 83, Batch 10, Loss: 0.015777811408042908\n"
          ]
        },
        {
          "name": "stderr",
          "output_type": "stream",
          "text": []
        },
        {
          "name": "stdout",
          "output_type": "stream",
          "text": [
            "Epoch 83, Batch 20, Loss: 0.004890414886176586\n"
          ]
        },
        {
          "name": "stderr",
          "output_type": "stream",
          "text": []
        },
        {
          "name": "stdout",
          "output_type": "stream",
          "text": [
            "Epoch 83, Batch 30, Loss: 0.007019421085715294\n"
          ]
        },
        {
          "name": "stderr",
          "output_type": "stream",
          "text": []
        },
        {
          "name": "stdout",
          "output_type": "stream",
          "text": [
            "Epoch 83, Batch 40, Loss: 0.015177060849964619\n"
          ]
        },
        {
          "name": "stderr",
          "output_type": "stream",
          "text": []
        },
        {
          "name": "stdout",
          "output_type": "stream",
          "text": [
            "Epoch 83, Batch 50, Loss: 0.012601527385413647\n"
          ]
        },
        {
          "name": "stderr",
          "output_type": "stream",
          "text": []
        },
        {
          "name": "stdout",
          "output_type": "stream",
          "text": [
            "Epoch 83, Batch 60, Loss: 0.013519050553441048\n"
          ]
        },
        {
          "name": "stderr",
          "output_type": "stream",
          "text": []
        },
        {
          "name": "stdout",
          "output_type": "stream",
          "text": [
            "Epoch 83, Batch 70, Loss: 0.012937117367982864\n"
          ]
        },
        {
          "name": "stderr",
          "output_type": "stream",
          "text": []
        },
        {
          "name": "stdout",
          "output_type": "stream",
          "text": [
            "Epoch 83, Batch 80, Loss: 0.011874658986926079\n"
          ]
        },
        {
          "name": "stderr",
          "output_type": "stream",
          "text": []
        },
        {
          "name": "stdout",
          "output_type": "stream",
          "text": [
            "Epoch 83, Batch 90, Loss: 0.0074814786203205585\n"
          ]
        },
        {
          "name": "stderr",
          "output_type": "stream",
          "text": [
            "Epoch:  84%|████████▍ | 84/100 [44:31<08:32, 32.01s/it]"
          ]
        },
        {
          "name": "stdout",
          "output_type": "stream",
          "text": [
            "Epoch 84, Batch 0, Loss: 0.01038152165710926\n"
          ]
        },
        {
          "name": "stderr",
          "output_type": "stream",
          "text": []
        },
        {
          "name": "stdout",
          "output_type": "stream",
          "text": [
            "Epoch 84, Batch 10, Loss: 0.006278098560869694\n"
          ]
        },
        {
          "name": "stderr",
          "output_type": "stream",
          "text": []
        },
        {
          "name": "stdout",
          "output_type": "stream",
          "text": [
            "Epoch 84, Batch 20, Loss: 0.01095800381153822\n"
          ]
        },
        {
          "name": "stderr",
          "output_type": "stream",
          "text": []
        },
        {
          "name": "stdout",
          "output_type": "stream",
          "text": [
            "Epoch 84, Batch 30, Loss: 0.008718216791749\n"
          ]
        },
        {
          "name": "stderr",
          "output_type": "stream",
          "text": []
        },
        {
          "name": "stdout",
          "output_type": "stream",
          "text": [
            "Epoch 84, Batch 40, Loss: 0.01191967073827982\n"
          ]
        },
        {
          "name": "stderr",
          "output_type": "stream",
          "text": []
        },
        {
          "name": "stdout",
          "output_type": "stream",
          "text": [
            "Epoch 84, Batch 50, Loss: 0.018537795171141624\n"
          ]
        },
        {
          "name": "stderr",
          "output_type": "stream",
          "text": []
        },
        {
          "name": "stdout",
          "output_type": "stream",
          "text": [
            "Epoch 84, Batch 60, Loss: 0.008298685774207115\n"
          ]
        },
        {
          "name": "stderr",
          "output_type": "stream",
          "text": []
        },
        {
          "name": "stdout",
          "output_type": "stream",
          "text": [
            "Epoch 84, Batch 70, Loss: 0.015069138258695602\n"
          ]
        },
        {
          "name": "stderr",
          "output_type": "stream",
          "text": []
        },
        {
          "name": "stdout",
          "output_type": "stream",
          "text": [
            "Epoch 84, Batch 80, Loss: 0.011231176555156708\n"
          ]
        },
        {
          "name": "stderr",
          "output_type": "stream",
          "text": []
        },
        {
          "name": "stdout",
          "output_type": "stream",
          "text": [
            "Epoch 84, Batch 90, Loss: 0.014880308881402016\n"
          ]
        },
        {
          "name": "stderr",
          "output_type": "stream",
          "text": [
            "Epoch:  85%|████████▌ | 85/100 [45:03<07:58, 31.92s/it]"
          ]
        },
        {
          "name": "stdout",
          "output_type": "stream",
          "text": [
            "Epoch 85, Batch 0, Loss: 0.014013644307851791\n"
          ]
        },
        {
          "name": "stderr",
          "output_type": "stream",
          "text": []
        },
        {
          "name": "stdout",
          "output_type": "stream",
          "text": [
            "Epoch 85, Batch 10, Loss: 0.010010828264057636\n"
          ]
        },
        {
          "name": "stderr",
          "output_type": "stream",
          "text": []
        },
        {
          "name": "stdout",
          "output_type": "stream",
          "text": [
            "Epoch 85, Batch 20, Loss: 0.010701127350330353\n"
          ]
        },
        {
          "name": "stderr",
          "output_type": "stream",
          "text": []
        },
        {
          "name": "stdout",
          "output_type": "stream",
          "text": [
            "Epoch 85, Batch 30, Loss: 0.009927413426339626\n"
          ]
        },
        {
          "name": "stderr",
          "output_type": "stream",
          "text": []
        },
        {
          "name": "stdout",
          "output_type": "stream",
          "text": [
            "Epoch 85, Batch 40, Loss: 0.010493568144738674\n"
          ]
        },
        {
          "name": "stderr",
          "output_type": "stream",
          "text": []
        },
        {
          "name": "stdout",
          "output_type": "stream",
          "text": [
            "Epoch 85, Batch 50, Loss: 0.007668422069400549\n"
          ]
        },
        {
          "name": "stderr",
          "output_type": "stream",
          "text": []
        },
        {
          "name": "stdout",
          "output_type": "stream",
          "text": [
            "Epoch 85, Batch 60, Loss: 0.00854824110865593\n"
          ]
        },
        {
          "name": "stderr",
          "output_type": "stream",
          "text": []
        },
        {
          "name": "stdout",
          "output_type": "stream",
          "text": [
            "Epoch 85, Batch 70, Loss: 0.012232830747961998\n"
          ]
        },
        {
          "name": "stderr",
          "output_type": "stream",
          "text": []
        },
        {
          "name": "stdout",
          "output_type": "stream",
          "text": [
            "Epoch 85, Batch 80, Loss: 0.007418727036565542\n"
          ]
        },
        {
          "name": "stderr",
          "output_type": "stream",
          "text": []
        },
        {
          "name": "stdout",
          "output_type": "stream",
          "text": [
            "Epoch 85, Batch 90, Loss: 0.016256460919976234\n"
          ]
        },
        {
          "name": "stderr",
          "output_type": "stream",
          "text": [
            "Epoch:  86%|████████▌ | 86/100 [45:34<07:25, 31.80s/it]"
          ]
        },
        {
          "name": "stdout",
          "output_type": "stream",
          "text": [
            "Epoch 86, Batch 0, Loss: 0.01312908623367548\n"
          ]
        },
        {
          "name": "stderr",
          "output_type": "stream",
          "text": []
        },
        {
          "name": "stdout",
          "output_type": "stream",
          "text": [
            "Epoch 86, Batch 10, Loss: 0.011467295698821545\n"
          ]
        },
        {
          "name": "stderr",
          "output_type": "stream",
          "text": []
        },
        {
          "name": "stdout",
          "output_type": "stream",
          "text": [
            "Epoch 86, Batch 20, Loss: 0.004175766371190548\n"
          ]
        },
        {
          "name": "stderr",
          "output_type": "stream",
          "text": []
        },
        {
          "name": "stdout",
          "output_type": "stream",
          "text": [
            "Epoch 86, Batch 30, Loss: 0.0076423706486821175\n"
          ]
        },
        {
          "name": "stderr",
          "output_type": "stream",
          "text": []
        },
        {
          "name": "stdout",
          "output_type": "stream",
          "text": [
            "Epoch 86, Batch 40, Loss: 0.004981360863894224\n"
          ]
        },
        {
          "name": "stderr",
          "output_type": "stream",
          "text": []
        },
        {
          "name": "stdout",
          "output_type": "stream",
          "text": [
            "Epoch 86, Batch 50, Loss: 0.0036157865542918444\n"
          ]
        },
        {
          "name": "stderr",
          "output_type": "stream",
          "text": []
        },
        {
          "name": "stdout",
          "output_type": "stream",
          "text": [
            "Epoch 86, Batch 60, Loss: 0.00849730335175991\n"
          ]
        },
        {
          "name": "stderr",
          "output_type": "stream",
          "text": []
        },
        {
          "name": "stdout",
          "output_type": "stream",
          "text": [
            "Epoch 86, Batch 70, Loss: 0.00576033815741539\n"
          ]
        },
        {
          "name": "stderr",
          "output_type": "stream",
          "text": []
        },
        {
          "name": "stdout",
          "output_type": "stream",
          "text": [
            "Epoch 86, Batch 80, Loss: 0.004859162028878927\n"
          ]
        },
        {
          "name": "stderr",
          "output_type": "stream",
          "text": []
        },
        {
          "name": "stdout",
          "output_type": "stream",
          "text": [
            "Epoch 86, Batch 90, Loss: 0.012253482826054096\n"
          ]
        },
        {
          "name": "stderr",
          "output_type": "stream",
          "text": [
            "Epoch:  87%|████████▋ | 87/100 [46:06<06:52, 31.75s/it]"
          ]
        },
        {
          "name": "stdout",
          "output_type": "stream",
          "text": [
            "Epoch 87, Batch 0, Loss: 0.007708454970270395\n"
          ]
        },
        {
          "name": "stderr",
          "output_type": "stream",
          "text": []
        },
        {
          "name": "stdout",
          "output_type": "stream",
          "text": [
            "Epoch 87, Batch 10, Loss: 0.006939450278878212\n"
          ]
        },
        {
          "name": "stderr",
          "output_type": "stream",
          "text": []
        },
        {
          "name": "stdout",
          "output_type": "stream",
          "text": [
            "Epoch 87, Batch 20, Loss: 0.004244954325258732\n"
          ]
        },
        {
          "name": "stderr",
          "output_type": "stream",
          "text": []
        },
        {
          "name": "stdout",
          "output_type": "stream",
          "text": [
            "Epoch 87, Batch 30, Loss: 0.010858193039894104\n"
          ]
        },
        {
          "name": "stderr",
          "output_type": "stream",
          "text": []
        },
        {
          "name": "stdout",
          "output_type": "stream",
          "text": [
            "Epoch 87, Batch 40, Loss: 0.009062803350389004\n"
          ]
        },
        {
          "name": "stderr",
          "output_type": "stream",
          "text": []
        },
        {
          "name": "stdout",
          "output_type": "stream",
          "text": [
            "Epoch 87, Batch 50, Loss: 0.008193704299628735\n"
          ]
        },
        {
          "name": "stderr",
          "output_type": "stream",
          "text": []
        },
        {
          "name": "stdout",
          "output_type": "stream",
          "text": [
            "Epoch 87, Batch 60, Loss: 0.0029882616363465786\n"
          ]
        },
        {
          "name": "stderr",
          "output_type": "stream",
          "text": []
        },
        {
          "name": "stdout",
          "output_type": "stream",
          "text": [
            "Epoch 87, Batch 70, Loss: 0.006046729162335396\n"
          ]
        },
        {
          "name": "stderr",
          "output_type": "stream",
          "text": []
        },
        {
          "name": "stdout",
          "output_type": "stream",
          "text": [
            "Epoch 87, Batch 80, Loss: 0.0044098347425460815\n"
          ]
        },
        {
          "name": "stderr",
          "output_type": "stream",
          "text": []
        },
        {
          "name": "stdout",
          "output_type": "stream",
          "text": [
            "Epoch 87, Batch 90, Loss: 0.005961727816611528\n"
          ]
        },
        {
          "name": "stderr",
          "output_type": "stream",
          "text": [
            "Epoch:  88%|████████▊ | 88/100 [46:37<06:20, 31.70s/it]"
          ]
        },
        {
          "name": "stdout",
          "output_type": "stream",
          "text": [
            "Epoch 88, Batch 0, Loss: 0.005968322977423668\n"
          ]
        },
        {
          "name": "stderr",
          "output_type": "stream",
          "text": []
        },
        {
          "name": "stdout",
          "output_type": "stream",
          "text": [
            "Epoch 88, Batch 10, Loss: 0.005481491796672344\n"
          ]
        },
        {
          "name": "stderr",
          "output_type": "stream",
          "text": []
        },
        {
          "name": "stdout",
          "output_type": "stream",
          "text": [
            "Epoch 88, Batch 20, Loss: 0.004266311880201101\n"
          ]
        },
        {
          "name": "stderr",
          "output_type": "stream",
          "text": []
        },
        {
          "name": "stdout",
          "output_type": "stream",
          "text": [
            "Epoch 88, Batch 30, Loss: 0.005784132052212954\n"
          ]
        },
        {
          "name": "stderr",
          "output_type": "stream",
          "text": []
        },
        {
          "name": "stdout",
          "output_type": "stream",
          "text": [
            "Epoch 88, Batch 40, Loss: 0.0030560491140931845\n"
          ]
        },
        {
          "name": "stderr",
          "output_type": "stream",
          "text": []
        },
        {
          "name": "stdout",
          "output_type": "stream",
          "text": [
            "Epoch 88, Batch 50, Loss: 0.005342903081327677\n"
          ]
        },
        {
          "name": "stderr",
          "output_type": "stream",
          "text": []
        },
        {
          "name": "stdout",
          "output_type": "stream",
          "text": [
            "Epoch 88, Batch 60, Loss: 0.008519223891198635\n"
          ]
        },
        {
          "name": "stderr",
          "output_type": "stream",
          "text": []
        },
        {
          "name": "stdout",
          "output_type": "stream",
          "text": [
            "Epoch 88, Batch 70, Loss: 0.01592395082116127\n"
          ]
        },
        {
          "name": "stderr",
          "output_type": "stream",
          "text": []
        },
        {
          "name": "stdout",
          "output_type": "stream",
          "text": [
            "Epoch 88, Batch 80, Loss: 0.013158011250197887\n"
          ]
        },
        {
          "name": "stderr",
          "output_type": "stream",
          "text": []
        },
        {
          "name": "stdout",
          "output_type": "stream",
          "text": [
            "Epoch 88, Batch 90, Loss: 0.007185420952737331\n"
          ]
        },
        {
          "name": "stderr",
          "output_type": "stream",
          "text": [
            "Epoch:  89%|████████▉ | 89/100 [47:09<05:48, 31.67s/it]"
          ]
        },
        {
          "name": "stdout",
          "output_type": "stream",
          "text": [
            "Epoch 89, Batch 0, Loss: 0.013958401046693325\n"
          ]
        },
        {
          "name": "stderr",
          "output_type": "stream",
          "text": []
        },
        {
          "name": "stdout",
          "output_type": "stream",
          "text": [
            "Epoch 89, Batch 10, Loss: 0.005265415646135807\n"
          ]
        },
        {
          "name": "stderr",
          "output_type": "stream",
          "text": []
        },
        {
          "name": "stdout",
          "output_type": "stream",
          "text": [
            "Epoch 89, Batch 20, Loss: 0.0036481700371950865\n"
          ]
        },
        {
          "name": "stderr",
          "output_type": "stream",
          "text": []
        },
        {
          "name": "stdout",
          "output_type": "stream",
          "text": [
            "Epoch 89, Batch 30, Loss: 0.00801887083798647\n"
          ]
        },
        {
          "name": "stderr",
          "output_type": "stream",
          "text": []
        },
        {
          "name": "stdout",
          "output_type": "stream",
          "text": [
            "Epoch 89, Batch 40, Loss: 0.004744189791381359\n"
          ]
        },
        {
          "name": "stderr",
          "output_type": "stream",
          "text": []
        },
        {
          "name": "stdout",
          "output_type": "stream",
          "text": [
            "Epoch 89, Batch 50, Loss: 0.0038459738716483116\n"
          ]
        },
        {
          "name": "stderr",
          "output_type": "stream",
          "text": []
        },
        {
          "name": "stdout",
          "output_type": "stream",
          "text": [
            "Epoch 89, Batch 60, Loss: 0.006070858333259821\n"
          ]
        },
        {
          "name": "stderr",
          "output_type": "stream",
          "text": []
        },
        {
          "name": "stdout",
          "output_type": "stream",
          "text": [
            "Epoch 89, Batch 70, Loss: 0.0075088259764015675\n"
          ]
        },
        {
          "name": "stderr",
          "output_type": "stream",
          "text": []
        },
        {
          "name": "stdout",
          "output_type": "stream",
          "text": [
            "Epoch 89, Batch 80, Loss: 0.0024154973216354847\n"
          ]
        },
        {
          "name": "stderr",
          "output_type": "stream",
          "text": []
        },
        {
          "name": "stdout",
          "output_type": "stream",
          "text": [
            "Epoch 89, Batch 90, Loss: 0.006295537576079369\n"
          ]
        },
        {
          "name": "stderr",
          "output_type": "stream",
          "text": [
            "Epoch:  90%|█████████ | 90/100 [47:41<05:16, 31.68s/it]"
          ]
        },
        {
          "name": "stdout",
          "output_type": "stream",
          "text": [
            "Epoch 90, Batch 0, Loss: 0.00923341978341341\n"
          ]
        },
        {
          "name": "stderr",
          "output_type": "stream",
          "text": []
        },
        {
          "name": "stdout",
          "output_type": "stream",
          "text": [
            "Epoch 90, Batch 10, Loss: 0.005537156015634537\n"
          ]
        },
        {
          "name": "stderr",
          "output_type": "stream",
          "text": []
        },
        {
          "name": "stdout",
          "output_type": "stream",
          "text": [
            "Epoch 90, Batch 20, Loss: 0.0024931791704148054\n"
          ]
        },
        {
          "name": "stderr",
          "output_type": "stream",
          "text": []
        },
        {
          "name": "stdout",
          "output_type": "stream",
          "text": [
            "Epoch 90, Batch 30, Loss: 0.006348148453980684\n"
          ]
        },
        {
          "name": "stderr",
          "output_type": "stream",
          "text": []
        },
        {
          "name": "stdout",
          "output_type": "stream",
          "text": [
            "Epoch 90, Batch 40, Loss: 0.0030181787442415953\n"
          ]
        },
        {
          "name": "stderr",
          "output_type": "stream",
          "text": []
        },
        {
          "name": "stdout",
          "output_type": "stream",
          "text": [
            "Epoch 90, Batch 50, Loss: 0.0025040304753929377\n"
          ]
        },
        {
          "name": "stderr",
          "output_type": "stream",
          "text": []
        },
        {
          "name": "stdout",
          "output_type": "stream",
          "text": [
            "Epoch 90, Batch 60, Loss: 0.008943844586610794\n"
          ]
        },
        {
          "name": "stderr",
          "output_type": "stream",
          "text": []
        },
        {
          "name": "stdout",
          "output_type": "stream",
          "text": [
            "Epoch 90, Batch 70, Loss: 0.004098467528820038\n"
          ]
        },
        {
          "name": "stderr",
          "output_type": "stream",
          "text": []
        },
        {
          "name": "stdout",
          "output_type": "stream",
          "text": [
            "Epoch 90, Batch 80, Loss: 0.00450856052339077\n"
          ]
        },
        {
          "name": "stderr",
          "output_type": "stream",
          "text": []
        },
        {
          "name": "stdout",
          "output_type": "stream",
          "text": [
            "Epoch 90, Batch 90, Loss: 0.006081086117774248\n"
          ]
        },
        {
          "name": "stderr",
          "output_type": "stream",
          "text": [
            "Epoch:  91%|█████████ | 91/100 [48:13<04:45, 31.76s/it]"
          ]
        },
        {
          "name": "stdout",
          "output_type": "stream",
          "text": [
            "Epoch 91, Batch 0, Loss: 0.0025687734596431255\n"
          ]
        },
        {
          "name": "stderr",
          "output_type": "stream",
          "text": []
        },
        {
          "name": "stdout",
          "output_type": "stream",
          "text": [
            "Epoch 91, Batch 10, Loss: 0.002546780975535512\n"
          ]
        },
        {
          "name": "stderr",
          "output_type": "stream",
          "text": []
        },
        {
          "name": "stdout",
          "output_type": "stream",
          "text": [
            "Epoch 91, Batch 20, Loss: 0.007245756685733795\n"
          ]
        },
        {
          "name": "stderr",
          "output_type": "stream",
          "text": []
        },
        {
          "name": "stdout",
          "output_type": "stream",
          "text": [
            "Epoch 91, Batch 30, Loss: 0.003962195478379726\n"
          ]
        },
        {
          "name": "stderr",
          "output_type": "stream",
          "text": []
        },
        {
          "name": "stdout",
          "output_type": "stream",
          "text": [
            "Epoch 91, Batch 40, Loss: 0.002674092771485448\n"
          ]
        },
        {
          "name": "stderr",
          "output_type": "stream",
          "text": []
        },
        {
          "name": "stdout",
          "output_type": "stream",
          "text": [
            "Epoch 91, Batch 50, Loss: 0.0018059704452753067\n"
          ]
        },
        {
          "name": "stderr",
          "output_type": "stream",
          "text": []
        },
        {
          "name": "stdout",
          "output_type": "stream",
          "text": [
            "Epoch 91, Batch 60, Loss: 0.0024596655275672674\n"
          ]
        },
        {
          "name": "stderr",
          "output_type": "stream",
          "text": []
        },
        {
          "name": "stdout",
          "output_type": "stream",
          "text": [
            "Epoch 91, Batch 70, Loss: 0.007377460598945618\n"
          ]
        },
        {
          "name": "stderr",
          "output_type": "stream",
          "text": []
        },
        {
          "name": "stdout",
          "output_type": "stream",
          "text": [
            "Epoch 91, Batch 80, Loss: 0.001282864366658032\n"
          ]
        },
        {
          "name": "stderr",
          "output_type": "stream",
          "text": []
        },
        {
          "name": "stdout",
          "output_type": "stream",
          "text": [
            "Epoch 91, Batch 90, Loss: 0.002171096159145236\n"
          ]
        },
        {
          "name": "stderr",
          "output_type": "stream",
          "text": [
            "Epoch:  92%|█████████▏| 92/100 [48:44<04:14, 31.78s/it]"
          ]
        },
        {
          "name": "stdout",
          "output_type": "stream",
          "text": [
            "Epoch 92, Batch 0, Loss: 0.0036010348703712225\n"
          ]
        },
        {
          "name": "stderr",
          "output_type": "stream",
          "text": []
        },
        {
          "name": "stdout",
          "output_type": "stream",
          "text": [
            "Epoch 92, Batch 10, Loss: 0.0019388683140277863\n"
          ]
        },
        {
          "name": "stderr",
          "output_type": "stream",
          "text": []
        },
        {
          "name": "stdout",
          "output_type": "stream",
          "text": [
            "Epoch 92, Batch 20, Loss: 0.0032671408262103796\n"
          ]
        },
        {
          "name": "stderr",
          "output_type": "stream",
          "text": []
        },
        {
          "name": "stdout",
          "output_type": "stream",
          "text": [
            "Epoch 92, Batch 30, Loss: 0.008852814324200153\n"
          ]
        },
        {
          "name": "stderr",
          "output_type": "stream",
          "text": []
        },
        {
          "name": "stdout",
          "output_type": "stream",
          "text": [
            "Epoch 92, Batch 40, Loss: 0.004608485382050276\n"
          ]
        },
        {
          "name": "stderr",
          "output_type": "stream",
          "text": []
        },
        {
          "name": "stdout",
          "output_type": "stream",
          "text": [
            "Epoch 92, Batch 50, Loss: 0.0018593883141875267\n"
          ]
        },
        {
          "name": "stderr",
          "output_type": "stream",
          "text": []
        },
        {
          "name": "stdout",
          "output_type": "stream",
          "text": [
            "Epoch 92, Batch 60, Loss: 0.002334450837224722\n"
          ]
        },
        {
          "name": "stderr",
          "output_type": "stream",
          "text": []
        },
        {
          "name": "stdout",
          "output_type": "stream",
          "text": [
            "Epoch 92, Batch 70, Loss: 0.0030833191704005003\n"
          ]
        },
        {
          "name": "stderr",
          "output_type": "stream",
          "text": []
        },
        {
          "name": "stdout",
          "output_type": "stream",
          "text": [
            "Epoch 92, Batch 80, Loss: 0.001162656699307263\n"
          ]
        },
        {
          "name": "stderr",
          "output_type": "stream",
          "text": []
        },
        {
          "name": "stdout",
          "output_type": "stream",
          "text": [
            "Epoch 92, Batch 90, Loss: 0.0025249216705560684\n"
          ]
        },
        {
          "name": "stderr",
          "output_type": "stream",
          "text": [
            "Epoch:  93%|█████████▎| 93/100 [49:16<03:42, 31.85s/it]"
          ]
        },
        {
          "name": "stdout",
          "output_type": "stream",
          "text": [
            "Epoch 93, Batch 0, Loss: 0.004318303894251585\n"
          ]
        },
        {
          "name": "stderr",
          "output_type": "stream",
          "text": []
        },
        {
          "name": "stdout",
          "output_type": "stream",
          "text": [
            "Epoch 93, Batch 10, Loss: 0.006345716305077076\n"
          ]
        },
        {
          "name": "stderr",
          "output_type": "stream",
          "text": []
        },
        {
          "name": "stdout",
          "output_type": "stream",
          "text": [
            "Epoch 93, Batch 20, Loss: 0.0061251139268279076\n"
          ]
        },
        {
          "name": "stderr",
          "output_type": "stream",
          "text": []
        },
        {
          "name": "stdout",
          "output_type": "stream",
          "text": [
            "Epoch 93, Batch 30, Loss: 0.006072103511542082\n"
          ]
        },
        {
          "name": "stderr",
          "output_type": "stream",
          "text": []
        },
        {
          "name": "stdout",
          "output_type": "stream",
          "text": [
            "Epoch 93, Batch 40, Loss: 0.0021406803280115128\n"
          ]
        },
        {
          "name": "stderr",
          "output_type": "stream",
          "text": []
        },
        {
          "name": "stdout",
          "output_type": "stream",
          "text": [
            "Epoch 93, Batch 50, Loss: 0.0009851378854364157\n"
          ]
        },
        {
          "name": "stderr",
          "output_type": "stream",
          "text": []
        },
        {
          "name": "stdout",
          "output_type": "stream",
          "text": [
            "Epoch 93, Batch 60, Loss: 0.0021985850762575865\n"
          ]
        },
        {
          "name": "stderr",
          "output_type": "stream",
          "text": []
        },
        {
          "name": "stdout",
          "output_type": "stream",
          "text": [
            "Epoch 93, Batch 70, Loss: 0.002591464202851057\n"
          ]
        },
        {
          "name": "stderr",
          "output_type": "stream",
          "text": []
        },
        {
          "name": "stdout",
          "output_type": "stream",
          "text": [
            "Epoch 93, Batch 80, Loss: 0.0017335667507722974\n"
          ]
        },
        {
          "name": "stderr",
          "output_type": "stream",
          "text": []
        },
        {
          "name": "stdout",
          "output_type": "stream",
          "text": [
            "Epoch 93, Batch 90, Loss: 0.002964376239106059\n"
          ]
        },
        {
          "name": "stderr",
          "output_type": "stream",
          "text": [
            "Epoch:  94%|█████████▍| 94/100 [49:48<03:10, 31.79s/it]"
          ]
        },
        {
          "name": "stdout",
          "output_type": "stream",
          "text": [
            "Epoch 94, Batch 0, Loss: 0.002305240137502551\n"
          ]
        },
        {
          "name": "stderr",
          "output_type": "stream",
          "text": []
        },
        {
          "name": "stdout",
          "output_type": "stream",
          "text": [
            "Epoch 94, Batch 10, Loss: 0.0029834769666194916\n"
          ]
        },
        {
          "name": "stderr",
          "output_type": "stream",
          "text": []
        },
        {
          "name": "stdout",
          "output_type": "stream",
          "text": [
            "Epoch 94, Batch 20, Loss: 0.00480224471539259\n"
          ]
        },
        {
          "name": "stderr",
          "output_type": "stream",
          "text": []
        },
        {
          "name": "stdout",
          "output_type": "stream",
          "text": [
            "Epoch 94, Batch 30, Loss: 0.0032894578762352467\n"
          ]
        },
        {
          "name": "stderr",
          "output_type": "stream",
          "text": []
        },
        {
          "name": "stdout",
          "output_type": "stream",
          "text": [
            "Epoch 94, Batch 40, Loss: 0.0026512080803513527\n"
          ]
        },
        {
          "name": "stderr",
          "output_type": "stream",
          "text": []
        },
        {
          "name": "stdout",
          "output_type": "stream",
          "text": [
            "Epoch 94, Batch 50, Loss: 0.0028896541334688663\n"
          ]
        },
        {
          "name": "stderr",
          "output_type": "stream",
          "text": []
        },
        {
          "name": "stdout",
          "output_type": "stream",
          "text": [
            "Epoch 94, Batch 60, Loss: 0.001584616955369711\n"
          ]
        },
        {
          "name": "stderr",
          "output_type": "stream",
          "text": []
        },
        {
          "name": "stdout",
          "output_type": "stream",
          "text": [
            "Epoch 94, Batch 70, Loss: 0.0017750143306329846\n"
          ]
        },
        {
          "name": "stderr",
          "output_type": "stream",
          "text": []
        },
        {
          "name": "stdout",
          "output_type": "stream",
          "text": [
            "Epoch 94, Batch 80, Loss: 0.0011752875288948417\n"
          ]
        },
        {
          "name": "stderr",
          "output_type": "stream",
          "text": []
        },
        {
          "name": "stdout",
          "output_type": "stream",
          "text": [
            "Epoch 94, Batch 90, Loss: 0.0028364236932247877\n"
          ]
        },
        {
          "name": "stderr",
          "output_type": "stream",
          "text": [
            "Epoch:  95%|█████████▌| 95/100 [50:20<02:38, 31.76s/it]"
          ]
        },
        {
          "name": "stdout",
          "output_type": "stream",
          "text": [
            "Epoch 95, Batch 0, Loss: 0.0005809020367451012\n"
          ]
        },
        {
          "name": "stderr",
          "output_type": "stream",
          "text": []
        },
        {
          "name": "stdout",
          "output_type": "stream",
          "text": [
            "Epoch 95, Batch 10, Loss: 0.0015043439343571663\n"
          ]
        },
        {
          "name": "stderr",
          "output_type": "stream",
          "text": []
        },
        {
          "name": "stdout",
          "output_type": "stream",
          "text": [
            "Epoch 95, Batch 20, Loss: 0.0025832275860011578\n"
          ]
        },
        {
          "name": "stderr",
          "output_type": "stream",
          "text": []
        },
        {
          "name": "stdout",
          "output_type": "stream",
          "text": [
            "Epoch 95, Batch 30, Loss: 0.0026819207705557346\n"
          ]
        },
        {
          "name": "stderr",
          "output_type": "stream",
          "text": []
        },
        {
          "name": "stdout",
          "output_type": "stream",
          "text": [
            "Epoch 95, Batch 40, Loss: 0.0036146172787994146\n"
          ]
        },
        {
          "name": "stderr",
          "output_type": "stream",
          "text": []
        },
        {
          "name": "stdout",
          "output_type": "stream",
          "text": [
            "Epoch 95, Batch 50, Loss: 0.0026331418193876743\n"
          ]
        },
        {
          "name": "stderr",
          "output_type": "stream",
          "text": []
        },
        {
          "name": "stdout",
          "output_type": "stream",
          "text": [
            "Epoch 95, Batch 60, Loss: 0.0022358945570886135\n"
          ]
        },
        {
          "name": "stderr",
          "output_type": "stream",
          "text": []
        },
        {
          "name": "stdout",
          "output_type": "stream",
          "text": [
            "Epoch 95, Batch 70, Loss: 0.0017641664016991854\n"
          ]
        },
        {
          "name": "stderr",
          "output_type": "stream",
          "text": []
        },
        {
          "name": "stdout",
          "output_type": "stream",
          "text": [
            "Epoch 95, Batch 80, Loss: 0.008777720853686333\n"
          ]
        },
        {
          "name": "stderr",
          "output_type": "stream",
          "text": []
        },
        {
          "name": "stdout",
          "output_type": "stream",
          "text": [
            "Epoch 95, Batch 90, Loss: 0.0030845007859170437\n"
          ]
        },
        {
          "name": "stderr",
          "output_type": "stream",
          "text": [
            "Epoch:  96%|█████████▌| 96/100 [50:51<02:06, 31.72s/it]"
          ]
        },
        {
          "name": "stdout",
          "output_type": "stream",
          "text": [
            "Epoch 96, Batch 0, Loss: 0.001074683852493763\n"
          ]
        },
        {
          "name": "stderr",
          "output_type": "stream",
          "text": []
        },
        {
          "name": "stdout",
          "output_type": "stream",
          "text": [
            "Epoch 96, Batch 10, Loss: 0.001553395763039589\n"
          ]
        },
        {
          "name": "stderr",
          "output_type": "stream",
          "text": []
        },
        {
          "name": "stdout",
          "output_type": "stream",
          "text": [
            "Epoch 96, Batch 20, Loss: 0.0014797095209360123\n"
          ]
        },
        {
          "name": "stderr",
          "output_type": "stream",
          "text": []
        },
        {
          "name": "stdout",
          "output_type": "stream",
          "text": [
            "Epoch 96, Batch 30, Loss: 0.0017362299840897322\n"
          ]
        },
        {
          "name": "stderr",
          "output_type": "stream",
          "text": []
        },
        {
          "name": "stdout",
          "output_type": "stream",
          "text": [
            "Epoch 96, Batch 40, Loss: 0.0007967468118295074\n"
          ]
        },
        {
          "name": "stderr",
          "output_type": "stream",
          "text": []
        },
        {
          "name": "stdout",
          "output_type": "stream",
          "text": [
            "Epoch 96, Batch 50, Loss: 0.0008390507427975535\n"
          ]
        },
        {
          "name": "stderr",
          "output_type": "stream",
          "text": []
        },
        {
          "name": "stdout",
          "output_type": "stream",
          "text": [
            "Epoch 96, Batch 60, Loss: 0.0005269543034955859\n"
          ]
        },
        {
          "name": "stderr",
          "output_type": "stream",
          "text": []
        },
        {
          "name": "stdout",
          "output_type": "stream",
          "text": [
            "Epoch 96, Batch 70, Loss: 0.002777493791654706\n"
          ]
        },
        {
          "name": "stderr",
          "output_type": "stream",
          "text": []
        },
        {
          "name": "stdout",
          "output_type": "stream",
          "text": [
            "Epoch 96, Batch 80, Loss: 0.003947874531149864\n"
          ]
        },
        {
          "name": "stderr",
          "output_type": "stream",
          "text": []
        },
        {
          "name": "stdout",
          "output_type": "stream",
          "text": [
            "Epoch 96, Batch 90, Loss: 0.002795059932395816\n"
          ]
        },
        {
          "name": "stderr",
          "output_type": "stream",
          "text": [
            "Epoch:  97%|█████████▋| 97/100 [51:23<01:35, 31.69s/it]"
          ]
        },
        {
          "name": "stdout",
          "output_type": "stream",
          "text": [
            "Epoch 97, Batch 0, Loss: 0.004439090844243765\n"
          ]
        },
        {
          "name": "stderr",
          "output_type": "stream",
          "text": []
        },
        {
          "name": "stdout",
          "output_type": "stream",
          "text": [
            "Epoch 97, Batch 10, Loss: 0.0012773595517501235\n"
          ]
        },
        {
          "name": "stderr",
          "output_type": "stream",
          "text": []
        },
        {
          "name": "stdout",
          "output_type": "stream",
          "text": [
            "Epoch 97, Batch 20, Loss: 0.0013557150959968567\n"
          ]
        },
        {
          "name": "stderr",
          "output_type": "stream",
          "text": []
        },
        {
          "name": "stdout",
          "output_type": "stream",
          "text": [
            "Epoch 97, Batch 30, Loss: 0.0014122948050498962\n"
          ]
        },
        {
          "name": "stderr",
          "output_type": "stream",
          "text": []
        },
        {
          "name": "stdout",
          "output_type": "stream",
          "text": [
            "Epoch 97, Batch 40, Loss: 0.004370799753814936\n"
          ]
        },
        {
          "name": "stderr",
          "output_type": "stream",
          "text": []
        },
        {
          "name": "stdout",
          "output_type": "stream",
          "text": [
            "Epoch 97, Batch 50, Loss: 0.0028495590668171644\n"
          ]
        },
        {
          "name": "stderr",
          "output_type": "stream",
          "text": []
        },
        {
          "name": "stdout",
          "output_type": "stream",
          "text": [
            "Epoch 97, Batch 60, Loss: 0.0011262035695835948\n"
          ]
        },
        {
          "name": "stderr",
          "output_type": "stream",
          "text": []
        },
        {
          "name": "stdout",
          "output_type": "stream",
          "text": [
            "Epoch 97, Batch 70, Loss: 0.00457643810659647\n"
          ]
        },
        {
          "name": "stderr",
          "output_type": "stream",
          "text": []
        },
        {
          "name": "stdout",
          "output_type": "stream",
          "text": [
            "Epoch 97, Batch 80, Loss: 0.002392886206507683\n"
          ]
        },
        {
          "name": "stderr",
          "output_type": "stream",
          "text": []
        },
        {
          "name": "stdout",
          "output_type": "stream",
          "text": [
            "Epoch 97, Batch 90, Loss: 0.003528483444824815\n"
          ]
        },
        {
          "name": "stderr",
          "output_type": "stream",
          "text": [
            "Epoch:  98%|█████████▊| 98/100 [51:55<01:03, 31.78s/it]"
          ]
        },
        {
          "name": "stdout",
          "output_type": "stream",
          "text": [
            "Epoch 98, Batch 0, Loss: 0.0013632297050207853\n"
          ]
        },
        {
          "name": "stderr",
          "output_type": "stream",
          "text": []
        },
        {
          "name": "stdout",
          "output_type": "stream",
          "text": [
            "Epoch 98, Batch 10, Loss: 0.0018629482947289944\n"
          ]
        },
        {
          "name": "stderr",
          "output_type": "stream",
          "text": []
        },
        {
          "name": "stdout",
          "output_type": "stream",
          "text": [
            "Epoch 98, Batch 20, Loss: 0.0009041162556968629\n"
          ]
        },
        {
          "name": "stderr",
          "output_type": "stream",
          "text": []
        },
        {
          "name": "stdout",
          "output_type": "stream",
          "text": [
            "Epoch 98, Batch 30, Loss: 0.0007462063804268837\n"
          ]
        },
        {
          "name": "stderr",
          "output_type": "stream",
          "text": []
        },
        {
          "name": "stdout",
          "output_type": "stream",
          "text": [
            "Epoch 98, Batch 40, Loss: 0.0006233271560631692\n"
          ]
        },
        {
          "name": "stderr",
          "output_type": "stream",
          "text": []
        },
        {
          "name": "stdout",
          "output_type": "stream",
          "text": [
            "Epoch 98, Batch 50, Loss: 0.0020601071882992983\n"
          ]
        },
        {
          "name": "stderr",
          "output_type": "stream",
          "text": []
        },
        {
          "name": "stdout",
          "output_type": "stream",
          "text": [
            "Epoch 98, Batch 60, Loss: 0.0007102392264641821\n"
          ]
        },
        {
          "name": "stderr",
          "output_type": "stream",
          "text": []
        },
        {
          "name": "stdout",
          "output_type": "stream",
          "text": [
            "Epoch 98, Batch 70, Loss: 0.0005921609117649496\n"
          ]
        },
        {
          "name": "stderr",
          "output_type": "stream",
          "text": []
        },
        {
          "name": "stdout",
          "output_type": "stream",
          "text": [
            "Epoch 98, Batch 80, Loss: 0.0017807057593017817\n"
          ]
        },
        {
          "name": "stderr",
          "output_type": "stream",
          "text": []
        },
        {
          "name": "stdout",
          "output_type": "stream",
          "text": [
            "Epoch 98, Batch 90, Loss: 0.0005712839192710817\n"
          ]
        },
        {
          "name": "stderr",
          "output_type": "stream",
          "text": [
            "Epoch:  99%|█████████▉| 99/100 [52:28<00:32, 32.02s/it]"
          ]
        },
        {
          "name": "stdout",
          "output_type": "stream",
          "text": [
            "Epoch 99, Batch 0, Loss: 0.0008252875413745642\n"
          ]
        },
        {
          "name": "stderr",
          "output_type": "stream",
          "text": []
        },
        {
          "name": "stdout",
          "output_type": "stream",
          "text": [
            "Epoch 99, Batch 10, Loss: 0.00290026911534369\n"
          ]
        },
        {
          "name": "stderr",
          "output_type": "stream",
          "text": []
        },
        {
          "name": "stdout",
          "output_type": "stream",
          "text": [
            "Epoch 99, Batch 20, Loss: 0.0025920828338712454\n"
          ]
        },
        {
          "name": "stderr",
          "output_type": "stream",
          "text": []
        },
        {
          "name": "stdout",
          "output_type": "stream",
          "text": [
            "Epoch 99, Batch 30, Loss: 0.003507895627990365\n"
          ]
        },
        {
          "name": "stderr",
          "output_type": "stream",
          "text": []
        },
        {
          "name": "stdout",
          "output_type": "stream",
          "text": [
            "Epoch 99, Batch 40, Loss: 0.0010184973943978548\n"
          ]
        },
        {
          "name": "stderr",
          "output_type": "stream",
          "text": []
        },
        {
          "name": "stdout",
          "output_type": "stream",
          "text": [
            "Epoch 99, Batch 50, Loss: 0.0018006853060796857\n"
          ]
        },
        {
          "name": "stderr",
          "output_type": "stream",
          "text": []
        },
        {
          "name": "stdout",
          "output_type": "stream",
          "text": [
            "Epoch 99, Batch 60, Loss: 0.0016487385146319866\n"
          ]
        },
        {
          "name": "stderr",
          "output_type": "stream",
          "text": []
        },
        {
          "name": "stdout",
          "output_type": "stream",
          "text": [
            "Epoch 99, Batch 70, Loss: 0.0024415033403784037\n"
          ]
        },
        {
          "name": "stderr",
          "output_type": "stream",
          "text": []
        },
        {
          "name": "stdout",
          "output_type": "stream",
          "text": [
            "Epoch 99, Batch 80, Loss: 0.002229855628684163\n"
          ]
        },
        {
          "name": "stderr",
          "output_type": "stream",
          "text": []
        },
        {
          "name": "stdout",
          "output_type": "stream",
          "text": [
            "Epoch 99, Batch 90, Loss: 0.0007555995834991336\n"
          ]
        },
        {
          "name": "stderr",
          "output_type": "stream",
          "text": [
            "Epoch: 100%|██████████| 100/100 [53:00<00:00, 31.81s/it]\n"
          ]
        }
      ],
      "source": [
        "imm.train(dataloader, None, num_epochs=100, lr=1e-4, device='cuda')"
      ]
    },
    {
      "cell_type": "code",
      "execution_count": 9,
      "metadata": {
        "colab": {
          "base_uri": "https://localhost:8080/"
        },
        "id": "6F3hUbIuxGdO",
        "outputId": "1c77956b-0006-403d-a9af-ce41def182bc"
      },
      "outputs": [],
      "source": [
        "#@markdown ### **Loading Pretrained Checkpoint**\n",
        "#@markdown Set `load_pretrained = True` to load pretrained weights.\n",
        "\n",
        "\n",
        "ckpt_path = \"ckpts/model_checkpoint_6_0_6.084841061237967e-06.pth\"\n",
        "\n",
        "state_dict = torch.load(ckpt_path, map_location='cuda')\n",
        "noise_pred_net.load_state_dict(state_dict['model_state_dict'])\n",
        "imm.model = noise_pred_net "
      ]
    },
    {
      "cell_type": "code",
      "execution_count": 23,
      "metadata": {
        "colab": {
          "base_uri": "https://localhost:8080/",
          "height": 327,
          "referenced_widgets": [
            "1c17844c76d84675aa1c6e1a973308c8",
            "aa9489756ac24ba0b523f04a3352a09f",
            "51ff5f151bc9475fa3a5c54f8b60a50e",
            "58656f1d31ac45d3aaef45aa22f69899",
            "b9f98d2d7c624a8eae13fa5b422739ce",
            "b72ff2e7020f447fb492c1e9f69a0174",
            "567e3614e80743e5ae1f8e3c75a65b45",
            "187c8fd96f79429bb0752103d5998401",
            "17d07e24261b4627b1160beeb59c5636",
            "269772eda6cc4449bbba9e1e684b442c",
            "7cad813857df45f3ad617c74c68a619e"
          ]
        },
        "id": "OyLjlNQk5nr9",
        "outputId": "a104d1d1-f25a-456d-cac9-520ff50f455f"
      },
      "outputs": [
        {
          "name": "stderr",
          "output_type": "stream",
          "text": [
            "Eval PushTStateEnv: 201it [00:01, 191.77it/s, reward=0]                         \n"
          ]
        },
        {
          "name": "stdout",
          "output_type": "stream",
          "text": [
            "Score:  0.0\n"
          ]
        },
        {
          "data": {
            "text/html": [
              "<video controls  width=\"256\"  height=\"256\">\n",
              " <source src=\"data:video/mp4;base64,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\" type=\"video/mp4\">\n",
              " Your browser does not support the video tag.\n",
              " </video>"
            ],
            "text/plain": [
              "<IPython.core.display.Video object>"
            ]
          },
          "execution_count": 23,
          "metadata": {},
          "output_type": "execute_result"
        }
      ],
      "source": [
        "#@markdown ### **Inference**\n",
        "\n",
        "# limit enviornment interaction to 200 steps before termination\n",
        "max_steps = 200\n",
        "env = PushTEnv()\n",
        "# use a seed >200 to avoid initial states seen in the training dataset\n",
        "env.seed(100000)\n",
        "\n",
        "# get first observation\n",
        "obs, info = env.reset()\n",
        "\n",
        "# keep a queue of last 2 steps of observations\n",
        "obs_deque = collections.deque(\n",
        "    [obs] * obs_horizon, maxlen=obs_horizon)\n",
        "# save visualization and rewards\n",
        "imgs = [env.render(mode='rgb_array')]\n",
        "rewards = list()\n",
        "done = False\n",
        "step_idx = 0\n",
        "\n",
        "with tqdm(total=max_steps, desc=\"Eval PushTStateEnv\") as pbar:\n",
        "    while not done:\n",
        "        B = 1\n",
        "        # stack the last obs_horizon (2) number of observations\n",
        "        obs_seq = np.stack(obs_deque)\n",
        "        # normalize observation\n",
        "        nobs = normalize_data(obs_seq, stats=stats['obs'])\n",
        "        # device transfer\n",
        "        nobs = torch.from_numpy(nobs).to(device, dtype=torch.float32)\n",
        "\n",
        "        # infer action\n",
        "        with torch.no_grad():\n",
        "            # reshape observation to (B,obs_horizon*obs_dim)\n",
        "            obs_cond = nobs.unsqueeze(0).flatten(start_dim=1)\n",
        "\n",
        "            # initialize action from Guassian noise\n",
        "            noisy_action = torch.randn(\n",
        "                (B, pred_horizon, action_dim), device=device)\n",
        "            naction = noisy_action\n",
        "\n",
        "            r = imm.sample(shape=(1, pred_horizon, action_dim), steps=10, global_cond=obs_cond)\n",
        "            # for k in noise_scheduler.timesteps:\n",
        "            #     # predict noise\n",
        "            #     noise_pred = ema_noise_pred_net(\n",
        "            #         sample=naction,\n",
        "            #         timestep=k,\n",
        "            #         global_cond=obs_cond\n",
        "            #     )\n",
        "\n",
        "            #     # inverse diffusion step (remove noise)\n",
        "            #     naction = noise_scheduler.step(\n",
        "            #         model_output=noise_pred,\n",
        "            #         timestep=k,\n",
        "            #         sample=naction\n",
        "            #     ).prev_sample\n",
        "\n",
        "        # unnormalize action\n",
        "        naction = naction.detach().to('cpu').numpy()\n",
        "        # (B, pred_horizon, action_dim)\n",
        "        naction = naction[0]\n",
        "        action_pred = unnormalize_data(naction, stats=stats['action'])\n",
        "\n",
        "        # only take action_horizon number of actions\n",
        "        start = obs_horizon - 1\n",
        "        end = start + action_horizon\n",
        "        action = action_pred[start:end,:]\n",
        "        # (action_horizon, action_dim)\n",
        "\n",
        "        # execute action_horizon number of steps\n",
        "        # without replanning\n",
        "        for i in range(len(action)):\n",
        "            # stepping env\n",
        "            obs, reward, done, _, info = env.step(action[i])\n",
        "            # save observations\n",
        "            obs_deque.append(obs)\n",
        "            # and reward/vis\n",
        "            rewards.append(reward)\n",
        "            imgs.append(env.render(mode='rgb_array'))\n",
        "\n",
        "            # update progress bar\n",
        "            step_idx += 1\n",
        "            pbar.update(1)\n",
        "            pbar.set_postfix(reward=reward)\n",
        "            if step_idx > max_steps:\n",
        "                done = True\n",
        "            if done:\n",
        "                break\n",
        "\n",
        "# print out the maximum target coverage\n",
        "print('Score: ', max(rewards))\n",
        "\n",
        "# visualize\n",
        "from IPython.display import Video\n",
        "vwrite('vis.mp4', imgs)\n",
        "Video('vis.mp4', embed=True, width=256, height=256)"
      ]
    }
  ],
  "metadata": {
    "accelerator": "GPU",
    "colab": {
      "provenance": []
    },
    "gpuClass": "standard",
    "kernelspec": {
      "display_name": "venv",
      "language": "python",
      "name": "python3"
    },
    "language_info": {
      "codemirror_mode": {
        "name": "ipython",
        "version": 3
      },
      "file_extension": ".py",
      "mimetype": "text/x-python",
      "name": "python",
      "nbconvert_exporter": "python",
      "pygments_lexer": "ipython3",
      "version": "3.10.12"
    },
    "widgets": {
      "application/vnd.jupyter.widget-state+json": {
        "019444645b164b92a8da32e94a443d7e": {
          "model_module": "@jupyter-widgets/base",
          "model_module_version": "1.2.0",
          "model_name": "LayoutModel",
          "state": {
            "_model_module": "@jupyter-widgets/base",
            "_model_module_version": "1.2.0",
            "_model_name": "LayoutModel",
            "_view_count": null,
            "_view_module": "@jupyter-widgets/base",
            "_view_module_version": "1.2.0",
            "_view_name": "LayoutView",
            "align_content": null,
            "align_items": null,
            "align_self": null,
            "border": null,
            "bottom": null,
            "display": null,
            "flex": null,
            "flex_flow": null,
            "grid_area": null,
            "grid_auto_columns": null,
            "grid_auto_flow": null,
            "grid_auto_rows": null,
            "grid_column": null,
            "grid_gap": null,
            "grid_row": null,
            "grid_template_areas": null,
            "grid_template_columns": null,
            "grid_template_rows": null,
            "height": null,
            "justify_content": null,
            "justify_items": null,
            "left": null,
            "margin": null,
            "max_height": null,
            "max_width": null,
            "min_height": null,
            "min_width": null,
            "object_fit": null,
            "object_position": null,
            "order": null,
            "overflow": null,
            "overflow_x": null,
            "overflow_y": null,
            "padding": null,
            "right": null,
            "top": null,
            "visibility": null,
            "width": null
          }
        },
        "03bbeb04a4c44206b1671e69864e69c7": {
          "model_module": "@jupyter-widgets/controls",
          "model_module_version": "1.5.0",
          "model_name": "ProgressStyleModel",
          "state": {
            "_model_module": "@jupyter-widgets/controls",
            "_model_module_version": "1.5.0",
            "_model_name": "ProgressStyleModel",
            "_view_count": null,
            "_view_module": "@jupyter-widgets/base",
            "_view_module_version": "1.2.0",
            "_view_name": "StyleView",
            "bar_color": null,
            "description_width": ""
          }
        },
        "0964ed28f2794bdf91e2e2756aae3bc4": {
          "model_module": "@jupyter-widgets/base",
          "model_module_version": "1.2.0",
          "model_name": "LayoutModel",
          "state": {
            "_model_module": "@jupyter-widgets/base",
            "_model_module_version": "1.2.0",
            "_model_name": "LayoutModel",
            "_view_count": null,
            "_view_module": "@jupyter-widgets/base",
            "_view_module_version": "1.2.0",
            "_view_name": "LayoutView",
            "align_content": null,
            "align_items": null,
            "align_self": null,
            "border": null,
            "bottom": null,
            "display": null,
            "flex": null,
            "flex_flow": null,
            "grid_area": null,
            "grid_auto_columns": null,
            "grid_auto_flow": null,
            "grid_auto_rows": null,
            "grid_column": null,
            "grid_gap": null,
            "grid_row": null,
            "grid_template_areas": null,
            "grid_template_columns": null,
            "grid_template_rows": null,
            "height": null,
            "justify_content": null,
            "justify_items": null,
            "left": null,
            "margin": null,
            "max_height": null,
            "max_width": null,
            "min_height": null,
            "min_width": null,
            "object_fit": null,
            "object_position": null,
            "order": null,
            "overflow": null,
            "overflow_x": null,
            "overflow_y": null,
            "padding": null,
            "right": null,
            "top": null,
            "visibility": null,
            "width": null
          }
        },
        "0d687f5624cb4871ad167ebcbcb4c148": {
          "model_module": "@jupyter-widgets/controls",
          "model_module_version": "1.5.0",
          "model_name": "FloatProgressModel",
          "state": {
            "_dom_classes": [],
            "_model_module": "@jupyter-widgets/controls",
            "_model_module_version": "1.5.0",
            "_model_name": "FloatProgressModel",
            "_view_count": null,
            "_view_module": "@jupyter-widgets/controls",
            "_view_module_version": "1.5.0",
            "_view_name": "ProgressView",
            "bar_style": "success",
            "description": "",
            "description_tooltip": null,
            "layout": "IPY_MODEL_116ecf0deb6e44faadb594f2f982c4c2",
            "max": 1,
            "min": 0,
            "orientation": "horizontal",
            "style": "IPY_MODEL_2db415245cbb44c8ab5c208be328fc16",
            "value": 1
          }
        },
        "116ecf0deb6e44faadb594f2f982c4c2": {
          "model_module": "@jupyter-widgets/base",
          "model_module_version": "1.2.0",
          "model_name": "LayoutModel",
          "state": {
            "_model_module": "@jupyter-widgets/base",
            "_model_module_version": "1.2.0",
            "_model_name": "LayoutModel",
            "_view_count": null,
            "_view_module": "@jupyter-widgets/base",
            "_view_module_version": "1.2.0",
            "_view_name": "LayoutView",
            "align_content": null,
            "align_items": null,
            "align_self": null,
            "border": null,
            "bottom": null,
            "display": null,
            "flex": null,
            "flex_flow": null,
            "grid_area": null,
            "grid_auto_columns": null,
            "grid_auto_flow": null,
            "grid_auto_rows": null,
            "grid_column": null,
            "grid_gap": null,
            "grid_row": null,
            "grid_template_areas": null,
            "grid_template_columns": null,
            "grid_template_rows": null,
            "height": null,
            "justify_content": null,
            "justify_items": null,
            "left": null,
            "margin": null,
            "max_height": null,
            "max_width": null,
            "min_height": null,
            "min_width": null,
            "object_fit": null,
            "object_position": null,
            "order": null,
            "overflow": null,
            "overflow_x": null,
            "overflow_y": null,
            "padding": null,
            "right": null,
            "top": null,
            "visibility": null,
            "width": null
          }
        },
        "17d07e24261b4627b1160beeb59c5636": {
          "model_module": "@jupyter-widgets/controls",
          "model_module_version": "1.5.0",
          "model_name": "ProgressStyleModel",
          "state": {
            "_model_module": "@jupyter-widgets/controls",
            "_model_module_version": "1.5.0",
            "_model_name": "ProgressStyleModel",
            "_view_count": null,
            "_view_module": "@jupyter-widgets/base",
            "_view_module_version": "1.2.0",
            "_view_name": "StyleView",
            "bar_color": null,
            "description_width": ""
          }
        },
        "187c8fd96f79429bb0752103d5998401": {
          "model_module": "@jupyter-widgets/base",
          "model_module_version": "1.2.0",
          "model_name": "LayoutModel",
          "state": {
            "_model_module": "@jupyter-widgets/base",
            "_model_module_version": "1.2.0",
            "_model_name": "LayoutModel",
            "_view_count": null,
            "_view_module": "@jupyter-widgets/base",
            "_view_module_version": "1.2.0",
            "_view_name": "LayoutView",
            "align_content": null,
            "align_items": null,
            "align_self": null,
            "border": null,
            "bottom": null,
            "display": null,
            "flex": null,
            "flex_flow": null,
            "grid_area": null,
            "grid_auto_columns": null,
            "grid_auto_flow": null,
            "grid_auto_rows": null,
            "grid_column": null,
            "grid_gap": null,
            "grid_row": null,
            "grid_template_areas": null,
            "grid_template_columns": null,
            "grid_template_rows": null,
            "height": null,
            "justify_content": null,
            "justify_items": null,
            "left": null,
            "margin": null,
            "max_height": null,
            "max_width": null,
            "min_height": null,
            "min_width": null,
            "object_fit": null,
            "object_position": null,
            "order": null,
            "overflow": null,
            "overflow_x": null,
            "overflow_y": null,
            "padding": null,
            "right": null,
            "top": null,
            "visibility": null,
            "width": null
          }
        },
        "1939a1c3cc7a498fa5f05ac737b0af99": {
          "model_module": "@jupyter-widgets/controls",
          "model_module_version": "1.5.0",
          "model_name": "DescriptionStyleModel",
          "state": {
            "_model_module": "@jupyter-widgets/controls",
            "_model_module_version": "1.5.0",
            "_model_name": "DescriptionStyleModel",
            "_view_count": null,
            "_view_module": "@jupyter-widgets/base",
            "_view_module_version": "1.2.0",
            "_view_name": "StyleView",
            "description_width": ""
          }
        },
        "1c17844c76d84675aa1c6e1a973308c8": {
          "model_module": "@jupyter-widgets/controls",
          "model_module_version": "1.5.0",
          "model_name": "HBoxModel",
          "state": {
            "_dom_classes": [],
            "_model_module": "@jupyter-widgets/controls",
            "_model_module_version": "1.5.0",
            "_model_name": "HBoxModel",
            "_view_count": null,
            "_view_module": "@jupyter-widgets/controls",
            "_view_module_version": "1.5.0",
            "_view_name": "HBoxView",
            "box_style": "",
            "children": [
              "IPY_MODEL_aa9489756ac24ba0b523f04a3352a09f",
              "IPY_MODEL_51ff5f151bc9475fa3a5c54f8b60a50e",
              "IPY_MODEL_58656f1d31ac45d3aaef45aa22f69899"
            ],
            "layout": "IPY_MODEL_b9f98d2d7c624a8eae13fa5b422739ce"
          }
        },
        "269772eda6cc4449bbba9e1e684b442c": {
          "model_module": "@jupyter-widgets/base",
          "model_module_version": "1.2.0",
          "model_name": "LayoutModel",
          "state": {
            "_model_module": "@jupyter-widgets/base",
            "_model_module_version": "1.2.0",
            "_model_name": "LayoutModel",
            "_view_count": null,
            "_view_module": "@jupyter-widgets/base",
            "_view_module_version": "1.2.0",
            "_view_name": "LayoutView",
            "align_content": null,
            "align_items": null,
            "align_self": null,
            "border": null,
            "bottom": null,
            "display": null,
            "flex": null,
            "flex_flow": null,
            "grid_area": null,
            "grid_auto_columns": null,
            "grid_auto_flow": null,
            "grid_auto_rows": null,
            "grid_column": null,
            "grid_gap": null,
            "grid_row": null,
            "grid_template_areas": null,
            "grid_template_columns": null,
            "grid_template_rows": null,
            "height": null,
            "justify_content": null,
            "justify_items": null,
            "left": null,
            "margin": null,
            "max_height": null,
            "max_width": null,
            "min_height": null,
            "min_width": null,
            "object_fit": null,
            "object_position": null,
            "order": null,
            "overflow": null,
            "overflow_x": null,
            "overflow_y": null,
            "padding": null,
            "right": null,
            "top": null,
            "visibility": null,
            "width": null
          }
        },
        "2db415245cbb44c8ab5c208be328fc16": {
          "model_module": "@jupyter-widgets/controls",
          "model_module_version": "1.5.0",
          "model_name": "ProgressStyleModel",
          "state": {
            "_model_module": "@jupyter-widgets/controls",
            "_model_module_version": "1.5.0",
            "_model_name": "ProgressStyleModel",
            "_view_count": null,
            "_view_module": "@jupyter-widgets/base",
            "_view_module_version": "1.2.0",
            "_view_name": "StyleView",
            "bar_color": null,
            "description_width": ""
          }
        },
        "36c1a61163804f9a825638c6c8d962ed": {
          "model_module": "@jupyter-widgets/controls",
          "model_module_version": "1.5.0",
          "model_name": "FloatProgressModel",
          "state": {
            "_dom_classes": [],
            "_model_module": "@jupyter-widgets/controls",
            "_model_module_version": "1.5.0",
            "_model_name": "FloatProgressModel",
            "_view_count": null,
            "_view_module": "@jupyter-widgets/controls",
            "_view_module_version": "1.5.0",
            "_view_name": "ProgressView",
            "bar_style": "",
            "description": "",
            "description_tooltip": null,
            "layout": "IPY_MODEL_a26e0dce0a86491db71a731f570f1a80",
            "max": 95,
            "min": 0,
            "orientation": "horizontal",
            "style": "IPY_MODEL_fe61754736d04d539c3f941049b5922a",
            "value": 95
          }
        },
        "3a5463e9f9864ca2b52fe9cd28f4a8b8": {
          "model_module": "@jupyter-widgets/controls",
          "model_module_version": "1.5.0",
          "model_name": "DescriptionStyleModel",
          "state": {
            "_model_module": "@jupyter-widgets/controls",
            "_model_module_version": "1.5.0",
            "_model_name": "DescriptionStyleModel",
            "_view_count": null,
            "_view_module": "@jupyter-widgets/base",
            "_view_module_version": "1.2.0",
            "_view_name": "StyleView",
            "description_width": ""
          }
        },
        "49d5ffd9eb81491f95df70e66c0c94e4": {
          "model_module": "@jupyter-widgets/controls",
          "model_module_version": "1.5.0",
          "model_name": "HBoxModel",
          "state": {
            "_dom_classes": [],
            "_model_module": "@jupyter-widgets/controls",
            "_model_module_version": "1.5.0",
            "_model_name": "HBoxModel",
            "_view_count": null,
            "_view_module": "@jupyter-widgets/controls",
            "_view_module_version": "1.5.0",
            "_view_name": "HBoxView",
            "box_style": "",
            "children": [
              "IPY_MODEL_9a3d8fbcc3e548e1a56d25c10b321e6a",
              "IPY_MODEL_6cf470f12c174e94b0b058cfba9b5fb2",
              "IPY_MODEL_9b6de90b3dbc4877966b2d5233189866"
            ],
            "layout": "IPY_MODEL_4b3aeac3e8e74b8f8dab0dc9ad0b7c94"
          }
        },
        "4b3aeac3e8e74b8f8dab0dc9ad0b7c94": {
          "model_module": "@jupyter-widgets/base",
          "model_module_version": "1.2.0",
          "model_name": "LayoutModel",
          "state": {
            "_model_module": "@jupyter-widgets/base",
            "_model_module_version": "1.2.0",
            "_model_name": "LayoutModel",
            "_view_count": null,
            "_view_module": "@jupyter-widgets/base",
            "_view_module_version": "1.2.0",
            "_view_name": "LayoutView",
            "align_content": null,
            "align_items": null,
            "align_self": null,
            "border": null,
            "bottom": null,
            "display": null,
            "flex": null,
            "flex_flow": null,
            "grid_area": null,
            "grid_auto_columns": null,
            "grid_auto_flow": null,
            "grid_auto_rows": null,
            "grid_column": null,
            "grid_gap": null,
            "grid_row": null,
            "grid_template_areas": null,
            "grid_template_columns": null,
            "grid_template_rows": null,
            "height": null,
            "justify_content": null,
            "justify_items": null,
            "left": null,
            "margin": null,
            "max_height": null,
            "max_width": null,
            "min_height": null,
            "min_width": null,
            "object_fit": null,
            "object_position": null,
            "order": null,
            "overflow": null,
            "overflow_x": null,
            "overflow_y": null,
            "padding": null,
            "right": null,
            "top": null,
            "visibility": null,
            "width": null
          }
        },
        "51ff5f151bc9475fa3a5c54f8b60a50e": {
          "model_module": "@jupyter-widgets/controls",
          "model_module_version": "1.5.0",
          "model_name": "FloatProgressModel",
          "state": {
            "_dom_classes": [],
            "_model_module": "@jupyter-widgets/controls",
            "_model_module_version": "1.5.0",
            "_model_name": "FloatProgressModel",
            "_view_count": null,
            "_view_module": "@jupyter-widgets/controls",
            "_view_module_version": "1.5.0",
            "_view_name": "ProgressView",
            "bar_style": "success",
            "description": "",
            "description_tooltip": null,
            "layout": "IPY_MODEL_187c8fd96f79429bb0752103d5998401",
            "max": 200,
            "min": 0,
            "orientation": "horizontal",
            "style": "IPY_MODEL_17d07e24261b4627b1160beeb59c5636",
            "value": 200
          }
        },
        "5352c2178612408aa84a3732d98a62ea": {
          "model_module": "@jupyter-widgets/controls",
          "model_module_version": "1.5.0",
          "model_name": "HBoxModel",
          "state": {
            "_dom_classes": [],
            "_model_module": "@jupyter-widgets/controls",
            "_model_module_version": "1.5.0",
            "_model_name": "HBoxModel",
            "_view_count": null,
            "_view_module": "@jupyter-widgets/controls",
            "_view_module_version": "1.5.0",
            "_view_name": "HBoxView",
            "box_style": "",
            "children": [
              "IPY_MODEL_f451b98692b64b54a0e8a3643a9bf992",
              "IPY_MODEL_36c1a61163804f9a825638c6c8d962ed",
              "IPY_MODEL_c2d84f324ecd4789b9b3420591f6186d"
            ],
            "layout": "IPY_MODEL_6d4ec5c2f9624d398f0d9fc27d84cadb"
          }
        },
        "567e3614e80743e5ae1f8e3c75a65b45": {
          "model_module": "@jupyter-widgets/controls",
          "model_module_version": "1.5.0",
          "model_name": "DescriptionStyleModel",
          "state": {
            "_model_module": "@jupyter-widgets/controls",
            "_model_module_version": "1.5.0",
            "_model_name": "DescriptionStyleModel",
            "_view_count": null,
            "_view_module": "@jupyter-widgets/base",
            "_view_module_version": "1.2.0",
            "_view_name": "StyleView",
            "description_width": ""
          }
        },
        "583a530a9c0442f2b762b281caa4836d": {
          "model_module": "@jupyter-widgets/controls",
          "model_module_version": "1.5.0",
          "model_name": "DescriptionStyleModel",
          "state": {
            "_model_module": "@jupyter-widgets/controls",
            "_model_module_version": "1.5.0",
            "_model_name": "DescriptionStyleModel",
            "_view_count": null,
            "_view_module": "@jupyter-widgets/base",
            "_view_module_version": "1.2.0",
            "_view_name": "StyleView",
            "description_width": ""
          }
        },
        "58656f1d31ac45d3aaef45aa22f69899": {
          "model_module": "@jupyter-widgets/controls",
          "model_module_version": "1.5.0",
          "model_name": "HTMLModel",
          "state": {
            "_dom_classes": [],
            "_model_module": "@jupyter-widgets/controls",
            "_model_module_version": "1.5.0",
            "_model_name": "HTMLModel",
            "_view_count": null,
            "_view_module": "@jupyter-widgets/controls",
            "_view_module_version": "1.5.0",
            "_view_name": "HTMLView",
            "description": "",
            "description_tooltip": null,
            "layout": "IPY_MODEL_269772eda6cc4449bbba9e1e684b442c",
            "placeholder": "​",
            "style": "IPY_MODEL_7cad813857df45f3ad617c74c68a619e",
            "value": " 201/? [00:37&lt;00:00,  6.07it/s, reward=0.875]"
          }
        },
        "5b6eaafac1574f7481e3bb2e20e598b3": {
          "model_module": "@jupyter-widgets/controls",
          "model_module_version": "1.5.0",
          "model_name": "DescriptionStyleModel",
          "state": {
            "_model_module": "@jupyter-widgets/controls",
            "_model_module_version": "1.5.0",
            "_model_name": "DescriptionStyleModel",
            "_view_count": null,
            "_view_module": "@jupyter-widgets/base",
            "_view_module_version": "1.2.0",
            "_view_name": "StyleView",
            "description_width": ""
          }
        },
        "657a261a272d466e8bfd532279a401a1": {
          "model_module": "@jupyter-widgets/base",
          "model_module_version": "1.2.0",
          "model_name": "LayoutModel",
          "state": {
            "_model_module": "@jupyter-widgets/base",
            "_model_module_version": "1.2.0",
            "_model_name": "LayoutModel",
            "_view_count": null,
            "_view_module": "@jupyter-widgets/base",
            "_view_module_version": "1.2.0",
            "_view_name": "LayoutView",
            "align_content": null,
            "align_items": null,
            "align_self": null,
            "border": null,
            "bottom": null,
            "display": null,
            "flex": null,
            "flex_flow": null,
            "grid_area": null,
            "grid_auto_columns": null,
            "grid_auto_flow": null,
            "grid_auto_rows": null,
            "grid_column": null,
            "grid_gap": null,
            "grid_row": null,
            "grid_template_areas": null,
            "grid_template_columns": null,
            "grid_template_rows": null,
            "height": null,
            "justify_content": null,
            "justify_items": null,
            "left": null,
            "margin": null,
            "max_height": null,
            "max_width": null,
            "min_height": null,
            "min_width": null,
            "object_fit": null,
            "object_position": null,
            "order": null,
            "overflow": null,
            "overflow_x": null,
            "overflow_y": null,
            "padding": null,
            "right": null,
            "top": null,
            "visibility": null,
            "width": null
          }
        },
        "6cf470f12c174e94b0b058cfba9b5fb2": {
          "model_module": "@jupyter-widgets/controls",
          "model_module_version": "1.5.0",
          "model_name": "FloatProgressModel",
          "state": {
            "_dom_classes": [],
            "_model_module": "@jupyter-widgets/controls",
            "_model_module_version": "1.5.0",
            "_model_name": "FloatProgressModel",
            "_view_count": null,
            "_view_module": "@jupyter-widgets/controls",
            "_view_module_version": "1.5.0",
            "_view_name": "ProgressView",
            "bar_style": "success",
            "description": "",
            "description_tooltip": null,
            "layout": "IPY_MODEL_c7d2c3f8b3714a0d911a132c74589ce1",
            "max": 1,
            "min": 0,
            "orientation": "horizontal",
            "style": "IPY_MODEL_03bbeb04a4c44206b1671e69864e69c7",
            "value": 0
          }
        },
        "6d4dfa99470e40559bebd6689305f155": {
          "model_module": "@jupyter-widgets/base",
          "model_module_version": "1.2.0",
          "model_name": "LayoutModel",
          "state": {
            "_model_module": "@jupyter-widgets/base",
            "_model_module_version": "1.2.0",
            "_model_name": "LayoutModel",
            "_view_count": null,
            "_view_module": "@jupyter-widgets/base",
            "_view_module_version": "1.2.0",
            "_view_name": "LayoutView",
            "align_content": null,
            "align_items": null,
            "align_self": null,
            "border": null,
            "bottom": null,
            "display": null,
            "flex": null,
            "flex_flow": null,
            "grid_area": null,
            "grid_auto_columns": null,
            "grid_auto_flow": null,
            "grid_auto_rows": null,
            "grid_column": null,
            "grid_gap": null,
            "grid_row": null,
            "grid_template_areas": null,
            "grid_template_columns": null,
            "grid_template_rows": null,
            "height": null,
            "justify_content": null,
            "justify_items": null,
            "left": null,
            "margin": null,
            "max_height": null,
            "max_width": null,
            "min_height": null,
            "min_width": null,
            "object_fit": null,
            "object_position": null,
            "order": null,
            "overflow": null,
            "overflow_x": null,
            "overflow_y": null,
            "padding": null,
            "right": null,
            "top": null,
            "visibility": null,
            "width": null
          }
        },
        "6d4ec5c2f9624d398f0d9fc27d84cadb": {
          "model_module": "@jupyter-widgets/base",
          "model_module_version": "1.2.0",
          "model_name": "LayoutModel",
          "state": {
            "_model_module": "@jupyter-widgets/base",
            "_model_module_version": "1.2.0",
            "_model_name": "LayoutModel",
            "_view_count": null,
            "_view_module": "@jupyter-widgets/base",
            "_view_module_version": "1.2.0",
            "_view_name": "LayoutView",
            "align_content": null,
            "align_items": null,
            "align_self": null,
            "border": null,
            "bottom": null,
            "display": null,
            "flex": null,
            "flex_flow": null,
            "grid_area": null,
            "grid_auto_columns": null,
            "grid_auto_flow": null,
            "grid_auto_rows": null,
            "grid_column": null,
            "grid_gap": null,
            "grid_row": null,
            "grid_template_areas": null,
            "grid_template_columns": null,
            "grid_template_rows": null,
            "height": null,
            "justify_content": null,
            "justify_items": null,
            "left": null,
            "margin": null,
            "max_height": null,
            "max_width": null,
            "min_height": null,
            "min_width": null,
            "object_fit": null,
            "object_position": null,
            "order": null,
            "overflow": null,
            "overflow_x": null,
            "overflow_y": null,
            "padding": null,
            "right": null,
            "top": null,
            "visibility": "hidden",
            "width": null
          }
        },
        "7cad813857df45f3ad617c74c68a619e": {
          "model_module": "@jupyter-widgets/controls",
          "model_module_version": "1.5.0",
          "model_name": "DescriptionStyleModel",
          "state": {
            "_model_module": "@jupyter-widgets/controls",
            "_model_module_version": "1.5.0",
            "_model_name": "DescriptionStyleModel",
            "_view_count": null,
            "_view_module": "@jupyter-widgets/base",
            "_view_module_version": "1.2.0",
            "_view_name": "StyleView",
            "description_width": ""
          }
        },
        "82a5a8a6be3a41209de270d5072838a2": {
          "model_module": "@jupyter-widgets/controls",
          "model_module_version": "1.5.0",
          "model_name": "HTMLModel",
          "state": {
            "_dom_classes": [],
            "_model_module": "@jupyter-widgets/controls",
            "_model_module_version": "1.5.0",
            "_model_name": "HTMLModel",
            "_view_count": null,
            "_view_module": "@jupyter-widgets/controls",
            "_view_module_version": "1.5.0",
            "_view_name": "HTMLView",
            "description": "",
            "description_tooltip": null,
            "layout": "IPY_MODEL_ed0c7c76b76d40c9b25ca92abb00cf34",
            "placeholder": "​",
            "style": "IPY_MODEL_3a5463e9f9864ca2b52fe9cd28f4a8b8",
            "value": " 1/1 [00:32&lt;00:00, 32.94s/it, loss=0.0523]"
          }
        },
        "83bd2cb0ca534108804cdc298d8b26c6": {
          "model_module": "@jupyter-widgets/controls",
          "model_module_version": "1.5.0",
          "model_name": "DescriptionStyleModel",
          "state": {
            "_model_module": "@jupyter-widgets/controls",
            "_model_module_version": "1.5.0",
            "_model_name": "DescriptionStyleModel",
            "_view_count": null,
            "_view_module": "@jupyter-widgets/base",
            "_view_module_version": "1.2.0",
            "_view_name": "StyleView",
            "description_width": ""
          }
        },
        "9a3d8fbcc3e548e1a56d25c10b321e6a": {
          "model_module": "@jupyter-widgets/controls",
          "model_module_version": "1.5.0",
          "model_name": "HTMLModel",
          "state": {
            "_dom_classes": [],
            "_model_module": "@jupyter-widgets/controls",
            "_model_module_version": "1.5.0",
            "_model_name": "HTMLModel",
            "_view_count": null,
            "_view_module": "@jupyter-widgets/controls",
            "_view_module_version": "1.5.0",
            "_view_name": "HTMLView",
            "description": "",
            "description_tooltip": null,
            "layout": "IPY_MODEL_ac6375a33ca84241b50638edb6321112",
            "placeholder": "​",
            "style": "IPY_MODEL_583a530a9c0442f2b762b281caa4836d",
            "value": ""
          }
        },
        "9b6de90b3dbc4877966b2d5233189866": {
          "model_module": "@jupyter-widgets/controls",
          "model_module_version": "1.5.0",
          "model_name": "HTMLModel",
          "state": {
            "_dom_classes": [],
            "_model_module": "@jupyter-widgets/controls",
            "_model_module_version": "1.5.0",
            "_model_name": "HTMLModel",
            "_view_count": null,
            "_view_module": "@jupyter-widgets/controls",
            "_view_module_version": "1.5.0",
            "_view_name": "HTMLView",
            "description": "",
            "description_tooltip": null,
            "layout": "IPY_MODEL_b2331069d969430b87c47e6f11fb2a9e",
            "placeholder": "​",
            "style": "IPY_MODEL_c8c282ba14c14da28ba421abc7119cf9",
            "value": " 0/0 [00:00&lt;?, ?it/s]"
          }
        },
        "a26e0dce0a86491db71a731f570f1a80": {
          "model_module": "@jupyter-widgets/base",
          "model_module_version": "1.2.0",
          "model_name": "LayoutModel",
          "state": {
            "_model_module": "@jupyter-widgets/base",
            "_model_module_version": "1.2.0",
            "_model_name": "LayoutModel",
            "_view_count": null,
            "_view_module": "@jupyter-widgets/base",
            "_view_module_version": "1.2.0",
            "_view_name": "LayoutView",
            "align_content": null,
            "align_items": null,
            "align_self": null,
            "border": null,
            "bottom": null,
            "display": null,
            "flex": null,
            "flex_flow": null,
            "grid_area": null,
            "grid_auto_columns": null,
            "grid_auto_flow": null,
            "grid_auto_rows": null,
            "grid_column": null,
            "grid_gap": null,
            "grid_row": null,
            "grid_template_areas": null,
            "grid_template_columns": null,
            "grid_template_rows": null,
            "height": null,
            "justify_content": null,
            "justify_items": null,
            "left": null,
            "margin": null,
            "max_height": null,
            "max_width": null,
            "min_height": null,
            "min_width": null,
            "object_fit": null,
            "object_position": null,
            "order": null,
            "overflow": null,
            "overflow_x": null,
            "overflow_y": null,
            "padding": null,
            "right": null,
            "top": null,
            "visibility": null,
            "width": null
          }
        },
        "aa9489756ac24ba0b523f04a3352a09f": {
          "model_module": "@jupyter-widgets/controls",
          "model_module_version": "1.5.0",
          "model_name": "HTMLModel",
          "state": {
            "_dom_classes": [],
            "_model_module": "@jupyter-widgets/controls",
            "_model_module_version": "1.5.0",
            "_model_name": "HTMLModel",
            "_view_count": null,
            "_view_module": "@jupyter-widgets/controls",
            "_view_module_version": "1.5.0",
            "_view_name": "HTMLView",
            "description": "",
            "description_tooltip": null,
            "layout": "IPY_MODEL_b72ff2e7020f447fb492c1e9f69a0174",
            "placeholder": "​",
            "style": "IPY_MODEL_567e3614e80743e5ae1f8e3c75a65b45",
            "value": "Eval PushTStateEnv: "
          }
        },
        "ac6375a33ca84241b50638edb6321112": {
          "model_module": "@jupyter-widgets/base",
          "model_module_version": "1.2.0",
          "model_name": "LayoutModel",
          "state": {
            "_model_module": "@jupyter-widgets/base",
            "_model_module_version": "1.2.0",
            "_model_name": "LayoutModel",
            "_view_count": null,
            "_view_module": "@jupyter-widgets/base",
            "_view_module_version": "1.2.0",
            "_view_name": "LayoutView",
            "align_content": null,
            "align_items": null,
            "align_self": null,
            "border": null,
            "bottom": null,
            "display": null,
            "flex": null,
            "flex_flow": null,
            "grid_area": null,
            "grid_auto_columns": null,
            "grid_auto_flow": null,
            "grid_auto_rows": null,
            "grid_column": null,
            "grid_gap": null,
            "grid_row": null,
            "grid_template_areas": null,
            "grid_template_columns": null,
            "grid_template_rows": null,
            "height": null,
            "justify_content": null,
            "justify_items": null,
            "left": null,
            "margin": null,
            "max_height": null,
            "max_width": null,
            "min_height": null,
            "min_width": null,
            "object_fit": null,
            "object_position": null,
            "order": null,
            "overflow": null,
            "overflow_x": null,
            "overflow_y": null,
            "padding": null,
            "right": null,
            "top": null,
            "visibility": null,
            "width": null
          }
        },
        "b2331069d969430b87c47e6f11fb2a9e": {
          "model_module": "@jupyter-widgets/base",
          "model_module_version": "1.2.0",
          "model_name": "LayoutModel",
          "state": {
            "_model_module": "@jupyter-widgets/base",
            "_model_module_version": "1.2.0",
            "_model_name": "LayoutModel",
            "_view_count": null,
            "_view_module": "@jupyter-widgets/base",
            "_view_module_version": "1.2.0",
            "_view_name": "LayoutView",
            "align_content": null,
            "align_items": null,
            "align_self": null,
            "border": null,
            "bottom": null,
            "display": null,
            "flex": null,
            "flex_flow": null,
            "grid_area": null,
            "grid_auto_columns": null,
            "grid_auto_flow": null,
            "grid_auto_rows": null,
            "grid_column": null,
            "grid_gap": null,
            "grid_row": null,
            "grid_template_areas": null,
            "grid_template_columns": null,
            "grid_template_rows": null,
            "height": null,
            "justify_content": null,
            "justify_items": null,
            "left": null,
            "margin": null,
            "max_height": null,
            "max_width": null,
            "min_height": null,
            "min_width": null,
            "object_fit": null,
            "object_position": null,
            "order": null,
            "overflow": null,
            "overflow_x": null,
            "overflow_y": null,
            "padding": null,
            "right": null,
            "top": null,
            "visibility": null,
            "width": null
          }
        },
        "b72ff2e7020f447fb492c1e9f69a0174": {
          "model_module": "@jupyter-widgets/base",
          "model_module_version": "1.2.0",
          "model_name": "LayoutModel",
          "state": {
            "_model_module": "@jupyter-widgets/base",
            "_model_module_version": "1.2.0",
            "_model_name": "LayoutModel",
            "_view_count": null,
            "_view_module": "@jupyter-widgets/base",
            "_view_module_version": "1.2.0",
            "_view_name": "LayoutView",
            "align_content": null,
            "align_items": null,
            "align_self": null,
            "border": null,
            "bottom": null,
            "display": null,
            "flex": null,
            "flex_flow": null,
            "grid_area": null,
            "grid_auto_columns": null,
            "grid_auto_flow": null,
            "grid_auto_rows": null,
            "grid_column": null,
            "grid_gap": null,
            "grid_row": null,
            "grid_template_areas": null,
            "grid_template_columns": null,
            "grid_template_rows": null,
            "height": null,
            "justify_content": null,
            "justify_items": null,
            "left": null,
            "margin": null,
            "max_height": null,
            "max_width": null,
            "min_height": null,
            "min_width": null,
            "object_fit": null,
            "object_position": null,
            "order": null,
            "overflow": null,
            "overflow_x": null,
            "overflow_y": null,
            "padding": null,
            "right": null,
            "top": null,
            "visibility": null,
            "width": null
          }
        },
        "b9f98d2d7c624a8eae13fa5b422739ce": {
          "model_module": "@jupyter-widgets/base",
          "model_module_version": "1.2.0",
          "model_name": "LayoutModel",
          "state": {
            "_model_module": "@jupyter-widgets/base",
            "_model_module_version": "1.2.0",
            "_model_name": "LayoutModel",
            "_view_count": null,
            "_view_module": "@jupyter-widgets/base",
            "_view_module_version": "1.2.0",
            "_view_name": "LayoutView",
            "align_content": null,
            "align_items": null,
            "align_self": null,
            "border": null,
            "bottom": null,
            "display": null,
            "flex": null,
            "flex_flow": null,
            "grid_area": null,
            "grid_auto_columns": null,
            "grid_auto_flow": null,
            "grid_auto_rows": null,
            "grid_column": null,
            "grid_gap": null,
            "grid_row": null,
            "grid_template_areas": null,
            "grid_template_columns": null,
            "grid_template_rows": null,
            "height": null,
            "justify_content": null,
            "justify_items": null,
            "left": null,
            "margin": null,
            "max_height": null,
            "max_width": null,
            "min_height": null,
            "min_width": null,
            "object_fit": null,
            "object_position": null,
            "order": null,
            "overflow": null,
            "overflow_x": null,
            "overflow_y": null,
            "padding": null,
            "right": null,
            "top": null,
            "visibility": null,
            "width": null
          }
        },
        "c29b0972b22d4dc59844ea958abf7bd1": {
          "model_module": "@jupyter-widgets/controls",
          "model_module_version": "1.5.0",
          "model_name": "HBoxModel",
          "state": {
            "_dom_classes": [],
            "_model_module": "@jupyter-widgets/controls",
            "_model_module_version": "1.5.0",
            "_model_name": "HBoxModel",
            "_view_count": null,
            "_view_module": "@jupyter-widgets/controls",
            "_view_module_version": "1.5.0",
            "_view_name": "HBoxView",
            "box_style": "",
            "children": [
              "IPY_MODEL_df7b2e7c39944341be1a091331fd7cc6",
              "IPY_MODEL_0d687f5624cb4871ad167ebcbcb4c148",
              "IPY_MODEL_82a5a8a6be3a41209de270d5072838a2"
            ],
            "layout": "IPY_MODEL_6d4dfa99470e40559bebd6689305f155"
          }
        },
        "c2d84f324ecd4789b9b3420591f6186d": {
          "model_module": "@jupyter-widgets/controls",
          "model_module_version": "1.5.0",
          "model_name": "HTMLModel",
          "state": {
            "_dom_classes": [],
            "_model_module": "@jupyter-widgets/controls",
            "_model_module_version": "1.5.0",
            "_model_name": "HTMLModel",
            "_view_count": null,
            "_view_module": "@jupyter-widgets/controls",
            "_view_module_version": "1.5.0",
            "_view_name": "HTMLView",
            "description": "",
            "description_tooltip": null,
            "layout": "IPY_MODEL_657a261a272d466e8bfd532279a401a1",
            "placeholder": "​",
            "style": "IPY_MODEL_5b6eaafac1574f7481e3bb2e20e598b3",
            "value": " 95/95 [00:32&lt;00:00,  3.08it/s, loss=0.0484]"
          }
        },
        "c7d2c3f8b3714a0d911a132c74589ce1": {
          "model_module": "@jupyter-widgets/base",
          "model_module_version": "1.2.0",
          "model_name": "LayoutModel",
          "state": {
            "_model_module": "@jupyter-widgets/base",
            "_model_module_version": "1.2.0",
            "_model_name": "LayoutModel",
            "_view_count": null,
            "_view_module": "@jupyter-widgets/base",
            "_view_module_version": "1.2.0",
            "_view_name": "LayoutView",
            "align_content": null,
            "align_items": null,
            "align_self": null,
            "border": null,
            "bottom": null,
            "display": null,
            "flex": null,
            "flex_flow": null,
            "grid_area": null,
            "grid_auto_columns": null,
            "grid_auto_flow": null,
            "grid_auto_rows": null,
            "grid_column": null,
            "grid_gap": null,
            "grid_row": null,
            "grid_template_areas": null,
            "grid_template_columns": null,
            "grid_template_rows": null,
            "height": null,
            "justify_content": null,
            "justify_items": null,
            "left": null,
            "margin": null,
            "max_height": null,
            "max_width": null,
            "min_height": null,
            "min_width": null,
            "object_fit": null,
            "object_position": null,
            "order": null,
            "overflow": null,
            "overflow_x": null,
            "overflow_y": null,
            "padding": null,
            "right": null,
            "top": null,
            "visibility": null,
            "width": "20px"
          }
        },
        "c8c282ba14c14da28ba421abc7119cf9": {
          "model_module": "@jupyter-widgets/controls",
          "model_module_version": "1.5.0",
          "model_name": "DescriptionStyleModel",
          "state": {
            "_model_module": "@jupyter-widgets/controls",
            "_model_module_version": "1.5.0",
            "_model_name": "DescriptionStyleModel",
            "_view_count": null,
            "_view_module": "@jupyter-widgets/base",
            "_view_module_version": "1.2.0",
            "_view_name": "StyleView",
            "description_width": ""
          }
        },
        "df7b2e7c39944341be1a091331fd7cc6": {
          "model_module": "@jupyter-widgets/controls",
          "model_module_version": "1.5.0",
          "model_name": "HTMLModel",
          "state": {
            "_dom_classes": [],
            "_model_module": "@jupyter-widgets/controls",
            "_model_module_version": "1.5.0",
            "_model_name": "HTMLModel",
            "_view_count": null,
            "_view_module": "@jupyter-widgets/controls",
            "_view_module_version": "1.5.0",
            "_view_name": "HTMLView",
            "description": "",
            "description_tooltip": null,
            "layout": "IPY_MODEL_0964ed28f2794bdf91e2e2756aae3bc4",
            "placeholder": "​",
            "style": "IPY_MODEL_1939a1c3cc7a498fa5f05ac737b0af99",
            "value": "Epoch: 100%"
          }
        },
        "ed0c7c76b76d40c9b25ca92abb00cf34": {
          "model_module": "@jupyter-widgets/base",
          "model_module_version": "1.2.0",
          "model_name": "LayoutModel",
          "state": {
            "_model_module": "@jupyter-widgets/base",
            "_model_module_version": "1.2.0",
            "_model_name": "LayoutModel",
            "_view_count": null,
            "_view_module": "@jupyter-widgets/base",
            "_view_module_version": "1.2.0",
            "_view_name": "LayoutView",
            "align_content": null,
            "align_items": null,
            "align_self": null,
            "border": null,
            "bottom": null,
            "display": null,
            "flex": null,
            "flex_flow": null,
            "grid_area": null,
            "grid_auto_columns": null,
            "grid_auto_flow": null,
            "grid_auto_rows": null,
            "grid_column": null,
            "grid_gap": null,
            "grid_row": null,
            "grid_template_areas": null,
            "grid_template_columns": null,
            "grid_template_rows": null,
            "height": null,
            "justify_content": null,
            "justify_items": null,
            "left": null,
            "margin": null,
            "max_height": null,
            "max_width": null,
            "min_height": null,
            "min_width": null,
            "object_fit": null,
            "object_position": null,
            "order": null,
            "overflow": null,
            "overflow_x": null,
            "overflow_y": null,
            "padding": null,
            "right": null,
            "top": null,
            "visibility": null,
            "width": null
          }
        },
        "f451b98692b64b54a0e8a3643a9bf992": {
          "model_module": "@jupyter-widgets/controls",
          "model_module_version": "1.5.0",
          "model_name": "HTMLModel",
          "state": {
            "_dom_classes": [],
            "_model_module": "@jupyter-widgets/controls",
            "_model_module_version": "1.5.0",
            "_model_name": "HTMLModel",
            "_view_count": null,
            "_view_module": "@jupyter-widgets/controls",
            "_view_module_version": "1.5.0",
            "_view_name": "HTMLView",
            "description": "",
            "description_tooltip": null,
            "layout": "IPY_MODEL_019444645b164b92a8da32e94a443d7e",
            "placeholder": "​",
            "style": "IPY_MODEL_83bd2cb0ca534108804cdc298d8b26c6",
            "value": "Batch: 100%"
          }
        },
        "fe61754736d04d539c3f941049b5922a": {
          "model_module": "@jupyter-widgets/controls",
          "model_module_version": "1.5.0",
          "model_name": "ProgressStyleModel",
          "state": {
            "_model_module": "@jupyter-widgets/controls",
            "_model_module_version": "1.5.0",
            "_model_name": "ProgressStyleModel",
            "_view_count": null,
            "_view_module": "@jupyter-widgets/base",
            "_view_module_version": "1.2.0",
            "_view_name": "StyleView",
            "bar_color": null,
            "description_width": ""
          }
        }
      }
    }
  },
  "nbformat": 4,
  "nbformat_minor": 0
}
