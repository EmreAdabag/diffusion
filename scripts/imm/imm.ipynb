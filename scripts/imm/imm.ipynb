{
  "cells": [
    {
      "cell_type": "code",
      "execution_count": 1,
      "metadata": {
        "colab": {
          "base_uri": "https://localhost:8080/"
        },
        "id": "2QwO2gAgiJS2",
        "outputId": "acec0463-c03f-4359-9680-6ebbc99e4267"
      },
      "outputs": [
        {
          "name": "stdout",
          "output_type": "stream",
          "text": [
            "Python 3.10.12\n",
            "Collecting torch\n",
            "  Downloading torch-2.6.0-cp310-cp310-manylinux1_x86_64.whl (766.7 MB)\n",
            "\u001b[2K     \u001b[90m━━━━━━━━━━━━━━━━━━━━━━━━━━━━━━━━━━━━━━\u001b[0m \u001b[32m766.7/766.7 MB\u001b[0m \u001b[31m10.7 MB/s\u001b[0m eta \u001b[36m0:00:00\u001b[0m00:01\u001b[0m00:01\u001b[0m\n",
            "\u001b[?25hCollecting torchvision\n",
            "  Downloading torchvision-0.21.0-cp310-cp310-manylinux1_x86_64.whl (7.2 MB)\n",
            "\u001b[2K     \u001b[90m━━━━━━━━━━━━━━━━━━━━━━━━━━━━━━━━━━━━━━━━\u001b[0m \u001b[32m7.2/7.2 MB\u001b[0m \u001b[31m65.1 MB/s\u001b[0m eta \u001b[36m0:00:00\u001b[0m00:01\u001b[0m00:01\u001b[0m\n",
            "\u001b[?25hCollecting diffusers\n",
            "  Downloading diffusers-0.33.1-py3-none-any.whl (3.6 MB)\n",
            "\u001b[2K     \u001b[90m━━━━━━━━━━━━━━━━━━━━━━━━━━━━━━━━━━━━━━━━\u001b[0m \u001b[32m3.6/3.6 MB\u001b[0m \u001b[31m90.9 MB/s\u001b[0m eta \u001b[36m0:00:00\u001b[0m:00:01\u001b[0m\n",
            "\u001b[?25hCollecting scikit-image\n",
            "  Downloading scikit_image-0.25.2-cp310-cp310-manylinux_2_17_x86_64.manylinux2014_x86_64.whl (14.8 MB)\n",
            "\u001b[2K     \u001b[90m━━━━━━━━━━━━━━━━━━━━━━━━━━━━━━━━━━━━━━━━\u001b[0m \u001b[32m14.8/14.8 MB\u001b[0m \u001b[31m84.5 MB/s\u001b[0m eta \u001b[36m0:00:00\u001b[0m00:01\u001b[0m00:01\u001b[0m\n",
            "\u001b[?25hCollecting scikit-video\n",
            "  Downloading scikit_video-1.1.11-py2.py3-none-any.whl (2.3 MB)\n",
            "\u001b[2K     \u001b[90m━━━━━━━━━━━━━━━━━━━━━━━━━━━━━━━━━━━━━━━━\u001b[0m \u001b[32m2.3/2.3 MB\u001b[0m \u001b[31m77.8 MB/s\u001b[0m eta \u001b[36m0:00:00\u001b[0m\n",
            "\u001b[?25hCollecting zarr\n",
            "  Downloading zarr-2.18.3-py3-none-any.whl (210 kB)\n",
            "\u001b[2K     \u001b[90m━━━━━━━━━━━━━━━━━━━━━━━━━━━━━━━━━━━━━━\u001b[0m \u001b[32m210.7/210.7 KB\u001b[0m \u001b[31m31.7 MB/s\u001b[0m eta \u001b[36m0:00:00\u001b[0m\n",
            "\u001b[?25hCollecting numcodecs\n",
            "  Downloading numcodecs-0.13.1-cp310-cp310-manylinux_2_17_x86_64.manylinux2014_x86_64.whl (8.6 MB)\n",
            "\u001b[2K     \u001b[90m━━━━━━━━━━━━━━━━━━━━━━━━━━━━━━━━━━━━━━━━\u001b[0m \u001b[32m8.6/8.6 MB\u001b[0m \u001b[31m89.7 MB/s\u001b[0m eta \u001b[36m0:00:00\u001b[0mta \u001b[36m0:00:01\u001b[0m\n",
            "\u001b[?25hCollecting pygame\n",
            "  Downloading pygame-2.6.1-cp310-cp310-manylinux_2_17_x86_64.manylinux2014_x86_64.whl (14.0 MB)\n",
            "\u001b[2K     \u001b[90m━━━━━━━━━━━━━━━━━━━━━━━━━━━━━━━━━━━━━━━━\u001b[0m \u001b[32m14.0/14.0 MB\u001b[0m \u001b[31m83.3 MB/s\u001b[0m eta \u001b[36m0:00:00\u001b[0m00:01\u001b[0m00:01\u001b[0m\n",
            "\u001b[?25hCollecting pymunk\n",
            "  Downloading pymunk-6.11.1-cp310-cp310-manylinux_2_17_x86_64.manylinux2014_x86_64.whl (1.1 MB)\n",
            "\u001b[2K     \u001b[90m━━━━━━━━━━━━━━━━━━━━━━━━━━━━━━━━━━━━━━━━\u001b[0m \u001b[32m1.1/1.1 MB\u001b[0m \u001b[31m44.3 MB/s\u001b[0m eta \u001b[36m0:00:00\u001b[0m\n",
            "\u001b[?25hCollecting gym\n",
            "  Downloading gym-0.26.2.tar.gz (721 kB)\n",
            "\u001b[2K     \u001b[90m━━━━━━━━━━━━━━━━━━━━━━━━━━━━━━━━━━━━━━\u001b[0m \u001b[32m721.7/721.7 KB\u001b[0m \u001b[31m68.4 MB/s\u001b[0m eta \u001b[36m0:00:00\u001b[0m\n",
            "\u001b[?25h  Installing build dependencies ... \u001b[?25ldone\n",
            "\u001b[?25h  Getting requirements to build wheel ... \u001b[?25ldone\n",
            "\u001b[?25h  Preparing metadata (pyproject.toml) ... \u001b[?25ldone\n",
            "\u001b[?25hCollecting shapely\n",
            "  Downloading shapely-2.1.0-cp310-cp310-manylinux_2_17_x86_64.manylinux2014_x86_64.whl (3.0 MB)\n",
            "\u001b[2K     \u001b[90m━━━━━━━━━━━━━━━━━━━━━━━━━━━━━━━━━━━━━━━━\u001b[0m \u001b[32m3.0/3.0 MB\u001b[0m \u001b[31m73.6 MB/s\u001b[0m eta \u001b[36m0:00:00\u001b[0m:00:01\u001b[0m\n",
            "\u001b[?25hCollecting opencv-python\n",
            "  Downloading opencv_python-4.11.0.86-cp37-abi3-manylinux_2_17_x86_64.manylinux2014_x86_64.whl (63.0 MB)\n",
            "\u001b[2K     \u001b[90m━━━━━━━━━━━━━━━━━━━━━━━━━━━━━━━━━━━━━━━━\u001b[0m \u001b[32m63.0/63.0 MB\u001b[0m \u001b[31m57.8 MB/s\u001b[0m eta \u001b[36m0:00:00\u001b[0m00:01\u001b[0m00:01\u001b[0m\n",
            "\u001b[?25hCollecting fsspec\n",
            "  Downloading fsspec-2025.3.2-py3-none-any.whl (194 kB)\n",
            "\u001b[2K     \u001b[90m━━━━━━━━━━━━━━━━━━━━━━━━━━━━━━━━━━━━━━\u001b[0m \u001b[32m194.4/194.4 KB\u001b[0m \u001b[31m29.1 MB/s\u001b[0m eta \u001b[36m0:00:00\u001b[0m\n",
            "\u001b[?25hCollecting nvidia-cufft-cu12==11.2.1.3\n",
            "  Downloading nvidia_cufft_cu12-11.2.1.3-py3-none-manylinux2014_x86_64.whl (211.5 MB)\n",
            "\u001b[2K     \u001b[90m━━━━━━━━━━━━━━━━━━━━━━━━━━━━━━━━━━━━━━\u001b[0m \u001b[32m211.5/211.5 MB\u001b[0m \u001b[31m29.8 MB/s\u001b[0m eta \u001b[36m0:00:00\u001b[0m00:01\u001b[0m00:01\u001b[0m\n",
            "\u001b[?25hCollecting filelock\n",
            "  Downloading filelock-3.18.0-py3-none-any.whl (16 kB)\n",
            "Requirement already satisfied: typing-extensions>=4.10.0 in /home/ea/imm/venv/lib/python3.10/site-packages (from torch) (4.13.2)\n",
            "Collecting nvidia-cudnn-cu12==9.1.0.70\n",
            "  Downloading nvidia_cudnn_cu12-9.1.0.70-py3-none-manylinux2014_x86_64.whl (664.8 MB)\n",
            "\u001b[2K     \u001b[90m━━━━━━━━━━━━━━━━━━━━━━━━━━━━━━━━━━━━━━\u001b[0m \u001b[32m664.8/664.8 MB\u001b[0m \u001b[31m11.8 MB/s\u001b[0m eta \u001b[36m0:00:00\u001b[0m00:01\u001b[0m00:01\u001b[0m\n",
            "\u001b[?25hCollecting nvidia-cusolver-cu12==11.6.1.9\n",
            "  Downloading nvidia_cusolver_cu12-11.6.1.9-py3-none-manylinux2014_x86_64.whl (127.9 MB)\n",
            "\u001b[2K     \u001b[90m━━━━━━━━━━━━━━━━━━━━━━━━━━━━━━━━━━━━━━\u001b[0m \u001b[32m127.9/127.9 MB\u001b[0m \u001b[31m40.5 MB/s\u001b[0m eta \u001b[36m0:00:00\u001b[0m00:01\u001b[0m00:01\u001b[0m\n",
            "\u001b[?25hCollecting jinja2\n",
            "  Downloading jinja2-3.1.6-py3-none-any.whl (134 kB)\n",
            "\u001b[2K     \u001b[90m━━━━━━━━━━━━━━━━━━━━━━━━━━━━━━━━━━━━━━\u001b[0m \u001b[32m134.9/134.9 KB\u001b[0m \u001b[31m20.9 MB/s\u001b[0m eta \u001b[36m0:00:00\u001b[0m\n",
            "\u001b[?25hCollecting nvidia-cuda-nvrtc-cu12==12.4.127\n",
            "  Downloading nvidia_cuda_nvrtc_cu12-12.4.127-py3-none-manylinux2014_x86_64.whl (24.6 MB)\n",
            "\u001b[2K     \u001b[90m━━━━━━━━━━━━━━━━━━━━━━━━━━━━━━━━━━━━━━━━\u001b[0m \u001b[32m24.6/24.6 MB\u001b[0m \u001b[31m81.3 MB/s\u001b[0m eta \u001b[36m0:00:00\u001b[0m00:01\u001b[0m00:01\u001b[0m\n",
            "\u001b[?25hCollecting nvidia-cuda-cupti-cu12==12.4.127\n",
            "  Downloading nvidia_cuda_cupti_cu12-12.4.127-py3-none-manylinux2014_x86_64.whl (13.8 MB)\n",
            "\u001b[2K     \u001b[90m━━━━━━━━━━━━━━━━━━━━━━━━━━━━━━━━━━━━━━━━\u001b[0m \u001b[32m13.8/13.8 MB\u001b[0m \u001b[31m64.4 MB/s\u001b[0m eta \u001b[36m0:00:00\u001b[0m00:01\u001b[0m00:01\u001b[0m\n",
            "\u001b[?25hCollecting sympy==1.13.1\n",
            "  Downloading sympy-1.13.1-py3-none-any.whl (6.2 MB)\n",
            "\u001b[2K     \u001b[90m━━━━━━━━━━━━━━━━━━━━━━━━━━━━━━━━━━━━━━━━\u001b[0m \u001b[32m6.2/6.2 MB\u001b[0m \u001b[31m98.3 MB/s\u001b[0m eta \u001b[36m0:00:00\u001b[0mta \u001b[36m0:00:01\u001b[0m\n",
            "\u001b[?25hCollecting nvidia-cublas-cu12==12.4.5.8\n",
            "  Downloading nvidia_cublas_cu12-12.4.5.8-py3-none-manylinux2014_x86_64.whl (363.4 MB)\n",
            "\u001b[2K     \u001b[90m━━━━━━━━━━━━━━━━━━━━━━━━━━━━━━━━━━━━━━\u001b[0m \u001b[32m363.4/363.4 MB\u001b[0m \u001b[31m19.0 MB/s\u001b[0m eta \u001b[36m0:00:00\u001b[0m00:01\u001b[0m00:01\u001b[0m\n",
            "\u001b[?25hCollecting nvidia-cusparselt-cu12==0.6.2\n",
            "  Downloading nvidia_cusparselt_cu12-0.6.2-py3-none-manylinux2014_x86_64.whl (150.1 MB)\n",
            "\u001b[2K     \u001b[90m━━━━━━━━━━━━━━━━━━━━━━━━━━━━━━━━━━━━━━\u001b[0m \u001b[32m150.1/150.1 MB\u001b[0m \u001b[31m36.4 MB/s\u001b[0m eta \u001b[36m0:00:00\u001b[0m00:01\u001b[0m00:01\u001b[0m\n",
            "\u001b[?25hCollecting nvidia-nvjitlink-cu12==12.4.127\n",
            "  Downloading nvidia_nvjitlink_cu12-12.4.127-py3-none-manylinux2014_x86_64.whl (21.1 MB)\n",
            "\u001b[2K     \u001b[90m━━━━━━━━━━━━━━━━━━━━━━━━━━━━━━━━━━━━━━━━\u001b[0m \u001b[32m21.1/21.1 MB\u001b[0m \u001b[31m83.6 MB/s\u001b[0m eta \u001b[36m0:00:00\u001b[0m00:01\u001b[0m00:01\u001b[0m\n",
            "\u001b[?25hCollecting nvidia-cuda-runtime-cu12==12.4.127\n",
            "  Downloading nvidia_cuda_runtime_cu12-12.4.127-py3-none-manylinux2014_x86_64.whl (883 kB)\n",
            "\u001b[2K     \u001b[90m━━━━━━━━━━━━━━━━━━━━━━━━━━━━━━━━━━━━━━\u001b[0m \u001b[32m883.7/883.7 KB\u001b[0m \u001b[31m75.2 MB/s\u001b[0m eta \u001b[36m0:00:00\u001b[0m\n",
            "\u001b[?25hCollecting nvidia-cusparse-cu12==12.3.1.170\n",
            "  Downloading nvidia_cusparse_cu12-12.3.1.170-py3-none-manylinux2014_x86_64.whl (207.5 MB)\n",
            "\u001b[2K     \u001b[90m━━━━━━━━━━━━━━━━━━━━━━━━━━━━━━━━━━━━━━\u001b[0m \u001b[32m207.5/207.5 MB\u001b[0m \u001b[31m30.1 MB/s\u001b[0m eta \u001b[36m0:00:00\u001b[0m00:01\u001b[0m00:01\u001b[0m\n",
            "\u001b[?25hCollecting nvidia-curand-cu12==10.3.5.147\n",
            "  Downloading nvidia_curand_cu12-10.3.5.147-py3-none-manylinux2014_x86_64.whl (56.3 MB)\n",
            "\u001b[2K     \u001b[90m━━━━━━━━━━━━━━━━━━━━━━━━━━━━━━━━━━━━━━━━\u001b[0m \u001b[32m56.3/56.3 MB\u001b[0m \u001b[31m60.4 MB/s\u001b[0m eta \u001b[36m0:00:00\u001b[0m00:01\u001b[0m00:01\u001b[0m\n",
            "\u001b[?25hCollecting triton==3.2.0\n",
            "  Downloading triton-3.2.0-cp310-cp310-manylinux_2_17_x86_64.manylinux2014_x86_64.whl (253.1 MB)\n",
            "\u001b[2K     \u001b[90m━━━━━━━━━━━━━━━━━━━━━━━━━━━━━━━━━━━━━━\u001b[0m \u001b[32m253.1/253.1 MB\u001b[0m \u001b[31m24.8 MB/s\u001b[0m eta \u001b[36m0:00:00\u001b[0m00:01\u001b[0m00:01\u001b[0m\n",
            "\u001b[?25hCollecting nvidia-nvtx-cu12==12.4.127\n",
            "  Downloading nvidia_nvtx_cu12-12.4.127-py3-none-manylinux2014_x86_64.whl (99 kB)\n",
            "\u001b[2K     \u001b[90m━━━━━━━━━━━━━━━━━━━━━━━━━━━━━━━━━━━━━━━━\u001b[0m \u001b[32m99.1/99.1 KB\u001b[0m \u001b[31m14.3 MB/s\u001b[0m eta \u001b[36m0:00:00\u001b[0m\n",
            "\u001b[?25hCollecting nvidia-nccl-cu12==2.21.5\n",
            "  Downloading nvidia_nccl_cu12-2.21.5-py3-none-manylinux2014_x86_64.whl (188.7 MB)\n",
            "\u001b[2K     \u001b[90m━━━━━━━━━━━━━━━━━━━━━━━━━━━━━━━━━━━━━━\u001b[0m \u001b[32m188.7/188.7 MB\u001b[0m \u001b[31m31.7 MB/s\u001b[0m eta \u001b[36m0:00:00\u001b[0m00:01\u001b[0m00:01\u001b[0m\n",
            "\u001b[?25hCollecting networkx\n",
            "  Downloading networkx-3.4.2-py3-none-any.whl (1.7 MB)\n",
            "\u001b[2K     \u001b[90m━━━━━━━━━━━━━━━━━━━━━━━━━━━━━━━━━━━━━━━━\u001b[0m \u001b[32m1.7/1.7 MB\u001b[0m \u001b[31m86.5 MB/s\u001b[0m eta \u001b[36m0:00:00\u001b[0m\n",
            "\u001b[?25hCollecting mpmath<1.4,>=1.1.0\n",
            "  Downloading mpmath-1.3.0-py3-none-any.whl (536 kB)\n",
            "\u001b[2K     \u001b[90m━━━━━━━━━━━━━━━━━━━━━━━━━━━━━━━━━━━━━━\u001b[0m \u001b[32m536.2/536.2 KB\u001b[0m \u001b[31m53.2 MB/s\u001b[0m eta \u001b[36m0:00:00\u001b[0m\n",
            "\u001b[?25hCollecting pillow!=8.3.*,>=5.3.0\n",
            "  Downloading pillow-11.2.1-cp310-cp310-manylinux_2_28_x86_64.whl (4.6 MB)\n",
            "\u001b[2K     \u001b[90m━━━━━━━━━━━━━━━━━━━━━━━━━━━━━━━━━━━━━━━━\u001b[0m \u001b[32m4.6/4.6 MB\u001b[0m \u001b[31m81.5 MB/s\u001b[0m eta \u001b[36m0:00:00\u001b[0mta \u001b[36m0:00:01\u001b[0m\n",
            "\u001b[?25hCollecting numpy\n",
            "  Downloading numpy-2.2.4-cp310-cp310-manylinux_2_17_x86_64.manylinux2014_x86_64.whl (16.4 MB)\n",
            "\u001b[2K     \u001b[90m━━━━━━━━━━━━━━━━━━━━━━━━━━━━━━━━━━━━━━━━\u001b[0m \u001b[32m16.4/16.4 MB\u001b[0m \u001b[31m89.2 MB/s\u001b[0m eta \u001b[36m0:00:00\u001b[0m00:01\u001b[0m00:01\u001b[0m\n",
            "\u001b[?25hCollecting importlib-metadata\n",
            "  Downloading importlib_metadata-8.6.1-py3-none-any.whl (26 kB)\n",
            "Collecting safetensors>=0.3.1\n",
            "  Downloading safetensors-0.5.3-cp38-abi3-manylinux_2_17_x86_64.manylinux2014_x86_64.whl (471 kB)\n",
            "\u001b[2K     \u001b[90m━━━━━━━━━━━━━━━━━━━━━━━━━━━━━━━━━━━━━━\u001b[0m \u001b[32m471.6/471.6 KB\u001b[0m \u001b[31m28.8 MB/s\u001b[0m eta \u001b[36m0:00:00\u001b[0m\n",
            "\u001b[?25hCollecting regex!=2019.12.17\n",
            "  Downloading regex-2024.11.6-cp310-cp310-manylinux_2_17_x86_64.manylinux2014_x86_64.whl (781 kB)\n",
            "\u001b[2K     \u001b[90m━━━━━━━━━━━━━━━━━━━━━━━━━━━━━━━━━━━━━━\u001b[0m \u001b[32m781.7/781.7 KB\u001b[0m \u001b[31m37.4 MB/s\u001b[0m eta \u001b[36m0:00:00\u001b[0m\n",
            "\u001b[?25hCollecting huggingface-hub>=0.27.0\n",
            "  Downloading huggingface_hub-0.30.2-py3-none-any.whl (481 kB)\n",
            "\u001b[2K     \u001b[90m━━━━━━━━━━━━━━━━━━━━━━━━━━━━━━━━━━━━━━\u001b[0m \u001b[32m481.4/481.4 KB\u001b[0m \u001b[31m59.2 MB/s\u001b[0m eta \u001b[36m0:00:00\u001b[0m\n",
            "\u001b[?25hCollecting requests\n",
            "  Downloading requests-2.32.3-py3-none-any.whl (64 kB)\n",
            "\u001b[2K     \u001b[90m━━━━━━━━━━━━━━━━━━━━━━━━━━━━━━━━━━━━━━━━\u001b[0m \u001b[32m64.9/64.9 KB\u001b[0m \u001b[31m10.1 MB/s\u001b[0m eta \u001b[36m0:00:00\u001b[0m\n",
            "\u001b[?25hCollecting imageio!=2.35.0,>=2.33\n",
            "  Downloading imageio-2.37.0-py3-none-any.whl (315 kB)\n",
            "\u001b[2K     \u001b[90m━━━━━━━━━━━━━━━━━━━━━━━━━━━━━━━━━━━━━━\u001b[0m \u001b[32m315.8/315.8 KB\u001b[0m \u001b[31m46.7 MB/s\u001b[0m eta \u001b[36m0:00:00\u001b[0m\n",
            "\u001b[?25hRequirement already satisfied: packaging>=21 in /home/ea/imm/venv/lib/python3.10/site-packages (from scikit-image) (24.2)\n",
            "Collecting tifffile>=2022.8.12\n",
            "  Downloading tifffile-2025.3.30-py3-none-any.whl (226 kB)\n",
            "\u001b[2K     \u001b[90m━━━━━━━━━━━━━━━━━━━━━━━━━━━━━━━━━━━━━━\u001b[0m \u001b[32m226.8/226.8 KB\u001b[0m \u001b[31m33.5 MB/s\u001b[0m eta \u001b[36m0:00:00\u001b[0m\n",
            "\u001b[?25hCollecting lazy-loader>=0.4\n",
            "  Downloading lazy_loader-0.4-py3-none-any.whl (12 kB)\n",
            "Collecting scipy>=1.11.4\n",
            "  Downloading scipy-1.15.2-cp310-cp310-manylinux_2_17_x86_64.manylinux2014_x86_64.whl (37.6 MB)\n",
            "\u001b[2K     \u001b[90m━━━━━━━━━━━━━━━━━━━━━━━━━━━━━━━━━━━━━━━━\u001b[0m \u001b[32m37.6/37.6 MB\u001b[0m \u001b[31m69.8 MB/s\u001b[0m eta \u001b[36m0:00:00\u001b[0m00:01\u001b[0m00:01\u001b[0m\n",
            "\u001b[?25hCollecting fasteners\n",
            "  Downloading fasteners-0.19-py3-none-any.whl (18 kB)\n",
            "Collecting asciitree\n",
            "  Downloading asciitree-0.3.3.tar.gz (4.0 kB)\n",
            "  Preparing metadata (setup.py) ... \u001b[?25ldone\n",
            "\u001b[?25hCollecting cffi>=1.17.1\n",
            "  Downloading cffi-1.17.1-cp310-cp310-manylinux_2_17_x86_64.manylinux2014_x86_64.whl (446 kB)\n",
            "\u001b[2K     \u001b[90m━━━━━━━━━━━━━━━━━━━━━━━━━━━━━━━━━━━━━━\u001b[0m \u001b[32m446.2/446.2 KB\u001b[0m \u001b[31m27.2 MB/s\u001b[0m eta \u001b[36m0:00:00\u001b[0m\n",
            "\u001b[?25hCollecting gym_notices>=0.0.4\n",
            "  Downloading gym_notices-0.0.8-py3-none-any.whl (3.0 kB)\n",
            "Collecting cloudpickle>=1.2.0\n",
            "  Downloading cloudpickle-3.1.1-py3-none-any.whl (20 kB)\n",
            "Collecting pycparser\n",
            "  Downloading pycparser-2.22-py3-none-any.whl (117 kB)\n",
            "\u001b[2K     \u001b[90m━━━━━━━━━━━━━━━━━━━━━━━━━━━━━━━━━━━━━━\u001b[0m \u001b[32m117.6/117.6 KB\u001b[0m \u001b[31m21.2 MB/s\u001b[0m eta \u001b[36m0:00:00\u001b[0m\n",
            "\u001b[?25hCollecting pyyaml>=5.1\n",
            "  Downloading PyYAML-6.0.2-cp310-cp310-manylinux_2_17_x86_64.manylinux2014_x86_64.whl (751 kB)\n",
            "\u001b[2K     \u001b[90m━━━━━━━━━━━━━━━━━━━━━━━━━━━━━━━━━━━━━━\u001b[0m \u001b[32m751.2/751.2 KB\u001b[0m \u001b[31m69.0 MB/s\u001b[0m eta \u001b[36m0:00:00\u001b[0m\n",
            "\u001b[?25hCollecting tqdm>=4.42.1\n",
            "  Downloading tqdm-4.67.1-py3-none-any.whl (78 kB)\n",
            "\u001b[2K     \u001b[90m━━━━━━━━━━━━━━━━━━━━━━━━━━━━━━━━━━━━━━━━\u001b[0m \u001b[32m78.5/78.5 KB\u001b[0m \u001b[31m13.3 MB/s\u001b[0m eta \u001b[36m0:00:00\u001b[0m\n",
            "\u001b[?25hCollecting zipp>=3.20\n",
            "  Downloading zipp-3.21.0-py3-none-any.whl (9.6 kB)\n",
            "Collecting MarkupSafe>=2.0\n",
            "  Downloading MarkupSafe-3.0.2-cp310-cp310-manylinux_2_17_x86_64.manylinux2014_x86_64.whl (20 kB)\n",
            "Collecting charset-normalizer<4,>=2\n",
            "  Downloading charset_normalizer-3.4.1-cp310-cp310-manylinux_2_17_x86_64.manylinux2014_x86_64.whl (146 kB)\n",
            "\u001b[2K     \u001b[90m━━━━━━━━━━━━━━━━━━━━━━━━━━━━━━━━━━━━━━\u001b[0m \u001b[32m146.1/146.1 KB\u001b[0m \u001b[31m21.2 MB/s\u001b[0m eta \u001b[36m0:00:00\u001b[0m\n",
            "\u001b[?25hCollecting idna<4,>=2.5\n",
            "  Downloading idna-3.10-py3-none-any.whl (70 kB)\n",
            "\u001b[2K     \u001b[90m━━━━━━━━━━━━━━━━━━━━━━━━━━━━━━━━━━━━━━━━\u001b[0m \u001b[32m70.4/70.4 KB\u001b[0m \u001b[31m10.4 MB/s\u001b[0m eta \u001b[36m0:00:00\u001b[0m\n",
            "\u001b[?25hCollecting urllib3<3,>=1.21.1\n",
            "  Downloading urllib3-2.4.0-py3-none-any.whl (128 kB)\n",
            "\u001b[2K     \u001b[90m━━━━━━━━━━━━━━━━━━━━━━━━━━━━━━━━━━━━━━\u001b[0m \u001b[32m128.7/128.7 KB\u001b[0m \u001b[31m20.3 MB/s\u001b[0m eta \u001b[36m0:00:00\u001b[0m\n",
            "\u001b[?25hCollecting certifi>=2017.4.17\n",
            "  Downloading certifi-2025.1.31-py3-none-any.whl (166 kB)\n",
            "\u001b[2K     \u001b[90m━━━━━━━━━━━━━━━━━━━━━━━━━━━━━━━━━━━━━━\u001b[0m \u001b[32m166.4/166.4 KB\u001b[0m \u001b[31m25.7 MB/s\u001b[0m eta \u001b[36m0:00:00\u001b[0m\n",
            "\u001b[?25hUsing legacy 'setup.py install' for asciitree, since package 'wheel' is not installed.\n",
            "Building wheels for collected packages: gym\n",
            "  Building wheel for gym (pyproject.toml) ... \u001b[?25ldone\n",
            "\u001b[?25h  Created wheel for gym: filename=gym-0.26.2-py3-none-any.whl size=827729 sha256=a2053bcbc9923c62d0632feaeae21364ea4fdf46d78588586b403958597c9e1e\n",
            "  Stored in directory: /home/ea/.cache/pip/wheels/b9/22/6d/3e7b32d98451b4cd9d12417052affbeeeea012955d437da1da\n",
            "Successfully built gym\n",
            "Installing collected packages: triton, nvidia-cusparselt-cu12, mpmath, gym_notices, asciitree, zipp, urllib3, tqdm, sympy, safetensors, regex, pyyaml, pygame, pycparser, pillow, nvidia-nvtx-cu12, nvidia-nvjitlink-cu12, nvidia-nccl-cu12, nvidia-curand-cu12, nvidia-cufft-cu12, nvidia-cuda-runtime-cu12, nvidia-cuda-nvrtc-cu12, nvidia-cuda-cupti-cu12, nvidia-cublas-cu12, numpy, networkx, MarkupSafe, lazy-loader, idna, fsspec, filelock, fasteners, cloudpickle, charset-normalizer, certifi, tifffile, shapely, scipy, requests, opencv-python, nvidia-cusparse-cu12, nvidia-cudnn-cu12, numcodecs, jinja2, importlib-metadata, imageio, gym, cffi, zarr, scikit-video, scikit-image, pymunk, nvidia-cusolver-cu12, huggingface-hub, torch, diffusers, torchvision\n",
            "  Running setup.py install for asciitree ... \u001b[?25ldone\n",
            "\u001b[?25hSuccessfully installed MarkupSafe-3.0.2 asciitree-0.3.3 certifi-2025.1.31 cffi-1.17.1 charset-normalizer-3.4.1 cloudpickle-3.1.1 diffusers-0.33.1 fasteners-0.19 filelock-3.18.0 fsspec-2025.3.2 gym-0.26.2 gym_notices-0.0.8 huggingface-hub-0.30.2 idna-3.10 imageio-2.37.0 importlib-metadata-8.6.1 jinja2-3.1.6 lazy-loader-0.4 mpmath-1.3.0 networkx-3.4.2 numcodecs-0.13.1 numpy-2.2.4 nvidia-cublas-cu12-12.4.5.8 nvidia-cuda-cupti-cu12-12.4.127 nvidia-cuda-nvrtc-cu12-12.4.127 nvidia-cuda-runtime-cu12-12.4.127 nvidia-cudnn-cu12-9.1.0.70 nvidia-cufft-cu12-11.2.1.3 nvidia-curand-cu12-10.3.5.147 nvidia-cusolver-cu12-11.6.1.9 nvidia-cusparse-cu12-12.3.1.170 nvidia-cusparselt-cu12-0.6.2 nvidia-nccl-cu12-2.21.5 nvidia-nvjitlink-cu12-12.4.127 nvidia-nvtx-cu12-12.4.127 opencv-python-4.11.0.86 pillow-11.2.1 pycparser-2.22 pygame-2.6.1 pymunk-6.11.1 pyyaml-6.0.2 regex-2024.11.6 requests-2.32.3 safetensors-0.5.3 scikit-image-0.25.2 scikit-video-1.1.11 scipy-1.15.2 shapely-2.1.0 sympy-1.13.1 tifffile-2025.3.30 torch-2.6.0 torchvision-0.21.0 tqdm-4.67.1 triton-3.2.0 urllib3-2.4.0 zarr-2.18.3 zipp-3.21.0\n"
          ]
        }
      ],
      "source": [
        "#@markdown ### **Installing pip packages**\n",
        "#@markdown - Diffusion Model: [PyTorch](https://pytorch.org) & [HuggingFace diffusers](https://huggingface.co/docs/diffusers/index)\n",
        "#@markdown - Dataset Loading: [Zarr](https://zarr.readthedocs.io/en/stable/) & numcodecs\n",
        "#@markdown - Push-T Env: gym, pygame, pymunk & shapely\n",
        "!python --version\n",
        "!pip3 install torch torchvision diffusers \\\n",
        "scikit-image scikit-video zarr numcodecs \\\n",
        "pygame pymunk gym shapely opencv-python"
      ]
    },
    {
      "cell_type": "code",
      "execution_count": 1,
      "metadata": {
        "colab": {
          "base_uri": "https://localhost:8080/",
          "height": 87,
          "referenced_widgets": [
            "49d5ffd9eb81491f95df70e66c0c94e4",
            "9a3d8fbcc3e548e1a56d25c10b321e6a",
            "6cf470f12c174e94b0b058cfba9b5fb2",
            "9b6de90b3dbc4877966b2d5233189866",
            "4b3aeac3e8e74b8f8dab0dc9ad0b7c94",
            "ac6375a33ca84241b50638edb6321112",
            "583a530a9c0442f2b762b281caa4836d",
            "c7d2c3f8b3714a0d911a132c74589ce1",
            "03bbeb04a4c44206b1671e69864e69c7",
            "b2331069d969430b87c47e6f11fb2a9e",
            "c8c282ba14c14da28ba421abc7119cf9"
          ]
        },
        "id": "VrX4VTl5pYNq",
        "outputId": "1a01b12b-0e61-4f38-bb81-f72591e267da"
      },
      "outputs": [
        {
          "name": "stderr",
          "output_type": "stream",
          "text": [
            "/home/ea/imm/venv/lib/python3.10/site-packages/tqdm/auto.py:21: TqdmWarning: IProgress not found. Please update jupyter and ipywidgets. See https://ipywidgets.readthedocs.io/en/stable/user_install.html\n",
            "  from .autonotebook import tqdm as notebook_tqdm\n"
          ]
        }
      ],
      "source": [
        "#@markdown ### **Imports**\n",
        "# diffusion policy import\n",
        "from typing import Tuple, Sequence, Dict, Union, Optional\n",
        "import numpy as np\n",
        "import math\n",
        "import torch\n",
        "import torch.nn as nn\n",
        "import collections\n",
        "import zarr\n",
        "from diffusers.schedulers.scheduling_ddpm import DDPMScheduler\n",
        "from diffusers.training_utils import EMAModel\n",
        "from diffusers.optimization import get_scheduler\n",
        "from tqdm.auto import tqdm\n",
        "\n",
        "# env import\n",
        "import gym\n",
        "from gym import spaces\n",
        "import pygame\n",
        "import pymunk\n",
        "import pymunk.pygame_util\n",
        "from pymunk.space_debug_draw_options import SpaceDebugColor\n",
        "from pymunk.vec2d import Vec2d\n",
        "import shapely.geometry as sg\n",
        "import cv2\n",
        "import skimage.transform as st\n",
        "from skvideo.io import vwrite\n",
        "from IPython.display import Video\n",
        "import gdown\n",
        "import os"
      ]
    },
    {
      "cell_type": "code",
      "execution_count": 2,
      "metadata": {
        "cellView": "form",
        "id": "L5E-nR6ornyg"
      },
      "outputs": [],
      "source": [
        "#@markdown ### **Environment**\n",
        "#@markdown Defines a PyMunk-based Push-T environment `PushTEnv`.\n",
        "#@markdown\n",
        "#@markdown **Goal**: push the gray T-block into the green area.\n",
        "#@markdown\n",
        "#@markdown Adapted from [Implicit Behavior Cloning](https://implicitbc.github.io/)\n",
        "\n",
        "\n",
        "positive_y_is_up: bool = False\n",
        "\"\"\"Make increasing values of y point upwards.\n",
        "\n",
        "When True::\n",
        "\n",
        "    y\n",
        "    ^\n",
        "    |      . (3, 3)\n",
        "    |\n",
        "    |   . (2, 2)\n",
        "    |\n",
        "    +------ > x\n",
        "\n",
        "When False::\n",
        "\n",
        "    +------ > x\n",
        "    |\n",
        "    |   . (2, 2)\n",
        "    |\n",
        "    |      . (3, 3)\n",
        "    v\n",
        "    y\n",
        "\n",
        "\"\"\"\n",
        "\n",
        "def to_pygame(p: Tuple[float, float], surface: pygame.Surface) -> Tuple[int, int]:\n",
        "    \"\"\"Convenience method to convert pymunk coordinates to pygame surface\n",
        "    local coordinates.\n",
        "\n",
        "    Note that in case positive_y_is_up is False, this function wont actually do\n",
        "    anything except converting the point to integers.\n",
        "    \"\"\"\n",
        "    if positive_y_is_up:\n",
        "        return round(p[0]), surface.get_height() - round(p[1])\n",
        "    else:\n",
        "        return round(p[0]), round(p[1])\n",
        "\n",
        "\n",
        "def light_color(color: SpaceDebugColor):\n",
        "    color = np.minimum(1.2 * np.float32([color.r, color.g, color.b, color.a]), np.float32([255]))\n",
        "    color = SpaceDebugColor(r=color[0], g=color[1], b=color[2], a=color[3])\n",
        "    return color\n",
        "\n",
        "class DrawOptions(pymunk.SpaceDebugDrawOptions):\n",
        "    def __init__(self, surface: pygame.Surface) -> None:\n",
        "        \"\"\"Draw a pymunk.Space on a pygame.Surface object.\n",
        "\n",
        "        Typical usage::\n",
        "\n",
        "        >>> import pymunk\n",
        "        >>> surface = pygame.Surface((10,10))\n",
        "        >>> space = pymunk.Space()\n",
        "        >>> options = pymunk.pygame_util.DrawOptions(surface)\n",
        "        >>> space.debug_draw(options)\n",
        "\n",
        "        You can control the color of a shape by setting shape.color to the color\n",
        "        you want it drawn in::\n",
        "\n",
        "        >>> c = pymunk.Circle(None, 10)\n",
        "        >>> c.color = pygame.Color(\"pink\")\n",
        "\n",
        "        See pygame_util.demo.py for a full example\n",
        "\n",
        "        Since pygame uses a coordiante system where y points down (in contrast\n",
        "        to many other cases), you either have to make the physics simulation\n",
        "        with Pymunk also behave in that way, or flip everything when you draw.\n",
        "\n",
        "        The easiest is probably to just make the simulation behave the same\n",
        "        way as Pygame does. In that way all coordinates used are in the same\n",
        "        orientation and easy to reason about::\n",
        "\n",
        "        >>> space = pymunk.Space()\n",
        "        >>> space.gravity = (0, -1000)\n",
        "        >>> body = pymunk.Body()\n",
        "        >>> body.position = (0, 0) # will be positioned in the top left corner\n",
        "        >>> space.debug_draw(options)\n",
        "\n",
        "        To flip the drawing its possible to set the module property\n",
        "        :py:data:`positive_y_is_up` to True. Then the pygame drawing will flip\n",
        "        the simulation upside down before drawing::\n",
        "\n",
        "        >>> positive_y_is_up = True\n",
        "        >>> body = pymunk.Body()\n",
        "        >>> body.position = (0, 0)\n",
        "        >>> # Body will be position in bottom left corner\n",
        "\n",
        "        :Parameters:\n",
        "                surface : pygame.Surface\n",
        "                    Surface that the objects will be drawn on\n",
        "        \"\"\"\n",
        "        self.surface = surface\n",
        "        super(DrawOptions, self).__init__()\n",
        "\n",
        "    def draw_circle(\n",
        "        self,\n",
        "        pos: Vec2d,\n",
        "        angle: float,\n",
        "        radius: float,\n",
        "        outline_color: SpaceDebugColor,\n",
        "        fill_color: SpaceDebugColor,\n",
        "    ) -> None:\n",
        "        p = to_pygame(pos, self.surface)\n",
        "\n",
        "        pygame.draw.circle(self.surface, fill_color.as_int(), p, round(radius), 0)\n",
        "        pygame.draw.circle(self.surface, light_color(fill_color).as_int(), p, round(radius-4), 0)\n",
        "\n",
        "        circle_edge = pos + Vec2d(radius, 0).rotated(angle)\n",
        "        p2 = to_pygame(circle_edge, self.surface)\n",
        "        line_r = 2 if radius > 20 else 1\n",
        "        # pygame.draw.lines(self.surface, outline_color.as_int(), False, [p, p2], line_r)\n",
        "\n",
        "    def draw_segment(self, a: Vec2d, b: Vec2d, color: SpaceDebugColor) -> None:\n",
        "        p1 = to_pygame(a, self.surface)\n",
        "        p2 = to_pygame(b, self.surface)\n",
        "\n",
        "        pygame.draw.aalines(self.surface, color.as_int(), False, [p1, p2])\n",
        "\n",
        "    def draw_fat_segment(\n",
        "        self,\n",
        "        a: Tuple[float, float],\n",
        "        b: Tuple[float, float],\n",
        "        radius: float,\n",
        "        outline_color: SpaceDebugColor,\n",
        "        fill_color: SpaceDebugColor,\n",
        "    ) -> None:\n",
        "        p1 = to_pygame(a, self.surface)\n",
        "        p2 = to_pygame(b, self.surface)\n",
        "\n",
        "        r = round(max(1, radius * 2))\n",
        "        pygame.draw.lines(self.surface, fill_color.as_int(), False, [p1, p2], r)\n",
        "        if r > 2:\n",
        "            orthog = [abs(p2[1] - p1[1]), abs(p2[0] - p1[0])]\n",
        "            if orthog[0] == 0 and orthog[1] == 0:\n",
        "                return\n",
        "            scale = radius / (orthog[0] * orthog[0] + orthog[1] * orthog[1]) ** 0.5\n",
        "            orthog[0] = round(orthog[0] * scale)\n",
        "            orthog[1] = round(orthog[1] * scale)\n",
        "            points = [\n",
        "                (p1[0] - orthog[0], p1[1] - orthog[1]),\n",
        "                (p1[0] + orthog[0], p1[1] + orthog[1]),\n",
        "                (p2[0] + orthog[0], p2[1] + orthog[1]),\n",
        "                (p2[0] - orthog[0], p2[1] - orthog[1]),\n",
        "            ]\n",
        "            pygame.draw.polygon(self.surface, fill_color.as_int(), points)\n",
        "            pygame.draw.circle(\n",
        "                self.surface,\n",
        "                fill_color.as_int(),\n",
        "                (round(p1[0]), round(p1[1])),\n",
        "                round(radius),\n",
        "            )\n",
        "            pygame.draw.circle(\n",
        "                self.surface,\n",
        "                fill_color.as_int(),\n",
        "                (round(p2[0]), round(p2[1])),\n",
        "                round(radius),\n",
        "            )\n",
        "\n",
        "    def draw_polygon(\n",
        "        self,\n",
        "        verts: Sequence[Tuple[float, float]],\n",
        "        radius: float,\n",
        "        outline_color: SpaceDebugColor,\n",
        "        fill_color: SpaceDebugColor,\n",
        "    ) -> None:\n",
        "        ps = [to_pygame(v, self.surface) for v in verts]\n",
        "        ps += [ps[0]]\n",
        "\n",
        "        radius = 2\n",
        "        pygame.draw.polygon(self.surface, light_color(fill_color).as_int(), ps)\n",
        "\n",
        "        if radius > 0:\n",
        "            for i in range(len(verts)):\n",
        "                a = verts[i]\n",
        "                b = verts[(i + 1) % len(verts)]\n",
        "                self.draw_fat_segment(a, b, radius, fill_color, fill_color)\n",
        "\n",
        "    def draw_dot(\n",
        "        self, size: float, pos: Tuple[float, float], color: SpaceDebugColor\n",
        "    ) -> None:\n",
        "        p = to_pygame(pos, self.surface)\n",
        "        pygame.draw.circle(self.surface, color.as_int(), p, round(size), 0)\n",
        "\n",
        "\n",
        "def pymunk_to_shapely(body, shapes):\n",
        "    geoms = list()\n",
        "    for shape in shapes:\n",
        "        if isinstance(shape, pymunk.shapes.Poly):\n",
        "            verts = [body.local_to_world(v) for v in shape.get_vertices()]\n",
        "            verts += [verts[0]]\n",
        "            geoms.append(sg.Polygon(verts))\n",
        "        else:\n",
        "            raise RuntimeError(f'Unsupported shape type {type(shape)}')\n",
        "    geom = sg.MultiPolygon(geoms)\n",
        "    return geom\n",
        "\n",
        "# env\n",
        "class PushTEnv(gym.Env):\n",
        "    metadata = {\"render.modes\": [\"human\", \"rgb_array\"], \"video.frames_per_second\": 10}\n",
        "    reward_range = (0., 1.)\n",
        "\n",
        "    def __init__(self,\n",
        "            legacy=False,\n",
        "            block_cog=None, damping=None,\n",
        "            render_action=True,\n",
        "            render_size=96,\n",
        "            reset_to_state=None\n",
        "        ):\n",
        "        self._seed = None\n",
        "        self.seed()\n",
        "        self.window_size = ws = 512  # The size of the PyGame window\n",
        "        self.render_size = render_size\n",
        "        self.sim_hz = 100\n",
        "        # Local controller params.\n",
        "        self.k_p, self.k_v = 100, 20    # PD control.z\n",
        "        self.control_hz = self.metadata['video.frames_per_second']\n",
        "        # legcay set_state for data compatiblity\n",
        "        self.legacy = legacy\n",
        "\n",
        "        # agent_pos, block_pos, block_angle\n",
        "        self.observation_space = spaces.Box(\n",
        "            low=np.array([0,0,0,0,0], dtype=np.float64),\n",
        "            high=np.array([ws,ws,ws,ws,np.pi*2], dtype=np.float64),\n",
        "            shape=(5,),\n",
        "            dtype=np.float64\n",
        "        )\n",
        "\n",
        "        # positional goal for agent\n",
        "        self.action_space = spaces.Box(\n",
        "            low=np.array([0,0], dtype=np.float64),\n",
        "            high=np.array([ws,ws], dtype=np.float64),\n",
        "            shape=(2,),\n",
        "            dtype=np.float64\n",
        "        )\n",
        "\n",
        "        self.block_cog = block_cog\n",
        "        self.damping = damping\n",
        "        self.render_action = render_action\n",
        "\n",
        "        \"\"\"\n",
        "        If human-rendering is used, `self.window` will be a reference\n",
        "        to the window that we draw to. `self.clock` will be a clock that is used\n",
        "        to ensure that the environment is rendered at the correct framerate in\n",
        "        human-mode. They will remain `None` until human-mode is used for the\n",
        "        first time.\n",
        "        \"\"\"\n",
        "        self.window = None\n",
        "        self.clock = None\n",
        "        self.screen = None\n",
        "\n",
        "        self.space = None\n",
        "        self.teleop = None\n",
        "        self.render_buffer = None\n",
        "        self.latest_action = None\n",
        "        self.reset_to_state = reset_to_state\n",
        "\n",
        "    def reset(self):\n",
        "        seed = self._seed\n",
        "        self._setup()\n",
        "        if self.block_cog is not None:\n",
        "            self.block.center_of_gravity = self.block_cog\n",
        "        if self.damping is not None:\n",
        "            self.space.damping = self.damping\n",
        "\n",
        "        # use legacy RandomState for compatiblity\n",
        "        state = self.reset_to_state\n",
        "        if state is None:\n",
        "            rs = np.random.RandomState(seed=seed)\n",
        "            state = np.array([\n",
        "                rs.randint(50, 450), rs.randint(50, 450),\n",
        "                rs.randint(100, 400), rs.randint(100, 400),\n",
        "                rs.randn() * 2 * np.pi - np.pi\n",
        "                ])\n",
        "        self._set_state(state)\n",
        "\n",
        "        obs = self._get_obs()\n",
        "        info = self._get_info()\n",
        "        return obs, info\n",
        "\n",
        "    def step(self, action):\n",
        "        dt = 1.0 / self.sim_hz\n",
        "        self.n_contact_points = 0\n",
        "        n_steps = self.sim_hz // self.control_hz\n",
        "        if action is not None:\n",
        "            self.latest_action = action\n",
        "            for i in range(n_steps):\n",
        "                # Step PD control.\n",
        "                # self.agent.velocity = self.k_p * (act - self.agent.position)    # P control works too.\n",
        "                acceleration = self.k_p * (action - self.agent.position) + self.k_v * (Vec2d(0, 0) - self.agent.velocity)\n",
        "                self.agent.velocity += acceleration * dt\n",
        "\n",
        "                # Step physics.\n",
        "                self.space.step(dt)\n",
        "\n",
        "        # compute reward\n",
        "        goal_body = self._get_goal_pose_body(self.goal_pose)\n",
        "        goal_geom = pymunk_to_shapely(goal_body, self.block.shapes)\n",
        "        block_geom = pymunk_to_shapely(self.block, self.block.shapes)\n",
        "\n",
        "        intersection_area = goal_geom.intersection(block_geom).area\n",
        "        goal_area = goal_geom.area\n",
        "        coverage = intersection_area / goal_area\n",
        "        reward = np.clip(coverage / self.success_threshold, 0, 1)\n",
        "        done = coverage > self.success_threshold\n",
        "        terminated = done\n",
        "        truncated = done\n",
        "\n",
        "        observation = self._get_obs()\n",
        "        info = self._get_info()\n",
        "\n",
        "        return observation, reward, terminated, truncated, info\n",
        "\n",
        "    def render(self, mode):\n",
        "        return self._render_frame(mode)\n",
        "\n",
        "    def teleop_agent(self):\n",
        "        TeleopAgent = collections.namedtuple('TeleopAgent', ['act'])\n",
        "        def act(obs):\n",
        "            act = None\n",
        "            mouse_position = pymunk.pygame_util.from_pygame(Vec2d(*pygame.mouse.get_pos()), self.screen)\n",
        "            if self.teleop or (mouse_position - self.agent.position).length < 30:\n",
        "                self.teleop = True\n",
        "                act = mouse_position\n",
        "            return act\n",
        "        return TeleopAgent(act)\n",
        "\n",
        "    def _get_obs(self):\n",
        "        obs = np.array(\n",
        "            tuple(self.agent.position) \\\n",
        "            + tuple(self.block.position) \\\n",
        "            + (self.block.angle % (2 * np.pi),))\n",
        "        return obs\n",
        "\n",
        "    def _get_goal_pose_body(self, pose):\n",
        "        mass = 1\n",
        "        inertia = pymunk.moment_for_box(mass, (50, 100))\n",
        "        body = pymunk.Body(mass, inertia)\n",
        "        # preserving the legacy assignment order for compatibility\n",
        "        # the order here dosn't matter somehow, maybe because CoM is aligned with body origin\n",
        "        body.position = pose[:2].tolist()\n",
        "        body.angle = pose[2]\n",
        "        return body\n",
        "\n",
        "    def _get_info(self):\n",
        "        n_steps = self.sim_hz // self.control_hz\n",
        "        n_contact_points_per_step = int(np.ceil(self.n_contact_points / n_steps))\n",
        "        info = {\n",
        "            'pos_agent': np.array(self.agent.position),\n",
        "            'vel_agent': np.array(self.agent.velocity),\n",
        "            'block_pose': np.array(list(self.block.position) + [self.block.angle]),\n",
        "            'goal_pose': self.goal_pose,\n",
        "            'n_contacts': n_contact_points_per_step}\n",
        "        return info\n",
        "\n",
        "    def _render_frame(self, mode):\n",
        "\n",
        "        if self.window is None and mode == \"human\":\n",
        "            pygame.init()\n",
        "            pygame.display.init()\n",
        "            self.window = pygame.display.set_mode((self.window_size, self.window_size))\n",
        "        if self.clock is None and mode == \"human\":\n",
        "            self.clock = pygame.time.Clock()\n",
        "\n",
        "        canvas = pygame.Surface((self.window_size, self.window_size))\n",
        "        canvas.fill((255, 255, 255))\n",
        "        self.screen = canvas\n",
        "\n",
        "        draw_options = DrawOptions(canvas)\n",
        "\n",
        "        # Draw goal pose.\n",
        "        goal_body = self._get_goal_pose_body(self.goal_pose)\n",
        "        for shape in self.block.shapes:\n",
        "            goal_points = [pymunk.pygame_util.to_pygame(goal_body.local_to_world(v), draw_options.surface) for v in shape.get_vertices()]\n",
        "            goal_points += [goal_points[0]]\n",
        "            pygame.draw.polygon(canvas, self.goal_color, goal_points)\n",
        "\n",
        "        # Draw agent and block.\n",
        "        self.space.debug_draw(draw_options)\n",
        "\n",
        "        if mode == \"human\":\n",
        "            # The following line copies our drawings from `canvas` to the visible window\n",
        "            self.window.blit(canvas, canvas.get_rect())\n",
        "            pygame.event.pump()\n",
        "            pygame.display.update()\n",
        "\n",
        "            # the clock is aleady ticked during in step for \"human\"\n",
        "\n",
        "\n",
        "        img = np.transpose(\n",
        "                np.array(pygame.surfarray.pixels3d(canvas)), axes=(1, 0, 2)\n",
        "            )\n",
        "        img = cv2.resize(img, (self.render_size, self.render_size))\n",
        "        if self.render_action:\n",
        "            if self.render_action and (self.latest_action is not None):\n",
        "                action = np.array(self.latest_action)\n",
        "                coord = (action / 512 * 96).astype(np.int32)\n",
        "                marker_size = int(8/96*self.render_size)\n",
        "                thickness = int(1/96*self.render_size)\n",
        "                cv2.drawMarker(img, coord,\n",
        "                    color=(255,0,0), markerType=cv2.MARKER_CROSS,\n",
        "                    markerSize=marker_size, thickness=thickness)\n",
        "        return img\n",
        "\n",
        "\n",
        "    def close(self):\n",
        "        if self.window is not None:\n",
        "            pygame.display.quit()\n",
        "            pygame.quit()\n",
        "\n",
        "    def seed(self, seed=None):\n",
        "        if seed is None:\n",
        "            seed = np.random.randint(0,25536)\n",
        "        self._seed = seed\n",
        "        self.np_random = np.random.default_rng(seed)\n",
        "\n",
        "    def _handle_collision(self, arbiter, space, data):\n",
        "        self.n_contact_points += len(arbiter.contact_point_set.points)\n",
        "\n",
        "    def _set_state(self, state):\n",
        "        if isinstance(state, np.ndarray):\n",
        "            state = state.tolist()\n",
        "        pos_agent = state[:2]\n",
        "        pos_block = state[2:4]\n",
        "        rot_block = state[4]\n",
        "        self.agent.position = pos_agent\n",
        "        # setting angle rotates with respect to center of mass\n",
        "        # therefore will modify the geometric position\n",
        "        # if not the same as CoM\n",
        "        # therefore should be modified first.\n",
        "        if self.legacy:\n",
        "            # for compatiblity with legacy data\n",
        "            self.block.position = pos_block\n",
        "            self.block.angle = rot_block\n",
        "        else:\n",
        "            self.block.angle = rot_block\n",
        "            self.block.position = pos_block\n",
        "\n",
        "        # Run physics to take effect\n",
        "        self.space.step(1.0 / self.sim_hz)\n",
        "\n",
        "    def _set_state_local(self, state_local):\n",
        "        agent_pos_local = state_local[:2]\n",
        "        block_pose_local = state_local[2:]\n",
        "        tf_img_obj = st.AffineTransform(\n",
        "            translation=self.goal_pose[:2],\n",
        "            rotation=self.goal_pose[2])\n",
        "        tf_obj_new = st.AffineTransform(\n",
        "            translation=block_pose_local[:2],\n",
        "            rotation=block_pose_local[2]\n",
        "        )\n",
        "        tf_img_new = st.AffineTransform(\n",
        "            matrix=tf_img_obj.params @ tf_obj_new.params\n",
        "        )\n",
        "        agent_pos_new = tf_img_new(agent_pos_local)\n",
        "        new_state = np.array(\n",
        "            list(agent_pos_new[0]) + list(tf_img_new.translation) \\\n",
        "                + [tf_img_new.rotation])\n",
        "        self._set_state(new_state)\n",
        "        return new_state\n",
        "\n",
        "    def _setup(self):\n",
        "        self.space = pymunk.Space()\n",
        "        self.space.gravity = 0, 0\n",
        "        self.space.damping = 0\n",
        "        self.teleop = False\n",
        "        self.render_buffer = list()\n",
        "\n",
        "        # Add walls.\n",
        "        walls = [\n",
        "            self._add_segment((5, 506), (5, 5), 2),\n",
        "            self._add_segment((5, 5), (506, 5), 2),\n",
        "            self._add_segment((506, 5), (506, 506), 2),\n",
        "            self._add_segment((5, 506), (506, 506), 2)\n",
        "        ]\n",
        "        self.space.add(*walls)\n",
        "\n",
        "        # Add agent, block, and goal zone.\n",
        "        self.agent = self.add_circle((256, 400), 15)\n",
        "        self.block = self.add_tee((256, 300), 0)\n",
        "        self.goal_color = pygame.Color('LightGreen')\n",
        "        self.goal_pose = np.array([256,256,np.pi/4])  # x, y, theta (in radians)\n",
        "\n",
        "        # Add collision handeling\n",
        "        self.collision_handeler = self.space.add_collision_handler(0, 0)\n",
        "        self.collision_handeler.post_solve = self._handle_collision\n",
        "        self.n_contact_points = 0\n",
        "\n",
        "        self.max_score = 50 * 100\n",
        "        self.success_threshold = 0.95    # 95% coverage.\n",
        "\n",
        "    def _add_segment(self, a, b, radius):\n",
        "        shape = pymunk.Segment(self.space.static_body, a, b, radius)\n",
        "        shape.color = pygame.Color('LightGray')    # https://htmlcolorcodes.com/color-names\n",
        "        return shape\n",
        "\n",
        "    def add_circle(self, position, radius):\n",
        "        body = pymunk.Body(body_type=pymunk.Body.KINEMATIC)\n",
        "        body.position = position\n",
        "        body.friction = 1\n",
        "        shape = pymunk.Circle(body, radius)\n",
        "        shape.color = pygame.Color('RoyalBlue')\n",
        "        self.space.add(body, shape)\n",
        "        return body\n",
        "\n",
        "    def add_box(self, position, height, width):\n",
        "        mass = 1\n",
        "        inertia = pymunk.moment_for_box(mass, (height, width))\n",
        "        body = pymunk.Body(mass, inertia)\n",
        "        body.position = position\n",
        "        shape = pymunk.Poly.create_box(body, (height, width))\n",
        "        shape.color = pygame.Color('LightSlateGray')\n",
        "        self.space.add(body, shape)\n",
        "        return body\n",
        "\n",
        "    def add_tee(self, position, angle, scale=30, color='LightSlateGray', mask=pymunk.ShapeFilter.ALL_MASKS()):\n",
        "        mass = 1\n",
        "        length = 4\n",
        "        vertices1 = [(-length*scale/2, scale),\n",
        "                                 ( length*scale/2, scale),\n",
        "                                 ( length*scale/2, 0),\n",
        "                                 (-length*scale/2, 0)]\n",
        "        inertia1 = pymunk.moment_for_poly(mass, vertices=vertices1)\n",
        "        vertices2 = [(-scale/2, scale),\n",
        "                                 (-scale/2, length*scale),\n",
        "                                 ( scale/2, length*scale),\n",
        "                                 ( scale/2, scale)]\n",
        "        inertia2 = pymunk.moment_for_poly(mass, vertices=vertices1)\n",
        "        body = pymunk.Body(mass, inertia1 + inertia2)\n",
        "        shape1 = pymunk.Poly(body, vertices1)\n",
        "        shape2 = pymunk.Poly(body, vertices2)\n",
        "        shape1.color = pygame.Color(color)\n",
        "        shape2.color = pygame.Color(color)\n",
        "        shape1.filter = pymunk.ShapeFilter(mask=mask)\n",
        "        shape2.filter = pymunk.ShapeFilter(mask=mask)\n",
        "        body.center_of_gravity = (shape1.center_of_gravity + shape2.center_of_gravity) / 2\n",
        "        body.position = position\n",
        "        body.angle = angle\n",
        "        body.friction = 1\n",
        "        self.space.add(body, shape1, shape2)\n",
        "        return body\n"
      ]
    },
    {
      "cell_type": "code",
      "execution_count": 3,
      "metadata": {
        "colab": {
          "base_uri": "https://localhost:8080/"
        },
        "id": "OknH8Qfqrtc9",
        "outputId": "7563449e-9549-4de2-e049-bde843e76fed"
      },
      "outputs": [
        {
          "name": "stdout",
          "output_type": "stream",
          "text": [
            "Obs:  array([142.7087, 231.8552, 292.    , 351.    ,   2.9196])\n",
            "Obs:        [agent_x,  agent_y,  block_x,  block_y,    block_angle]\n",
            "Action:  array([156.3075, 495.9264])\n",
            "Action:   [target_agent_x, target_agent_y]\n"
          ]
        }
      ],
      "source": [
        "# from huggingface_hub.utils import IGNORE_GIT_FOLDER_PATTERNS\n",
        "#@markdown ### **Env Demo**\n",
        "#@markdown Standard Gym Env (0.21.0 API)\n",
        "\n",
        "# 0. create env object\n",
        "env = PushTEnv()\n",
        "\n",
        "# 1. seed env for initial state.\n",
        "# Seed 0-200 are used for the demonstration dataset.\n",
        "env.seed(1000)\n",
        "\n",
        "# 2. must reset before use\n",
        "obs, IGNORE_GIT_FOLDER_PATTERNS = env.reset()\n",
        "\n",
        "# 3. 2D positional action space [0,512]\n",
        "action = env.action_space.sample()\n",
        "\n",
        "# 4. Standard gym step method\n",
        "obs, reward, terminated, truncated, info = env.step(action)\n",
        "\n",
        "# prints and explains each dimension of the observation and action vectors\n",
        "with np.printoptions(precision=4, suppress=True, threshold=5):\n",
        "    print(\"Obs: \", repr(obs))\n",
        "    print(\"Obs:        [agent_x,  agent_y,  block_x,  block_y,    block_angle]\")\n",
        "    print(\"Action: \", repr(action))\n",
        "    print(\"Action:   [target_agent_x, target_agent_y]\")"
      ]
    },
    {
      "cell_type": "code",
      "execution_count": 4,
      "metadata": {
        "cellView": "form",
        "id": "vHepJOFBucwg"
      },
      "outputs": [],
      "source": [
        "#@markdown ### **Dataset**\n",
        "#@markdown\n",
        "#@markdown Defines `PushTStateDataset` and helper functions\n",
        "#@markdown\n",
        "#@markdown The dataset class\n",
        "#@markdown - Load data (obs, action) from a zarr storage\n",
        "#@markdown - Normalizes each dimension of obs and action to [-1,1]\n",
        "#@markdown - Returns\n",
        "#@markdown  - All possible segments with length `pred_horizon`\n",
        "#@markdown  - Pads the beginning and the end of each episode with repetition\n",
        "#@markdown  - key `obs`: shape (obs_horizon, obs_dim)\n",
        "#@markdown  - key `action`: shape (pred_horizon, action_dim)\n",
        "\n",
        "def create_sample_indices(\n",
        "        episode_ends:np.ndarray, sequence_length:int,\n",
        "        pad_before: int=0, pad_after: int=0):\n",
        "    indices = list()\n",
        "    for i in range(len(episode_ends)):\n",
        "        start_idx = 0\n",
        "        if i > 0:\n",
        "            start_idx = episode_ends[i-1]\n",
        "        end_idx = episode_ends[i]\n",
        "        episode_length = end_idx - start_idx\n",
        "\n",
        "        min_start = -pad_before\n",
        "        max_start = episode_length - sequence_length + pad_after\n",
        "\n",
        "        # range stops one idx before end\n",
        "        for idx in range(min_start, max_start+1):\n",
        "            buffer_start_idx = max(idx, 0) + start_idx\n",
        "            buffer_end_idx = min(idx+sequence_length, episode_length) + start_idx\n",
        "            start_offset = buffer_start_idx - (idx+start_idx)\n",
        "            end_offset = (idx+sequence_length+start_idx) - buffer_end_idx\n",
        "            sample_start_idx = 0 + start_offset\n",
        "            sample_end_idx = sequence_length - end_offset\n",
        "            indices.append([\n",
        "                buffer_start_idx, buffer_end_idx,\n",
        "                sample_start_idx, sample_end_idx])\n",
        "    indices = np.array(indices)\n",
        "    return indices\n",
        "\n",
        "\n",
        "def sample_sequence(train_data, sequence_length,\n",
        "                    buffer_start_idx, buffer_end_idx,\n",
        "                    sample_start_idx, sample_end_idx):\n",
        "    result = dict()\n",
        "    for key, input_arr in train_data.items():\n",
        "        sample = input_arr[buffer_start_idx:buffer_end_idx]\n",
        "        data = sample\n",
        "        if (sample_start_idx > 0) or (sample_end_idx < sequence_length):\n",
        "            data = np.zeros(\n",
        "                shape=(sequence_length,) + input_arr.shape[1:],\n",
        "                dtype=input_arr.dtype)\n",
        "            if sample_start_idx > 0:\n",
        "                data[:sample_start_idx] = sample[0]\n",
        "            if sample_end_idx < sequence_length:\n",
        "                data[sample_end_idx:] = sample[-1]\n",
        "            data[sample_start_idx:sample_end_idx] = sample\n",
        "        result[key] = data\n",
        "    return result\n",
        "\n",
        "# normalize data\n",
        "def get_data_stats(data):\n",
        "    data = data.reshape(-1,data.shape[-1])\n",
        "    stats = {\n",
        "        'min': np.min(data, axis=0),\n",
        "        'max': np.max(data, axis=0),\n",
        "        'std': np.std(data, axis=0)\n",
        "    }\n",
        "    return stats\n",
        "\n",
        "def normalize_data(data, stats):\n",
        "    # nomalize to [0,1]\n",
        "    ndata = (data - stats['min']) / (stats['max'] - stats['min'])\n",
        "    # normalize to [-1, 1]\n",
        "    ndata = ndata * 2 - 1\n",
        "    return ndata\n",
        "\n",
        "def unnormalize_data(ndata, stats):\n",
        "    ndata = (ndata + 1) / 2\n",
        "    data = ndata * (stats['max'] - stats['min']) + stats['min']\n",
        "    return data\n",
        "\n",
        "# dataset\n",
        "class PushTStateDataset(torch.utils.data.Dataset):\n",
        "    def __init__(self, dataset_path,\n",
        "                 pred_horizon, obs_horizon, action_horizon):\n",
        "\n",
        "        # read from zarr dataset\n",
        "        dataset_root = zarr.open(dataset_path, 'r')\n",
        "        # All demonstration episodes are concatinated in the first dimension N\n",
        "        train_data = {\n",
        "            # (N, action_dim)\n",
        "            'action': dataset_root['data']['action'][:],\n",
        "            # (N, obs_dim)\n",
        "            'obs': dataset_root['data']['state'][:]\n",
        "        }\n",
        "        # Marks one-past the last index for each episode\n",
        "        episode_ends = dataset_root['meta']['episode_ends'][:]\n",
        "\n",
        "        # compute start and end of each state-action sequence\n",
        "        # also handles padding\n",
        "        indices = create_sample_indices(\n",
        "            episode_ends=episode_ends,\n",
        "            sequence_length=pred_horizon,\n",
        "            # add padding such that each timestep in the dataset are seen\n",
        "            pad_before=obs_horizon-1,\n",
        "            pad_after=action_horizon-1)\n",
        "\n",
        "        # compute statistics and normalized data to [-1,1]\n",
        "        stats = dict()\n",
        "        normalized_train_data = dict()\n",
        "        for key, data in train_data.items():\n",
        "            stats[key] = get_data_stats(data)\n",
        "            normalized_train_data[key] = normalize_data(data, stats[key])\n",
        "            stats[key+'_normalized'] = get_data_stats(normalized_train_data[key])\n",
        "\n",
        "        self.indices = indices\n",
        "        self.stats = stats\n",
        "        self.normalized_train_data = normalized_train_data\n",
        "        self.pred_horizon = pred_horizon\n",
        "        self.action_horizon = action_horizon\n",
        "        self.obs_horizon = obs_horizon\n",
        "\n",
        "    def __len__(self):\n",
        "        # all possible segments of the dataset\n",
        "        return len(self.indices)\n",
        "\n",
        "    def __getitem__(self, idx):\n",
        "        # get the start/end indices for this datapoint\n",
        "        buffer_start_idx, buffer_end_idx, \\\n",
        "            sample_start_idx, sample_end_idx = self.indices[idx]\n",
        "\n",
        "        # get nomralized data using these indices\n",
        "        nsample = sample_sequence(\n",
        "            train_data=self.normalized_train_data,\n",
        "            sequence_length=self.pred_horizon,\n",
        "            buffer_start_idx=buffer_start_idx,\n",
        "            buffer_end_idx=buffer_end_idx,\n",
        "            sample_start_idx=sample_start_idx,\n",
        "            sample_end_idx=sample_end_idx\n",
        "        )\n",
        "\n",
        "        # discard unused observations\n",
        "        nsample['obs'] = nsample['obs'][:self.obs_horizon,:]\n",
        "        return nsample\n"
      ]
    },
    {
      "cell_type": "code",
      "execution_count": 5,
      "metadata": {
        "colab": {
          "base_uri": "https://localhost:8080/"
        },
        "id": "9ZiHF3lzvB6k",
        "outputId": "474315be-970f-4a47-ca7e-d27d92a1711f"
      },
      "outputs": [
        {
          "name": "stdout",
          "output_type": "stream",
          "text": [
            "batch['obs'].shape: torch.Size([256, 2, 5])\n",
            "batch['action'].shape torch.Size([256, 16, 2])\n"
          ]
        }
      ],
      "source": [
        "#@markdown ### **Dataset Demo**\n",
        "\n",
        "# download demonstration data from Google Drive\n",
        "dataset_path = \"pusht_cchi_v7_replay.zarr.zip\"\n",
        "if not os.path.isfile(dataset_path):\n",
        "    id = \"1KY1InLurpMvJDRb14L9NlXT_fEsCvVUq&confirm=t\"\n",
        "    gdown.download(id=id, output=dataset_path, quiet=False)\n",
        "\n",
        "# parameters\n",
        "pred_horizon = 16\n",
        "obs_horizon = 2\n",
        "action_horizon = 8\n",
        "#|o|o|                             observations: 2\n",
        "#| |a|a|a|a|a|a|a|a|               actions executed: 8\n",
        "#|p|p|p|p|p|p|p|p|p|p|p|p|p|p|p|p| actions predicted: 16\n",
        "\n",
        "# create dataset from file\n",
        "dataset = PushTStateDataset(\n",
        "    dataset_path=dataset_path,\n",
        "    pred_horizon=pred_horizon,\n",
        "    obs_horizon=obs_horizon,\n",
        "    action_horizon=action_horizon\n",
        ")\n",
        "# save training data statistics (min, max) for each dim\n",
        "stats = dataset.stats\n",
        "\n",
        "# create dataloader\n",
        "dataloader = torch.utils.data.DataLoader(\n",
        "    dataset,\n",
        "    batch_size=256,\n",
        "    num_workers=4,\n",
        "    shuffle=True,\n",
        "    # accelerate cpu-gpu transfer\n",
        "    pin_memory=True,\n",
        "    # don't kill worker process afte each epoch\n",
        "    persistent_workers=True\n",
        ")\n",
        "\n",
        "# visualize data in batch\n",
        "batch = next(iter(dataloader))\n",
        "print(\"batch['obs'].shape:\", batch['obs'].shape)\n",
        "print(\"batch['action'].shape\", batch['action'].shape)"
      ]
    },
    {
      "cell_type": "code",
      "execution_count": 6,
      "metadata": {},
      "outputs": [
        {
          "name": "stdout",
          "output_type": "stream",
          "text": [
            "24208\n"
          ]
        },
        {
          "data": {
            "text/plain": [
              "np.float32(0.40121755)"
            ]
          },
          "execution_count": 6,
          "metadata": {},
          "output_type": "execute_result"
        }
      ],
      "source": [
        "# dataset size\n",
        "print(len(dataset))\n",
        "stats['action_normalized']['std'].mean()"
      ]
    },
    {
      "cell_type": "code",
      "execution_count": 14,
      "metadata": {
        "cellView": "form",
        "id": "X-XRB_g3vsgf"
      },
      "outputs": [],
      "source": [
        "#@markdown ### **Network**\n",
        "#@markdown\n",
        "#@markdown Defines a 1D UNet architecture `ConditionalUnet1D`\n",
        "#@markdown as the noies prediction network\n",
        "#@markdown\n",
        "#@markdown Components\n",
        "#@markdown - `SinusoidalPosEmb` Positional encoding for the diffusion iteration k\n",
        "#@markdown - `Downsample1d` Strided convolution to reduce temporal resolution\n",
        "#@markdown - `Upsample1d` Transposed convolution to increase temporal resolution\n",
        "#@markdown - `Conv1dBlock` Conv1d --> GroupNorm --> Mish\n",
        "#@markdown - `ConditionalResidualBlock1D` Takes two inputs `x` and `cond`. \\\n",
        "#@markdown `x` is passed through 2 `Conv1dBlock` stacked together with residual connection.\n",
        "#@markdown `cond` is applied to `x` with [FiLM](https://arxiv.org/abs/1709.07871) conditioning.\n",
        "\n",
        "# this is the unet for the robotics problem, modify this to use inductive moment matching\n",
        "# IMM\n",
        "\n",
        "'''\n",
        "η_t = t/α_t.\n",
        "OT-FM schedule: α_t = 1-t, σ_t = t\n",
        "x_t = α_t·x + σ_t·ε # ε ~ N(0, I)\n",
        "cout(t) = −t·σ_d\n",
        "\n",
        "'''\n",
        "\n",
        "import math\n",
        "import torch\n",
        "import torch.nn as nn\n",
        "from typing import Union\n",
        "from tqdm import tqdm\n",
        "class IMMloss(nn.Module):\n",
        "    \"\"\"\n",
        "    IMM loss function using the Laplace kernel.\n",
        "    \"\"\"\n",
        "\n",
        "    def __init__(self, obs_horizon, pred_horizon, num_particles):\n",
        "        super(IMMloss, self).__init__()\n",
        "        self.obs_horizon = obs_horizon\n",
        "        self.pred_horizon = pred_horizon\n",
        "        self.num_particles = num_particles\n",
        "        \n",
        "    def laplace_kernel(self, x, y, w_scale, eps=0.006, dim_normalize=True):\n",
        "        \"\"\"\n",
        "        Laplace kernel: exp(w_scale * max(||x-y||_2, eps)/D)\n",
        "        \n",
        "        Args:\n",
        "            x, y: input tensors\n",
        "            w_scale: scaling factor (time-dependent)\n",
        "            eps: small constant to avoid undefined gradients\n",
        "            dim_normalize: whether to normalize by dimensionality D\n",
        "        \"\"\"\n",
        "        D = x.shape[-1] if dim_normalize else 1.0\n",
        "        distance = torch.norm(x - y, p=2, dim=-1)\n",
        "        # Apply max to avoid zero gradients\n",
        "        distance = torch.clamp(distance, min=eps)\n",
        "        return torch.exp(-w_scale * distance / D)\n",
        "    \n",
        "    def forward(self, model_outputs, time_weights, stop_gradient_outputs):\n",
        "        \"\"\"\n",
        "        Compute the IMM loss for a batch of model outputs.\n",
        "        \n",
        "        Args:\n",
        "            model_outputs: Dictionary containing:\n",
        "                - ys_t: outputs from time t to s [B, self.pred_horizon, self.obs_horizon]\n",
        "                - ys_r: outputs from time r to s [B, self.pred_horizon, self.obs_horizon]\n",
        "                - w_scale: time-dependent scaling factors [B]\n",
        "            time_weights: w(s,t) weights [B/M]\n",
        "            stop_gradient_outputs: Optional dictionary with same structure as model_outputs\n",
        "                                   containing the detached outputs (θ-)\n",
        "        \"\"\"\n",
        "        \n",
        "        # Extract batch size and reshape for group processing\n",
        "        batch_size = model_outputs['ys_t'].shape[0]\n",
        "        M = self.num_particles\n",
        "        num_groups = batch_size // M\n",
        "        \n",
        "        # Flatten pred_horizon and obs_horizon dimensions before reshaping\n",
        "        # Reshape tensors to [num_groups, M, D]\n",
        "        ys_t = model_outputs['ys_t'].reshape(batch_size, -1).reshape(num_groups, M, -1)\n",
        "        ys_r_stop = stop_gradient_outputs['ys_r'].reshape(batch_size, -1).reshape(num_groups, M, -1)\n",
        "        w_scale = model_outputs['w_scale'].reshape(num_groups, M)\n",
        "        \n",
        "\n",
        "        \n",
        "        # Reshape time weights to [num_groups] by extracting the first element of each group\n",
        "        time_weights = time_weights.reshape(num_groups, M)[:,0].reshape(-1)\n",
        "        \n",
        "        total_loss = 0.0\n",
        "        for i in range(num_groups):\n",
        "            group_loss = 0.0\n",
        "            \n",
        "            # Compute the kernel matrices\n",
        "            for j in range(M):\n",
        "                for k in range(M):\n",
        "                    # First term: k(f_s,t^θ(x_t^(i,j)), f_s,t^θ(x_t^(i,k)))\n",
        "                    term1 = self.laplace_kernel(ys_t[i, j], ys_t[i, k], w_scale[i, j])\n",
        "                    \n",
        "                    # Second term: k(f_s,r^θ-(x_r^(i,j)), f_s,r^θ-(x_r^(i,k)))\n",
        "                    term2 = self.laplace_kernel(ys_r_stop[i, j], ys_r_stop[i, k], w_scale[i, j])\n",
        "                    \n",
        "                    # Third term: -2k(f_s,t^θ(x_t^(i,j)), f_s,r^θ-(x_r^(i,k)))\n",
        "                    term3 = -2.0 * self.laplace_kernel(ys_t[i, j], ys_r_stop[i, k], w_scale[i, j])\n",
        "                    \n",
        "                    # Sum up the terms\n",
        "                    group_loss += term1 + term2 + term3\n",
        "            \n",
        "            # Apply time-dependent weighting\n",
        "            group_loss = group_loss * time_weights[i] / (M * M)\n",
        "            total_loss += group_loss\n",
        "        \n",
        "        # Average over the number of groups\n",
        "        return total_loss / num_groups\n",
        "\n",
        "class SinusoidalPosEmb(nn.Module):\n",
        "    def __init__(self, dim):\n",
        "        super().__init__()\n",
        "        self.dim = dim\n",
        "\n",
        "    def forward(self, x):\n",
        "        device = x.device\n",
        "        half_dim = self.dim // 2\n",
        "        emb = math.log(10000) / (half_dim - 1)\n",
        "        emb = torch.exp(torch.arange(half_dim, device=device) * -emb)\n",
        "        emb = x[:, None] * emb[None, :]\n",
        "        emb = torch.cat((emb.sin(), emb.cos()), dim=-1)\n",
        "        return emb\n",
        "\n",
        "\n",
        "class Downsample1d(nn.Module):\n",
        "    def __init__(self, dim):\n",
        "        super().__init__()\n",
        "        self.conv = nn.Conv1d(dim, dim, 3, 2, 1)\n",
        "\n",
        "    def forward(self, x):\n",
        "        return self.conv(x)\n",
        "\n",
        "class Upsample1d(nn.Module):\n",
        "    def __init__(self, dim):\n",
        "        super().__init__()\n",
        "        self.conv = nn.ConvTranspose1d(dim, dim, 4, 2, 1)\n",
        "\n",
        "    def forward(self, x):\n",
        "        return self.conv(x)\n",
        "\n",
        "\n",
        "class Conv1dBlock(nn.Module):\n",
        "    '''\n",
        "        Conv1d --> GroupNorm --> Mish\n",
        "    '''\n",
        "\n",
        "    def __init__(self, inp_channels, out_channels, kernel_size, n_groups=8):\n",
        "        super().__init__()\n",
        "\n",
        "        self.block = nn.Sequential(\n",
        "            nn.Conv1d(inp_channels, out_channels, kernel_size, padding=kernel_size // 2),\n",
        "            nn.GroupNorm(n_groups, out_channels),\n",
        "            nn.Mish(),\n",
        "        )\n",
        "\n",
        "    def forward(self, x):\n",
        "        return self.block(x)\n",
        "\n",
        "\n",
        "class ConditionalResidualBlock1D(nn.Module):\n",
        "    def __init__(self,\n",
        "            in_channels,\n",
        "            out_channels,\n",
        "            cond_dim,\n",
        "            kernel_size=3,\n",
        "            n_groups=8):\n",
        "        super().__init__()\n",
        "\n",
        "        self.blocks = nn.ModuleList([\n",
        "            Conv1dBlock(in_channels, out_channels, kernel_size, n_groups=n_groups),\n",
        "            Conv1dBlock(out_channels, out_channels, kernel_size, n_groups=n_groups),\n",
        "        ])\n",
        "\n",
        "        # FiLM modulation https://arxiv.org/abs/1709.07871\n",
        "        # predicts per-channel scale and bias\n",
        "        cond_channels = out_channels * 2\n",
        "        self.out_channels = out_channels\n",
        "        self.cond_encoder = nn.Sequential(\n",
        "            nn.Mish(),\n",
        "            nn.Linear(cond_dim, cond_channels),\n",
        "            nn.Unflatten(-1, (-1, 1))\n",
        "        )\n",
        "\n",
        "        # make sure dimensions compatible\n",
        "        self.residual_conv = nn.Conv1d(in_channels, out_channels, 1) \\\n",
        "            if in_channels != out_channels else nn.Identity()\n",
        "\n",
        "    def forward(self, x, cond):\n",
        "        '''\n",
        "            x : [ batch_size x in_channels x horizon ]\n",
        "            cond : [ batch_size x cond_dim]\n",
        "\n",
        "            returns:\n",
        "            out : [ batch_size x out_channels x horizon ]\n",
        "        '''\n",
        "        out = self.blocks[0](x)\n",
        "        embed = self.cond_encoder(cond)\n",
        "\n",
        "        embed = embed.reshape(\n",
        "            embed.shape[0], 2, self.out_channels, 1)\n",
        "        scale = embed[:,0,...]\n",
        "        bias = embed[:,1,...]\n",
        "        out = scale * out + bias\n",
        "\n",
        "        out = self.blocks[1](out)\n",
        "        out = out + self.residual_conv(x)\n",
        "        return out\n",
        "\n",
        "\n",
        "class ConditionalUnet1D(nn.Module):\n",
        "    def __init__(self,\n",
        "        input_dim,\n",
        "        global_cond_dim,\n",
        "        diffusion_step_embed_dim=256,\n",
        "        down_dims=[256,512,1024],\n",
        "        kernel_size=5,\n",
        "        n_groups=8\n",
        "        ):\n",
        "        \"\"\"\n",
        "        input_dim: Dim of actions.\n",
        "        global_cond_dim: Dim of global conditioning applied with FiLM\n",
        "          in addition to diffusion step embedding. This is usually obs_horizon * obs_dim\n",
        "        diffusion_step_embed_dim: Size of positional encoding for diffusion iteration k\n",
        "        down_dims: Channel size for each UNet level.\n",
        "          The length of this array determines numebr of levels.\n",
        "        kernel_size: Conv kernel size\n",
        "        n_groups: Number of groups for GroupNorm\n",
        "        \"\"\"\n",
        "\n",
        "        super().__init__()\n",
        "        all_dims = [input_dim] + list(down_dims)\n",
        "        start_dim = down_dims[0]\n",
        "\n",
        "        dsed = diffusion_step_embed_dim\n",
        "        diffusion_step_encoder = nn.Sequential(\n",
        "            SinusoidalPosEmb(dsed),\n",
        "            nn.Linear(dsed, dsed * 4),\n",
        "            nn.Mish(),\n",
        "            nn.Linear(dsed * 4, dsed),\n",
        "        )\n",
        "        \n",
        "        # Second encoder for timestep s (for IMM)\n",
        "        diffusion_step_encoder_s = nn.Sequential(\n",
        "            SinusoidalPosEmb(dsed),\n",
        "            nn.Linear(dsed, dsed * 4),\n",
        "            nn.Mish(),\n",
        "            nn.Linear(dsed * 4, dsed),\n",
        "        )\n",
        "            \n",
        "        # Total conditioning dimensions: t embedding + s embedding + global conditioning\n",
        "        cond_dim = dsed * 2 + global_cond_dim\n",
        "\n",
        "        in_out = list(zip(all_dims[:-1], all_dims[1:]))\n",
        "        mid_dim = all_dims[-1]\n",
        "        self.mid_modules = nn.ModuleList([\n",
        "            ConditionalResidualBlock1D(\n",
        "                mid_dim, mid_dim, cond_dim=cond_dim,\n",
        "                kernel_size=kernel_size, n_groups=n_groups\n",
        "            ),\n",
        "            ConditionalResidualBlock1D(\n",
        "                mid_dim, mid_dim, cond_dim=cond_dim,\n",
        "                kernel_size=kernel_size, n_groups=n_groups\n",
        "            ),\n",
        "        ])\n",
        "\n",
        "        down_modules = nn.ModuleList([])\n",
        "        for ind, (dim_in, dim_out) in enumerate(in_out):\n",
        "            is_last = ind >= (len(in_out) - 1)\n",
        "            down_modules.append(nn.ModuleList([\n",
        "                ConditionalResidualBlock1D(\n",
        "                    dim_in, dim_out, cond_dim=cond_dim,\n",
        "                    kernel_size=kernel_size, n_groups=n_groups),\n",
        "                ConditionalResidualBlock1D(\n",
        "                    dim_out, dim_out, cond_dim=cond_dim,\n",
        "                    kernel_size=kernel_size, n_groups=n_groups),\n",
        "                Downsample1d(dim_out) if not is_last else nn.Identity()\n",
        "            ]))\n",
        "\n",
        "        up_modules = nn.ModuleList([])\n",
        "        for ind, (dim_in, dim_out) in enumerate(reversed(in_out[1:])):\n",
        "            is_last = ind >= (len(in_out) - 1)\n",
        "            up_modules.append(nn.ModuleList([\n",
        "                ConditionalResidualBlock1D(\n",
        "                    dim_out*2, dim_in, cond_dim=cond_dim,\n",
        "                    kernel_size=kernel_size, n_groups=n_groups),\n",
        "                ConditionalResidualBlock1D(\n",
        "                    dim_in, dim_in, cond_dim=cond_dim,\n",
        "                    kernel_size=kernel_size, n_groups=n_groups),\n",
        "                Upsample1d(dim_in) if not is_last else nn.Identity()\n",
        "            ]))\n",
        "\n",
        "        final_conv = nn.Sequential(\n",
        "            Conv1dBlock(start_dim, start_dim, kernel_size=kernel_size),\n",
        "            nn.Conv1d(start_dim, input_dim, 1),\n",
        "        )\n",
        "\n",
        "        self.diffusion_step_encoder = diffusion_step_encoder\n",
        "        self.diffusion_step_encoder_s = diffusion_step_encoder_s\n",
        "        self.up_modules = up_modules\n",
        "        self.down_modules = down_modules\n",
        "        self.final_conv = final_conv\n",
        "\n",
        "        print(\"number of parameters: {:e}\".format(\n",
        "            sum(p.numel() for p in self.parameters()))\n",
        "        )\n",
        "\n",
        "    def forward(self,\n",
        "            sample: torch.Tensor,\n",
        "            timestep: Union[torch.Tensor, float],\n",
        "            timestep_s: Union[torch.Tensor, float],\n",
        "            global_cond):\n",
        "        \"\"\"\n",
        "        x: (B,T,input_dim)\n",
        "        timestep: (B,) or int, diffusion step t\n",
        "        timestep_s: (B,) or int, diffusion step s (for IMM)\n",
        "        global_cond: (B,global_cond_dim)\n",
        "        output: (B,T,input_dim)\n",
        "        \"\"\"\n",
        "        # (B,T,C)\n",
        "        sample = sample.moveaxis(-1,-2)\n",
        "        # (B,C,T)\n",
        "\n",
        "        # 1. time embedding for t\n",
        "        # timesteps = timestep\n",
        "        # if not torch.is_tensor(timesteps):\n",
        "        #     # TODO: this requires sync between CPU and GPU. So try to pass timesteps as tensors if you can\n",
        "        #     timesteps = torch.tensor([timesteps], dtype=torch.long, device=sample.device)\n",
        "        # elif torch.is_tensor(timesteps) and len(timesteps.shape) == 0:\n",
        "        #     timesteps = timesteps[None].to(sample.device)\n",
        "        # # broadcast to batch dimension in a way that's compatible with ONNX/Core ML\n",
        "        # timesteps = timesteps.expand(sample.shape[0])\n",
        "        \n",
        "        # Get time embedding for t\n",
        "        t_emb = self.diffusion_step_encoder(timestep)\n",
        "        \n",
        "        # 2. time embedding for s\n",
        "        s_emb = self.diffusion_step_encoder_s(timestep_s)\n",
        "        \n",
        "        # Combine t and s embeddings\n",
        "        global_feature = torch.cat([t_emb, s_emb], dim=-1)\n",
        "\n",
        "        if global_cond is not None:\n",
        "            global_feature = torch.cat([\n",
        "                global_feature, global_cond\n",
        "            ], axis=-1)\n",
        "\n",
        "        x = sample\n",
        "        h = []\n",
        "        for idx, (resnet, resnet2, downsample) in enumerate(self.down_modules):\n",
        "            x = resnet(x, global_feature)\n",
        "            x = resnet2(x, global_feature)\n",
        "            h.append(x)\n",
        "            x = downsample(x)\n",
        "\n",
        "        for mid_module in self.mid_modules:\n",
        "            x = mid_module(x, global_feature)\n",
        "\n",
        "        for idx, (resnet, resnet2, upsample) in enumerate(self.up_modules):\n",
        "            x = torch.cat((x, h.pop()), dim=1)\n",
        "            x = resnet(x, global_feature)\n",
        "            x = resnet2(x, global_feature)\n",
        "            x = upsample(x)\n",
        "\n",
        "        x = self.final_conv(x)\n",
        "\n",
        "        # (B,C,T)\n",
        "        x = x.moveaxis(-1,-2)\n",
        "        # (B,T,C)\n",
        "        return x\n",
        "\n",
        "class RoboIMM:\n",
        "    \"\"\"\n",
        "    Simplified class for IMM with the robotics UNet.\n",
        "    \"\"\"\n",
        "    def __init__(\n",
        "        self,\n",
        "        model,\n",
        "        sigma_data,\n",
        "        obs_horizon,\n",
        "        pred_horizon,\n",
        "        num_particles\n",
        "    ):\n",
        "        \"\"\"\n",
        "        Initialize the IMM sampler.\n",
        "        \n",
        "        Args:\n",
        "            model: The ConditionalUnet1D model\n",
        "            sigma_data: Data standard deviation\n",
        "        \"\"\"\n",
        "        self.model = model\n",
        "        self.sigma_data = sigma_data\n",
        "        self.obs_horizon = obs_horizon\n",
        "        self.pred_horizon = pred_horizon\n",
        "        self.num_particles = num_particles\n",
        "\n",
        "        self.loss = IMMloss(obs_horizon=obs_horizon, pred_horizon=pred_horizon, num_particles=num_particles)\n",
        "\n",
        "    def get_alpha_sigma(self, t):\n",
        "        \"\"\"Get alpha and sigma values for time t.\"\"\"\n",
        "        # Using the \"flow matching\" schedule\n",
        "        alpha_t = (1 - t)\n",
        "        sigma_t = t\n",
        "        return alpha_t, sigma_t\n",
        "    \n",
        "    # def euler_step(self, yt, pred, t, s):\n",
        "    #     \"\"\"Euler step for flow matching.\"\"\"\n",
        "    #     return yt - (t - s) * self.sigma_data * pred\n",
        "    \n",
        "    # def edm_step(self, yt, pred, t, s):\n",
        "    #     \"\"\"EDM step for sampling.\"\"\"\n",
        "    #     alpha_t, sigma_t = self.get_alpha_sigma(t)\n",
        "    #     alpha_s, sigma_s = self.get_alpha_sigma(s)\n",
        "         \n",
        "    #     c_skip = (alpha_t * alpha_s + sigma_t * sigma_s) / (alpha_t**2 + sigma_t**2)\n",
        "    #     c_out = -(alpha_s * sigma_t - alpha_t * sigma_s) * (alpha_t**2 + sigma_t**2).rsqrt() * self.sigma_data\n",
        "        \n",
        "    #     return c_skip * yt + c_out * pred\n",
        "    \n",
        "    def ddim(self, yt, y, s, t):\n",
        "        alpha_t, sigma_t = self.get_alpha_sigma(t)\n",
        "        alpha_s, sigma_s = self.get_alpha_sigma(s)\n",
        "\n",
        "        alpha_s = alpha_s.reshape(-1,1,1)\n",
        "        sigma_s = sigma_s.reshape(-1,1,1)\n",
        "        alpha_t = alpha_t.reshape(-1,1,1)\n",
        "        sigma_t = sigma_t.reshape(-1,1,1)\n",
        "        \n",
        "        ys = (alpha_s -   alpha_t * sigma_s / sigma_t) * y + sigma_s / sigma_t * yt\n",
        "        return ys\n",
        "    \n",
        "    def sample(self, shape, steps=20, global_cond=None, sampling_method=\"ddim\"):\n",
        "        \"\"\"\n",
        "        Generate samples using IMM sampling.\n",
        "        \n",
        "        Args:\n",
        "            shape: Shape of the samples to generate\n",
        "            steps: Number of sampling steps\n",
        "            global_cond: Global conditioning\n",
        "            sampling_method: \"ddim\"\n",
        "            \n",
        "        Returns:\n",
        "            Generated samples\n",
        "        \"\"\"\n",
        "        device = next(self.model.parameters()).device\n",
        "        \n",
        "        # Initialize with noise\n",
        "        x = torch.randn(shape, device=device) * self.sigma_data\n",
        "        \n",
        "        # Define time steps (uniform steps from 1 to 0)\n",
        "        times = torch.linspace(0.994, 0.006, steps + 1, device=device)\n",
        "        \n",
        "        for i in range(steps):\n",
        "            t = times[i]\n",
        "            s = times[i + 1]\n",
        "            \n",
        "            # Create batched time tensors\n",
        "            t_batch = torch.full((shape[0],), t, device=device)\n",
        "            s_batch = torch.full((shape[0],), s, device=device)\n",
        "            \n",
        "            # Run model forward\n",
        "            with torch.no_grad():\n",
        "                pred = self.predict(x, t_batch, s_batch, global_cond)\n",
        "            \n",
        "            # Apply sampling function based on method\n",
        "            # if sampling_method == \"ddim\":\n",
        "            #     x = self.ddim(x, pred, s_batch.view(-1, 1, 1), t_batch.view(-1, 1, 1))\n",
        "            # else:\n",
        "            #     raise ValueError(f\"Unknown sampling method: {sampling_method}\")\n",
        "        \n",
        "        return pred\n",
        "\n",
        "    def calculate_weights(self, s_times, t_times):\n",
        "        \"\"\"\n",
        "        Calculate the time-dependent weighting function w(s,t)\n",
        "        \"\"\"\n",
        "        b = 5  # Hyperparameter from paper\n",
        "        a = 1    # Hyperparameter from paper (a ∈ {1, 2})\n",
        "\n",
        "        alpha_t, sigma_t = self.get_alpha_sigma(t_times)\n",
        "        \n",
        "        # Calculate log-SNR values\n",
        "        log_snr_t = 2 * torch.log(alpha_t / sigma_t)\n",
        "        dlog_snr_t = 2 / (torch.square(t_times) - t_times)\n",
        "        \n",
        "        # Calculate coefficient based on equation 13\n",
        "        sigmoid_term = torch.sigmoid(b - log_snr_t)\n",
        "        \n",
        "        snr_term = (alpha_t ** a) / (alpha_t ** 2 + sigma_t ** 2)\n",
        "        \n",
        "        return 0.5 * sigmoid_term * -1.0 * dlog_snr_t * snr_term\n",
        "    \n",
        "    def predict(self, xt, t, s, obs_cond):\n",
        "        c = 1000.0\n",
        "        cskip = 1.0\n",
        "        cout = -(t-s) * self.sigma_data\n",
        "        c_timestep = c * t\n",
        "        c_timestep_s = c * s\n",
        "        alpha_t, sigma_t = self.get_alpha_sigma(t)\n",
        "        c_in = (torch.pow(alpha_t, 2) + torch.pow(sigma_t, 2)).rsqrt() / self.sigma_data\n",
        "        xs = self.model(xt*c_in.reshape(-1,1,1), c_timestep, c_timestep_s, obs_cond)\n",
        "        return cskip * xt + cout.reshape(-1,1,1) * xs\n",
        "\n",
        "    def train(self, train_loader, val_loader, num_epochs=100, lr=1e-4, device='cuda'):\n",
        "        \"\"\"\n",
        "        Train the model.\n",
        "        \"\"\"\n",
        "\n",
        "        # Standard ADAM optimizer\n",
        "        # Note that EMA parametesr are not optimized\n",
        "        optimizer = torch.optim.AdamW(\n",
        "            params=self.model.parameters(),\n",
        "            lr=lr, weight_decay=0)\n",
        "\n",
        "        # Cosine LR schedule\n",
        "        lr_scheduler = torch.optim.lr_scheduler.CosineAnnealingLR(optimizer, num_epochs)\n",
        "\n",
        "        self.model.train()\n",
        "        \n",
        "        with tqdm(range(num_epochs), desc='Epoch') as tglobal:\n",
        "            # epoch loop\n",
        "            for epoch_idx in tglobal:\n",
        "                # batch loop\n",
        "                with tqdm(train_loader, desc='Batch', leave=False) as tepoch:\n",
        "                    for batch_idx, batch in enumerate(tepoch):\n",
        "                        nobs = batch['obs'].to(device)\n",
        "                        naction = batch['action'].to(device)\n",
        "                        B = nobs.shape[0]\n",
        "\n",
        "                        num_groups = B // self.num_particles\n",
        "                        s_times = torch.rand(num_groups, device=device)\n",
        "                        t_times = s_times + (1 - s_times) * torch.rand(num_groups, device=device)\n",
        "                        r_times = s_times + (t_times - s_times) * torch.rand(num_groups, device=device)\n",
        "\n",
        "                        # times need to be shape (B,), currently they are shape (num_groups,)\n",
        "                        s_times = s_times.reshape(-1,1).expand(num_groups, self.num_particles).reshape(-1)\n",
        "                        t_times = t_times.reshape(-1,1).expand(num_groups, self.num_particles).reshape(-1)\n",
        "                        r_times = r_times.reshape(-1,1).expand(num_groups, self.num_particles).reshape(-1)\n",
        "\n",
        "                        noise = torch.randn_like(naction) * self.sigma_data\n",
        "\n",
        "                        x_t = self.ddim(yt=noise, y=naction, s=t_times, t=torch.ones_like(t_times))\n",
        "                        x_r = self.ddim(yt=x_t, y=naction, s=r_times, t=t_times)\n",
        "                                                \n",
        "                        # observation as FiLM conditioning\n",
        "                        # (B, obs_horizon, obs_dim)\n",
        "                        obs_cond = nobs[:,:self.obs_horizon,:]\n",
        "                        # (B, obs_horizon * obs_dim)\n",
        "                        obs_cond = obs_cond.flatten(start_dim=1)\n",
        "\n",
        "                        optimizer.zero_grad()\n",
        "                        # pred_grad = self.model(x_t, t_times, s_times, obs_cond)\n",
        "                        pred_grad = self.predict(x_t, t_times, s_times, obs_cond)\n",
        "\n",
        "                        with torch.no_grad():\n",
        "                            # pred_nograd = self.model(x_r, r_times, s_times, obs_cond)\n",
        "                            pred_nograd = self.predict(x_r, r_times, s_times, obs_cond)\n",
        "    \n",
        "                        time_weights = self.calculate_weights(s_times, t_times)\n",
        "                        \n",
        "                        # Reshape predictions to match expected dimensions\n",
        "                        # Assuming pred_grad and pred_nograd are [B, sequence_length, action_dim]\n",
        "                        # Reshape to [B, self.pred_horizon, self.obs_horizon]\n",
        "                        model_outputs = {\n",
        "                            'ys_t': pred_grad.reshape(B, self.pred_horizon, self.obs_horizon),\n",
        "                            'w_scale': 1.0 / torch.abs((t_times - s_times) * self.sigma_data)\n",
        "                        }\n",
        "                        \n",
        "                        stop_gradient_outputs = {\n",
        "                            'ys_r': pred_nograd.reshape(B, self.pred_horizon, self.obs_horizon).detach()\n",
        "                        }\n",
        "                        \n",
        "                        loss = self.loss(model_outputs, time_weights, stop_gradient_outputs)\n",
        "                        \n",
        "                        loss.backward()\n",
        "                        optimizer.step()\n",
        "                        lr_scheduler.step()\n",
        "\n",
        "                        if batch_idx % 10 == 0:\n",
        "                            print(f\"Epoch {epoch_idx}, Batch {batch_idx}, Loss: {loss.item()}\")\n",
        "                        if batch_idx % 100 == 0 and epoch_idx % 10 == 0:\n",
        "                            # save model checkpoint\n",
        "                            torch.save({\n",
        "                                'epoch': epoch_idx,\n",
        "                                'model_state_dict': self.model.state_dict(),\n",
        "                                'optimizer_state_dict': optimizer.state_dict(),\n",
        "                                'loss': loss.item()\n",
        "                            }, f\"ckpts/model_checkpoint_{epoch_idx}_{batch_idx}_{loss.item()}.pth\")\n",
        "                                "
      ]
    },
    {
      "cell_type": "code",
      "execution_count": 15,
      "metadata": {
        "colab": {
          "base_uri": "https://localhost:8080/"
        },
        "id": "4APZkqh336-M",
        "outputId": "51fbbfb0-deaf-48bd-cf4b-dc7f8f4ff246"
      },
      "outputs": [
        {
          "name": "stdout",
          "output_type": "stream",
          "text": [
            "number of parameters: 6.954880e+07\n"
          ]
        }
      ],
      "source": [
        "#@markdown ### **Network Demo**\n",
        "\n",
        "# observation and action dimensions corrsponding to\n",
        "# the output of PushTEnv\n",
        "obs_dim = 5\n",
        "action_dim = 2\n",
        "\n",
        "# create network object\n",
        "noise_pred_net = ConditionalUnet1D(\n",
        "    input_dim=action_dim,\n",
        "    global_cond_dim=obs_dim*obs_horizon\n",
        ")\n",
        "\n",
        "imm = RoboIMM(\n",
        "    model=noise_pred_net,\n",
        "    sigma_data=stats['action_normalized']['std'].mean(),\n",
        "    obs_horizon=obs_horizon,\n",
        "    pred_horizon=pred_horizon,\n",
        "    num_particles=4\n",
        ")\n",
        "\n",
        "# example inputs\n",
        "noised_action = torch.randn((1, pred_horizon, action_dim))\n",
        "obs = torch.zeros((1, obs_horizon, obs_dim))\n",
        "diffusion_iter = torch.zeros((1,))\n",
        "diffusion_iter_s = torch.zeros((1,))\n",
        "\n",
        "\n",
        "r = imm.sample(shape=(1, pred_horizon, action_dim), steps=10, global_cond=obs.flatten(start_dim=1))\n",
        "\n",
        "# # the noise prediction network\n",
        "# # takes noisy action, diffusion iteration and observation as input\n",
        "# # predicts the noise added to action\n",
        "# noise = noise_pred_net(\n",
        "#     sample=noised_action,\n",
        "#     timestep=diffusion_iter,\n",
        "#     timestep_s=diffusion_iter_s,\n",
        "#     global_cond=obs.flatten(start_dim=1))\n",
        "\n",
        "# # illustration of removing noise\n",
        "# # the actual noise removal is performed by NoiseScheduler\n",
        "# # and is dependent on the diffusion noise schedule\n",
        "# denoised_action = noised_action - noise\n",
        "\n",
        "# # for this demo, we use DDPMScheduler with 100 diffusion iterations\n",
        "# num_diffusion_iters = 100\n",
        "# noise_scheduler = DDPMScheduler(\n",
        "#     num_train_timesteps=num_diffusion_iters,\n",
        "#     # the choise of beta schedule has big impact on performance\n",
        "#     # we found squared cosine works the best\n",
        "#     beta_schedule='squaredcos_cap_v2',\n",
        "#     # clip output to [-1,1] to improve stability\n",
        "#     clip_sample=True,\n",
        "#     # our network predicts noise (instead of denoised action)\n",
        "#     prediction_type='epsilon'\n",
        "# )\n",
        "\n",
        "# device transfer\n",
        "device = torch.device('cuda')\n",
        "_ = noise_pred_net.to(device)"
      ]
    },
    {
      "cell_type": "code",
      "execution_count": 12,
      "metadata": {
        "colab": {
          "base_uri": "https://localhost:8080/",
          "height": 49,
          "referenced_widgets": [
            "c29b0972b22d4dc59844ea958abf7bd1",
            "df7b2e7c39944341be1a091331fd7cc6",
            "0d687f5624cb4871ad167ebcbcb4c148",
            "82a5a8a6be3a41209de270d5072838a2",
            "6d4dfa99470e40559bebd6689305f155",
            "0964ed28f2794bdf91e2e2756aae3bc4",
            "1939a1c3cc7a498fa5f05ac737b0af99",
            "116ecf0deb6e44faadb594f2f982c4c2",
            "2db415245cbb44c8ab5c208be328fc16",
            "ed0c7c76b76d40c9b25ca92abb00cf34",
            "3a5463e9f9864ca2b52fe9cd28f4a8b8",
            "5352c2178612408aa84a3732d98a62ea",
            "f451b98692b64b54a0e8a3643a9bf992",
            "36c1a61163804f9a825638c6c8d962ed",
            "c2d84f324ecd4789b9b3420591f6186d",
            "6d4ec5c2f9624d398f0d9fc27d84cadb",
            "019444645b164b92a8da32e94a443d7e",
            "83bd2cb0ca534108804cdc298d8b26c6",
            "a26e0dce0a86491db71a731f570f1a80",
            "fe61754736d04d539c3f941049b5922a",
            "657a261a272d466e8bfd532279a401a1",
            "5b6eaafac1574f7481e3bb2e20e598b3"
          ]
        },
        "id": "93E9RdnR4D8v",
        "outputId": "51c50846-28b7-408c-c1d9-cd34154b57f1"
      },
      "outputs": [
        {
          "name": "stderr",
          "output_type": "stream",
          "text": [
            "Epoch:   0%|          | 0/100 [00:00<?, ?it/s]"
          ]
        },
        {
          "name": "stdout",
          "output_type": "stream",
          "text": [
            "Epoch 0, Batch 0, Loss: 0.12795916199684143\n"
          ]
        },
        {
          "name": "stderr",
          "output_type": "stream",
          "text": []
        },
        {
          "name": "stdout",
          "output_type": "stream",
          "text": [
            "Epoch 0, Batch 10, Loss: 0.10586139559745789\n"
          ]
        },
        {
          "name": "stderr",
          "output_type": "stream",
          "text": []
        },
        {
          "name": "stdout",
          "output_type": "stream",
          "text": [
            "Epoch 0, Batch 20, Loss: 0.09289903193712234\n"
          ]
        },
        {
          "name": "stderr",
          "output_type": "stream",
          "text": []
        },
        {
          "name": "stdout",
          "output_type": "stream",
          "text": [
            "Epoch 0, Batch 30, Loss: 0.0857173353433609\n"
          ]
        },
        {
          "name": "stderr",
          "output_type": "stream",
          "text": []
        },
        {
          "name": "stdout",
          "output_type": "stream",
          "text": [
            "Epoch 0, Batch 40, Loss: 0.06332328170537949\n"
          ]
        },
        {
          "name": "stderr",
          "output_type": "stream",
          "text": []
        },
        {
          "name": "stdout",
          "output_type": "stream",
          "text": [
            "Epoch 0, Batch 50, Loss: 0.06732785701751709\n"
          ]
        },
        {
          "name": "stderr",
          "output_type": "stream",
          "text": []
        },
        {
          "name": "stdout",
          "output_type": "stream",
          "text": [
            "Epoch 0, Batch 60, Loss: 0.06578713655471802\n"
          ]
        },
        {
          "name": "stderr",
          "output_type": "stream",
          "text": []
        },
        {
          "name": "stdout",
          "output_type": "stream",
          "text": [
            "Epoch 0, Batch 70, Loss: 0.052452586591243744\n"
          ]
        },
        {
          "name": "stderr",
          "output_type": "stream",
          "text": []
        },
        {
          "name": "stdout",
          "output_type": "stream",
          "text": [
            "Epoch 0, Batch 80, Loss: 0.054306551814079285\n"
          ]
        },
        {
          "name": "stderr",
          "output_type": "stream",
          "text": []
        },
        {
          "name": "stdout",
          "output_type": "stream",
          "text": [
            "Epoch 0, Batch 90, Loss: 0.05278688669204712\n"
          ]
        },
        {
          "name": "stderr",
          "output_type": "stream",
          "text": [
            "Epoch:   1%|          | 1/100 [01:21<2:15:08, 81.90s/it]"
          ]
        },
        {
          "name": "stdout",
          "output_type": "stream",
          "text": [
            "Epoch 1, Batch 0, Loss: 0.045662663877010345\n"
          ]
        },
        {
          "name": "stderr",
          "output_type": "stream",
          "text": []
        },
        {
          "name": "stdout",
          "output_type": "stream",
          "text": [
            "Epoch 1, Batch 10, Loss: 0.059488408267498016\n"
          ]
        },
        {
          "name": "stderr",
          "output_type": "stream",
          "text": []
        },
        {
          "name": "stdout",
          "output_type": "stream",
          "text": [
            "Epoch 1, Batch 20, Loss: 0.05367956683039665\n"
          ]
        },
        {
          "name": "stderr",
          "output_type": "stream",
          "text": []
        },
        {
          "name": "stdout",
          "output_type": "stream",
          "text": [
            "Epoch 1, Batch 30, Loss: 0.054764293134212494\n"
          ]
        },
        {
          "name": "stderr",
          "output_type": "stream",
          "text": []
        },
        {
          "name": "stdout",
          "output_type": "stream",
          "text": [
            "Epoch 1, Batch 40, Loss: 0.05800040811300278\n"
          ]
        },
        {
          "name": "stderr",
          "output_type": "stream",
          "text": []
        },
        {
          "name": "stdout",
          "output_type": "stream",
          "text": [
            "Epoch 1, Batch 50, Loss: 0.042720019817352295\n"
          ]
        },
        {
          "name": "stderr",
          "output_type": "stream",
          "text": []
        },
        {
          "name": "stdout",
          "output_type": "stream",
          "text": [
            "Epoch 1, Batch 60, Loss: 0.049918971955776215\n"
          ]
        },
        {
          "name": "stderr",
          "output_type": "stream",
          "text": []
        },
        {
          "name": "stdout",
          "output_type": "stream",
          "text": [
            "Epoch 1, Batch 70, Loss: 0.06473232060670853\n"
          ]
        },
        {
          "name": "stderr",
          "output_type": "stream",
          "text": []
        },
        {
          "name": "stdout",
          "output_type": "stream",
          "text": [
            "Epoch 1, Batch 80, Loss: 0.052694015204906464\n"
          ]
        },
        {
          "name": "stderr",
          "output_type": "stream",
          "text": []
        },
        {
          "name": "stdout",
          "output_type": "stream",
          "text": [
            "Epoch 1, Batch 90, Loss: 0.0616900771856308\n"
          ]
        },
        {
          "name": "stderr",
          "output_type": "stream",
          "text": [
            "Epoch:   2%|▏         | 2/100 [02:38<2:08:36, 78.74s/it]"
          ]
        },
        {
          "name": "stdout",
          "output_type": "stream",
          "text": [
            "Epoch 2, Batch 0, Loss: 0.05130188167095184\n"
          ]
        },
        {
          "name": "stderr",
          "output_type": "stream",
          "text": []
        },
        {
          "name": "stdout",
          "output_type": "stream",
          "text": [
            "Epoch 2, Batch 10, Loss: 0.04614740237593651\n"
          ]
        },
        {
          "name": "stderr",
          "output_type": "stream",
          "text": []
        },
        {
          "name": "stdout",
          "output_type": "stream",
          "text": [
            "Epoch 2, Batch 20, Loss: 0.040759019553661346\n"
          ]
        },
        {
          "name": "stderr",
          "output_type": "stream",
          "text": []
        },
        {
          "name": "stdout",
          "output_type": "stream",
          "text": [
            "Epoch 2, Batch 30, Loss: 0.04335165023803711\n"
          ]
        },
        {
          "name": "stderr",
          "output_type": "stream",
          "text": []
        },
        {
          "name": "stdout",
          "output_type": "stream",
          "text": [
            "Epoch 2, Batch 40, Loss: 0.057305824011564255\n"
          ]
        },
        {
          "name": "stderr",
          "output_type": "stream",
          "text": []
        },
        {
          "name": "stdout",
          "output_type": "stream",
          "text": [
            "Epoch 2, Batch 50, Loss: 0.04622232913970947\n"
          ]
        },
        {
          "name": "stderr",
          "output_type": "stream",
          "text": []
        },
        {
          "name": "stdout",
          "output_type": "stream",
          "text": [
            "Epoch 2, Batch 60, Loss: 0.05721656605601311\n"
          ]
        },
        {
          "name": "stderr",
          "output_type": "stream",
          "text": []
        },
        {
          "name": "stdout",
          "output_type": "stream",
          "text": [
            "Epoch 2, Batch 70, Loss: 0.04400867223739624\n"
          ]
        },
        {
          "name": "stderr",
          "output_type": "stream",
          "text": []
        },
        {
          "name": "stdout",
          "output_type": "stream",
          "text": [
            "Epoch 2, Batch 80, Loss: 0.039843518286943436\n"
          ]
        },
        {
          "name": "stderr",
          "output_type": "stream",
          "text": []
        },
        {
          "name": "stdout",
          "output_type": "stream",
          "text": [
            "Epoch 2, Batch 90, Loss: 0.03447013348340988\n"
          ]
        },
        {
          "name": "stderr",
          "output_type": "stream",
          "text": [
            "Epoch:   3%|▎         | 3/100 [03:48<2:00:40, 74.65s/it]"
          ]
        },
        {
          "name": "stdout",
          "output_type": "stream",
          "text": [
            "Epoch 3, Batch 0, Loss: 0.047640133649110794\n"
          ]
        },
        {
          "name": "stderr",
          "output_type": "stream",
          "text": []
        },
        {
          "name": "stdout",
          "output_type": "stream",
          "text": [
            "Epoch 3, Batch 10, Loss: 0.04685727506875992\n"
          ]
        },
        {
          "name": "stderr",
          "output_type": "stream",
          "text": []
        },
        {
          "name": "stdout",
          "output_type": "stream",
          "text": [
            "Epoch 3, Batch 20, Loss: 0.0504700131714344\n"
          ]
        },
        {
          "name": "stderr",
          "output_type": "stream",
          "text": []
        },
        {
          "name": "stdout",
          "output_type": "stream",
          "text": [
            "Epoch 3, Batch 30, Loss: 0.04217686504125595\n"
          ]
        },
        {
          "name": "stderr",
          "output_type": "stream",
          "text": []
        },
        {
          "name": "stdout",
          "output_type": "stream",
          "text": [
            "Epoch 3, Batch 40, Loss: 0.048061106353998184\n"
          ]
        },
        {
          "name": "stderr",
          "output_type": "stream",
          "text": []
        },
        {
          "name": "stdout",
          "output_type": "stream",
          "text": [
            "Epoch 3, Batch 50, Loss: 0.04259515553712845\n"
          ]
        },
        {
          "name": "stderr",
          "output_type": "stream",
          "text": []
        },
        {
          "name": "stdout",
          "output_type": "stream",
          "text": [
            "Epoch 3, Batch 60, Loss: 0.037044793367385864\n"
          ]
        },
        {
          "name": "stderr",
          "output_type": "stream",
          "text": []
        },
        {
          "name": "stdout",
          "output_type": "stream",
          "text": [
            "Epoch 3, Batch 70, Loss: 0.046266667544841766\n"
          ]
        },
        {
          "name": "stderr",
          "output_type": "stream",
          "text": []
        },
        {
          "name": "stdout",
          "output_type": "stream",
          "text": [
            "Epoch 3, Batch 80, Loss: 0.038989242166280746\n"
          ]
        },
        {
          "name": "stderr",
          "output_type": "stream",
          "text": []
        },
        {
          "name": "stdout",
          "output_type": "stream",
          "text": [
            "Epoch 3, Batch 90, Loss: 0.034498006105422974\n"
          ]
        },
        {
          "name": "stderr",
          "output_type": "stream",
          "text": [
            "Epoch:   4%|▍         | 4/100 [04:54<1:54:23, 71.49s/it]"
          ]
        },
        {
          "name": "stdout",
          "output_type": "stream",
          "text": [
            "Epoch 4, Batch 0, Loss: 0.04309607297182083\n"
          ]
        },
        {
          "name": "stderr",
          "output_type": "stream",
          "text": []
        },
        {
          "name": "stdout",
          "output_type": "stream",
          "text": [
            "Epoch 4, Batch 10, Loss: 0.04341019317507744\n"
          ]
        },
        {
          "name": "stderr",
          "output_type": "stream",
          "text": []
        },
        {
          "name": "stdout",
          "output_type": "stream",
          "text": [
            "Epoch 4, Batch 20, Loss: 0.049957383424043655\n"
          ]
        },
        {
          "name": "stderr",
          "output_type": "stream",
          "text": []
        },
        {
          "name": "stdout",
          "output_type": "stream",
          "text": [
            "Epoch 4, Batch 30, Loss: 0.03645448386669159\n"
          ]
        },
        {
          "name": "stderr",
          "output_type": "stream",
          "text": []
        },
        {
          "name": "stdout",
          "output_type": "stream",
          "text": [
            "Epoch 4, Batch 40, Loss: 0.04578027129173279\n"
          ]
        },
        {
          "name": "stderr",
          "output_type": "stream",
          "text": []
        },
        {
          "name": "stdout",
          "output_type": "stream",
          "text": [
            "Epoch 4, Batch 50, Loss: 0.035580217838287354\n"
          ]
        },
        {
          "name": "stderr",
          "output_type": "stream",
          "text": []
        },
        {
          "name": "stdout",
          "output_type": "stream",
          "text": [
            "Epoch 4, Batch 60, Loss: 0.05699731037020683\n"
          ]
        },
        {
          "name": "stderr",
          "output_type": "stream",
          "text": []
        },
        {
          "name": "stdout",
          "output_type": "stream",
          "text": [
            "Epoch 4, Batch 70, Loss: 0.05053478106856346\n"
          ]
        },
        {
          "name": "stderr",
          "output_type": "stream",
          "text": []
        },
        {
          "name": "stdout",
          "output_type": "stream",
          "text": [
            "Epoch 4, Batch 80, Loss: 0.046329300850629807\n"
          ]
        },
        {
          "name": "stderr",
          "output_type": "stream",
          "text": []
        },
        {
          "name": "stdout",
          "output_type": "stream",
          "text": [
            "Epoch 4, Batch 90, Loss: 0.042615026235580444\n"
          ]
        },
        {
          "name": "stderr",
          "output_type": "stream",
          "text": [
            "Epoch:   5%|▌         | 5/100 [06:06<1:53:13, 71.51s/it]"
          ]
        },
        {
          "name": "stdout",
          "output_type": "stream",
          "text": [
            "Epoch 5, Batch 0, Loss: 0.04138029366731644\n"
          ]
        },
        {
          "name": "stderr",
          "output_type": "stream",
          "text": []
        },
        {
          "name": "stdout",
          "output_type": "stream",
          "text": [
            "Epoch 5, Batch 10, Loss: 0.057857733219861984\n"
          ]
        },
        {
          "name": "stderr",
          "output_type": "stream",
          "text": []
        },
        {
          "name": "stdout",
          "output_type": "stream",
          "text": [
            "Epoch 5, Batch 20, Loss: 0.031702421605587006\n"
          ]
        },
        {
          "name": "stderr",
          "output_type": "stream",
          "text": []
        },
        {
          "name": "stdout",
          "output_type": "stream",
          "text": [
            "Epoch 5, Batch 30, Loss: 0.04546373337507248\n"
          ]
        },
        {
          "name": "stderr",
          "output_type": "stream",
          "text": []
        },
        {
          "name": "stdout",
          "output_type": "stream",
          "text": [
            "Epoch 5, Batch 40, Loss: 0.04104429855942726\n"
          ]
        },
        {
          "name": "stderr",
          "output_type": "stream",
          "text": []
        },
        {
          "name": "stdout",
          "output_type": "stream",
          "text": [
            "Epoch 5, Batch 50, Loss: 0.04053748771548271\n"
          ]
        },
        {
          "name": "stderr",
          "output_type": "stream",
          "text": []
        },
        {
          "name": "stdout",
          "output_type": "stream",
          "text": [
            "Epoch 5, Batch 60, Loss: 0.04126056656241417\n"
          ]
        },
        {
          "name": "stderr",
          "output_type": "stream",
          "text": []
        },
        {
          "name": "stdout",
          "output_type": "stream",
          "text": [
            "Epoch 5, Batch 70, Loss: 0.03566534444689751\n"
          ]
        },
        {
          "name": "stderr",
          "output_type": "stream",
          "text": []
        },
        {
          "name": "stdout",
          "output_type": "stream",
          "text": [
            "Epoch 5, Batch 80, Loss: 0.039022136479616165\n"
          ]
        },
        {
          "name": "stderr",
          "output_type": "stream",
          "text": []
        },
        {
          "name": "stdout",
          "output_type": "stream",
          "text": [
            "Epoch 5, Batch 90, Loss: 0.03637363761663437\n"
          ]
        },
        {
          "name": "stderr",
          "output_type": "stream",
          "text": [
            "Epoch:   6%|▌         | 6/100 [07:25<1:55:52, 73.96s/it]"
          ]
        },
        {
          "name": "stdout",
          "output_type": "stream",
          "text": [
            "Epoch 6, Batch 0, Loss: 0.03832963854074478\n"
          ]
        },
        {
          "name": "stderr",
          "output_type": "stream",
          "text": []
        },
        {
          "name": "stdout",
          "output_type": "stream",
          "text": [
            "Epoch 6, Batch 10, Loss: 0.051607292145490646\n"
          ]
        },
        {
          "name": "stderr",
          "output_type": "stream",
          "text": []
        },
        {
          "name": "stdout",
          "output_type": "stream",
          "text": [
            "Epoch 6, Batch 20, Loss: 0.03726348653435707\n"
          ]
        },
        {
          "name": "stderr",
          "output_type": "stream",
          "text": []
        },
        {
          "name": "stdout",
          "output_type": "stream",
          "text": [
            "Epoch 6, Batch 30, Loss: 0.04049791768193245\n"
          ]
        },
        {
          "name": "stderr",
          "output_type": "stream",
          "text": []
        },
        {
          "name": "stdout",
          "output_type": "stream",
          "text": [
            "Epoch 6, Batch 40, Loss: 0.044263094663619995\n"
          ]
        },
        {
          "name": "stderr",
          "output_type": "stream",
          "text": []
        },
        {
          "name": "stdout",
          "output_type": "stream",
          "text": [
            "Epoch 6, Batch 50, Loss: 0.044757623225450516\n"
          ]
        },
        {
          "name": "stderr",
          "output_type": "stream",
          "text": []
        },
        {
          "name": "stdout",
          "output_type": "stream",
          "text": [
            "Epoch 6, Batch 60, Loss: 0.043422210961580276\n"
          ]
        },
        {
          "name": "stderr",
          "output_type": "stream",
          "text": []
        },
        {
          "name": "stdout",
          "output_type": "stream",
          "text": [
            "Epoch 6, Batch 70, Loss: 0.041713133454322815\n"
          ]
        },
        {
          "name": "stderr",
          "output_type": "stream",
          "text": []
        },
        {
          "name": "stdout",
          "output_type": "stream",
          "text": [
            "Epoch 6, Batch 80, Loss: 0.042056165635585785\n"
          ]
        },
        {
          "name": "stderr",
          "output_type": "stream",
          "text": []
        },
        {
          "name": "stdout",
          "output_type": "stream",
          "text": [
            "Epoch 6, Batch 90, Loss: 0.03544692322611809\n"
          ]
        },
        {
          "name": "stderr",
          "output_type": "stream",
          "text": [
            "Epoch:   7%|▋         | 7/100 [08:34<1:52:26, 72.54s/it]"
          ]
        },
        {
          "name": "stdout",
          "output_type": "stream",
          "text": [
            "Epoch 7, Batch 0, Loss: 0.028946777805685997\n"
          ]
        },
        {
          "name": "stderr",
          "output_type": "stream",
          "text": []
        },
        {
          "name": "stdout",
          "output_type": "stream",
          "text": [
            "Epoch 7, Batch 10, Loss: 0.03480581194162369\n"
          ]
        },
        {
          "name": "stderr",
          "output_type": "stream",
          "text": []
        },
        {
          "name": "stdout",
          "output_type": "stream",
          "text": [
            "Epoch 7, Batch 20, Loss: 0.03390072286128998\n"
          ]
        },
        {
          "name": "stderr",
          "output_type": "stream",
          "text": []
        },
        {
          "name": "stdout",
          "output_type": "stream",
          "text": [
            "Epoch 7, Batch 30, Loss: 0.045918937772512436\n"
          ]
        },
        {
          "name": "stderr",
          "output_type": "stream",
          "text": []
        },
        {
          "name": "stdout",
          "output_type": "stream",
          "text": [
            "Epoch 7, Batch 40, Loss: 0.052861861884593964\n"
          ]
        },
        {
          "name": "stderr",
          "output_type": "stream",
          "text": []
        },
        {
          "name": "stdout",
          "output_type": "stream",
          "text": [
            "Epoch 7, Batch 50, Loss: 0.047693077474832535\n"
          ]
        },
        {
          "name": "stderr",
          "output_type": "stream",
          "text": []
        },
        {
          "name": "stdout",
          "output_type": "stream",
          "text": [
            "Epoch 7, Batch 60, Loss: 0.04675474762916565\n"
          ]
        },
        {
          "name": "stderr",
          "output_type": "stream",
          "text": []
        },
        {
          "name": "stdout",
          "output_type": "stream",
          "text": [
            "Epoch 7, Batch 70, Loss: 0.0334862545132637\n"
          ]
        },
        {
          "name": "stderr",
          "output_type": "stream",
          "text": []
        },
        {
          "name": "stdout",
          "output_type": "stream",
          "text": [
            "Epoch 7, Batch 80, Loss: 0.02957005985081196\n"
          ]
        },
        {
          "name": "stderr",
          "output_type": "stream",
          "text": []
        },
        {
          "name": "stdout",
          "output_type": "stream",
          "text": [
            "Epoch 7, Batch 90, Loss: 0.03355449065566063\n"
          ]
        },
        {
          "name": "stderr",
          "output_type": "stream",
          "text": [
            "Epoch:   8%|▊         | 8/100 [09:56<1:55:51, 75.55s/it]"
          ]
        },
        {
          "name": "stdout",
          "output_type": "stream",
          "text": [
            "Epoch 8, Batch 0, Loss: 0.04076552763581276\n"
          ]
        },
        {
          "name": "stderr",
          "output_type": "stream",
          "text": []
        },
        {
          "name": "stdout",
          "output_type": "stream",
          "text": [
            "Epoch 8, Batch 10, Loss: 0.042578551918268204\n"
          ]
        },
        {
          "name": "stderr",
          "output_type": "stream",
          "text": []
        },
        {
          "name": "stdout",
          "output_type": "stream",
          "text": [
            "Epoch 8, Batch 20, Loss: 0.038031063973903656\n"
          ]
        },
        {
          "name": "stderr",
          "output_type": "stream",
          "text": []
        },
        {
          "name": "stdout",
          "output_type": "stream",
          "text": [
            "Epoch 8, Batch 30, Loss: 0.04812188819050789\n"
          ]
        },
        {
          "name": "stderr",
          "output_type": "stream",
          "text": []
        },
        {
          "name": "stdout",
          "output_type": "stream",
          "text": [
            "Epoch 8, Batch 40, Loss: 0.03457009792327881\n"
          ]
        },
        {
          "name": "stderr",
          "output_type": "stream",
          "text": []
        },
        {
          "name": "stdout",
          "output_type": "stream",
          "text": [
            "Epoch 8, Batch 50, Loss: 0.03964485973119736\n"
          ]
        },
        {
          "name": "stderr",
          "output_type": "stream",
          "text": []
        },
        {
          "name": "stdout",
          "output_type": "stream",
          "text": [
            "Epoch 8, Batch 60, Loss: 0.04222320020198822\n"
          ]
        },
        {
          "name": "stderr",
          "output_type": "stream",
          "text": []
        },
        {
          "name": "stdout",
          "output_type": "stream",
          "text": [
            "Epoch 8, Batch 70, Loss: 0.05127103254199028\n"
          ]
        },
        {
          "name": "stderr",
          "output_type": "stream",
          "text": []
        },
        {
          "name": "stdout",
          "output_type": "stream",
          "text": [
            "Epoch 8, Batch 80, Loss: 0.0351167730987072\n"
          ]
        },
        {
          "name": "stderr",
          "output_type": "stream",
          "text": []
        },
        {
          "name": "stdout",
          "output_type": "stream",
          "text": [
            "Epoch 8, Batch 90, Loss: 0.035705991089344025\n"
          ]
        },
        {
          "name": "stderr",
          "output_type": "stream",
          "text": [
            "Epoch:   9%|▉         | 9/100 [11:06<1:51:42, 73.66s/it]"
          ]
        },
        {
          "name": "stdout",
          "output_type": "stream",
          "text": [
            "Epoch 9, Batch 0, Loss: 0.02739749662578106\n"
          ]
        },
        {
          "name": "stderr",
          "output_type": "stream",
          "text": []
        },
        {
          "name": "stdout",
          "output_type": "stream",
          "text": [
            "Epoch 9, Batch 10, Loss: 0.05660738795995712\n"
          ]
        },
        {
          "name": "stderr",
          "output_type": "stream",
          "text": []
        },
        {
          "name": "stdout",
          "output_type": "stream",
          "text": [
            "Epoch 9, Batch 20, Loss: 0.04038850963115692\n"
          ]
        },
        {
          "name": "stderr",
          "output_type": "stream",
          "text": []
        },
        {
          "name": "stdout",
          "output_type": "stream",
          "text": [
            "Epoch 9, Batch 30, Loss: 0.04669107124209404\n"
          ]
        },
        {
          "name": "stderr",
          "output_type": "stream",
          "text": []
        },
        {
          "name": "stdout",
          "output_type": "stream",
          "text": [
            "Epoch 9, Batch 40, Loss: 0.036677286028862\n"
          ]
        },
        {
          "name": "stderr",
          "output_type": "stream",
          "text": []
        },
        {
          "name": "stdout",
          "output_type": "stream",
          "text": [
            "Epoch 9, Batch 50, Loss: 0.025714442133903503\n"
          ]
        },
        {
          "name": "stderr",
          "output_type": "stream",
          "text": []
        },
        {
          "name": "stdout",
          "output_type": "stream",
          "text": [
            "Epoch 9, Batch 60, Loss: 0.03209073469042778\n"
          ]
        },
        {
          "name": "stderr",
          "output_type": "stream",
          "text": []
        },
        {
          "name": "stdout",
          "output_type": "stream",
          "text": [
            "Epoch 9, Batch 70, Loss: 0.036770351231098175\n"
          ]
        },
        {
          "name": "stderr",
          "output_type": "stream",
          "text": []
        },
        {
          "name": "stdout",
          "output_type": "stream",
          "text": [
            "Epoch 9, Batch 80, Loss: 0.033361371606588364\n"
          ]
        },
        {
          "name": "stderr",
          "output_type": "stream",
          "text": []
        },
        {
          "name": "stdout",
          "output_type": "stream",
          "text": [
            "Epoch 9, Batch 90, Loss: 0.0379304364323616\n"
          ]
        },
        {
          "name": "stderr",
          "output_type": "stream",
          "text": [
            "Epoch:  10%|█         | 10/100 [12:22<1:51:30, 74.33s/it]"
          ]
        },
        {
          "name": "stdout",
          "output_type": "stream",
          "text": [
            "Epoch 10, Batch 0, Loss: 0.03877926990389824\n"
          ]
        },
        {
          "name": "stderr",
          "output_type": "stream",
          "text": []
        },
        {
          "name": "stdout",
          "output_type": "stream",
          "text": [
            "Epoch 10, Batch 10, Loss: 0.03859417513012886\n"
          ]
        },
        {
          "name": "stderr",
          "output_type": "stream",
          "text": []
        },
        {
          "name": "stdout",
          "output_type": "stream",
          "text": [
            "Epoch 10, Batch 20, Loss: 0.041698165237903595\n"
          ]
        },
        {
          "name": "stderr",
          "output_type": "stream",
          "text": []
        },
        {
          "name": "stdout",
          "output_type": "stream",
          "text": [
            "Epoch 10, Batch 30, Loss: 0.03474869579076767\n"
          ]
        },
        {
          "name": "stderr",
          "output_type": "stream",
          "text": []
        },
        {
          "name": "stdout",
          "output_type": "stream",
          "text": [
            "Epoch 10, Batch 40, Loss: 0.0313715897500515\n"
          ]
        },
        {
          "name": "stderr",
          "output_type": "stream",
          "text": []
        },
        {
          "name": "stdout",
          "output_type": "stream",
          "text": [
            "Epoch 10, Batch 50, Loss: 0.036272384226322174\n"
          ]
        },
        {
          "name": "stderr",
          "output_type": "stream",
          "text": []
        },
        {
          "name": "stdout",
          "output_type": "stream",
          "text": [
            "Epoch 10, Batch 60, Loss: 0.04732716828584671\n"
          ]
        },
        {
          "name": "stderr",
          "output_type": "stream",
          "text": []
        },
        {
          "name": "stdout",
          "output_type": "stream",
          "text": [
            "Epoch 10, Batch 70, Loss: 0.039849113672971725\n"
          ]
        },
        {
          "name": "stderr",
          "output_type": "stream",
          "text": []
        },
        {
          "name": "stdout",
          "output_type": "stream",
          "text": [
            "Epoch 10, Batch 80, Loss: 0.04006045684218407\n"
          ]
        },
        {
          "name": "stderr",
          "output_type": "stream",
          "text": []
        },
        {
          "name": "stdout",
          "output_type": "stream",
          "text": [
            "Epoch 10, Batch 90, Loss: 0.035033270716667175\n"
          ]
        },
        {
          "name": "stderr",
          "output_type": "stream",
          "text": [
            "Epoch:  11%|█         | 11/100 [13:41<1:52:35, 75.91s/it]"
          ]
        },
        {
          "name": "stdout",
          "output_type": "stream",
          "text": [
            "Epoch 11, Batch 0, Loss: 0.03717106580734253\n"
          ]
        },
        {
          "name": "stderr",
          "output_type": "stream",
          "text": []
        },
        {
          "name": "stdout",
          "output_type": "stream",
          "text": [
            "Epoch 11, Batch 10, Loss: 0.028973719105124474\n"
          ]
        },
        {
          "name": "stderr",
          "output_type": "stream",
          "text": []
        },
        {
          "name": "stdout",
          "output_type": "stream",
          "text": [
            "Epoch 11, Batch 20, Loss: 0.03675887733697891\n"
          ]
        },
        {
          "name": "stderr",
          "output_type": "stream",
          "text": []
        },
        {
          "name": "stdout",
          "output_type": "stream",
          "text": [
            "Epoch 11, Batch 30, Loss: 0.05634795129299164\n"
          ]
        },
        {
          "name": "stderr",
          "output_type": "stream",
          "text": []
        },
        {
          "name": "stdout",
          "output_type": "stream",
          "text": [
            "Epoch 11, Batch 40, Loss: 0.032877713441848755\n"
          ]
        },
        {
          "name": "stderr",
          "output_type": "stream",
          "text": []
        },
        {
          "name": "stdout",
          "output_type": "stream",
          "text": [
            "Epoch 11, Batch 50, Loss: 0.03192346543073654\n"
          ]
        },
        {
          "name": "stderr",
          "output_type": "stream",
          "text": []
        },
        {
          "name": "stdout",
          "output_type": "stream",
          "text": [
            "Epoch 11, Batch 60, Loss: 0.04153842478990555\n"
          ]
        },
        {
          "name": "stderr",
          "output_type": "stream",
          "text": []
        },
        {
          "name": "stdout",
          "output_type": "stream",
          "text": [
            "Epoch 11, Batch 70, Loss: 0.031432218849658966\n"
          ]
        },
        {
          "name": "stderr",
          "output_type": "stream",
          "text": []
        },
        {
          "name": "stdout",
          "output_type": "stream",
          "text": [
            "Epoch 11, Batch 80, Loss: 0.03220425918698311\n"
          ]
        },
        {
          "name": "stderr",
          "output_type": "stream",
          "text": []
        },
        {
          "name": "stdout",
          "output_type": "stream",
          "text": [
            "Epoch 11, Batch 90, Loss: 0.03650717809796333\n"
          ]
        },
        {
          "name": "stderr",
          "output_type": "stream",
          "text": [
            "Epoch:  12%|█▏        | 12/100 [14:57<1:51:24, 75.96s/it]"
          ]
        },
        {
          "name": "stdout",
          "output_type": "stream",
          "text": [
            "Epoch 12, Batch 0, Loss: 0.03248750790953636\n"
          ]
        },
        {
          "name": "stderr",
          "output_type": "stream",
          "text": []
        },
        {
          "name": "stdout",
          "output_type": "stream",
          "text": [
            "Epoch 12, Batch 10, Loss: 0.03921014443039894\n"
          ]
        },
        {
          "name": "stderr",
          "output_type": "stream",
          "text": []
        },
        {
          "name": "stdout",
          "output_type": "stream",
          "text": [
            "Epoch 12, Batch 20, Loss: 0.03436442092061043\n"
          ]
        },
        {
          "name": "stderr",
          "output_type": "stream",
          "text": []
        },
        {
          "name": "stdout",
          "output_type": "stream",
          "text": [
            "Epoch 12, Batch 30, Loss: 0.040052060037851334\n"
          ]
        },
        {
          "name": "stderr",
          "output_type": "stream",
          "text": []
        },
        {
          "name": "stdout",
          "output_type": "stream",
          "text": [
            "Epoch 12, Batch 40, Loss: 0.04669908061623573\n"
          ]
        },
        {
          "name": "stderr",
          "output_type": "stream",
          "text": []
        },
        {
          "name": "stdout",
          "output_type": "stream",
          "text": [
            "Epoch 12, Batch 50, Loss: 0.04218105971813202\n"
          ]
        },
        {
          "name": "stderr",
          "output_type": "stream",
          "text": []
        },
        {
          "name": "stdout",
          "output_type": "stream",
          "text": [
            "Epoch 12, Batch 60, Loss: 0.03439385071396828\n"
          ]
        },
        {
          "name": "stderr",
          "output_type": "stream",
          "text": []
        },
        {
          "name": "stdout",
          "output_type": "stream",
          "text": [
            "Epoch 12, Batch 70, Loss: 0.041462067514657974\n"
          ]
        },
        {
          "name": "stderr",
          "output_type": "stream",
          "text": []
        },
        {
          "name": "stdout",
          "output_type": "stream",
          "text": [
            "Epoch 12, Batch 80, Loss: 0.03267621248960495\n"
          ]
        },
        {
          "name": "stderr",
          "output_type": "stream",
          "text": []
        },
        {
          "name": "stdout",
          "output_type": "stream",
          "text": [
            "Epoch 12, Batch 90, Loss: 0.03053591586649418\n"
          ]
        },
        {
          "name": "stderr",
          "output_type": "stream",
          "text": [
            "Epoch:  13%|█▎        | 13/100 [15:50<1:40:11, 69.10s/it]"
          ]
        },
        {
          "name": "stdout",
          "output_type": "stream",
          "text": [
            "Epoch 13, Batch 0, Loss: 0.03378541022539139\n"
          ]
        },
        {
          "name": "stderr",
          "output_type": "stream",
          "text": []
        },
        {
          "name": "stdout",
          "output_type": "stream",
          "text": [
            "Epoch 13, Batch 10, Loss: 0.031606417149305344\n"
          ]
        },
        {
          "name": "stderr",
          "output_type": "stream",
          "text": []
        },
        {
          "name": "stdout",
          "output_type": "stream",
          "text": [
            "Epoch 13, Batch 20, Loss: 0.03919863700866699\n"
          ]
        },
        {
          "name": "stderr",
          "output_type": "stream",
          "text": []
        },
        {
          "name": "stdout",
          "output_type": "stream",
          "text": [
            "Epoch 13, Batch 30, Loss: 0.04007682576775551\n"
          ]
        },
        {
          "name": "stderr",
          "output_type": "stream",
          "text": []
        },
        {
          "name": "stdout",
          "output_type": "stream",
          "text": [
            "Epoch 13, Batch 40, Loss: 0.029358351603150368\n"
          ]
        },
        {
          "name": "stderr",
          "output_type": "stream",
          "text": []
        },
        {
          "name": "stdout",
          "output_type": "stream",
          "text": [
            "Epoch 13, Batch 50, Loss: 0.032627079635858536\n"
          ]
        },
        {
          "name": "stderr",
          "output_type": "stream",
          "text": []
        },
        {
          "name": "stdout",
          "output_type": "stream",
          "text": [
            "Epoch 13, Batch 60, Loss: 0.03265605494379997\n"
          ]
        },
        {
          "name": "stderr",
          "output_type": "stream",
          "text": []
        },
        {
          "name": "stdout",
          "output_type": "stream",
          "text": [
            "Epoch 13, Batch 70, Loss: 0.03040974587202072\n"
          ]
        },
        {
          "name": "stderr",
          "output_type": "stream",
          "text": []
        },
        {
          "name": "stdout",
          "output_type": "stream",
          "text": [
            "Epoch 13, Batch 80, Loss: 0.031715430319309235\n"
          ]
        },
        {
          "name": "stderr",
          "output_type": "stream",
          "text": []
        },
        {
          "name": "stdout",
          "output_type": "stream",
          "text": [
            "Epoch 13, Batch 90, Loss: 0.026765581220388412\n"
          ]
        },
        {
          "name": "stderr",
          "output_type": "stream",
          "text": [
            "Epoch:  14%|█▍        | 14/100 [16:22<1:22:48, 57.77s/it]"
          ]
        },
        {
          "name": "stdout",
          "output_type": "stream",
          "text": [
            "Epoch 14, Batch 0, Loss: 0.03784682974219322\n"
          ]
        },
        {
          "name": "stderr",
          "output_type": "stream",
          "text": []
        },
        {
          "name": "stdout",
          "output_type": "stream",
          "text": [
            "Epoch 14, Batch 10, Loss: 0.0303560309112072\n"
          ]
        },
        {
          "name": "stderr",
          "output_type": "stream",
          "text": []
        },
        {
          "name": "stdout",
          "output_type": "stream",
          "text": [
            "Epoch 14, Batch 20, Loss: 0.03110145963728428\n"
          ]
        },
        {
          "name": "stderr",
          "output_type": "stream",
          "text": []
        },
        {
          "name": "stdout",
          "output_type": "stream",
          "text": [
            "Epoch 14, Batch 30, Loss: 0.03130623698234558\n"
          ]
        },
        {
          "name": "stderr",
          "output_type": "stream",
          "text": []
        },
        {
          "name": "stdout",
          "output_type": "stream",
          "text": [
            "Epoch 14, Batch 40, Loss: 0.030808059498667717\n"
          ]
        },
        {
          "name": "stderr",
          "output_type": "stream",
          "text": []
        },
        {
          "name": "stdout",
          "output_type": "stream",
          "text": [
            "Epoch 14, Batch 50, Loss: 0.03566257655620575\n"
          ]
        },
        {
          "name": "stderr",
          "output_type": "stream",
          "text": []
        },
        {
          "name": "stdout",
          "output_type": "stream",
          "text": [
            "Epoch 14, Batch 60, Loss: 0.03412353992462158\n"
          ]
        },
        {
          "name": "stderr",
          "output_type": "stream",
          "text": []
        },
        {
          "name": "stdout",
          "output_type": "stream",
          "text": [
            "Epoch 14, Batch 70, Loss: 0.032970789819955826\n"
          ]
        },
        {
          "name": "stderr",
          "output_type": "stream",
          "text": []
        },
        {
          "name": "stdout",
          "output_type": "stream",
          "text": [
            "Epoch 14, Batch 80, Loss: 0.035809874534606934\n"
          ]
        },
        {
          "name": "stderr",
          "output_type": "stream",
          "text": []
        },
        {
          "name": "stdout",
          "output_type": "stream",
          "text": [
            "Epoch 14, Batch 90, Loss: 0.03894525766372681\n"
          ]
        },
        {
          "name": "stderr",
          "output_type": "stream",
          "text": [
            "Epoch:  15%|█▌        | 15/100 [16:54<1:10:38, 49.87s/it]"
          ]
        },
        {
          "name": "stdout",
          "output_type": "stream",
          "text": [
            "Epoch 15, Batch 0, Loss: 0.031276803463697433\n"
          ]
        },
        {
          "name": "stderr",
          "output_type": "stream",
          "text": []
        },
        {
          "name": "stdout",
          "output_type": "stream",
          "text": [
            "Epoch 15, Batch 10, Loss: 0.03547818213701248\n"
          ]
        },
        {
          "name": "stderr",
          "output_type": "stream",
          "text": []
        },
        {
          "name": "stdout",
          "output_type": "stream",
          "text": [
            "Epoch 15, Batch 20, Loss: 0.03897424042224884\n"
          ]
        },
        {
          "name": "stderr",
          "output_type": "stream",
          "text": []
        },
        {
          "name": "stdout",
          "output_type": "stream",
          "text": [
            "Epoch 15, Batch 30, Loss: 0.0332731157541275\n"
          ]
        },
        {
          "name": "stderr",
          "output_type": "stream",
          "text": []
        },
        {
          "name": "stdout",
          "output_type": "stream",
          "text": [
            "Epoch 15, Batch 40, Loss: 0.028994400054216385\n"
          ]
        },
        {
          "name": "stderr",
          "output_type": "stream",
          "text": []
        },
        {
          "name": "stdout",
          "output_type": "stream",
          "text": [
            "Epoch 15, Batch 50, Loss: 0.03468874841928482\n"
          ]
        },
        {
          "name": "stderr",
          "output_type": "stream",
          "text": []
        },
        {
          "name": "stdout",
          "output_type": "stream",
          "text": [
            "Epoch 15, Batch 60, Loss: 0.028222355991601944\n"
          ]
        },
        {
          "name": "stderr",
          "output_type": "stream",
          "text": []
        },
        {
          "name": "stdout",
          "output_type": "stream",
          "text": [
            "Epoch 15, Batch 70, Loss: 0.02713250182569027\n"
          ]
        },
        {
          "name": "stderr",
          "output_type": "stream",
          "text": []
        },
        {
          "name": "stdout",
          "output_type": "stream",
          "text": [
            "Epoch 15, Batch 80, Loss: 0.03111487813293934\n"
          ]
        },
        {
          "name": "stderr",
          "output_type": "stream",
          "text": []
        },
        {
          "name": "stdout",
          "output_type": "stream",
          "text": [
            "Epoch 15, Batch 90, Loss: 0.028108051046729088\n"
          ]
        },
        {
          "name": "stderr",
          "output_type": "stream",
          "text": [
            "Epoch:  16%|█▌        | 16/100 [17:25<1:02:06, 44.36s/it]"
          ]
        },
        {
          "name": "stdout",
          "output_type": "stream",
          "text": [
            "Epoch 16, Batch 0, Loss: 0.02882339246571064\n"
          ]
        },
        {
          "name": "stderr",
          "output_type": "stream",
          "text": []
        },
        {
          "name": "stdout",
          "output_type": "stream",
          "text": [
            "Epoch 16, Batch 10, Loss: 0.023288536816835403\n"
          ]
        },
        {
          "name": "stderr",
          "output_type": "stream",
          "text": []
        },
        {
          "name": "stdout",
          "output_type": "stream",
          "text": [
            "Epoch 16, Batch 20, Loss: 0.03772904351353645\n"
          ]
        },
        {
          "name": "stderr",
          "output_type": "stream",
          "text": []
        },
        {
          "name": "stdout",
          "output_type": "stream",
          "text": [
            "Epoch 16, Batch 30, Loss: 0.02927282452583313\n"
          ]
        },
        {
          "name": "stderr",
          "output_type": "stream",
          "text": []
        },
        {
          "name": "stdout",
          "output_type": "stream",
          "text": [
            "Epoch 16, Batch 40, Loss: 0.04090932384133339\n"
          ]
        },
        {
          "name": "stderr",
          "output_type": "stream",
          "text": []
        },
        {
          "name": "stdout",
          "output_type": "stream",
          "text": [
            "Epoch 16, Batch 50, Loss: 0.03021736443042755\n"
          ]
        },
        {
          "name": "stderr",
          "output_type": "stream",
          "text": []
        },
        {
          "name": "stdout",
          "output_type": "stream",
          "text": [
            "Epoch 16, Batch 60, Loss: 0.038617704063653946\n"
          ]
        },
        {
          "name": "stderr",
          "output_type": "stream",
          "text": []
        },
        {
          "name": "stdout",
          "output_type": "stream",
          "text": [
            "Epoch 16, Batch 70, Loss: 0.03824158012866974\n"
          ]
        },
        {
          "name": "stderr",
          "output_type": "stream",
          "text": []
        },
        {
          "name": "stdout",
          "output_type": "stream",
          "text": [
            "Epoch 16, Batch 80, Loss: 0.026118751615285873\n"
          ]
        },
        {
          "name": "stderr",
          "output_type": "stream",
          "text": []
        },
        {
          "name": "stdout",
          "output_type": "stream",
          "text": [
            "Epoch 16, Batch 90, Loss: 0.03593096137046814\n"
          ]
        },
        {
          "name": "stderr",
          "output_type": "stream",
          "text": [
            "Epoch:  17%|█▋        | 17/100 [17:57<56:02, 40.52s/it]  "
          ]
        },
        {
          "name": "stdout",
          "output_type": "stream",
          "text": [
            "Epoch 17, Batch 0, Loss: 0.04393058642745018\n"
          ]
        },
        {
          "name": "stderr",
          "output_type": "stream",
          "text": []
        },
        {
          "name": "stdout",
          "output_type": "stream",
          "text": [
            "Epoch 17, Batch 10, Loss: 0.03620392829179764\n"
          ]
        },
        {
          "name": "stderr",
          "output_type": "stream",
          "text": []
        },
        {
          "name": "stdout",
          "output_type": "stream",
          "text": [
            "Epoch 17, Batch 20, Loss: 0.02840954251587391\n"
          ]
        },
        {
          "name": "stderr",
          "output_type": "stream",
          "text": []
        },
        {
          "name": "stdout",
          "output_type": "stream",
          "text": [
            "Epoch 17, Batch 30, Loss: 0.02754553034901619\n"
          ]
        },
        {
          "name": "stderr",
          "output_type": "stream",
          "text": []
        },
        {
          "name": "stdout",
          "output_type": "stream",
          "text": [
            "Epoch 17, Batch 40, Loss: 0.038040127605199814\n"
          ]
        },
        {
          "name": "stderr",
          "output_type": "stream",
          "text": []
        },
        {
          "name": "stdout",
          "output_type": "stream",
          "text": [
            "Epoch 17, Batch 50, Loss: 0.03156360238790512\n"
          ]
        },
        {
          "name": "stderr",
          "output_type": "stream",
          "text": []
        },
        {
          "name": "stdout",
          "output_type": "stream",
          "text": [
            "Epoch 17, Batch 60, Loss: 0.026863325387239456\n"
          ]
        },
        {
          "name": "stderr",
          "output_type": "stream",
          "text": []
        },
        {
          "name": "stdout",
          "output_type": "stream",
          "text": [
            "Epoch 17, Batch 70, Loss: 0.0296863354742527\n"
          ]
        },
        {
          "name": "stderr",
          "output_type": "stream",
          "text": []
        },
        {
          "name": "stdout",
          "output_type": "stream",
          "text": [
            "Epoch 17, Batch 80, Loss: 0.04090356081724167\n"
          ]
        },
        {
          "name": "stderr",
          "output_type": "stream",
          "text": []
        },
        {
          "name": "stdout",
          "output_type": "stream",
          "text": [
            "Epoch 17, Batch 90, Loss: 0.02736826054751873\n"
          ]
        },
        {
          "name": "stderr",
          "output_type": "stream",
          "text": [
            "Epoch:  18%|█▊        | 18/100 [18:28<51:42, 37.83s/it]"
          ]
        },
        {
          "name": "stdout",
          "output_type": "stream",
          "text": [
            "Epoch 18, Batch 0, Loss: 0.036974016577005386\n"
          ]
        },
        {
          "name": "stderr",
          "output_type": "stream",
          "text": []
        },
        {
          "name": "stdout",
          "output_type": "stream",
          "text": [
            "Epoch 18, Batch 10, Loss: 0.028587928041815758\n"
          ]
        },
        {
          "name": "stderr",
          "output_type": "stream",
          "text": []
        },
        {
          "name": "stdout",
          "output_type": "stream",
          "text": [
            "Epoch 18, Batch 20, Loss: 0.04034857451915741\n"
          ]
        },
        {
          "name": "stderr",
          "output_type": "stream",
          "text": []
        },
        {
          "name": "stdout",
          "output_type": "stream",
          "text": [
            "Epoch 18, Batch 30, Loss: 0.03316095471382141\n"
          ]
        },
        {
          "name": "stderr",
          "output_type": "stream",
          "text": []
        },
        {
          "name": "stdout",
          "output_type": "stream",
          "text": [
            "Epoch 18, Batch 40, Loss: 0.02997962385416031\n"
          ]
        },
        {
          "name": "stderr",
          "output_type": "stream",
          "text": []
        },
        {
          "name": "stdout",
          "output_type": "stream",
          "text": [
            "Epoch 18, Batch 50, Loss: 0.03678001090884209\n"
          ]
        },
        {
          "name": "stderr",
          "output_type": "stream",
          "text": []
        },
        {
          "name": "stdout",
          "output_type": "stream",
          "text": [
            "Epoch 18, Batch 60, Loss: 0.039620183408260345\n"
          ]
        },
        {
          "name": "stderr",
          "output_type": "stream",
          "text": []
        },
        {
          "name": "stdout",
          "output_type": "stream",
          "text": [
            "Epoch 18, Batch 70, Loss: 0.039948128163814545\n"
          ]
        },
        {
          "name": "stderr",
          "output_type": "stream",
          "text": []
        },
        {
          "name": "stdout",
          "output_type": "stream",
          "text": [
            "Epoch 18, Batch 80, Loss: 0.02961641363799572\n"
          ]
        },
        {
          "name": "stderr",
          "output_type": "stream",
          "text": []
        },
        {
          "name": "stdout",
          "output_type": "stream",
          "text": [
            "Epoch 18, Batch 90, Loss: 0.04580056294798851\n"
          ]
        },
        {
          "name": "stderr",
          "output_type": "stream",
          "text": [
            "Epoch:  19%|█▉        | 19/100 [19:00<48:32, 35.95s/it]"
          ]
        },
        {
          "name": "stdout",
          "output_type": "stream",
          "text": [
            "Epoch 19, Batch 0, Loss: 0.04259585589170456\n"
          ]
        },
        {
          "name": "stderr",
          "output_type": "stream",
          "text": []
        },
        {
          "name": "stdout",
          "output_type": "stream",
          "text": [
            "Epoch 19, Batch 10, Loss: 0.03397706523537636\n"
          ]
        },
        {
          "name": "stderr",
          "output_type": "stream",
          "text": []
        },
        {
          "name": "stdout",
          "output_type": "stream",
          "text": [
            "Epoch 19, Batch 20, Loss: 0.031248798593878746\n"
          ]
        },
        {
          "name": "stderr",
          "output_type": "stream",
          "text": []
        },
        {
          "name": "stdout",
          "output_type": "stream",
          "text": [
            "Epoch 19, Batch 30, Loss: 0.04250355809926987\n"
          ]
        },
        {
          "name": "stderr",
          "output_type": "stream",
          "text": []
        },
        {
          "name": "stdout",
          "output_type": "stream",
          "text": [
            "Epoch 19, Batch 40, Loss: 0.03378823772072792\n"
          ]
        },
        {
          "name": "stderr",
          "output_type": "stream",
          "text": []
        },
        {
          "name": "stdout",
          "output_type": "stream",
          "text": [
            "Epoch 19, Batch 50, Loss: 0.031056473031640053\n"
          ]
        },
        {
          "name": "stderr",
          "output_type": "stream",
          "text": []
        },
        {
          "name": "stdout",
          "output_type": "stream",
          "text": [
            "Epoch 19, Batch 60, Loss: 0.03728770092129707\n"
          ]
        },
        {
          "name": "stderr",
          "output_type": "stream",
          "text": []
        },
        {
          "name": "stdout",
          "output_type": "stream",
          "text": [
            "Epoch 19, Batch 70, Loss: 0.026049556210637093\n"
          ]
        },
        {
          "name": "stderr",
          "output_type": "stream",
          "text": []
        },
        {
          "name": "stdout",
          "output_type": "stream",
          "text": [
            "Epoch 19, Batch 80, Loss: 0.023618126288056374\n"
          ]
        },
        {
          "name": "stderr",
          "output_type": "stream",
          "text": []
        },
        {
          "name": "stdout",
          "output_type": "stream",
          "text": [
            "Epoch 19, Batch 90, Loss: 0.03250256925821304\n"
          ]
        },
        {
          "name": "stderr",
          "output_type": "stream",
          "text": [
            "Epoch:  20%|██        | 20/100 [19:31<46:10, 34.63s/it]"
          ]
        },
        {
          "name": "stdout",
          "output_type": "stream",
          "text": [
            "Epoch 20, Batch 0, Loss: 0.029100993648171425\n"
          ]
        },
        {
          "name": "stderr",
          "output_type": "stream",
          "text": []
        },
        {
          "name": "stdout",
          "output_type": "stream",
          "text": [
            "Epoch 20, Batch 10, Loss: 0.02774575911462307\n"
          ]
        },
        {
          "name": "stderr",
          "output_type": "stream",
          "text": []
        },
        {
          "name": "stdout",
          "output_type": "stream",
          "text": [
            "Epoch 20, Batch 20, Loss: 0.02728586085140705\n"
          ]
        },
        {
          "name": "stderr",
          "output_type": "stream",
          "text": []
        },
        {
          "name": "stdout",
          "output_type": "stream",
          "text": [
            "Epoch 20, Batch 30, Loss: 0.02404148317873478\n"
          ]
        },
        {
          "name": "stderr",
          "output_type": "stream",
          "text": []
        },
        {
          "name": "stdout",
          "output_type": "stream",
          "text": [
            "Epoch 20, Batch 40, Loss: 0.03975151106715202\n"
          ]
        },
        {
          "name": "stderr",
          "output_type": "stream",
          "text": []
        },
        {
          "name": "stdout",
          "output_type": "stream",
          "text": [
            "Epoch 20, Batch 50, Loss: 0.02871577814221382\n"
          ]
        },
        {
          "name": "stderr",
          "output_type": "stream",
          "text": []
        },
        {
          "name": "stdout",
          "output_type": "stream",
          "text": [
            "Epoch 20, Batch 60, Loss: 0.026137929409742355\n"
          ]
        },
        {
          "name": "stderr",
          "output_type": "stream",
          "text": []
        },
        {
          "name": "stdout",
          "output_type": "stream",
          "text": [
            "Epoch 20, Batch 70, Loss: 0.0328282006084919\n"
          ]
        },
        {
          "name": "stderr",
          "output_type": "stream",
          "text": []
        },
        {
          "name": "stdout",
          "output_type": "stream",
          "text": [
            "Epoch 20, Batch 80, Loss: 0.026570498943328857\n"
          ]
        },
        {
          "name": "stderr",
          "output_type": "stream",
          "text": []
        },
        {
          "name": "stdout",
          "output_type": "stream",
          "text": [
            "Epoch 20, Batch 90, Loss: 0.02629578299820423\n"
          ]
        },
        {
          "name": "stderr",
          "output_type": "stream",
          "text": [
            "Epoch:  21%|██        | 21/100 [20:04<44:36, 33.88s/it]"
          ]
        },
        {
          "name": "stdout",
          "output_type": "stream",
          "text": [
            "Epoch 21, Batch 0, Loss: 0.028832077980041504\n"
          ]
        },
        {
          "name": "stderr",
          "output_type": "stream",
          "text": []
        },
        {
          "name": "stdout",
          "output_type": "stream",
          "text": [
            "Epoch 21, Batch 10, Loss: 0.04044428467750549\n"
          ]
        },
        {
          "name": "stderr",
          "output_type": "stream",
          "text": []
        },
        {
          "name": "stdout",
          "output_type": "stream",
          "text": [
            "Epoch 21, Batch 20, Loss: 0.025728654116392136\n"
          ]
        },
        {
          "name": "stderr",
          "output_type": "stream",
          "text": []
        },
        {
          "name": "stdout",
          "output_type": "stream",
          "text": [
            "Epoch 21, Batch 30, Loss: 0.034973036497831345\n"
          ]
        },
        {
          "name": "stderr",
          "output_type": "stream",
          "text": []
        },
        {
          "name": "stdout",
          "output_type": "stream",
          "text": [
            "Epoch 21, Batch 40, Loss: 0.025023166090250015\n"
          ]
        },
        {
          "name": "stderr",
          "output_type": "stream",
          "text": []
        },
        {
          "name": "stdout",
          "output_type": "stream",
          "text": [
            "Epoch 21, Batch 50, Loss: 0.027498289942741394\n"
          ]
        },
        {
          "name": "stderr",
          "output_type": "stream",
          "text": []
        },
        {
          "name": "stdout",
          "output_type": "stream",
          "text": [
            "Epoch 21, Batch 60, Loss: 0.020908521488308907\n"
          ]
        },
        {
          "name": "stderr",
          "output_type": "stream",
          "text": []
        },
        {
          "name": "stdout",
          "output_type": "stream",
          "text": [
            "Epoch 21, Batch 70, Loss: 0.037648387253284454\n"
          ]
        },
        {
          "name": "stderr",
          "output_type": "stream",
          "text": []
        },
        {
          "name": "stdout",
          "output_type": "stream",
          "text": [
            "Epoch 21, Batch 80, Loss: 0.03419991955161095\n"
          ]
        },
        {
          "name": "stderr",
          "output_type": "stream",
          "text": []
        },
        {
          "name": "stdout",
          "output_type": "stream",
          "text": [
            "Epoch 21, Batch 90, Loss: 0.025532977655529976\n"
          ]
        },
        {
          "name": "stderr",
          "output_type": "stream",
          "text": [
            "Epoch:  22%|██▏       | 22/100 [20:35<43:15, 33.27s/it]"
          ]
        },
        {
          "name": "stdout",
          "output_type": "stream",
          "text": [
            "Epoch 22, Batch 0, Loss: 0.01967743970453739\n"
          ]
        },
        {
          "name": "stderr",
          "output_type": "stream",
          "text": []
        },
        {
          "name": "stdout",
          "output_type": "stream",
          "text": [
            "Epoch 22, Batch 10, Loss: 0.029823020100593567\n"
          ]
        },
        {
          "name": "stderr",
          "output_type": "stream",
          "text": []
        },
        {
          "name": "stdout",
          "output_type": "stream",
          "text": [
            "Epoch 22, Batch 20, Loss: 0.03301616013050079\n"
          ]
        },
        {
          "name": "stderr",
          "output_type": "stream",
          "text": []
        },
        {
          "name": "stdout",
          "output_type": "stream",
          "text": [
            "Epoch 22, Batch 30, Loss: 0.023016830906271935\n"
          ]
        },
        {
          "name": "stderr",
          "output_type": "stream",
          "text": []
        },
        {
          "name": "stdout",
          "output_type": "stream",
          "text": [
            "Epoch 22, Batch 40, Loss: 0.025811661034822464\n"
          ]
        },
        {
          "name": "stderr",
          "output_type": "stream",
          "text": []
        },
        {
          "name": "stdout",
          "output_type": "stream",
          "text": [
            "Epoch 22, Batch 50, Loss: 0.02854127436876297\n"
          ]
        },
        {
          "name": "stderr",
          "output_type": "stream",
          "text": []
        },
        {
          "name": "stdout",
          "output_type": "stream",
          "text": [
            "Epoch 22, Batch 60, Loss: 0.027811691164970398\n"
          ]
        },
        {
          "name": "stderr",
          "output_type": "stream",
          "text": []
        },
        {
          "name": "stdout",
          "output_type": "stream",
          "text": [
            "Epoch 22, Batch 70, Loss: 0.027453076094388962\n"
          ]
        },
        {
          "name": "stderr",
          "output_type": "stream",
          "text": []
        },
        {
          "name": "stdout",
          "output_type": "stream",
          "text": [
            "Epoch 22, Batch 80, Loss: 0.03983534872531891\n"
          ]
        },
        {
          "name": "stderr",
          "output_type": "stream",
          "text": []
        },
        {
          "name": "stdout",
          "output_type": "stream",
          "text": [
            "Epoch 22, Batch 90, Loss: 0.03873798996210098\n"
          ]
        },
        {
          "name": "stderr",
          "output_type": "stream",
          "text": [
            "Epoch:  23%|██▎       | 23/100 [21:07<42:09, 32.86s/it]"
          ]
        },
        {
          "name": "stdout",
          "output_type": "stream",
          "text": [
            "Epoch 23, Batch 0, Loss: 0.037083107978105545\n"
          ]
        },
        {
          "name": "stderr",
          "output_type": "stream",
          "text": []
        },
        {
          "name": "stdout",
          "output_type": "stream",
          "text": [
            "Epoch 23, Batch 10, Loss: 0.03499959781765938\n"
          ]
        },
        {
          "name": "stderr",
          "output_type": "stream",
          "text": []
        },
        {
          "name": "stdout",
          "output_type": "stream",
          "text": [
            "Epoch 23, Batch 20, Loss: 0.02570919692516327\n"
          ]
        },
        {
          "name": "stderr",
          "output_type": "stream",
          "text": []
        },
        {
          "name": "stdout",
          "output_type": "stream",
          "text": [
            "Epoch 23, Batch 30, Loss: 0.030591724440455437\n"
          ]
        },
        {
          "name": "stderr",
          "output_type": "stream",
          "text": []
        },
        {
          "name": "stdout",
          "output_type": "stream",
          "text": [
            "Epoch 23, Batch 40, Loss: 0.03949444368481636\n"
          ]
        },
        {
          "name": "stderr",
          "output_type": "stream",
          "text": []
        },
        {
          "name": "stdout",
          "output_type": "stream",
          "text": [
            "Epoch 23, Batch 50, Loss: 0.038510214537382126\n"
          ]
        },
        {
          "name": "stderr",
          "output_type": "stream",
          "text": []
        },
        {
          "name": "stdout",
          "output_type": "stream",
          "text": [
            "Epoch 23, Batch 60, Loss: 0.028662940487265587\n"
          ]
        },
        {
          "name": "stderr",
          "output_type": "stream",
          "text": []
        },
        {
          "name": "stdout",
          "output_type": "stream",
          "text": [
            "Epoch 23, Batch 70, Loss: 0.02714165300130844\n"
          ]
        },
        {
          "name": "stderr",
          "output_type": "stream",
          "text": []
        },
        {
          "name": "stdout",
          "output_type": "stream",
          "text": [
            "Epoch 23, Batch 80, Loss: 0.038997817784547806\n"
          ]
        },
        {
          "name": "stderr",
          "output_type": "stream",
          "text": []
        },
        {
          "name": "stdout",
          "output_type": "stream",
          "text": [
            "Epoch 23, Batch 90, Loss: 0.029877200722694397\n"
          ]
        },
        {
          "name": "stderr",
          "output_type": "stream",
          "text": [
            "Epoch:  24%|██▍       | 24/100 [21:39<41:19, 32.62s/it]"
          ]
        },
        {
          "name": "stdout",
          "output_type": "stream",
          "text": [
            "Epoch 24, Batch 0, Loss: 0.02480747550725937\n"
          ]
        },
        {
          "name": "stderr",
          "output_type": "stream",
          "text": []
        },
        {
          "name": "stdout",
          "output_type": "stream",
          "text": [
            "Epoch 24, Batch 10, Loss: 0.02778959646821022\n"
          ]
        },
        {
          "name": "stderr",
          "output_type": "stream",
          "text": []
        },
        {
          "name": "stdout",
          "output_type": "stream",
          "text": [
            "Epoch 24, Batch 20, Loss: 0.02986406907439232\n"
          ]
        },
        {
          "name": "stderr",
          "output_type": "stream",
          "text": []
        },
        {
          "name": "stdout",
          "output_type": "stream",
          "text": [
            "Epoch 24, Batch 30, Loss: 0.02438465505838394\n"
          ]
        },
        {
          "name": "stderr",
          "output_type": "stream",
          "text": []
        },
        {
          "name": "stdout",
          "output_type": "stream",
          "text": [
            "Epoch 24, Batch 40, Loss: 0.027068987488746643\n"
          ]
        },
        {
          "name": "stderr",
          "output_type": "stream",
          "text": []
        },
        {
          "name": "stdout",
          "output_type": "stream",
          "text": [
            "Epoch 24, Batch 50, Loss: 0.028301160782575607\n"
          ]
        },
        {
          "name": "stderr",
          "output_type": "stream",
          "text": []
        },
        {
          "name": "stdout",
          "output_type": "stream",
          "text": [
            "Epoch 24, Batch 60, Loss: 0.03433297201991081\n"
          ]
        },
        {
          "name": "stderr",
          "output_type": "stream",
          "text": []
        },
        {
          "name": "stdout",
          "output_type": "stream",
          "text": [
            "Epoch 24, Batch 70, Loss: 0.041134949773550034\n"
          ]
        },
        {
          "name": "stderr",
          "output_type": "stream",
          "text": []
        },
        {
          "name": "stdout",
          "output_type": "stream",
          "text": [
            "Epoch 24, Batch 80, Loss: 0.03131459653377533\n"
          ]
        },
        {
          "name": "stderr",
          "output_type": "stream",
          "text": []
        },
        {
          "name": "stdout",
          "output_type": "stream",
          "text": [
            "Epoch 24, Batch 90, Loss: 0.028186779469251633\n"
          ]
        },
        {
          "name": "stderr",
          "output_type": "stream",
          "text": [
            "Epoch:  25%|██▌       | 25/100 [22:11<40:28, 32.37s/it]"
          ]
        },
        {
          "name": "stdout",
          "output_type": "stream",
          "text": [
            "Epoch 25, Batch 0, Loss: 0.03427521511912346\n"
          ]
        },
        {
          "name": "stderr",
          "output_type": "stream",
          "text": []
        },
        {
          "name": "stdout",
          "output_type": "stream",
          "text": [
            "Epoch 25, Batch 10, Loss: 0.025058606639504433\n"
          ]
        },
        {
          "name": "stderr",
          "output_type": "stream",
          "text": []
        },
        {
          "name": "stdout",
          "output_type": "stream",
          "text": [
            "Epoch 25, Batch 20, Loss: 0.02764417603611946\n"
          ]
        },
        {
          "name": "stderr",
          "output_type": "stream",
          "text": []
        },
        {
          "name": "stdout",
          "output_type": "stream",
          "text": [
            "Epoch 25, Batch 30, Loss: 0.029184071347117424\n"
          ]
        },
        {
          "name": "stderr",
          "output_type": "stream",
          "text": []
        },
        {
          "name": "stdout",
          "output_type": "stream",
          "text": [
            "Epoch 25, Batch 40, Loss: 0.03449892997741699\n"
          ]
        },
        {
          "name": "stderr",
          "output_type": "stream",
          "text": []
        },
        {
          "name": "stdout",
          "output_type": "stream",
          "text": [
            "Epoch 25, Batch 50, Loss: 0.031140873208642006\n"
          ]
        },
        {
          "name": "stderr",
          "output_type": "stream",
          "text": []
        },
        {
          "name": "stdout",
          "output_type": "stream",
          "text": [
            "Epoch 25, Batch 60, Loss: 0.03275657072663307\n"
          ]
        },
        {
          "name": "stderr",
          "output_type": "stream",
          "text": []
        },
        {
          "name": "stdout",
          "output_type": "stream",
          "text": [
            "Epoch 25, Batch 70, Loss: 0.03295736387372017\n"
          ]
        },
        {
          "name": "stderr",
          "output_type": "stream",
          "text": []
        },
        {
          "name": "stdout",
          "output_type": "stream",
          "text": [
            "Epoch 25, Batch 80, Loss: 0.03664573282003403\n"
          ]
        },
        {
          "name": "stderr",
          "output_type": "stream",
          "text": []
        },
        {
          "name": "stdout",
          "output_type": "stream",
          "text": [
            "Epoch 25, Batch 90, Loss: 0.029103100299835205\n"
          ]
        },
        {
          "name": "stderr",
          "output_type": "stream",
          "text": [
            "Epoch:  26%|██▌       | 26/100 [22:43<39:43, 32.21s/it]"
          ]
        },
        {
          "name": "stdout",
          "output_type": "stream",
          "text": [
            "Epoch 26, Batch 0, Loss: 0.028727838769555092\n"
          ]
        },
        {
          "name": "stderr",
          "output_type": "stream",
          "text": []
        },
        {
          "name": "stdout",
          "output_type": "stream",
          "text": [
            "Epoch 26, Batch 10, Loss: 0.028000516816973686\n"
          ]
        },
        {
          "name": "stderr",
          "output_type": "stream",
          "text": []
        },
        {
          "name": "stdout",
          "output_type": "stream",
          "text": [
            "Epoch 26, Batch 20, Loss: 0.027111267670989037\n"
          ]
        },
        {
          "name": "stderr",
          "output_type": "stream",
          "text": []
        },
        {
          "name": "stdout",
          "output_type": "stream",
          "text": [
            "Epoch 26, Batch 30, Loss: 0.02279485948383808\n"
          ]
        },
        {
          "name": "stderr",
          "output_type": "stream",
          "text": []
        },
        {
          "name": "stdout",
          "output_type": "stream",
          "text": [
            "Epoch 26, Batch 40, Loss: 0.03329811990261078\n"
          ]
        },
        {
          "name": "stderr",
          "output_type": "stream",
          "text": []
        },
        {
          "name": "stdout",
          "output_type": "stream",
          "text": [
            "Epoch 26, Batch 50, Loss: 0.025353817269206047\n"
          ]
        },
        {
          "name": "stderr",
          "output_type": "stream",
          "text": []
        },
        {
          "name": "stdout",
          "output_type": "stream",
          "text": [
            "Epoch 26, Batch 60, Loss: 0.03023718111217022\n"
          ]
        },
        {
          "name": "stderr",
          "output_type": "stream",
          "text": []
        },
        {
          "name": "stdout",
          "output_type": "stream",
          "text": [
            "Epoch 26, Batch 70, Loss: 0.0285684484988451\n"
          ]
        },
        {
          "name": "stderr",
          "output_type": "stream",
          "text": []
        },
        {
          "name": "stdout",
          "output_type": "stream",
          "text": [
            "Epoch 26, Batch 80, Loss: 0.036063309758901596\n"
          ]
        },
        {
          "name": "stderr",
          "output_type": "stream",
          "text": []
        },
        {
          "name": "stdout",
          "output_type": "stream",
          "text": [
            "Epoch 26, Batch 90, Loss: 0.028797363862395287\n"
          ]
        },
        {
          "name": "stderr",
          "output_type": "stream",
          "text": [
            "Epoch:  27%|██▋       | 27/100 [23:15<39:01, 32.07s/it]"
          ]
        },
        {
          "name": "stdout",
          "output_type": "stream",
          "text": [
            "Epoch 27, Batch 0, Loss: 0.031905557960271835\n"
          ]
        },
        {
          "name": "stderr",
          "output_type": "stream",
          "text": []
        },
        {
          "name": "stdout",
          "output_type": "stream",
          "text": [
            "Epoch 27, Batch 10, Loss: 0.03405848145484924\n"
          ]
        },
        {
          "name": "stderr",
          "output_type": "stream",
          "text": []
        },
        {
          "name": "stdout",
          "output_type": "stream",
          "text": [
            "Epoch 27, Batch 20, Loss: 0.02313152514398098\n"
          ]
        },
        {
          "name": "stderr",
          "output_type": "stream",
          "text": []
        },
        {
          "name": "stdout",
          "output_type": "stream",
          "text": [
            "Epoch 27, Batch 30, Loss: 0.029294218868017197\n"
          ]
        },
        {
          "name": "stderr",
          "output_type": "stream",
          "text": []
        },
        {
          "name": "stdout",
          "output_type": "stream",
          "text": [
            "Epoch 27, Batch 40, Loss: 0.031937651336193085\n"
          ]
        },
        {
          "name": "stderr",
          "output_type": "stream",
          "text": []
        },
        {
          "name": "stdout",
          "output_type": "stream",
          "text": [
            "Epoch 27, Batch 50, Loss: 0.026596546173095703\n"
          ]
        },
        {
          "name": "stderr",
          "output_type": "stream",
          "text": []
        },
        {
          "name": "stdout",
          "output_type": "stream",
          "text": [
            "Epoch 27, Batch 60, Loss: 0.036433763802051544\n"
          ]
        },
        {
          "name": "stderr",
          "output_type": "stream",
          "text": []
        },
        {
          "name": "stdout",
          "output_type": "stream",
          "text": [
            "Epoch 27, Batch 70, Loss: 0.030561471357941628\n"
          ]
        },
        {
          "name": "stderr",
          "output_type": "stream",
          "text": []
        },
        {
          "name": "stdout",
          "output_type": "stream",
          "text": [
            "Epoch 27, Batch 80, Loss: 0.03125789016485214\n"
          ]
        },
        {
          "name": "stderr",
          "output_type": "stream",
          "text": []
        },
        {
          "name": "stdout",
          "output_type": "stream",
          "text": [
            "Epoch 27, Batch 90, Loss: 0.04191891476511955\n"
          ]
        },
        {
          "name": "stderr",
          "output_type": "stream",
          "text": [
            "Epoch:  28%|██▊       | 28/100 [23:46<38:21, 31.96s/it]"
          ]
        },
        {
          "name": "stdout",
          "output_type": "stream",
          "text": [
            "Epoch 28, Batch 0, Loss: 0.0367472767829895\n"
          ]
        },
        {
          "name": "stderr",
          "output_type": "stream",
          "text": []
        },
        {
          "name": "stdout",
          "output_type": "stream",
          "text": [
            "Epoch 28, Batch 10, Loss: 0.027039838954806328\n"
          ]
        },
        {
          "name": "stderr",
          "output_type": "stream",
          "text": []
        },
        {
          "name": "stdout",
          "output_type": "stream",
          "text": [
            "Epoch 28, Batch 20, Loss: 0.028050322085618973\n"
          ]
        },
        {
          "name": "stderr",
          "output_type": "stream",
          "text": []
        },
        {
          "name": "stdout",
          "output_type": "stream",
          "text": [
            "Epoch 28, Batch 30, Loss: 0.021997688338160515\n"
          ]
        },
        {
          "name": "stderr",
          "output_type": "stream",
          "text": []
        },
        {
          "name": "stdout",
          "output_type": "stream",
          "text": [
            "Epoch 28, Batch 40, Loss: 0.024517759680747986\n"
          ]
        },
        {
          "name": "stderr",
          "output_type": "stream",
          "text": []
        },
        {
          "name": "stdout",
          "output_type": "stream",
          "text": [
            "Epoch 28, Batch 50, Loss: 0.02346811443567276\n"
          ]
        },
        {
          "name": "stderr",
          "output_type": "stream",
          "text": []
        },
        {
          "name": "stdout",
          "output_type": "stream",
          "text": [
            "Epoch 28, Batch 60, Loss: 0.027873700484633446\n"
          ]
        },
        {
          "name": "stderr",
          "output_type": "stream",
          "text": []
        },
        {
          "name": "stdout",
          "output_type": "stream",
          "text": [
            "Epoch 28, Batch 70, Loss: 0.02344086393713951\n"
          ]
        },
        {
          "name": "stderr",
          "output_type": "stream",
          "text": []
        },
        {
          "name": "stdout",
          "output_type": "stream",
          "text": [
            "Epoch 28, Batch 80, Loss: 0.026739539578557014\n"
          ]
        },
        {
          "name": "stderr",
          "output_type": "stream",
          "text": []
        },
        {
          "name": "stdout",
          "output_type": "stream",
          "text": [
            "Epoch 28, Batch 90, Loss: 0.02500600554049015\n"
          ]
        },
        {
          "name": "stderr",
          "output_type": "stream",
          "text": [
            "Epoch:  29%|██▉       | 29/100 [24:19<38:03, 32.17s/it]"
          ]
        },
        {
          "name": "stdout",
          "output_type": "stream",
          "text": [
            "Epoch 29, Batch 0, Loss: 0.022737732157111168\n"
          ]
        },
        {
          "name": "stderr",
          "output_type": "stream",
          "text": []
        },
        {
          "name": "stdout",
          "output_type": "stream",
          "text": [
            "Epoch 29, Batch 10, Loss: 0.026058293879032135\n"
          ]
        },
        {
          "name": "stderr",
          "output_type": "stream",
          "text": []
        },
        {
          "name": "stdout",
          "output_type": "stream",
          "text": [
            "Epoch 29, Batch 20, Loss: 0.035137616097927094\n"
          ]
        },
        {
          "name": "stderr",
          "output_type": "stream",
          "text": []
        },
        {
          "name": "stdout",
          "output_type": "stream",
          "text": [
            "Epoch 29, Batch 30, Loss: 0.03457065299153328\n"
          ]
        },
        {
          "name": "stderr",
          "output_type": "stream",
          "text": []
        },
        {
          "name": "stdout",
          "output_type": "stream",
          "text": [
            "Epoch 29, Batch 40, Loss: 0.027251217514276505\n"
          ]
        },
        {
          "name": "stderr",
          "output_type": "stream",
          "text": []
        },
        {
          "name": "stdout",
          "output_type": "stream",
          "text": [
            "Epoch 29, Batch 50, Loss: 0.03716740384697914\n"
          ]
        },
        {
          "name": "stderr",
          "output_type": "stream",
          "text": []
        },
        {
          "name": "stdout",
          "output_type": "stream",
          "text": [
            "Epoch 29, Batch 60, Loss: 0.022683877497911453\n"
          ]
        },
        {
          "name": "stderr",
          "output_type": "stream",
          "text": []
        },
        {
          "name": "stdout",
          "output_type": "stream",
          "text": [
            "Epoch 29, Batch 70, Loss: 0.031617723405361176\n"
          ]
        },
        {
          "name": "stderr",
          "output_type": "stream",
          "text": []
        },
        {
          "name": "stdout",
          "output_type": "stream",
          "text": [
            "Epoch 29, Batch 80, Loss: 0.03376564756035805\n"
          ]
        },
        {
          "name": "stderr",
          "output_type": "stream",
          "text": []
        },
        {
          "name": "stdout",
          "output_type": "stream",
          "text": [
            "Epoch 29, Batch 90, Loss: 0.02149696834385395\n"
          ]
        },
        {
          "name": "stderr",
          "output_type": "stream",
          "text": [
            "Epoch:  30%|███       | 30/100 [24:51<37:27, 32.11s/it]"
          ]
        },
        {
          "name": "stdout",
          "output_type": "stream",
          "text": [
            "Epoch 30, Batch 0, Loss: 0.024471884593367577\n"
          ]
        },
        {
          "name": "stderr",
          "output_type": "stream",
          "text": []
        },
        {
          "name": "stdout",
          "output_type": "stream",
          "text": [
            "Epoch 30, Batch 10, Loss: 0.03248615562915802\n"
          ]
        },
        {
          "name": "stderr",
          "output_type": "stream",
          "text": []
        },
        {
          "name": "stdout",
          "output_type": "stream",
          "text": [
            "Epoch 30, Batch 20, Loss: 0.030838284641504288\n"
          ]
        },
        {
          "name": "stderr",
          "output_type": "stream",
          "text": []
        },
        {
          "name": "stdout",
          "output_type": "stream",
          "text": [
            "Epoch 30, Batch 30, Loss: 0.021874282509088516\n"
          ]
        },
        {
          "name": "stderr",
          "output_type": "stream",
          "text": []
        },
        {
          "name": "stdout",
          "output_type": "stream",
          "text": [
            "Epoch 30, Batch 40, Loss: 0.02589605748653412\n"
          ]
        },
        {
          "name": "stderr",
          "output_type": "stream",
          "text": []
        },
        {
          "name": "stdout",
          "output_type": "stream",
          "text": [
            "Epoch 30, Batch 50, Loss: 0.03258023038506508\n"
          ]
        },
        {
          "name": "stderr",
          "output_type": "stream",
          "text": []
        },
        {
          "name": "stdout",
          "output_type": "stream",
          "text": [
            "Epoch 30, Batch 60, Loss: 0.027065986767411232\n"
          ]
        },
        {
          "name": "stderr",
          "output_type": "stream",
          "text": []
        },
        {
          "name": "stdout",
          "output_type": "stream",
          "text": [
            "Epoch 30, Batch 70, Loss: 0.020743535831570625\n"
          ]
        },
        {
          "name": "stderr",
          "output_type": "stream",
          "text": []
        },
        {
          "name": "stdout",
          "output_type": "stream",
          "text": [
            "Epoch 30, Batch 80, Loss: 0.03214326500892639\n"
          ]
        },
        {
          "name": "stderr",
          "output_type": "stream",
          "text": []
        },
        {
          "name": "stdout",
          "output_type": "stream",
          "text": [
            "Epoch 30, Batch 90, Loss: 0.022563014179468155\n"
          ]
        },
        {
          "name": "stderr",
          "output_type": "stream",
          "text": [
            "Epoch:  31%|███       | 31/100 [25:24<37:04, 32.25s/it]"
          ]
        },
        {
          "name": "stdout",
          "output_type": "stream",
          "text": [
            "Epoch 31, Batch 0, Loss: 0.03131671994924545\n"
          ]
        },
        {
          "name": "stderr",
          "output_type": "stream",
          "text": []
        },
        {
          "name": "stdout",
          "output_type": "stream",
          "text": [
            "Epoch 31, Batch 10, Loss: 0.024846332147717476\n"
          ]
        },
        {
          "name": "stderr",
          "output_type": "stream",
          "text": []
        },
        {
          "name": "stdout",
          "output_type": "stream",
          "text": [
            "Epoch 31, Batch 20, Loss: 0.021233506500720978\n"
          ]
        },
        {
          "name": "stderr",
          "output_type": "stream",
          "text": []
        },
        {
          "name": "stdout",
          "output_type": "stream",
          "text": [
            "Epoch 31, Batch 30, Loss: 0.02700771763920784\n"
          ]
        },
        {
          "name": "stderr",
          "output_type": "stream",
          "text": []
        },
        {
          "name": "stdout",
          "output_type": "stream",
          "text": [
            "Epoch 31, Batch 40, Loss: 0.026156798005104065\n"
          ]
        },
        {
          "name": "stderr",
          "output_type": "stream",
          "text": []
        },
        {
          "name": "stdout",
          "output_type": "stream",
          "text": [
            "Epoch 31, Batch 50, Loss: 0.028566190972924232\n"
          ]
        },
        {
          "name": "stderr",
          "output_type": "stream",
          "text": []
        },
        {
          "name": "stdout",
          "output_type": "stream",
          "text": [
            "Epoch 31, Batch 60, Loss: 0.025780396535992622\n"
          ]
        },
        {
          "name": "stderr",
          "output_type": "stream",
          "text": []
        },
        {
          "name": "stdout",
          "output_type": "stream",
          "text": [
            "Epoch 31, Batch 70, Loss: 0.03220392391085625\n"
          ]
        },
        {
          "name": "stderr",
          "output_type": "stream",
          "text": []
        },
        {
          "name": "stdout",
          "output_type": "stream",
          "text": [
            "Epoch 31, Batch 80, Loss: 0.03283816576004028\n"
          ]
        },
        {
          "name": "stderr",
          "output_type": "stream",
          "text": []
        },
        {
          "name": "stdout",
          "output_type": "stream",
          "text": [
            "Epoch 31, Batch 90, Loss: 0.03253334015607834\n"
          ]
        },
        {
          "name": "stderr",
          "output_type": "stream",
          "text": [
            "Epoch:  32%|███▏      | 32/100 [25:55<36:20, 32.06s/it]"
          ]
        },
        {
          "name": "stdout",
          "output_type": "stream",
          "text": [
            "Epoch 32, Batch 0, Loss: 0.02647382766008377\n"
          ]
        },
        {
          "name": "stderr",
          "output_type": "stream",
          "text": []
        },
        {
          "name": "stdout",
          "output_type": "stream",
          "text": [
            "Epoch 32, Batch 10, Loss: 0.023961396887898445\n"
          ]
        },
        {
          "name": "stderr",
          "output_type": "stream",
          "text": []
        },
        {
          "name": "stdout",
          "output_type": "stream",
          "text": [
            "Epoch 32, Batch 20, Loss: 0.02538124844431877\n"
          ]
        },
        {
          "name": "stderr",
          "output_type": "stream",
          "text": []
        },
        {
          "name": "stdout",
          "output_type": "stream",
          "text": [
            "Epoch 32, Batch 30, Loss: 0.029889238998293877\n"
          ]
        },
        {
          "name": "stderr",
          "output_type": "stream",
          "text": []
        },
        {
          "name": "stdout",
          "output_type": "stream",
          "text": [
            "Epoch 32, Batch 40, Loss: 0.03023425117135048\n"
          ]
        },
        {
          "name": "stderr",
          "output_type": "stream",
          "text": []
        },
        {
          "name": "stdout",
          "output_type": "stream",
          "text": [
            "Epoch 32, Batch 50, Loss: 0.024716628715395927\n"
          ]
        },
        {
          "name": "stderr",
          "output_type": "stream",
          "text": []
        },
        {
          "name": "stdout",
          "output_type": "stream",
          "text": [
            "Epoch 32, Batch 60, Loss: 0.026322221383452415\n"
          ]
        },
        {
          "name": "stderr",
          "output_type": "stream",
          "text": []
        },
        {
          "name": "stdout",
          "output_type": "stream",
          "text": [
            "Epoch 32, Batch 70, Loss: 0.01834980957210064\n"
          ]
        },
        {
          "name": "stderr",
          "output_type": "stream",
          "text": []
        },
        {
          "name": "stdout",
          "output_type": "stream",
          "text": [
            "Epoch 32, Batch 80, Loss: 0.024759763851761818\n"
          ]
        },
        {
          "name": "stderr",
          "output_type": "stream",
          "text": []
        },
        {
          "name": "stdout",
          "output_type": "stream",
          "text": [
            "Epoch 32, Batch 90, Loss: 0.03294280916452408\n"
          ]
        },
        {
          "name": "stderr",
          "output_type": "stream",
          "text": [
            "Epoch:  33%|███▎      | 33/100 [26:27<35:46, 32.03s/it]"
          ]
        },
        {
          "name": "stdout",
          "output_type": "stream",
          "text": [
            "Epoch 33, Batch 0, Loss: 0.019997987896203995\n"
          ]
        },
        {
          "name": "stderr",
          "output_type": "stream",
          "text": []
        },
        {
          "name": "stdout",
          "output_type": "stream",
          "text": [
            "Epoch 33, Batch 10, Loss: 0.01993803307414055\n"
          ]
        },
        {
          "name": "stderr",
          "output_type": "stream",
          "text": []
        },
        {
          "name": "stdout",
          "output_type": "stream",
          "text": [
            "Epoch 33, Batch 20, Loss: 0.02242448925971985\n"
          ]
        },
        {
          "name": "stderr",
          "output_type": "stream",
          "text": []
        },
        {
          "name": "stdout",
          "output_type": "stream",
          "text": [
            "Epoch 33, Batch 30, Loss: 0.02847692370414734\n"
          ]
        },
        {
          "name": "stderr",
          "output_type": "stream",
          "text": []
        },
        {
          "name": "stdout",
          "output_type": "stream",
          "text": [
            "Epoch 33, Batch 40, Loss: 0.025888213887810707\n"
          ]
        },
        {
          "name": "stderr",
          "output_type": "stream",
          "text": []
        },
        {
          "name": "stdout",
          "output_type": "stream",
          "text": [
            "Epoch 33, Batch 50, Loss: 0.03098474070429802\n"
          ]
        },
        {
          "name": "stderr",
          "output_type": "stream",
          "text": []
        },
        {
          "name": "stdout",
          "output_type": "stream",
          "text": [
            "Epoch 33, Batch 60, Loss: 0.043028172105550766\n"
          ]
        },
        {
          "name": "stderr",
          "output_type": "stream",
          "text": []
        },
        {
          "name": "stdout",
          "output_type": "stream",
          "text": [
            "Epoch 33, Batch 70, Loss: 0.03248177468776703\n"
          ]
        },
        {
          "name": "stderr",
          "output_type": "stream",
          "text": []
        },
        {
          "name": "stdout",
          "output_type": "stream",
          "text": [
            "Epoch 33, Batch 80, Loss: 0.027478137984871864\n"
          ]
        },
        {
          "name": "stderr",
          "output_type": "stream",
          "text": []
        },
        {
          "name": "stdout",
          "output_type": "stream",
          "text": [
            "Epoch 33, Batch 90, Loss: 0.036890909075737\n"
          ]
        },
        {
          "name": "stderr",
          "output_type": "stream",
          "text": [
            "Epoch:  34%|███▍      | 34/100 [27:00<35:37, 32.39s/it]"
          ]
        },
        {
          "name": "stdout",
          "output_type": "stream",
          "text": [
            "Epoch 34, Batch 0, Loss: 0.04063580185174942\n"
          ]
        },
        {
          "name": "stderr",
          "output_type": "stream",
          "text": []
        },
        {
          "name": "stdout",
          "output_type": "stream",
          "text": [
            "Epoch 34, Batch 10, Loss: 0.03655150160193443\n"
          ]
        },
        {
          "name": "stderr",
          "output_type": "stream",
          "text": []
        },
        {
          "name": "stdout",
          "output_type": "stream",
          "text": [
            "Epoch 34, Batch 20, Loss: 0.028021028265357018\n"
          ]
        },
        {
          "name": "stderr",
          "output_type": "stream",
          "text": []
        },
        {
          "name": "stdout",
          "output_type": "stream",
          "text": [
            "Epoch 34, Batch 30, Loss: 0.032635100185871124\n"
          ]
        },
        {
          "name": "stderr",
          "output_type": "stream",
          "text": []
        },
        {
          "name": "stdout",
          "output_type": "stream",
          "text": [
            "Epoch 34, Batch 40, Loss: 0.021681709215044975\n"
          ]
        },
        {
          "name": "stderr",
          "output_type": "stream",
          "text": []
        },
        {
          "name": "stdout",
          "output_type": "stream",
          "text": [
            "Epoch 34, Batch 50, Loss: 0.022536007687449455\n"
          ]
        },
        {
          "name": "stderr",
          "output_type": "stream",
          "text": []
        },
        {
          "name": "stdout",
          "output_type": "stream",
          "text": [
            "Epoch 34, Batch 60, Loss: 0.019998518750071526\n"
          ]
        },
        {
          "name": "stderr",
          "output_type": "stream",
          "text": []
        },
        {
          "name": "stdout",
          "output_type": "stream",
          "text": [
            "Epoch 34, Batch 70, Loss: 0.026888685300946236\n"
          ]
        },
        {
          "name": "stderr",
          "output_type": "stream",
          "text": []
        },
        {
          "name": "stdout",
          "output_type": "stream",
          "text": [
            "Epoch 34, Batch 80, Loss: 0.023066962137818336\n"
          ]
        },
        {
          "name": "stderr",
          "output_type": "stream",
          "text": []
        },
        {
          "name": "stdout",
          "output_type": "stream",
          "text": [
            "Epoch 34, Batch 90, Loss: 0.02257240191102028\n"
          ]
        },
        {
          "name": "stderr",
          "output_type": "stream",
          "text": [
            "Epoch:  35%|███▌      | 35/100 [27:32<34:53, 32.20s/it]"
          ]
        },
        {
          "name": "stdout",
          "output_type": "stream",
          "text": [
            "Epoch 35, Batch 0, Loss: 0.01800733059644699\n"
          ]
        },
        {
          "name": "stderr",
          "output_type": "stream",
          "text": []
        },
        {
          "name": "stdout",
          "output_type": "stream",
          "text": [
            "Epoch 35, Batch 10, Loss: 0.02711399830877781\n"
          ]
        },
        {
          "name": "stderr",
          "output_type": "stream",
          "text": []
        },
        {
          "name": "stdout",
          "output_type": "stream",
          "text": [
            "Epoch 35, Batch 20, Loss: 0.035023052245378494\n"
          ]
        },
        {
          "name": "stderr",
          "output_type": "stream",
          "text": []
        },
        {
          "name": "stdout",
          "output_type": "stream",
          "text": [
            "Epoch 35, Batch 30, Loss: 0.02796507254242897\n"
          ]
        },
        {
          "name": "stderr",
          "output_type": "stream",
          "text": []
        },
        {
          "name": "stdout",
          "output_type": "stream",
          "text": [
            "Epoch 35, Batch 40, Loss: 0.025250360369682312\n"
          ]
        },
        {
          "name": "stderr",
          "output_type": "stream",
          "text": []
        },
        {
          "name": "stdout",
          "output_type": "stream",
          "text": [
            "Epoch 35, Batch 50, Loss: 0.02282523922622204\n"
          ]
        },
        {
          "name": "stderr",
          "output_type": "stream",
          "text": []
        },
        {
          "name": "stdout",
          "output_type": "stream",
          "text": [
            "Epoch 35, Batch 60, Loss: 0.03354493901133537\n"
          ]
        },
        {
          "name": "stderr",
          "output_type": "stream",
          "text": []
        },
        {
          "name": "stdout",
          "output_type": "stream",
          "text": [
            "Epoch 35, Batch 70, Loss: 0.028041420504450798\n"
          ]
        },
        {
          "name": "stderr",
          "output_type": "stream",
          "text": []
        },
        {
          "name": "stdout",
          "output_type": "stream",
          "text": [
            "Epoch 35, Batch 80, Loss: 0.026281895115971565\n"
          ]
        },
        {
          "name": "stderr",
          "output_type": "stream",
          "text": []
        },
        {
          "name": "stdout",
          "output_type": "stream",
          "text": [
            "Epoch 35, Batch 90, Loss: 0.031381767243146896\n"
          ]
        },
        {
          "name": "stderr",
          "output_type": "stream",
          "text": [
            "Epoch:  36%|███▌      | 36/100 [28:04<34:10, 32.05s/it]"
          ]
        },
        {
          "name": "stdout",
          "output_type": "stream",
          "text": [
            "Epoch 36, Batch 0, Loss: 0.03640943020582199\n"
          ]
        },
        {
          "name": "stderr",
          "output_type": "stream",
          "text": []
        },
        {
          "name": "stdout",
          "output_type": "stream",
          "text": [
            "Epoch 36, Batch 10, Loss: 0.0359857901930809\n"
          ]
        },
        {
          "name": "stderr",
          "output_type": "stream",
          "text": []
        },
        {
          "name": "stdout",
          "output_type": "stream",
          "text": [
            "Epoch 36, Batch 20, Loss: 0.02146206982433796\n"
          ]
        },
        {
          "name": "stderr",
          "output_type": "stream",
          "text": []
        },
        {
          "name": "stdout",
          "output_type": "stream",
          "text": [
            "Epoch 36, Batch 30, Loss: 0.02805524505674839\n"
          ]
        },
        {
          "name": "stderr",
          "output_type": "stream",
          "text": []
        },
        {
          "name": "stdout",
          "output_type": "stream",
          "text": [
            "Epoch 36, Batch 40, Loss: 0.0268420297652483\n"
          ]
        },
        {
          "name": "stderr",
          "output_type": "stream",
          "text": []
        },
        {
          "name": "stdout",
          "output_type": "stream",
          "text": [
            "Epoch 36, Batch 50, Loss: 0.023012181743979454\n"
          ]
        },
        {
          "name": "stderr",
          "output_type": "stream",
          "text": []
        },
        {
          "name": "stdout",
          "output_type": "stream",
          "text": [
            "Epoch 36, Batch 60, Loss: 0.027680961415171623\n"
          ]
        },
        {
          "name": "stderr",
          "output_type": "stream",
          "text": []
        },
        {
          "name": "stdout",
          "output_type": "stream",
          "text": [
            "Epoch 36, Batch 70, Loss: 0.03015732392668724\n"
          ]
        },
        {
          "name": "stderr",
          "output_type": "stream",
          "text": []
        },
        {
          "name": "stdout",
          "output_type": "stream",
          "text": [
            "Epoch 36, Batch 80, Loss: 0.02470102533698082\n"
          ]
        },
        {
          "name": "stderr",
          "output_type": "stream",
          "text": []
        },
        {
          "name": "stdout",
          "output_type": "stream",
          "text": [
            "Epoch 36, Batch 90, Loss: 0.022464711219072342\n"
          ]
        },
        {
          "name": "stderr",
          "output_type": "stream",
          "text": [
            "Epoch:  37%|███▋      | 37/100 [28:36<33:34, 31.97s/it]"
          ]
        },
        {
          "name": "stdout",
          "output_type": "stream",
          "text": [
            "Epoch 37, Batch 0, Loss: 0.024477537721395493\n"
          ]
        },
        {
          "name": "stderr",
          "output_type": "stream",
          "text": []
        },
        {
          "name": "stdout",
          "output_type": "stream",
          "text": [
            "Epoch 37, Batch 10, Loss: 0.03324523940682411\n"
          ]
        },
        {
          "name": "stderr",
          "output_type": "stream",
          "text": []
        },
        {
          "name": "stdout",
          "output_type": "stream",
          "text": [
            "Epoch 37, Batch 20, Loss: 0.025421274825930595\n"
          ]
        },
        {
          "name": "stderr",
          "output_type": "stream",
          "text": []
        },
        {
          "name": "stdout",
          "output_type": "stream",
          "text": [
            "Epoch 37, Batch 30, Loss: 0.028023315593600273\n"
          ]
        },
        {
          "name": "stderr",
          "output_type": "stream",
          "text": []
        },
        {
          "name": "stdout",
          "output_type": "stream",
          "text": [
            "Epoch 37, Batch 40, Loss: 0.027125321328639984\n"
          ]
        },
        {
          "name": "stderr",
          "output_type": "stream",
          "text": []
        },
        {
          "name": "stdout",
          "output_type": "stream",
          "text": [
            "Epoch 37, Batch 50, Loss: 0.02445741556584835\n"
          ]
        },
        {
          "name": "stderr",
          "output_type": "stream",
          "text": []
        },
        {
          "name": "stdout",
          "output_type": "stream",
          "text": [
            "Epoch 37, Batch 60, Loss: 0.022922633215785027\n"
          ]
        },
        {
          "name": "stderr",
          "output_type": "stream",
          "text": []
        },
        {
          "name": "stdout",
          "output_type": "stream",
          "text": [
            "Epoch 37, Batch 70, Loss: 0.027931824326515198\n"
          ]
        },
        {
          "name": "stderr",
          "output_type": "stream",
          "text": []
        },
        {
          "name": "stdout",
          "output_type": "stream",
          "text": [
            "Epoch 37, Batch 80, Loss: 0.026031214743852615\n"
          ]
        },
        {
          "name": "stderr",
          "output_type": "stream",
          "text": []
        },
        {
          "name": "stdout",
          "output_type": "stream",
          "text": [
            "Epoch 37, Batch 90, Loss: 0.029551541432738304\n"
          ]
        },
        {
          "name": "stderr",
          "output_type": "stream",
          "text": [
            "Epoch:  38%|███▊      | 38/100 [29:08<33:03, 31.99s/it]"
          ]
        },
        {
          "name": "stdout",
          "output_type": "stream",
          "text": [
            "Epoch 38, Batch 0, Loss: 0.03677930682897568\n"
          ]
        },
        {
          "name": "stderr",
          "output_type": "stream",
          "text": []
        },
        {
          "name": "stdout",
          "output_type": "stream",
          "text": [
            "Epoch 38, Batch 10, Loss: 0.025210173800587654\n"
          ]
        },
        {
          "name": "stderr",
          "output_type": "stream",
          "text": []
        },
        {
          "name": "stdout",
          "output_type": "stream",
          "text": [
            "Epoch 38, Batch 20, Loss: 0.026648717001080513\n"
          ]
        },
        {
          "name": "stderr",
          "output_type": "stream",
          "text": []
        },
        {
          "name": "stdout",
          "output_type": "stream",
          "text": [
            "Epoch 38, Batch 30, Loss: 0.02590513974428177\n"
          ]
        },
        {
          "name": "stderr",
          "output_type": "stream",
          "text": []
        },
        {
          "name": "stdout",
          "output_type": "stream",
          "text": [
            "Epoch 38, Batch 40, Loss: 0.02524406835436821\n"
          ]
        },
        {
          "name": "stderr",
          "output_type": "stream",
          "text": []
        },
        {
          "name": "stdout",
          "output_type": "stream",
          "text": [
            "Epoch 38, Batch 50, Loss: 0.020200956612825394\n"
          ]
        },
        {
          "name": "stderr",
          "output_type": "stream",
          "text": []
        },
        {
          "name": "stdout",
          "output_type": "stream",
          "text": [
            "Epoch 38, Batch 60, Loss: 0.03086705133318901\n"
          ]
        },
        {
          "name": "stderr",
          "output_type": "stream",
          "text": []
        },
        {
          "name": "stdout",
          "output_type": "stream",
          "text": [
            "Epoch 38, Batch 70, Loss: 0.023568978533148766\n"
          ]
        },
        {
          "name": "stderr",
          "output_type": "stream",
          "text": []
        },
        {
          "name": "stdout",
          "output_type": "stream",
          "text": [
            "Epoch 38, Batch 80, Loss: 0.01992260105907917\n"
          ]
        },
        {
          "name": "stderr",
          "output_type": "stream",
          "text": []
        },
        {
          "name": "stdout",
          "output_type": "stream",
          "text": [
            "Epoch 38, Batch 90, Loss: 0.026054492220282555\n"
          ]
        },
        {
          "name": "stderr",
          "output_type": "stream",
          "text": [
            "Epoch:  39%|███▉      | 39/100 [29:39<32:23, 31.87s/it]"
          ]
        },
        {
          "name": "stdout",
          "output_type": "stream",
          "text": [
            "Epoch 39, Batch 0, Loss: 0.01832401379942894\n"
          ]
        },
        {
          "name": "stderr",
          "output_type": "stream",
          "text": []
        },
        {
          "name": "stdout",
          "output_type": "stream",
          "text": [
            "Epoch 39, Batch 10, Loss: 0.02417115494608879\n"
          ]
        },
        {
          "name": "stderr",
          "output_type": "stream",
          "text": []
        },
        {
          "name": "stdout",
          "output_type": "stream",
          "text": [
            "Epoch 39, Batch 20, Loss: 0.020278124138712883\n"
          ]
        },
        {
          "name": "stderr",
          "output_type": "stream",
          "text": []
        },
        {
          "name": "stdout",
          "output_type": "stream",
          "text": [
            "Epoch 39, Batch 30, Loss: 0.024983488023281097\n"
          ]
        },
        {
          "name": "stderr",
          "output_type": "stream",
          "text": []
        },
        {
          "name": "stdout",
          "output_type": "stream",
          "text": [
            "Epoch 39, Batch 40, Loss: 0.017200468108057976\n"
          ]
        },
        {
          "name": "stderr",
          "output_type": "stream",
          "text": []
        },
        {
          "name": "stdout",
          "output_type": "stream",
          "text": [
            "Epoch 39, Batch 50, Loss: 0.019344309344887733\n"
          ]
        },
        {
          "name": "stderr",
          "output_type": "stream",
          "text": []
        },
        {
          "name": "stdout",
          "output_type": "stream",
          "text": [
            "Epoch 39, Batch 60, Loss: 0.0192120224237442\n"
          ]
        },
        {
          "name": "stderr",
          "output_type": "stream",
          "text": []
        },
        {
          "name": "stdout",
          "output_type": "stream",
          "text": [
            "Epoch 39, Batch 70, Loss: 0.020146658644080162\n"
          ]
        },
        {
          "name": "stderr",
          "output_type": "stream",
          "text": []
        },
        {
          "name": "stdout",
          "output_type": "stream",
          "text": [
            "Epoch 39, Batch 80, Loss: 0.030852951109409332\n"
          ]
        },
        {
          "name": "stderr",
          "output_type": "stream",
          "text": []
        },
        {
          "name": "stdout",
          "output_type": "stream",
          "text": [
            "Epoch 39, Batch 90, Loss: 0.020641669631004333\n"
          ]
        },
        {
          "name": "stderr",
          "output_type": "stream",
          "text": [
            "Epoch:  40%|████      | 40/100 [30:11<31:47, 31.80s/it]"
          ]
        },
        {
          "name": "stdout",
          "output_type": "stream",
          "text": [
            "Epoch 40, Batch 0, Loss: 0.022166145965456963\n"
          ]
        },
        {
          "name": "stderr",
          "output_type": "stream",
          "text": []
        },
        {
          "name": "stdout",
          "output_type": "stream",
          "text": [
            "Epoch 40, Batch 10, Loss: 0.027483444660902023\n"
          ]
        },
        {
          "name": "stderr",
          "output_type": "stream",
          "text": []
        },
        {
          "name": "stdout",
          "output_type": "stream",
          "text": [
            "Epoch 40, Batch 20, Loss: 0.03977104276418686\n"
          ]
        },
        {
          "name": "stderr",
          "output_type": "stream",
          "text": []
        },
        {
          "name": "stdout",
          "output_type": "stream",
          "text": [
            "Epoch 40, Batch 30, Loss: 0.017279617488384247\n"
          ]
        },
        {
          "name": "stderr",
          "output_type": "stream",
          "text": []
        },
        {
          "name": "stdout",
          "output_type": "stream",
          "text": [
            "Epoch 40, Batch 40, Loss: 0.028168048709630966\n"
          ]
        },
        {
          "name": "stderr",
          "output_type": "stream",
          "text": []
        },
        {
          "name": "stdout",
          "output_type": "stream",
          "text": [
            "Epoch 40, Batch 50, Loss: 0.024773728102445602\n"
          ]
        },
        {
          "name": "stderr",
          "output_type": "stream",
          "text": []
        },
        {
          "name": "stdout",
          "output_type": "stream",
          "text": [
            "Epoch 40, Batch 60, Loss: 0.024632025510072708\n"
          ]
        },
        {
          "name": "stderr",
          "output_type": "stream",
          "text": []
        },
        {
          "name": "stdout",
          "output_type": "stream",
          "text": [
            "Epoch 40, Batch 70, Loss: 0.021763132885098457\n"
          ]
        },
        {
          "name": "stderr",
          "output_type": "stream",
          "text": []
        },
        {
          "name": "stdout",
          "output_type": "stream",
          "text": [
            "Epoch 40, Batch 80, Loss: 0.020033344626426697\n"
          ]
        },
        {
          "name": "stderr",
          "output_type": "stream",
          "text": []
        },
        {
          "name": "stdout",
          "output_type": "stream",
          "text": [
            "Epoch 40, Batch 90, Loss: 0.022884763777256012\n"
          ]
        },
        {
          "name": "stderr",
          "output_type": "stream",
          "text": [
            "Epoch:  41%|████      | 41/100 [30:43<31:26, 31.98s/it]"
          ]
        },
        {
          "name": "stdout",
          "output_type": "stream",
          "text": [
            "Epoch 41, Batch 0, Loss: 0.023324504494667053\n"
          ]
        },
        {
          "name": "stderr",
          "output_type": "stream",
          "text": []
        },
        {
          "name": "stdout",
          "output_type": "stream",
          "text": [
            "Epoch 41, Batch 10, Loss: 0.022558903321623802\n"
          ]
        },
        {
          "name": "stderr",
          "output_type": "stream",
          "text": []
        },
        {
          "name": "stdout",
          "output_type": "stream",
          "text": [
            "Epoch 41, Batch 20, Loss: 0.0238756462931633\n"
          ]
        },
        {
          "name": "stderr",
          "output_type": "stream",
          "text": []
        },
        {
          "name": "stdout",
          "output_type": "stream",
          "text": [
            "Epoch 41, Batch 30, Loss: 0.02008354663848877\n"
          ]
        },
        {
          "name": "stderr",
          "output_type": "stream",
          "text": []
        },
        {
          "name": "stdout",
          "output_type": "stream",
          "text": [
            "Epoch 41, Batch 40, Loss: 0.0213757511228323\n"
          ]
        },
        {
          "name": "stderr",
          "output_type": "stream",
          "text": []
        },
        {
          "name": "stdout",
          "output_type": "stream",
          "text": [
            "Epoch 41, Batch 50, Loss: 0.01990528777241707\n"
          ]
        },
        {
          "name": "stderr",
          "output_type": "stream",
          "text": []
        },
        {
          "name": "stdout",
          "output_type": "stream",
          "text": [
            "Epoch 41, Batch 60, Loss: 0.020652908831834793\n"
          ]
        },
        {
          "name": "stderr",
          "output_type": "stream",
          "text": []
        },
        {
          "name": "stdout",
          "output_type": "stream",
          "text": [
            "Epoch 41, Batch 70, Loss: 0.022761015221476555\n"
          ]
        },
        {
          "name": "stderr",
          "output_type": "stream",
          "text": []
        },
        {
          "name": "stdout",
          "output_type": "stream",
          "text": [
            "Epoch 41, Batch 80, Loss: 0.028484389185905457\n"
          ]
        },
        {
          "name": "stderr",
          "output_type": "stream",
          "text": []
        },
        {
          "name": "stdout",
          "output_type": "stream",
          "text": [
            "Epoch 41, Batch 90, Loss: 0.021370533853769302\n"
          ]
        },
        {
          "name": "stderr",
          "output_type": "stream",
          "text": [
            "Epoch:  42%|████▏     | 42/100 [31:16<30:57, 32.03s/it]"
          ]
        },
        {
          "name": "stdout",
          "output_type": "stream",
          "text": [
            "Epoch 42, Batch 0, Loss: 0.021847642958164215\n"
          ]
        },
        {
          "name": "stderr",
          "output_type": "stream",
          "text": []
        },
        {
          "name": "stdout",
          "output_type": "stream",
          "text": [
            "Epoch 42, Batch 10, Loss: 0.033535804599523544\n"
          ]
        },
        {
          "name": "stderr",
          "output_type": "stream",
          "text": []
        },
        {
          "name": "stdout",
          "output_type": "stream",
          "text": [
            "Epoch 42, Batch 20, Loss: 0.03958481550216675\n"
          ]
        },
        {
          "name": "stderr",
          "output_type": "stream",
          "text": []
        },
        {
          "name": "stdout",
          "output_type": "stream",
          "text": [
            "Epoch 42, Batch 30, Loss: 0.024444198235869408\n"
          ]
        },
        {
          "name": "stderr",
          "output_type": "stream",
          "text": []
        },
        {
          "name": "stdout",
          "output_type": "stream",
          "text": [
            "Epoch 42, Batch 40, Loss: 0.027661295607686043\n"
          ]
        },
        {
          "name": "stderr",
          "output_type": "stream",
          "text": []
        },
        {
          "name": "stdout",
          "output_type": "stream",
          "text": [
            "Epoch 42, Batch 50, Loss: 0.028084363788366318\n"
          ]
        },
        {
          "name": "stderr",
          "output_type": "stream",
          "text": []
        },
        {
          "name": "stdout",
          "output_type": "stream",
          "text": [
            "Epoch 42, Batch 60, Loss: 0.022388577461242676\n"
          ]
        },
        {
          "name": "stderr",
          "output_type": "stream",
          "text": []
        },
        {
          "name": "stdout",
          "output_type": "stream",
          "text": [
            "Epoch 42, Batch 70, Loss: 0.018202506005764008\n"
          ]
        },
        {
          "name": "stderr",
          "output_type": "stream",
          "text": []
        },
        {
          "name": "stdout",
          "output_type": "stream",
          "text": [
            "Epoch 42, Batch 80, Loss: 0.026252716779708862\n"
          ]
        },
        {
          "name": "stderr",
          "output_type": "stream",
          "text": []
        },
        {
          "name": "stdout",
          "output_type": "stream",
          "text": [
            "Epoch 42, Batch 90, Loss: 0.01976301707327366\n"
          ]
        },
        {
          "name": "stderr",
          "output_type": "stream",
          "text": [
            "Epoch:  43%|████▎     | 43/100 [31:47<30:20, 31.93s/it]"
          ]
        },
        {
          "name": "stdout",
          "output_type": "stream",
          "text": [
            "Epoch 43, Batch 0, Loss: 0.038033001124858856\n"
          ]
        },
        {
          "name": "stderr",
          "output_type": "stream",
          "text": []
        },
        {
          "name": "stdout",
          "output_type": "stream",
          "text": [
            "Epoch 43, Batch 10, Loss: 0.028685439378023148\n"
          ]
        },
        {
          "name": "stderr",
          "output_type": "stream",
          "text": []
        },
        {
          "name": "stdout",
          "output_type": "stream",
          "text": [
            "Epoch 43, Batch 20, Loss: 0.019590318202972412\n"
          ]
        },
        {
          "name": "stderr",
          "output_type": "stream",
          "text": []
        },
        {
          "name": "stdout",
          "output_type": "stream",
          "text": [
            "Epoch 43, Batch 30, Loss: 0.02113347128033638\n"
          ]
        },
        {
          "name": "stderr",
          "output_type": "stream",
          "text": []
        },
        {
          "name": "stdout",
          "output_type": "stream",
          "text": [
            "Epoch 43, Batch 40, Loss: 0.01802600547671318\n"
          ]
        },
        {
          "name": "stderr",
          "output_type": "stream",
          "text": []
        },
        {
          "name": "stdout",
          "output_type": "stream",
          "text": [
            "Epoch 43, Batch 50, Loss: 0.024220887571573257\n"
          ]
        },
        {
          "name": "stderr",
          "output_type": "stream",
          "text": []
        },
        {
          "name": "stdout",
          "output_type": "stream",
          "text": [
            "Epoch 43, Batch 60, Loss: 0.029537934809923172\n"
          ]
        },
        {
          "name": "stderr",
          "output_type": "stream",
          "text": []
        },
        {
          "name": "stdout",
          "output_type": "stream",
          "text": [
            "Epoch 43, Batch 70, Loss: 0.021669255569577217\n"
          ]
        },
        {
          "name": "stderr",
          "output_type": "stream",
          "text": []
        },
        {
          "name": "stdout",
          "output_type": "stream",
          "text": [
            "Epoch 43, Batch 80, Loss: 0.03303299844264984\n"
          ]
        },
        {
          "name": "stderr",
          "output_type": "stream",
          "text": []
        },
        {
          "name": "stdout",
          "output_type": "stream",
          "text": [
            "Epoch 43, Batch 90, Loss: 0.027660207822918892\n"
          ]
        },
        {
          "name": "stderr",
          "output_type": "stream",
          "text": [
            "Epoch:  44%|████▍     | 44/100 [32:20<30:00, 32.14s/it]"
          ]
        },
        {
          "name": "stdout",
          "output_type": "stream",
          "text": [
            "Epoch 44, Batch 0, Loss: 0.029248785227537155\n"
          ]
        },
        {
          "name": "stderr",
          "output_type": "stream",
          "text": []
        },
        {
          "name": "stdout",
          "output_type": "stream",
          "text": [
            "Epoch 44, Batch 10, Loss: 0.033349789679050446\n"
          ]
        },
        {
          "name": "stderr",
          "output_type": "stream",
          "text": []
        },
        {
          "name": "stdout",
          "output_type": "stream",
          "text": [
            "Epoch 44, Batch 20, Loss: 0.01895267516374588\n"
          ]
        },
        {
          "name": "stderr",
          "output_type": "stream",
          "text": []
        },
        {
          "name": "stdout",
          "output_type": "stream",
          "text": [
            "Epoch 44, Batch 30, Loss: 0.02824518084526062\n"
          ]
        },
        {
          "name": "stderr",
          "output_type": "stream",
          "text": []
        },
        {
          "name": "stdout",
          "output_type": "stream",
          "text": [
            "Epoch 44, Batch 40, Loss: 0.02365107648074627\n"
          ]
        },
        {
          "name": "stderr",
          "output_type": "stream",
          "text": []
        },
        {
          "name": "stdout",
          "output_type": "stream",
          "text": [
            "Epoch 44, Batch 50, Loss: 0.025712639093399048\n"
          ]
        },
        {
          "name": "stderr",
          "output_type": "stream",
          "text": []
        },
        {
          "name": "stdout",
          "output_type": "stream",
          "text": [
            "Epoch 44, Batch 60, Loss: 0.02557014860212803\n"
          ]
        },
        {
          "name": "stderr",
          "output_type": "stream",
          "text": []
        },
        {
          "name": "stdout",
          "output_type": "stream",
          "text": [
            "Epoch 44, Batch 70, Loss: 0.026530688628554344\n"
          ]
        },
        {
          "name": "stderr",
          "output_type": "stream",
          "text": []
        },
        {
          "name": "stdout",
          "output_type": "stream",
          "text": [
            "Epoch 44, Batch 80, Loss: 0.029383234679698944\n"
          ]
        },
        {
          "name": "stderr",
          "output_type": "stream",
          "text": []
        },
        {
          "name": "stdout",
          "output_type": "stream",
          "text": [
            "Epoch 44, Batch 90, Loss: 0.027155211195349693\n"
          ]
        },
        {
          "name": "stderr",
          "output_type": "stream",
          "text": [
            "Epoch:  45%|████▌     | 45/100 [32:53<29:38, 32.34s/it]"
          ]
        },
        {
          "name": "stdout",
          "output_type": "stream",
          "text": [
            "Epoch 45, Batch 0, Loss: 0.02241477370262146\n"
          ]
        },
        {
          "name": "stderr",
          "output_type": "stream",
          "text": []
        },
        {
          "name": "stdout",
          "output_type": "stream",
          "text": [
            "Epoch 45, Batch 10, Loss: 0.022546149790287018\n"
          ]
        },
        {
          "name": "stderr",
          "output_type": "stream",
          "text": []
        },
        {
          "name": "stdout",
          "output_type": "stream",
          "text": [
            "Epoch 45, Batch 20, Loss: 0.01563180610537529\n"
          ]
        },
        {
          "name": "stderr",
          "output_type": "stream",
          "text": []
        },
        {
          "name": "stdout",
          "output_type": "stream",
          "text": [
            "Epoch 45, Batch 30, Loss: 0.03130606934428215\n"
          ]
        },
        {
          "name": "stderr",
          "output_type": "stream",
          "text": []
        },
        {
          "name": "stdout",
          "output_type": "stream",
          "text": [
            "Epoch 45, Batch 40, Loss: 0.02462904527783394\n"
          ]
        },
        {
          "name": "stderr",
          "output_type": "stream",
          "text": []
        },
        {
          "name": "stdout",
          "output_type": "stream",
          "text": [
            "Epoch 45, Batch 50, Loss: 0.026071229949593544\n"
          ]
        },
        {
          "name": "stderr",
          "output_type": "stream",
          "text": []
        },
        {
          "name": "stdout",
          "output_type": "stream",
          "text": [
            "Epoch 45, Batch 60, Loss: 0.02098182588815689\n"
          ]
        },
        {
          "name": "stderr",
          "output_type": "stream",
          "text": []
        },
        {
          "name": "stdout",
          "output_type": "stream",
          "text": [
            "Epoch 45, Batch 70, Loss: 0.01949957199394703\n"
          ]
        },
        {
          "name": "stderr",
          "output_type": "stream",
          "text": []
        },
        {
          "name": "stdout",
          "output_type": "stream",
          "text": [
            "Epoch 45, Batch 80, Loss: 0.018587103113532066\n"
          ]
        },
        {
          "name": "stderr",
          "output_type": "stream",
          "text": []
        },
        {
          "name": "stdout",
          "output_type": "stream",
          "text": [
            "Epoch 45, Batch 90, Loss: 0.02350643463432789\n"
          ]
        },
        {
          "name": "stderr",
          "output_type": "stream",
          "text": [
            "Epoch:  46%|████▌     | 46/100 [33:24<28:53, 32.10s/it]"
          ]
        },
        {
          "name": "stdout",
          "output_type": "stream",
          "text": [
            "Epoch 46, Batch 0, Loss: 0.021525021642446518\n"
          ]
        },
        {
          "name": "stderr",
          "output_type": "stream",
          "text": []
        },
        {
          "name": "stdout",
          "output_type": "stream",
          "text": [
            "Epoch 46, Batch 10, Loss: 0.026002680882811546\n"
          ]
        },
        {
          "name": "stderr",
          "output_type": "stream",
          "text": []
        },
        {
          "name": "stdout",
          "output_type": "stream",
          "text": [
            "Epoch 46, Batch 20, Loss: 0.022758295759558678\n"
          ]
        },
        {
          "name": "stderr",
          "output_type": "stream",
          "text": []
        },
        {
          "name": "stdout",
          "output_type": "stream",
          "text": [
            "Epoch 46, Batch 30, Loss: 0.022074637934565544\n"
          ]
        },
        {
          "name": "stderr",
          "output_type": "stream",
          "text": []
        },
        {
          "name": "stdout",
          "output_type": "stream",
          "text": [
            "Epoch 46, Batch 40, Loss: 0.018888600170612335\n"
          ]
        },
        {
          "name": "stderr",
          "output_type": "stream",
          "text": []
        },
        {
          "name": "stdout",
          "output_type": "stream",
          "text": [
            "Epoch 46, Batch 50, Loss: 0.020092129707336426\n"
          ]
        },
        {
          "name": "stderr",
          "output_type": "stream",
          "text": []
        },
        {
          "name": "stdout",
          "output_type": "stream",
          "text": [
            "Epoch 46, Batch 60, Loss: 0.02491483837366104\n"
          ]
        },
        {
          "name": "stderr",
          "output_type": "stream",
          "text": []
        },
        {
          "name": "stdout",
          "output_type": "stream",
          "text": [
            "Epoch 46, Batch 70, Loss: 0.029244549572467804\n"
          ]
        },
        {
          "name": "stderr",
          "output_type": "stream",
          "text": []
        },
        {
          "name": "stdout",
          "output_type": "stream",
          "text": [
            "Epoch 46, Batch 80, Loss: 0.02344808541238308\n"
          ]
        },
        {
          "name": "stderr",
          "output_type": "stream",
          "text": []
        },
        {
          "name": "stdout",
          "output_type": "stream",
          "text": [
            "Epoch 46, Batch 90, Loss: 0.023427104577422142\n"
          ]
        },
        {
          "name": "stderr",
          "output_type": "stream",
          "text": [
            "Epoch:  47%|████▋     | 47/100 [33:56<28:12, 31.94s/it]"
          ]
        },
        {
          "name": "stdout",
          "output_type": "stream",
          "text": [
            "Epoch 47, Batch 0, Loss: 0.018167883157730103\n"
          ]
        },
        {
          "name": "stderr",
          "output_type": "stream",
          "text": []
        },
        {
          "name": "stdout",
          "output_type": "stream",
          "text": [
            "Epoch 47, Batch 10, Loss: 0.02322203665971756\n"
          ]
        },
        {
          "name": "stderr",
          "output_type": "stream",
          "text": []
        },
        {
          "name": "stdout",
          "output_type": "stream",
          "text": [
            "Epoch 47, Batch 20, Loss: 0.018244557082653046\n"
          ]
        },
        {
          "name": "stderr",
          "output_type": "stream",
          "text": []
        },
        {
          "name": "stdout",
          "output_type": "stream",
          "text": [
            "Epoch 47, Batch 30, Loss: 0.014666343107819557\n"
          ]
        },
        {
          "name": "stderr",
          "output_type": "stream",
          "text": []
        },
        {
          "name": "stdout",
          "output_type": "stream",
          "text": [
            "Epoch 47, Batch 40, Loss: 0.019624769687652588\n"
          ]
        },
        {
          "name": "stderr",
          "output_type": "stream",
          "text": []
        },
        {
          "name": "stdout",
          "output_type": "stream",
          "text": [
            "Epoch 47, Batch 50, Loss: 0.022095421329140663\n"
          ]
        },
        {
          "name": "stderr",
          "output_type": "stream",
          "text": []
        },
        {
          "name": "stdout",
          "output_type": "stream",
          "text": [
            "Epoch 47, Batch 60, Loss: 0.025483334437012672\n"
          ]
        },
        {
          "name": "stderr",
          "output_type": "stream",
          "text": []
        },
        {
          "name": "stdout",
          "output_type": "stream",
          "text": [
            "Epoch 47, Batch 70, Loss: 0.021784598007798195\n"
          ]
        },
        {
          "name": "stderr",
          "output_type": "stream",
          "text": []
        },
        {
          "name": "stdout",
          "output_type": "stream",
          "text": [
            "Epoch 47, Batch 80, Loss: 0.021299511194229126\n"
          ]
        },
        {
          "name": "stderr",
          "output_type": "stream",
          "text": []
        },
        {
          "name": "stdout",
          "output_type": "stream",
          "text": [
            "Epoch 47, Batch 90, Loss: 0.01664435863494873\n"
          ]
        },
        {
          "name": "stderr",
          "output_type": "stream",
          "text": [
            "Epoch:  48%|████▊     | 48/100 [34:27<27:34, 31.82s/it]"
          ]
        },
        {
          "name": "stdout",
          "output_type": "stream",
          "text": [
            "Epoch 48, Batch 0, Loss: 0.028778310865163803\n"
          ]
        },
        {
          "name": "stderr",
          "output_type": "stream",
          "text": []
        },
        {
          "name": "stdout",
          "output_type": "stream",
          "text": [
            "Epoch 48, Batch 10, Loss: 0.022588588297367096\n"
          ]
        },
        {
          "name": "stderr",
          "output_type": "stream",
          "text": []
        },
        {
          "name": "stdout",
          "output_type": "stream",
          "text": [
            "Epoch 48, Batch 20, Loss: 0.027500730007886887\n"
          ]
        },
        {
          "name": "stderr",
          "output_type": "stream",
          "text": []
        },
        {
          "name": "stdout",
          "output_type": "stream",
          "text": [
            "Epoch 48, Batch 30, Loss: 0.03091050311923027\n"
          ]
        },
        {
          "name": "stderr",
          "output_type": "stream",
          "text": []
        },
        {
          "name": "stdout",
          "output_type": "stream",
          "text": [
            "Epoch 48, Batch 40, Loss: 0.029134973883628845\n"
          ]
        },
        {
          "name": "stderr",
          "output_type": "stream",
          "text": []
        },
        {
          "name": "stdout",
          "output_type": "stream",
          "text": [
            "Epoch 48, Batch 50, Loss: 0.03739570453763008\n"
          ]
        },
        {
          "name": "stderr",
          "output_type": "stream",
          "text": []
        },
        {
          "name": "stdout",
          "output_type": "stream",
          "text": [
            "Epoch 48, Batch 60, Loss: 0.03052104078233242\n"
          ]
        },
        {
          "name": "stderr",
          "output_type": "stream",
          "text": []
        },
        {
          "name": "stdout",
          "output_type": "stream",
          "text": [
            "Epoch 48, Batch 70, Loss: 0.026409756392240524\n"
          ]
        },
        {
          "name": "stderr",
          "output_type": "stream",
          "text": []
        },
        {
          "name": "stdout",
          "output_type": "stream",
          "text": [
            "Epoch 48, Batch 80, Loss: 0.024474048987030983\n"
          ]
        },
        {
          "name": "stderr",
          "output_type": "stream",
          "text": []
        },
        {
          "name": "stdout",
          "output_type": "stream",
          "text": [
            "Epoch 48, Batch 90, Loss: 0.026990894228219986\n"
          ]
        },
        {
          "name": "stderr",
          "output_type": "stream",
          "text": [
            "Epoch:  49%|████▉     | 49/100 [34:59<26:59, 31.75s/it]"
          ]
        },
        {
          "name": "stdout",
          "output_type": "stream",
          "text": [
            "Epoch 49, Batch 0, Loss: 0.01976710371673107\n"
          ]
        },
        {
          "name": "stderr",
          "output_type": "stream",
          "text": []
        },
        {
          "name": "stdout",
          "output_type": "stream",
          "text": [
            "Epoch 49, Batch 10, Loss: 0.026107434183359146\n"
          ]
        },
        {
          "name": "stderr",
          "output_type": "stream",
          "text": []
        },
        {
          "name": "stdout",
          "output_type": "stream",
          "text": [
            "Epoch 49, Batch 20, Loss: 0.02228998951613903\n"
          ]
        },
        {
          "name": "stderr",
          "output_type": "stream",
          "text": []
        },
        {
          "name": "stdout",
          "output_type": "stream",
          "text": [
            "Epoch 49, Batch 30, Loss: 0.021487142890691757\n"
          ]
        },
        {
          "name": "stderr",
          "output_type": "stream",
          "text": []
        },
        {
          "name": "stdout",
          "output_type": "stream",
          "text": [
            "Epoch 49, Batch 40, Loss: 0.01668013259768486\n"
          ]
        },
        {
          "name": "stderr",
          "output_type": "stream",
          "text": []
        },
        {
          "name": "stdout",
          "output_type": "stream",
          "text": [
            "Epoch 49, Batch 50, Loss: 0.020579230040311813\n"
          ]
        },
        {
          "name": "stderr",
          "output_type": "stream",
          "text": []
        },
        {
          "name": "stdout",
          "output_type": "stream",
          "text": [
            "Epoch 49, Batch 60, Loss: 0.023626791313290596\n"
          ]
        },
        {
          "name": "stderr",
          "output_type": "stream",
          "text": []
        },
        {
          "name": "stdout",
          "output_type": "stream",
          "text": [
            "Epoch 49, Batch 70, Loss: 0.018685994669795036\n"
          ]
        },
        {
          "name": "stderr",
          "output_type": "stream",
          "text": []
        },
        {
          "name": "stdout",
          "output_type": "stream",
          "text": [
            "Epoch 49, Batch 80, Loss: 0.01893521472811699\n"
          ]
        },
        {
          "name": "stderr",
          "output_type": "stream",
          "text": []
        },
        {
          "name": "stdout",
          "output_type": "stream",
          "text": [
            "Epoch 49, Batch 90, Loss: 0.01853223703801632\n"
          ]
        },
        {
          "name": "stderr",
          "output_type": "stream",
          "text": [
            "Epoch:  50%|█████     | 50/100 [35:31<26:31, 31.83s/it]"
          ]
        },
        {
          "name": "stdout",
          "output_type": "stream",
          "text": [
            "Epoch 50, Batch 0, Loss: 0.021056536585092545\n"
          ]
        },
        {
          "name": "stderr",
          "output_type": "stream",
          "text": []
        },
        {
          "name": "stdout",
          "output_type": "stream",
          "text": [
            "Epoch 50, Batch 10, Loss: 0.018268801271915436\n"
          ]
        },
        {
          "name": "stderr",
          "output_type": "stream",
          "text": []
        },
        {
          "name": "stdout",
          "output_type": "stream",
          "text": [
            "Epoch 50, Batch 20, Loss: 0.019802050665020943\n"
          ]
        },
        {
          "name": "stderr",
          "output_type": "stream",
          "text": []
        },
        {
          "name": "stdout",
          "output_type": "stream",
          "text": [
            "Epoch 50, Batch 30, Loss: 0.021605124697089195\n"
          ]
        },
        {
          "name": "stderr",
          "output_type": "stream",
          "text": []
        },
        {
          "name": "stdout",
          "output_type": "stream",
          "text": [
            "Epoch 50, Batch 40, Loss: 0.02240731194615364\n"
          ]
        },
        {
          "name": "stderr",
          "output_type": "stream",
          "text": []
        },
        {
          "name": "stdout",
          "output_type": "stream",
          "text": [
            "Epoch 50, Batch 50, Loss: 0.015710610896348953\n"
          ]
        },
        {
          "name": "stderr",
          "output_type": "stream",
          "text": []
        },
        {
          "name": "stdout",
          "output_type": "stream",
          "text": [
            "Epoch 50, Batch 60, Loss: 0.024659916758537292\n"
          ]
        },
        {
          "name": "stderr",
          "output_type": "stream",
          "text": []
        },
        {
          "name": "stdout",
          "output_type": "stream",
          "text": [
            "Epoch 50, Batch 70, Loss: 0.02379925362765789\n"
          ]
        },
        {
          "name": "stderr",
          "output_type": "stream",
          "text": []
        },
        {
          "name": "stdout",
          "output_type": "stream",
          "text": [
            "Epoch 50, Batch 80, Loss: 0.028617922216653824\n"
          ]
        },
        {
          "name": "stderr",
          "output_type": "stream",
          "text": []
        },
        {
          "name": "stdout",
          "output_type": "stream",
          "text": [
            "Epoch 50, Batch 90, Loss: 0.019896110519766808\n"
          ]
        },
        {
          "name": "stderr",
          "output_type": "stream",
          "text": [
            "Epoch:  51%|█████     | 51/100 [36:03<26:07, 31.99s/it]"
          ]
        },
        {
          "name": "stdout",
          "output_type": "stream",
          "text": [
            "Epoch 51, Batch 0, Loss: 0.0225357748568058\n"
          ]
        },
        {
          "name": "stderr",
          "output_type": "stream",
          "text": []
        },
        {
          "name": "stdout",
          "output_type": "stream",
          "text": [
            "Epoch 51, Batch 10, Loss: 0.029353519901633263\n"
          ]
        },
        {
          "name": "stderr",
          "output_type": "stream",
          "text": []
        },
        {
          "name": "stdout",
          "output_type": "stream",
          "text": [
            "Epoch 51, Batch 20, Loss: 0.022754278033971786\n"
          ]
        },
        {
          "name": "stderr",
          "output_type": "stream",
          "text": []
        },
        {
          "name": "stdout",
          "output_type": "stream",
          "text": [
            "Epoch 51, Batch 30, Loss: 0.025709059089422226\n"
          ]
        },
        {
          "name": "stderr",
          "output_type": "stream",
          "text": []
        },
        {
          "name": "stdout",
          "output_type": "stream",
          "text": [
            "Epoch 51, Batch 40, Loss: 0.016530049964785576\n"
          ]
        },
        {
          "name": "stderr",
          "output_type": "stream",
          "text": []
        },
        {
          "name": "stdout",
          "output_type": "stream",
          "text": [
            "Epoch 51, Batch 50, Loss: 0.028302952647209167\n"
          ]
        },
        {
          "name": "stderr",
          "output_type": "stream",
          "text": []
        },
        {
          "name": "stdout",
          "output_type": "stream",
          "text": [
            "Epoch 51, Batch 60, Loss: 0.022249910980463028\n"
          ]
        },
        {
          "name": "stderr",
          "output_type": "stream",
          "text": []
        },
        {
          "name": "stdout",
          "output_type": "stream",
          "text": [
            "Epoch 51, Batch 70, Loss: 0.013305925764143467\n"
          ]
        },
        {
          "name": "stderr",
          "output_type": "stream",
          "text": []
        },
        {
          "name": "stdout",
          "output_type": "stream",
          "text": [
            "Epoch 51, Batch 80, Loss: 0.022901417687535286\n"
          ]
        },
        {
          "name": "stderr",
          "output_type": "stream",
          "text": []
        },
        {
          "name": "stdout",
          "output_type": "stream",
          "text": [
            "Epoch 51, Batch 90, Loss: 0.03127800300717354\n"
          ]
        },
        {
          "name": "stderr",
          "output_type": "stream",
          "text": [
            "Epoch:  52%|█████▏    | 52/100 [36:35<25:30, 31.88s/it]"
          ]
        },
        {
          "name": "stdout",
          "output_type": "stream",
          "text": [
            "Epoch 52, Batch 0, Loss: 0.024841489270329475\n"
          ]
        },
        {
          "name": "stderr",
          "output_type": "stream",
          "text": []
        },
        {
          "name": "stdout",
          "output_type": "stream",
          "text": [
            "Epoch 52, Batch 10, Loss: 0.017937645316123962\n"
          ]
        },
        {
          "name": "stderr",
          "output_type": "stream",
          "text": []
        },
        {
          "name": "stdout",
          "output_type": "stream",
          "text": [
            "Epoch 52, Batch 20, Loss: 0.013535819016397\n"
          ]
        },
        {
          "name": "stderr",
          "output_type": "stream",
          "text": []
        },
        {
          "name": "stdout",
          "output_type": "stream",
          "text": [
            "Epoch 52, Batch 30, Loss: 0.017724119126796722\n"
          ]
        },
        {
          "name": "stderr",
          "output_type": "stream",
          "text": []
        },
        {
          "name": "stdout",
          "output_type": "stream",
          "text": [
            "Epoch 52, Batch 40, Loss: 0.020305989310145378\n"
          ]
        },
        {
          "name": "stderr",
          "output_type": "stream",
          "text": []
        },
        {
          "name": "stdout",
          "output_type": "stream",
          "text": [
            "Epoch 52, Batch 50, Loss: 0.020958412438631058\n"
          ]
        },
        {
          "name": "stderr",
          "output_type": "stream",
          "text": []
        },
        {
          "name": "stdout",
          "output_type": "stream",
          "text": [
            "Epoch 52, Batch 60, Loss: 0.02118454873561859\n"
          ]
        },
        {
          "name": "stderr",
          "output_type": "stream",
          "text": []
        },
        {
          "name": "stdout",
          "output_type": "stream",
          "text": [
            "Epoch 52, Batch 70, Loss: 0.03249035030603409\n"
          ]
        },
        {
          "name": "stderr",
          "output_type": "stream",
          "text": []
        },
        {
          "name": "stdout",
          "output_type": "stream",
          "text": [
            "Epoch 52, Batch 80, Loss: 0.029297592118382454\n"
          ]
        },
        {
          "name": "stderr",
          "output_type": "stream",
          "text": []
        },
        {
          "name": "stdout",
          "output_type": "stream",
          "text": [
            "Epoch 52, Batch 90, Loss: 0.028009070083498955\n"
          ]
        },
        {
          "name": "stderr",
          "output_type": "stream",
          "text": [
            "Epoch:  53%|█████▎    | 53/100 [37:06<24:54, 31.79s/it]"
          ]
        },
        {
          "name": "stdout",
          "output_type": "stream",
          "text": [
            "Epoch 53, Batch 0, Loss: 0.025159098207950592\n"
          ]
        },
        {
          "name": "stderr",
          "output_type": "stream",
          "text": []
        },
        {
          "name": "stdout",
          "output_type": "stream",
          "text": [
            "Epoch 53, Batch 10, Loss: 0.027154186740517616\n"
          ]
        },
        {
          "name": "stderr",
          "output_type": "stream",
          "text": []
        },
        {
          "name": "stdout",
          "output_type": "stream",
          "text": [
            "Epoch 53, Batch 20, Loss: 0.021695706993341446\n"
          ]
        },
        {
          "name": "stderr",
          "output_type": "stream",
          "text": []
        },
        {
          "name": "stdout",
          "output_type": "stream",
          "text": [
            "Epoch 53, Batch 30, Loss: 0.02606530487537384\n"
          ]
        },
        {
          "name": "stderr",
          "output_type": "stream",
          "text": []
        },
        {
          "name": "stdout",
          "output_type": "stream",
          "text": [
            "Epoch 53, Batch 40, Loss: 0.016487648710608482\n"
          ]
        },
        {
          "name": "stderr",
          "output_type": "stream",
          "text": []
        },
        {
          "name": "stdout",
          "output_type": "stream",
          "text": [
            "Epoch 53, Batch 50, Loss: 0.014670302160084248\n"
          ]
        },
        {
          "name": "stderr",
          "output_type": "stream",
          "text": []
        },
        {
          "name": "stdout",
          "output_type": "stream",
          "text": [
            "Epoch 53, Batch 60, Loss: 0.015393472276628017\n"
          ]
        },
        {
          "name": "stderr",
          "output_type": "stream",
          "text": []
        },
        {
          "name": "stdout",
          "output_type": "stream",
          "text": [
            "Epoch 53, Batch 70, Loss: 0.014578363858163357\n"
          ]
        },
        {
          "name": "stderr",
          "output_type": "stream",
          "text": []
        },
        {
          "name": "stdout",
          "output_type": "stream",
          "text": [
            "Epoch 53, Batch 80, Loss: 0.02739613875746727\n"
          ]
        },
        {
          "name": "stderr",
          "output_type": "stream",
          "text": []
        },
        {
          "name": "stdout",
          "output_type": "stream",
          "text": [
            "Epoch 53, Batch 90, Loss: 0.019784031435847282\n"
          ]
        },
        {
          "name": "stderr",
          "output_type": "stream",
          "text": [
            "Epoch:  54%|█████▍    | 54/100 [37:38<24:19, 31.74s/it]"
          ]
        },
        {
          "name": "stdout",
          "output_type": "stream",
          "text": [
            "Epoch 54, Batch 0, Loss: 0.022858232259750366\n"
          ]
        },
        {
          "name": "stderr",
          "output_type": "stream",
          "text": []
        },
        {
          "name": "stdout",
          "output_type": "stream",
          "text": [
            "Epoch 54, Batch 10, Loss: 0.01675352267920971\n"
          ]
        },
        {
          "name": "stderr",
          "output_type": "stream",
          "text": []
        },
        {
          "name": "stdout",
          "output_type": "stream",
          "text": [
            "Epoch 54, Batch 20, Loss: 0.019953353330492973\n"
          ]
        },
        {
          "name": "stderr",
          "output_type": "stream",
          "text": []
        },
        {
          "name": "stdout",
          "output_type": "stream",
          "text": [
            "Epoch 54, Batch 30, Loss: 0.016885992139577866\n"
          ]
        },
        {
          "name": "stderr",
          "output_type": "stream",
          "text": []
        },
        {
          "name": "stdout",
          "output_type": "stream",
          "text": [
            "Epoch 54, Batch 40, Loss: 0.020214462652802467\n"
          ]
        },
        {
          "name": "stderr",
          "output_type": "stream",
          "text": []
        },
        {
          "name": "stdout",
          "output_type": "stream",
          "text": [
            "Epoch 54, Batch 50, Loss: 0.02273779921233654\n"
          ]
        },
        {
          "name": "stderr",
          "output_type": "stream",
          "text": []
        },
        {
          "name": "stdout",
          "output_type": "stream",
          "text": [
            "Epoch 54, Batch 60, Loss: 0.021713677793741226\n"
          ]
        },
        {
          "name": "stderr",
          "output_type": "stream",
          "text": []
        },
        {
          "name": "stdout",
          "output_type": "stream",
          "text": [
            "Epoch 54, Batch 70, Loss: 0.020005064085125923\n"
          ]
        },
        {
          "name": "stderr",
          "output_type": "stream",
          "text": []
        },
        {
          "name": "stdout",
          "output_type": "stream",
          "text": [
            "Epoch 54, Batch 80, Loss: 0.0196173544973135\n"
          ]
        },
        {
          "name": "stderr",
          "output_type": "stream",
          "text": []
        },
        {
          "name": "stdout",
          "output_type": "stream",
          "text": [
            "Epoch 54, Batch 90, Loss: 0.027519984170794487\n"
          ]
        },
        {
          "name": "stderr",
          "output_type": "stream",
          "text": [
            "Epoch:  55%|█████▌    | 55/100 [38:10<23:45, 31.68s/it]"
          ]
        },
        {
          "name": "stdout",
          "output_type": "stream",
          "text": [
            "Epoch 55, Batch 0, Loss: 0.02745344676077366\n"
          ]
        },
        {
          "name": "stderr",
          "output_type": "stream",
          "text": []
        },
        {
          "name": "stdout",
          "output_type": "stream",
          "text": [
            "Epoch 55, Batch 10, Loss: 0.023231489583849907\n"
          ]
        },
        {
          "name": "stderr",
          "output_type": "stream",
          "text": []
        },
        {
          "name": "stdout",
          "output_type": "stream",
          "text": [
            "Epoch 55, Batch 20, Loss: 0.02851390466094017\n"
          ]
        },
        {
          "name": "stderr",
          "output_type": "stream",
          "text": []
        },
        {
          "name": "stdout",
          "output_type": "stream",
          "text": [
            "Epoch 55, Batch 30, Loss: 0.016434723511338234\n"
          ]
        },
        {
          "name": "stderr",
          "output_type": "stream",
          "text": []
        },
        {
          "name": "stdout",
          "output_type": "stream",
          "text": [
            "Epoch 55, Batch 40, Loss: 0.02103094756603241\n"
          ]
        },
        {
          "name": "stderr",
          "output_type": "stream",
          "text": []
        },
        {
          "name": "stdout",
          "output_type": "stream",
          "text": [
            "Epoch 55, Batch 50, Loss: 0.017116624861955643\n"
          ]
        },
        {
          "name": "stderr",
          "output_type": "stream",
          "text": []
        },
        {
          "name": "stdout",
          "output_type": "stream",
          "text": [
            "Epoch 55, Batch 60, Loss: 0.01735779456794262\n"
          ]
        },
        {
          "name": "stderr",
          "output_type": "stream",
          "text": []
        },
        {
          "name": "stdout",
          "output_type": "stream",
          "text": [
            "Epoch 55, Batch 70, Loss: 0.02222573570907116\n"
          ]
        },
        {
          "name": "stderr",
          "output_type": "stream",
          "text": []
        },
        {
          "name": "stdout",
          "output_type": "stream",
          "text": [
            "Epoch 55, Batch 80, Loss: 0.017300913110375404\n"
          ]
        },
        {
          "name": "stderr",
          "output_type": "stream",
          "text": []
        },
        {
          "name": "stdout",
          "output_type": "stream",
          "text": [
            "Epoch 55, Batch 90, Loss: 0.016390429809689522\n"
          ]
        },
        {
          "name": "stderr",
          "output_type": "stream",
          "text": [
            "Epoch:  56%|█████▌    | 56/100 [38:41<23:12, 31.65s/it]"
          ]
        },
        {
          "name": "stdout",
          "output_type": "stream",
          "text": [
            "Epoch 56, Batch 0, Loss: 0.01885402947664261\n"
          ]
        },
        {
          "name": "stderr",
          "output_type": "stream",
          "text": []
        },
        {
          "name": "stdout",
          "output_type": "stream",
          "text": [
            "Epoch 56, Batch 10, Loss: 0.01866471953690052\n"
          ]
        },
        {
          "name": "stderr",
          "output_type": "stream",
          "text": []
        },
        {
          "name": "stdout",
          "output_type": "stream",
          "text": [
            "Epoch 56, Batch 20, Loss: 0.022152790799736977\n"
          ]
        },
        {
          "name": "stderr",
          "output_type": "stream",
          "text": []
        },
        {
          "name": "stdout",
          "output_type": "stream",
          "text": [
            "Epoch 56, Batch 30, Loss: 0.021157599985599518\n"
          ]
        },
        {
          "name": "stderr",
          "output_type": "stream",
          "text": []
        },
        {
          "name": "stdout",
          "output_type": "stream",
          "text": [
            "Epoch 56, Batch 40, Loss: 0.01646558754146099\n"
          ]
        },
        {
          "name": "stderr",
          "output_type": "stream",
          "text": []
        },
        {
          "name": "stdout",
          "output_type": "stream",
          "text": [
            "Epoch 56, Batch 50, Loss: 0.020998338237404823\n"
          ]
        },
        {
          "name": "stderr",
          "output_type": "stream",
          "text": []
        },
        {
          "name": "stdout",
          "output_type": "stream",
          "text": [
            "Epoch 56, Batch 60, Loss: 0.022638050839304924\n"
          ]
        },
        {
          "name": "stderr",
          "output_type": "stream",
          "text": []
        },
        {
          "name": "stdout",
          "output_type": "stream",
          "text": [
            "Epoch 56, Batch 70, Loss: 0.019917169585824013\n"
          ]
        },
        {
          "name": "stderr",
          "output_type": "stream",
          "text": []
        },
        {
          "name": "stdout",
          "output_type": "stream",
          "text": [
            "Epoch 56, Batch 80, Loss: 0.029534339904785156\n"
          ]
        },
        {
          "name": "stderr",
          "output_type": "stream",
          "text": []
        },
        {
          "name": "stdout",
          "output_type": "stream",
          "text": [
            "Epoch 56, Batch 90, Loss: 0.02550332248210907\n"
          ]
        },
        {
          "name": "stderr",
          "output_type": "stream",
          "text": [
            "Epoch:  57%|█████▋    | 57/100 [39:13<22:39, 31.61s/it]"
          ]
        },
        {
          "name": "stdout",
          "output_type": "stream",
          "text": [
            "Epoch 57, Batch 0, Loss: 0.02572874166071415\n"
          ]
        },
        {
          "name": "stderr",
          "output_type": "stream",
          "text": []
        },
        {
          "name": "stdout",
          "output_type": "stream",
          "text": [
            "Epoch 57, Batch 10, Loss: 0.021358672529459\n"
          ]
        },
        {
          "name": "stderr",
          "output_type": "stream",
          "text": []
        },
        {
          "name": "stdout",
          "output_type": "stream",
          "text": [
            "Epoch 57, Batch 20, Loss: 0.02291577309370041\n"
          ]
        },
        {
          "name": "stderr",
          "output_type": "stream",
          "text": []
        },
        {
          "name": "stdout",
          "output_type": "stream",
          "text": [
            "Epoch 57, Batch 30, Loss: 0.020988985896110535\n"
          ]
        },
        {
          "name": "stderr",
          "output_type": "stream",
          "text": []
        },
        {
          "name": "stdout",
          "output_type": "stream",
          "text": [
            "Epoch 57, Batch 40, Loss: 0.02262684516608715\n"
          ]
        },
        {
          "name": "stderr",
          "output_type": "stream",
          "text": []
        },
        {
          "name": "stdout",
          "output_type": "stream",
          "text": [
            "Epoch 57, Batch 50, Loss: 0.02469712868332863\n"
          ]
        },
        {
          "name": "stderr",
          "output_type": "stream",
          "text": []
        },
        {
          "name": "stdout",
          "output_type": "stream",
          "text": [
            "Epoch 57, Batch 60, Loss: 0.023035505786538124\n"
          ]
        },
        {
          "name": "stderr",
          "output_type": "stream",
          "text": []
        },
        {
          "name": "stdout",
          "output_type": "stream",
          "text": [
            "Epoch 57, Batch 70, Loss: 0.018668081611394882\n"
          ]
        },
        {
          "name": "stderr",
          "output_type": "stream",
          "text": []
        },
        {
          "name": "stdout",
          "output_type": "stream",
          "text": [
            "Epoch 57, Batch 80, Loss: 0.021707821637392044\n"
          ]
        },
        {
          "name": "stderr",
          "output_type": "stream",
          "text": []
        },
        {
          "name": "stdout",
          "output_type": "stream",
          "text": [
            "Epoch 57, Batch 90, Loss: 0.022633671760559082\n"
          ]
        },
        {
          "name": "stderr",
          "output_type": "stream",
          "text": [
            "Epoch:  58%|█████▊    | 58/100 [39:44<22:07, 31.60s/it]"
          ]
        },
        {
          "name": "stdout",
          "output_type": "stream",
          "text": [
            "Epoch 58, Batch 0, Loss: 0.021412717178463936\n"
          ]
        },
        {
          "name": "stderr",
          "output_type": "stream",
          "text": []
        },
        {
          "name": "stdout",
          "output_type": "stream",
          "text": [
            "Epoch 58, Batch 10, Loss: 0.01604374684393406\n"
          ]
        },
        {
          "name": "stderr",
          "output_type": "stream",
          "text": []
        },
        {
          "name": "stdout",
          "output_type": "stream",
          "text": [
            "Epoch 58, Batch 20, Loss: 0.017276853322982788\n"
          ]
        },
        {
          "name": "stderr",
          "output_type": "stream",
          "text": []
        },
        {
          "name": "stdout",
          "output_type": "stream",
          "text": [
            "Epoch 58, Batch 30, Loss: 0.023860570043325424\n"
          ]
        },
        {
          "name": "stderr",
          "output_type": "stream",
          "text": []
        },
        {
          "name": "stdout",
          "output_type": "stream",
          "text": [
            "Epoch 58, Batch 40, Loss: 0.017272919416427612\n"
          ]
        },
        {
          "name": "stderr",
          "output_type": "stream",
          "text": []
        },
        {
          "name": "stdout",
          "output_type": "stream",
          "text": [
            "Epoch 58, Batch 50, Loss: 0.02111137844622135\n"
          ]
        },
        {
          "name": "stderr",
          "output_type": "stream",
          "text": []
        },
        {
          "name": "stdout",
          "output_type": "stream",
          "text": [
            "Epoch 58, Batch 60, Loss: 0.0199496541172266\n"
          ]
        },
        {
          "name": "stderr",
          "output_type": "stream",
          "text": []
        },
        {
          "name": "stdout",
          "output_type": "stream",
          "text": [
            "Epoch 58, Batch 70, Loss: 0.028036532923579216\n"
          ]
        },
        {
          "name": "stderr",
          "output_type": "stream",
          "text": []
        },
        {
          "name": "stdout",
          "output_type": "stream",
          "text": [
            "Epoch 58, Batch 80, Loss: 0.02653992548584938\n"
          ]
        },
        {
          "name": "stderr",
          "output_type": "stream",
          "text": []
        },
        {
          "name": "stdout",
          "output_type": "stream",
          "text": [
            "Epoch 58, Batch 90, Loss: 0.02967575564980507\n"
          ]
        },
        {
          "name": "stderr",
          "output_type": "stream",
          "text": [
            "Epoch:  59%|█████▉    | 59/100 [40:16<21:35, 31.59s/it]"
          ]
        },
        {
          "name": "stdout",
          "output_type": "stream",
          "text": [
            "Epoch 59, Batch 0, Loss: 0.029074041172862053\n"
          ]
        },
        {
          "name": "stderr",
          "output_type": "stream",
          "text": []
        },
        {
          "name": "stdout",
          "output_type": "stream",
          "text": [
            "Epoch 59, Batch 10, Loss: 0.019694337621331215\n"
          ]
        },
        {
          "name": "stderr",
          "output_type": "stream",
          "text": []
        },
        {
          "name": "stdout",
          "output_type": "stream",
          "text": [
            "Epoch 59, Batch 20, Loss: 0.023725096136331558\n"
          ]
        },
        {
          "name": "stderr",
          "output_type": "stream",
          "text": []
        },
        {
          "name": "stdout",
          "output_type": "stream",
          "text": [
            "Epoch 59, Batch 30, Loss: 0.032805703580379486\n"
          ]
        },
        {
          "name": "stderr",
          "output_type": "stream",
          "text": []
        },
        {
          "name": "stdout",
          "output_type": "stream",
          "text": [
            "Epoch 59, Batch 40, Loss: 0.025719985365867615\n"
          ]
        },
        {
          "name": "stderr",
          "output_type": "stream",
          "text": []
        },
        {
          "name": "stdout",
          "output_type": "stream",
          "text": [
            "Epoch 59, Batch 50, Loss: 0.0215693861246109\n"
          ]
        },
        {
          "name": "stderr",
          "output_type": "stream",
          "text": []
        },
        {
          "name": "stdout",
          "output_type": "stream",
          "text": [
            "Epoch 59, Batch 60, Loss: 0.023275816813111305\n"
          ]
        },
        {
          "name": "stderr",
          "output_type": "stream",
          "text": []
        },
        {
          "name": "stdout",
          "output_type": "stream",
          "text": [
            "Epoch 59, Batch 70, Loss: 0.01571378856897354\n"
          ]
        },
        {
          "name": "stderr",
          "output_type": "stream",
          "text": []
        },
        {
          "name": "stdout",
          "output_type": "stream",
          "text": [
            "Epoch 59, Batch 80, Loss: 0.024044422432780266\n"
          ]
        },
        {
          "name": "stderr",
          "output_type": "stream",
          "text": []
        },
        {
          "name": "stdout",
          "output_type": "stream",
          "text": [
            "Epoch 59, Batch 90, Loss: 0.019068032503128052\n"
          ]
        },
        {
          "name": "stderr",
          "output_type": "stream",
          "text": [
            "Epoch:  60%|██████    | 60/100 [40:48<21:04, 31.61s/it]"
          ]
        },
        {
          "name": "stdout",
          "output_type": "stream",
          "text": [
            "Epoch 60, Batch 0, Loss: 0.018417851999402046\n"
          ]
        },
        {
          "name": "stderr",
          "output_type": "stream",
          "text": []
        },
        {
          "name": "stdout",
          "output_type": "stream",
          "text": [
            "Epoch 60, Batch 10, Loss: 0.015357470139861107\n"
          ]
        },
        {
          "name": "stderr",
          "output_type": "stream",
          "text": []
        },
        {
          "name": "stdout",
          "output_type": "stream",
          "text": [
            "Epoch 60, Batch 20, Loss: 0.018230542540550232\n"
          ]
        },
        {
          "name": "stderr",
          "output_type": "stream",
          "text": []
        },
        {
          "name": "stdout",
          "output_type": "stream",
          "text": [
            "Epoch 60, Batch 30, Loss: 0.017242776229977608\n"
          ]
        },
        {
          "name": "stderr",
          "output_type": "stream",
          "text": []
        },
        {
          "name": "stdout",
          "output_type": "stream",
          "text": [
            "Epoch 60, Batch 40, Loss: 0.019394218921661377\n"
          ]
        },
        {
          "name": "stderr",
          "output_type": "stream",
          "text": []
        },
        {
          "name": "stdout",
          "output_type": "stream",
          "text": [
            "Epoch 60, Batch 50, Loss: 0.02049923874437809\n"
          ]
        },
        {
          "name": "stderr",
          "output_type": "stream",
          "text": []
        },
        {
          "name": "stdout",
          "output_type": "stream",
          "text": [
            "Epoch 60, Batch 60, Loss: 0.020856164395809174\n"
          ]
        },
        {
          "name": "stderr",
          "output_type": "stream",
          "text": []
        },
        {
          "name": "stdout",
          "output_type": "stream",
          "text": [
            "Epoch 60, Batch 70, Loss: 0.02225934900343418\n"
          ]
        },
        {
          "name": "stderr",
          "output_type": "stream",
          "text": []
        },
        {
          "name": "stdout",
          "output_type": "stream",
          "text": [
            "Epoch 60, Batch 80, Loss: 0.024252068251371384\n"
          ]
        },
        {
          "name": "stderr",
          "output_type": "stream",
          "text": []
        },
        {
          "name": "stdout",
          "output_type": "stream",
          "text": [
            "Epoch 60, Batch 90, Loss: 0.021394815295934677\n"
          ]
        },
        {
          "name": "stderr",
          "output_type": "stream",
          "text": [
            "Epoch:  61%|██████    | 61/100 [41:20<20:44, 31.90s/it]"
          ]
        },
        {
          "name": "stdout",
          "output_type": "stream",
          "text": [
            "Epoch 61, Batch 0, Loss: 0.026319893077015877\n"
          ]
        },
        {
          "name": "stderr",
          "output_type": "stream",
          "text": []
        },
        {
          "name": "stdout",
          "output_type": "stream",
          "text": [
            "Epoch 61, Batch 10, Loss: 0.024920552968978882\n"
          ]
        },
        {
          "name": "stderr",
          "output_type": "stream",
          "text": []
        },
        {
          "name": "stdout",
          "output_type": "stream",
          "text": [
            "Epoch 61, Batch 20, Loss: 0.022020716220140457\n"
          ]
        },
        {
          "name": "stderr",
          "output_type": "stream",
          "text": []
        },
        {
          "name": "stdout",
          "output_type": "stream",
          "text": [
            "Epoch 61, Batch 30, Loss: 0.018604321405291557\n"
          ]
        },
        {
          "name": "stderr",
          "output_type": "stream",
          "text": []
        },
        {
          "name": "stdout",
          "output_type": "stream",
          "text": [
            "Epoch 61, Batch 40, Loss: 0.028659716248512268\n"
          ]
        },
        {
          "name": "stderr",
          "output_type": "stream",
          "text": []
        },
        {
          "name": "stdout",
          "output_type": "stream",
          "text": [
            "Epoch 61, Batch 50, Loss: 0.025468425825238228\n"
          ]
        },
        {
          "name": "stderr",
          "output_type": "stream",
          "text": []
        },
        {
          "name": "stdout",
          "output_type": "stream",
          "text": [
            "Epoch 61, Batch 60, Loss: 0.022332316264510155\n"
          ]
        },
        {
          "name": "stderr",
          "output_type": "stream",
          "text": []
        },
        {
          "name": "stdout",
          "output_type": "stream",
          "text": [
            "Epoch 61, Batch 70, Loss: 0.02821270562708378\n"
          ]
        },
        {
          "name": "stderr",
          "output_type": "stream",
          "text": []
        },
        {
          "name": "stdout",
          "output_type": "stream",
          "text": [
            "Epoch 61, Batch 80, Loss: 0.01958215981721878\n"
          ]
        },
        {
          "name": "stderr",
          "output_type": "stream",
          "text": []
        },
        {
          "name": "stdout",
          "output_type": "stream",
          "text": [
            "Epoch 61, Batch 90, Loss: 0.023303795605897903\n"
          ]
        },
        {
          "name": "stderr",
          "output_type": "stream",
          "text": [
            "Epoch:  62%|██████▏   | 62/100 [41:52<20:08, 31.80s/it]"
          ]
        },
        {
          "name": "stdout",
          "output_type": "stream",
          "text": [
            "Epoch 62, Batch 0, Loss: 0.017724458128213882\n"
          ]
        },
        {
          "name": "stderr",
          "output_type": "stream",
          "text": []
        },
        {
          "name": "stdout",
          "output_type": "stream",
          "text": [
            "Epoch 62, Batch 10, Loss: 0.016322098672389984\n"
          ]
        },
        {
          "name": "stderr",
          "output_type": "stream",
          "text": []
        },
        {
          "name": "stdout",
          "output_type": "stream",
          "text": [
            "Epoch 62, Batch 20, Loss: 0.029639575630426407\n"
          ]
        },
        {
          "name": "stderr",
          "output_type": "stream",
          "text": []
        },
        {
          "name": "stdout",
          "output_type": "stream",
          "text": [
            "Epoch 62, Batch 30, Loss: 0.02017042599618435\n"
          ]
        },
        {
          "name": "stderr",
          "output_type": "stream",
          "text": []
        },
        {
          "name": "stdout",
          "output_type": "stream",
          "text": [
            "Epoch 62, Batch 40, Loss: 0.017133910208940506\n"
          ]
        },
        {
          "name": "stderr",
          "output_type": "stream",
          "text": []
        },
        {
          "name": "stdout",
          "output_type": "stream",
          "text": [
            "Epoch 62, Batch 50, Loss: 0.018471838906407356\n"
          ]
        },
        {
          "name": "stderr",
          "output_type": "stream",
          "text": []
        },
        {
          "name": "stdout",
          "output_type": "stream",
          "text": [
            "Epoch 62, Batch 60, Loss: 0.018962090834975243\n"
          ]
        },
        {
          "name": "stderr",
          "output_type": "stream",
          "text": []
        },
        {
          "name": "stdout",
          "output_type": "stream",
          "text": [
            "Epoch 62, Batch 70, Loss: 0.02182014100253582\n"
          ]
        },
        {
          "name": "stderr",
          "output_type": "stream",
          "text": []
        },
        {
          "name": "stdout",
          "output_type": "stream",
          "text": [
            "Epoch 62, Batch 80, Loss: 0.022140594199299812\n"
          ]
        },
        {
          "name": "stderr",
          "output_type": "stream",
          "text": []
        },
        {
          "name": "stdout",
          "output_type": "stream",
          "text": [
            "Epoch 62, Batch 90, Loss: 0.024463282898068428\n"
          ]
        },
        {
          "name": "stderr",
          "output_type": "stream",
          "text": [
            "Epoch:  63%|██████▎   | 63/100 [42:23<19:35, 31.76s/it]"
          ]
        },
        {
          "name": "stdout",
          "output_type": "stream",
          "text": [
            "Epoch 63, Batch 0, Loss: 0.02015802264213562\n"
          ]
        },
        {
          "name": "stderr",
          "output_type": "stream",
          "text": []
        },
        {
          "name": "stdout",
          "output_type": "stream",
          "text": [
            "Epoch 63, Batch 10, Loss: 0.02465180866420269\n"
          ]
        },
        {
          "name": "stderr",
          "output_type": "stream",
          "text": []
        },
        {
          "name": "stdout",
          "output_type": "stream",
          "text": [
            "Epoch 63, Batch 20, Loss: 0.023178428411483765\n"
          ]
        },
        {
          "name": "stderr",
          "output_type": "stream",
          "text": []
        },
        {
          "name": "stdout",
          "output_type": "stream",
          "text": [
            "Epoch 63, Batch 30, Loss: 0.025969702750444412\n"
          ]
        },
        {
          "name": "stderr",
          "output_type": "stream",
          "text": []
        },
        {
          "name": "stdout",
          "output_type": "stream",
          "text": [
            "Epoch 63, Batch 40, Loss: 0.026584960520267487\n"
          ]
        },
        {
          "name": "stderr",
          "output_type": "stream",
          "text": []
        },
        {
          "name": "stdout",
          "output_type": "stream",
          "text": [
            "Epoch 63, Batch 50, Loss: 0.021509602665901184\n"
          ]
        },
        {
          "name": "stderr",
          "output_type": "stream",
          "text": []
        },
        {
          "name": "stdout",
          "output_type": "stream",
          "text": [
            "Epoch 63, Batch 60, Loss: 0.018926352262496948\n"
          ]
        },
        {
          "name": "stderr",
          "output_type": "stream",
          "text": []
        },
        {
          "name": "stdout",
          "output_type": "stream",
          "text": [
            "Epoch 63, Batch 70, Loss: 0.028389822691679\n"
          ]
        },
        {
          "name": "stderr",
          "output_type": "stream",
          "text": []
        },
        {
          "name": "stdout",
          "output_type": "stream",
          "text": [
            "Epoch 63, Batch 80, Loss: 0.021333787590265274\n"
          ]
        },
        {
          "name": "stderr",
          "output_type": "stream",
          "text": []
        },
        {
          "name": "stdout",
          "output_type": "stream",
          "text": [
            "Epoch 63, Batch 90, Loss: 0.03204982727766037\n"
          ]
        },
        {
          "name": "stderr",
          "output_type": "stream",
          "text": [
            "Epoch:  64%|██████▍   | 64/100 [42:55<19:01, 31.71s/it]"
          ]
        },
        {
          "name": "stdout",
          "output_type": "stream",
          "text": [
            "Epoch 64, Batch 0, Loss: 0.012262246571481228\n"
          ]
        },
        {
          "name": "stderr",
          "output_type": "stream",
          "text": []
        },
        {
          "name": "stdout",
          "output_type": "stream",
          "text": [
            "Epoch 64, Batch 10, Loss: 0.01960628293454647\n"
          ]
        },
        {
          "name": "stderr",
          "output_type": "stream",
          "text": []
        },
        {
          "name": "stdout",
          "output_type": "stream",
          "text": [
            "Epoch 64, Batch 20, Loss: 0.01624423637986183\n"
          ]
        },
        {
          "name": "stderr",
          "output_type": "stream",
          "text": []
        },
        {
          "name": "stdout",
          "output_type": "stream",
          "text": [
            "Epoch 64, Batch 30, Loss: 0.019762730225920677\n"
          ]
        },
        {
          "name": "stderr",
          "output_type": "stream",
          "text": []
        },
        {
          "name": "stdout",
          "output_type": "stream",
          "text": [
            "Epoch 64, Batch 40, Loss: 0.02009209804236889\n"
          ]
        },
        {
          "name": "stderr",
          "output_type": "stream",
          "text": []
        },
        {
          "name": "stdout",
          "output_type": "stream",
          "text": [
            "Epoch 64, Batch 50, Loss: 0.0171248447149992\n"
          ]
        },
        {
          "name": "stderr",
          "output_type": "stream",
          "text": []
        },
        {
          "name": "stdout",
          "output_type": "stream",
          "text": [
            "Epoch 64, Batch 60, Loss: 0.024406328797340393\n"
          ]
        },
        {
          "name": "stderr",
          "output_type": "stream",
          "text": []
        },
        {
          "name": "stdout",
          "output_type": "stream",
          "text": [
            "Epoch 64, Batch 70, Loss: 0.025829080492258072\n"
          ]
        },
        {
          "name": "stderr",
          "output_type": "stream",
          "text": []
        },
        {
          "name": "stdout",
          "output_type": "stream",
          "text": [
            "Epoch 64, Batch 80, Loss: 0.026752231642603874\n"
          ]
        },
        {
          "name": "stderr",
          "output_type": "stream",
          "text": []
        },
        {
          "name": "stdout",
          "output_type": "stream",
          "text": [
            "Epoch 64, Batch 90, Loss: 0.022799061611294746\n"
          ]
        },
        {
          "name": "stderr",
          "output_type": "stream",
          "text": [
            "Epoch:  65%|██████▌   | 65/100 [43:27<18:29, 31.71s/it]"
          ]
        },
        {
          "name": "stdout",
          "output_type": "stream",
          "text": [
            "Epoch 65, Batch 0, Loss: 0.019260281696915627\n"
          ]
        },
        {
          "name": "stderr",
          "output_type": "stream",
          "text": []
        },
        {
          "name": "stdout",
          "output_type": "stream",
          "text": [
            "Epoch 65, Batch 10, Loss: 0.02023685723543167\n"
          ]
        },
        {
          "name": "stderr",
          "output_type": "stream",
          "text": []
        },
        {
          "name": "stdout",
          "output_type": "stream",
          "text": [
            "Epoch 65, Batch 20, Loss: 0.023122908547520638\n"
          ]
        },
        {
          "name": "stderr",
          "output_type": "stream",
          "text": []
        },
        {
          "name": "stdout",
          "output_type": "stream",
          "text": [
            "Epoch 65, Batch 30, Loss: 0.03439376503229141\n"
          ]
        },
        {
          "name": "stderr",
          "output_type": "stream",
          "text": []
        },
        {
          "name": "stdout",
          "output_type": "stream",
          "text": [
            "Epoch 65, Batch 40, Loss: 0.02591182477772236\n"
          ]
        },
        {
          "name": "stderr",
          "output_type": "stream",
          "text": []
        },
        {
          "name": "stdout",
          "output_type": "stream",
          "text": [
            "Epoch 65, Batch 50, Loss: 0.02385399304330349\n"
          ]
        },
        {
          "name": "stderr",
          "output_type": "stream",
          "text": []
        },
        {
          "name": "stdout",
          "output_type": "stream",
          "text": [
            "Epoch 65, Batch 60, Loss: 0.019335946068167686\n"
          ]
        },
        {
          "name": "stderr",
          "output_type": "stream",
          "text": []
        },
        {
          "name": "stdout",
          "output_type": "stream",
          "text": [
            "Epoch 65, Batch 70, Loss: 0.017865663394331932\n"
          ]
        },
        {
          "name": "stderr",
          "output_type": "stream",
          "text": []
        },
        {
          "name": "stdout",
          "output_type": "stream",
          "text": [
            "Epoch 65, Batch 80, Loss: 0.024726413190364838\n"
          ]
        },
        {
          "name": "stderr",
          "output_type": "stream",
          "text": []
        },
        {
          "name": "stdout",
          "output_type": "stream",
          "text": [
            "Epoch 65, Batch 90, Loss: 0.026337850838899612\n"
          ]
        },
        {
          "name": "stderr",
          "output_type": "stream",
          "text": [
            "Epoch:  66%|██████▌   | 66/100 [43:59<18:00, 31.77s/it]"
          ]
        },
        {
          "name": "stdout",
          "output_type": "stream",
          "text": [
            "Epoch 66, Batch 0, Loss: 0.022421790286898613\n"
          ]
        },
        {
          "name": "stderr",
          "output_type": "stream",
          "text": []
        },
        {
          "name": "stdout",
          "output_type": "stream",
          "text": [
            "Epoch 66, Batch 10, Loss: 0.017304450273513794\n"
          ]
        },
        {
          "name": "stderr",
          "output_type": "stream",
          "text": []
        },
        {
          "name": "stdout",
          "output_type": "stream",
          "text": [
            "Epoch 66, Batch 20, Loss: 0.01714247465133667\n"
          ]
        },
        {
          "name": "stderr",
          "output_type": "stream",
          "text": []
        },
        {
          "name": "stdout",
          "output_type": "stream",
          "text": [
            "Epoch 66, Batch 30, Loss: 0.01987343467772007\n"
          ]
        },
        {
          "name": "stderr",
          "output_type": "stream",
          "text": []
        },
        {
          "name": "stdout",
          "output_type": "stream",
          "text": [
            "Epoch 66, Batch 40, Loss: 0.016817500814795494\n"
          ]
        },
        {
          "name": "stderr",
          "output_type": "stream",
          "text": []
        },
        {
          "name": "stdout",
          "output_type": "stream",
          "text": [
            "Epoch 66, Batch 50, Loss: 0.016158875077962875\n"
          ]
        },
        {
          "name": "stderr",
          "output_type": "stream",
          "text": []
        },
        {
          "name": "stdout",
          "output_type": "stream",
          "text": [
            "Epoch 66, Batch 60, Loss: 0.021046698093414307\n"
          ]
        },
        {
          "name": "stderr",
          "output_type": "stream",
          "text": []
        },
        {
          "name": "stdout",
          "output_type": "stream",
          "text": [
            "Epoch 66, Batch 70, Loss: 0.02533118985593319\n"
          ]
        },
        {
          "name": "stderr",
          "output_type": "stream",
          "text": []
        },
        {
          "name": "stdout",
          "output_type": "stream",
          "text": [
            "Epoch 66, Batch 80, Loss: 0.02239816263318062\n"
          ]
        },
        {
          "name": "stderr",
          "output_type": "stream",
          "text": []
        },
        {
          "name": "stdout",
          "output_type": "stream",
          "text": [
            "Epoch 66, Batch 90, Loss: 0.018841661512851715\n"
          ]
        },
        {
          "name": "stderr",
          "output_type": "stream",
          "text": [
            "Epoch:  67%|██████▋   | 67/100 [44:31<17:31, 31.85s/it]"
          ]
        },
        {
          "name": "stdout",
          "output_type": "stream",
          "text": [
            "Epoch 67, Batch 0, Loss: 0.022073350846767426\n"
          ]
        },
        {
          "name": "stderr",
          "output_type": "stream",
          "text": []
        },
        {
          "name": "stdout",
          "output_type": "stream",
          "text": [
            "Epoch 67, Batch 10, Loss: 0.01995684951543808\n"
          ]
        },
        {
          "name": "stderr",
          "output_type": "stream",
          "text": []
        },
        {
          "name": "stdout",
          "output_type": "stream",
          "text": [
            "Epoch 67, Batch 20, Loss: 0.024471594020724297\n"
          ]
        },
        {
          "name": "stderr",
          "output_type": "stream",
          "text": []
        },
        {
          "name": "stdout",
          "output_type": "stream",
          "text": [
            "Epoch 67, Batch 30, Loss: 0.032783377915620804\n"
          ]
        },
        {
          "name": "stderr",
          "output_type": "stream",
          "text": []
        },
        {
          "name": "stdout",
          "output_type": "stream",
          "text": [
            "Epoch 67, Batch 40, Loss: 0.019954565912485123\n"
          ]
        },
        {
          "name": "stderr",
          "output_type": "stream",
          "text": []
        },
        {
          "name": "stdout",
          "output_type": "stream",
          "text": [
            "Epoch 67, Batch 50, Loss: 0.023910505697131157\n"
          ]
        },
        {
          "name": "stderr",
          "output_type": "stream",
          "text": []
        },
        {
          "name": "stdout",
          "output_type": "stream",
          "text": [
            "Epoch 67, Batch 60, Loss: 0.0205612163990736\n"
          ]
        },
        {
          "name": "stderr",
          "output_type": "stream",
          "text": []
        },
        {
          "name": "stdout",
          "output_type": "stream",
          "text": [
            "Epoch 67, Batch 70, Loss: 0.016041530296206474\n"
          ]
        },
        {
          "name": "stderr",
          "output_type": "stream",
          "text": []
        },
        {
          "name": "stdout",
          "output_type": "stream",
          "text": [
            "Epoch 67, Batch 80, Loss: 0.024666668847203255\n"
          ]
        },
        {
          "name": "stderr",
          "output_type": "stream",
          "text": []
        },
        {
          "name": "stdout",
          "output_type": "stream",
          "text": [
            "Epoch 67, Batch 90, Loss: 0.02071608230471611\n"
          ]
        },
        {
          "name": "stderr",
          "output_type": "stream",
          "text": [
            "Epoch:  68%|██████▊   | 68/100 [45:03<17:01, 31.91s/it]"
          ]
        },
        {
          "name": "stdout",
          "output_type": "stream",
          "text": [
            "Epoch 68, Batch 0, Loss: 0.024413924664258957\n"
          ]
        },
        {
          "name": "stderr",
          "output_type": "stream",
          "text": []
        },
        {
          "name": "stdout",
          "output_type": "stream",
          "text": [
            "Epoch 68, Batch 10, Loss: 0.01965872384607792\n"
          ]
        },
        {
          "name": "stderr",
          "output_type": "stream",
          "text": []
        },
        {
          "name": "stdout",
          "output_type": "stream",
          "text": [
            "Epoch 68, Batch 20, Loss: 0.018760303035378456\n"
          ]
        },
        {
          "name": "stderr",
          "output_type": "stream",
          "text": []
        },
        {
          "name": "stdout",
          "output_type": "stream",
          "text": [
            "Epoch 68, Batch 30, Loss: 0.019840266555547714\n"
          ]
        },
        {
          "name": "stderr",
          "output_type": "stream",
          "text": []
        },
        {
          "name": "stdout",
          "output_type": "stream",
          "text": [
            "Epoch 68, Batch 40, Loss: 0.023874277248978615\n"
          ]
        },
        {
          "name": "stderr",
          "output_type": "stream",
          "text": []
        },
        {
          "name": "stdout",
          "output_type": "stream",
          "text": [
            "Epoch 68, Batch 50, Loss: 0.01594240963459015\n"
          ]
        },
        {
          "name": "stderr",
          "output_type": "stream",
          "text": []
        },
        {
          "name": "stdout",
          "output_type": "stream",
          "text": [
            "Epoch 68, Batch 60, Loss: 0.022791368886828423\n"
          ]
        },
        {
          "name": "stderr",
          "output_type": "stream",
          "text": []
        },
        {
          "name": "stdout",
          "output_type": "stream",
          "text": [
            "Epoch 68, Batch 70, Loss: 0.013466528616845608\n"
          ]
        },
        {
          "name": "stderr",
          "output_type": "stream",
          "text": []
        },
        {
          "name": "stdout",
          "output_type": "stream",
          "text": [
            "Epoch 68, Batch 80, Loss: 0.02225419320166111\n"
          ]
        },
        {
          "name": "stderr",
          "output_type": "stream",
          "text": []
        },
        {
          "name": "stdout",
          "output_type": "stream",
          "text": [
            "Epoch 68, Batch 90, Loss: 0.01815839298069477\n"
          ]
        },
        {
          "name": "stderr",
          "output_type": "stream",
          "text": [
            "Epoch:  69%|██████▉   | 69/100 [45:34<16:27, 31.84s/it]"
          ]
        },
        {
          "name": "stdout",
          "output_type": "stream",
          "text": [
            "Epoch 69, Batch 0, Loss: 0.02413945458829403\n"
          ]
        },
        {
          "name": "stderr",
          "output_type": "stream",
          "text": []
        },
        {
          "name": "stdout",
          "output_type": "stream",
          "text": [
            "Epoch 69, Batch 10, Loss: 0.024744678288698196\n"
          ]
        },
        {
          "name": "stderr",
          "output_type": "stream",
          "text": []
        },
        {
          "name": "stdout",
          "output_type": "stream",
          "text": [
            "Epoch 69, Batch 20, Loss: 0.029313325881958008\n"
          ]
        },
        {
          "name": "stderr",
          "output_type": "stream",
          "text": []
        },
        {
          "name": "stdout",
          "output_type": "stream",
          "text": [
            "Epoch 69, Batch 30, Loss: 0.021583324298262596\n"
          ]
        },
        {
          "name": "stderr",
          "output_type": "stream",
          "text": []
        },
        {
          "name": "stdout",
          "output_type": "stream",
          "text": [
            "Epoch 69, Batch 40, Loss: 0.02047988772392273\n"
          ]
        },
        {
          "name": "stderr",
          "output_type": "stream",
          "text": []
        },
        {
          "name": "stdout",
          "output_type": "stream",
          "text": [
            "Epoch 69, Batch 50, Loss: 0.022782323881983757\n"
          ]
        },
        {
          "name": "stderr",
          "output_type": "stream",
          "text": []
        },
        {
          "name": "stdout",
          "output_type": "stream",
          "text": [
            "Epoch 69, Batch 60, Loss: 0.02350659854710102\n"
          ]
        },
        {
          "name": "stderr",
          "output_type": "stream",
          "text": []
        },
        {
          "name": "stdout",
          "output_type": "stream",
          "text": [
            "Epoch 69, Batch 70, Loss: 0.026236075907945633\n"
          ]
        },
        {
          "name": "stderr",
          "output_type": "stream",
          "text": []
        },
        {
          "name": "stdout",
          "output_type": "stream",
          "text": [
            "Epoch 69, Batch 80, Loss: 0.021562673151493073\n"
          ]
        },
        {
          "name": "stderr",
          "output_type": "stream",
          "text": []
        },
        {
          "name": "stdout",
          "output_type": "stream",
          "text": [
            "Epoch 69, Batch 90, Loss: 0.026843484491109848\n"
          ]
        },
        {
          "name": "stderr",
          "output_type": "stream",
          "text": [
            "Epoch:  70%|███████   | 70/100 [46:06<15:53, 31.79s/it]"
          ]
        },
        {
          "name": "stdout",
          "output_type": "stream",
          "text": [
            "Epoch 70, Batch 0, Loss: 0.019123878329992294\n"
          ]
        },
        {
          "name": "stderr",
          "output_type": "stream",
          "text": []
        },
        {
          "name": "stdout",
          "output_type": "stream",
          "text": [
            "Epoch 70, Batch 10, Loss: 0.020817166194319725\n"
          ]
        },
        {
          "name": "stderr",
          "output_type": "stream",
          "text": []
        },
        {
          "name": "stdout",
          "output_type": "stream",
          "text": [
            "Epoch 70, Batch 20, Loss: 0.029967134818434715\n"
          ]
        },
        {
          "name": "stderr",
          "output_type": "stream",
          "text": []
        },
        {
          "name": "stdout",
          "output_type": "stream",
          "text": [
            "Epoch 70, Batch 30, Loss: 0.019027426838874817\n"
          ]
        },
        {
          "name": "stderr",
          "output_type": "stream",
          "text": []
        },
        {
          "name": "stdout",
          "output_type": "stream",
          "text": [
            "Epoch 70, Batch 40, Loss: 0.01771349459886551\n"
          ]
        },
        {
          "name": "stderr",
          "output_type": "stream",
          "text": []
        },
        {
          "name": "stdout",
          "output_type": "stream",
          "text": [
            "Epoch 70, Batch 50, Loss: 0.010586995631456375\n"
          ]
        },
        {
          "name": "stderr",
          "output_type": "stream",
          "text": []
        },
        {
          "name": "stdout",
          "output_type": "stream",
          "text": [
            "Epoch 70, Batch 60, Loss: 0.015160455368459225\n"
          ]
        },
        {
          "name": "stderr",
          "output_type": "stream",
          "text": []
        },
        {
          "name": "stdout",
          "output_type": "stream",
          "text": [
            "Epoch 70, Batch 70, Loss: 0.02298150211572647\n"
          ]
        },
        {
          "name": "stderr",
          "output_type": "stream",
          "text": []
        },
        {
          "name": "stdout",
          "output_type": "stream",
          "text": [
            "Epoch 70, Batch 80, Loss: 0.01817169599235058\n"
          ]
        },
        {
          "name": "stderr",
          "output_type": "stream",
          "text": []
        },
        {
          "name": "stdout",
          "output_type": "stream",
          "text": [
            "Epoch 70, Batch 90, Loss: 0.017988013103604317\n"
          ]
        },
        {
          "name": "stderr",
          "output_type": "stream",
          "text": [
            "Epoch:  71%|███████   | 71/100 [46:39<15:34, 32.22s/it]"
          ]
        },
        {
          "name": "stdout",
          "output_type": "stream",
          "text": [
            "Epoch 71, Batch 0, Loss: 0.01673363335430622\n"
          ]
        },
        {
          "name": "stderr",
          "output_type": "stream",
          "text": []
        },
        {
          "name": "stdout",
          "output_type": "stream",
          "text": [
            "Epoch 71, Batch 10, Loss: 0.02031085081398487\n"
          ]
        },
        {
          "name": "stderr",
          "output_type": "stream",
          "text": []
        },
        {
          "name": "stdout",
          "output_type": "stream",
          "text": [
            "Epoch 71, Batch 20, Loss: 0.016530927270650864\n"
          ]
        },
        {
          "name": "stderr",
          "output_type": "stream",
          "text": []
        },
        {
          "name": "stdout",
          "output_type": "stream",
          "text": [
            "Epoch 71, Batch 30, Loss: 0.016045859083533287\n"
          ]
        },
        {
          "name": "stderr",
          "output_type": "stream",
          "text": []
        },
        {
          "name": "stdout",
          "output_type": "stream",
          "text": [
            "Epoch 71, Batch 40, Loss: 0.023034047335386276\n"
          ]
        },
        {
          "name": "stderr",
          "output_type": "stream",
          "text": []
        },
        {
          "name": "stdout",
          "output_type": "stream",
          "text": [
            "Epoch 71, Batch 50, Loss: 0.022006088867783546\n"
          ]
        },
        {
          "name": "stderr",
          "output_type": "stream",
          "text": []
        },
        {
          "name": "stdout",
          "output_type": "stream",
          "text": [
            "Epoch 71, Batch 60, Loss: 0.02107849344611168\n"
          ]
        },
        {
          "name": "stderr",
          "output_type": "stream",
          "text": []
        },
        {
          "name": "stdout",
          "output_type": "stream",
          "text": [
            "Epoch 71, Batch 70, Loss: 0.035084910690784454\n"
          ]
        },
        {
          "name": "stderr",
          "output_type": "stream",
          "text": []
        },
        {
          "name": "stdout",
          "output_type": "stream",
          "text": [
            "Epoch 71, Batch 80, Loss: 0.02511434629559517\n"
          ]
        },
        {
          "name": "stderr",
          "output_type": "stream",
          "text": []
        },
        {
          "name": "stdout",
          "output_type": "stream",
          "text": [
            "Epoch 71, Batch 90, Loss: 0.019896874204277992\n"
          ]
        },
        {
          "name": "stderr",
          "output_type": "stream",
          "text": [
            "Epoch:  72%|███████▏  | 72/100 [47:12<15:10, 32.51s/it]"
          ]
        },
        {
          "name": "stdout",
          "output_type": "stream",
          "text": [
            "Epoch 72, Batch 0, Loss: 0.01577662117779255\n"
          ]
        },
        {
          "name": "stderr",
          "output_type": "stream",
          "text": []
        },
        {
          "name": "stdout",
          "output_type": "stream",
          "text": [
            "Epoch 72, Batch 10, Loss: 0.02477842941880226\n"
          ]
        },
        {
          "name": "stderr",
          "output_type": "stream",
          "text": []
        },
        {
          "name": "stdout",
          "output_type": "stream",
          "text": [
            "Epoch 72, Batch 20, Loss: 0.019854510203003883\n"
          ]
        },
        {
          "name": "stderr",
          "output_type": "stream",
          "text": []
        },
        {
          "name": "stdout",
          "output_type": "stream",
          "text": [
            "Epoch 72, Batch 30, Loss: 0.021434156224131584\n"
          ]
        },
        {
          "name": "stderr",
          "output_type": "stream",
          "text": []
        },
        {
          "name": "stdout",
          "output_type": "stream",
          "text": [
            "Epoch 72, Batch 40, Loss: 0.016099445521831512\n"
          ]
        },
        {
          "name": "stderr",
          "output_type": "stream",
          "text": []
        },
        {
          "name": "stdout",
          "output_type": "stream",
          "text": [
            "Epoch 72, Batch 50, Loss: 0.025068392977118492\n"
          ]
        },
        {
          "name": "stderr",
          "output_type": "stream",
          "text": []
        },
        {
          "name": "stdout",
          "output_type": "stream",
          "text": [
            "Epoch 72, Batch 60, Loss: 0.01805376634001732\n"
          ]
        },
        {
          "name": "stderr",
          "output_type": "stream",
          "text": []
        },
        {
          "name": "stdout",
          "output_type": "stream",
          "text": [
            "Epoch 72, Batch 70, Loss: 0.015077042393386364\n"
          ]
        },
        {
          "name": "stderr",
          "output_type": "stream",
          "text": []
        },
        {
          "name": "stdout",
          "output_type": "stream",
          "text": [
            "Epoch 72, Batch 80, Loss: 0.019607767462730408\n"
          ]
        },
        {
          "name": "stderr",
          "output_type": "stream",
          "text": []
        },
        {
          "name": "stdout",
          "output_type": "stream",
          "text": [
            "Epoch 72, Batch 90, Loss: 0.021442735567688942\n"
          ]
        },
        {
          "name": "stderr",
          "output_type": "stream",
          "text": [
            "Epoch:  73%|███████▎  | 73/100 [47:44<14:31, 32.29s/it]"
          ]
        },
        {
          "name": "stdout",
          "output_type": "stream",
          "text": [
            "Epoch 73, Batch 0, Loss: 0.021660974249243736\n"
          ]
        },
        {
          "name": "stderr",
          "output_type": "stream",
          "text": []
        },
        {
          "name": "stdout",
          "output_type": "stream",
          "text": [
            "Epoch 73, Batch 10, Loss: 0.01996924914419651\n"
          ]
        },
        {
          "name": "stderr",
          "output_type": "stream",
          "text": []
        },
        {
          "name": "stdout",
          "output_type": "stream",
          "text": [
            "Epoch 73, Batch 20, Loss: 0.02142460271716118\n"
          ]
        },
        {
          "name": "stderr",
          "output_type": "stream",
          "text": []
        },
        {
          "name": "stdout",
          "output_type": "stream",
          "text": [
            "Epoch 73, Batch 30, Loss: 0.024502994492650032\n"
          ]
        },
        {
          "name": "stderr",
          "output_type": "stream",
          "text": []
        },
        {
          "name": "stdout",
          "output_type": "stream",
          "text": [
            "Epoch 73, Batch 40, Loss: 0.03148839622735977\n"
          ]
        },
        {
          "name": "stderr",
          "output_type": "stream",
          "text": []
        },
        {
          "name": "stdout",
          "output_type": "stream",
          "text": [
            "Epoch 73, Batch 50, Loss: 0.015144022181630135\n"
          ]
        },
        {
          "name": "stderr",
          "output_type": "stream",
          "text": []
        },
        {
          "name": "stdout",
          "output_type": "stream",
          "text": [
            "Epoch 73, Batch 60, Loss: 0.012427919544279575\n"
          ]
        },
        {
          "name": "stderr",
          "output_type": "stream",
          "text": []
        },
        {
          "name": "stdout",
          "output_type": "stream",
          "text": [
            "Epoch 73, Batch 70, Loss: 0.01955055072903633\n"
          ]
        },
        {
          "name": "stderr",
          "output_type": "stream",
          "text": []
        },
        {
          "name": "stdout",
          "output_type": "stream",
          "text": [
            "Epoch 73, Batch 80, Loss: 0.02969977632164955\n"
          ]
        },
        {
          "name": "stderr",
          "output_type": "stream",
          "text": []
        },
        {
          "name": "stdout",
          "output_type": "stream",
          "text": [
            "Epoch 73, Batch 90, Loss: 0.020327823236584663\n"
          ]
        },
        {
          "name": "stderr",
          "output_type": "stream",
          "text": [
            "Epoch:  74%|███████▍  | 74/100 [48:17<14:03, 32.45s/it]"
          ]
        },
        {
          "name": "stdout",
          "output_type": "stream",
          "text": [
            "Epoch 74, Batch 0, Loss: 0.02528340183198452\n"
          ]
        },
        {
          "name": "stderr",
          "output_type": "stream",
          "text": []
        },
        {
          "name": "stdout",
          "output_type": "stream",
          "text": [
            "Epoch 74, Batch 10, Loss: 0.026799596846103668\n"
          ]
        },
        {
          "name": "stderr",
          "output_type": "stream",
          "text": []
        },
        {
          "name": "stdout",
          "output_type": "stream",
          "text": [
            "Epoch 74, Batch 20, Loss: 0.020178688690066338\n"
          ]
        },
        {
          "name": "stderr",
          "output_type": "stream",
          "text": []
        },
        {
          "name": "stdout",
          "output_type": "stream",
          "text": [
            "Epoch 74, Batch 30, Loss: 0.01784638874232769\n"
          ]
        },
        {
          "name": "stderr",
          "output_type": "stream",
          "text": []
        },
        {
          "name": "stdout",
          "output_type": "stream",
          "text": [
            "Epoch 74, Batch 40, Loss: 0.018029192462563515\n"
          ]
        },
        {
          "name": "stderr",
          "output_type": "stream",
          "text": []
        },
        {
          "name": "stdout",
          "output_type": "stream",
          "text": [
            "Epoch 74, Batch 50, Loss: 0.021251173689961433\n"
          ]
        },
        {
          "name": "stderr",
          "output_type": "stream",
          "text": []
        },
        {
          "name": "stdout",
          "output_type": "stream",
          "text": [
            "Epoch 74, Batch 60, Loss: 0.0215061716735363\n"
          ]
        },
        {
          "name": "stderr",
          "output_type": "stream",
          "text": []
        },
        {
          "name": "stdout",
          "output_type": "stream",
          "text": [
            "Epoch 74, Batch 70, Loss: 0.01930527575314045\n"
          ]
        },
        {
          "name": "stderr",
          "output_type": "stream",
          "text": []
        },
        {
          "name": "stdout",
          "output_type": "stream",
          "text": [
            "Epoch 74, Batch 80, Loss: 0.023982161656022072\n"
          ]
        },
        {
          "name": "stderr",
          "output_type": "stream",
          "text": []
        },
        {
          "name": "stdout",
          "output_type": "stream",
          "text": [
            "Epoch 74, Batch 90, Loss: 0.021114055067300797\n"
          ]
        },
        {
          "name": "stderr",
          "output_type": "stream",
          "text": [
            "Epoch:  75%|███████▌  | 75/100 [48:50<13:33, 32.52s/it]"
          ]
        },
        {
          "name": "stdout",
          "output_type": "stream",
          "text": [
            "Epoch 75, Batch 0, Loss: 0.014413241297006607\n"
          ]
        },
        {
          "name": "stderr",
          "output_type": "stream",
          "text": []
        },
        {
          "name": "stdout",
          "output_type": "stream",
          "text": [
            "Epoch 75, Batch 10, Loss: 0.01734553463757038\n"
          ]
        },
        {
          "name": "stderr",
          "output_type": "stream",
          "text": []
        },
        {
          "name": "stdout",
          "output_type": "stream",
          "text": [
            "Epoch 75, Batch 20, Loss: 0.013791495934128761\n"
          ]
        },
        {
          "name": "stderr",
          "output_type": "stream",
          "text": []
        },
        {
          "name": "stdout",
          "output_type": "stream",
          "text": [
            "Epoch 75, Batch 30, Loss: 0.01984216459095478\n"
          ]
        },
        {
          "name": "stderr",
          "output_type": "stream",
          "text": []
        },
        {
          "name": "stdout",
          "output_type": "stream",
          "text": [
            "Epoch 75, Batch 40, Loss: 0.017377162352204323\n"
          ]
        },
        {
          "name": "stderr",
          "output_type": "stream",
          "text": []
        },
        {
          "name": "stdout",
          "output_type": "stream",
          "text": [
            "Epoch 75, Batch 50, Loss: 0.02018590085208416\n"
          ]
        },
        {
          "name": "stderr",
          "output_type": "stream",
          "text": []
        },
        {
          "name": "stdout",
          "output_type": "stream",
          "text": [
            "Epoch 75, Batch 60, Loss: 0.019289959222078323\n"
          ]
        },
        {
          "name": "stderr",
          "output_type": "stream",
          "text": []
        },
        {
          "name": "stdout",
          "output_type": "stream",
          "text": [
            "Epoch 75, Batch 70, Loss: 0.027896994724869728\n"
          ]
        },
        {
          "name": "stderr",
          "output_type": "stream",
          "text": []
        },
        {
          "name": "stdout",
          "output_type": "stream",
          "text": [
            "Epoch 75, Batch 80, Loss: 0.023768717423081398\n"
          ]
        },
        {
          "name": "stderr",
          "output_type": "stream",
          "text": []
        },
        {
          "name": "stdout",
          "output_type": "stream",
          "text": [
            "Epoch 75, Batch 90, Loss: 0.02329573966562748\n"
          ]
        },
        {
          "name": "stderr",
          "output_type": "stream",
          "text": [
            "Epoch:  76%|███████▌  | 76/100 [49:22<12:56, 32.34s/it]"
          ]
        },
        {
          "name": "stdout",
          "output_type": "stream",
          "text": [
            "Epoch 76, Batch 0, Loss: 0.019948942586779594\n"
          ]
        },
        {
          "name": "stderr",
          "output_type": "stream",
          "text": []
        },
        {
          "name": "stdout",
          "output_type": "stream",
          "text": [
            "Epoch 76, Batch 10, Loss: 0.025135263800621033\n"
          ]
        },
        {
          "name": "stderr",
          "output_type": "stream",
          "text": []
        },
        {
          "name": "stdout",
          "output_type": "stream",
          "text": [
            "Epoch 76, Batch 20, Loss: 0.023274997249245644\n"
          ]
        },
        {
          "name": "stderr",
          "output_type": "stream",
          "text": []
        },
        {
          "name": "stdout",
          "output_type": "stream",
          "text": [
            "Epoch 76, Batch 30, Loss: 0.026541167870163918\n"
          ]
        },
        {
          "name": "stderr",
          "output_type": "stream",
          "text": []
        },
        {
          "name": "stdout",
          "output_type": "stream",
          "text": [
            "Epoch 76, Batch 40, Loss: 0.017561541870236397\n"
          ]
        },
        {
          "name": "stderr",
          "output_type": "stream",
          "text": []
        },
        {
          "name": "stdout",
          "output_type": "stream",
          "text": [
            "Epoch 76, Batch 50, Loss: 0.021266469731926918\n"
          ]
        },
        {
          "name": "stderr",
          "output_type": "stream",
          "text": []
        },
        {
          "name": "stdout",
          "output_type": "stream",
          "text": [
            "Epoch 76, Batch 60, Loss: 0.016329394653439522\n"
          ]
        },
        {
          "name": "stderr",
          "output_type": "stream",
          "text": []
        },
        {
          "name": "stdout",
          "output_type": "stream",
          "text": [
            "Epoch 76, Batch 70, Loss: 0.019244510680437088\n"
          ]
        },
        {
          "name": "stderr",
          "output_type": "stream",
          "text": []
        },
        {
          "name": "stdout",
          "output_type": "stream",
          "text": [
            "Epoch 76, Batch 80, Loss: 0.019987870007753372\n"
          ]
        },
        {
          "name": "stderr",
          "output_type": "stream",
          "text": []
        },
        {
          "name": "stdout",
          "output_type": "stream",
          "text": [
            "Epoch 76, Batch 90, Loss: 0.016456563025712967\n"
          ]
        },
        {
          "name": "stderr",
          "output_type": "stream",
          "text": [
            "Epoch:  77%|███████▋  | 77/100 [49:53<12:19, 32.15s/it]"
          ]
        },
        {
          "name": "stdout",
          "output_type": "stream",
          "text": [
            "Epoch 77, Batch 0, Loss: 0.019643442705273628\n"
          ]
        },
        {
          "name": "stderr",
          "output_type": "stream",
          "text": []
        },
        {
          "name": "stdout",
          "output_type": "stream",
          "text": [
            "Epoch 77, Batch 10, Loss: 0.022358834743499756\n"
          ]
        },
        {
          "name": "stderr",
          "output_type": "stream",
          "text": []
        },
        {
          "name": "stdout",
          "output_type": "stream",
          "text": [
            "Epoch 77, Batch 20, Loss: 0.021445469930768013\n"
          ]
        },
        {
          "name": "stderr",
          "output_type": "stream",
          "text": []
        },
        {
          "name": "stdout",
          "output_type": "stream",
          "text": [
            "Epoch 77, Batch 30, Loss: 0.01799197308719158\n"
          ]
        },
        {
          "name": "stderr",
          "output_type": "stream",
          "text": []
        },
        {
          "name": "stdout",
          "output_type": "stream",
          "text": [
            "Epoch 77, Batch 40, Loss: 0.01369906309992075\n"
          ]
        },
        {
          "name": "stderr",
          "output_type": "stream",
          "text": []
        },
        {
          "name": "stdout",
          "output_type": "stream",
          "text": [
            "Epoch 77, Batch 50, Loss: 0.01712360419332981\n"
          ]
        },
        {
          "name": "stderr",
          "output_type": "stream",
          "text": []
        },
        {
          "name": "stdout",
          "output_type": "stream",
          "text": [
            "Epoch 77, Batch 60, Loss: 0.01746976748108864\n"
          ]
        },
        {
          "name": "stderr",
          "output_type": "stream",
          "text": []
        },
        {
          "name": "stdout",
          "output_type": "stream",
          "text": [
            "Epoch 77, Batch 70, Loss: 0.01936405897140503\n"
          ]
        },
        {
          "name": "stderr",
          "output_type": "stream",
          "text": []
        },
        {
          "name": "stdout",
          "output_type": "stream",
          "text": [
            "Epoch 77, Batch 80, Loss: 0.01509336568415165\n"
          ]
        },
        {
          "name": "stderr",
          "output_type": "stream",
          "text": []
        },
        {
          "name": "stdout",
          "output_type": "stream",
          "text": [
            "Epoch 77, Batch 90, Loss: 0.026084287092089653\n"
          ]
        },
        {
          "name": "stderr",
          "output_type": "stream",
          "text": [
            "Epoch:  78%|███████▊  | 78/100 [50:25<11:44, 32.04s/it]"
          ]
        },
        {
          "name": "stdout",
          "output_type": "stream",
          "text": [
            "Epoch 78, Batch 0, Loss: 0.0155340526252985\n"
          ]
        },
        {
          "name": "stderr",
          "output_type": "stream",
          "text": []
        },
        {
          "name": "stdout",
          "output_type": "stream",
          "text": [
            "Epoch 78, Batch 10, Loss: 0.02082216925919056\n"
          ]
        },
        {
          "name": "stderr",
          "output_type": "stream",
          "text": []
        },
        {
          "name": "stdout",
          "output_type": "stream",
          "text": [
            "Epoch 78, Batch 20, Loss: 0.019950944930315018\n"
          ]
        },
        {
          "name": "stderr",
          "output_type": "stream",
          "text": []
        },
        {
          "name": "stdout",
          "output_type": "stream",
          "text": [
            "Epoch 78, Batch 30, Loss: 0.01938280463218689\n"
          ]
        },
        {
          "name": "stderr",
          "output_type": "stream",
          "text": []
        },
        {
          "name": "stdout",
          "output_type": "stream",
          "text": [
            "Epoch 78, Batch 40, Loss: 0.02156923897564411\n"
          ]
        },
        {
          "name": "stderr",
          "output_type": "stream",
          "text": []
        },
        {
          "name": "stdout",
          "output_type": "stream",
          "text": [
            "Epoch 78, Batch 50, Loss: 0.02411782741546631\n"
          ]
        },
        {
          "name": "stderr",
          "output_type": "stream",
          "text": []
        },
        {
          "name": "stdout",
          "output_type": "stream",
          "text": [
            "Epoch 78, Batch 60, Loss: 0.019037608057260513\n"
          ]
        },
        {
          "name": "stderr",
          "output_type": "stream",
          "text": []
        },
        {
          "name": "stdout",
          "output_type": "stream",
          "text": [
            "Epoch 78, Batch 70, Loss: 0.017913779243826866\n"
          ]
        },
        {
          "name": "stderr",
          "output_type": "stream",
          "text": []
        },
        {
          "name": "stdout",
          "output_type": "stream",
          "text": [
            "Epoch 78, Batch 80, Loss: 0.022974520921707153\n"
          ]
        },
        {
          "name": "stderr",
          "output_type": "stream",
          "text": []
        },
        {
          "name": "stdout",
          "output_type": "stream",
          "text": [
            "Epoch 78, Batch 90, Loss: 0.017526894807815552\n"
          ]
        },
        {
          "name": "stderr",
          "output_type": "stream",
          "text": [
            "Epoch:  79%|███████▉  | 79/100 [50:57<11:10, 31.91s/it]"
          ]
        },
        {
          "name": "stdout",
          "output_type": "stream",
          "text": [
            "Epoch 79, Batch 0, Loss: 0.0117054907605052\n"
          ]
        },
        {
          "name": "stderr",
          "output_type": "stream",
          "text": []
        },
        {
          "name": "stdout",
          "output_type": "stream",
          "text": [
            "Epoch 79, Batch 10, Loss: 0.021437399089336395\n"
          ]
        },
        {
          "name": "stderr",
          "output_type": "stream",
          "text": []
        },
        {
          "name": "stdout",
          "output_type": "stream",
          "text": [
            "Epoch 79, Batch 20, Loss: 0.014137540012598038\n"
          ]
        },
        {
          "name": "stderr",
          "output_type": "stream",
          "text": []
        },
        {
          "name": "stdout",
          "output_type": "stream",
          "text": [
            "Epoch 79, Batch 30, Loss: 0.01588021032512188\n"
          ]
        },
        {
          "name": "stderr",
          "output_type": "stream",
          "text": []
        },
        {
          "name": "stdout",
          "output_type": "stream",
          "text": [
            "Epoch 79, Batch 40, Loss: 0.01842491328716278\n"
          ]
        },
        {
          "name": "stderr",
          "output_type": "stream",
          "text": []
        },
        {
          "name": "stdout",
          "output_type": "stream",
          "text": [
            "Epoch 79, Batch 50, Loss: 0.027862561866641045\n"
          ]
        },
        {
          "name": "stderr",
          "output_type": "stream",
          "text": []
        },
        {
          "name": "stdout",
          "output_type": "stream",
          "text": [
            "Epoch 79, Batch 60, Loss: 0.02235359139740467\n"
          ]
        },
        {
          "name": "stderr",
          "output_type": "stream",
          "text": []
        },
        {
          "name": "stdout",
          "output_type": "stream",
          "text": [
            "Epoch 79, Batch 70, Loss: 0.014454137533903122\n"
          ]
        },
        {
          "name": "stderr",
          "output_type": "stream",
          "text": []
        },
        {
          "name": "stdout",
          "output_type": "stream",
          "text": [
            "Epoch 79, Batch 80, Loss: 0.02028241753578186\n"
          ]
        },
        {
          "name": "stderr",
          "output_type": "stream",
          "text": []
        },
        {
          "name": "stdout",
          "output_type": "stream",
          "text": [
            "Epoch 79, Batch 90, Loss: 0.028188176453113556\n"
          ]
        },
        {
          "name": "stderr",
          "output_type": "stream",
          "text": [
            "Epoch:  80%|████████  | 80/100 [51:28<10:36, 31.81s/it]"
          ]
        },
        {
          "name": "stdout",
          "output_type": "stream",
          "text": [
            "Epoch 80, Batch 0, Loss: 0.022562775760889053\n"
          ]
        },
        {
          "name": "stderr",
          "output_type": "stream",
          "text": []
        },
        {
          "name": "stdout",
          "output_type": "stream",
          "text": [
            "Epoch 80, Batch 10, Loss: 0.02630324475467205\n"
          ]
        },
        {
          "name": "stderr",
          "output_type": "stream",
          "text": []
        },
        {
          "name": "stdout",
          "output_type": "stream",
          "text": [
            "Epoch 80, Batch 20, Loss: 0.02033062092959881\n"
          ]
        },
        {
          "name": "stderr",
          "output_type": "stream",
          "text": []
        },
        {
          "name": "stdout",
          "output_type": "stream",
          "text": [
            "Epoch 80, Batch 30, Loss: 0.014551055617630482\n"
          ]
        },
        {
          "name": "stderr",
          "output_type": "stream",
          "text": []
        },
        {
          "name": "stdout",
          "output_type": "stream",
          "text": [
            "Epoch 80, Batch 40, Loss: 0.024214863777160645\n"
          ]
        },
        {
          "name": "stderr",
          "output_type": "stream",
          "text": []
        },
        {
          "name": "stdout",
          "output_type": "stream",
          "text": [
            "Epoch 80, Batch 50, Loss: 0.015820397064089775\n"
          ]
        },
        {
          "name": "stderr",
          "output_type": "stream",
          "text": []
        },
        {
          "name": "stdout",
          "output_type": "stream",
          "text": [
            "Epoch 80, Batch 60, Loss: 0.01670762710273266\n"
          ]
        },
        {
          "name": "stderr",
          "output_type": "stream",
          "text": []
        },
        {
          "name": "stdout",
          "output_type": "stream",
          "text": [
            "Epoch 80, Batch 70, Loss: 0.01606062240898609\n"
          ]
        },
        {
          "name": "stderr",
          "output_type": "stream",
          "text": []
        },
        {
          "name": "stdout",
          "output_type": "stream",
          "text": [
            "Epoch 80, Batch 80, Loss: 0.025720341131091118\n"
          ]
        },
        {
          "name": "stderr",
          "output_type": "stream",
          "text": []
        },
        {
          "name": "stdout",
          "output_type": "stream",
          "text": [
            "Epoch 80, Batch 90, Loss: 0.021842800080776215\n"
          ]
        },
        {
          "name": "stderr",
          "output_type": "stream",
          "text": [
            "Epoch:  81%|████████  | 81/100 [52:00<10:06, 31.92s/it]"
          ]
        },
        {
          "name": "stdout",
          "output_type": "stream",
          "text": [
            "Epoch 81, Batch 0, Loss: 0.02459568716585636\n"
          ]
        },
        {
          "name": "stderr",
          "output_type": "stream",
          "text": []
        },
        {
          "name": "stdout",
          "output_type": "stream",
          "text": [
            "Epoch 81, Batch 10, Loss: 0.01167040690779686\n"
          ]
        },
        {
          "name": "stderr",
          "output_type": "stream",
          "text": []
        },
        {
          "name": "stdout",
          "output_type": "stream",
          "text": [
            "Epoch 81, Batch 20, Loss: 0.024573680013418198\n"
          ]
        },
        {
          "name": "stderr",
          "output_type": "stream",
          "text": []
        },
        {
          "name": "stdout",
          "output_type": "stream",
          "text": [
            "Epoch 81, Batch 30, Loss: 0.020331675186753273\n"
          ]
        },
        {
          "name": "stderr",
          "output_type": "stream",
          "text": []
        },
        {
          "name": "stdout",
          "output_type": "stream",
          "text": [
            "Epoch 81, Batch 40, Loss: 0.02766868658363819\n"
          ]
        },
        {
          "name": "stderr",
          "output_type": "stream",
          "text": []
        },
        {
          "name": "stdout",
          "output_type": "stream",
          "text": [
            "Epoch 81, Batch 50, Loss: 0.01446332037448883\n"
          ]
        },
        {
          "name": "stderr",
          "output_type": "stream",
          "text": []
        },
        {
          "name": "stdout",
          "output_type": "stream",
          "text": [
            "Epoch 81, Batch 60, Loss: 0.017102014273405075\n"
          ]
        },
        {
          "name": "stderr",
          "output_type": "stream",
          "text": []
        },
        {
          "name": "stdout",
          "output_type": "stream",
          "text": [
            "Epoch 81, Batch 70, Loss: 0.0190738458186388\n"
          ]
        },
        {
          "name": "stderr",
          "output_type": "stream",
          "text": []
        },
        {
          "name": "stdout",
          "output_type": "stream",
          "text": [
            "Epoch 81, Batch 80, Loss: 0.01951473578810692\n"
          ]
        },
        {
          "name": "stderr",
          "output_type": "stream",
          "text": []
        },
        {
          "name": "stdout",
          "output_type": "stream",
          "text": [
            "Epoch 81, Batch 90, Loss: 0.013017753139138222\n"
          ]
        },
        {
          "name": "stderr",
          "output_type": "stream",
          "text": [
            "Epoch:  82%|████████▏ | 82/100 [52:32<09:32, 31.82s/it]"
          ]
        },
        {
          "name": "stdout",
          "output_type": "stream",
          "text": [
            "Epoch 82, Batch 0, Loss: 0.022246187552809715\n"
          ]
        },
        {
          "name": "stderr",
          "output_type": "stream",
          "text": []
        },
        {
          "name": "stdout",
          "output_type": "stream",
          "text": [
            "Epoch 82, Batch 10, Loss: 0.01848538964986801\n"
          ]
        },
        {
          "name": "stderr",
          "output_type": "stream",
          "text": []
        },
        {
          "name": "stdout",
          "output_type": "stream",
          "text": [
            "Epoch 82, Batch 20, Loss: 0.018937962129712105\n"
          ]
        },
        {
          "name": "stderr",
          "output_type": "stream",
          "text": []
        },
        {
          "name": "stdout",
          "output_type": "stream",
          "text": [
            "Epoch 82, Batch 30, Loss: 0.02098378911614418\n"
          ]
        },
        {
          "name": "stderr",
          "output_type": "stream",
          "text": []
        },
        {
          "name": "stdout",
          "output_type": "stream",
          "text": [
            "Epoch 82, Batch 40, Loss: 0.018511846661567688\n"
          ]
        },
        {
          "name": "stderr",
          "output_type": "stream",
          "text": []
        },
        {
          "name": "stdout",
          "output_type": "stream",
          "text": [
            "Epoch 82, Batch 50, Loss: 0.01772519387304783\n"
          ]
        },
        {
          "name": "stderr",
          "output_type": "stream",
          "text": []
        },
        {
          "name": "stdout",
          "output_type": "stream",
          "text": [
            "Epoch 82, Batch 60, Loss: 0.02053150348365307\n"
          ]
        },
        {
          "name": "stderr",
          "output_type": "stream",
          "text": []
        },
        {
          "name": "stdout",
          "output_type": "stream",
          "text": [
            "Epoch 82, Batch 70, Loss: 0.02278284728527069\n"
          ]
        },
        {
          "name": "stderr",
          "output_type": "stream",
          "text": []
        },
        {
          "name": "stdout",
          "output_type": "stream",
          "text": [
            "Epoch 82, Batch 80, Loss: 0.014707159250974655\n"
          ]
        },
        {
          "name": "stderr",
          "output_type": "stream",
          "text": []
        },
        {
          "name": "stdout",
          "output_type": "stream",
          "text": [
            "Epoch 82, Batch 90, Loss: 0.02061440609395504\n"
          ]
        },
        {
          "name": "stderr",
          "output_type": "stream",
          "text": [
            "Epoch:  83%|████████▎ | 83/100 [53:04<08:59, 31.75s/it]"
          ]
        },
        {
          "name": "stdout",
          "output_type": "stream",
          "text": [
            "Epoch 83, Batch 0, Loss: 0.018567431718111038\n"
          ]
        },
        {
          "name": "stderr",
          "output_type": "stream",
          "text": []
        },
        {
          "name": "stdout",
          "output_type": "stream",
          "text": [
            "Epoch 83, Batch 10, Loss: 0.015730680897831917\n"
          ]
        },
        {
          "name": "stderr",
          "output_type": "stream",
          "text": []
        },
        {
          "name": "stdout",
          "output_type": "stream",
          "text": [
            "Epoch 83, Batch 20, Loss: 0.02365644834935665\n"
          ]
        },
        {
          "name": "stderr",
          "output_type": "stream",
          "text": []
        },
        {
          "name": "stdout",
          "output_type": "stream",
          "text": [
            "Epoch 83, Batch 30, Loss: 0.017476100474596024\n"
          ]
        },
        {
          "name": "stderr",
          "output_type": "stream",
          "text": []
        },
        {
          "name": "stdout",
          "output_type": "stream",
          "text": [
            "Epoch 83, Batch 40, Loss: 0.02237625978887081\n"
          ]
        },
        {
          "name": "stderr",
          "output_type": "stream",
          "text": []
        },
        {
          "name": "stdout",
          "output_type": "stream",
          "text": [
            "Epoch 83, Batch 50, Loss: 0.020869946107268333\n"
          ]
        },
        {
          "name": "stderr",
          "output_type": "stream",
          "text": []
        },
        {
          "name": "stdout",
          "output_type": "stream",
          "text": [
            "Epoch 83, Batch 60, Loss: 0.013081779703497887\n"
          ]
        },
        {
          "name": "stderr",
          "output_type": "stream",
          "text": []
        },
        {
          "name": "stdout",
          "output_type": "stream",
          "text": [
            "Epoch 83, Batch 70, Loss: 0.030001292005181313\n"
          ]
        },
        {
          "name": "stderr",
          "output_type": "stream",
          "text": []
        },
        {
          "name": "stdout",
          "output_type": "stream",
          "text": [
            "Epoch 83, Batch 80, Loss: 0.017612874507904053\n"
          ]
        },
        {
          "name": "stderr",
          "output_type": "stream",
          "text": []
        },
        {
          "name": "stdout",
          "output_type": "stream",
          "text": [
            "Epoch 83, Batch 90, Loss: 0.02430860698223114\n"
          ]
        },
        {
          "name": "stderr",
          "output_type": "stream",
          "text": [
            "Epoch:  84%|████████▍ | 84/100 [53:35<08:27, 31.69s/it]"
          ]
        },
        {
          "name": "stdout",
          "output_type": "stream",
          "text": [
            "Epoch 84, Batch 0, Loss: 0.017208196222782135\n"
          ]
        },
        {
          "name": "stderr",
          "output_type": "stream",
          "text": []
        },
        {
          "name": "stdout",
          "output_type": "stream",
          "text": [
            "Epoch 84, Batch 10, Loss: 0.02038474753499031\n"
          ]
        },
        {
          "name": "stderr",
          "output_type": "stream",
          "text": []
        },
        {
          "name": "stdout",
          "output_type": "stream",
          "text": [
            "Epoch 84, Batch 20, Loss: 0.018344100564718246\n"
          ]
        },
        {
          "name": "stderr",
          "output_type": "stream",
          "text": []
        },
        {
          "name": "stdout",
          "output_type": "stream",
          "text": [
            "Epoch 84, Batch 30, Loss: 0.014917600899934769\n"
          ]
        },
        {
          "name": "stderr",
          "output_type": "stream",
          "text": []
        },
        {
          "name": "stdout",
          "output_type": "stream",
          "text": [
            "Epoch 84, Batch 40, Loss: 0.018801195546984673\n"
          ]
        },
        {
          "name": "stderr",
          "output_type": "stream",
          "text": []
        },
        {
          "name": "stdout",
          "output_type": "stream",
          "text": [
            "Epoch 84, Batch 50, Loss: 0.021790247410535812\n"
          ]
        },
        {
          "name": "stderr",
          "output_type": "stream",
          "text": []
        },
        {
          "name": "stdout",
          "output_type": "stream",
          "text": [
            "Epoch 84, Batch 60, Loss: 0.02133169025182724\n"
          ]
        },
        {
          "name": "stderr",
          "output_type": "stream",
          "text": []
        },
        {
          "name": "stdout",
          "output_type": "stream",
          "text": [
            "Epoch 84, Batch 70, Loss: 0.017902571707963943\n"
          ]
        },
        {
          "name": "stderr",
          "output_type": "stream",
          "text": []
        },
        {
          "name": "stdout",
          "output_type": "stream",
          "text": [
            "Epoch 84, Batch 80, Loss: 0.01932438835501671\n"
          ]
        },
        {
          "name": "stderr",
          "output_type": "stream",
          "text": []
        },
        {
          "name": "stdout",
          "output_type": "stream",
          "text": [
            "Epoch 84, Batch 90, Loss: 0.017211081460118294\n"
          ]
        },
        {
          "name": "stderr",
          "output_type": "stream",
          "text": [
            "Epoch:  85%|████████▌ | 85/100 [54:07<07:54, 31.66s/it]"
          ]
        },
        {
          "name": "stdout",
          "output_type": "stream",
          "text": [
            "Epoch 85, Batch 0, Loss: 0.0164700448513031\n"
          ]
        },
        {
          "name": "stderr",
          "output_type": "stream",
          "text": []
        },
        {
          "name": "stdout",
          "output_type": "stream",
          "text": [
            "Epoch 85, Batch 10, Loss: 0.0141404764726758\n"
          ]
        },
        {
          "name": "stderr",
          "output_type": "stream",
          "text": []
        },
        {
          "name": "stdout",
          "output_type": "stream",
          "text": [
            "Epoch 85, Batch 20, Loss: 0.01362455915659666\n"
          ]
        },
        {
          "name": "stderr",
          "output_type": "stream",
          "text": []
        },
        {
          "name": "stdout",
          "output_type": "stream",
          "text": [
            "Epoch 85, Batch 30, Loss: 0.017005279660224915\n"
          ]
        },
        {
          "name": "stderr",
          "output_type": "stream",
          "text": []
        },
        {
          "name": "stdout",
          "output_type": "stream",
          "text": [
            "Epoch 85, Batch 40, Loss: 0.015864050015807152\n"
          ]
        },
        {
          "name": "stderr",
          "output_type": "stream",
          "text": []
        },
        {
          "name": "stdout",
          "output_type": "stream",
          "text": [
            "Epoch 85, Batch 50, Loss: 0.022347893565893173\n"
          ]
        },
        {
          "name": "stderr",
          "output_type": "stream",
          "text": []
        },
        {
          "name": "stdout",
          "output_type": "stream",
          "text": [
            "Epoch 85, Batch 60, Loss: 0.014221088029444218\n"
          ]
        },
        {
          "name": "stderr",
          "output_type": "stream",
          "text": []
        },
        {
          "name": "stdout",
          "output_type": "stream",
          "text": [
            "Epoch 85, Batch 70, Loss: 0.015412341803312302\n"
          ]
        },
        {
          "name": "stderr",
          "output_type": "stream",
          "text": []
        },
        {
          "name": "stdout",
          "output_type": "stream",
          "text": [
            "Epoch 85, Batch 80, Loss: 0.01613757014274597\n"
          ]
        },
        {
          "name": "stderr",
          "output_type": "stream",
          "text": []
        },
        {
          "name": "stdout",
          "output_type": "stream",
          "text": [
            "Epoch 85, Batch 90, Loss: 0.02242998778820038\n"
          ]
        },
        {
          "name": "stderr",
          "output_type": "stream",
          "text": [
            "Epoch:  86%|████████▌ | 86/100 [54:38<07:23, 31.65s/it]"
          ]
        },
        {
          "name": "stdout",
          "output_type": "stream",
          "text": [
            "Epoch 86, Batch 0, Loss: 0.012977611273527145\n"
          ]
        },
        {
          "name": "stderr",
          "output_type": "stream",
          "text": []
        },
        {
          "name": "stdout",
          "output_type": "stream",
          "text": [
            "Epoch 86, Batch 10, Loss: 0.02510756254196167\n"
          ]
        },
        {
          "name": "stderr",
          "output_type": "stream",
          "text": []
        },
        {
          "name": "stdout",
          "output_type": "stream",
          "text": [
            "Epoch 86, Batch 20, Loss: 0.030275655910372734\n"
          ]
        },
        {
          "name": "stderr",
          "output_type": "stream",
          "text": []
        },
        {
          "name": "stdout",
          "output_type": "stream",
          "text": [
            "Epoch 86, Batch 30, Loss: 0.021650070324540138\n"
          ]
        },
        {
          "name": "stderr",
          "output_type": "stream",
          "text": []
        },
        {
          "name": "stdout",
          "output_type": "stream",
          "text": [
            "Epoch 86, Batch 40, Loss: 0.01945088617503643\n"
          ]
        },
        {
          "name": "stderr",
          "output_type": "stream",
          "text": []
        },
        {
          "name": "stdout",
          "output_type": "stream",
          "text": [
            "Epoch 86, Batch 50, Loss: 0.025157460942864418\n"
          ]
        },
        {
          "name": "stderr",
          "output_type": "stream",
          "text": []
        },
        {
          "name": "stdout",
          "output_type": "stream",
          "text": [
            "Epoch 86, Batch 60, Loss: 0.02725895121693611\n"
          ]
        },
        {
          "name": "stderr",
          "output_type": "stream",
          "text": []
        },
        {
          "name": "stdout",
          "output_type": "stream",
          "text": [
            "Epoch 86, Batch 70, Loss: 0.016865504905581474\n"
          ]
        },
        {
          "name": "stderr",
          "output_type": "stream",
          "text": []
        },
        {
          "name": "stdout",
          "output_type": "stream",
          "text": [
            "Epoch 86, Batch 80, Loss: 0.019122261554002762\n"
          ]
        },
        {
          "name": "stderr",
          "output_type": "stream",
          "text": []
        },
        {
          "name": "stdout",
          "output_type": "stream",
          "text": [
            "Epoch 86, Batch 90, Loss: 0.014788636937737465\n"
          ]
        },
        {
          "name": "stderr",
          "output_type": "stream",
          "text": [
            "Epoch:  87%|████████▋ | 87/100 [55:10<06:51, 31.64s/it]"
          ]
        },
        {
          "name": "stdout",
          "output_type": "stream",
          "text": [
            "Epoch 87, Batch 0, Loss: 0.01341139804571867\n"
          ]
        },
        {
          "name": "stderr",
          "output_type": "stream",
          "text": []
        },
        {
          "name": "stdout",
          "output_type": "stream",
          "text": [
            "Epoch 87, Batch 10, Loss: 0.024064192548394203\n"
          ]
        },
        {
          "name": "stderr",
          "output_type": "stream",
          "text": []
        },
        {
          "name": "stdout",
          "output_type": "stream",
          "text": [
            "Epoch 87, Batch 20, Loss: 0.017227498814463615\n"
          ]
        },
        {
          "name": "stderr",
          "output_type": "stream",
          "text": []
        },
        {
          "name": "stdout",
          "output_type": "stream",
          "text": [
            "Epoch 87, Batch 30, Loss: 0.015863370150327682\n"
          ]
        },
        {
          "name": "stderr",
          "output_type": "stream",
          "text": []
        },
        {
          "name": "stdout",
          "output_type": "stream",
          "text": [
            "Epoch 87, Batch 40, Loss: 0.018468698486685753\n"
          ]
        },
        {
          "name": "stderr",
          "output_type": "stream",
          "text": []
        },
        {
          "name": "stdout",
          "output_type": "stream",
          "text": [
            "Epoch 87, Batch 50, Loss: 0.023888269439339638\n"
          ]
        },
        {
          "name": "stderr",
          "output_type": "stream",
          "text": []
        },
        {
          "name": "stdout",
          "output_type": "stream",
          "text": [
            "Epoch 87, Batch 60, Loss: 0.01579274982213974\n"
          ]
        },
        {
          "name": "stderr",
          "output_type": "stream",
          "text": []
        },
        {
          "name": "stdout",
          "output_type": "stream",
          "text": [
            "Epoch 87, Batch 70, Loss: 0.017289170995354652\n"
          ]
        },
        {
          "name": "stderr",
          "output_type": "stream",
          "text": []
        },
        {
          "name": "stdout",
          "output_type": "stream",
          "text": [
            "Epoch 87, Batch 80, Loss: 0.018233729526400566\n"
          ]
        },
        {
          "name": "stderr",
          "output_type": "stream",
          "text": []
        },
        {
          "name": "stdout",
          "output_type": "stream",
          "text": [
            "Epoch 87, Batch 90, Loss: 0.016453543677926064\n"
          ]
        },
        {
          "name": "stderr",
          "output_type": "stream",
          "text": [
            "Epoch:  88%|████████▊ | 88/100 [55:42<06:19, 31.62s/it]"
          ]
        },
        {
          "name": "stdout",
          "output_type": "stream",
          "text": [
            "Epoch 88, Batch 0, Loss: 0.031619757413864136\n"
          ]
        },
        {
          "name": "stderr",
          "output_type": "stream",
          "text": []
        },
        {
          "name": "stdout",
          "output_type": "stream",
          "text": [
            "Epoch 88, Batch 10, Loss: 0.022916391491889954\n"
          ]
        },
        {
          "name": "stderr",
          "output_type": "stream",
          "text": []
        },
        {
          "name": "stdout",
          "output_type": "stream",
          "text": [
            "Epoch 88, Batch 20, Loss: 0.029884101822972298\n"
          ]
        },
        {
          "name": "stderr",
          "output_type": "stream",
          "text": []
        },
        {
          "name": "stdout",
          "output_type": "stream",
          "text": [
            "Epoch 88, Batch 30, Loss: 0.03371800482273102\n"
          ]
        },
        {
          "name": "stderr",
          "output_type": "stream",
          "text": []
        },
        {
          "name": "stdout",
          "output_type": "stream",
          "text": [
            "Epoch 88, Batch 40, Loss: 0.01945585198700428\n"
          ]
        },
        {
          "name": "stderr",
          "output_type": "stream",
          "text": []
        },
        {
          "name": "stdout",
          "output_type": "stream",
          "text": [
            "Epoch 88, Batch 50, Loss: 0.023451225832104683\n"
          ]
        },
        {
          "name": "stderr",
          "output_type": "stream",
          "text": []
        },
        {
          "name": "stdout",
          "output_type": "stream",
          "text": [
            "Epoch 88, Batch 60, Loss: 0.0313992016017437\n"
          ]
        },
        {
          "name": "stderr",
          "output_type": "stream",
          "text": []
        },
        {
          "name": "stdout",
          "output_type": "stream",
          "text": [
            "Epoch 88, Batch 70, Loss: 0.019285978749394417\n"
          ]
        },
        {
          "name": "stderr",
          "output_type": "stream",
          "text": []
        },
        {
          "name": "stdout",
          "output_type": "stream",
          "text": [
            "Epoch 88, Batch 80, Loss: 0.020807674154639244\n"
          ]
        },
        {
          "name": "stderr",
          "output_type": "stream",
          "text": []
        },
        {
          "name": "stdout",
          "output_type": "stream",
          "text": [
            "Epoch 88, Batch 90, Loss: 0.019055698066949844\n"
          ]
        },
        {
          "name": "stderr",
          "output_type": "stream",
          "text": [
            "Epoch:  89%|████████▉ | 89/100 [56:13<05:47, 31.61s/it]"
          ]
        },
        {
          "name": "stdout",
          "output_type": "stream",
          "text": [
            "Epoch 89, Batch 0, Loss: 0.014233840629458427\n"
          ]
        },
        {
          "name": "stderr",
          "output_type": "stream",
          "text": []
        },
        {
          "name": "stdout",
          "output_type": "stream",
          "text": [
            "Epoch 89, Batch 10, Loss: 0.026737738400697708\n"
          ]
        },
        {
          "name": "stderr",
          "output_type": "stream",
          "text": []
        },
        {
          "name": "stdout",
          "output_type": "stream",
          "text": [
            "Epoch 89, Batch 20, Loss: 0.018878614529967308\n"
          ]
        },
        {
          "name": "stderr",
          "output_type": "stream",
          "text": []
        },
        {
          "name": "stdout",
          "output_type": "stream",
          "text": [
            "Epoch 89, Batch 30, Loss: 0.017374923452734947\n"
          ]
        },
        {
          "name": "stderr",
          "output_type": "stream",
          "text": []
        },
        {
          "name": "stdout",
          "output_type": "stream",
          "text": [
            "Epoch 89, Batch 40, Loss: 0.02029307745397091\n"
          ]
        },
        {
          "name": "stderr",
          "output_type": "stream",
          "text": []
        },
        {
          "name": "stdout",
          "output_type": "stream",
          "text": [
            "Epoch 89, Batch 50, Loss: 0.019865063950419426\n"
          ]
        },
        {
          "name": "stderr",
          "output_type": "stream",
          "text": []
        },
        {
          "name": "stdout",
          "output_type": "stream",
          "text": [
            "Epoch 89, Batch 60, Loss: 0.017763473093509674\n"
          ]
        },
        {
          "name": "stderr",
          "output_type": "stream",
          "text": []
        },
        {
          "name": "stdout",
          "output_type": "stream",
          "text": [
            "Epoch 89, Batch 70, Loss: 0.020302481949329376\n"
          ]
        },
        {
          "name": "stderr",
          "output_type": "stream",
          "text": []
        },
        {
          "name": "stdout",
          "output_type": "stream",
          "text": [
            "Epoch 89, Batch 80, Loss: 0.0251943226903677\n"
          ]
        },
        {
          "name": "stderr",
          "output_type": "stream",
          "text": []
        },
        {
          "name": "stdout",
          "output_type": "stream",
          "text": [
            "Epoch 89, Batch 90, Loss: 0.018384359776973724\n"
          ]
        },
        {
          "name": "stderr",
          "output_type": "stream",
          "text": [
            "Epoch:  90%|█████████ | 90/100 [56:45<05:16, 31.60s/it]"
          ]
        },
        {
          "name": "stdout",
          "output_type": "stream",
          "text": [
            "Epoch 90, Batch 0, Loss: 0.013802390545606613\n"
          ]
        },
        {
          "name": "stderr",
          "output_type": "stream",
          "text": []
        },
        {
          "name": "stdout",
          "output_type": "stream",
          "text": [
            "Epoch 90, Batch 10, Loss: 0.01599349081516266\n"
          ]
        },
        {
          "name": "stderr",
          "output_type": "stream",
          "text": []
        },
        {
          "name": "stdout",
          "output_type": "stream",
          "text": [
            "Epoch 90, Batch 20, Loss: 0.019275706261396408\n"
          ]
        },
        {
          "name": "stderr",
          "output_type": "stream",
          "text": []
        },
        {
          "name": "stdout",
          "output_type": "stream",
          "text": [
            "Epoch 90, Batch 30, Loss: 0.020928964018821716\n"
          ]
        },
        {
          "name": "stderr",
          "output_type": "stream",
          "text": []
        },
        {
          "name": "stdout",
          "output_type": "stream",
          "text": [
            "Epoch 90, Batch 40, Loss: 0.025838924571871758\n"
          ]
        },
        {
          "name": "stderr",
          "output_type": "stream",
          "text": []
        },
        {
          "name": "stdout",
          "output_type": "stream",
          "text": [
            "Epoch 90, Batch 50, Loss: 0.03226964548230171\n"
          ]
        },
        {
          "name": "stderr",
          "output_type": "stream",
          "text": []
        },
        {
          "name": "stdout",
          "output_type": "stream",
          "text": [
            "Epoch 90, Batch 60, Loss: 0.021981513127684593\n"
          ]
        },
        {
          "name": "stderr",
          "output_type": "stream",
          "text": []
        },
        {
          "name": "stdout",
          "output_type": "stream",
          "text": [
            "Epoch 90, Batch 70, Loss: 0.02265898324549198\n"
          ]
        },
        {
          "name": "stderr",
          "output_type": "stream",
          "text": []
        },
        {
          "name": "stdout",
          "output_type": "stream",
          "text": [
            "Epoch 90, Batch 80, Loss: 0.018556365743279457\n"
          ]
        },
        {
          "name": "stderr",
          "output_type": "stream",
          "text": []
        },
        {
          "name": "stdout",
          "output_type": "stream",
          "text": [
            "Epoch 90, Batch 90, Loss: 0.025782087817788124\n"
          ]
        },
        {
          "name": "stderr",
          "output_type": "stream",
          "text": [
            "Epoch:  91%|█████████ | 91/100 [57:17<04:46, 31.78s/it]"
          ]
        },
        {
          "name": "stdout",
          "output_type": "stream",
          "text": [
            "Epoch 91, Batch 0, Loss: 0.025780899450182915\n"
          ]
        },
        {
          "name": "stderr",
          "output_type": "stream",
          "text": []
        },
        {
          "name": "stdout",
          "output_type": "stream",
          "text": [
            "Epoch 91, Batch 10, Loss: 0.020216384902596474\n"
          ]
        },
        {
          "name": "stderr",
          "output_type": "stream",
          "text": []
        },
        {
          "name": "stdout",
          "output_type": "stream",
          "text": [
            "Epoch 91, Batch 20, Loss: 0.018310746178030968\n"
          ]
        },
        {
          "name": "stderr",
          "output_type": "stream",
          "text": []
        },
        {
          "name": "stdout",
          "output_type": "stream",
          "text": [
            "Epoch 91, Batch 30, Loss: 0.01946062222123146\n"
          ]
        },
        {
          "name": "stderr",
          "output_type": "stream",
          "text": []
        },
        {
          "name": "stdout",
          "output_type": "stream",
          "text": [
            "Epoch 91, Batch 40, Loss: 0.017081651836633682\n"
          ]
        },
        {
          "name": "stderr",
          "output_type": "stream",
          "text": []
        },
        {
          "name": "stdout",
          "output_type": "stream",
          "text": [
            "Epoch 91, Batch 50, Loss: 0.020409705117344856\n"
          ]
        },
        {
          "name": "stderr",
          "output_type": "stream",
          "text": []
        },
        {
          "name": "stdout",
          "output_type": "stream",
          "text": [
            "Epoch 91, Batch 60, Loss: 0.011493881233036518\n"
          ]
        },
        {
          "name": "stderr",
          "output_type": "stream",
          "text": []
        },
        {
          "name": "stdout",
          "output_type": "stream",
          "text": [
            "Epoch 91, Batch 70, Loss: 0.01567782275378704\n"
          ]
        },
        {
          "name": "stderr",
          "output_type": "stream",
          "text": []
        },
        {
          "name": "stdout",
          "output_type": "stream",
          "text": [
            "Epoch 91, Batch 80, Loss: 0.010403129272162914\n"
          ]
        },
        {
          "name": "stderr",
          "output_type": "stream",
          "text": []
        },
        {
          "name": "stdout",
          "output_type": "stream",
          "text": [
            "Epoch 91, Batch 90, Loss: 0.015695104375481606\n"
          ]
        },
        {
          "name": "stderr",
          "output_type": "stream",
          "text": [
            "Epoch:  92%|█████████▏| 92/100 [57:49<04:13, 31.72s/it]"
          ]
        },
        {
          "name": "stdout",
          "output_type": "stream",
          "text": [
            "Epoch 92, Batch 0, Loss: 0.016341781243681908\n"
          ]
        },
        {
          "name": "stderr",
          "output_type": "stream",
          "text": []
        },
        {
          "name": "stdout",
          "output_type": "stream",
          "text": [
            "Epoch 92, Batch 10, Loss: 0.019334279000759125\n"
          ]
        },
        {
          "name": "stderr",
          "output_type": "stream",
          "text": []
        },
        {
          "name": "stdout",
          "output_type": "stream",
          "text": [
            "Epoch 92, Batch 20, Loss: 0.01942739449441433\n"
          ]
        },
        {
          "name": "stderr",
          "output_type": "stream",
          "text": []
        },
        {
          "name": "stdout",
          "output_type": "stream",
          "text": [
            "Epoch 92, Batch 30, Loss: 0.015480736270546913\n"
          ]
        },
        {
          "name": "stderr",
          "output_type": "stream",
          "text": []
        },
        {
          "name": "stdout",
          "output_type": "stream",
          "text": [
            "Epoch 92, Batch 40, Loss: 0.015863075852394104\n"
          ]
        },
        {
          "name": "stderr",
          "output_type": "stream",
          "text": []
        },
        {
          "name": "stdout",
          "output_type": "stream",
          "text": [
            "Epoch 92, Batch 50, Loss: 0.025573741644620895\n"
          ]
        },
        {
          "name": "stderr",
          "output_type": "stream",
          "text": []
        },
        {
          "name": "stdout",
          "output_type": "stream",
          "text": [
            "Epoch 92, Batch 60, Loss: 0.028561998158693314\n"
          ]
        },
        {
          "name": "stderr",
          "output_type": "stream",
          "text": []
        },
        {
          "name": "stdout",
          "output_type": "stream",
          "text": [
            "Epoch 92, Batch 70, Loss: 0.01937161386013031\n"
          ]
        },
        {
          "name": "stderr",
          "output_type": "stream",
          "text": []
        },
        {
          "name": "stdout",
          "output_type": "stream",
          "text": [
            "Epoch 92, Batch 80, Loss: 0.01615041121840477\n"
          ]
        },
        {
          "name": "stderr",
          "output_type": "stream",
          "text": []
        },
        {
          "name": "stdout",
          "output_type": "stream",
          "text": [
            "Epoch 92, Batch 90, Loss: 0.01929435320198536\n"
          ]
        },
        {
          "name": "stderr",
          "output_type": "stream",
          "text": [
            "Epoch:  93%|█████████▎| 93/100 [58:20<03:41, 31.68s/it]"
          ]
        },
        {
          "name": "stdout",
          "output_type": "stream",
          "text": [
            "Epoch 93, Batch 0, Loss: 0.019559305161237717\n"
          ]
        },
        {
          "name": "stderr",
          "output_type": "stream",
          "text": []
        },
        {
          "name": "stdout",
          "output_type": "stream",
          "text": [
            "Epoch 93, Batch 10, Loss: 0.015339232981204987\n"
          ]
        },
        {
          "name": "stderr",
          "output_type": "stream",
          "text": []
        },
        {
          "name": "stdout",
          "output_type": "stream",
          "text": [
            "Epoch 93, Batch 20, Loss: 0.01289753895252943\n"
          ]
        },
        {
          "name": "stderr",
          "output_type": "stream",
          "text": []
        },
        {
          "name": "stdout",
          "output_type": "stream",
          "text": [
            "Epoch 93, Batch 30, Loss: 0.01965950056910515\n"
          ]
        },
        {
          "name": "stderr",
          "output_type": "stream",
          "text": []
        },
        {
          "name": "stdout",
          "output_type": "stream",
          "text": [
            "Epoch 93, Batch 40, Loss: 0.01870068348944187\n"
          ]
        },
        {
          "name": "stderr",
          "output_type": "stream",
          "text": []
        },
        {
          "name": "stdout",
          "output_type": "stream",
          "text": [
            "Epoch 93, Batch 50, Loss: 0.015418010763823986\n"
          ]
        },
        {
          "name": "stderr",
          "output_type": "stream",
          "text": []
        },
        {
          "name": "stdout",
          "output_type": "stream",
          "text": [
            "Epoch 93, Batch 60, Loss: 0.016349878162145615\n"
          ]
        },
        {
          "name": "stderr",
          "output_type": "stream",
          "text": []
        },
        {
          "name": "stdout",
          "output_type": "stream",
          "text": [
            "Epoch 93, Batch 70, Loss: 0.015714449808001518\n"
          ]
        },
        {
          "name": "stderr",
          "output_type": "stream",
          "text": []
        },
        {
          "name": "stdout",
          "output_type": "stream",
          "text": [
            "Epoch 93, Batch 80, Loss: 0.01870243437588215\n"
          ]
        },
        {
          "name": "stderr",
          "output_type": "stream",
          "text": []
        },
        {
          "name": "stdout",
          "output_type": "stream",
          "text": [
            "Epoch 93, Batch 90, Loss: 0.017333241179585457\n"
          ]
        },
        {
          "name": "stderr",
          "output_type": "stream",
          "text": [
            "Epoch:  94%|█████████▍| 94/100 [58:52<03:09, 31.65s/it]"
          ]
        },
        {
          "name": "stdout",
          "output_type": "stream",
          "text": [
            "Epoch 94, Batch 0, Loss: 0.017916955053806305\n"
          ]
        },
        {
          "name": "stderr",
          "output_type": "stream",
          "text": []
        },
        {
          "name": "stdout",
          "output_type": "stream",
          "text": [
            "Epoch 94, Batch 10, Loss: 0.021779293194413185\n"
          ]
        },
        {
          "name": "stderr",
          "output_type": "stream",
          "text": []
        },
        {
          "name": "stdout",
          "output_type": "stream",
          "text": [
            "Epoch 94, Batch 20, Loss: 0.02181701548397541\n"
          ]
        },
        {
          "name": "stderr",
          "output_type": "stream",
          "text": []
        },
        {
          "name": "stdout",
          "output_type": "stream",
          "text": [
            "Epoch 94, Batch 30, Loss: 0.015460389666259289\n"
          ]
        },
        {
          "name": "stderr",
          "output_type": "stream",
          "text": []
        },
        {
          "name": "stdout",
          "output_type": "stream",
          "text": [
            "Epoch 94, Batch 40, Loss: 0.016218584030866623\n"
          ]
        },
        {
          "name": "stderr",
          "output_type": "stream",
          "text": []
        },
        {
          "name": "stdout",
          "output_type": "stream",
          "text": [
            "Epoch 94, Batch 50, Loss: 0.017796680331230164\n"
          ]
        },
        {
          "name": "stderr",
          "output_type": "stream",
          "text": []
        },
        {
          "name": "stdout",
          "output_type": "stream",
          "text": [
            "Epoch 94, Batch 60, Loss: 0.022176066413521767\n"
          ]
        },
        {
          "name": "stderr",
          "output_type": "stream",
          "text": []
        },
        {
          "name": "stdout",
          "output_type": "stream",
          "text": [
            "Epoch 94, Batch 70, Loss: 0.03104795701801777\n"
          ]
        },
        {
          "name": "stderr",
          "output_type": "stream",
          "text": []
        },
        {
          "name": "stdout",
          "output_type": "stream",
          "text": [
            "Epoch 94, Batch 80, Loss: 0.0173686183989048\n"
          ]
        },
        {
          "name": "stderr",
          "output_type": "stream",
          "text": []
        },
        {
          "name": "stdout",
          "output_type": "stream",
          "text": [
            "Epoch 94, Batch 90, Loss: 0.014188765548169613\n"
          ]
        },
        {
          "name": "stderr",
          "output_type": "stream",
          "text": [
            "Epoch:  95%|█████████▌| 95/100 [59:23<02:38, 31.63s/it]"
          ]
        },
        {
          "name": "stdout",
          "output_type": "stream",
          "text": [
            "Epoch 95, Batch 0, Loss: 0.019529012963175774\n"
          ]
        },
        {
          "name": "stderr",
          "output_type": "stream",
          "text": []
        },
        {
          "name": "stdout",
          "output_type": "stream",
          "text": [
            "Epoch 95, Batch 10, Loss: 0.018904075026512146\n"
          ]
        },
        {
          "name": "stderr",
          "output_type": "stream",
          "text": []
        },
        {
          "name": "stdout",
          "output_type": "stream",
          "text": [
            "Epoch 95, Batch 20, Loss: 0.020627152174711227\n"
          ]
        },
        {
          "name": "stderr",
          "output_type": "stream",
          "text": []
        },
        {
          "name": "stdout",
          "output_type": "stream",
          "text": [
            "Epoch 95, Batch 30, Loss: 0.011468873359262943\n"
          ]
        },
        {
          "name": "stderr",
          "output_type": "stream",
          "text": []
        },
        {
          "name": "stdout",
          "output_type": "stream",
          "text": [
            "Epoch 95, Batch 40, Loss: 0.01885019615292549\n"
          ]
        },
        {
          "name": "stderr",
          "output_type": "stream",
          "text": []
        },
        {
          "name": "stdout",
          "output_type": "stream",
          "text": [
            "Epoch 95, Batch 50, Loss: 0.020704979076981544\n"
          ]
        },
        {
          "name": "stderr",
          "output_type": "stream",
          "text": []
        },
        {
          "name": "stdout",
          "output_type": "stream",
          "text": [
            "Epoch 95, Batch 60, Loss: 0.018386442214250565\n"
          ]
        },
        {
          "name": "stderr",
          "output_type": "stream",
          "text": []
        },
        {
          "name": "stdout",
          "output_type": "stream",
          "text": [
            "Epoch 95, Batch 70, Loss: 0.015020864084362984\n"
          ]
        },
        {
          "name": "stderr",
          "output_type": "stream",
          "text": []
        },
        {
          "name": "stdout",
          "output_type": "stream",
          "text": [
            "Epoch 95, Batch 80, Loss: 0.0283980593085289\n"
          ]
        },
        {
          "name": "stderr",
          "output_type": "stream",
          "text": []
        },
        {
          "name": "stdout",
          "output_type": "stream",
          "text": [
            "Epoch 95, Batch 90, Loss: 0.016373634338378906\n"
          ]
        },
        {
          "name": "stderr",
          "output_type": "stream",
          "text": [
            "Epoch:  96%|█████████▌| 96/100 [59:55<02:06, 31.61s/it]"
          ]
        },
        {
          "name": "stdout",
          "output_type": "stream",
          "text": [
            "Epoch 96, Batch 0, Loss: 0.021725010126829147\n"
          ]
        },
        {
          "name": "stderr",
          "output_type": "stream",
          "text": []
        },
        {
          "name": "stdout",
          "output_type": "stream",
          "text": [
            "Epoch 96, Batch 10, Loss: 0.014761981554329395\n"
          ]
        },
        {
          "name": "stderr",
          "output_type": "stream",
          "text": []
        },
        {
          "name": "stdout",
          "output_type": "stream",
          "text": [
            "Epoch 96, Batch 20, Loss: 0.017474334686994553\n"
          ]
        },
        {
          "name": "stderr",
          "output_type": "stream",
          "text": []
        },
        {
          "name": "stdout",
          "output_type": "stream",
          "text": [
            "Epoch 96, Batch 30, Loss: 0.01543046347796917\n"
          ]
        },
        {
          "name": "stderr",
          "output_type": "stream",
          "text": []
        },
        {
          "name": "stdout",
          "output_type": "stream",
          "text": [
            "Epoch 96, Batch 40, Loss: 0.01746373437345028\n"
          ]
        },
        {
          "name": "stderr",
          "output_type": "stream",
          "text": []
        },
        {
          "name": "stdout",
          "output_type": "stream",
          "text": [
            "Epoch 96, Batch 50, Loss: 0.017784252762794495\n"
          ]
        },
        {
          "name": "stderr",
          "output_type": "stream",
          "text": []
        },
        {
          "name": "stdout",
          "output_type": "stream",
          "text": [
            "Epoch 96, Batch 60, Loss: 0.014715330675244331\n"
          ]
        },
        {
          "name": "stderr",
          "output_type": "stream",
          "text": []
        },
        {
          "name": "stdout",
          "output_type": "stream",
          "text": [
            "Epoch 96, Batch 70, Loss: 0.02006186917424202\n"
          ]
        },
        {
          "name": "stderr",
          "output_type": "stream",
          "text": []
        },
        {
          "name": "stdout",
          "output_type": "stream",
          "text": [
            "Epoch 96, Batch 80, Loss: 0.019453082233667374\n"
          ]
        },
        {
          "name": "stderr",
          "output_type": "stream",
          "text": []
        },
        {
          "name": "stdout",
          "output_type": "stream",
          "text": [
            "Epoch 96, Batch 90, Loss: 0.02518308162689209\n"
          ]
        },
        {
          "name": "stderr",
          "output_type": "stream",
          "text": [
            "Epoch:  97%|█████████▋| 97/100 [1:00:26<01:34, 31.59s/it]"
          ]
        },
        {
          "name": "stdout",
          "output_type": "stream",
          "text": [
            "Epoch 97, Batch 0, Loss: 0.01485319621860981\n"
          ]
        },
        {
          "name": "stderr",
          "output_type": "stream",
          "text": []
        },
        {
          "name": "stdout",
          "output_type": "stream",
          "text": [
            "Epoch 97, Batch 10, Loss: 0.017955495044589043\n"
          ]
        },
        {
          "name": "stderr",
          "output_type": "stream",
          "text": []
        },
        {
          "name": "stdout",
          "output_type": "stream",
          "text": [
            "Epoch 97, Batch 20, Loss: 0.020881250500679016\n"
          ]
        },
        {
          "name": "stderr",
          "output_type": "stream",
          "text": []
        },
        {
          "name": "stdout",
          "output_type": "stream",
          "text": [
            "Epoch 97, Batch 30, Loss: 0.012684724293649197\n"
          ]
        },
        {
          "name": "stderr",
          "output_type": "stream",
          "text": []
        },
        {
          "name": "stdout",
          "output_type": "stream",
          "text": [
            "Epoch 97, Batch 40, Loss: 0.01861889287829399\n"
          ]
        },
        {
          "name": "stderr",
          "output_type": "stream",
          "text": []
        },
        {
          "name": "stdout",
          "output_type": "stream",
          "text": [
            "Epoch 97, Batch 50, Loss: 0.017207792028784752\n"
          ]
        },
        {
          "name": "stderr",
          "output_type": "stream",
          "text": []
        },
        {
          "name": "stdout",
          "output_type": "stream",
          "text": [
            "Epoch 97, Batch 60, Loss: 0.014898214489221573\n"
          ]
        },
        {
          "name": "stderr",
          "output_type": "stream",
          "text": []
        },
        {
          "name": "stdout",
          "output_type": "stream",
          "text": [
            "Epoch 97, Batch 70, Loss: 0.02040591835975647\n"
          ]
        },
        {
          "name": "stderr",
          "output_type": "stream",
          "text": []
        },
        {
          "name": "stdout",
          "output_type": "stream",
          "text": [
            "Epoch 97, Batch 80, Loss: 0.015396018512547016\n"
          ]
        },
        {
          "name": "stderr",
          "output_type": "stream",
          "text": []
        },
        {
          "name": "stdout",
          "output_type": "stream",
          "text": [
            "Epoch 97, Batch 90, Loss: 0.011548507027328014\n"
          ]
        },
        {
          "name": "stderr",
          "output_type": "stream",
          "text": [
            "Epoch:  98%|█████████▊| 98/100 [1:00:58<01:03, 31.58s/it]"
          ]
        },
        {
          "name": "stdout",
          "output_type": "stream",
          "text": [
            "Epoch 98, Batch 0, Loss: 0.013049956411123276\n"
          ]
        },
        {
          "name": "stderr",
          "output_type": "stream",
          "text": []
        },
        {
          "name": "stdout",
          "output_type": "stream",
          "text": [
            "Epoch 98, Batch 10, Loss: 0.022355886176228523\n"
          ]
        },
        {
          "name": "stderr",
          "output_type": "stream",
          "text": []
        },
        {
          "name": "stdout",
          "output_type": "stream",
          "text": [
            "Epoch 98, Batch 20, Loss: 0.020824601873755455\n"
          ]
        },
        {
          "name": "stderr",
          "output_type": "stream",
          "text": []
        },
        {
          "name": "stdout",
          "output_type": "stream",
          "text": [
            "Epoch 98, Batch 30, Loss: 0.013242858462035656\n"
          ]
        },
        {
          "name": "stderr",
          "output_type": "stream",
          "text": []
        },
        {
          "name": "stdout",
          "output_type": "stream",
          "text": [
            "Epoch 98, Batch 40, Loss: 0.014199717901647091\n"
          ]
        },
        {
          "name": "stderr",
          "output_type": "stream",
          "text": []
        },
        {
          "name": "stdout",
          "output_type": "stream",
          "text": [
            "Epoch 98, Batch 50, Loss: 0.019433779641985893\n"
          ]
        },
        {
          "name": "stderr",
          "output_type": "stream",
          "text": []
        },
        {
          "name": "stdout",
          "output_type": "stream",
          "text": [
            "Epoch 98, Batch 60, Loss: 0.02179691009223461\n"
          ]
        },
        {
          "name": "stderr",
          "output_type": "stream",
          "text": []
        },
        {
          "name": "stdout",
          "output_type": "stream",
          "text": [
            "Epoch 98, Batch 70, Loss: 0.014127351343631744\n"
          ]
        },
        {
          "name": "stderr",
          "output_type": "stream",
          "text": []
        },
        {
          "name": "stdout",
          "output_type": "stream",
          "text": [
            "Epoch 98, Batch 80, Loss: 0.02282906137406826\n"
          ]
        },
        {
          "name": "stderr",
          "output_type": "stream",
          "text": []
        },
        {
          "name": "stdout",
          "output_type": "stream",
          "text": [
            "Epoch 98, Batch 90, Loss: 0.022843001410365105\n"
          ]
        },
        {
          "name": "stderr",
          "output_type": "stream",
          "text": [
            "Epoch:  99%|█████████▉| 99/100 [1:01:30<00:31, 31.65s/it]"
          ]
        },
        {
          "name": "stdout",
          "output_type": "stream",
          "text": [
            "Epoch 99, Batch 0, Loss: 0.015447878278791904\n"
          ]
        },
        {
          "name": "stderr",
          "output_type": "stream",
          "text": []
        },
        {
          "name": "stdout",
          "output_type": "stream",
          "text": [
            "Epoch 99, Batch 10, Loss: 0.025130044668912888\n"
          ]
        },
        {
          "name": "stderr",
          "output_type": "stream",
          "text": []
        },
        {
          "name": "stdout",
          "output_type": "stream",
          "text": [
            "Epoch 99, Batch 20, Loss: 0.023827005177736282\n"
          ]
        },
        {
          "name": "stderr",
          "output_type": "stream",
          "text": []
        },
        {
          "name": "stdout",
          "output_type": "stream",
          "text": [
            "Epoch 99, Batch 30, Loss: 0.02008882164955139\n"
          ]
        },
        {
          "name": "stderr",
          "output_type": "stream",
          "text": []
        },
        {
          "name": "stdout",
          "output_type": "stream",
          "text": [
            "Epoch 99, Batch 40, Loss: 0.012454360723495483\n"
          ]
        },
        {
          "name": "stderr",
          "output_type": "stream",
          "text": []
        },
        {
          "name": "stdout",
          "output_type": "stream",
          "text": [
            "Epoch 99, Batch 50, Loss: 0.014198454096913338\n"
          ]
        },
        {
          "name": "stderr",
          "output_type": "stream",
          "text": []
        },
        {
          "name": "stdout",
          "output_type": "stream",
          "text": [
            "Epoch 99, Batch 60, Loss: 0.015628332272171974\n"
          ]
        },
        {
          "name": "stderr",
          "output_type": "stream",
          "text": []
        },
        {
          "name": "stdout",
          "output_type": "stream",
          "text": [
            "Epoch 99, Batch 70, Loss: 0.011964745819568634\n"
          ]
        },
        {
          "name": "stderr",
          "output_type": "stream",
          "text": []
        },
        {
          "name": "stdout",
          "output_type": "stream",
          "text": [
            "Epoch 99, Batch 80, Loss: 0.017982855439186096\n"
          ]
        },
        {
          "name": "stderr",
          "output_type": "stream",
          "text": []
        },
        {
          "name": "stdout",
          "output_type": "stream",
          "text": [
            "Epoch 99, Batch 90, Loss: 0.019613800570368767\n"
          ]
        },
        {
          "name": "stderr",
          "output_type": "stream",
          "text": [
            "Epoch: 100%|██████████| 100/100 [1:02:02<00:00, 37.22s/it]\n"
          ]
        }
      ],
      "source": [
        "imm.train(dataloader, None, num_epochs=100, lr=1e-4, device='cuda')"
      ]
    },
    {
      "cell_type": "code",
      "execution_count": 30,
      "metadata": {
        "colab": {
          "base_uri": "https://localhost:8080/"
        },
        "id": "6F3hUbIuxGdO",
        "outputId": "1c77956b-0006-403d-a9af-ce41def182bc"
      },
      "outputs": [],
      "source": [
        "#@markdown ### **Loading Pretrained Checkpoint**\n",
        "#@markdown Set `load_pretrained = True` to load pretrained weights.\n",
        "\n",
        "\n",
        "# ckpt_path = \"bigcp1.pth\"\n",
        "ckpt_path = 'ckpts/model_checkpoint_90_0_0.013802390545606613.pth'\n",
        "\n",
        "state_dict = torch.load(ckpt_path, map_location='cuda')\n",
        "noise_pred_net.load_state_dict(state_dict['model_state_dict'])\n",
        "imm.model = noise_pred_net "
      ]
    },
    {
      "cell_type": "code",
      "execution_count": 35,
      "metadata": {
        "colab": {
          "base_uri": "https://localhost:8080/",
          "height": 327,
          "referenced_widgets": [
            "1c17844c76d84675aa1c6e1a973308c8",
            "aa9489756ac24ba0b523f04a3352a09f",
            "51ff5f151bc9475fa3a5c54f8b60a50e",
            "58656f1d31ac45d3aaef45aa22f69899",
            "b9f98d2d7c624a8eae13fa5b422739ce",
            "b72ff2e7020f447fb492c1e9f69a0174",
            "567e3614e80743e5ae1f8e3c75a65b45",
            "187c8fd96f79429bb0752103d5998401",
            "17d07e24261b4627b1160beeb59c5636",
            "269772eda6cc4449bbba9e1e684b442c",
            "7cad813857df45f3ad617c74c68a619e"
          ]
        },
        "id": "OyLjlNQk5nr9",
        "outputId": "a104d1d1-f25a-456d-cac9-520ff50f455f"
      },
      "outputs": [
        {
          "name": "stderr",
          "output_type": "stream",
          "text": [
            "Eval PushTStateEnv:   0%|          | 0/200 [00:00<?, ?it/s]"
          ]
        },
        {
          "name": "stderr",
          "output_type": "stream",
          "text": [
            "Eval PushTStateEnv: 201it [05:04,  1.52s/it, reward=0]                            \n"
          ]
        },
        {
          "name": "stdout",
          "output_type": "stream",
          "text": [
            "Score:  0.0\n"
          ]
        },
        {
          "data": {
            "text/html": [
              "<video controls  width=\"256\"  height=\"256\">\n",
              " <source src=\"data:video/mp4;base64,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\" type=\"video/mp4\">\n",
              " Your browser does not support the video tag.\n",
              " </video>"
            ],
            "text/plain": [
              "<IPython.core.display.Video object>"
            ]
          },
          "execution_count": 35,
          "metadata": {},
          "output_type": "execute_result"
        }
      ],
      "source": [
        "#@markdown ### **Inference**\n",
        "\n",
        "# limit enviornment interaction to 200 steps before termination\n",
        "max_steps = 200\n",
        "env = PushTEnv()\n",
        "# use a seed >200 to avoid initial states seen in the training dataset\n",
        "env.seed(100000)\n",
        "\n",
        "# get first observation\n",
        "obs, info = env.reset()\n",
        "\n",
        "# keep a queue of last 2 steps of observations\n",
        "obs_deque = collections.deque(\n",
        "    [obs] * obs_horizon, maxlen=obs_horizon)\n",
        "# save visualization and rewards\n",
        "imgs = [env.render(mode='rgb_array')]\n",
        "rewards = list()\n",
        "done = False\n",
        "step_idx = 0\n",
        "\n",
        "with tqdm(total=max_steps, desc=\"Eval PushTStateEnv\") as pbar:\n",
        "    while not done:\n",
        "        B = 1\n",
        "        # stack the last obs_horizon (2) number of observations\n",
        "        obs_seq = np.stack(obs_deque)\n",
        "        # normalize observation\n",
        "        nobs = normalize_data(obs_seq, stats=stats['obs'])\n",
        "        # device transfer\n",
        "        nobs = torch.from_numpy(nobs).to(device, dtype=torch.float32)\n",
        "\n",
        "        # infer action\n",
        "        with torch.no_grad():\n",
        "            # reshape observation to (B,obs_horizon*obs_dim)\n",
        "            obs_cond = nobs.unsqueeze(0).flatten(start_dim=1)\n",
        "\n",
        "            # initialize action from Guassian noise\n",
        "            noisy_action = torch.randn(\n",
        "                (B, pred_horizon, action_dim), device=device)\n",
        "            naction = noisy_action\n",
        "\n",
        "            r = imm.sample(shape=(1, pred_horizon, action_dim), steps=2, global_cond=obs_cond)\n",
        "\n",
        "        # unnormalize action\n",
        "        naction = r.detach().to('cpu').numpy()\n",
        "        # (B, pred_horizon, action_dim)\n",
        "        naction = naction[0]\n",
        "        action_pred = unnormalize_data(naction, stats=stats['action'])\n",
        "\n",
        "        # only take action_horizon number of actions\n",
        "        start = obs_horizon - 1\n",
        "        end = start + action_horizon\n",
        "        action = action_pred[start:end,:]\n",
        "        # (action_horizon, action_dim)\n",
        "\n",
        "        # execute action_horizon number of steps\n",
        "        # without replanning\n",
        "        for i in range(len(action)):\n",
        "            # stepping env\n",
        "            obs, reward, done, _, info = env.step(action[i])\n",
        "            # save observations\n",
        "            obs_deque.append(obs)\n",
        "            # and reward/vis\n",
        "            rewards.append(reward)\n",
        "            imgs.append(env.render(mode='rgb_array'))\n",
        "\n",
        "            # update progress bar\n",
        "            step_idx += 1\n",
        "            pbar.update(1)\n",
        "            pbar.set_postfix(reward=reward)\n",
        "            if step_idx > max_steps:\n",
        "                done = True\n",
        "            if done:\n",
        "                break\n",
        "\n",
        "# print out the maximum target coverage\n",
        "print('Score: ', max(rewards))\n",
        "\n",
        "# visualize\n",
        "from IPython.display import Video\n",
        "vwrite('vis.mp4', imgs)\n",
        "Video('vis.mp4', embed=True, width=256, height=256)"
      ]
    },
    {
      "cell_type": "code",
      "execution_count": null,
      "metadata": {},
      "outputs": [],
      "source": []
    }
  ],
  "metadata": {
    "accelerator": "GPU",
    "colab": {
      "provenance": []
    },
    "gpuClass": "standard",
    "kernelspec": {
      "display_name": "venv",
      "language": "python",
      "name": "python3"
    },
    "language_info": {
      "codemirror_mode": {
        "name": "ipython",
        "version": 3
      },
      "file_extension": ".py",
      "mimetype": "text/x-python",
      "name": "python",
      "nbconvert_exporter": "python",
      "pygments_lexer": "ipython3",
      "version": "3.10.12"
    },
    "widgets": {
      "application/vnd.jupyter.widget-state+json": {
        "019444645b164b92a8da32e94a443d7e": {
          "model_module": "@jupyter-widgets/base",
          "model_module_version": "1.2.0",
          "model_name": "LayoutModel",
          "state": {
            "_model_module": "@jupyter-widgets/base",
            "_model_module_version": "1.2.0",
            "_model_name": "LayoutModel",
            "_view_count": null,
            "_view_module": "@jupyter-widgets/base",
            "_view_module_version": "1.2.0",
            "_view_name": "LayoutView",
            "align_content": null,
            "align_items": null,
            "align_self": null,
            "border": null,
            "bottom": null,
            "display": null,
            "flex": null,
            "flex_flow": null,
            "grid_area": null,
            "grid_auto_columns": null,
            "grid_auto_flow": null,
            "grid_auto_rows": null,
            "grid_column": null,
            "grid_gap": null,
            "grid_row": null,
            "grid_template_areas": null,
            "grid_template_columns": null,
            "grid_template_rows": null,
            "height": null,
            "justify_content": null,
            "justify_items": null,
            "left": null,
            "margin": null,
            "max_height": null,
            "max_width": null,
            "min_height": null,
            "min_width": null,
            "object_fit": null,
            "object_position": null,
            "order": null,
            "overflow": null,
            "overflow_x": null,
            "overflow_y": null,
            "padding": null,
            "right": null,
            "top": null,
            "visibility": null,
            "width": null
          }
        },
        "03bbeb04a4c44206b1671e69864e69c7": {
          "model_module": "@jupyter-widgets/controls",
          "model_module_version": "1.5.0",
          "model_name": "ProgressStyleModel",
          "state": {
            "_model_module": "@jupyter-widgets/controls",
            "_model_module_version": "1.5.0",
            "_model_name": "ProgressStyleModel",
            "_view_count": null,
            "_view_module": "@jupyter-widgets/base",
            "_view_module_version": "1.2.0",
            "_view_name": "StyleView",
            "bar_color": null,
            "description_width": ""
          }
        },
        "0964ed28f2794bdf91e2e2756aae3bc4": {
          "model_module": "@jupyter-widgets/base",
          "model_module_version": "1.2.0",
          "model_name": "LayoutModel",
          "state": {
            "_model_module": "@jupyter-widgets/base",
            "_model_module_version": "1.2.0",
            "_model_name": "LayoutModel",
            "_view_count": null,
            "_view_module": "@jupyter-widgets/base",
            "_view_module_version": "1.2.0",
            "_view_name": "LayoutView",
            "align_content": null,
            "align_items": null,
            "align_self": null,
            "border": null,
            "bottom": null,
            "display": null,
            "flex": null,
            "flex_flow": null,
            "grid_area": null,
            "grid_auto_columns": null,
            "grid_auto_flow": null,
            "grid_auto_rows": null,
            "grid_column": null,
            "grid_gap": null,
            "grid_row": null,
            "grid_template_areas": null,
            "grid_template_columns": null,
            "grid_template_rows": null,
            "height": null,
            "justify_content": null,
            "justify_items": null,
            "left": null,
            "margin": null,
            "max_height": null,
            "max_width": null,
            "min_height": null,
            "min_width": null,
            "object_fit": null,
            "object_position": null,
            "order": null,
            "overflow": null,
            "overflow_x": null,
            "overflow_y": null,
            "padding": null,
            "right": null,
            "top": null,
            "visibility": null,
            "width": null
          }
        },
        "0d687f5624cb4871ad167ebcbcb4c148": {
          "model_module": "@jupyter-widgets/controls",
          "model_module_version": "1.5.0",
          "model_name": "FloatProgressModel",
          "state": {
            "_dom_classes": [],
            "_model_module": "@jupyter-widgets/controls",
            "_model_module_version": "1.5.0",
            "_model_name": "FloatProgressModel",
            "_view_count": null,
            "_view_module": "@jupyter-widgets/controls",
            "_view_module_version": "1.5.0",
            "_view_name": "ProgressView",
            "bar_style": "success",
            "description": "",
            "description_tooltip": null,
            "layout": "IPY_MODEL_116ecf0deb6e44faadb594f2f982c4c2",
            "max": 1,
            "min": 0,
            "orientation": "horizontal",
            "style": "IPY_MODEL_2db415245cbb44c8ab5c208be328fc16",
            "value": 1
          }
        },
        "116ecf0deb6e44faadb594f2f982c4c2": {
          "model_module": "@jupyter-widgets/base",
          "model_module_version": "1.2.0",
          "model_name": "LayoutModel",
          "state": {
            "_model_module": "@jupyter-widgets/base",
            "_model_module_version": "1.2.0",
            "_model_name": "LayoutModel",
            "_view_count": null,
            "_view_module": "@jupyter-widgets/base",
            "_view_module_version": "1.2.0",
            "_view_name": "LayoutView",
            "align_content": null,
            "align_items": null,
            "align_self": null,
            "border": null,
            "bottom": null,
            "display": null,
            "flex": null,
            "flex_flow": null,
            "grid_area": null,
            "grid_auto_columns": null,
            "grid_auto_flow": null,
            "grid_auto_rows": null,
            "grid_column": null,
            "grid_gap": null,
            "grid_row": null,
            "grid_template_areas": null,
            "grid_template_columns": null,
            "grid_template_rows": null,
            "height": null,
            "justify_content": null,
            "justify_items": null,
            "left": null,
            "margin": null,
            "max_height": null,
            "max_width": null,
            "min_height": null,
            "min_width": null,
            "object_fit": null,
            "object_position": null,
            "order": null,
            "overflow": null,
            "overflow_x": null,
            "overflow_y": null,
            "padding": null,
            "right": null,
            "top": null,
            "visibility": null,
            "width": null
          }
        },
        "17d07e24261b4627b1160beeb59c5636": {
          "model_module": "@jupyter-widgets/controls",
          "model_module_version": "1.5.0",
          "model_name": "ProgressStyleModel",
          "state": {
            "_model_module": "@jupyter-widgets/controls",
            "_model_module_version": "1.5.0",
            "_model_name": "ProgressStyleModel",
            "_view_count": null,
            "_view_module": "@jupyter-widgets/base",
            "_view_module_version": "1.2.0",
            "_view_name": "StyleView",
            "bar_color": null,
            "description_width": ""
          }
        },
        "187c8fd96f79429bb0752103d5998401": {
          "model_module": "@jupyter-widgets/base",
          "model_module_version": "1.2.0",
          "model_name": "LayoutModel",
          "state": {
            "_model_module": "@jupyter-widgets/base",
            "_model_module_version": "1.2.0",
            "_model_name": "LayoutModel",
            "_view_count": null,
            "_view_module": "@jupyter-widgets/base",
            "_view_module_version": "1.2.0",
            "_view_name": "LayoutView",
            "align_content": null,
            "align_items": null,
            "align_self": null,
            "border": null,
            "bottom": null,
            "display": null,
            "flex": null,
            "flex_flow": null,
            "grid_area": null,
            "grid_auto_columns": null,
            "grid_auto_flow": null,
            "grid_auto_rows": null,
            "grid_column": null,
            "grid_gap": null,
            "grid_row": null,
            "grid_template_areas": null,
            "grid_template_columns": null,
            "grid_template_rows": null,
            "height": null,
            "justify_content": null,
            "justify_items": null,
            "left": null,
            "margin": null,
            "max_height": null,
            "max_width": null,
            "min_height": null,
            "min_width": null,
            "object_fit": null,
            "object_position": null,
            "order": null,
            "overflow": null,
            "overflow_x": null,
            "overflow_y": null,
            "padding": null,
            "right": null,
            "top": null,
            "visibility": null,
            "width": null
          }
        },
        "1939a1c3cc7a498fa5f05ac737b0af99": {
          "model_module": "@jupyter-widgets/controls",
          "model_module_version": "1.5.0",
          "model_name": "DescriptionStyleModel",
          "state": {
            "_model_module": "@jupyter-widgets/controls",
            "_model_module_version": "1.5.0",
            "_model_name": "DescriptionStyleModel",
            "_view_count": null,
            "_view_module": "@jupyter-widgets/base",
            "_view_module_version": "1.2.0",
            "_view_name": "StyleView",
            "description_width": ""
          }
        },
        "1c17844c76d84675aa1c6e1a973308c8": {
          "model_module": "@jupyter-widgets/controls",
          "model_module_version": "1.5.0",
          "model_name": "HBoxModel",
          "state": {
            "_dom_classes": [],
            "_model_module": "@jupyter-widgets/controls",
            "_model_module_version": "1.5.0",
            "_model_name": "HBoxModel",
            "_view_count": null,
            "_view_module": "@jupyter-widgets/controls",
            "_view_module_version": "1.5.0",
            "_view_name": "HBoxView",
            "box_style": "",
            "children": [
              "IPY_MODEL_aa9489756ac24ba0b523f04a3352a09f",
              "IPY_MODEL_51ff5f151bc9475fa3a5c54f8b60a50e",
              "IPY_MODEL_58656f1d31ac45d3aaef45aa22f69899"
            ],
            "layout": "IPY_MODEL_b9f98d2d7c624a8eae13fa5b422739ce"
          }
        },
        "269772eda6cc4449bbba9e1e684b442c": {
          "model_module": "@jupyter-widgets/base",
          "model_module_version": "1.2.0",
          "model_name": "LayoutModel",
          "state": {
            "_model_module": "@jupyter-widgets/base",
            "_model_module_version": "1.2.0",
            "_model_name": "LayoutModel",
            "_view_count": null,
            "_view_module": "@jupyter-widgets/base",
            "_view_module_version": "1.2.0",
            "_view_name": "LayoutView",
            "align_content": null,
            "align_items": null,
            "align_self": null,
            "border": null,
            "bottom": null,
            "display": null,
            "flex": null,
            "flex_flow": null,
            "grid_area": null,
            "grid_auto_columns": null,
            "grid_auto_flow": null,
            "grid_auto_rows": null,
            "grid_column": null,
            "grid_gap": null,
            "grid_row": null,
            "grid_template_areas": null,
            "grid_template_columns": null,
            "grid_template_rows": null,
            "height": null,
            "justify_content": null,
            "justify_items": null,
            "left": null,
            "margin": null,
            "max_height": null,
            "max_width": null,
            "min_height": null,
            "min_width": null,
            "object_fit": null,
            "object_position": null,
            "order": null,
            "overflow": null,
            "overflow_x": null,
            "overflow_y": null,
            "padding": null,
            "right": null,
            "top": null,
            "visibility": null,
            "width": null
          }
        },
        "2db415245cbb44c8ab5c208be328fc16": {
          "model_module": "@jupyter-widgets/controls",
          "model_module_version": "1.5.0",
          "model_name": "ProgressStyleModel",
          "state": {
            "_model_module": "@jupyter-widgets/controls",
            "_model_module_version": "1.5.0",
            "_model_name": "ProgressStyleModel",
            "_view_count": null,
            "_view_module": "@jupyter-widgets/base",
            "_view_module_version": "1.2.0",
            "_view_name": "StyleView",
            "bar_color": null,
            "description_width": ""
          }
        },
        "36c1a61163804f9a825638c6c8d962ed": {
          "model_module": "@jupyter-widgets/controls",
          "model_module_version": "1.5.0",
          "model_name": "FloatProgressModel",
          "state": {
            "_dom_classes": [],
            "_model_module": "@jupyter-widgets/controls",
            "_model_module_version": "1.5.0",
            "_model_name": "FloatProgressModel",
            "_view_count": null,
            "_view_module": "@jupyter-widgets/controls",
            "_view_module_version": "1.5.0",
            "_view_name": "ProgressView",
            "bar_style": "",
            "description": "",
            "description_tooltip": null,
            "layout": "IPY_MODEL_a26e0dce0a86491db71a731f570f1a80",
            "max": 95,
            "min": 0,
            "orientation": "horizontal",
            "style": "IPY_MODEL_fe61754736d04d539c3f941049b5922a",
            "value": 95
          }
        },
        "3a5463e9f9864ca2b52fe9cd28f4a8b8": {
          "model_module": "@jupyter-widgets/controls",
          "model_module_version": "1.5.0",
          "model_name": "DescriptionStyleModel",
          "state": {
            "_model_module": "@jupyter-widgets/controls",
            "_model_module_version": "1.5.0",
            "_model_name": "DescriptionStyleModel",
            "_view_count": null,
            "_view_module": "@jupyter-widgets/base",
            "_view_module_version": "1.2.0",
            "_view_name": "StyleView",
            "description_width": ""
          }
        },
        "49d5ffd9eb81491f95df70e66c0c94e4": {
          "model_module": "@jupyter-widgets/controls",
          "model_module_version": "1.5.0",
          "model_name": "HBoxModel",
          "state": {
            "_dom_classes": [],
            "_model_module": "@jupyter-widgets/controls",
            "_model_module_version": "1.5.0",
            "_model_name": "HBoxModel",
            "_view_count": null,
            "_view_module": "@jupyter-widgets/controls",
            "_view_module_version": "1.5.0",
            "_view_name": "HBoxView",
            "box_style": "",
            "children": [
              "IPY_MODEL_9a3d8fbcc3e548e1a56d25c10b321e6a",
              "IPY_MODEL_6cf470f12c174e94b0b058cfba9b5fb2",
              "IPY_MODEL_9b6de90b3dbc4877966b2d5233189866"
            ],
            "layout": "IPY_MODEL_4b3aeac3e8e74b8f8dab0dc9ad0b7c94"
          }
        },
        "4b3aeac3e8e74b8f8dab0dc9ad0b7c94": {
          "model_module": "@jupyter-widgets/base",
          "model_module_version": "1.2.0",
          "model_name": "LayoutModel",
          "state": {
            "_model_module": "@jupyter-widgets/base",
            "_model_module_version": "1.2.0",
            "_model_name": "LayoutModel",
            "_view_count": null,
            "_view_module": "@jupyter-widgets/base",
            "_view_module_version": "1.2.0",
            "_view_name": "LayoutView",
            "align_content": null,
            "align_items": null,
            "align_self": null,
            "border": null,
            "bottom": null,
            "display": null,
            "flex": null,
            "flex_flow": null,
            "grid_area": null,
            "grid_auto_columns": null,
            "grid_auto_flow": null,
            "grid_auto_rows": null,
            "grid_column": null,
            "grid_gap": null,
            "grid_row": null,
            "grid_template_areas": null,
            "grid_template_columns": null,
            "grid_template_rows": null,
            "height": null,
            "justify_content": null,
            "justify_items": null,
            "left": null,
            "margin": null,
            "max_height": null,
            "max_width": null,
            "min_height": null,
            "min_width": null,
            "object_fit": null,
            "object_position": null,
            "order": null,
            "overflow": null,
            "overflow_x": null,
            "overflow_y": null,
            "padding": null,
            "right": null,
            "top": null,
            "visibility": null,
            "width": null
          }
        },
        "51ff5f151bc9475fa3a5c54f8b60a50e": {
          "model_module": "@jupyter-widgets/controls",
          "model_module_version": "1.5.0",
          "model_name": "FloatProgressModel",
          "state": {
            "_dom_classes": [],
            "_model_module": "@jupyter-widgets/controls",
            "_model_module_version": "1.5.0",
            "_model_name": "FloatProgressModel",
            "_view_count": null,
            "_view_module": "@jupyter-widgets/controls",
            "_view_module_version": "1.5.0",
            "_view_name": "ProgressView",
            "bar_style": "success",
            "description": "",
            "description_tooltip": null,
            "layout": "IPY_MODEL_187c8fd96f79429bb0752103d5998401",
            "max": 200,
            "min": 0,
            "orientation": "horizontal",
            "style": "IPY_MODEL_17d07e24261b4627b1160beeb59c5636",
            "value": 200
          }
        },
        "5352c2178612408aa84a3732d98a62ea": {
          "model_module": "@jupyter-widgets/controls",
          "model_module_version": "1.5.0",
          "model_name": "HBoxModel",
          "state": {
            "_dom_classes": [],
            "_model_module": "@jupyter-widgets/controls",
            "_model_module_version": "1.5.0",
            "_model_name": "HBoxModel",
            "_view_count": null,
            "_view_module": "@jupyter-widgets/controls",
            "_view_module_version": "1.5.0",
            "_view_name": "HBoxView",
            "box_style": "",
            "children": [
              "IPY_MODEL_f451b98692b64b54a0e8a3643a9bf992",
              "IPY_MODEL_36c1a61163804f9a825638c6c8d962ed",
              "IPY_MODEL_c2d84f324ecd4789b9b3420591f6186d"
            ],
            "layout": "IPY_MODEL_6d4ec5c2f9624d398f0d9fc27d84cadb"
          }
        },
        "567e3614e80743e5ae1f8e3c75a65b45": {
          "model_module": "@jupyter-widgets/controls",
          "model_module_version": "1.5.0",
          "model_name": "DescriptionStyleModel",
          "state": {
            "_model_module": "@jupyter-widgets/controls",
            "_model_module_version": "1.5.0",
            "_model_name": "DescriptionStyleModel",
            "_view_count": null,
            "_view_module": "@jupyter-widgets/base",
            "_view_module_version": "1.2.0",
            "_view_name": "StyleView",
            "description_width": ""
          }
        },
        "583a530a9c0442f2b762b281caa4836d": {
          "model_module": "@jupyter-widgets/controls",
          "model_module_version": "1.5.0",
          "model_name": "DescriptionStyleModel",
          "state": {
            "_model_module": "@jupyter-widgets/controls",
            "_model_module_version": "1.5.0",
            "_model_name": "DescriptionStyleModel",
            "_view_count": null,
            "_view_module": "@jupyter-widgets/base",
            "_view_module_version": "1.2.0",
            "_view_name": "StyleView",
            "description_width": ""
          }
        },
        "58656f1d31ac45d3aaef45aa22f69899": {
          "model_module": "@jupyter-widgets/controls",
          "model_module_version": "1.5.0",
          "model_name": "HTMLModel",
          "state": {
            "_dom_classes": [],
            "_model_module": "@jupyter-widgets/controls",
            "_model_module_version": "1.5.0",
            "_model_name": "HTMLModel",
            "_view_count": null,
            "_view_module": "@jupyter-widgets/controls",
            "_view_module_version": "1.5.0",
            "_view_name": "HTMLView",
            "description": "",
            "description_tooltip": null,
            "layout": "IPY_MODEL_269772eda6cc4449bbba9e1e684b442c",
            "placeholder": "​",
            "style": "IPY_MODEL_7cad813857df45f3ad617c74c68a619e",
            "value": " 201/? [00:37&lt;00:00,  6.07it/s, reward=0.875]"
          }
        },
        "5b6eaafac1574f7481e3bb2e20e598b3": {
          "model_module": "@jupyter-widgets/controls",
          "model_module_version": "1.5.0",
          "model_name": "DescriptionStyleModel",
          "state": {
            "_model_module": "@jupyter-widgets/controls",
            "_model_module_version": "1.5.0",
            "_model_name": "DescriptionStyleModel",
            "_view_count": null,
            "_view_module": "@jupyter-widgets/base",
            "_view_module_version": "1.2.0",
            "_view_name": "StyleView",
            "description_width": ""
          }
        },
        "657a261a272d466e8bfd532279a401a1": {
          "model_module": "@jupyter-widgets/base",
          "model_module_version": "1.2.0",
          "model_name": "LayoutModel",
          "state": {
            "_model_module": "@jupyter-widgets/base",
            "_model_module_version": "1.2.0",
            "_model_name": "LayoutModel",
            "_view_count": null,
            "_view_module": "@jupyter-widgets/base",
            "_view_module_version": "1.2.0",
            "_view_name": "LayoutView",
            "align_content": null,
            "align_items": null,
            "align_self": null,
            "border": null,
            "bottom": null,
            "display": null,
            "flex": null,
            "flex_flow": null,
            "grid_area": null,
            "grid_auto_columns": null,
            "grid_auto_flow": null,
            "grid_auto_rows": null,
            "grid_column": null,
            "grid_gap": null,
            "grid_row": null,
            "grid_template_areas": null,
            "grid_template_columns": null,
            "grid_template_rows": null,
            "height": null,
            "justify_content": null,
            "justify_items": null,
            "left": null,
            "margin": null,
            "max_height": null,
            "max_width": null,
            "min_height": null,
            "min_width": null,
            "object_fit": null,
            "object_position": null,
            "order": null,
            "overflow": null,
            "overflow_x": null,
            "overflow_y": null,
            "padding": null,
            "right": null,
            "top": null,
            "visibility": null,
            "width": null
          }
        },
        "6cf470f12c174e94b0b058cfba9b5fb2": {
          "model_module": "@jupyter-widgets/controls",
          "model_module_version": "1.5.0",
          "model_name": "FloatProgressModel",
          "state": {
            "_dom_classes": [],
            "_model_module": "@jupyter-widgets/controls",
            "_model_module_version": "1.5.0",
            "_model_name": "FloatProgressModel",
            "_view_count": null,
            "_view_module": "@jupyter-widgets/controls",
            "_view_module_version": "1.5.0",
            "_view_name": "ProgressView",
            "bar_style": "success",
            "description": "",
            "description_tooltip": null,
            "layout": "IPY_MODEL_c7d2c3f8b3714a0d911a132c74589ce1",
            "max": 1,
            "min": 0,
            "orientation": "horizontal",
            "style": "IPY_MODEL_03bbeb04a4c44206b1671e69864e69c7",
            "value": 0
          }
        },
        "6d4dfa99470e40559bebd6689305f155": {
          "model_module": "@jupyter-widgets/base",
          "model_module_version": "1.2.0",
          "model_name": "LayoutModel",
          "state": {
            "_model_module": "@jupyter-widgets/base",
            "_model_module_version": "1.2.0",
            "_model_name": "LayoutModel",
            "_view_count": null,
            "_view_module": "@jupyter-widgets/base",
            "_view_module_version": "1.2.0",
            "_view_name": "LayoutView",
            "align_content": null,
            "align_items": null,
            "align_self": null,
            "border": null,
            "bottom": null,
            "display": null,
            "flex": null,
            "flex_flow": null,
            "grid_area": null,
            "grid_auto_columns": null,
            "grid_auto_flow": null,
            "grid_auto_rows": null,
            "grid_column": null,
            "grid_gap": null,
            "grid_row": null,
            "grid_template_areas": null,
            "grid_template_columns": null,
            "grid_template_rows": null,
            "height": null,
            "justify_content": null,
            "justify_items": null,
            "left": null,
            "margin": null,
            "max_height": null,
            "max_width": null,
            "min_height": null,
            "min_width": null,
            "object_fit": null,
            "object_position": null,
            "order": null,
            "overflow": null,
            "overflow_x": null,
            "overflow_y": null,
            "padding": null,
            "right": null,
            "top": null,
            "visibility": null,
            "width": null
          }
        },
        "6d4ec5c2f9624d398f0d9fc27d84cadb": {
          "model_module": "@jupyter-widgets/base",
          "model_module_version": "1.2.0",
          "model_name": "LayoutModel",
          "state": {
            "_model_module": "@jupyter-widgets/base",
            "_model_module_version": "1.2.0",
            "_model_name": "LayoutModel",
            "_view_count": null,
            "_view_module": "@jupyter-widgets/base",
            "_view_module_version": "1.2.0",
            "_view_name": "LayoutView",
            "align_content": null,
            "align_items": null,
            "align_self": null,
            "border": null,
            "bottom": null,
            "display": null,
            "flex": null,
            "flex_flow": null,
            "grid_area": null,
            "grid_auto_columns": null,
            "grid_auto_flow": null,
            "grid_auto_rows": null,
            "grid_column": null,
            "grid_gap": null,
            "grid_row": null,
            "grid_template_areas": null,
            "grid_template_columns": null,
            "grid_template_rows": null,
            "height": null,
            "justify_content": null,
            "justify_items": null,
            "left": null,
            "margin": null,
            "max_height": null,
            "max_width": null,
            "min_height": null,
            "min_width": null,
            "object_fit": null,
            "object_position": null,
            "order": null,
            "overflow": null,
            "overflow_x": null,
            "overflow_y": null,
            "padding": null,
            "right": null,
            "top": null,
            "visibility": "hidden",
            "width": null
          }
        },
        "7cad813857df45f3ad617c74c68a619e": {
          "model_module": "@jupyter-widgets/controls",
          "model_module_version": "1.5.0",
          "model_name": "DescriptionStyleModel",
          "state": {
            "_model_module": "@jupyter-widgets/controls",
            "_model_module_version": "1.5.0",
            "_model_name": "DescriptionStyleModel",
            "_view_count": null,
            "_view_module": "@jupyter-widgets/base",
            "_view_module_version": "1.2.0",
            "_view_name": "StyleView",
            "description_width": ""
          }
        },
        "82a5a8a6be3a41209de270d5072838a2": {
          "model_module": "@jupyter-widgets/controls",
          "model_module_version": "1.5.0",
          "model_name": "HTMLModel",
          "state": {
            "_dom_classes": [],
            "_model_module": "@jupyter-widgets/controls",
            "_model_module_version": "1.5.0",
            "_model_name": "HTMLModel",
            "_view_count": null,
            "_view_module": "@jupyter-widgets/controls",
            "_view_module_version": "1.5.0",
            "_view_name": "HTMLView",
            "description": "",
            "description_tooltip": null,
            "layout": "IPY_MODEL_ed0c7c76b76d40c9b25ca92abb00cf34",
            "placeholder": "​",
            "style": "IPY_MODEL_3a5463e9f9864ca2b52fe9cd28f4a8b8",
            "value": " 1/1 [00:32&lt;00:00, 32.94s/it, loss=0.0523]"
          }
        },
        "83bd2cb0ca534108804cdc298d8b26c6": {
          "model_module": "@jupyter-widgets/controls",
          "model_module_version": "1.5.0",
          "model_name": "DescriptionStyleModel",
          "state": {
            "_model_module": "@jupyter-widgets/controls",
            "_model_module_version": "1.5.0",
            "_model_name": "DescriptionStyleModel",
            "_view_count": null,
            "_view_module": "@jupyter-widgets/base",
            "_view_module_version": "1.2.0",
            "_view_name": "StyleView",
            "description_width": ""
          }
        },
        "9a3d8fbcc3e548e1a56d25c10b321e6a": {
          "model_module": "@jupyter-widgets/controls",
          "model_module_version": "1.5.0",
          "model_name": "HTMLModel",
          "state": {
            "_dom_classes": [],
            "_model_module": "@jupyter-widgets/controls",
            "_model_module_version": "1.5.0",
            "_model_name": "HTMLModel",
            "_view_count": null,
            "_view_module": "@jupyter-widgets/controls",
            "_view_module_version": "1.5.0",
            "_view_name": "HTMLView",
            "description": "",
            "description_tooltip": null,
            "layout": "IPY_MODEL_ac6375a33ca84241b50638edb6321112",
            "placeholder": "​",
            "style": "IPY_MODEL_583a530a9c0442f2b762b281caa4836d",
            "value": ""
          }
        },
        "9b6de90b3dbc4877966b2d5233189866": {
          "model_module": "@jupyter-widgets/controls",
          "model_module_version": "1.5.0",
          "model_name": "HTMLModel",
          "state": {
            "_dom_classes": [],
            "_model_module": "@jupyter-widgets/controls",
            "_model_module_version": "1.5.0",
            "_model_name": "HTMLModel",
            "_view_count": null,
            "_view_module": "@jupyter-widgets/controls",
            "_view_module_version": "1.5.0",
            "_view_name": "HTMLView",
            "description": "",
            "description_tooltip": null,
            "layout": "IPY_MODEL_b2331069d969430b87c47e6f11fb2a9e",
            "placeholder": "​",
            "style": "IPY_MODEL_c8c282ba14c14da28ba421abc7119cf9",
            "value": " 0/0 [00:00&lt;?, ?it/s]"
          }
        },
        "a26e0dce0a86491db71a731f570f1a80": {
          "model_module": "@jupyter-widgets/base",
          "model_module_version": "1.2.0",
          "model_name": "LayoutModel",
          "state": {
            "_model_module": "@jupyter-widgets/base",
            "_model_module_version": "1.2.0",
            "_model_name": "LayoutModel",
            "_view_count": null,
            "_view_module": "@jupyter-widgets/base",
            "_view_module_version": "1.2.0",
            "_view_name": "LayoutView",
            "align_content": null,
            "align_items": null,
            "align_self": null,
            "border": null,
            "bottom": null,
            "display": null,
            "flex": null,
            "flex_flow": null,
            "grid_area": null,
            "grid_auto_columns": null,
            "grid_auto_flow": null,
            "grid_auto_rows": null,
            "grid_column": null,
            "grid_gap": null,
            "grid_row": null,
            "grid_template_areas": null,
            "grid_template_columns": null,
            "grid_template_rows": null,
            "height": null,
            "justify_content": null,
            "justify_items": null,
            "left": null,
            "margin": null,
            "max_height": null,
            "max_width": null,
            "min_height": null,
            "min_width": null,
            "object_fit": null,
            "object_position": null,
            "order": null,
            "overflow": null,
            "overflow_x": null,
            "overflow_y": null,
            "padding": null,
            "right": null,
            "top": null,
            "visibility": null,
            "width": null
          }
        },
        "aa9489756ac24ba0b523f04a3352a09f": {
          "model_module": "@jupyter-widgets/controls",
          "model_module_version": "1.5.0",
          "model_name": "HTMLModel",
          "state": {
            "_dom_classes": [],
            "_model_module": "@jupyter-widgets/controls",
            "_model_module_version": "1.5.0",
            "_model_name": "HTMLModel",
            "_view_count": null,
            "_view_module": "@jupyter-widgets/controls",
            "_view_module_version": "1.5.0",
            "_view_name": "HTMLView",
            "description": "",
            "description_tooltip": null,
            "layout": "IPY_MODEL_b72ff2e7020f447fb492c1e9f69a0174",
            "placeholder": "​",
            "style": "IPY_MODEL_567e3614e80743e5ae1f8e3c75a65b45",
            "value": "Eval PushTStateEnv: "
          }
        },
        "ac6375a33ca84241b50638edb6321112": {
          "model_module": "@jupyter-widgets/base",
          "model_module_version": "1.2.0",
          "model_name": "LayoutModel",
          "state": {
            "_model_module": "@jupyter-widgets/base",
            "_model_module_version": "1.2.0",
            "_model_name": "LayoutModel",
            "_view_count": null,
            "_view_module": "@jupyter-widgets/base",
            "_view_module_version": "1.2.0",
            "_view_name": "LayoutView",
            "align_content": null,
            "align_items": null,
            "align_self": null,
            "border": null,
            "bottom": null,
            "display": null,
            "flex": null,
            "flex_flow": null,
            "grid_area": null,
            "grid_auto_columns": null,
            "grid_auto_flow": null,
            "grid_auto_rows": null,
            "grid_column": null,
            "grid_gap": null,
            "grid_row": null,
            "grid_template_areas": null,
            "grid_template_columns": null,
            "grid_template_rows": null,
            "height": null,
            "justify_content": null,
            "justify_items": null,
            "left": null,
            "margin": null,
            "max_height": null,
            "max_width": null,
            "min_height": null,
            "min_width": null,
            "object_fit": null,
            "object_position": null,
            "order": null,
            "overflow": null,
            "overflow_x": null,
            "overflow_y": null,
            "padding": null,
            "right": null,
            "top": null,
            "visibility": null,
            "width": null
          }
        },
        "b2331069d969430b87c47e6f11fb2a9e": {
          "model_module": "@jupyter-widgets/base",
          "model_module_version": "1.2.0",
          "model_name": "LayoutModel",
          "state": {
            "_model_module": "@jupyter-widgets/base",
            "_model_module_version": "1.2.0",
            "_model_name": "LayoutModel",
            "_view_count": null,
            "_view_module": "@jupyter-widgets/base",
            "_view_module_version": "1.2.0",
            "_view_name": "LayoutView",
            "align_content": null,
            "align_items": null,
            "align_self": null,
            "border": null,
            "bottom": null,
            "display": null,
            "flex": null,
            "flex_flow": null,
            "grid_area": null,
            "grid_auto_columns": null,
            "grid_auto_flow": null,
            "grid_auto_rows": null,
            "grid_column": null,
            "grid_gap": null,
            "grid_row": null,
            "grid_template_areas": null,
            "grid_template_columns": null,
            "grid_template_rows": null,
            "height": null,
            "justify_content": null,
            "justify_items": null,
            "left": null,
            "margin": null,
            "max_height": null,
            "max_width": null,
            "min_height": null,
            "min_width": null,
            "object_fit": null,
            "object_position": null,
            "order": null,
            "overflow": null,
            "overflow_x": null,
            "overflow_y": null,
            "padding": null,
            "right": null,
            "top": null,
            "visibility": null,
            "width": null
          }
        },
        "b72ff2e7020f447fb492c1e9f69a0174": {
          "model_module": "@jupyter-widgets/base",
          "model_module_version": "1.2.0",
          "model_name": "LayoutModel",
          "state": {
            "_model_module": "@jupyter-widgets/base",
            "_model_module_version": "1.2.0",
            "_model_name": "LayoutModel",
            "_view_count": null,
            "_view_module": "@jupyter-widgets/base",
            "_view_module_version": "1.2.0",
            "_view_name": "LayoutView",
            "align_content": null,
            "align_items": null,
            "align_self": null,
            "border": null,
            "bottom": null,
            "display": null,
            "flex": null,
            "flex_flow": null,
            "grid_area": null,
            "grid_auto_columns": null,
            "grid_auto_flow": null,
            "grid_auto_rows": null,
            "grid_column": null,
            "grid_gap": null,
            "grid_row": null,
            "grid_template_areas": null,
            "grid_template_columns": null,
            "grid_template_rows": null,
            "height": null,
            "justify_content": null,
            "justify_items": null,
            "left": null,
            "margin": null,
            "max_height": null,
            "max_width": null,
            "min_height": null,
            "min_width": null,
            "object_fit": null,
            "object_position": null,
            "order": null,
            "overflow": null,
            "overflow_x": null,
            "overflow_y": null,
            "padding": null,
            "right": null,
            "top": null,
            "visibility": null,
            "width": null
          }
        },
        "b9f98d2d7c624a8eae13fa5b422739ce": {
          "model_module": "@jupyter-widgets/base",
          "model_module_version": "1.2.0",
          "model_name": "LayoutModel",
          "state": {
            "_model_module": "@jupyter-widgets/base",
            "_model_module_version": "1.2.0",
            "_model_name": "LayoutModel",
            "_view_count": null,
            "_view_module": "@jupyter-widgets/base",
            "_view_module_version": "1.2.0",
            "_view_name": "LayoutView",
            "align_content": null,
            "align_items": null,
            "align_self": null,
            "border": null,
            "bottom": null,
            "display": null,
            "flex": null,
            "flex_flow": null,
            "grid_area": null,
            "grid_auto_columns": null,
            "grid_auto_flow": null,
            "grid_auto_rows": null,
            "grid_column": null,
            "grid_gap": null,
            "grid_row": null,
            "grid_template_areas": null,
            "grid_template_columns": null,
            "grid_template_rows": null,
            "height": null,
            "justify_content": null,
            "justify_items": null,
            "left": null,
            "margin": null,
            "max_height": null,
            "max_width": null,
            "min_height": null,
            "min_width": null,
            "object_fit": null,
            "object_position": null,
            "order": null,
            "overflow": null,
            "overflow_x": null,
            "overflow_y": null,
            "padding": null,
            "right": null,
            "top": null,
            "visibility": null,
            "width": null
          }
        },
        "c29b0972b22d4dc59844ea958abf7bd1": {
          "model_module": "@jupyter-widgets/controls",
          "model_module_version": "1.5.0",
          "model_name": "HBoxModel",
          "state": {
            "_dom_classes": [],
            "_model_module": "@jupyter-widgets/controls",
            "_model_module_version": "1.5.0",
            "_model_name": "HBoxModel",
            "_view_count": null,
            "_view_module": "@jupyter-widgets/controls",
            "_view_module_version": "1.5.0",
            "_view_name": "HBoxView",
            "box_style": "",
            "children": [
              "IPY_MODEL_df7b2e7c39944341be1a091331fd7cc6",
              "IPY_MODEL_0d687f5624cb4871ad167ebcbcb4c148",
              "IPY_MODEL_82a5a8a6be3a41209de270d5072838a2"
            ],
            "layout": "IPY_MODEL_6d4dfa99470e40559bebd6689305f155"
          }
        },
        "c2d84f324ecd4789b9b3420591f6186d": {
          "model_module": "@jupyter-widgets/controls",
          "model_module_version": "1.5.0",
          "model_name": "HTMLModel",
          "state": {
            "_dom_classes": [],
            "_model_module": "@jupyter-widgets/controls",
            "_model_module_version": "1.5.0",
            "_model_name": "HTMLModel",
            "_view_count": null,
            "_view_module": "@jupyter-widgets/controls",
            "_view_module_version": "1.5.0",
            "_view_name": "HTMLView",
            "description": "",
            "description_tooltip": null,
            "layout": "IPY_MODEL_657a261a272d466e8bfd532279a401a1",
            "placeholder": "​",
            "style": "IPY_MODEL_5b6eaafac1574f7481e3bb2e20e598b3",
            "value": " 95/95 [00:32&lt;00:00,  3.08it/s, loss=0.0484]"
          }
        },
        "c7d2c3f8b3714a0d911a132c74589ce1": {
          "model_module": "@jupyter-widgets/base",
          "model_module_version": "1.2.0",
          "model_name": "LayoutModel",
          "state": {
            "_model_module": "@jupyter-widgets/base",
            "_model_module_version": "1.2.0",
            "_model_name": "LayoutModel",
            "_view_count": null,
            "_view_module": "@jupyter-widgets/base",
            "_view_module_version": "1.2.0",
            "_view_name": "LayoutView",
            "align_content": null,
            "align_items": null,
            "align_self": null,
            "border": null,
            "bottom": null,
            "display": null,
            "flex": null,
            "flex_flow": null,
            "grid_area": null,
            "grid_auto_columns": null,
            "grid_auto_flow": null,
            "grid_auto_rows": null,
            "grid_column": null,
            "grid_gap": null,
            "grid_row": null,
            "grid_template_areas": null,
            "grid_template_columns": null,
            "grid_template_rows": null,
            "height": null,
            "justify_content": null,
            "justify_items": null,
            "left": null,
            "margin": null,
            "max_height": null,
            "max_width": null,
            "min_height": null,
            "min_width": null,
            "object_fit": null,
            "object_position": null,
            "order": null,
            "overflow": null,
            "overflow_x": null,
            "overflow_y": null,
            "padding": null,
            "right": null,
            "top": null,
            "visibility": null,
            "width": "20px"
          }
        },
        "c8c282ba14c14da28ba421abc7119cf9": {
          "model_module": "@jupyter-widgets/controls",
          "model_module_version": "1.5.0",
          "model_name": "DescriptionStyleModel",
          "state": {
            "_model_module": "@jupyter-widgets/controls",
            "_model_module_version": "1.5.0",
            "_model_name": "DescriptionStyleModel",
            "_view_count": null,
            "_view_module": "@jupyter-widgets/base",
            "_view_module_version": "1.2.0",
            "_view_name": "StyleView",
            "description_width": ""
          }
        },
        "df7b2e7c39944341be1a091331fd7cc6": {
          "model_module": "@jupyter-widgets/controls",
          "model_module_version": "1.5.0",
          "model_name": "HTMLModel",
          "state": {
            "_dom_classes": [],
            "_model_module": "@jupyter-widgets/controls",
            "_model_module_version": "1.5.0",
            "_model_name": "HTMLModel",
            "_view_count": null,
            "_view_module": "@jupyter-widgets/controls",
            "_view_module_version": "1.5.0",
            "_view_name": "HTMLView",
            "description": "",
            "description_tooltip": null,
            "layout": "IPY_MODEL_0964ed28f2794bdf91e2e2756aae3bc4",
            "placeholder": "​",
            "style": "IPY_MODEL_1939a1c3cc7a498fa5f05ac737b0af99",
            "value": "Epoch: 100%"
          }
        },
        "ed0c7c76b76d40c9b25ca92abb00cf34": {
          "model_module": "@jupyter-widgets/base",
          "model_module_version": "1.2.0",
          "model_name": "LayoutModel",
          "state": {
            "_model_module": "@jupyter-widgets/base",
            "_model_module_version": "1.2.0",
            "_model_name": "LayoutModel",
            "_view_count": null,
            "_view_module": "@jupyter-widgets/base",
            "_view_module_version": "1.2.0",
            "_view_name": "LayoutView",
            "align_content": null,
            "align_items": null,
            "align_self": null,
            "border": null,
            "bottom": null,
            "display": null,
            "flex": null,
            "flex_flow": null,
            "grid_area": null,
            "grid_auto_columns": null,
            "grid_auto_flow": null,
            "grid_auto_rows": null,
            "grid_column": null,
            "grid_gap": null,
            "grid_row": null,
            "grid_template_areas": null,
            "grid_template_columns": null,
            "grid_template_rows": null,
            "height": null,
            "justify_content": null,
            "justify_items": null,
            "left": null,
            "margin": null,
            "max_height": null,
            "max_width": null,
            "min_height": null,
            "min_width": null,
            "object_fit": null,
            "object_position": null,
            "order": null,
            "overflow": null,
            "overflow_x": null,
            "overflow_y": null,
            "padding": null,
            "right": null,
            "top": null,
            "visibility": null,
            "width": null
          }
        },
        "f451b98692b64b54a0e8a3643a9bf992": {
          "model_module": "@jupyter-widgets/controls",
          "model_module_version": "1.5.0",
          "model_name": "HTMLModel",
          "state": {
            "_dom_classes": [],
            "_model_module": "@jupyter-widgets/controls",
            "_model_module_version": "1.5.0",
            "_model_name": "HTMLModel",
            "_view_count": null,
            "_view_module": "@jupyter-widgets/controls",
            "_view_module_version": "1.5.0",
            "_view_name": "HTMLView",
            "description": "",
            "description_tooltip": null,
            "layout": "IPY_MODEL_019444645b164b92a8da32e94a443d7e",
            "placeholder": "​",
            "style": "IPY_MODEL_83bd2cb0ca534108804cdc298d8b26c6",
            "value": "Batch: 100%"
          }
        },
        "fe61754736d04d539c3f941049b5922a": {
          "model_module": "@jupyter-widgets/controls",
          "model_module_version": "1.5.0",
          "model_name": "ProgressStyleModel",
          "state": {
            "_model_module": "@jupyter-widgets/controls",
            "_model_module_version": "1.5.0",
            "_model_name": "ProgressStyleModel",
            "_view_count": null,
            "_view_module": "@jupyter-widgets/base",
            "_view_module_version": "1.2.0",
            "_view_name": "StyleView",
            "bar_color": null,
            "description_width": ""
          }
        }
      }
    }
  },
  "nbformat": 4,
  "nbformat_minor": 0
}
